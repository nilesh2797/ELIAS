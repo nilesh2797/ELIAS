{
 "cells": [
  {
   "cell_type": "code",
   "execution_count": 1,
   "metadata": {
    "ExecuteTime": {
     "end_time": "2022-05-17T10:02:33.569905Z",
     "start_time": "2022-05-17T10:02:33.554014Z"
    }
   },
   "outputs": [
    {
     "name": "stderr",
     "output_type": "stream",
     "text": [
      "/tmp/ipykernel_155508/959448426.py:1: DeprecationWarning: Importing display from IPython.core.display is deprecated since IPython 7.14, please import from IPython display\n",
      "  from IPython.core.display import display, HTML\n"
     ]
    },
    {
     "data": {
      "text/html": [
       "<style>.container { width:100% !important; }</style>"
      ],
      "text/plain": [
       "<IPython.core.display.HTML object>"
      ]
     },
     "metadata": {},
     "output_type": "display_data"
    }
   ],
   "source": [
    "from IPython.core.display import display, HTML\n",
    "display(HTML(\"<style>.container { width:100% !important; }</style>\"))\n",
    "\n",
    "def PLOG(msg, attr='yellow'):\n",
    "    print(_c(f'\\n<<{\"-\"*(50-(len(msg)+1)//2)} {msg} {\"-\"*(50-len(msg)//2)}>>', attr=attr), flush=True)"
   ]
  },
  {
   "cell_type": "code",
   "execution_count": 3,
   "metadata": {
    "ExecuteTime": {
     "end_time": "2022-05-17T10:02:34.862677Z",
     "start_time": "2022-05-17T10:02:34.859497Z"
    }
   },
   "outputs": [],
   "source": [
    "# command = \" --dataset ShoppingAds-100K \\\n",
    "#             --maxlen 32 \\\n",
    "#             --net elias \\\n",
    "#             --stage 1 \\\n",
    "#             --loss joint \\\n",
    "#             --xc-lr 1e-1 \\\n",
    "#             --enc-lr 1e-5 \\\n",
    "#             --bsz 1024 \\\n",
    "#             --W-accum-steps 10 \\\n",
    "#             --no-amp-encode \\\n",
    "#             --cmat-seed -1 \\\n",
    "#             --device cuda:11 \\\n",
    "#             --joint-loss-gamma 0 \\\n",
    "#             --clf-dim 0\"\n",
    "\n",
    "command = \" --dataset amazon-670k \\\n",
    "            --expname Stage-1-0 \\\n",
    "            --num-epochs 0\""
   ]
  },
  {
   "cell_type": "markdown",
   "metadata": {
    "heading_collapsed": true
   },
   "source": [
    "## Initialize"
   ]
  },
  {
   "cell_type": "code",
   "execution_count": 4,
   "metadata": {
    "ExecuteTime": {
     "end_time": "2022-05-17T10:02:36.384254Z",
     "start_time": "2022-05-17T10:02:36.377446Z"
    },
    "hidden": true
   },
   "outputs": [
    {
     "data": {
      "application/javascript": [
       "IPython.notebook.kernel.execute('nb_name = \"' + IPython.notebook.notebook_name + '\"')\n"
      ],
      "text/plain": [
       "<IPython.core.display.Javascript object>"
      ]
     },
     "metadata": {},
     "output_type": "display_data"
    }
   ],
   "source": [
    "%%javascript\n",
    "IPython.notebook.kernel.execute('nb_name = \"' + IPython.notebook.notebook_name + '\"')"
   ]
  },
  {
   "cell_type": "code",
   "execution_count": 5,
   "metadata": {
    "ExecuteTime": {
     "end_time": "2022-05-17T10:02:40.185652Z",
     "start_time": "2022-05-17T10:02:38.043708Z"
    },
    "hidden": true
   },
   "outputs": [
    {
     "name": "stderr",
     "output_type": "stream",
     "text": [
      "Your CPU supports instructions that this binary was not compiled to use: SSE3 SSE4.1 SSE4.2 AVX AVX2\n",
      "For maximum performance, you can install NMSLIB from sources \n",
      "pip install --no-binary :all: nmslib\n"
     ]
    }
   ],
   "source": [
    "from nns import exact_search\n",
    "from resources import _c, printacc, read_sparse_mat, get_text, _filter, XCMetrics, get_free_gpu\n",
    "from dl_base import ToD, PreTokBertDataset, XCCollator, TransformerInputLayer, FixedDataset, csr_to_pad_tensor, dedup_tensor\n",
    "from nets import *\n",
    "from losses import *\n",
    "\n",
    "import json, socket, sys, os\n",
    "import numpy as np\n",
    "import pandas as pd\n",
    "from tqdm import tqdm\n",
    "import scipy.sparse as sp\n",
    "from sklearn.preprocessing import normalize\n",
    "import xclib.data.data_utils as data_utils\n",
    "from xclib.utils.sparse import retain_topk\n",
    "import xclib.evaluation.xc_metrics as xc_metrics\n",
    "\n",
    "import torch\n",
    "import torch.nn as nn\n",
    "import torch.nn.functional as F\n",
    "import transformers\n",
    "from transformers import AutoModel, AutoTokenizer\n",
    "transformers.set_seed(42)\n",
    "\n",
    "import pecos\n",
    "from pecos.xmc import Indexer, LabelEmbeddingFactory\n",
    "from pecos.xmc.xlinear.model import XLinearModel"
   ]
  },
  {
   "cell_type": "code",
   "execution_count": 6,
   "metadata": {},
   "outputs": [
    {
     "name": "stdout",
     "output_type": "stream",
     "text": [
      "expname: \u001b[94mELIAS\u001b[0m, dataset: \u001b[94mamazon-670k\u001b[0m\n"
     ]
    }
   ],
   "source": [
    "import argparse\n",
    "parser = argparse.ArgumentParser()\n",
    "parser.add_argument('--project', default='ELIAS')\n",
    "parser.add_argument('--expname', default='')\n",
    "parser.add_argument('--dataset', required=True)\n",
    "parser.add_argument('--maxlen', type=int, default=32, help='max seq length for transformer')\n",
    "parser.add_argument('--net', default='ELIAS')\n",
    "parser.add_argument('--stage', type=int, default=1)\n",
    "parser.add_argument('--loss', default='joint')\n",
    "parser.add_argument('--loss-with-logits', action='store_true', default=False)\n",
    "parser.add_argument('--joint-loss-gamma', type=float, default=0.05)\n",
    "parser.add_argument('--tf', default='distilbert-base-uncased')\n",
    "parser.add_argument('--tf-pooler', default='cls')\n",
    "\n",
    "parser.add_argument('--C', type=int, default=0)\n",
    "parser.add_argument('--max-leaf', type=int, default=100)\n",
    "parser.add_argument('--beam', type=int, default=20)\n",
    "parser.add_argument('--alpha', type=int, default=10)\n",
    "parser.add_argument('--beta-gain', type=float, default=1.5)\n",
    "parser.add_argument('--K', type=int, default=2000)\n",
    "parser.add_argument('--kappa', type=int, default=1000)\n",
    "# parser.add_argument('--beam-loss-gamma', type=float, default=0)\n",
    "\n",
    "parser.add_argument('--warmup', type=float, default=0.1, help='warmup steps percentage')\n",
    "parser.add_argument('--W-accum-steps', type=int, default=1)\n",
    "parser.add_argument('--no-amp-encode', dest='amp_encode', action='store_false', help='do not use amp for encoder')\n",
    "parser.add_argument('--clf-dim', type=int, default=0)\n",
    "parser.add_argument('--bottleneck', type=int, default=0)\n",
    "parser.add_argument('--norm-embs', action='store_true', help='Normalize encoder embeddings', default=False)\n",
    "parser.add_argument('--dropout', type=float, default=0.5)\n",
    "parser.add_argument('--xc-lr', type=float, default=0.01)\n",
    "parser.add_argument('--dense-lr', type=float, default=-1.0)\n",
    "parser.add_argument('--enc-lr', type=float, default=5e-5)\n",
    "parser.add_argument('--bsz', type=int, default=128)\n",
    "parser.add_argument('--num-epochs', type=int, default=25)\n",
    "parser.add_argument('--eval-interval', type=int, default=3)\n",
    "parser.add_argument('--use-swa', dest='use_swa', action='store_true')\n",
    "parser.add_argument('--swa-step', type=int, default=1000)\n",
    "parser.add_argument('--swa-start', type=int, default=8)\n",
    "\n",
    "parser.add_argument('--embs-dir', default='')\n",
    "parser.add_argument('--save', action='store_true', help='save model and score mat', default=False)\n",
    "parser.add_argument('--resume-path', help='continue training from previous checkpoint', default='')\n",
    "parser.add_argument('--cmat-file', help='saved cluster matrix npz file', default='')\n",
    "parser.add_argument('--cmat-seed', help='initial cluster matrix seed', default=-1, type=int)\n",
    "parser.add_argument('--A-init-file', help='saved candidates npz file', default='')\n",
    "parser.add_argument('--save-embs', action='store_true', default=False)\n",
    "parser.add_argument('--gen-A-init', action='store_true', help='generate an initialization for A with final model', default=False)\n",
    "parser.add_argument('--ranker', action='store_true', default=False)\n",
    "parser.add_argument('--ranker-alpha', type=float, default=0.5)\n",
    "parser.add_argument('--ranker-topk', type=int, default=100)\n",
    "parser.add_argument('--score-calibrate', action='store_true', default=False)\n",
    "\n",
    "parser.add_argument('--device', default='cuda:0')\n",
    "parser.set_defaults(amp_encode=True)\n",
    "parser.set_defaults(use_swa=False)\n",
    "\n",
    "args = parser.parse_args(command.split())\n",
    "if args.expname != '' and args.num_epochs == 0:\n",
    "    args.__dict__ = json.load(open(f'Results/{args.project}/{args.dataset}/{args.expname}/args.json'))\n",
    "    parser.set_defaults(**args.__dict__)\n",
    "    args = parser.parse_args(command.split())\n",
    "    \n",
    "args.use_grad_scaler = (args.amp_encode)\n",
    "args.hostname = socket.gethostname()\n",
    "\n",
    "cmat_seed_suffix = '' if args.cmat_seed < 0 == '' else f'-{args.cmat_seed}'\n",
    "args.netname = args.net if args.net == 'fcnet' else f'{args.net}-{args.stage}-leaf{args.max_leaf}-beam{args.beam}{cmat_seed_suffix}'\n",
    "args.expname = nb_name.split('.')[0]\n",
    "\n",
    "args.dense_lr = args.xc_lr if args.dense_lr < 0 else args.dense_lr\n",
    "args.tf = None if args.tf.lower() == 'none' else args.tf\n",
    "args.embs_dim = 768\n",
    "\n",
    "args.DATA_DIR = DATA_DIR = f'Datasets/{args.dataset}'\n",
    "args.OUT_DIR = OUT_DIR = f'Results/{args.project}/{args.dataset}/{args.expname}'\n",
    "os.makedirs(OUT_DIR, exist_ok=True)\n",
    "print(f'expname: {_c(args.expname, attr=\"blue\")}, dataset: {_c(args.dataset, attr=\"blue\")}')\n",
    "\n",
    "args.cmat_file = f'{DATA_DIR}/cmat-{args.C}x{args.max_leaf}{cmat_seed_suffix}.npz' if args.cmat_file == '' else args.cmat_file\n",
    "\n",
    "if not os.path.exists(args.A_init_file):\n",
    "    args.A_init_file = f'{os.path.dirname(args.resume_path)}/A_init.npz'"
   ]
  },
  {
   "cell_type": "markdown",
   "metadata": {},
   "source": [
    "## Load data"
   ]
  },
  {
   "cell_type": "code",
   "execution_count": 14,
   "metadata": {
    "ExecuteTime": {
     "end_time": "2022-05-17T10:02:42.853438Z",
     "start_time": "2022-05-17T10:02:40.294395Z"
    }
   },
   "outputs": [],
   "source": [
    "Y = [x.strip() for x in open(f'{DATA_DIR}/raw/Y.txt').readlines()]\n",
    "# trnX = [x.strip() for x in open(f'{DATA_DIR}/raw/trn_X.txt').readlines()]\n",
    "# tstX = [x.strip() for x in open(f'{DATA_DIR}/raw/tst_X.txt').readlines()]\n",
    "\n",
    "trn_X_Y = sp.load_npz(f'{DATA_DIR}/Y.trn.npz')\n",
    "tst_X_Y = sp.load_npz(f'{DATA_DIR}/Y.tst.npz')\n",
    "trn_Y_X = trn_X_Y.T.tocsr()\n",
    "\n",
    "args.numy = trn_X_Y.shape[1]\n",
    "args.C = int(2**np.ceil(np.log2(args.numy/args.max_leaf)))\n",
    "tst_filter_mat = None\n",
    "if os.path.exists('%s/tst_filter_labels.txt'%(DATA_DIR)):\n",
    "    temp = np.fromfile('%s/tst_filter_labels.txt'%(DATA_DIR), sep=' ').astype(int)\n",
    "    temp = temp.reshape(-1, 2).T\n",
    "    tst_filter_mat = sp.coo_matrix((np.ones(temp.shape[1]), (temp[0], temp[1])), tst_X_Y.shape).tocsr()\n",
    "    \n",
    "if \"amazon\" in args.dataset.lower(): A = 0.6; B = 2.6\n",
    "elif \"wiki\" in args.dataset.lower() and \"wikiseealso\" not in args.dataset.lower(): A = 0.5; B = 0.4\n",
    "else : A = 0.55; B = 1.5\n",
    "inv_prop = xc_metrics.compute_inv_propesity(trn_X_Y, A, B)"
   ]
  },
  {
   "cell_type": "code",
   "execution_count": 10,
   "metadata": {},
   "outputs": [],
   "source": [
    "# trn_nnz = trn_X_Y.getnnz(1)\n",
    "# trn_sample = np.argsort(trn_nnz)[-1000000:]\n",
    "\n",
    "trn_sample = None"
   ]
  },
  {
   "cell_type": "code",
   "execution_count": 11,
   "metadata": {
    "ExecuteTime": {
     "end_time": "2022-05-17T10:02:42.863915Z",
     "start_time": "2022-05-17T10:02:42.855855Z"
    }
   },
   "outputs": [],
   "source": [
    "if args.tf is not None:\n",
    "    args.token_type = 'bert-base-uncased'\n",
    "    if 'roberta' in args.tf: args.token_type = 'roberta-base'\n",
    "    trn_dataset = PreTokBertDataset(f'{DATA_DIR}/{args.token_type}-{args.maxlen}', trn_X_Y, args.maxlen, doc_type='trn', sample=trn_sample)\n",
    "    tst_dataset = PreTokBertDataset(f'{DATA_DIR}/{args.token_type}-{args.maxlen}', tst_X_Y, args.maxlen, doc_type='tst')\n",
    "else:\n",
    "    if args.embs_dir is None:\n",
    "        args.embs_dir = f'Datasets/{args.dataset}/embs/XRL-batch-bce'\n",
    "    trn_embs = np.load(f'{args.embs_dir}/trn_embs.npy')\n",
    "    tst_embs = np.load(f'{args.embs_dir}/tst_embs.npy')\n",
    "    trn_dataset = FixedDataset(trn_embs, trn_X_Y)\n",
    "    tst_dataset = FixedDataset(tst_embs, tst_X_Y)\n",
    "\n",
    "# trn_dataset.labels = trn_Y_X\n",
    "trn_loader = torch.utils.data.DataLoader(\n",
    "    trn_dataset,\n",
    "    batch_size=args.bsz,\n",
    "    num_workers=4,\n",
    "    collate_fn=XCCollator(trn_X_Y.shape[1], trn_dataset),\n",
    "    shuffle=True,\n",
    "    pin_memory=True)\n",
    "\n",
    "tst_loader = torch.utils.data.DataLoader(\n",
    "    tst_dataset,\n",
    "    batch_size=args.bsz*2,\n",
    "    num_workers=4,\n",
    "    collate_fn=XCCollator(trn_X_Y.shape[1], tst_dataset),\n",
    "    shuffle=False,\n",
    "    pin_memory=True)"
   ]
  },
  {
   "cell_type": "code",
   "execution_count": 12,
   "metadata": {},
   "outputs": [],
   "source": [
    "A1 = sp.load_npz(f'Results/ELIAS/amazon-670k/Stage-1-0/A_init.npz')\n",
    "A2 = sp.load_npz(f'Results/ELIAS/amazon-670k/Stage-1-0/A_init.orig.npz')"
   ]
  },
  {
   "cell_type": "code",
   "execution_count": 20,
   "metadata": {},
   "outputs": [
    {
     "name": "stderr",
     "output_type": "stream",
     "text": [
      "/home/nilesh/miniconda3/lib/python3.9/site-packages/scipy/sparse/_index.py:146: SparseEfficiencyWarning: Changing the sparsity structure of a csr_matrix is expensive. lil_matrix is more efficient.\n",
      "  self._set_arrayXarray(i, j, x)\n"
     ]
    }
   ],
   "source": [
    "temp = _filter(A1, A2)"
   ]
  },
  {
   "cell_type": "markdown",
   "metadata": {
    "heading_collapsed": true
   },
   "source": [
    "### Cluster utils"
   ]
  },
  {
   "cell_type": "code",
   "execution_count": 9,
   "metadata": {
    "ExecuteTime": {
     "end_time": "2022-04-28T01:25:02.583500Z",
     "start_time": "2022-04-28T01:25:02.394544Z"
    },
    "hidden": true
   },
   "outputs": [
    {
     "ename": "AttributeError",
     "evalue": "'Namespace' object has no attribute 'nr_splits'",
     "output_type": "error",
     "traceback": [
      "\u001b[0;31m---------------------------------------------------------------------------\u001b[0m",
      "\u001b[0;31mAttributeError\u001b[0m                            Traceback (most recent call last)",
      "\u001b[0;32m/tmp/ipykernel_29941/3638266750.py\u001b[0m in \u001b[0;36m<module>\u001b[0;34m\u001b[0m\n\u001b[0;32m----> 1\u001b[0;31m \u001b[0margs\u001b[0m\u001b[0;34m.\u001b[0m\u001b[0mcmat_file\u001b[0m \u001b[0;34m=\u001b[0m \u001b[0;34mf'{DATA_DIR}/cmat-{args.nr_splits}x{args.max_leaf}.npz'\u001b[0m\u001b[0;34m\u001b[0m\u001b[0;34m\u001b[0m\u001b[0m\n\u001b[0m\u001b[1;32m      2\u001b[0m \u001b[0mcmat\u001b[0m \u001b[0;34m=\u001b[0m \u001b[0msp\u001b[0m\u001b[0;34m.\u001b[0m\u001b[0mload_npz\u001b[0m\u001b[0;34m(\u001b[0m\u001b[0margs\u001b[0m\u001b[0;34m.\u001b[0m\u001b[0mcmat_file\u001b[0m\u001b[0;34m)\u001b[0m\u001b[0;34m\u001b[0m\u001b[0;34m\u001b[0m\u001b[0m\n\u001b[1;32m      3\u001b[0m \u001b[0;34m\u001b[0m\u001b[0m\n\u001b[1;32m      4\u001b[0m \u001b[0mcmat\u001b[0m\u001b[0;34m.\u001b[0m\u001b[0mresize\u001b[0m\u001b[0;34m(\u001b[0m\u001b[0margs\u001b[0m\u001b[0;34m.\u001b[0m\u001b[0mnr_splits\u001b[0m\u001b[0;34m,\u001b[0m \u001b[0margs\u001b[0m\u001b[0;34m.\u001b[0m\u001b[0mnumy\u001b[0m\u001b[0;34m)\u001b[0m\u001b[0;34m\u001b[0m\u001b[0;34m\u001b[0m\u001b[0m\n\u001b[1;32m      5\u001b[0m \u001b[0mc_tst_X_Y\u001b[0m \u001b[0;34m=\u001b[0m \u001b[0mtst_X_Y\u001b[0m\u001b[0;34m.\u001b[0m\u001b[0mdot\u001b[0m\u001b[0;34m(\u001b[0m\u001b[0mcmat\u001b[0m\u001b[0;34m.\u001b[0m\u001b[0mT\u001b[0m\u001b[0;34m)\u001b[0m\u001b[0;34m\u001b[0m\u001b[0;34m\u001b[0m\u001b[0m\n",
      "\u001b[0;31mAttributeError\u001b[0m: 'Namespace' object has no attribute 'nr_splits'"
     ]
    }
   ],
   "source": [
    "args.cmat_file = f'{DATA_DIR}/cmat-{args.nr_splits}x{args.max_leaf}.npz'\n",
    "cmat = sp.load_npz(args.cmat_file)\n",
    "\n",
    "cmat.resize(args.nr_splits, args.numy)\n",
    "c_tst_X_Y = tst_X_Y.dot(cmat.T)\n",
    "c_tst_X_Y.data[:] = 1.0\n",
    "\n",
    "# cmat.resize(args.nr_splits+1, args.numy+1)"
   ]
  },
  {
   "cell_type": "code",
   "execution_count": 66,
   "metadata": {},
   "outputs": [],
   "source": [
    "qbst_trn_X_Xf = sp.load_npz(f'{DATA_DIR}/X_qbst.trn.npz')"
   ]
  },
  {
   "cell_type": "code",
   "execution_count": 67,
   "metadata": {
    "scrolled": true
   },
   "outputs": [],
   "source": [
    "trn_X_Xf = sp.load_npz(f'{DATA_DIR}/X.trn.npz')"
   ]
  },
  {
   "cell_type": "code",
   "execution_count": 72,
   "metadata": {},
   "outputs": [
    {
     "data": {
      "text/plain": [
       "<286541251x33121061 sparse matrix of type '<class 'numpy.float32'>'\n",
       "\twith 5724552126 stored elements in Compressed Sparse Row format>"
      ]
     },
     "execution_count": 72,
     "metadata": {},
     "output_type": "execute_result"
    }
   ],
   "source": [
    "normalize(qbst_trn_X_Xf, axis=1, copy=False)"
   ]
  },
  {
   "cell_type": "code",
   "execution_count": 77,
   "metadata": {},
   "outputs": [],
   "source": [
    "new_cmats = {}\n",
    "# %time label_feat = LabelEmbeddingFactory.create(trn_X_Y.astype(np.float32), qbst_trn_X_Xf.astype(np.float32), method=\"pifa\")\n",
    "# for seed in [0]:\n",
    "#     %time cluster_chain = Indexer.gen(label_feat, indexer_type=\"hierarchicalkmeans\", nr_splits=args.C, max_leaf_size=args.max_leaf, seed=seed)\n",
    "new_cmats[seed] = cluster_chain.chain[-1].T"
   ]
  },
  {
   "cell_type": "code",
   "execution_count": 78,
   "metadata": {},
   "outputs": [],
   "source": [
    "for seed, mat in new_cmats.items():\n",
    "    sp.save_npz(f'{DATA_DIR}/qbst-cmat-{args.C}x{args.max_leaf}-{seed}.npz', mat)"
   ]
  },
  {
   "cell_type": "code",
   "execution_count": 40,
   "metadata": {
    "ExecuteTime": {
     "end_time": "2022-04-27T22:58:13.596042Z",
     "start_time": "2022-04-27T22:58:13.590204Z"
    },
    "hidden": true
   },
   "outputs": [],
   "source": [
    "if False:\n",
    "    trn_X_Xf = normalize(read_sparse_mat(f'{DATA_DIR}/trn_X_Xf.txt', use_xclib=False), copy=False)\n",
    "    trn_embs = normalize(np.load(f'{DATA_DIR}/embs/XRL-batch-bce/trn_embs.npy'), copy=False)\n",
    "    trn_X_Xf = sp.hstack((trn_X_Xf, trn_embs)).tocsr()\n",
    "\n",
    "    new_cmats = {}\n",
    "    label_feat = LabelEmbeddingFactory.create(trn_X_Y, trn_X_Xf.astype(np.float32), method=\"pifa\")\n",
    "    for seed in [0, 1, 2]:\n",
    "        %time cluster_chain = Indexer.gen(label_feat, indexer_type=\"hierarchicalkmeans\", nr_splits=args.nr_splits, max_leaf_size=args.max_leaf, seed=seed)\n",
    "        new_cmats[seed] = cluster_chain.chain[-1].T\n",
    "\n",
    "    new_cmat = sp.vstack(new_cmats.values())\n",
    "    sp.save_npz(f'{OUT_DIR}/new_cmat.npz', new_cmat)\n",
    "\n",
    "    args.nr_splits = new_cmat.shape[0]\n",
    "    for seed, mat in new_cmats.items():\n",
    "        sp.save_npz(f'{DATA_DIR}/cmat-{args.nr_splits}x{args.max_leaf}-{seed}.npz', mat)"
   ]
  },
  {
   "cell_type": "markdown",
   "metadata": {},
   "source": [
    "## Architecture and Loss definitions"
   ]
  },
  {
   "cell_type": "code",
   "execution_count": 22,
   "metadata": {
    "ExecuteTime": {
     "end_time": "2022-04-27T22:58:18.111592Z",
     "start_time": "2022-04-27T22:58:18.086853Z"
    }
   },
   "outputs": [],
   "source": [
    "class ELIAS(Net):\n",
    "    def __init__(self, args, rand_init=True):\n",
    "        super(ELIAS, self).__init__(args)\n",
    "    \n",
    "        self.stage = args.stage\n",
    "        self.beam = args.beam\n",
    "        self.max_trn_cluster = self.beam+10\n",
    "        self.numy = args.numy\n",
    "        self.loss_with_logits = args.loss_with_logits\n",
    "        self.tau = 1\n",
    "        self.alpha = args.alpha\n",
    "        self.beta = int(args.max_leaf*args.beta_gain)\n",
    "        self.K = args.K\n",
    "        self.C = args.C\n",
    "        self.max_leaf = args.max_leaf\n",
    "        self.embs_dim = args.embs_dim\n",
    "        self.clf_dim = args.clf_dim if args.clf_dim > 0 else args.embs_dim\n",
    "        \n",
    "        self.w1 = nn.Linear(self.embs_dim, args.C+1)\n",
    "        self.transform = nn.Linear(self.embs_dim, self.clf_dim) if (self.embs_dim != self.clf_dim) else nn.Identity()\n",
    "        self.w_leaf = SparseLinear(args.numy+1, self.clf_dim)\n",
    "\n",
    "        self.bow_fts = normalize(sp.load_npz(f'{args.DATA_DIR}/X.trn.npz'), copy=False).astype(np.float32)\n",
    "        self.OUT_DIR = args.OUT_DIR\n",
    "        self.cmat_seed = args.cmat_seed\n",
    "        if os.path.exists(args.A_init_file):\n",
    "            A_init = sp.load_npz(args.A_init_file)\n",
    "            temp = csr_to_pad_tensor(A_init, args.numy)\n",
    "            self.A_nz_inds = temp['inds'].to(args.device)\n",
    "#             self.A_nz_vals = nn.Parameter(torch.rand(*self.A_nz_inds.shape)) if rand_init else nn.Parameter(res['vals'].float())\n",
    "            init_vals = temp['vals'].float() / torch.clamp(temp['vals'].float().max(dim=1).values.reshape(-1, 1), min=1e-8)\n",
    "            init_vals += 0.2*torch.rand(*self.A_nz_inds.shape)\n",
    "            self.A_nz_vals = nn.Parameter(init_vals)\n",
    "        \n",
    "        self.no_swa = lambda n: (n == 'A_nz_vals')\n",
    "        \n",
    "    def retain_topk(self, K, clean=False):\n",
    "        with torch.no_grad():\n",
    "            self.A_norm_nz_vals = torch.clamp(self.beta*F.softmax(self.A_nz_vals/self.tau, dim=-1), min=0, max=1)\n",
    "            self.A_nz_vals.data, sorted_inds = self.A_nz_vals.topk(K)\n",
    "            self.A_nz_inds = self.A_nz_inds.gather(1, sorted_inds)\n",
    "            self.A_norm_nz_vals = self.A_norm_nz_vals.gather(1, sorted_inds)\n",
    "            \n",
    "            if clean:\n",
    "                self.A_nz_vals.data[:] = 1\n",
    "                self.A_norm_nz_vals[:] = 1\n",
    "                \n",
    "    def update(self, epoch=-1, trn_dataset=None, **kwargs):    \n",
    "        if self.stage == 1:\n",
    "            if self.cmat_seed > -1 and (epoch == 0 or epoch == 5):\n",
    "                print(f'Updating clusters at epoch {epoch}...')\n",
    "                trn_embs = normalize(self.get_embs(trn_dataset), copy=False).astype(np.float32)\n",
    "                cluster_embs = sp.hstack((self.bow_fts, trn_embs)).tocsr()\n",
    "                    \n",
    "                label_feat = LabelEmbeddingFactory.create(trn_dataset.labels, cluster_embs, method=\"pifa\")\n",
    "                cmat = Indexer.gen(label_feat, \n",
    "                                   indexer_type=\"hierarchicalkmeans\", \n",
    "                                   nr_splits=self.C, \n",
    "                                   max_leaf_size=self.max_leaf, \n",
    "                                   seed=self.cmat_seed).chain[-1].T\n",
    "                cmat.resize(self.C+1, self.numy+1)\n",
    "                sp.save_npz(f'{self.OUT_DIR}/cmat.npz', cmat)\n",
    "                temp = csr_to_pad_tensor(cmat, self.numy)\n",
    "                self.A_nz_inds = temp['inds'].to(self.get_device())\n",
    "                self.A_nz_vals = temp['vals'].to(self.get_device())\n",
    "                self.parent = torch.tensor(cmat.argmax(0)).ravel().to(self.get_device())\n",
    "                self.parent[self.numy] = self.C\n",
    "\n",
    "        with torch.no_grad():\n",
    "            self.A_norm_nz_vals = torch.clamp(self.beta*F.softmax(self.A_nz_vals/self.tau, dim=-1), min=0, max=1).to(self.get_device())\n",
    "            self.parent = torch.zeros((self.numy+1, ), dtype=torch.long, device=self.get_device())\n",
    "            parent_val = torch.zeros((self.numy+1, ), device=self.get_device())\n",
    "            for c in range(self.A_norm_nz_vals.shape[0]):\n",
    "                cy = self.A_nz_inds[c]\n",
    "                self.parent[cy] = torch.where(parent_val[cy] < self.A_norm_nz_vals[c], torch.full(cy.shape, c, device=self.get_device()), self.parent[cy])\n",
    "                parent_val[cy] = torch.max(parent_val[cy], self.A_norm_nz_vals[c])\n",
    "\n",
    "    def forward(self, b, K=0):\n",
    "        b = self.ToD(b)\n",
    "        embs = self.encode(b)\n",
    "        bsz = embs.shape[0]\n",
    "        K = max(self.beam, K)\n",
    "        \n",
    "        out1 = torch.clamp(self.alpha*F.softmax(self.w1(embs), dim=1), min=0, max=1)[:, :-1]\n",
    "        out1_topk_vals, out1_topk_inds = torch.topk(out1, K, dim=1)\n",
    "    \n",
    "        if self.training:\n",
    "            if self.A_nz_vals.requires_grad:\n",
    "                self.A_norm_nz_vals = torch.clamp(self.beta*F.softmax(self.A_nz_vals/self.tau, dim=-1), min=0, max=1)\n",
    "            if self.w1.weight.requires_grad:\n",
    "                # add parent clusters in shortlisted clusters\n",
    "                out1_pos_inds = self.parent[b['y']['inds']]\n",
    "                out1_topk_inds = torch.hstack((out1_topk_inds, out1_pos_inds))\n",
    "                out1_topk_vals = torch.hstack((out1_topk_vals, b['y']['vals']))\n",
    "\n",
    "                out1_topk_inds, rearranged_inds = dedup_tensor(out1_topk_inds, replace_val=self.C, return_indices=True)\n",
    "                out1_topk_vals = out1_topk_vals.gather(1, rearranged_inds)\n",
    "                if self.max_trn_cluster > 0 and self.max_trn_cluster < out1_topk_vals.shape[1]:\n",
    "                    sampled_inds = torch.multinomial(out1_topk_vals, self.max_trn_cluster)\n",
    "                    out1_topk_inds = out1_topk_inds.gather(1, sampled_inds)\n",
    "                pad_mask = (out1_topk_inds == self.C)\n",
    "                out1_topk_inds[pad_mask] = torch.randint(0, self.C, (pad_mask.sum(), ), device=pad_mask.device)\n",
    "        out1_topk_vals = out1.gather(1, out1_topk_inds)\n",
    "        \n",
    "        topk_C_vals = self.A_norm_nz_vals[out1_topk_inds.flatten()]\n",
    "        topk_C_vals *= out1_topk_vals.reshape(-1, 1)\n",
    "        topk_C_vals = topk_C_vals.reshape(bsz, -1)\n",
    "        \n",
    "        topk_C_inds = self.A_nz_inds[out1_topk_inds.flatten()].reshape(bsz, -1)\n",
    "        topk_C_vals, sort_inds = torch.sort(topk_C_vals, descending=True)\n",
    "        topk_C_inds = topk_C_inds.gather(1, sort_inds)\n",
    "        \n",
    "        topk_C_inds, rearranged_inds = dedup_tensor(topk_C_inds, self.numy, return_indices=True)\n",
    "        topk_C_vals = topk_C_vals.gather(1, rearranged_inds)\n",
    "        topk_C_vals[topk_C_inds == self.numy] = 0 # handle pad index\n",
    "        \n",
    "        shorty_vals, sorted_inds = topk_C_vals.topk(min(self.K, topk_C_vals.shape[-1]))\n",
    "        shorty_inds = topk_C_inds.gather(1, sorted_inds)\n",
    "                \n",
    "        out2 = self.w_leaf(self.transform(embs), shorty_inds)\n",
    "        out2 = out2 if self.loss_with_logits else torch.sigmoid(out2)\n",
    "        out = (out2 + shorty_vals) if self.loss_with_logits else (out2 * shorty_vals)\n",
    "\n",
    "        return (out, shorty_inds, topk_C_vals, topk_C_inds) if self.training else (out, shorty_inds)"
   ]
  },
  {
   "cell_type": "code",
   "execution_count": 23,
   "metadata": {
    "ExecuteTime": {
     "end_time": "2022-04-27T22:58:18.876853Z",
     "start_time": "2022-04-27T22:58:18.871538Z"
    }
   },
   "outputs": [],
   "source": [
    "class JointLoss(nn.Module):\n",
    "    def __init__(self, args, reduction='mean'):\n",
    "        super(JointLoss, self).__init__()\n",
    "        self.numy = args.numy\n",
    "        self.gamma = args.joint_loss_gamma\n",
    "        if args.loss_with_logits:\n",
    "            self.criterion = torch.nn.BCEWithLogitsLoss(reduction=reduction)\n",
    "        else:\n",
    "            self.criterion = torch.nn.BCELoss(reduction=reduction)\n",
    "\n",
    "    def forward(self, model, b):\n",
    "        out, shorty, topk_C_vals, topk_C_inds = model(b)\n",
    "        \n",
    "        yfull = torch.zeros((out.shape[0], self.numy+1), device=out.device).scatter_(1, b['y']['inds'], 1)\n",
    "        yfull[:, -1] = 0.0\n",
    "        \n",
    "        targets  = torch.gather(yfull, 1, shorty)\n",
    "        loss_precision = self.criterion(out, targets)\n",
    "        \n",
    "        targets = yfull.gather(1, topk_C_inds)\n",
    "        targets, target_inds = targets.topk(targets.sum(dim=-1).max().long())\n",
    "        topk_C_vals = topk_C_vals.gather(1, target_inds)\n",
    "        topk_C_vals[targets < 1e-5] = 0\n",
    "        loss_recall = self.criterion(topk_C_vals, targets)\n",
    "        \n",
    "        loss = loss_precision + self.gamma*loss_recall\n",
    "        \n",
    "        del b, out, yfull, targets\n",
    "        return loss"
   ]
  },
  {
   "cell_type": "code",
   "execution_count": 24,
   "metadata": {
    "ExecuteTime": {
     "end_time": "2022-04-27T22:58:19.450959Z",
     "start_time": "2022-04-27T22:58:19.449221Z"
    }
   },
   "outputs": [],
   "source": [
    "NETS['elias'] = ELIAS\n",
    "LOSSES['joint'] = JointLoss"
   ]
  },
  {
   "cell_type": "markdown",
   "metadata": {},
   "source": [
    "## Setup"
   ]
  },
  {
   "cell_type": "code",
   "execution_count": 25,
   "metadata": {
    "ExecuteTime": {
     "end_time": "2022-04-27T22:58:34.254290Z",
     "start_time": "2022-04-27T22:58:34.252256Z"
    }
   },
   "outputs": [],
   "source": [
    "# args.A_init_file = f'{OUT_DIR}/candidates.npz'\n",
    "# args.A_init_file = f'Results/ELIAS/ShoppingAds-100K/Stage-1-0/cmat.npz'\n",
    "# args.A_init_file = f'{DATA_DIR}/cmat-{args.C}x{args.max_leaf}-0.npz'\n",
    "# args.A_init_file = f'Results/ELIAS/ShoppingAds-10M-v2/Stage-1-0/A_init.npz'"
   ]
  },
  {
   "cell_type": "code",
   "execution_count": 302,
   "metadata": {
    "ExecuteTime": {
     "end_time": "2022-04-20T19:14:37.436929Z",
     "start_time": "2022-04-20T19:14:35.819463Z"
    }
   },
   "outputs": [
    {
     "name": "stderr",
     "output_type": "stream",
     "text": [
      "Some weights of the model checkpoint at bert-base-uncased were not used when initializing BertModel: ['bert.pooler.dense.weight', 'bert.pooler.dense.bias']\n",
      "- This IS expected if you are initializing BertModel from the checkpoint of a model trained on another task or with another architecture (e.g. initializing a BertForSequenceClassification model from a BertForPreTraining model).\n",
      "- This IS NOT expected if you are initializing BertModel from the checkpoint of a model that you expect to be exactly identical (initializing a BertForSequenceClassification model from a BertForSequenceClassification model).\n"
     ]
    }
   ],
   "source": [
    "net = NETS[args.net](args)\n",
    "criterion = LOSSES[args.loss](args)"
   ]
  },
  {
   "cell_type": "code",
   "execution_count": 303,
   "metadata": {},
   "outputs": [
    {
     "data": {
      "text/plain": [
       "ELIAS(\n",
       "  (encoder): TransformerInputLayer(\n",
       "    (transformer): BertModel(\n",
       "      (embeddings): BertEmbeddings(\n",
       "        (word_embeddings): Embedding(30522, 768, padding_idx=0)\n",
       "        (position_embeddings): Embedding(512, 768)\n",
       "        (token_type_embeddings): Embedding(2, 768)\n",
       "        (LayerNorm): LayerNorm((768,), eps=1e-12, elementwise_affine=True)\n",
       "        (dropout): Dropout(p=0.1, inplace=False)\n",
       "      )\n",
       "      (encoder): BertEncoder(\n",
       "        (layer): ModuleList(\n",
       "          (0): BertLayer(\n",
       "            (attention): BertAttention(\n",
       "              (self): BertSelfAttention(\n",
       "                (query): Linear(in_features=768, out_features=768, bias=True)\n",
       "                (key): Linear(in_features=768, out_features=768, bias=True)\n",
       "                (value): Linear(in_features=768, out_features=768, bias=True)\n",
       "                (dropout): Dropout(p=0.1, inplace=False)\n",
       "              )\n",
       "              (output): BertSelfOutput(\n",
       "                (dense): Linear(in_features=768, out_features=768, bias=True)\n",
       "                (LayerNorm): LayerNorm((768,), eps=1e-12, elementwise_affine=True)\n",
       "                (dropout): Dropout(p=0.1, inplace=False)\n",
       "              )\n",
       "            )\n",
       "            (intermediate): BertIntermediate(\n",
       "              (dense): Linear(in_features=768, out_features=3072, bias=True)\n",
       "            )\n",
       "            (output): BertOutput(\n",
       "              (dense): Linear(in_features=3072, out_features=768, bias=True)\n",
       "              (LayerNorm): LayerNorm((768,), eps=1e-12, elementwise_affine=True)\n",
       "              (dropout): Dropout(p=0.1, inplace=False)\n",
       "            )\n",
       "          )\n",
       "          (1): BertLayer(\n",
       "            (attention): BertAttention(\n",
       "              (self): BertSelfAttention(\n",
       "                (query): Linear(in_features=768, out_features=768, bias=True)\n",
       "                (key): Linear(in_features=768, out_features=768, bias=True)\n",
       "                (value): Linear(in_features=768, out_features=768, bias=True)\n",
       "                (dropout): Dropout(p=0.1, inplace=False)\n",
       "              )\n",
       "              (output): BertSelfOutput(\n",
       "                (dense): Linear(in_features=768, out_features=768, bias=True)\n",
       "                (LayerNorm): LayerNorm((768,), eps=1e-12, elementwise_affine=True)\n",
       "                (dropout): Dropout(p=0.1, inplace=False)\n",
       "              )\n",
       "            )\n",
       "            (intermediate): BertIntermediate(\n",
       "              (dense): Linear(in_features=768, out_features=3072, bias=True)\n",
       "            )\n",
       "            (output): BertOutput(\n",
       "              (dense): Linear(in_features=3072, out_features=768, bias=True)\n",
       "              (LayerNorm): LayerNorm((768,), eps=1e-12, elementwise_affine=True)\n",
       "              (dropout): Dropout(p=0.1, inplace=False)\n",
       "            )\n",
       "          )\n",
       "          (2): BertLayer(\n",
       "            (attention): BertAttention(\n",
       "              (self): BertSelfAttention(\n",
       "                (query): Linear(in_features=768, out_features=768, bias=True)\n",
       "                (key): Linear(in_features=768, out_features=768, bias=True)\n",
       "                (value): Linear(in_features=768, out_features=768, bias=True)\n",
       "                (dropout): Dropout(p=0.1, inplace=False)\n",
       "              )\n",
       "              (output): BertSelfOutput(\n",
       "                (dense): Linear(in_features=768, out_features=768, bias=True)\n",
       "                (LayerNorm): LayerNorm((768,), eps=1e-12, elementwise_affine=True)\n",
       "                (dropout): Dropout(p=0.1, inplace=False)\n",
       "              )\n",
       "            )\n",
       "            (intermediate): BertIntermediate(\n",
       "              (dense): Linear(in_features=768, out_features=3072, bias=True)\n",
       "            )\n",
       "            (output): BertOutput(\n",
       "              (dense): Linear(in_features=3072, out_features=768, bias=True)\n",
       "              (LayerNorm): LayerNorm((768,), eps=1e-12, elementwise_affine=True)\n",
       "              (dropout): Dropout(p=0.1, inplace=False)\n",
       "            )\n",
       "          )\n",
       "          (3): BertLayer(\n",
       "            (attention): BertAttention(\n",
       "              (self): BertSelfAttention(\n",
       "                (query): Linear(in_features=768, out_features=768, bias=True)\n",
       "                (key): Linear(in_features=768, out_features=768, bias=True)\n",
       "                (value): Linear(in_features=768, out_features=768, bias=True)\n",
       "                (dropout): Dropout(p=0.1, inplace=False)\n",
       "              )\n",
       "              (output): BertSelfOutput(\n",
       "                (dense): Linear(in_features=768, out_features=768, bias=True)\n",
       "                (LayerNorm): LayerNorm((768,), eps=1e-12, elementwise_affine=True)\n",
       "                (dropout): Dropout(p=0.1, inplace=False)\n",
       "              )\n",
       "            )\n",
       "            (intermediate): BertIntermediate(\n",
       "              (dense): Linear(in_features=768, out_features=3072, bias=True)\n",
       "            )\n",
       "            (output): BertOutput(\n",
       "              (dense): Linear(in_features=3072, out_features=768, bias=True)\n",
       "              (LayerNorm): LayerNorm((768,), eps=1e-12, elementwise_affine=True)\n",
       "              (dropout): Dropout(p=0.1, inplace=False)\n",
       "            )\n",
       "          )\n",
       "          (4): BertLayer(\n",
       "            (attention): BertAttention(\n",
       "              (self): BertSelfAttention(\n",
       "                (query): Linear(in_features=768, out_features=768, bias=True)\n",
       "                (key): Linear(in_features=768, out_features=768, bias=True)\n",
       "                (value): Linear(in_features=768, out_features=768, bias=True)\n",
       "                (dropout): Dropout(p=0.1, inplace=False)\n",
       "              )\n",
       "              (output): BertSelfOutput(\n",
       "                (dense): Linear(in_features=768, out_features=768, bias=True)\n",
       "                (LayerNorm): LayerNorm((768,), eps=1e-12, elementwise_affine=True)\n",
       "                (dropout): Dropout(p=0.1, inplace=False)\n",
       "              )\n",
       "            )\n",
       "            (intermediate): BertIntermediate(\n",
       "              (dense): Linear(in_features=768, out_features=3072, bias=True)\n",
       "            )\n",
       "            (output): BertOutput(\n",
       "              (dense): Linear(in_features=3072, out_features=768, bias=True)\n",
       "              (LayerNorm): LayerNorm((768,), eps=1e-12, elementwise_affine=True)\n",
       "              (dropout): Dropout(p=0.1, inplace=False)\n",
       "            )\n",
       "          )\n",
       "          (5): BertLayer(\n",
       "            (attention): BertAttention(\n",
       "              (self): BertSelfAttention(\n",
       "                (query): Linear(in_features=768, out_features=768, bias=True)\n",
       "                (key): Linear(in_features=768, out_features=768, bias=True)\n",
       "                (value): Linear(in_features=768, out_features=768, bias=True)\n",
       "                (dropout): Dropout(p=0.1, inplace=False)\n",
       "              )\n",
       "              (output): BertSelfOutput(\n",
       "                (dense): Linear(in_features=768, out_features=768, bias=True)\n",
       "                (LayerNorm): LayerNorm((768,), eps=1e-12, elementwise_affine=True)\n",
       "                (dropout): Dropout(p=0.1, inplace=False)\n",
       "              )\n",
       "            )\n",
       "            (intermediate): BertIntermediate(\n",
       "              (dense): Linear(in_features=768, out_features=3072, bias=True)\n",
       "            )\n",
       "            (output): BertOutput(\n",
       "              (dense): Linear(in_features=3072, out_features=768, bias=True)\n",
       "              (LayerNorm): LayerNorm((768,), eps=1e-12, elementwise_affine=True)\n",
       "              (dropout): Dropout(p=0.1, inplace=False)\n",
       "            )\n",
       "          )\n",
       "          (6): BertLayer(\n",
       "            (attention): BertAttention(\n",
       "              (self): BertSelfAttention(\n",
       "                (query): Linear(in_features=768, out_features=768, bias=True)\n",
       "                (key): Linear(in_features=768, out_features=768, bias=True)\n",
       "                (value): Linear(in_features=768, out_features=768, bias=True)\n",
       "                (dropout): Dropout(p=0.1, inplace=False)\n",
       "              )\n",
       "              (output): BertSelfOutput(\n",
       "                (dense): Linear(in_features=768, out_features=768, bias=True)\n",
       "                (LayerNorm): LayerNorm((768,), eps=1e-12, elementwise_affine=True)\n",
       "                (dropout): Dropout(p=0.1, inplace=False)\n",
       "              )\n",
       "            )\n",
       "            (intermediate): BertIntermediate(\n",
       "              (dense): Linear(in_features=768, out_features=3072, bias=True)\n",
       "            )\n",
       "            (output): BertOutput(\n",
       "              (dense): Linear(in_features=3072, out_features=768, bias=True)\n",
       "              (LayerNorm): LayerNorm((768,), eps=1e-12, elementwise_affine=True)\n",
       "              (dropout): Dropout(p=0.1, inplace=False)\n",
       "            )\n",
       "          )\n",
       "          (7): BertLayer(\n",
       "            (attention): BertAttention(\n",
       "              (self): BertSelfAttention(\n",
       "                (query): Linear(in_features=768, out_features=768, bias=True)\n",
       "                (key): Linear(in_features=768, out_features=768, bias=True)\n",
       "                (value): Linear(in_features=768, out_features=768, bias=True)\n",
       "                (dropout): Dropout(p=0.1, inplace=False)\n",
       "              )\n",
       "              (output): BertSelfOutput(\n",
       "                (dense): Linear(in_features=768, out_features=768, bias=True)\n",
       "                (LayerNorm): LayerNorm((768,), eps=1e-12, elementwise_affine=True)\n",
       "                (dropout): Dropout(p=0.1, inplace=False)\n",
       "              )\n",
       "            )\n",
       "            (intermediate): BertIntermediate(\n",
       "              (dense): Linear(in_features=768, out_features=3072, bias=True)\n",
       "            )\n",
       "            (output): BertOutput(\n",
       "              (dense): Linear(in_features=3072, out_features=768, bias=True)\n",
       "              (LayerNorm): LayerNorm((768,), eps=1e-12, elementwise_affine=True)\n",
       "              (dropout): Dropout(p=0.1, inplace=False)\n",
       "            )\n",
       "          )\n",
       "          (8): BertLayer(\n",
       "            (attention): BertAttention(\n",
       "              (self): BertSelfAttention(\n",
       "                (query): Linear(in_features=768, out_features=768, bias=True)\n",
       "                (key): Linear(in_features=768, out_features=768, bias=True)\n",
       "                (value): Linear(in_features=768, out_features=768, bias=True)\n",
       "                (dropout): Dropout(p=0.1, inplace=False)\n",
       "              )\n",
       "              (output): BertSelfOutput(\n",
       "                (dense): Linear(in_features=768, out_features=768, bias=True)\n",
       "                (LayerNorm): LayerNorm((768,), eps=1e-12, elementwise_affine=True)\n",
       "                (dropout): Dropout(p=0.1, inplace=False)\n",
       "              )\n",
       "            )\n",
       "            (intermediate): BertIntermediate(\n",
       "              (dense): Linear(in_features=768, out_features=3072, bias=True)\n",
       "            )\n",
       "            (output): BertOutput(\n",
       "              (dense): Linear(in_features=3072, out_features=768, bias=True)\n",
       "              (LayerNorm): LayerNorm((768,), eps=1e-12, elementwise_affine=True)\n",
       "              (dropout): Dropout(p=0.1, inplace=False)\n",
       "            )\n",
       "          )\n",
       "          (9): BertLayer(\n",
       "            (attention): BertAttention(\n",
       "              (self): BertSelfAttention(\n",
       "                (query): Linear(in_features=768, out_features=768, bias=True)\n",
       "                (key): Linear(in_features=768, out_features=768, bias=True)\n",
       "                (value): Linear(in_features=768, out_features=768, bias=True)\n",
       "                (dropout): Dropout(p=0.1, inplace=False)\n",
       "              )\n",
       "              (output): BertSelfOutput(\n",
       "                (dense): Linear(in_features=768, out_features=768, bias=True)\n",
       "                (LayerNorm): LayerNorm((768,), eps=1e-12, elementwise_affine=True)\n",
       "                (dropout): Dropout(p=0.1, inplace=False)\n",
       "              )\n",
       "            )\n",
       "            (intermediate): BertIntermediate(\n",
       "              (dense): Linear(in_features=768, out_features=3072, bias=True)\n",
       "            )\n",
       "            (output): BertOutput(\n",
       "              (dense): Linear(in_features=3072, out_features=768, bias=True)\n",
       "              (LayerNorm): LayerNorm((768,), eps=1e-12, elementwise_affine=True)\n",
       "              (dropout): Dropout(p=0.1, inplace=False)\n",
       "            )\n",
       "          )\n",
       "          (10): BertLayer(\n",
       "            (attention): BertAttention(\n",
       "              (self): BertSelfAttention(\n",
       "                (query): Linear(in_features=768, out_features=768, bias=True)\n",
       "                (key): Linear(in_features=768, out_features=768, bias=True)\n",
       "                (value): Linear(in_features=768, out_features=768, bias=True)\n",
       "                (dropout): Dropout(p=0.1, inplace=False)\n",
       "              )\n",
       "              (output): BertSelfOutput(\n",
       "                (dense): Linear(in_features=768, out_features=768, bias=True)\n",
       "                (LayerNorm): LayerNorm((768,), eps=1e-12, elementwise_affine=True)\n",
       "                (dropout): Dropout(p=0.1, inplace=False)\n",
       "              )\n",
       "            )\n",
       "            (intermediate): BertIntermediate(\n",
       "              (dense): Linear(in_features=768, out_features=3072, bias=True)\n",
       "            )\n",
       "            (output): BertOutput(\n",
       "              (dense): Linear(in_features=3072, out_features=768, bias=True)\n",
       "              (LayerNorm): LayerNorm((768,), eps=1e-12, elementwise_affine=True)\n",
       "              (dropout): Dropout(p=0.1, inplace=False)\n",
       "            )\n",
       "          )\n",
       "          (11): BertLayer(\n",
       "            (attention): BertAttention(\n",
       "              (self): BertSelfAttention(\n",
       "                (query): Linear(in_features=768, out_features=768, bias=True)\n",
       "                (key): Linear(in_features=768, out_features=768, bias=True)\n",
       "                (value): Linear(in_features=768, out_features=768, bias=True)\n",
       "                (dropout): Dropout(p=0.1, inplace=False)\n",
       "              )\n",
       "              (output): BertSelfOutput(\n",
       "                (dense): Linear(in_features=768, out_features=768, bias=True)\n",
       "                (LayerNorm): LayerNorm((768,), eps=1e-12, elementwise_affine=True)\n",
       "                (dropout): Dropout(p=0.1, inplace=False)\n",
       "              )\n",
       "            )\n",
       "            (intermediate): BertIntermediate(\n",
       "              (dense): Linear(in_features=768, out_features=3072, bias=True)\n",
       "            )\n",
       "            (output): BertOutput(\n",
       "              (dense): Linear(in_features=3072, out_features=768, bias=True)\n",
       "              (LayerNorm): LayerNorm((768,), eps=1e-12, elementwise_affine=True)\n",
       "              (dropout): Dropout(p=0.1, inplace=False)\n",
       "            )\n",
       "          )\n",
       "        )\n",
       "      )\n",
       "    )\n",
       "  )\n",
       "  (dropout): Dropout(p=0.5, inplace=False)\n",
       "  (w1): Linear(in_features=768, out_features=8193, bias=True)\n",
       "  (transform): Identity()\n",
       "  (w_leaf): SparseLinear()\n",
       ")"
      ]
     },
     "execution_count": 303,
     "metadata": {},
     "output_type": "execute_result"
    }
   ],
   "source": [
    "net"
   ]
  },
  {
   "cell_type": "code",
   "execution_count": 304,
   "metadata": {},
   "outputs": [],
   "source": [
    "# net.load_state_dict(torch.load(f'Results/ELIAS/amazon-670k/Stage-1-0/model.pt', map_location='cpu'), strict=False)"
   ]
  },
  {
   "cell_type": "code",
   "execution_count": 305,
   "metadata": {},
   "outputs": [],
   "source": [
    "net.to(args.device);\n",
    "net.update()"
   ]
  },
  {
   "cell_type": "code",
   "execution_count": 306,
   "metadata": {},
   "outputs": [],
   "source": [
    "emb_mu = np.zeros((args.numy, args.embs_dim))\n",
    "bow_fts = normalize(sp.load_npz(f'{DATA_DIR}/X.trn.npz'), copy=False)\n",
    "bow_mu = trn_X_Y.T.tocsr().dot(bow_fts)\n",
    "trn_embs = np.zeros((trn_X_Y.shape[0], args.embs_dim))"
   ]
  },
  {
   "cell_type": "code",
   "execution_count": 307,
   "metadata": {},
   "outputs": [
    {
     "name": "stderr",
     "output_type": "stream",
     "text": [
      "Computing embs mu: 100%|██████████████████████████████████████████████████████████████████████████████████████████████████████████████████████████████████████████████████| 958/958 [03:21<00:00,  4.74it/s]\n"
     ]
    }
   ],
   "source": [
    "net.eval()\n",
    "with torch.no_grad():\n",
    "    for b in tqdm(trn_loader, desc='Computing embs mu'):\n",
    "        b = net.ToD(b)\n",
    "        b_ids = b['ids']\n",
    "        embs = net.encode(b).detach()\n",
    "        all_b_ids = b_ids.detach().cpu().numpy()\n",
    "        all_embs = embs.detach().cpu().numpy()\n",
    "        trn_embs[all_b_ids] = all_embs\n",
    "        \n",
    "        batch_X_Y = trn_X_Y[all_b_ids]\n",
    "        all_batch_Y = np.unique(batch_X_Y.indices)\n",
    "        batch_X_Y = batch_X_Y[:, all_batch_Y]\n",
    "        batch_Y_mu = batch_X_Y.T.tocsr().dot(normalize(all_embs, copy=False))\n",
    "        emb_mu[all_batch_Y] += batch_Y_mu"
   ]
  },
  {
   "cell_type": "code",
   "execution_count": 308,
   "metadata": {},
   "outputs": [],
   "source": [
    "combined_mu = normalize(sp.hstack([bow_mu, emb_mu]), copy=False).astype(np.float32)\n",
    "cmat = Indexer.gen(combined_mu, \n",
    "                   indexer_type=\"hierarchicalkmeans\", \n",
    "                   nr_splits=args.C, \n",
    "                   max_leaf_size=args.max_leaf, \n",
    "                   seed=args.cmat_seed).chain[-1].T\n",
    "# sp.save_npz(f'{args.OUT_DIR}/cmat.npz')"
   ]
  },
  {
   "cell_type": "code",
   "execution_count": 309,
   "metadata": {},
   "outputs": [
    {
     "data": {
      "text/plain": [
       "array([   760,   3764,   4781, ..., 652718, 655277, 662163], dtype=int32)"
      ]
     },
     "execution_count": 309,
     "metadata": {},
     "output_type": "execute_result"
    }
   ],
   "source": [
    "cmat.indices"
   ]
  },
  {
   "cell_type": "code",
   "execution_count": 310,
   "metadata": {},
   "outputs": [
    {
     "data": {
      "text/plain": [
       "<670091x136677 sparse matrix of type '<class 'numpy.float32'>'\n",
       "\twith 659240464 stored elements in Compressed Sparse Row format>"
      ]
     },
     "execution_count": 310,
     "metadata": {},
     "output_type": "execute_result"
    }
   ],
   "source": [
    "combined_mu"
   ]
  },
  {
   "cell_type": "code",
   "execution_count": 311,
   "metadata": {},
   "outputs": [
    {
     "data": {
      "text/plain": [
       "<670091x136677 sparse matrix of type '<class 'numpy.float32'>'\n",
       "\twith 659240467 stored elements in Compressed Sparse Row format>"
      ]
     },
     "execution_count": 311,
     "metadata": {},
     "output_type": "execute_result"
    }
   ],
   "source": [
    "label_feat"
   ]
  },
  {
   "cell_type": "markdown",
   "metadata": {},
   "source": [
    "abs(cmat.indices - temp_cmat.indices).sum()"
   ]
  },
  {
   "cell_type": "code",
   "execution_count": 295,
   "metadata": {},
   "outputs": [],
   "source": [
    "temp_cmat = sp.load_npz(f'Results/ELIAS/amazon-670k/Stage-1-0/cmat.temp.npz')"
   ]
  },
  {
   "cell_type": "code",
   "execution_count": 296,
   "metadata": {},
   "outputs": [
    {
     "data": {
      "text/plain": [
       "array([   760,   3764,   4781, ..., 652718, 655277, 662163], dtype=int32)"
      ]
     },
     "execution_count": 296,
     "metadata": {},
     "output_type": "execute_result"
    }
   ],
   "source": [
    "temp_cmat.indices"
   ]
  },
  {
   "cell_type": "code",
   "execution_count": 293,
   "metadata": {},
   "outputs": [],
   "source": [
    "orig_cmat = sp.load_npz(f'Results/ELIAS/amazon-670k/Stage-1-0/cmat.npz')"
   ]
  },
  {
   "cell_type": "code",
   "execution_count": 294,
   "metadata": {},
   "outputs": [
    {
     "data": {
      "text/plain": [
       "array([254247, 257041, 257177, ..., 613973, 633280, 648644], dtype=int32)"
      ]
     },
     "execution_count": 294,
     "metadata": {},
     "output_type": "execute_result"
    }
   ],
   "source": [
    "orig_cmat.indices"
   ]
  },
  {
   "cell_type": "code",
   "execution_count": 299,
   "metadata": {},
   "outputs": [
    {
     "name": "stderr",
     "output_type": "stream",
     "text": [
      "Encoding: 100%|█████████████████████████████████████████████████████████████████████████████████████████████████████████████████████████████████████████████████████████| 1916/1916 [02:52<00:00, 11.08it/s]\n"
     ]
    }
   ],
   "source": [
    "trn_embs = normalize(net.get_embs(trn_dataset), copy=False).astype(np.float32)\n",
    "cluster_embs = sp.hstack((net.bow_fts, trn_embs)).tocsr()\n",
    "\n",
    "label_feat = LabelEmbeddingFactory.create(trn_dataset.labels, cluster_embs, method=\"pifa\")\n",
    "net_cmat = Indexer.gen(label_feat, \n",
    "                   indexer_type=\"hierarchicalkmeans\", \n",
    "                   nr_splits=net.C, \n",
    "                   max_leaf_size=net.max_leaf, \n",
    "                   seed=net.cmat_seed).chain[-1].T"
   ]
  },
  {
   "cell_type": "code",
   "execution_count": 336,
   "metadata": {},
   "outputs": [],
   "source": [
    "temp_embs = sp.hstack([bow_fts, normalize(trn_embs)]).tocsr().astype(np.float32)"
   ]
  },
  {
   "cell_type": "code",
   "execution_count": 337,
   "metadata": {},
   "outputs": [],
   "source": [
    "temp_label_feat = LabelEmbeddingFactory.create(trn_X_Y, temp_embs, method=\"pifa\")"
   ]
  },
  {
   "cell_type": "code",
   "execution_count": null,
   "metadata": {},
   "outputs": [],
   "source": [
    "temp_l"
   ]
  },
  {
   "cell_type": "code",
   "execution_count": 301,
   "metadata": {},
   "outputs": [
    {
     "data": {
      "text/plain": [
       "<670091x136677 sparse matrix of type '<class 'numpy.float32'>'\n",
       "\twith 659240467 stored elements in Compressed Sparse Row format>"
      ]
     },
     "execution_count": 301,
     "metadata": {},
     "output_type": "execute_result"
    }
   ],
   "source": [
    "label_feat"
   ]
  },
  {
   "cell_type": "code",
   "execution_count": 14,
   "metadata": {},
   "outputs": [],
   "source": [
    "# MUFIN_DIR = '/mnt/disks/disk2/anshumitts/XC/results/ShoppingAds-10M-v2/MufinTextXC/v_default_run_d=128/module3'\n",
    "# encoder_state_dict = torch.load(f'{MUFIN_DIR}/encoder.pkl', map_location='cpu')\n",
    "# encoder_state_dict = {f'encoder.transformer.{\".\".join(k.split(\".\")[2:])}': v for k, v in encoder_state_dict.items()}\n",
    "\n",
    "# net.load_state_dict(encoder_state_dict, strict=False)"
   ]
  },
  {
   "cell_type": "code",
   "execution_count": 15,
   "metadata": {},
   "outputs": [],
   "source": [
    "if args.resume_path != '':\n",
    "    state_dict = torch.load(f'{LOAD_DIR}/model.pt', map_location='cpu')\n",
    "    new_state_dict = {k: v for k, v in state_dict.items() if 'C' not in k and 'w_leaf' not in k}\n",
    "    print(net.load_state_dict(new_state_dict, strict=False))"
   ]
  },
  {
   "cell_type": "code",
   "execution_count": 16,
   "metadata": {},
   "outputs": [
    {
     "name": "stdout",
     "output_type": "stream",
     "text": [
      "<All keys matched successfully>\n"
     ]
    }
   ],
   "source": [
    "# args.load_path=''\n",
    "# args.load_path = 'Results/ELIAS/ShoppingAds-10M-v2/Stage-2-0-no-swa/model.pt'\n",
    "args.load_path='Results/ELIAS/ShoppingAds-10M-v2/Stage-1-0-qbst/model.pt'\n",
    "# args.load_path='Results/ELIAS/ShoppingAds-100K/Stage-1-0/model.pt'\n",
    "# args.load_path = f'Resu'\n",
    "\n",
    "if args.load_path != '':\n",
    "    print(net.load_state_dict(torch.load(args.load_path, map_location='cpu'), strict=True))"
   ]
  },
  {
   "cell_type": "code",
   "execution_count": 17,
   "metadata": {
    "scrolled": true
   },
   "outputs": [
    {
     "data": {
      "text/plain": [
       "64"
      ]
     },
     "execution_count": 17,
     "metadata": {},
     "output_type": "execute_result"
    }
   ],
   "source": [
    "args.clf_dim"
   ]
  },
  {
   "cell_type": "code",
   "execution_count": 18,
   "metadata": {
    "ExecuteTime": {
     "end_time": "2022-04-20T19:14:39.594230Z",
     "start_time": "2022-04-20T19:14:38.324355Z"
    },
    "scrolled": true
   },
   "outputs": [],
   "source": [
    "net.to(args.device)\n",
    "net.update()"
   ]
  },
  {
   "cell_type": "code",
   "execution_count": 23,
   "metadata": {},
   "outputs": [
    {
     "data": {
      "text/plain": [
       "(20, 2000)"
      ]
     },
     "execution_count": 23,
     "metadata": {},
     "output_type": "execute_result"
    }
   ],
   "source": [
    "net.beam = 20\n",
    "net.K = 2000\n",
    "net.beam, net.K"
   ]
  },
  {
   "cell_type": "code",
   "execution_count": 20,
   "metadata": {
    "scrolled": true
   },
   "outputs": [
    {
     "name": "stderr",
     "output_type": "stream",
     "text": [
      "Evaluating: 100%|█████████████████████████████████████████████████████████████████████████████████████████████████████████████████████| 931/931 [02:06<00:00,  7.38it/s]\n"
     ]
    }
   ],
   "source": [
    "score_mat = net.predict(tst_loader, K=700);"
   ]
  },
  {
   "cell_type": "code",
   "execution_count": 21,
   "metadata": {},
   "outputs": [],
   "source": [
    "from resources import recall"
   ]
  },
  {
   "cell_type": "code",
   "execution_count": 22,
   "metadata": {},
   "outputs": [
    {
     "data": {
      "text/plain": [
       "{'R@10': 31.645324469786974,\n",
       " 'R@20': 42.655996452956494,\n",
       " 'R@50': 57.939536680568246,\n",
       " 'R@100': 68.4861022375928,\n",
       " 'R@200': 77.31670919478695,\n",
       " 'R@300': 81.47963980877768,\n",
       " 'R@500': 85.56164244656284,\n",
       " 'R@700': 87.59075225227345}"
      ]
     },
     "execution_count": 22,
     "metadata": {},
     "output_type": "execute_result"
    }
   ],
   "source": [
    "recall(score_mat, tst_X_Y, [10,20,50,100,200,300,500,700])"
   ]
  },
  {
   "cell_type": "code",
   "execution_count": 313,
   "metadata": {},
   "outputs": [
    {
     "data": {
      "text/plain": [
       "1.0"
      ]
     },
     "execution_count": 313,
     "metadata": {},
     "output_type": "execute_result"
    }
   ],
   "source": [
    "np.linalg.norm(combined_mu[0].data)"
   ]
  },
  {
   "cell_type": "code",
   "execution_count": 330,
   "metadata": {},
   "outputs": [
    {
     "data": {
      "text/plain": [
       "0.6560148"
      ]
     },
     "execution_count": 330,
     "metadata": {},
     "output_type": "execute_result"
    }
   ],
   "source": [
    "abs(combined_mu[1].data[-768:] - label_feat[1].data[-768:]).sum()"
   ]
  },
  {
   "cell_type": "code",
   "execution_count": 340,
   "metadata": {
    "scrolled": true
   },
   "outputs": [
    {
     "data": {
      "text/plain": [
       "6.2487925e-07"
      ]
     },
     "execution_count": 340,
     "metadata": {},
     "output_type": "execute_result"
    }
   ],
   "source": [
    "abs(temp_label_feat[5].data - label_feat[5].data).sum()"
   ]
  },
  {
   "cell_type": "code",
   "execution_count": 347,
   "metadata": {},
   "outputs": [],
   "source": [
    "A_bin = sp.load_npz(f'Results/ELIAS/amazon-670k/Stage-1-0-test/A_init.npz')"
   ]
  },
  {
   "cell_type": "code",
   "execution_count": 341,
   "metadata": {},
   "outputs": [],
   "source": [
    "A = sp.load_npz(f'Results/ELIAS/amazon-670k/Stage-1-0-test/A_init.npz')"
   ]
  },
  {
   "cell_type": "code",
   "execution_count": 362,
   "metadata": {},
   "outputs": [],
   "source": [
    "temp = sp.load_npz(f'Results/ELIAS/amazon-670k/Stage-1-0-test/A_init.npz')"
   ]
  },
  {
   "cell_type": "code",
   "execution_count": 361,
   "metadata": {},
   "outputs": [],
   "source": [
    "sp.save_npz(f'Results/ELIAS/amazon-670k/Stage-1-0-test/A_init.npz', A)"
   ]
  },
  {
   "cell_type": "code",
   "execution_count": 348,
   "metadata": {
    "scrolled": true
   },
   "outputs": [
    {
     "data": {
      "text/plain": [
       "(645, 571)"
      ]
     },
     "execution_count": 348,
     "metadata": {},
     "output_type": "execute_result"
    }
   ],
   "source": [
    "A.getnnz(0).max(), A_bin.getnnz(0).max()"
   ]
  },
  {
   "cell_type": "code",
   "execution_count": 350,
   "metadata": {},
   "outputs": [
    {
     "data": {
      "text/plain": [
       "(52680,)"
      ]
     },
     "execution_count": 350,
     "metadata": {},
     "output_type": "execute_result"
    }
   ],
   "source": [
    "np.where(A_bin.getnnz(0) == 0)[0].shape\n"
   ]
  },
  {
   "cell_type": "code",
   "execution_count": 355,
   "metadata": {},
   "outputs": [],
   "source": [
    "import matplotlib.pyplot as plt"
   ]
  },
  {
   "cell_type": "code",
   "execution_count": 356,
   "metadata": {},
   "outputs": [],
   "source": [
    "plt.style.use('default')"
   ]
  },
  {
   "cell_type": "code",
   "execution_count": 358,
   "metadata": {},
   "outputs": [
    {
     "name": "stderr",
     "output_type": "stream",
     "text": [
      "/home/nilesh/miniconda3/lib/python3.9/site-packages/seaborn/distributions.py:2619: FutureWarning: `distplot` is a deprecated function and will be removed in a future version. Please adapt your code to use either `displot` (a figure-level function with similar flexibility) or `histplot` (an axes-level function for histograms).\n",
      "  warnings.warn(msg, FutureWarning)\n"
     ]
    },
    {
     "data": {
      "text/plain": [
       "<AxesSubplot:ylabel='Density'>"
      ]
     },
     "execution_count": 358,
     "metadata": {},
     "output_type": "execute_result"
    },
    {
     "data": {
      "image/png": "[encoded data removed]",
      "text/plain": [
       "<Figure size 640x480 with 1 Axes>"
      ]
     },
     "metadata": {},
     "output_type": "display_data"
    }
   ],
   "source": [
    "sns.distplot(A.getnnz(0))"
   ]
  },
  {
   "cell_type": "code",
   "execution_count": 360,
   "metadata": {},
   "outputs": [
    {
     "name": "stderr",
     "output_type": "stream",
     "text": [
      "/home/nilesh/miniconda3/lib/python3.9/site-packages/seaborn/distributions.py:2619: FutureWarning: `distplot` is a deprecated function and will be removed in a future version. Please adapt your code to use either `displot` (a figure-level function with similar flexibility) or `histplot` (an axes-level function for histograms).\n",
      "  warnings.warn(msg, FutureWarning)\n"
     ]
    },
    {
     "data": {
      "text/plain": [
       "<AxesSubplot:>"
      ]
     },
     "execution_count": 360,
     "metadata": {},
     "output_type": "execute_result"
    },
    {
     "data": {
      "image/png": "[encoded data removed]",
      "text/plain": [
       "<Figure size 640x480 with 1 Axes>"
      ]
     },
     "metadata": {},
     "output_type": "display_data"
    }
   ],
   "source": [
    "import seaborn as sns\n",
    "sns.distplot(A_bin.getnnz(0), kde=False)\n",
    "sns.distplot(A.getnnz(0), kde=False)"
   ]
  },
  {
   "cell_type": "code",
   "execution_count": null,
   "metadata": {},
   "outputs": [],
   "source": [
    "nnz = np.where()"
   ]
  },
  {
   "cell_type": "code",
   "execution_count": 334,
   "metadata": {},
   "outputs": [
    {
     "data": {
      "text/plain": [
       "array([[-3.68854925e-02, -1.82484034e-02, -1.05221644e-02,\n",
       "         1.50246490e-02, -2.89593600e-02, -4.32539685e-03,\n",
       "        -9.54634696e-03, -1.55779286e-04, -2.20006239e-03,\n",
       "        -2.49040257e-02, -6.59288978e-03,  9.89418197e-03,\n",
       "        -4.18368615e-02,  6.36877865e-02,  3.08492668e-02,\n",
       "         4.41756584e-02, -1.66690610e-02,  9.70246922e-03,\n",
       "        -3.18772462e-03,  1.48165217e-02, -2.02644933e-02,\n",
       "         8.35457700e-04,  2.97498256e-02,  4.67501506e-02,\n",
       "        -1.36745267e-03, -5.57110365e-03, -2.22789589e-02,\n",
       "        -1.03101293e-02,  7.64232548e-03,  1.89241730e-02,\n",
       "        -2.77570151e-02,  1.63872782e-02,  4.67612932e-04,\n",
       "        -3.79658788e-02,  2.06490792e-02, -2.74814870e-02,\n",
       "         1.27543984e-02, -2.63458975e-02, -6.06203079e-03,\n",
       "         9.61263571e-03, -3.60228075e-03,  6.37446623e-03,\n",
       "        -2.77214404e-03, -1.92488227e-02, -1.67055391e-02,\n",
       "        -7.54263438e-03, -2.79034734e-01, -2.62135305e-02,\n",
       "        -4.52072825e-03,  2.73430888e-02, -6.13908865e-04,\n",
       "        -3.67386378e-02,  2.78610419e-02,  1.60440486e-02,\n",
       "         3.74765433e-02,  5.17575927e-02, -2.25655269e-02,\n",
       "        -1.70167647e-02,  1.09549118e-02,  1.52029209e-02,\n",
       "         3.68105061e-02, -1.13548273e-02, -1.75762177e-02,\n",
       "        -2.86837723e-02, -1.96963437e-02,  2.08178349e-02,\n",
       "         6.10280316e-03, -1.37891779e-02, -3.38393115e-02,\n",
       "         6.38634060e-03, -2.27306876e-02,  2.51648691e-03,\n",
       "         2.46401969e-02,  6.63157133e-03, -1.05182482e-02,\n",
       "         1.80217065e-02, -5.47294691e-02,  8.65588896e-03,\n",
       "        -4.96561192e-02, -2.96601783e-02, -1.08323749e-02,\n",
       "         1.67345330e-02,  3.53327952e-02,  7.37497490e-03,\n",
       "        -7.35144224e-03, -3.24306777e-03, -2.62993835e-02,\n",
       "        -2.49781590e-02,  9.18462034e-03,  3.41558456e-02,\n",
       "        -5.11540323e-02, -2.23733187e-02, -1.88435130e-02,\n",
       "         2.99972352e-02,  3.35492976e-02, -2.10818127e-02,\n",
       "         1.45787168e-02, -3.20796371e-02, -1.11139109e-02,\n",
       "         2.48950105e-02,  1.52759766e-02,  1.45405233e-02,\n",
       "         4.03536577e-03, -4.51962948e-02,  7.42761558e-03,\n",
       "         6.24024868e-03,  2.47522071e-02, -6.11268962e-03,\n",
       "        -3.33039789e-04, -6.40282184e-02,  2.58427151e-02,\n",
       "         1.56903528e-02,  1.32625904e-02, -4.64317501e-02,\n",
       "        -4.04811418e-03,  1.03790201e-02,  2.34828629e-02,\n",
       "        -2.26520579e-02, -2.67278273e-02, -1.89003125e-02,\n",
       "         2.77044829e-02, -1.84452403e-02, -1.41558237e-02,\n",
       "         3.49351903e-03, -9.21170786e-03, -1.33455796e-02,\n",
       "        -2.22953595e-02, -2.47536544e-02,  1.82920638e-02,\n",
       "         2.61975569e-03,  1.25078605e-02,  1.33423917e-02,\n",
       "        -2.71861963e-02, -3.41363922e-02, -7.54515687e-03,\n",
       "         3.62401754e-02,  1.63164735e-02,  7.19248503e-03,\n",
       "        -1.81284659e-02, -2.69343937e-03, -5.04666343e-02,\n",
       "        -9.75687243e-03, -1.47932395e-01, -8.16508476e-03,\n",
       "         8.07354897e-02,  5.60057499e-02,  1.74286438e-03,\n",
       "         2.50012092e-02, -4.32223827e-03,  1.08955719e-03,\n",
       "         2.83359969e-03, -1.20212641e-02, -6.71882508e-03,\n",
       "        -3.00565772e-02, -9.24770627e-03,  5.58138418e-04,\n",
       "         3.66504379e-02,  2.03191880e-02, -6.04101224e-03,\n",
       "         5.12628332e-02,  3.51491161e-02,  1.76403169e-02,\n",
       "        -5.26603777e-03, -1.61270145e-02,  1.78335141e-02,\n",
       "         2.62206551e-02,  3.56693342e-02,  5.10873599e-03,\n",
       "        -3.20957322e-03, -1.49554072e-03,  3.02748308e-02,\n",
       "         2.39776615e-02,  7.40137398e-02, -3.40938941e-03,\n",
       "         3.46686803e-02,  1.78122446e-02,  5.44636138e-02,\n",
       "         5.43596596e-02, -1.78441536e-02, -2.92851739e-02,\n",
       "        -5.41131943e-02, -4.51305276e-03,  4.61278111e-03,\n",
       "        -9.31703113e-03,  1.98749378e-02, -6.82555325e-03,\n",
       "        -1.34133911e-02, -4.33778614e-02, -1.92172937e-02,\n",
       "        -1.09916367e-02, -2.94196028e-02, -2.41656117e-02,\n",
       "         8.64731334e-03,  2.90784650e-02,  6.75392449e-02,\n",
       "         3.80911678e-03,  4.74846177e-03, -2.73377039e-02,\n",
       "         2.52073020e-04,  5.59753226e-03,  5.56528848e-03,\n",
       "         5.72729064e-03,  3.36564779e-02,  8.14051833e-03,\n",
       "        -2.47776732e-02,  2.57959425e-01, -1.23231197e-02,\n",
       "         2.76452135e-02,  3.20939999e-03,  3.23463455e-02,\n",
       "        -3.08967754e-02, -1.18109612e-02, -4.23654839e-02,\n",
       "        -3.72917904e-03, -3.53153609e-03,  8.89100693e-03,\n",
       "         1.54691814e-02, -5.52957924e-03, -1.28413234e-02,\n",
       "        -2.42789853e-02,  1.64950620e-02,  3.21370997e-02,\n",
       "        -1.77615066e-03, -1.91293005e-02, -3.52463759e-02,\n",
       "         4.60825115e-02, -4.09942120e-02, -9.89159290e-03,\n",
       "         3.10701691e-02, -9.59649161e-02,  3.06556802e-02,\n",
       "        -3.42538022e-02, -1.84340663e-02, -7.22941058e-03,\n",
       "        -1.82258990e-02, -9.46290616e-04, -2.42924225e-02,\n",
       "        -1.64189208e-02,  6.29318319e-03,  7.89913628e-03,\n",
       "        -1.28879268e-02, -3.59032326e-03,  3.27127241e-02,\n",
       "         3.64517793e-02, -2.28482109e-04,  2.42715981e-02,\n",
       "         2.99763517e-03, -2.60728206e-02, -1.51547678e-02,\n",
       "        -2.63805352e-02, -2.27023885e-02,  3.42335962e-02,\n",
       "         2.27842573e-02,  2.91617326e-02,  8.97654798e-03,\n",
       "         9.85723455e-03,  2.18666736e-02, -3.85696488e-03,\n",
       "        -4.12438959e-02, -1.99403334e-02,  1.49751399e-02,\n",
       "        -1.11036934e-02,  3.11533529e-02,  4.05063927e-02,\n",
       "        -2.35107094e-02, -4.03176285e-02, -8.26604199e-03,\n",
       "        -2.61589624e-02, -1.21499263e-02,  2.37059477e-03,\n",
       "        -1.62186176e-02, -3.30375172e-02, -4.56260629e-02,\n",
       "        -1.35176599e-01,  3.37931141e-03, -4.35102126e-03,\n",
       "         3.19512263e-02, -8.74200184e-03,  1.34158274e-02,\n",
       "        -2.69183908e-02,  3.99880260e-02,  1.25254774e-02,\n",
       "         4.35136352e-03,  2.86385864e-02,  2.35669562e-04,\n",
       "        -3.52309607e-02,  1.95836741e-02, -5.30453771e-02,\n",
       "         3.34346928e-02,  2.96158213e-02, -5.04605621e-02,\n",
       "        -3.49543691e-02, -1.96761768e-02, -1.98602788e-02,\n",
       "         2.63907807e-03,  1.96853131e-02,  2.62248516e-03,\n",
       "         3.89541723e-02,  1.50157660e-02, -2.09751707e-02,\n",
       "        -5.95742427e-02, -1.10577345e-02, -7.51374243e-03,\n",
       "         1.88329909e-02, -2.50283200e-02,  8.21042340e-03,\n",
       "        -3.30129825e-02, -3.03505566e-02, -2.01792210e-01,\n",
       "         2.70441156e-02, -2.21995710e-04, -4.74813543e-02,\n",
       "         2.08790619e-02,  2.24037319e-02,  7.78099820e-02,\n",
       "         1.91700850e-02, -2.56216526e-02, -1.94866750e-02,\n",
       "        -1.05568452e-03, -9.68176965e-03,  6.66841567e-02,\n",
       "        -2.00127009e-02,  3.46279703e-02,  1.20807393e-02,\n",
       "         3.92831266e-02, -5.74482009e-02, -2.86266990e-02,\n",
       "         2.42256485e-02, -1.42395915e-02, -3.76332849e-02,\n",
       "         1.11254873e-02, -3.43882367e-02,  7.74052925e-03,\n",
       "         4.02395949e-02, -8.01959559e-02, -1.86423212e-02,\n",
       "         1.43037178e-02,  2.44764835e-02,  8.62940494e-03,\n",
       "        -3.22573632e-02, -2.21024523e-03, -3.29523273e-02,\n",
       "        -2.52524111e-02, -2.60467604e-02,  1.08352685e-02,\n",
       "         2.48886459e-03,  8.19068477e-02, -1.26500102e-02,\n",
       "         1.37950582e-02,  4.83212620e-02,  2.81927604e-02,\n",
       "        -1.16234217e-02,  6.23839833e-02, -1.02500217e-02,\n",
       "         4.72656544e-03, -3.42263468e-03, -8.86905380e-03,\n",
       "         5.11446819e-02,  1.99679229e-02,  4.68877656e-03,\n",
       "         4.49200235e-02, -1.31610129e-02, -1.37336189e-02,\n",
       "         2.20450945e-02,  2.24954914e-02, -3.39764939e-03,\n",
       "        -3.81983742e-02,  8.32364801e-03,  6.04244433e-02,\n",
       "        -3.77946533e-02,  5.89926960e-03,  1.37627488e-02,\n",
       "         4.79292274e-02, -8.26458335e-02,  1.52490754e-02,\n",
       "        -4.01177891e-02,  1.09921657e-02, -6.22991426e-03,\n",
       "        -5.38909100e-02,  3.17563340e-02, -6.00674488e-02,\n",
       "        -7.39717409e-02, -2.14406499e-03, -5.83987217e-03,\n",
       "        -8.74288101e-03, -6.57046353e-03, -1.57926511e-02,\n",
       "         2.68050414e-02, -1.08647645e-02, -3.89418490e-02,\n",
       "        -3.52093279e-02,  1.73376985e-02, -7.55429640e-03,\n",
       "        -1.91446487e-02,  2.35398617e-02,  2.29564812e-02,\n",
       "        -3.59626710e-02, -5.77876717e-03,  8.48123524e-03,\n",
       "         4.47300170e-03,  4.40171771e-02,  1.96017995e-02,\n",
       "        -2.79907826e-02, -3.24341282e-02,  2.73058619e-02,\n",
       "        -4.44110148e-02,  2.01038048e-02, -1.60282524e-03,\n",
       "         3.23865376e-02, -3.05907074e-02, -2.15010555e-03,\n",
       "        -4.33844514e-02, -3.63668166e-02, -4.32666950e-02,\n",
       "        -3.04043144e-02,  3.90319191e-02,  3.82624520e-03,\n",
       "        -5.84953884e-03, -3.79721783e-02, -2.71800272e-02,\n",
       "        -1.63529664e-02,  1.17667345e-03,  1.25243425e-01,\n",
       "        -1.52389547e-02, -1.00533869e-02,  7.40949884e-02,\n",
       "         1.04361987e-02,  1.55823193e-02, -3.75335366e-02,\n",
       "         1.76736210e-02, -9.98713169e-03,  9.27900616e-03,\n",
       "         1.36152618e-02,  7.09737372e-03, -6.77426066e-03,\n",
       "         2.24416088e-02,  5.01416530e-03,  6.94538816e-04,\n",
       "        -6.91202749e-03,  1.54299913e-02, -6.40510544e-02,\n",
       "        -2.81844717e-02, -1.04862517e-02, -3.05500701e-02,\n",
       "        -2.65726745e-02,  3.48706320e-02,  3.71871470e-03,\n",
       "         2.06610113e-02,  1.52054895e-02, -1.61703750e-02,\n",
       "        -2.55685151e-02,  1.18752858e-02, -1.80467796e-02,\n",
       "         1.96222067e-02,  1.45029230e-03,  2.98026633e-02,\n",
       "        -8.49162228e-03,  4.51823212e-02,  4.90816217e-03,\n",
       "         5.10174632e-02,  5.58529887e-03, -3.69136371e-02,\n",
       "        -4.68214788e-03, -1.33433873e-02, -5.08793518e-02,\n",
       "         2.33197063e-02, -1.49535164e-02, -3.10915918e-03,\n",
       "         2.10111998e-02,  4.38681170e-02, -1.62740156e-01,\n",
       "         2.16954178e-03,  1.53009640e-02,  4.58877720e-03,\n",
       "         1.65599845e-02, -3.39966901e-02, -1.87009852e-02,\n",
       "         1.03111314e-02, -1.93133093e-02,  9.92859714e-03,\n",
       "        -6.45247195e-03, -1.57012381e-02,  3.18822525e-02,\n",
       "        -2.98675220e-03, -4.02988633e-03, -2.90643163e-02,\n",
       "         7.90427346e-03, -1.57834571e-02,  2.87997909e-02,\n",
       "        -3.51609569e-03, -4.24195416e-02,  3.26143391e-03,\n",
       "         1.32247433e-02, -2.28648242e-02, -1.35925761e-03,\n",
       "        -2.31468156e-02, -3.21699977e-02,  3.81016620e-02,\n",
       "         5.66050336e-02,  6.05957136e-02, -1.76610928e-02,\n",
       "        -3.92053761e-02, -6.67381659e-02,  1.27701170e-03,\n",
       "        -3.76647152e-03,  6.46796601e-04,  4.02746573e-02,\n",
       "        -6.64216606e-03,  3.34142782e-02,  2.92571932e-02,\n",
       "        -2.76223924e-02,  1.39850629e-02,  5.80876470e-02,\n",
       "         2.32280660e-02,  5.71448579e-02,  1.99437551e-02,\n",
       "         5.48833562e-03,  2.68015005e-02, -2.68176012e-03,\n",
       "        -5.77091053e-03,  2.91864406e-02,  5.70023293e-03,\n",
       "        -1.51072834e-02, -1.20882606e-02, -2.87097525e-02,\n",
       "         6.30420726e-03, -2.85758786e-02,  2.64003873e-02,\n",
       "        -4.19618785e-02, -1.06243370e-02,  5.22938706e-02,\n",
       "        -4.51227762e-02, -2.51330733e-02,  2.55921055e-02,\n",
       "        -6.40696613e-03, -6.37242645e-02, -4.33590263e-02,\n",
       "         1.26785599e-02, -2.24654563e-02,  1.68223362e-02,\n",
       "         2.98300087e-02,  3.49802338e-02, -4.08567190e-02,\n",
       "         4.67980020e-02, -4.73809205e-02, -1.97465066e-02,\n",
       "        -1.55520495e-02,  5.62400836e-03,  3.76919806e-02,\n",
       "        -2.71007698e-02,  2.65771430e-02, -2.23716050e-02,\n",
       "         6.46580234e-02,  3.49855609e-02, -1.68530475e-02,\n",
       "         3.45285647e-02,  7.01818941e-03, -3.85657977e-03,\n",
       "         2.40510725e-03,  9.83787049e-03, -3.56987230e-02,\n",
       "        -4.50587757e-02,  1.64002907e-02,  1.26599381e-02,\n",
       "         5.42739313e-03, -2.82094232e-03, -1.44194243e-02,\n",
       "        -1.48658315e-02, -1.31752724e-02, -5.18801883e-02,\n",
       "        -2.50159279e-02, -6.53833570e-03,  4.19653356e-02,\n",
       "        -2.26980112e-02, -2.69015785e-02,  3.36934403e-02,\n",
       "         4.94933911e-02,  1.51939681e-02, -3.24183330e-02,\n",
       "         9.70605202e-03,  3.37945111e-02,  3.48826475e-03,\n",
       "         5.88979479e-03,  2.63779331e-02,  5.12453094e-02,\n",
       "        -3.08342967e-02, -3.79686244e-02, -3.72107178e-02,\n",
       "         8.03207010e-02,  1.07714413e-02, -1.55709358e-02,\n",
       "         1.93957165e-02,  3.43139507e-02, -5.09591326e-02,\n",
       "         2.19274368e-02, -2.07905759e-05, -6.88900985e-03,\n",
       "         3.05385385e-02, -2.23947834e-04,  3.92675996e-02,\n",
       "         2.58676820e-02,  2.53222324e-02,  8.09398219e-02,\n",
       "         2.66143084e-02,  8.65816697e-03, -2.94288937e-02,\n",
       "        -4.56437282e-02,  5.48628494e-02, -6.64838403e-03,\n",
       "         6.61355853e-02,  5.20246141e-02, -5.94498916e-03,\n",
       "        -1.31803472e-02,  1.12118740e-02, -3.44859087e-03,\n",
       "        -1.98059883e-02, -2.04143040e-02,  8.22375044e-02,\n",
       "        -3.28918882e-02, -9.82683990e-03,  4.12494466e-02,\n",
       "         1.02062542e-02, -6.15975820e-02, -8.80033430e-03,\n",
       "        -1.47978747e-02,  1.04715638e-02, -7.40966108e-03,\n",
       "        -1.81439128e-02,  7.00088963e-03,  1.01616690e-02,\n",
       "         4.07875590e-02, -2.94539239e-02,  6.50574127e-03,\n",
       "         5.80010228e-02,  2.36263443e-02,  4.77842893e-03,\n",
       "         1.37597518e-02,  3.83817889e-02,  2.66546533e-02,\n",
       "        -1.35828676e-02, -1.84441078e-02, -4.92954510e-04,\n",
       "        -1.75251365e-02, -1.15039684e-02, -6.42319815e-03,\n",
       "        -6.66825054e-03,  5.90367382e-03,  1.97949819e-02,\n",
       "        -2.38375533e-02,  5.50336540e-02,  3.83506715e-02,\n",
       "        -2.40888335e-02,  8.87768401e-04, -1.57214198e-02,\n",
       "        -2.82581733e-03,  5.35343587e-02,  2.26557981e-02,\n",
       "        -3.04323472e-02,  3.02461796e-02,  3.49125676e-02,\n",
       "         1.52715971e-03, -2.37077978e-02,  2.54418440e-02,\n",
       "         5.18559776e-02,  6.70171306e-02, -5.29173436e-03,\n",
       "        -3.41862887e-02, -1.02310896e-01, -8.02958850e-03,\n",
       "         2.71495543e-02,  8.16504136e-02, -3.47026922e-02,\n",
       "         8.33135322e-02,  4.59809266e-02, -4.24669636e-03,\n",
       "        -1.77465547e-02, -3.68041843e-02, -4.40371688e-04,\n",
       "         2.65290663e-02,  5.24715558e-02, -1.26644438e-02,\n",
       "         1.78021111e-03, -3.17067206e-02,  4.45174165e-02,\n",
       "        -2.64546536e-02, -2.52221655e-02,  1.30617816e-03,\n",
       "         1.94690529e-06, -6.09320821e-03, -5.00928424e-02,\n",
       "        -4.63358536e-02, -8.13661665e-02, -1.54524110e-02,\n",
       "         2.02845521e-02,  1.48375593e-02, -1.60586573e-02,\n",
       "         6.18043803e-02, -1.23991994e-02,  5.39764129e-02,\n",
       "        -3.29439007e-02, -9.38713830e-03,  1.01266652e-02,\n",
       "         8.00316408e-03, -2.47422215e-02,  3.32754180e-02,\n",
       "        -1.59527380e-02,  2.21401080e-02, -5.63816130e-02,\n",
       "         7.26728067e-02, -4.71035093e-02,  3.99646815e-03,\n",
       "         2.69717649e-02,  9.89490096e-03,  4.37682383e-02,\n",
       "        -2.63568778e-02,  4.02215645e-02, -1.17806047e-02,\n",
       "        -3.91760049e-03,  2.44748127e-02,  1.96200311e-02,\n",
       "        -1.52423419e-02,  1.58704538e-02,  1.74694303e-02,\n",
       "        -1.73843130e-02, -2.56756693e-02,  2.95383087e-03,\n",
       "        -3.78483385e-02, -4.92490269e-02,  1.81236733e-02,\n",
       "         3.22009227e-03,  1.25327297e-02,  5.60316956e-03,\n",
       "        -2.52433289e-02, -2.30622459e-02, -1.20548345e-02,\n",
       "         7.97517039e-03, -6.00887649e-02, -1.23497667e-02,\n",
       "         1.61409676e-02,  1.23588080e-02,  2.73197107e-02,\n",
       "         3.58738936e-02,  1.92597322e-02,  7.09218811e-03,\n",
       "         7.06855133e-02,  7.32628861e-03, -6.97385818e-02,\n",
       "        -1.61480159e-02, -1.32153351e-02,  8.99044424e-03,\n",
       "        -1.13043580e-02,  1.81220507e-03, -2.89248258e-01,\n",
       "        -1.79101638e-02, -3.94664109e-02, -1.22901937e-02,\n",
       "        -1.80148392e-03, -4.66896519e-02, -6.99464278e-03,\n",
       "        -4.32694657e-03, -1.41729824e-02, -3.73926498e-02,\n",
       "         3.16306017e-02, -3.00141750e-03, -2.00733095e-02,\n",
       "         1.69631075e-02,  4.37349416e-02, -4.40628640e-03]], dtype=float32)"
      ]
     },
     "execution_count": 334,
     "metadata": {},
     "output_type": "execute_result"
    }
   ],
   "source": [
    "normalize(combined_mu[1].data[-768:].reshape(1, -1))"
   ]
  },
  {
   "cell_type": "code",
   "execution_count": 335,
   "metadata": {
    "scrolled": true
   },
   "outputs": [
    {
     "data": {
      "text/plain": [
       "array([[-3.65869477e-02, -1.81858353e-02, -8.12750030e-03,\n",
       "         1.40299061e-02, -2.61557084e-02, -6.70622755e-03,\n",
       "        -1.05847288e-02,  1.31195784e-03, -2.21949350e-03,\n",
       "        -2.49404870e-02, -5.65765332e-03,  1.02618281e-02,\n",
       "        -4.05083783e-02,  6.21510968e-02,  3.03413272e-02,\n",
       "         4.32767645e-02, -1.74565967e-02,  9.90287587e-03,\n",
       "        -1.95089984e-03,  1.56149808e-02, -1.95899643e-02,\n",
       "         1.67818071e-04,  2.93865986e-02,  4.61756177e-02,\n",
       "         2.36977459e-04, -4.58773924e-03, -2.15628296e-02,\n",
       "        -1.16044357e-02,  6.30757120e-03,  2.09421273e-02,\n",
       "        -2.67143473e-02,  1.65692493e-02,  7.73742737e-04,\n",
       "        -3.69636491e-02,  1.99988354e-02, -2.67856661e-02,\n",
       "         1.28347622e-02, -2.57918499e-02, -3.54756345e-03,\n",
       "         9.60130896e-03, -4.35701152e-03,  6.52065314e-03,\n",
       "        -1.92264828e-03, -2.07739640e-02, -1.61171816e-02,\n",
       "        -7.86380656e-03, -2.81325668e-01, -2.56618187e-02,\n",
       "        -3.83539940e-03,  2.24639382e-02,  1.02220976e-03,\n",
       "        -3.47984470e-02,  2.53348779e-02,  1.66779347e-02,\n",
       "         3.80103290e-02,  4.99814004e-02, -2.29759533e-02,\n",
       "        -1.62740089e-02,  1.17950523e-02,  1.42489420e-02,\n",
       "         3.63292061e-02, -1.21398456e-02, -1.77002270e-02,\n",
       "        -2.69246902e-02, -2.03051828e-02,  2.19290629e-02,\n",
       "         7.54041318e-03, -1.34535488e-02, -3.21527421e-02,\n",
       "         7.44700246e-03, -2.27054134e-02,  2.90418137e-03,\n",
       "         2.55339351e-02,  5.32817282e-03, -7.60227116e-03,\n",
       "         1.96880791e-02, -5.35334460e-02,  6.93351869e-03,\n",
       "        -4.91699204e-02, -2.71693002e-02, -9.99549590e-03,\n",
       "         1.69918202e-02,  3.62055078e-02,  6.18734071e-03,\n",
       "        -5.92715433e-03, -5.39448624e-03, -2.52974555e-02,\n",
       "        -2.42050570e-02,  8.00027419e-03,  3.44971307e-02,\n",
       "        -4.97688651e-02, -1.99957602e-02, -2.02588905e-02,\n",
       "         2.95433495e-02,  3.40198874e-02, -2.25859918e-02,\n",
       "         1.59152038e-02, -3.12714614e-02, -9.55139101e-03,\n",
       "         2.32940074e-02,  1.61912255e-02,  1.42579898e-02,\n",
       "         5.29024110e-04, -4.73170616e-02,  8.83259904e-03,\n",
       "         7.91788101e-03,  2.54222490e-02, -3.57280509e-03,\n",
       "        -3.94351868e-04, -6.56276494e-02,  2.59109102e-02,\n",
       "         1.61987878e-02,  1.66332871e-02, -4.67465930e-02,\n",
       "        -2.59608543e-03,  1.01055885e-02,  2.28638034e-02,\n",
       "        -2.34290008e-02, -2.58438606e-02, -1.75444465e-02,\n",
       "         2.58009117e-02, -1.72580089e-02, -1.24319931e-02,\n",
       "         2.08615814e-03, -6.91387756e-03, -1.37138385e-02,\n",
       "        -2.09515113e-02, -2.31993552e-02,  1.77154578e-02,\n",
       "         3.80504737e-03,  1.37398494e-02,  1.17338169e-02,\n",
       "        -2.74835918e-02, -3.20730656e-02, -9.68790427e-03,\n",
       "         3.65577340e-02,  1.60832703e-02,  6.88938005e-03,\n",
       "        -2.04350092e-02, -3.78966145e-03, -5.00065535e-02,\n",
       "        -8.34520906e-03, -1.51170433e-01, -9.95670725e-03,\n",
       "         7.75456056e-02,  5.44048287e-02,  3.62257659e-03,\n",
       "         2.63857972e-02, -4.45403345e-03,  2.43564649e-03,\n",
       "         5.09701855e-03, -9.47167724e-03, -7.73771014e-03,\n",
       "        -2.99337581e-02, -7.07971677e-03,  2.84150126e-04,\n",
       "         3.56563739e-02,  2.17034612e-02, -6.65470725e-03,\n",
       "         4.98672388e-02,  3.55865844e-02,  1.84885990e-02,\n",
       "        -5.65746101e-03, -1.77949015e-02,  1.90417264e-02,\n",
       "         2.42060293e-02,  3.37519348e-02,  4.81413305e-03,\n",
       "        -1.21468643e-03, -2.34154030e-03,  3.10625918e-02,\n",
       "         2.55229287e-02,  7.38858357e-02, -5.20465779e-04,\n",
       "         3.51039842e-02,  2.06675231e-02,  5.35077751e-02,\n",
       "         5.23231737e-02, -1.62354279e-02, -2.86323950e-02,\n",
       "        -5.49264401e-02, -3.74733424e-03,  6.45048264e-03,\n",
       "        -9.02432483e-03,  2.06795521e-02, -8.85698013e-03,\n",
       "        -1.28395753e-02, -4.27127108e-02, -1.76872816e-02,\n",
       "        -1.15957260e-02, -2.86549442e-02, -2.51856744e-02,\n",
       "         7.52937794e-03,  2.55833250e-02,  6.56748489e-02,\n",
       "         5.90827363e-03,  3.34743038e-03, -2.87722517e-02,\n",
       "         8.92088399e-04,  4.99355420e-03,  5.40008303e-03,\n",
       "         6.16756640e-03,  3.43964919e-02,  8.61167628e-03,\n",
       "        -2.73321327e-02,  2.61106104e-01, -1.26880305e-02,\n",
       "         2.71326005e-02,  3.08408402e-03,  3.15370448e-02,\n",
       "        -2.81901173e-02, -1.16632534e-02, -4.38233130e-02,\n",
       "        -5.56450617e-03, -4.40467894e-03,  9.24623664e-03,\n",
       "         1.78149883e-02, -3.46130715e-03, -1.18858134e-02,\n",
       "        -2.47600339e-02,  1.57481767e-02,  3.27530392e-02,\n",
       "        -5.18777221e-03, -1.67350303e-02, -3.57212201e-02,\n",
       "         4.40221094e-02, -4.13943268e-02, -1.02630733e-02,\n",
       "         3.10177915e-02, -9.70068648e-02,  3.04561686e-02,\n",
       "        -3.43791619e-02, -1.77859105e-02, -6.94474624e-03,\n",
       "        -1.98282227e-02, -5.68248797e-04, -2.28720717e-02,\n",
       "        -1.55339045e-02,  6.64222147e-03,  8.71280115e-03,\n",
       "        -1.24596134e-02, -2.59802182e-04,  2.94018798e-02,\n",
       "         3.60202603e-02, -2.76046747e-04,  2.32154801e-02,\n",
       "         2.88625900e-03, -2.69612521e-02, -1.54378796e-02,\n",
       "        -2.57986151e-02, -2.24297252e-02,  3.65209989e-02,\n",
       "         2.39046235e-02,  2.86382493e-02,  1.06971683e-02,\n",
       "         1.10550942e-02,  2.01787837e-02, -4.90458589e-03,\n",
       "        -4.17416580e-02, -1.98688786e-02,  1.40693169e-02,\n",
       "        -1.16214706e-02,  2.92382352e-02,  4.26962413e-02,\n",
       "        -2.45718714e-02, -3.96624096e-02, -6.78976905e-03,\n",
       "        -2.65670754e-02, -1.33174742e-02,  2.61282152e-03,\n",
       "        -1.74850598e-02, -3.08950078e-02, -4.53472808e-02,\n",
       "        -1.38667390e-01,  2.28461088e-03, -5.91536332e-03,\n",
       "         3.13096046e-02, -6.66586589e-03,  1.57150682e-02,\n",
       "        -2.82007698e-02,  3.76305170e-02,  1.30294822e-02,\n",
       "         3.85464937e-03,  2.86403634e-02, -1.43587613e-03,\n",
       "        -3.47448662e-02,  2.07334366e-02, -5.35375141e-02,\n",
       "         3.31088901e-02,  2.98896786e-02, -5.02932370e-02,\n",
       "        -3.37641239e-02, -2.04836540e-02, -2.18078513e-02,\n",
       "         1.65801845e-03,  1.93414930e-02,  2.16366630e-03,\n",
       "         3.65312658e-02,  1.68274473e-02, -1.92289799e-02,\n",
       "        -5.96168078e-02, -9.87214223e-03, -7.45503930e-03,\n",
       "         2.11958569e-02, -2.24178247e-02,  8.38198420e-03,\n",
       "        -3.23881693e-02, -3.07305921e-02, -2.03920126e-01,\n",
       "         2.59784106e-02,  5.87207847e-04, -4.89950888e-02,\n",
       "         1.98465511e-02,  2.29564141e-02,  7.65167549e-02,\n",
       "         1.83122959e-02, -2.59974357e-02, -1.90906283e-02,\n",
       "        -9.72135109e-04, -9.97097418e-03,  6.58712164e-02,\n",
       "        -2.06748638e-02,  3.59719172e-02,  7.54381577e-03,\n",
       "         3.93987745e-02, -5.79280369e-02, -3.00548244e-02,\n",
       "         2.16750614e-02, -1.54835638e-02, -3.86116765e-02,\n",
       "         1.23312939e-02, -3.33188288e-02,  7.72231864e-03,\n",
       "         3.92581299e-02, -8.28805789e-02, -1.72182284e-02,\n",
       "         1.48487901e-02,  2.27461327e-02,  6.66945241e-03,\n",
       "        -3.21016125e-02, -3.15611693e-03, -3.10164243e-02,\n",
       "        -2.40864605e-02, -2.50582304e-02,  1.12352762e-02,\n",
       "         1.82202819e-03,  8.04735273e-02, -1.09138107e-02,\n",
       "         1.52811185e-02,  5.04947603e-02,  2.80475616e-02,\n",
       "        -1.47925997e-02,  6.13649227e-02, -1.10626873e-02,\n",
       "         5.20644477e-03, -4.63400036e-03, -7.98243470e-03,\n",
       "         4.94385511e-02,  1.91176999e-02,  5.10739628e-03,\n",
       "         4.52175736e-02, -1.24885514e-02, -1.30135119e-02,\n",
       "         2.02253088e-02,  2.19498631e-02, -2.97893048e-03,\n",
       "        -3.66004556e-02,  8.98859743e-03,  6.18904307e-02,\n",
       "        -4.10783403e-02,  8.11834447e-03,  1.45319644e-02,\n",
       "         4.68990989e-02, -7.98159093e-02,  1.51254041e-02,\n",
       "        -3.95248272e-02,  1.05025535e-02, -5.73538197e-03,\n",
       "        -5.34835793e-02,  3.25236917e-02, -5.90062030e-02,\n",
       "        -7.60376081e-02, -1.22896105e-03, -7.90183339e-03,\n",
       "        -8.32438748e-03, -4.21183975e-03, -1.73887722e-02,\n",
       "         2.74637062e-02, -8.76012538e-03, -3.84720378e-02,\n",
       "        -3.26640308e-02,  1.80202257e-02, -9.27734654e-03,\n",
       "        -1.94176845e-02,  2.25946121e-02,  2.19118968e-02,\n",
       "        -3.64469402e-02, -4.91629867e-03,  7.37045612e-03,\n",
       "         3.98583803e-03,  4.27381322e-02,  1.95205174e-02,\n",
       "        -2.93034706e-02, -3.29956040e-02,  2.58531738e-02,\n",
       "        -4.56655137e-02,  2.18523480e-02, -2.28057685e-03,\n",
       "         3.45924906e-02, -2.91212928e-02, -1.21378805e-03,\n",
       "        -4.37591188e-02, -3.77059393e-02, -4.28700186e-02,\n",
       "        -2.79722027e-02,  3.68326530e-02,  4.81668347e-03,\n",
       "        -3.81766376e-03, -3.84152010e-02, -2.45198086e-02,\n",
       "        -1.88549384e-02,  2.75971158e-03,  1.25401333e-01,\n",
       "        -1.68623365e-02, -8.90856981e-03,  7.16987178e-02,\n",
       "         9.78947897e-03,  1.34718698e-02, -3.67147438e-02,\n",
       "         1.64163783e-02, -7.56467134e-03,  8.90391879e-03,\n",
       "         1.51243759e-02,  5.57088759e-03, -5.34624234e-03,\n",
       "         2.30318084e-02,  7.60554476e-03,  1.16317955e-04,\n",
       "        -5.39779384e-03,  1.36890197e-02, -6.44629151e-02,\n",
       "        -2.91360393e-02, -1.04195420e-02, -2.92464774e-02,\n",
       "        -2.64384188e-02,  3.43289115e-02,  3.50880669e-03,\n",
       "         2.17301175e-02,  1.65588222e-02, -1.54262027e-02,\n",
       "        -2.68381629e-02,  1.23736272e-02, -1.78945791e-02,\n",
       "         1.86576005e-02,  8.83098575e-04,  2.96728183e-02,\n",
       "        -5.52107347e-03,  4.58686613e-02,  5.47597604e-03,\n",
       "         5.09654060e-02,  6.94616605e-03, -3.73224542e-02,\n",
       "        -5.09835687e-03, -1.07999584e-02, -5.07043339e-02,\n",
       "         2.27354132e-02, -1.54176783e-02, -2.44195224e-03,\n",
       "         2.06474885e-02,  4.34049629e-02, -1.61776721e-01,\n",
       "         2.30702595e-03,  1.60127599e-02,  7.04443222e-03,\n",
       "         1.48649989e-02, -3.52679901e-02, -1.82362758e-02,\n",
       "         1.24938451e-02, -1.92961544e-02,  9.40890051e-03,\n",
       "        -8.08332488e-03, -1.43209444e-02,  3.28030735e-02,\n",
       "        -2.37292075e-03, -3.71580780e-03, -2.96788551e-02,\n",
       "         9.85976774e-03, -1.55710857e-02,  2.76222806e-02,\n",
       "        -3.23737552e-03, -4.07745726e-02,  3.90721578e-03,\n",
       "         1.45821385e-02, -2.30536535e-02, -1.78640161e-03,\n",
       "        -2.26507261e-02, -3.23073491e-02,  3.95896845e-02,\n",
       "         5.59848063e-02,  5.67774773e-02, -1.49739422e-02,\n",
       "        -3.84849906e-02, -6.60338625e-02,  2.48625921e-03,\n",
       "        -2.41594110e-03,  1.00737252e-05,  3.83946933e-02,\n",
       "        -6.53189933e-03,  3.37045901e-02,  2.81803925e-02,\n",
       "        -2.69127730e-02,  1.43610574e-02,  5.79479150e-02,\n",
       "         2.46548057e-02,  5.73777966e-02,  1.97939873e-02,\n",
       "         4.80596209e-03,  2.87047215e-02, -3.60142905e-03,\n",
       "        -6.43675542e-03,  2.86940839e-02,  5.31289540e-03,\n",
       "        -1.78869031e-02, -1.24280900e-02, -3.00993361e-02,\n",
       "         5.57853794e-03, -2.83096954e-02,  2.56392229e-02,\n",
       "        -4.13935445e-02, -1.11153573e-02,  5.17318696e-02,\n",
       "        -4.14490886e-02, -2.52481103e-02,  2.35104784e-02,\n",
       "        -5.50835487e-03, -6.45708665e-02, -4.30056229e-02,\n",
       "         1.35131087e-02, -2.11289469e-02,  1.93090551e-02,\n",
       "         2.97962241e-02,  3.38709764e-02, -4.10708226e-02,\n",
       "         4.74382155e-02, -4.51512970e-02, -1.74576733e-02,\n",
       "        -1.39099462e-02,  4.90467902e-03,  3.99275795e-02,\n",
       "        -2.69918665e-02,  2.72817165e-02, -2.17466503e-02,\n",
       "         6.25540316e-02,  3.46814282e-02, -1.77930668e-02,\n",
       "         3.17689367e-02,  6.70097861e-03, -2.87482073e-03,\n",
       "         3.27402027e-03,  9.23182815e-03, -3.57460827e-02,\n",
       "        -4.39648665e-02,  1.54155213e-02,  1.23248305e-02,\n",
       "         5.61872032e-03, -2.13198783e-03, -1.33341700e-02,\n",
       "        -1.42995650e-02, -1.49437813e-02, -5.18641956e-02,\n",
       "        -2.66345721e-02, -6.18697610e-03,  4.25813794e-02,\n",
       "        -2.30650436e-02, -2.75510475e-02,  3.59690748e-02,\n",
       "         4.91170175e-02,  1.41854286e-02, -3.43660042e-02,\n",
       "         7.51521485e-03,  3.41399908e-02,  4.16679634e-03,\n",
       "         7.10083218e-03,  2.49801166e-02,  5.07761016e-02,\n",
       "        -3.12727951e-02, -3.76082025e-02, -3.87710594e-02,\n",
       "         8.18279311e-02,  9.58969723e-03, -1.44139705e-02,\n",
       "         1.76992584e-02,  3.42676230e-02, -4.87443283e-02,\n",
       "         2.02673897e-02,  2.49878969e-04, -5.81213692e-03,\n",
       "         3.20720039e-02, -2.19453825e-03,  3.93093452e-02,\n",
       "         2.47268304e-02,  2.43538897e-02,  7.95459673e-02,\n",
       "         2.69773658e-02,  9.69625544e-03, -2.77531147e-02,\n",
       "        -4.66791056e-02,  5.42874299e-02, -7.88664073e-03,\n",
       "         6.21791258e-02,  5.29570393e-02, -6.60769967e-03,\n",
       "        -1.43173086e-02,  1.28002362e-02, -3.11567611e-03,\n",
       "        -1.83525998e-02, -2.01245360e-02,  8.28847215e-02,\n",
       "        -3.25213447e-02, -1.28448792e-02,  4.07005660e-02,\n",
       "         1.13400603e-02, -6.10929355e-02, -9.87938419e-03,\n",
       "        -1.67055223e-02,  1.16281258e-02, -6.92501245e-03,\n",
       "        -2.01131571e-02,  7.59783387e-03,  1.03124157e-02,\n",
       "         4.06596251e-02, -2.82237511e-02,  4.88187559e-03,\n",
       "         5.68382330e-02,  2.37732865e-02,  3.25770047e-03,\n",
       "         1.27859889e-02,  3.69933248e-02,  2.60445848e-02,\n",
       "        -1.32055655e-02, -1.69861410e-02, -1.70463230e-03,\n",
       "        -1.44914007e-02, -1.11125475e-02, -5.94897382e-03,\n",
       "        -5.53236995e-03,  5.29198674e-03,  1.95655003e-02,\n",
       "        -2.62140930e-02,  5.32037877e-02,  3.76424044e-02,\n",
       "        -2.33558696e-02, -1.57175178e-04, -1.86520312e-02,\n",
       "        -2.45973375e-03,  5.01254909e-02,  2.17932183e-02,\n",
       "        -3.03098671e-02,  2.80554183e-02,  3.39097567e-02,\n",
       "         7.44889199e-04, -2.30929814e-02,  2.42330935e-02,\n",
       "         5.20767421e-02,  6.65300637e-02, -6.30504498e-03,\n",
       "        -3.51835750e-02, -1.04695499e-01, -5.23606176e-03,\n",
       "         2.85593141e-02,  8.31158012e-02, -3.42733338e-02,\n",
       "         8.27120915e-02,  4.71202359e-02, -5.94126061e-03,\n",
       "        -1.97318681e-02, -3.61467078e-02,  6.34940225e-04,\n",
       "         2.57547908e-02,  5.28889857e-02, -1.39311031e-02,\n",
       "         3.32221156e-03, -3.08050197e-02,  4.47543859e-02,\n",
       "        -2.72265077e-02, -2.39099339e-02,  3.52189381e-04,\n",
       "         8.55405233e-04, -6.01855200e-03, -4.82670851e-02,\n",
       "        -4.67765965e-02, -7.88124204e-02, -1.38337752e-02,\n",
       "         2.07914151e-02,  1.53245712e-02, -1.63170900e-02,\n",
       "         6.11696653e-02, -1.39400717e-02,  5.21213524e-02,\n",
       "        -3.43718641e-02, -1.05748335e-02,  1.08972043e-02,\n",
       "         8.82365555e-03, -2.42820699e-02,  3.29444446e-02,\n",
       "        -1.55740436e-02,  2.33287029e-02, -5.58612533e-02,\n",
       "         7.21005946e-02, -4.78851348e-02,  4.16673860e-03,\n",
       "         3.10225002e-02,  9.36409086e-03,  4.37368229e-02,\n",
       "        -2.55953204e-02,  3.80018093e-02, -1.26939528e-02,\n",
       "        -3.46132694e-03,  2.33615059e-02,  2.07439307e-02,\n",
       "        -1.44218933e-02,  1.56798307e-02,  1.67381205e-02,\n",
       "        -1.71893667e-02, -2.61321422e-02,  2.58398592e-03,\n",
       "        -3.71018089e-02, -4.94190268e-02,  1.86551139e-02,\n",
       "         2.76893703e-03,  1.03353467e-02,  5.16262790e-03,\n",
       "        -2.41455007e-02, -2.33393721e-02, -1.13556981e-02,\n",
       "         4.58914414e-03, -6.04403242e-02, -1.28088510e-02,\n",
       "         1.36199892e-02,  1.21713746e-02,  2.57060342e-02,\n",
       "         3.60011905e-02,  1.98942143e-02,  5.52089186e-03,\n",
       "         7.02748150e-02,  6.85472135e-03, -6.99440166e-02,\n",
       "        -1.51983490e-02, -1.23547474e-02,  9.25335288e-03,\n",
       "        -1.09993042e-02,  1.49696867e-03, -2.94877052e-01,\n",
       "        -1.79410037e-02, -3.90132964e-02, -1.08030830e-02,\n",
       "        -1.77592353e-03, -4.69595268e-02, -8.51918478e-03,\n",
       "        -3.43445083e-03, -1.41071817e-02, -3.74133699e-02,\n",
       "         3.11191771e-02,  1.52549052e-04, -2.03844290e-02,\n",
       "         1.83959939e-02,  4.23069112e-02, -3.45992297e-03]], dtype=float32)"
      ]
     },
     "execution_count": 335,
     "metadata": {},
     "output_type": "execute_result"
    }
   ],
   "source": [
    "normalize(label_feat[1].data[-768:].reshape(1, -1))"
   ]
  },
  {
   "cell_type": "code",
   "execution_count": 312,
   "metadata": {},
   "outputs": [
    {
     "data": {
      "text/plain": [
       "1.0"
      ]
     },
     "execution_count": 312,
     "metadata": {},
     "output_type": "execute_result"
    }
   ],
   "source": [
    "np.linalg.norm(label_feat[0].data)"
   ]
  },
  {
   "cell_type": "code",
   "execution_count": 28,
   "metadata": {},
   "outputs": [
    {
     "name": "stdout",
     "output_type": "stream",
     "text": [
      "P@1\tP@3\tP@5\tnDCG@1\tnDCG@3\tnDCG@5\tPSP@1\tPSP@3\tPSP@5\tR@10\tR@20\tR@100\n",
      "7.15\t5.28\t4.35\t7.15\t12.07\t14.46\t7.23\t15.33\t20.9\t31.0\t41.88\t67.66\n",
      "\n",
      "P@1 P@3 P@5 nDCG@1 nDCG@3 nDCG@5 PSP@1 PSP@3 PSP@5 R@10 R@20 R@100\n",
      "7.15 5.28 4.35 7.15 12.07 14.46 7.23 15.33 20.9 31.0 41.88 67.66\n",
      "\n"
     ]
    },
    {
     "data": {
      "text/html": [
       "<div>\n",
       "<style scoped>\n",
       "    .dataframe tbody tr th:only-of-type {\n",
       "        vertical-align: middle;\n",
       "    }\n",
       "\n",
       "    .dataframe tbody tr th {\n",
       "        vertical-align: top;\n",
       "    }\n",
       "\n",
       "    .dataframe thead th {\n",
       "        text-align: right;\n",
       "    }\n",
       "</style>\n",
       "<table border=\"1\" class=\"dataframe\">\n",
       "  <thead>\n",
       "    <tr style=\"text-align: right;\">\n",
       "      <th></th>\n",
       "      <th>P@1</th>\n",
       "      <th>P@3</th>\n",
       "      <th>P@5</th>\n",
       "      <th>nDCG@1</th>\n",
       "      <th>nDCG@3</th>\n",
       "      <th>nDCG@5</th>\n",
       "      <th>PSP@1</th>\n",
       "      <th>PSP@3</th>\n",
       "      <th>PSP@5</th>\n",
       "      <th>R@10</th>\n",
       "      <th>R@20</th>\n",
       "      <th>R@100</th>\n",
       "      <th>MRR@10</th>\n",
       "    </tr>\n",
       "  </thead>\n",
       "  <tbody>\n",
       "    <tr>\n",
       "      <th>Method</th>\n",
       "      <td>7.15</td>\n",
       "      <td>5.28</td>\n",
       "      <td>4.35</td>\n",
       "      <td>7.15</td>\n",
       "      <td>12.07</td>\n",
       "      <td>14.46</td>\n",
       "      <td>7.23</td>\n",
       "      <td>15.33</td>\n",
       "      <td>20.9</td>\n",
       "      <td>31.0</td>\n",
       "      <td>41.88</td>\n",
       "      <td>67.66</td>\n",
       "      <td>13.45</td>\n",
       "    </tr>\n",
       "  </tbody>\n",
       "</table>\n",
       "</div>"
      ],
      "text/plain": [
       "         P@1   P@3   P@5  nDCG@1  nDCG@3  nDCG@5  PSP@1  PSP@3  PSP@5  R@10  \\\n",
       "Method  7.15  5.28  4.35    7.15   12.07   14.46   7.23  15.33   20.9  31.0   \n",
       "\n",
       "         R@20  R@100  MRR@10  \n",
       "Method  41.88  67.66   13.45  "
      ]
     },
     "execution_count": 28,
     "metadata": {},
     "output_type": "execute_result"
    }
   ],
   "source": [
    "XCMetrics(score_mat, tst_X_Y, inv_prop)"
   ]
  },
  {
   "cell_type": "code",
   "execution_count": 33,
   "metadata": {
    "ExecuteTime": {
     "end_time": "2022-04-20T19:14:39.598529Z",
     "start_time": "2022-04-20T19:14:39.595561Z"
    },
    "scrolled": true
   },
   "outputs": [
    {
     "name": "stdout",
     "output_type": "stream",
     "text": [
      "\u001b[1m\u001b[94menc parameters ({'lr': 1e-05}, accum: 1): \u001b[0m ['encoder.transformer.embeddings.word_embeddings.weight', 'encoder.transformer.embeddings.position_embeddings.weight', 'encoder.transformer.embeddings.LayerNorm.weight', 'encoder.transformer.embeddings.LayerNorm.bias', 'encoder.transformer.transformer.layer.0.attention.q_lin.weight', 'encoder.transformer.transformer.layer.0.attention.q_lin.bias', 'encoder.transformer.transformer.layer.0.attention.k_lin.weight', 'encoder.transformer.transformer.layer.0.attention.k_lin.bias', 'encoder.transformer.transformer.layer.0.attention.v_lin.weight', 'encoder.transformer.transformer.layer.0.attention.v_lin.bias', 'encoder.transformer.transformer.layer.0.attention.out_lin.weight', 'encoder.transformer.transformer.layer.0.attention.out_lin.bias', 'encoder.transformer.transformer.layer.0.sa_layer_norm.weight', 'encoder.transformer.transformer.layer.0.sa_layer_norm.bias', 'encoder.transformer.transformer.layer.0.ffn.lin1.weight', 'encoder.transformer.transformer.layer.0.ffn.lin1.bias', 'encoder.transformer.transformer.layer.0.ffn.lin2.weight', 'encoder.transformer.transformer.layer.0.ffn.lin2.bias', 'encoder.transformer.transformer.layer.0.output_layer_norm.weight', 'encoder.transformer.transformer.layer.0.output_layer_norm.bias', 'encoder.transformer.transformer.layer.1.attention.q_lin.weight', 'encoder.transformer.transformer.layer.1.attention.q_lin.bias', 'encoder.transformer.transformer.layer.1.attention.k_lin.weight', 'encoder.transformer.transformer.layer.1.attention.k_lin.bias', 'encoder.transformer.transformer.layer.1.attention.v_lin.weight', 'encoder.transformer.transformer.layer.1.attention.v_lin.bias', 'encoder.transformer.transformer.layer.1.attention.out_lin.weight', 'encoder.transformer.transformer.layer.1.attention.out_lin.bias', 'encoder.transformer.transformer.layer.1.sa_layer_norm.weight', 'encoder.transformer.transformer.layer.1.sa_layer_norm.bias', 'encoder.transformer.transformer.layer.1.ffn.lin1.weight', 'encoder.transformer.transformer.layer.1.ffn.lin1.bias', 'encoder.transformer.transformer.layer.1.ffn.lin2.weight', 'encoder.transformer.transformer.layer.1.ffn.lin2.bias', 'encoder.transformer.transformer.layer.1.output_layer_norm.weight', 'encoder.transformer.transformer.layer.1.output_layer_norm.bias', 'encoder.transformer.transformer.layer.2.attention.q_lin.weight', 'encoder.transformer.transformer.layer.2.attention.q_lin.bias', 'encoder.transformer.transformer.layer.2.attention.k_lin.weight', 'encoder.transformer.transformer.layer.2.attention.k_lin.bias', 'encoder.transformer.transformer.layer.2.attention.v_lin.weight', 'encoder.transformer.transformer.layer.2.attention.v_lin.bias', 'encoder.transformer.transformer.layer.2.attention.out_lin.weight', 'encoder.transformer.transformer.layer.2.attention.out_lin.bias', 'encoder.transformer.transformer.layer.2.sa_layer_norm.weight', 'encoder.transformer.transformer.layer.2.sa_layer_norm.bias', 'encoder.transformer.transformer.layer.2.ffn.lin1.weight', 'encoder.transformer.transformer.layer.2.ffn.lin1.bias', 'encoder.transformer.transformer.layer.2.ffn.lin2.weight', 'encoder.transformer.transformer.layer.2.ffn.lin2.bias', 'encoder.transformer.transformer.layer.2.output_layer_norm.weight', 'encoder.transformer.transformer.layer.2.output_layer_norm.bias', 'encoder.transformer.transformer.layer.3.attention.q_lin.weight', 'encoder.transformer.transformer.layer.3.attention.q_lin.bias', 'encoder.transformer.transformer.layer.3.attention.k_lin.weight', 'encoder.transformer.transformer.layer.3.attention.k_lin.bias', 'encoder.transformer.transformer.layer.3.attention.v_lin.weight', 'encoder.transformer.transformer.layer.3.attention.v_lin.bias', 'encoder.transformer.transformer.layer.3.attention.out_lin.weight', 'encoder.transformer.transformer.layer.3.attention.out_lin.bias', 'encoder.transformer.transformer.layer.3.sa_layer_norm.weight', 'encoder.transformer.transformer.layer.3.sa_layer_norm.bias', 'encoder.transformer.transformer.layer.3.ffn.lin1.weight', 'encoder.transformer.transformer.layer.3.ffn.lin1.bias', 'encoder.transformer.transformer.layer.3.ffn.lin2.weight', 'encoder.transformer.transformer.layer.3.ffn.lin2.bias', 'encoder.transformer.transformer.layer.3.output_layer_norm.weight', 'encoder.transformer.transformer.layer.3.output_layer_norm.bias', 'encoder.transformer.transformer.layer.4.attention.q_lin.weight', 'encoder.transformer.transformer.layer.4.attention.q_lin.bias', 'encoder.transformer.transformer.layer.4.attention.k_lin.weight', 'encoder.transformer.transformer.layer.4.attention.k_lin.bias', 'encoder.transformer.transformer.layer.4.attention.v_lin.weight', 'encoder.transformer.transformer.layer.4.attention.v_lin.bias', 'encoder.transformer.transformer.layer.4.attention.out_lin.weight', 'encoder.transformer.transformer.layer.4.attention.out_lin.bias', 'encoder.transformer.transformer.layer.4.sa_layer_norm.weight', 'encoder.transformer.transformer.layer.4.sa_layer_norm.bias', 'encoder.transformer.transformer.layer.4.ffn.lin1.weight', 'encoder.transformer.transformer.layer.4.ffn.lin1.bias', 'encoder.transformer.transformer.layer.4.ffn.lin2.weight', 'encoder.transformer.transformer.layer.4.ffn.lin2.bias', 'encoder.transformer.transformer.layer.4.output_layer_norm.weight', 'encoder.transformer.transformer.layer.4.output_layer_norm.bias', 'encoder.transformer.transformer.layer.5.attention.q_lin.weight', 'encoder.transformer.transformer.layer.5.attention.q_lin.bias', 'encoder.transformer.transformer.layer.5.attention.k_lin.weight', 'encoder.transformer.transformer.layer.5.attention.k_lin.bias', 'encoder.transformer.transformer.layer.5.attention.v_lin.weight', 'encoder.transformer.transformer.layer.5.attention.v_lin.bias', 'encoder.transformer.transformer.layer.5.attention.out_lin.weight', 'encoder.transformer.transformer.layer.5.attention.out_lin.bias', 'encoder.transformer.transformer.layer.5.sa_layer_norm.weight', 'encoder.transformer.transformer.layer.5.sa_layer_norm.bias', 'encoder.transformer.transformer.layer.5.ffn.lin1.weight', 'encoder.transformer.transformer.layer.5.ffn.lin1.bias', 'encoder.transformer.transformer.layer.5.ffn.lin2.weight', 'encoder.transformer.transformer.layer.5.ffn.lin2.bias', 'encoder.transformer.transformer.layer.5.output_layer_norm.weight', 'encoder.transformer.transformer.layer.5.output_layer_norm.bias']\n",
      "\u001b[1m\u001b[94mxc parameters ({'lr': 0.1}, accum: 10): \u001b[0m ['A_nz_vals', 'w_leaf.weight', 'w_leaf.bias']\n",
      "\u001b[1m\u001b[94mdense parameters ({'lr': 0.1}, accum: 10): \u001b[0m ['w1.weight', 'w1.bias']\n"
     ]
    }
   ],
   "source": [
    "def _no_decay(n,p):\n",
    "    if n.startswith('encoder'):\n",
    "        return any([x in n.lower() for x in ['bias', 'layernorm', 'layer_norm']])\n",
    "    return True\n",
    "\n",
    "def _is_enc_param(n,p):\n",
    "    return n.startswith('encoder')\n",
    "\n",
    "def _is_xc_param(n,p):\n",
    "    return any((x == args.numy or x == (args.numy+1)) for x in p.shape) or n == 'A_nz_vals'\n",
    "\n",
    "def _is_dense_param(n,p):\n",
    "    return (not _is_enc_param(n,p)) and (not _is_xc_param(n,p))\n",
    "\n",
    "optim_wrap = {\n",
    "    'enc': {'class': torch.optim.AdamW, 'params': [], 'f': _is_enc_param, 'accum_steps': 1, 'args': {'lr': args.enc_lr}},\n",
    "    'xc' : {'class': torch.optim.AdamW, 'params': [], 'f': _is_xc_param, 'accum_steps': args.W_accum_steps, 'args': {'lr': args.xc_lr}},\n",
    "    'dense': {'class': torch.optim.AdamW, 'params': [], 'f': _is_dense_param, 'accum_steps': args.W_accum_steps, 'args': {'lr': args.dense_lr}}\n",
    "    }\n",
    "\n",
    "for n,p in net.named_parameters():\n",
    "    for k in optim_wrap.keys():\n",
    "        if p.requires_grad and optim_wrap[k]['f'](n,p):\n",
    "            optim_wrap[k]['params'].append((n, p))\n",
    "\n",
    "optims = {}\n",
    "for k, v in optim_wrap.items():\n",
    "    grouped_params = [{'params': [p for n,p in v['params'] if _no_decay(n,p)], 'weight_decay': 0}, \n",
    "                      {'params': [p for n,p in v['params'] if not _no_decay(n,p)], 'weight_decay': 0.01}]\n",
    "    if len(v['params']) > 0: optims[k] = v['class'](grouped_params, **v['args'])\n",
    "\n",
    "for k in optim_wrap.keys():\n",
    "    print(_c(f'{k} parameters ({optim_wrap[k][\"args\"]}, accum: {optim_wrap[k][\"accum_steps\"]}): ', attr='bold blue'), [p[0] for p in optim_wrap[k]['params']])"
   ]
  },
  {
   "cell_type": "code",
   "execution_count": 34,
   "metadata": {
    "ExecuteTime": {
     "end_time": "2022-04-20T19:14:39.616561Z",
     "start_time": "2022-04-20T19:14:39.606475Z"
    }
   },
   "outputs": [],
   "source": [
    "total_steps = {k: len(trn_loader)*args.num_epochs/optim_wrap[k]['accum_steps'] for k in optims.keys()}\n",
    "schedulers = {k: transformers.get_linear_schedule_with_warmup(optim, num_warmup_steps=int(args.warmup*total_steps[k]), num_training_steps=total_steps[k]) for k, optim in optims.items()}"
   ]
  },
  {
   "cell_type": "code",
   "execution_count": 35,
   "metadata": {},
   "outputs": [],
   "source": [
    "with open(f'{OUT_DIR}/args.json', 'w') as f:\n",
    "    json.dump(args.__dict__, f, indent=2)"
   ]
  },
  {
   "cell_type": "code",
   "execution_count": 36,
   "metadata": {},
   "outputs": [
    {
     "data": {
      "text/plain": [
       "Namespace(A_init_file='Results/ELIAS/ShoppingAds-100K/Stage-1-0/cmat.npz', C=1024, DATA_DIR='Datasets/ShoppingAds-100K', K=2000, OUT_DIR='Results/ELIAS/ShoppingAds-100K/ELIAS', W_accum_steps=10, alpha=10, amp_encode=False, beam=20, beta_gain=1.5, bottleneck=0, bsz=1024, clf_dim=0, cmat_file='Datasets/ShoppingAds-100K/cmat-0x100--1.npz', cmat_seed=-1, dataset='ShoppingAds-100K', dense_lr=0.1, device='cuda:11', dropout=0.5, embs_dim=768, embs_dir='', enc_lr=1e-05, eval_interval=3, expname='ELIAS', gen_A_init=False, hostname='mloa-gpunode-4', joint_loss_gamma=0.0, kappa=1000, load_path='', loss='joint', loss_with_logits=False, max_leaf=100, maxlen=32, net='elias', netname='elias-1-leaf100-beam20--1', norm_embs=False, num_epochs=25, numy=100000, project='ELIAS', ranker=False, ranker_alpha=0.5, ranker_topk=100, resume_path='', save=False, save_embs=False, score_calibrate=False, stage=1, swa_start=8, swa_step=1000, tf='distilbert-base-uncased', tf_pooler='cls', token_type='bert-base-uncased', use_grad_scaler=False, use_swa=False, warmup=0.1, xc_lr=0.1)"
      ]
     },
     "execution_count": 36,
     "metadata": {},
     "output_type": "execute_result"
    }
   ],
   "source": [
    "args"
   ]
  },
  {
   "cell_type": "markdown",
   "metadata": {
    "heading_collapsed": true
   },
   "source": [
    "## *Training Loop*"
   ]
  },
  {
   "cell_type": "code",
   "execution_count": 37,
   "metadata": {
    "ExecuteTime": {
     "start_time": "2022-04-20T19:14:41.538Z"
    },
    "hidden": true,
    "scrolled": true
   },
   "outputs": [
    {
     "name": "stderr",
     "output_type": "stream",
     "text": [
      "Epoch: 0/25, Loss: 2.1063E-03: 100%|████████████████████████████████████████████████████████████████████████████████████████████████| 7016/7016 [26:36<00:00,  4.40it/s]"
     ]
    },
    {
     "name": "stdout",
     "output_type": "stream",
     "text": [
      "mean loss after epoch 0/25: 2.1063E-03\n"
     ]
    },
    {
     "name": "stderr",
     "output_type": "stream",
     "text": [
      "\n",
      "Evaluating: 100%|█████████████████████████████████████████████████████████████████████████████████████████████████████████████████████| 303/303 [00:42<00:00,  7.14it/s]\n"
     ]
    },
    {
     "name": "stdout",
     "output_type": "stream",
     "text": [
      "P@1\tP@3\tP@5\tnDCG@1\tnDCG@3\tnDCG@5\tPSP@1\tPSP@3\tPSP@5\tR@10\tR@20\tR@100\n",
      "0.16\t0.08\t0.05\t0.16\t0.2\t0.21\t0.16\t0.22\t0.24\t0.27\t0.3\t0.58\n",
      "\n",
      "P@1 P@3 P@5 nDCG@1 nDCG@3 nDCG@5 PSP@1 PSP@3 PSP@5 R@10 R@20 R@100\n",
      "0.16 0.08 0.05 0.16 0.2 0.21 0.16 0.22 0.24 0.27 0.3 0.58\n",
      "\n",
      "\u001b[94mFound new best model with nDCG@5: 0.21\n",
      "\u001b[0m\n"
     ]
    },
    {
     "name": "stderr",
     "output_type": "stream",
     "text": [
      "Epoch: 1/25, Loss: 4.4788E-03: 100%|████████████████████████████████████████████████████████████████████████████████████████████████| 7016/7016 [26:39<00:00,  4.39it/s]"
     ]
    },
    {
     "name": "stdout",
     "output_type": "stream",
     "text": [
      "mean loss after epoch 1/25: 4.4788E-03\n"
     ]
    },
    {
     "name": "stderr",
     "output_type": "stream",
     "text": [
      "\n",
      "Epoch: 2/25, Loss: 6.6858E-03: 100%|████████████████████████████████████████████████████████████████████████████████████████████████| 7016/7016 [27:18<00:00,  4.28it/s]"
     ]
    },
    {
     "name": "stdout",
     "output_type": "stream",
     "text": [
      "mean loss after epoch 2/25: 6.6858E-03\n"
     ]
    },
    {
     "name": "stderr",
     "output_type": "stream",
     "text": [
      "\n",
      "Epoch: 3/25, Loss: 6.7583E-03: 100%|████████████████████████████████████████████████████████████████████████████████████████████████| 7016/7016 [27:27<00:00,  4.26it/s]"
     ]
    },
    {
     "name": "stdout",
     "output_type": "stream",
     "text": [
      "mean loss after epoch 3/25: 6.7583E-03\n"
     ]
    },
    {
     "name": "stderr",
     "output_type": "stream",
     "text": [
      "\n",
      "Evaluating: 100%|█████████████████████████████████████████████████████████████████████████████████████████████████████████████████████| 303/303 [00:41<00:00,  7.25it/s]\n"
     ]
    },
    {
     "name": "stdout",
     "output_type": "stream",
     "text": [
      "P@1\tP@3\tP@5\tnDCG@1\tnDCG@3\tnDCG@5\tPSP@1\tPSP@3\tPSP@5\tR@10\tR@20\tR@100\n",
      "0.16\t0.08\t0.06\t0.16\t0.2\t0.22\t0.16\t0.22\t0.28\t0.4\t0.46\t0.56\n",
      "\n",
      "P@1 P@3 P@5 nDCG@1 nDCG@3 nDCG@5 PSP@1 PSP@3 PSP@5 R@10 R@20 R@100\n",
      "0.16 0.08 0.06 0.16 0.2 0.22 0.16 0.22 0.28 0.4 0.46 0.56\n",
      "\n",
      "\u001b[94mFound new best model with nDCG@5: 0.22\n",
      "\u001b[0m\n"
     ]
    },
    {
     "name": "stderr",
     "output_type": "stream",
     "text": [
      "Epoch: 4/25, Loss: 6.7698E-03: 100%|████████████████████████████████████████████████████████████████████████████████████████████████| 7016/7016 [27:35<00:00,  4.24it/s]"
     ]
    },
    {
     "name": "stdout",
     "output_type": "stream",
     "text": [
      "mean loss after epoch 4/25: 6.7698E-03\n"
     ]
    },
    {
     "name": "stderr",
     "output_type": "stream",
     "text": [
      "\n",
      "Epoch: 5/25, Loss: 6.8418E-03: 100%|████████████████████████████████████████████████████████████████████████████████████████████████| 7016/7016 [27:37<00:00,  4.23it/s]"
     ]
    },
    {
     "name": "stdout",
     "output_type": "stream",
     "text": [
      "mean loss after epoch 5/25: 6.8418E-03\n"
     ]
    },
    {
     "name": "stderr",
     "output_type": "stream",
     "text": [
      "\n",
      "Epoch: 6/25, Loss: 6.7724E-03: 100%|████████████████████████████████████████████████████████████████████████████████████████████████| 7016/7016 [27:34<00:00,  4.24it/s]"
     ]
    },
    {
     "name": "stdout",
     "output_type": "stream",
     "text": [
      "mean loss after epoch 6/25: 6.7724E-03\n"
     ]
    },
    {
     "name": "stderr",
     "output_type": "stream",
     "text": [
      "\n",
      "Evaluating: 100%|█████████████████████████████████████████████████████████████████████████████████████████████████████████████████████| 303/303 [00:41<00:00,  7.28it/s]\n"
     ]
    },
    {
     "name": "stdout",
     "output_type": "stream",
     "text": [
      "P@1\tP@3\tP@5\tnDCG@1\tnDCG@3\tnDCG@5\tPSP@1\tPSP@3\tPSP@5\tR@10\tR@20\tR@100\n",
      "0.15\t0.09\t0.06\t0.15\t0.21\t0.24\t0.15\t0.25\t0.31\t0.39\t0.44\t0.58\n",
      "\n",
      "P@1 P@3 P@5 nDCG@1 nDCG@3 nDCG@5 PSP@1 PSP@3 PSP@5 R@10 R@20 R@100\n",
      "0.15 0.09 0.06 0.15 0.21 0.24 0.15 0.25 0.31 0.39 0.44 0.58\n",
      "\n",
      "\u001b[94mFound new best model with nDCG@5: 0.24\n",
      "\u001b[0m\n"
     ]
    },
    {
     "name": "stderr",
     "output_type": "stream",
     "text": [
      "Epoch: 7/25, Loss: 6.8156E-03: 100%|████████████████████████████████████████████████████████████████████████████████████████████████| 7016/7016 [27:30<00:00,  4.25it/s]"
     ]
    },
    {
     "name": "stdout",
     "output_type": "stream",
     "text": [
      "mean loss after epoch 7/25: 6.8156E-03\n"
     ]
    },
    {
     "name": "stderr",
     "output_type": "stream",
     "text": [
      "\n",
      "Epoch: 8/25, Loss: 6.8548E-03: 100%|████████████████████████████████████████████████████████████████████████████████████████████████| 7016/7016 [27:39<00:00,  4.23it/s]"
     ]
    },
    {
     "name": "stdout",
     "output_type": "stream",
     "text": [
      "mean loss after epoch 8/25: 6.8548E-03\n"
     ]
    },
    {
     "name": "stderr",
     "output_type": "stream",
     "text": [
      "\n",
      "Epoch: 9/25, Loss: 6.8730E-03: 100%|████████████████████████████████████████████████████████████████████████████████████████████████| 7016/7016 [27:39<00:00,  4.23it/s]"
     ]
    },
    {
     "name": "stdout",
     "output_type": "stream",
     "text": [
      "mean loss after epoch 9/25: 6.8730E-03\n"
     ]
    },
    {
     "name": "stderr",
     "output_type": "stream",
     "text": [
      "\n",
      "Evaluating: 100%|█████████████████████████████████████████████████████████████████████████████████████████████████████████████████████| 303/303 [00:41<00:00,  7.23it/s]\n"
     ]
    },
    {
     "name": "stdout",
     "output_type": "stream",
     "text": [
      "P@1\tP@3\tP@5\tnDCG@1\tnDCG@3\tnDCG@5\tPSP@1\tPSP@3\tPSP@5\tR@10\tR@20\tR@100\n",
      "0.19\t0.09\t0.06\t0.19\t0.23\t0.25\t0.19\t0.25\t0.3\t0.35\t0.38\t0.4\n",
      "\n",
      "P@1 P@3 P@5 nDCG@1 nDCG@3 nDCG@5 PSP@1 PSP@3 PSP@5 R@10 R@20 R@100\n",
      "0.19 0.09 0.06 0.19 0.23 0.25 0.19 0.25 0.3 0.35 0.38 0.4\n",
      "\n",
      "\u001b[94mFound new best model with nDCG@5: 0.25\n",
      "\u001b[0m\n"
     ]
    },
    {
     "name": "stderr",
     "output_type": "stream",
     "text": [
      "Epoch: 10/25, Loss: 6.7769E-03: 100%|███████████████████████████████████████████████████████████████████████████████████████████████| 7016/7016 [27:35<00:00,  4.24it/s]"
     ]
    },
    {
     "name": "stdout",
     "output_type": "stream",
     "text": [
      "mean loss after epoch 10/25: 6.7769E-03\n"
     ]
    },
    {
     "name": "stderr",
     "output_type": "stream",
     "text": [
      "\n",
      "Epoch: 11/25, Loss: 6.8547E-03: 100%|███████████████████████████████████████████████████████████████████████████████████████████████| 7016/7016 [27:36<00:00,  4.24it/s]"
     ]
    },
    {
     "name": "stdout",
     "output_type": "stream",
     "text": [
      "mean loss after epoch 11/25: 6.8547E-03\n"
     ]
    },
    {
     "name": "stderr",
     "output_type": "stream",
     "text": [
      "\n",
      "Epoch: 12/25, Loss: 6.7534E-03: 100%|███████████████████████████████████████████████████████████████████████████████████████████████| 7016/7016 [27:37<00:00,  4.23it/s]"
     ]
    },
    {
     "name": "stdout",
     "output_type": "stream",
     "text": [
      "mean loss after epoch 12/25: 6.7534E-03\n"
     ]
    },
    {
     "name": "stderr",
     "output_type": "stream",
     "text": [
      "\n",
      "Evaluating: 100%|█████████████████████████████████████████████████████████████████████████████████████████████████████████████████████| 303/303 [00:41<00:00,  7.26it/s]\n"
     ]
    },
    {
     "name": "stdout",
     "output_type": "stream",
     "text": [
      "P@1\tP@3\tP@5\tnDCG@1\tnDCG@3\tnDCG@5\tPSP@1\tPSP@3\tPSP@5\tR@10\tR@20\tR@100\n",
      "0.21\t0.1\t0.07\t0.21\t0.26\t0.27\t0.21\t0.29\t0.32\t0.37\t0.39\t0.4\n",
      "\n",
      "P@1 P@3 P@5 nDCG@1 nDCG@3 nDCG@5 PSP@1 PSP@3 PSP@5 R@10 R@20 R@100\n",
      "0.21 0.1 0.07 0.21 0.26 0.27 0.21 0.29 0.32 0.37 0.39 0.4\n",
      "\n",
      "\u001b[94mFound new best model with nDCG@5: 0.27\n",
      "\u001b[0m\n"
     ]
    },
    {
     "name": "stderr",
     "output_type": "stream",
     "text": [
      "Epoch: 13/25, Loss: 6.9066E-03: 100%|███████████████████████████████████████████████████████████████████████████████████████████████| 7016/7016 [27:34<00:00,  4.24it/s]"
     ]
    },
    {
     "name": "stdout",
     "output_type": "stream",
     "text": [
      "mean loss after epoch 13/25: 6.9066E-03\n"
     ]
    },
    {
     "name": "stderr",
     "output_type": "stream",
     "text": [
      "\n",
      "Epoch: 14/25, Loss: 6.8891E-03: 100%|███████████████████████████████████████████████████████████████████████████████████████████████| 7016/7016 [27:36<00:00,  4.23it/s]"
     ]
    },
    {
     "name": "stdout",
     "output_type": "stream",
     "text": [
      "mean loss after epoch 14/25: 6.8891E-03\n"
     ]
    },
    {
     "name": "stderr",
     "output_type": "stream",
     "text": [
      "\n",
      "Epoch: 15/25, Loss: 6.8819E-03: 100%|███████████████████████████████████████████████████████████████████████████████████████████████| 7016/7016 [27:38<00:00,  4.23it/s]"
     ]
    },
    {
     "name": "stdout",
     "output_type": "stream",
     "text": [
      "mean loss after epoch 15/25: 6.8819E-03\n"
     ]
    },
    {
     "name": "stderr",
     "output_type": "stream",
     "text": [
      "\n",
      "Evaluating: 100%|█████████████████████████████████████████████████████████████████████████████████████████████████████████████████████| 303/303 [00:41<00:00,  7.25it/s]\n"
     ]
    },
    {
     "name": "stdout",
     "output_type": "stream",
     "text": [
      "P@1\tP@3\tP@5\tnDCG@1\tnDCG@3\tnDCG@5\tPSP@1\tPSP@3\tPSP@5\tR@10\tR@20\tR@100\n",
      "0.23\t0.1\t0.07\t0.23\t0.27\t0.29\t0.23\t0.3\t0.33\t0.37\t0.39\t0.4\n",
      "\n",
      "P@1 P@3 P@5 nDCG@1 nDCG@3 nDCG@5 PSP@1 PSP@3 PSP@5 R@10 R@20 R@100\n",
      "0.23 0.1 0.07 0.23 0.27 0.29 0.23 0.3 0.33 0.37 0.39 0.4\n",
      "\n",
      "\u001b[94mFound new best model with nDCG@5: 0.29\n",
      "\u001b[0m\n"
     ]
    },
    {
     "name": "stderr",
     "output_type": "stream",
     "text": [
      "Epoch: 16/25, Loss: 6.8600E-03: 100%|███████████████████████████████████████████████████████████████████████████████████████████████| 7016/7016 [27:38<00:00,  4.23it/s]"
     ]
    },
    {
     "name": "stdout",
     "output_type": "stream",
     "text": [
      "mean loss after epoch 16/25: 6.8600E-03\n"
     ]
    },
    {
     "name": "stderr",
     "output_type": "stream",
     "text": [
      "\n",
      "Epoch: 17/25, Loss: 6.8267E-03: 100%|███████████████████████████████████████████████████████████████████████████████████████████████| 7016/7016 [27:38<00:00,  4.23it/s]"
     ]
    },
    {
     "name": "stdout",
     "output_type": "stream",
     "text": [
      "mean loss after epoch 17/25: 6.8267E-03\n"
     ]
    },
    {
     "name": "stderr",
     "output_type": "stream",
     "text": [
      "\n",
      "Epoch: 18/25, Loss: 6.8095E-03: 100%|███████████████████████████████████████████████████████████████████████████████████████████████| 7016/7016 [27:35<00:00,  4.24it/s]"
     ]
    },
    {
     "name": "stdout",
     "output_type": "stream",
     "text": [
      "mean loss after epoch 18/25: 6.8095E-03\n"
     ]
    },
    {
     "name": "stderr",
     "output_type": "stream",
     "text": [
      "\n",
      "Evaluating: 100%|█████████████████████████████████████████████████████████████████████████████████████████████████████████████████████| 303/303 [00:41<00:00,  7.25it/s]\n"
     ]
    },
    {
     "name": "stdout",
     "output_type": "stream",
     "text": [
      "P@1\tP@3\tP@5\tnDCG@1\tnDCG@3\tnDCG@5\tPSP@1\tPSP@3\tPSP@5\tR@10\tR@20\tR@100\n",
      "0.22\t0.1\t0.07\t0.22\t0.27\t0.29\t0.22\t0.31\t0.34\t0.37\t0.39\t0.4\n",
      "\n",
      "P@1 P@3 P@5 nDCG@1 nDCG@3 nDCG@5 PSP@1 PSP@3 PSP@5 R@10 R@20 R@100\n",
      "0.22 0.1 0.07 0.22 0.27 0.29 0.22 0.31 0.34 0.37 0.39 0.4\n",
      "\n"
     ]
    },
    {
     "name": "stderr",
     "output_type": "stream",
     "text": [
      "Epoch: 19/25, Loss: 6.9286E-03: 100%|███████████████████████████████████████████████████████████████████████████████████████████████| 7016/7016 [27:38<00:00,  4.23it/s]"
     ]
    },
    {
     "name": "stdout",
     "output_type": "stream",
     "text": [
      "mean loss after epoch 19/25: 6.9286E-03\n"
     ]
    },
    {
     "name": "stderr",
     "output_type": "stream",
     "text": [
      "\n",
      "Epoch: 20/25, Loss: 6.8331E-03: 100%|███████████████████████████████████████████████████████████████████████████████████████████████| 7016/7016 [27:43<00:00,  4.22it/s]"
     ]
    },
    {
     "name": "stdout",
     "output_type": "stream",
     "text": [
      "mean loss after epoch 20/25: 6.8331E-03\n"
     ]
    },
    {
     "name": "stderr",
     "output_type": "stream",
     "text": [
      "\n",
      "Epoch: 21/25, Loss: 6.8648E-03: 100%|███████████████████████████████████████████████████████████████████████████████████████████████| 7016/7016 [27:41<00:00,  4.22it/s]"
     ]
    },
    {
     "name": "stdout",
     "output_type": "stream",
     "text": [
      "mean loss after epoch 21/25: 6.8648E-03\n"
     ]
    },
    {
     "name": "stderr",
     "output_type": "stream",
     "text": [
      "\n",
      "Evaluating: 100%|█████████████████████████████████████████████████████████████████████████████████████████████████████████████████████| 303/303 [00:41<00:00,  7.25it/s]\n"
     ]
    },
    {
     "name": "stdout",
     "output_type": "stream",
     "text": [
      "P@1\tP@3\tP@5\tnDCG@1\tnDCG@3\tnDCG@5\tPSP@1\tPSP@3\tPSP@5\tR@10\tR@20\tR@100\n",
      "0.25\t0.11\t0.07\t0.25\t0.29\t0.31\t0.25\t0.32\t0.35\t0.39\t0.4\t0.41\n",
      "\n",
      "P@1 P@3 P@5 nDCG@1 nDCG@3 nDCG@5 PSP@1 PSP@3 PSP@5 R@10 R@20 R@100\n",
      "0.25 0.11 0.07 0.25 0.29 0.31 0.25 0.32 0.35 0.39 0.4 0.41\n",
      "\n",
      "\u001b[94mFound new best model with nDCG@5: 0.31\n",
      "\u001b[0m\n"
     ]
    },
    {
     "name": "stderr",
     "output_type": "stream",
     "text": [
      "Epoch: 22/25, Loss: 6.8859E-03: 100%|███████████████████████████████████████████████████████████████████████████████████████████████| 7016/7016 [27:42<00:00,  4.22it/s]"
     ]
    },
    {
     "name": "stdout",
     "output_type": "stream",
     "text": [
      "mean loss after epoch 22/25: 6.8859E-03\n"
     ]
    },
    {
     "name": "stderr",
     "output_type": "stream",
     "text": [
      "\n",
      "Epoch: 23/25, Loss: 6.8989E-03: 100%|███████████████████████████████████████████████████████████████████████████████████████████████| 7016/7016 [27:41<00:00,  4.22it/s]"
     ]
    },
    {
     "name": "stdout",
     "output_type": "stream",
     "text": [
      "mean loss after epoch 23/25: 6.8989E-03\n"
     ]
    },
    {
     "name": "stderr",
     "output_type": "stream",
     "text": [
      "\n",
      "Epoch: 24/25, Loss: 6.7447E-03: 100%|███████████████████████████████████████████████████████████████████████████████████████████████| 7016/7016 [27:37<00:00,  4.23it/s]"
     ]
    },
    {
     "name": "stdout",
     "output_type": "stream",
     "text": [
      "mean loss after epoch 24/25: 6.7447E-03\n"
     ]
    },
    {
     "name": "stderr",
     "output_type": "stream",
     "text": [
      "\n",
      "Evaluating: 100%|█████████████████████████████████████████████████████████████████████████████████████████████████████████████████████| 303/303 [00:41<00:00,  7.26it/s]\n"
     ]
    },
    {
     "name": "stdout",
     "output_type": "stream",
     "text": [
      "P@1\tP@3\tP@5\tnDCG@1\tnDCG@3\tnDCG@5\tPSP@1\tPSP@3\tPSP@5\tR@10\tR@20\tR@100\n",
      "0.22\t0.11\t0.07\t0.22\t0.28\t0.29\t0.22\t0.31\t0.35\t0.39\t0.4\t0.42\n",
      "\n",
      "P@1 P@3 P@5 nDCG@1 nDCG@3 nDCG@5 PSP@1 PSP@3 PSP@5 R@10 R@20 R@100\n",
      "0.22 0.11 0.07 0.22 0.28 0.29 0.22 0.31 0.35 0.39 0.4 0.42\n",
      "\n"
     ]
    }
   ],
   "source": [
    "best_ndcg = -1\n",
    "scaler = torch.cuda.amp.GradScaler()\n",
    "# net.forward = convert_outputs_to_fp32(torch.cuda.amp.autocast(enabled=args.use_grad_scaler)(net.forward))\n",
    "\n",
    "for epoch in range(args.num_epochs):\n",
    "    if hasattr(net, 'update'):\n",
    "        # print(f'update at epoch: {epoch}')\n",
    "        net.update(epoch=epoch, trn_dataset=trn_dataset)\n",
    "    net.train()\n",
    "       \n",
    "    if args.use_swa and epoch == args.swa_start:\n",
    "        net.swa_init()\n",
    "        \n",
    "    cum_loss = 0; ctr = 0\n",
    "    for optim in optims.values(): optim.zero_grad()\n",
    "    t = tqdm(trn_loader, desc='Epoch: 0, Loss: 0.0', leave=True)\n",
    "    for i, b in enumerate(t):\n",
    "        loss = criterion(net, b)\n",
    "        scaler.scale(loss.float()).backward() if args.use_grad_scaler else loss.backward()\n",
    "        \n",
    "        if args.use_swa and i % args.swa_step == 0:\n",
    "            net.swa_step()\n",
    "            \n",
    "        for k in optims.keys():\n",
    "            if i%optim_wrap[k][\"accum_steps\"] == 0:\n",
    "                scaler.step(optims[k]) if args.use_grad_scaler else optims[k].step();\n",
    "                if args.use_grad_scaler: scaler.update()\n",
    "                schedulers[k].step(); \n",
    "                optims[k].zero_grad()\n",
    "\n",
    "        cum_loss += loss.item()\n",
    "        ctr += 1\n",
    "        t.set_description('Epoch: %d/%d, Loss: %.4E'%(epoch, args.num_epochs, (cum_loss/ctr)), refresh=True)\n",
    "        \n",
    "    print(f'mean loss after epoch {epoch}/{args.num_epochs}: {\"%.4E\"%(cum_loss/ctr)}', flush=True)\n",
    "    if epoch%args.eval_interval == 0 or epoch == (args.num_epochs-1):\n",
    "        score_mat = net.predict(tst_loader)\n",
    "        if tst_filter_mat is not None: _filter(score_mat, tst_filter_mat, copy=False)\n",
    "        metrics = XCMetrics(score_mat, tst_X_Y, inv_prop, method=f'Ep {epoch}', disp=True)\n",
    "        metrics['loss'] = [\"%.4E\"%(cum_loss/ctr)]\n",
    "        metrics.to_csv(open(f'{OUT_DIR}/metrics.tsv', 'a+'), sep='\\t', header=(epoch==0))\n",
    "\n",
    "        if metrics.loc[f'Ep {epoch}']['nDCG@5'] > best_ndcg:\n",
    "            best_ndcg = metrics.loc[f'Ep {epoch}']['nDCG@5']\n",
    "            print(_c(f'Found new best model with nDCG@5: {\"%.2f\"%best_ndcg}\\n', attr='blue'))\n",
    "\n",
    "            if args.save:\n",
    "                sp.save_npz(f'{OUT_DIR}/score_mat.npz', score_mat)\n",
    "                net.save_model(f'{OUT_DIR}/model.pt')\n",
    "    sys.stdout.flush()"
   ]
  },
  {
   "cell_type": "markdown",
   "metadata": {},
   "source": [
    "## Evaluate best model"
   ]
  },
  {
   "cell_type": "code",
   "execution_count": null,
   "metadata": {},
   "outputs": [],
   "source": [
    "DIR = OUT_DIR\n",
    "\n",
    "args.__dict__ = json.load(open(f'{DIR}/args.json'))\n",
    "net.load_state_dict(torch.load(f'{DIR}/model.pt'))"
   ]
  },
  {
   "cell_type": "code",
   "execution_count": null,
   "metadata": {},
   "outputs": [],
   "source": [
    "score_mat = net.predict(tst_loader, K=100)\n",
    "\n",
    "_filter(score_mat, tst_filter_mat, copy=False)\n",
    "XCMetrics(score_mat, tst_X_Y, inv_prop)"
   ]
  },
  {
   "cell_type": "code",
   "execution_count": 45,
   "metadata": {
    "ExecuteTime": {
     "end_time": "2022-04-06T04:18:17.953764Z",
     "start_time": "2022-04-06T04:17:27.781022Z"
    }
   },
   "outputs": [],
   "source": [
    "rec = xc_metrics.recall(score_mat, tst_X_Y, k=2000)\n",
    "{k+1: rec[k]*100 for k in [0, 9, 19, 49, 99, 199, 499, 999, 1999]}"
   ]
  },
  {
   "cell_type": "markdown",
   "metadata": {},
   "source": [
    "## Initialize A"
   ]
  },
  {
   "cell_type": "code",
   "execution_count": 111,
   "metadata": {
    "scrolled": true
   },
   "outputs": [
    {
     "name": "stderr",
     "output_type": "stream",
     "text": [
      "100%|█████████████████████████████████████████████████████████████████████████████████████████████████████████████████████████████████| 466/466 [01:42<00:00,  4.57it/s]\n"
     ]
    }
   ],
   "source": [
    "net.train()\n",
    "\n",
    "with torch.no_grad():\n",
    "    for b in tqdm(tst_loader):\n",
    "        b = net.ToD(b)\n",
    "        out = net(b)"
   ]
  },
  {
   "cell_type": "code",
   "execution_count": 41,
   "metadata": {},
   "outputs": [],
   "source": [
    "args.device = 'cuda:11'"
   ]
  },
  {
   "cell_type": "code",
   "execution_count": 42,
   "metadata": {},
   "outputs": [],
   "source": [
    "net.to(args.device);\n",
    "net.update()"
   ]
  },
  {
   "cell_type": "code",
   "execution_count": 43,
   "metadata": {},
   "outputs": [
    {
     "name": "stderr",
     "output_type": "stream",
     "text": [
      "Encoding: 100%|█████████████████████████████████████████████████████████████████████████████████████████████████████████████████████| 1754/1754 [06:10<00:00,  4.73it/s]\n"
     ]
    }
   ],
   "source": [
    "dataset = trn_dataset; Y_X = trn_X_Y.T.tocsr(); bsz = 4096; kappa = 1000\n",
    "net.eval()\n",
    "net.swa_swap_params()\n",
    "total = len(dataset)\n",
    "M_indices = []; M_values = []\n",
    "\n",
    "with torch.no_grad():\n",
    "    for ctr in tqdm(range(0, total, bsz), leave=True, desc='Encoding'):\n",
    "        b = net.ToD({'xfts': dataset.get_fts(range(ctr, min(ctr+bsz, total)))})\n",
    "        embs = net.encode(b).detach()\n",
    "        res = torch.mm(embs, net.w1.weight.T) + net.w1.bias.reshape(1, -1)\n",
    "        res = torch.clamp(net.alpha*F.softmax(res, dim=1), min=0, max=1)\n",
    "        temp = res.topk(net.beam, dim=1)\n",
    "        M_indices.append(temp.indices.cpu())\n",
    "        M_values.append(temp.values.cpu())\n",
    "        del b\n",
    "net.swa_swap_params()"
   ]
  },
  {
   "cell_type": "code",
   "execution_count": 44,
   "metadata": {},
   "outputs": [],
   "source": [
    "M_indices = torch.vstack(M_indices)\n",
    "M_values = torch.vstack(M_values)\n",
    "\n",
    "# M_indices = M_indices[:, :20]\n",
    "# M_values = M_values[:, :20]\n",
    "\n",
    "numx = M_indices.shape[0]\n",
    "K = M_indices.shape[1]\n",
    "data_bin = np.ones(numx * K) \n",
    "data_val = M_values.reshape(-1).cpu().numpy()\n",
    "inds = M_indices.reshape(-1).cpu().numpy()\n",
    "indptr = np.arange(0, numx*K + 1, K)\n",
    "shape = (M_indices.shape[0], net.w1.weight.shape[0])\n",
    "\n",
    "M_bin = sp.csr_matrix((data_bin, inds, indptr), shape)\n",
    "M_val = sp.csr_matrix((data_val, inds, indptr), shape)\n",
    "C_bin = Y_X.dot(M_bin)\n",
    "C_val = Y_X.dot(M_val)\n",
    "\n",
    "CT_bin = C_bin.T.tocsr()\n",
    "CT_val = C_val.T.tocsr()\n",
    "\n",
    "CT_bin_topk = retain_topk(CT_bin, k=kappa)\n",
    "CT_val_topk = retain_topk(CT_val, k=kappa)\n",
    "A_init = CT_bin_topk + CT_val_topk\n",
    "A_init.sum_duplicates()"
   ]
  },
  {
   "cell_type": "code",
   "execution_count": 54,
   "metadata": {},
   "outputs": [
    {
     "data": {
      "text/plain": [
       "array([1175, 1280, 1083, ..., 1268, 1200,    0], dtype=int32)"
      ]
     },
     "execution_count": 54,
     "metadata": {},
     "output_type": "execute_result"
    }
   ],
   "source": [
    "A_init.getnnz(1)"
   ]
  },
  {
   "cell_type": "code",
   "execution_count": 56,
   "metadata": {},
   "outputs": [],
   "source": [
    "Y = [x.strip() for x in open(f'Datasets/ShoppingAds-100K/raw/Y.txt').readlines()]"
   ]
  },
  {
   "cell_type": "code",
   "execution_count": 62,
   "metadata": {
    "scrolled": true
   },
   "outputs": [
    {
     "name": "stdout",
     "output_type": "stream",
     "text": [
      "1023 : \n",
      "\u001b[1m\u001b[4mcds|O|469769397|US|en|947935433 , 10 pack Dewalt 20v tool Holder BLACK / YELLOW\u001b[0m(194.29, 68248)\n",
      "\u001b[1m\u001b[4mcds|C|6467954|US|en|436b92c3ff8f5c1d:en_US , KD Tools 3624 2- Ton Ratcheting Puller | Auto Tool World\u001b[0m(185.39, 77691)\n",
      "\u001b[1m\u001b[4mcds|C|6467954|US|en|5bfa797477184b6a:en_US , RYOBI ONE+ 18V Cordless 10-Tool Combo Kit w/ 3 Batteries, Charger, LINK Rolling Tool Box, Standard Tool Box, & Medium Tool Box\u001b[0m(183.24, 74261)\n",
      "\u001b[1m\u001b[4mcds|C|6467954|US|en|1622d5226c19773b:en_US , Apollo Precision Tools Dt0204 71-Piece Household Tool Kit\u001b[0m(182.04, 10677)\n",
      "\u001b[1m\u001b[4mcds|C|6467954|US|en|ed4050bc8420b610:en_US , DEWALT 1/4 in. and 3/8 in. Drive Mechanics Tool Set with Toughsystem Trays (131-Piece)\u001b[0m(181.91, 36722)\n",
      "\u001b[1m\u001b[4mcds|C|6467954|US|en|f9ee5a3fab800928:en_US , ONE+ 18V Cordless MultiTool with 2.0 Ah Battery and Charger P343B-PSK005\u001b[0m(181.76, 5009)\n",
      "\u001b[1m\u001b[4mcds|C|6467954|US|en|ff335312e0391692:en_US , GEARWRENCH 2 Ton 3-1/2 in. 2 or 3 Jaw Reversible Internal/External Pullers\u001b[0m(181.49, 35517)\n",
      "\u001b[1m\u001b[4mcds|C|6467954|US|en|029398d94249a971:en_US , DEWALT 20-Volt MAX Cordless Died Cable Crimping Tool with (2) 20-Volt 4.0Ah Batteries, Charger & Case\u001b[0m(179.74, 68525)\n",
      "\u001b[1m\u001b[4mcds|O|5817554|US|en|40-C2243 , Spear removing / Opening Demounting Tool for Sankey D & S System\u001b[0m(176.36, 71468)\n",
      "\u001b[1m\u001b[4mcds|C|6467954|US|en|0da211e28778f133:en_US , Hart 5-piece Multi-tool Blade Set For Wood, Metal, Drywall, Grout 1686\u001b[0m(176.06, 41106)\n",
      "\u001b[1m\u001b[4mcds|C|6467954|US|en|a8feb1df9d829ecb:en_US , Master Appliance 35084 SAE 22 to 10 AWG Ratcheting Master Full Cycle Terminal Crimper\u001b[0m(175.57, 82905)\n",
      "\u001b[1m\u001b[4mcds|C|6467954|US|en|ca670dd2f3755cdf:en_US , JobSmart Fence Tool with Hammer, JS2017102\u001b[0m(172.81, 12627)\n",
      "\u001b[1m\u001b[4mcds|C|6467954|US|en|13884596639ffc68:en_US , Paladin Tools PA1389 1300 HDTV Universal Crimp Tool with Die\u001b[0m(168.33, 79506)\n",
      "\u001b[1m\u001b[4mcds|C|6467954|US|en|8084d2ff1b8bdcdf:en_US , Klein Tool Nylon Tie Tensioning Tool with Auto-Cutoff\u001b[0m(166.17, 9763)\n",
      "\u001b[1m\u001b[4mcds|C|6467954|US|en|d2fed5039c1b6142:en_US , Ideal 30-3429 Smart-Grip Multi-Crimp Tool\u001b[0m(165.38, 74622)\n",
      "\u001b[1m\u001b[4mcds|C|6467954|US|en|4b7404bbbb468ae2:en_US , Crescent 193610CVSMN 10\" Heavy Duty Fence Tool\u001b[0m(163.59, 16633)\n",
      "\u001b[1m\u001b[4mcds|C|6467954|US|en|5bb3553386b6f8d1:en_US , Makita HB350 1-3/8 in. 10 Amp Corded Magnetic Drill\u001b[0m(163.11, 88114)\n",
      "\u001b[1m\u001b[4mcds|O|6296724|US|en|114369497614 , E5 Quick Change Tool Post For 200-400mm Lathe 8\"-16\" Multifix E\u001b[0m(162.71, 61126)\n",
      "\u001b[1m\u001b[4mcds|O|132533|US|en|156443 , Ryobi 039028007054 Auxiliary Handle\u001b[0m(162.69, 72170)\n",
      "\u001b[1m\u001b[4mcds|C|6467954|US|en|82b285826a327c15:en_US , DEWALT 22 oz. Steel Framing Hammer\u001b[0m(162.02, 11524)\n",
      "\u001b[1m\u001b[4mcds|C|6467954|US|en|277ef016cf908523:en_US , Milwaukee Oscillating Tool Blade: 1 3/8 in Blade Wd, 1 1/2 in Blade Lg, Straight Cutting, 1 Pieces, Milwaukee Model: 49-25-1501\u001b[0m(161.51, 83244)\n",
      "\u001b[1m\u001b[4mcds|C|6467954|US|en|e48ed360dc1f5488:en_US , DEWALT 20-Volt MAX XR Li-Ion Cordless Brushless Drill/Impact Combo Kit (2-Tool) w/ 20-V Brushless 6-1/2 in. Circ Saw(Tool-Only)\u001b[0m(160.63, 51918)\n",
      "\u001b[1m\u001b[4mcds|C|6467954|US|en|f5f34c2c07c26f2f:en_US , DeWalt N435687 Belt Hook Clip Kit for DCF620 DCF620B DCF622 Drywall Screwgun\u001b[0m(160.33, 74286)\n",
      "\u001b[1m\u001b[4mcds|O|8949|US|en|8608889 , Gardener's Lifetime Long T-handle Lawn Edger\u001b[0m(159.55, 98609)\n",
      "\u001b[1m\u001b[4mcds|C|6467954|US|en|c83e5a192bf6670c:en_US , Dyson Dc40 Dc41 Dc65 Combination Tool 920753-01, Gray\u001b[0m(157.93, 53042)\n",
      "\u001b[1m\u001b[4mcds|C|6467954|US|en|4499e48385ddb500:en_US , DeWalt 5140001-90 Outer Flange\u001b[0m(156.84, 65583)\n",
      "\u001b[1m\u001b[4mcds|C|6467954|US|en|3a3da43ebe90c686:en_US , Bones Bearing Puller Tool\u001b[0m(156.28, 74927)\n",
      "\u001b[1m\u001b[4mcds|C|6467954|US|en|2eb5e8e74fc0c7ea:en_US , AJC Shingle Slate Ripper\u001b[0m(156.26, 44931)\n",
      "\u001b[1m\u001b[4mcds|C|6467954|US|en|5f63deb4f5691d85:en_US , DeWalt TStak Flat Top Organizer Storage Box DWST17807\u001b[0m(155.62, 26466)\n",
      "\u001b[1m\u001b[4mcds|C|6467954|US|en|f9776255608ff34e:en_US , PSI Woodworking CLTSET58 Straight Bar 3pc Toolrest Set, 5/8\" Diameter Post (15.875mm)\u001b[0m(155.34, 78752)\n",
      "\u001b[1m\u001b[4mcds|C|6467954|US|en|123f685194cbc2bc:en_US , FEIN Cordless Multimaster 12V AMM 300 PLUS Start\u001b[0m(155.26, 48647)\n",
      "\u001b[1m\u001b[4mcds|O|8969059|US|en|LL-U10601 , UtiliCarryWallet 11-In-1 Multi-Tool (1/CD) -by Lucky Line\u001b[0m(153.68, 51741)\n",
      "\u001b[1m\u001b[4mcds|O|469769397|US|en|934658362 , 10 pack Craftsman 20v 20 Volt Max Tool holder Tool Mount Tool Hanger\u001b[0m(153.40, 8347)\n",
      "\u001b[1m\u001b[4mcds|O|8927679|US|en|801800 , Stainless Steel Garden Pocket Tool\u001b[0m(153.16, 37227)\n",
      "\u001b[1m\u001b[4mcds|C|6467954|US|en|f0062157a252c52f:en_US , Astro Pneumatic 9589 4 Pc. Door Panel & Upholstery Tool Set by National Tool Warehouse\u001b[0m(153.13, 62373)\n",
      "\u001b[1m\u001b[4mcds|C|6467954|US|en|e8e5b5f751a94a30:en_US , 16 Wrench Holder Organizer Storage Rack Tray Toolbox Sorter Wall JSP Brand (Red)\u001b[0m(150.86, 23567)\n",
      "\u001b[1m\u001b[4mcds|C|6467954|US|en|1829c5b07e22ce7c:en_US , Vevor Magnetic Drill Magnetic Base Drill 750w Mag Drill 0.5\" Max Boring Diameter\u001b[0m(150.74, 44366)\n",
      "\u001b[1m\u001b[4mcds|C|6467954|US|en|0862569a899f683a:en_US , CALIDAKA Saw Slot Adjuster Mortise and Tenon Tool Movable Measuring Block Making Seam Adjustment Controller Table Woodworking Tool Mortise Measuring\u001b[0m(150.63, 24134)\n",
      "\u001b[1m\u001b[4mcds|C|6467954|US|en|8611375503ffec67:en_US , Dewalt DWE4997NVS 2-inch (50mm) Brushless Variable Speed Paddle Switch Die Grinder w/ No Lock-On\u001b[0m(150.34, 19014)\n",
      "\u001b[1m\u001b[4mcds|O|101702933|US|en|254359212372 , Snap-on Gmtk General Mechanic's Maintenance Military Tool Set Kit 8\u001b[0m(150.31, 95506)\n",
      "\u001b[1m\u001b[4mcds|C|6467954|US|en|19fc3d124e04bfb2:en_US , Bearing Packer - Plastic PTW1218\u001b[0m(150.24, 35625)\n",
      "\u001b[1m\u001b[4mcds|C|6467954|US|en|ac29922143886fde:en_US , RYOBI ONE+ 18V Cordless 2-Tool Combo Kit W/ Drill/Driver, Circ Saw, (2) Batteries, Charger, Bag, & Drill/Drive Kit (40-Piece) power tool set, power\u001b[0m(149.83, 76267)\n",
      "\u001b[1m\u001b[4mcds|C|6467954|US|en|295fc0f960cdd9d9:en_US , 2 Pieces Automatic Rebar Tie Wire Twister, Rebar Tie Wire Twister Tool, Rebar Wire Twister Pull Tie Wire Twister, Concrete Metal Wire Twisting Fence\u001b[0m(149.38, 12054)\n",
      "\u001b[1m\u001b[4mcds|C|6467954|US|en|87192eef21c738ee:en_US , Essentials Purple Floral Garden Hand Tools Set with Cultivator, Trowel, Pruner and Bonus Gloves, Size: Trowel-10.63 inch x 2.95 inch x 1.3 inch ;\u001b[0m(149.17, 88804)\n",
      "\u001b[1m\u001b[4mcds|C|6467954|US|en|4f32ba3060b3fd5e:en_US , Xcelite Tca100Stn General Hand Tool Kit,no. Of Pcs. 89\u001b[0m(149.08, 61221)\n",
      "\u001b[1m\u001b[4mcds|C|6467954|US|en|614f8afeba197cd0:en_US , Dynamite T1107 Dynamite Ultimate E-clip Tool 1.5mm-5mm\u001b[0m(148.23, 35717)\n",
      "\u001b[1m\u001b[4mcds|C|6467954|US|en|7b4f7ee9ed77739e:en_US , ROCKWELL Sonicrafter Carbide Grit Rasp | RW8924\u001b[0m(147.28, 23941)\n",
      "\u001b[1m\u001b[4mcds|C|6467954|US|en|feae634b66ec8905:en_US , Gerber SUSPENSION-NXT multi-tool\u001b[0m(147.19, 64727)\n",
      "\u001b[1m\u001b[4mcds|C|6467954|US|en|4c6bff95c5d451fc:en_US , 63 inch Adjustable Garden Rake for Leaf - Collect Loose Debris Among Delicate Plants Lawns and Yards Best Expandable Head rake for Leaves Small to\u001b[0m(146.64, 26213)\n",
      "\u001b[1m\u001b[4mcds|C|6467954|US|en|3db5520fa71bfff4:en_US , Ken-tool Lock Ring Remover,30 In,11/16 In Stk,Stl Model: 33223\u001b[0m(145.65, 92380)\n",
      "\u001b[1m\u001b[4mcds|C|6467954|US|en|3149cd9383f45333:en_US , Tool Holder Magnetic Panel Carlyle Tools\u001b[0m(144.72, 84291)\n",
      "\u001b[1m\u001b[4mcds|C|6467954|US|en|c889e00a8757dee8:en_US , Ryobi 18-Volt One+ Cordless 5-Tool Combo Kit with (2) 1.5 Ah Compact Lithium-Ion Batteries, Charger, and Bag\u001b[0m(144.63, 96301)\n",
      "\u001b[1m\u001b[4mcds|C|6467954|US|en|35ded39bc0802ba4:en_US , OEM Tools 27119 Bearing Race Installer Set\u001b[0m(144.05, 74663)\n",
      "\u001b[1m\u001b[4mcds|C|6467954|US|en|9e4069c5d9e555e9:en_US , Longacre 78295 Digital C/C Gauge w/AccuLevel & Quick Set Adapter\u001b[0m(143.59, 10840)\n",
      "\u001b[1m\u001b[4mcds|O|6020949|US|en|cp-26pc-tl-kt%2B965833 , Design Your Own 26 Piece Deluxe Home Tool Kit\u001b[0m(143.58, 4120)\n",
      "\u001b[1m\u001b[4mcds|C|6467954|US|en|b3e4ad9d60e66b66:en_US , Ace 2-1/2 in. W Steel Stiff Paint Scraper\u001b[0m(143.52, 96062)\n",
      "\u001b[1m\u001b[4mcds|C|6467954|US|en|caba7f034664f752:en_US , Eaton Fuller Transmission Countershaft Front Bearing Puller RR1012TR-3 - Oni Tools\u001b[0m(143.10, 87568)\n",
      "\u001b[1m\u001b[4mcds|O|10900|US|en|191200 , Ferrule Blaster Ferrule Puller\u001b[0m(142.72, 27234)\n",
      "\u001b[1m\u001b[4mcds|C|6467954|US|en|450756d910dd42a7:en_US , Warrior 2 Amp Variable Speed Oscillating Multi-Tool\u001b[0m(142.71, 97974)\n",
      "\u001b[1m\u001b[4mcds|C|6467954|US|en|4bea0648624f7051:en_US , DEWALT 20-Volt MAX Cordless 4-1/2 in. to 5 in. Grinder with (25) Metal and Stainless Cutting Wheels DCG412BW8062W25\u001b[0m(142.41, 1137)\n",
      "\u001b[1m\u001b[4mcds|C|6467954|US|en|42f7b5399e9d160a:en_US , RYOBI Impact Rated Driving Kit With (8-pc) with Impact Rated Driving Kit (70-pc)\u001b[0m(142.41, 64709)\n",
      "\u001b[1m\u001b[4mcds|C|6467954|US|en|13a3485e292476d2:en_US , RDX Carbide Tool Grinder\u001b[0m(142.06, 94857)\n",
      "\u001b[1m\u001b[4mcds|C|6467954|US|en|6a794c2f73fbd298:en_US , Saker Deburring Tool Pro-Deburring Drill Bit,Deburring Tool for Metal,Remove Burr Steel Tools Quick Release Shank Fits 1/8' (3mm) to 3/4' (19mm)\u001b[0m(141.70, 29257)\n",
      "\u001b[1m\u001b[4mcds|C|6467954|US|en|cdff87e625f826ae:en_US , DEWALT DG5132 Heavy-Duty Yoke-Style Suspenders\u001b[0m(141.35, 22116)\n",
      "\u001b[1m\u001b[4mcds|C|6467954|US|en|351b6274eedcebf5:en_US , Cruz Tools Fender Mount Tool Kit - DMX2\u001b[0m(141.09, 6887)\n",
      "\u001b[1m\u001b[4mcds|C|6467954|US|en|3313c52f3e00f3c4:en_US , Marshalltown Heavy-Duty Road Rake, Model RED802920\u001b[0m(141.05, 46468)\n",
      "\u001b[1m\u001b[4mcds|C|6467954|US|en|256c2a2584cdf19f:en_US , Wooden top for roller cabinets chrono a\u001b[0m(141.04, 25654)\n",
      "\u001b[1m\u001b[4mcds|C|6467954|US|en|5885ad953e75a637:en_US , Gerber 1732 Armbar Slim Drive Bronze\u001b[0m(139.46, 55400)\n",
      "\u001b[1m\u001b[4mcds|C|6467954|US|en|4035ae60a4db9f15:en_US , Westcott Weeder Tool, Die-Cut Cartridges, White, for Craft, 1-Count\u001b[0m(139.24, 24932)\n",
      "\u001b[1m\u001b[4mcds|C|6467954|US|en|956ab6458338ba8c:en_US , BOSCH Power Tools Combo Kit GXL12V-310B22 - 12V Max 3-Tool Set with 3/8 In. Drill/Driver, Pocket Reciprocating Saw and LED Worklight\u001b[0m(139.13, 95464)\n",
      "\u001b[1m\u001b[4mcds|C|6467954|US|en|3688547b0b7a8656:en_US , Biker's Choice Roll-Up Tool Kit 151522\u001b[0m(138.52, 29785)\n",
      "\u001b[1m\u001b[4mcds|C|6467954|US|en|53b3384cb31c9ff8:en_US , Milwaukee M18 Magnetic Drill — With 2 Batteries, 18 Volt, Model 2787-22HD\u001b[0m(138.42, 25518)\n",
      "\u001b[1m\u001b[4mcds|C|6467954|US|en|e07f6546b3abbefb:en_US , PT-6400-C 3376015 Cylinder Liner Puller Assembly Tool Alt\u001b[0m(137.73, 65103)\n",
      "\u001b[1m\u001b[4mcds|C|6467954|US|en|62d7477628016a55:en_US , Zurn P1321-12-CT 12-inch Cartridge Removal Tool\u001b[0m(137.71, 77369)\n",
      "\u001b[1m\u001b[4mcds|O|133112864|US|en|TK25/60 , Tool Kit - Chain Breaker & Puller For 25-60 Chain\u001b[0m(137.71, 24843)\n",
      "\u001b[1m\u001b[4mcds|C|6467954|US|en|76252ff6cf114cb8:en_US , Garage Storage Organization Tool Storage Rack,Garden Hose Holder,Heavy Duty Tool Organizers Garage Wall Mount Hooks, Space Saving Max 300 lbs Garden\u001b[0m(136.89, 2737)\n",
      "\u001b[1m\u001b[4mcds|O|6901112|US|en|70004 , ACME C-Clamp Prop Puller\u001b[0m(136.76, 78900)\n",
      "\u001b[1m\u001b[4mcds|C|6467954|US|en|781722a4321445c6:en_US , Valve Lash Wrench - 1/2 in Wrench - Adapter Bushings Included - Aluminum - Black Anodize - Kit\u001b[0m(136.75, 76066)\n",
      "\u001b[1m\u001b[4mcds|C|6467954|US|en|c15927331466b80b:en_US , Maxfit Steel Driving Bit Set (30-Piece) with Sleeve\u001b[0m(136.43, 28330)\n",
      "\u001b[1m\u001b[4mcds|C|6467954|US|en|16f7e9306ef76033:en_US , Dorman - HELP Windshield Wiper Arm Tool 49023\u001b[0m(136.01, 94049)\n",
      "\u001b[1m\u001b[4mcds|C|6467954|US|en|708ad02f3e83496f:en_US , Wrecking Bar 45 In. Steel Rocker Dual Claw Head Nail Screw Remover\u001b[0m(135.76, 50605)\n",
      "\u001b[1m\u001b[4mcds|C|6467954|US|en|4583aab00eeebccb:en_US , Heavy-Duty Nail/Screw Removing Pliers\u001b[0m(135.26, 18204)\n",
      "\u001b[1m\u001b[4mcds|C|6467954|US|en|f2ea8ef21c53d290:en_US , DEWALT 14-Piece Screwdriver Guide Set | DW2097 | Acme Tools\u001b[0m(135.04, 5790)\n",
      "\u001b[1m\u001b[4mcds|O|112466508|US|en|7794 , Renishaw OTS Optical Transmission 3D Touch-Trigger Tool Setter for Machining Centers\u001b[0m(134.94, 26357)\n",
      "\u001b[1m\u001b[4mcds|O|162826539|US|en|607958712fb5a56fa003676e , 65MM Bench Drill To Square Tenon Machine Converter Chuck Holder Modified Tenoning Eyelet Accessories with Reducing Sleeve (40/53/55/58/60 Optioanal)\u001b[0m(134.68, 21523)\n",
      "\u001b[1m\u001b[4mcds|O|507161872|US|en|185046063672 , Hitachi Chain Mortiser Bc21sa Single Phase 100 V 50/60 Hz 1140 W\u001b[0m(134.68, 57874)\n",
      "\u001b[1m\u001b[4mcds|C|6467954|US|en|0357e8d91a63bd5a:en_US , Engine Camshaft Checking Fixture Kit w/Dial Indicator; 0 to 1.000 Inch Range 66830 Proform\u001b[0m(134.62, 31719)\n",
      "\u001b[1m\u001b[4mcds|C|6467954|US|en|d17dfb0d3c806a1f:en_US , Milescraft Orbiter Multi-Angle Drill Attachment\u001b[0m(134.05, 64551)\n",
      "\u001b[1m\u001b[4mcds|C|6467954|US|en|8b24f66f7c088b7a:en_US , Tekton 90192 Comb. Wrench Set,1/4-1\" 8-22Mm,30Pcs.\u001b[0m(133.95, 16194)\n",
      "\u001b[1m\u001b[4mcds|C|6467954|US|en|013a9ff627d856d8:en_US , Apollo 1 PEX Quick Pinch Clamp Tool Black/Yellow 1 pc., Size: 5.5 x 15.25 x 6.5\u001b[0m(133.77, 59477)\n",
      "\u001b[1m\u001b[4mcds|C|6467954|US|en|3164e1a33163d793:en_US , Cricut Weeding Tool Kit | Michaels\u001b[0m(133.58, 8348)\n",
      "\u001b[1m\u001b[4mcds|C|6467954|US|en|68848591e911f82d:en_US , Westward Rolling Tool Cabinet: Gloss Red, 28 3/4 in W x 18 1/10 in D x 33 7/8 in H, Red, 5 Drawers Model: 48RJ74\u001b[0m(133.41, 49292)\n",
      "\u001b[1m\u001b[4mcds|C|6467954|US|en|e2fc2a4a68c3ad91:en_US , Dewalt Angle Grinder: 13 A Current, 8,500 RPM Max. Speed, Trigger, 7 in Wheel Dia Model: DWE43840CN\u001b[0m(133.24, 49877)\n",
      "\u001b[1m\u001b[4mcds|C|6467954|US|en|93b8f54b5e854b12:en_US , Arsenal General Construction Tool Apron in Gray | 13694\u001b[0m(133.06, 3698)\n",
      "\u001b[1m\u001b[4mcds|C|6467954|US|en|84439d24f07c0990:en_US , BOSCH 4-1/2 Inch Angle Grinder GWS8-45\u001b[0m(133.05, 26053)\n",
      "\u001b[1m\u001b[4mcds|C|6467954|US|en|b7fa1b5f5fe164a8:en_US , GERBER MP600 Multi-Plier, Needle Nose, Bladeless, Black [30-000952]\u001b[0m(132.82, 66601)\n",
      "\u001b[1m\u001b[4mcds|C|6467954|US|en|e61f67cd5e150516:en_US , STANLEY COLORmaxx STMT71653 Mechanics Tool Set, Chrome Vanadium Steel, Silver, Chrome, 145-Piece\u001b[0m(132.79, 72384)\n",
      "\u001b[1m\u001b[4mcds|C|6467954|US|en|58431f3c96d04f85:en_US , Lodesol Flexible Magnetic Tool Holder 12.5\"x9.5\" Mp4835\u001b[0m(132.46, 59289)\n",
      "\u001b[1m\u001b[4mcds|O|131363368|US|en|shopify_US_1537997252_5446580356 , GuaSha Professional Tool-3\u001b[0m(132.19, 84609)\n",
      "\u001b[1m\u001b[4mcds|C|6467954|US|en|1a2aeacf6bf2da97:en_US , Threading & Tapping attachment-lathe tailstock die holder set Machine Tools ((MT2))\u001b[0m(131.80, 90480)\n",
      "\u001b[1m\u001b[4mcds|C|6467954|US|en|1267938aea96f857:en_US , Universal Black Finish Steel Adjustable Face Spanner Wrench Pin Pliers For Round Nuts with Drilled Holes (3mm)\u001b[0m(131.69, 80620)\n",
      "\u001b[1m\u001b[4mcds|O|142382492|US|en|BM30003 , 7mm Preset Torque Wrench, Hex Size 3/4\", Preset Torque 14 in lbs\u001b[0m(131.43, 5794)\n",
      "\u001b[1m\u001b[4mcds|O|1228374|US|en|HDP-155.00 , WireJewelry Hammer Handpiece for Eurotool Flex Shaft System\u001b[0m(131.27, 8356)\n",
      "\u001b[1m\u001b[4mcds|C|6467954|US|en|aec03882fe6457e2:en_US , Pittsburgh 6 In. T-Bevel\u001b[0m(131.17, 77494)\n",
      "\u001b[1m\u001b[4mcds|C|6467954|US|en|e4c86e9646bfc4c1:en_US , DEWALT 20-Volt MAX Cordless 1/4 in. Impact Driver, (1) 20-Volt 3.0Ah Battery & Charger\u001b[0m(131.11, 68166)\n",
      "\u001b[1m\u001b[4mcds|C|6467954|US|en|1ab044e7c5c53221:en_US , 18v Octane Angle Grinder Brushless Cordless 4-1/2 In. Lithium-ion 1.5\u001b[0m(130.97, 75611)\n",
      "\u001b[1m\u001b[4mcds|C|6467954|US|en|1acf9c84bd9f409a:en_US , Lisle 3/8 in. x 16 in. Short Installer Adapter for 38850 Pulley Puller\u001b[0m(130.62, 74063)\n",
      "\u001b[1m\u001b[4mcds|C|6467954|US|en|fbcea7b975138c17:en_US , Workpro 16 inch Top Wide Mouth Tool Bag with Water Proof Rubber Base, Multi-Compartment, 46 Pockets, For Tool Organizer & Storage, W081122a\u001b[0m(130.38, 72165)\n",
      "\u001b[1m\u001b[4mcds|C|6467954|US|en|c5785b1dbfb882d3:en_US , Dewalt DCW100K Portable Stick & TIG Welder 1 Tig Welder\u001b[0m(130.30, 67764)\n",
      "\u001b[1m\u001b[4mcds|O|121825104|US|en|shopify_US_2112141262945_19844992761953 , AFW Rigging Pliers 5\"\u001b[0m(129.68, 92890)\n",
      "\u001b[1m\u001b[4mcds|O|6607559|US|en|BGSS-102 , Bench Grinder Safety Scale\u001b[0m(129.59, 92136)\n",
      "\u001b[1m\u001b[4mcds|C|6467954|US|en|30a5e6197e3d77aa:en_US , DEWALT DW 23PC Titanium Drill Bit Set\u001b[0m(129.02, 19509)\n",
      "\u001b[1m\u001b[4mcds|C|6467954|US|en|bdf5445a27d7c783:en_US , Granite Design Talon 2 Units\u001b[0m(127.64, 66718)\n",
      "\u001b[1m\u001b[4mcds|C|6467954|US|en|2cd5a35f6ea2dbf7:en_US , OTC 7470 INJECTOR TIMING TOOL SET,\u001b[0m(127.57, 97889)\n",
      "\u001b[1m\u001b[4mcds|C|6467954|US|en|c322fa447b1352bc:en_US , GEARWRENCH GW Series 72\" x 25\" 20 Drawer Roller Cabinet Black - Red\u001b[0m(127.46, 24889)\n",
      "\u001b[1m\u001b[4mcds|C|6467954|US|en|ac23abc11b8bda08:en_US , Dremel 2050-11 Stylo+ Versatile Craft & Hobby Tool With 11 Accessories - each\u001b[0m(126.57, 42833)\n",
      "\u001b[1m\u001b[4mcds|C|6467954|US|en|c1989ca8473d3985:en_US , Quad Logic Wheel Bearing Installer/Remover Tool Rear Only Polaris RZR 800 2010-2014\u001b[0m(126.36, 84654)\n",
      "\u001b[1m\u001b[4mcds|C|6467954|US|en|fdd7272ce55aab37:en_US , Mayhew Pro 1-1/4 in. W Blade 0.498 in. Dia. Body Pneumatic Hammer\u001b[0m(125.99, 86671)\n",
      "\u001b[1m\u001b[4mcds|C|6467954|US|en|d5c115781c35a6fa:en_US , Spear & Jackson 94-370R Eclipse Saw Tooth Setter, Red\u001b[0m(125.93, 69519)\n",
      "\u001b[1m\u001b[4mcds|O|8009538|US|en|12202768 , Global CNC Industries Turret & VDI Tool Holders; Type: BMT Live Tooling ; Clamping System: 73mm X 70mm ; Tool Axis: Axial ; Through Coolant: Yes\u001b[0m(125.81, 73962)\n",
      "\u001b[1m\u001b[4mcds|C|6467954|US|en|aeecb73c936fefd4:en_US , Marshalltown 10.25-in Zinc Plated Steel Moulding Pry Bar | MPB-L\u001b[0m(125.59, 24765)\n",
      "\u001b[1m\u001b[4mcds|C|6467954|US|en|1595befdc07af4ea:en_US , Burgon and Ball Deluxe Gardening Tool Set\u001b[0m(125.57, 7441)\n",
      "\u001b[1m\u001b[4mcds|C|6467954|US|en|5712060d10889134:en_US , Diamabrush ZMSTBLD25R10 Coatings/Mastic Removal Replacement Blades Counter Clockwise for 16-inch and 19-inch Tools, 25 Grit, 10 Blades\u001b[0m(125.29, 86367)\n",
      "\u001b[1m\u001b[4mcds|C|6467954|US|en|b8cfbf83b61c826a:en_US , Brand Lisle Exhaust Pipe Rubber Hanger Support / Removal Pliers Tool\u001b[0m(125.23, 43251)\n",
      "\u001b[1m\u001b[4mcds|C|6467954|US|en|2bc0c96ca13234e3:en_US , Park Tool | Spa-1 and Spa-2 Pin Spanners Spa-1, Green\u001b[0m(125.20, 48485)\n",
      "\u001b[1m\u001b[4mcds|O|116927301|US|en|46SO-DD-HS-COY , Direct Draw Hammer Sheath\u001b[0m(124.94, 58267)\n",
      "\u001b[1m\u001b[4mcds|C|6467954|US|en|98164e4daad9711b:en_US , Ganasan Contour Gauge With Lock|10+5 Inch Construction Rulers Measure Tool For Corners And Contoured Handyman Diy Woodworking Tools Construction Carpe\u001b[0m(124.94, 46112)\n",
      "\u001b[1m\u001b[4mcds|O|116927301|US|en|46HH-AHBH-2-W/M , AIMS Hammer/Hatchet Belt Holder with Magnet\u001b[0m(124.86, 75331)\n",
      "\u001b[1m\u001b[4mcds|C|6467954|US|en|a071e8cc74fe93fd:en_US , Baileigh PH-24A Pneumatic Operated Planishing Hammer, 24 Inch Throat Depth\u001b[0m(124.76, 27612)\n",
      "\u001b[1m\u001b[4mcds|O|348908|US|en|MOP0021-X001-Y001 , Motion Pro Damper Rod Fork Tool-Dirtbike Damper Rod Fork Tool\u001b[0m(124.22, 93908)\n",
      "\u001b[1m\u001b[4mcds|O|5642721|US|en|J1853 , Detroit Diesel Injector Timing Tool\u001b[0m(124.09, 57729)\n",
      "\u001b[1m\u001b[4mcds|C|6467954|US|en|65b25a39e5c4f54f:en_US , Dare Chain Grab Puller and Tightener - 2456\u001b[0m(124.05, 92048)\n",
      "\u001b[1m\u001b[4mcds|C|6467954|US|en|142887eb503e24dd:en_US , S & G Tool Aid Sgt-18915 Terminal Crimper Kits\u001b[0m(123.98, 58602)\n",
      "\u001b[1m\u001b[4mcds|C|6467954|US|en|696d78a67acc3318:en_US , 71161161090, FEIN ASCM 18 QM 4-speed Cordless Drill/Driver\u001b[0m(123.72, 61736)\n",
      "\u001b[1m\u001b[4mcds|C|6467954|US|en|433b9c7f33a78c62:en_US , RYOBI ONE+ 18V Cordless 18-Gauge AirStrike Brad Nailer with Compression Drive 3/8 in. Crown Stapler (Tools Only)\u001b[0m(123.52, 8934)\n",
      "\u001b[1m\u001b[4mcds|C|6467954|US|en|9f01f143a82ab53e:en_US , Bosch Angle Grinder: 13 A Current, 11,500 RPM Max. Speed, Slide, (1) Bare Tool, (1) Wheel Guard Model: GWS13-50TG\u001b[0m(123.31, 35297)\n",
      "\u001b[1m\u001b[4mcds|C|6467954|US|en|248117fb790429ce:en_US , 1\" Drain Tube Flaring Tool Flanging Tool 8PCS Fastener for Boat Marine Plumbing Replaces 520290-1\u001b[0m(122.91, 20026)\n",
      "\u001b[1m\u001b[4mcds|C|6467954|US|en|7377d95feee8ba58:en_US , DeWalt DWMC150 35-Degree Pneumatic Metal Connector Nailer\u001b[0m(122.59, 78593)\n",
      "\u001b[1m\u001b[4mcds|C|6467954|US|en|b8870882995fa430:en_US , OTC 5035 Truck Clutch AdjusTment Gauge Set\u001b[0m(122.22, 29973)\n",
      "\u001b[1m\u001b[4mcds|C|6467954|US|en|9290c08d3669c9a1:en_US , Mibro Adjustable Tap Wrench, 302871\u001b[0m(122.12, 13813)\n",
      "\u001b[1m\u001b[4mcds|C|6467954|US|en|6ac83166efd2d546:en_US , Ring Bending Tool Repair Bracelet Bender Copper Silver Gold Strip Bending Tool\u001b[0m(121.10, 24890)\n",
      "\u001b[1m\u001b[4mcds|O|114193152|US|en|B01FJQ14NQ , Glamorway 6Pcs Clay Sculpture Sculpting Tool Mini Ribbon Cutter Metal Tools Set Carving Art\u001b[0m(120.81, 9263)\n",
      "\u001b[1m\u001b[4mcds|C|6467954|US|en|2e2b351c821f7757:en_US , Anvil 51 in. Wood Handle Steel 14-Tine Bow Rake\u001b[0m(120.77, 10443)\n",
      "\u001b[1m\u001b[4mcds|C|6467954|US|en|c54d15acf555bf6c:en_US , Hyper Tough 38-pc Stubby Tool Set: Wrench Ratcheting Screwdriver Bits\u001b[0m(120.73, 25849)\n",
      "\u001b[1m\u001b[4mcds|C|6467954|US|en|8af282d29380cbe6:en_US , Fiskars 18\" Demolition Hammer - Dead Blow Hammers\u001b[0m(120.48, 68684)\n",
      "\u001b[1m\u001b[4mcds|C|6467954|US|en|8a427d05df121059:en_US , Dremel Straight Router Bit - 654\u001b[0m(120.15, 75210)\n",
      "\u001b[1m\u001b[4mcds|C|6467954|US|en|4c1a695c8ca8c170:en_US , Gear Wrench Hose Grip Double-X Pliers - 3/4\", 82019\u001b[0m(120.08, 69944)\n",
      "\u001b[1m\u001b[4mcds|C|6467954|US|en|96791657c58bb5d4:en_US , Husky Multi-angle Pipe Wrench 1003 005 294 (e10017225)\u001b[0m(120.03, 33939)\n",
      "\u001b[1m\u001b[4mcds|C|6467954|US|en|b3acdb35cc28d2a4:en_US , Dremel Drill Press Rotary Tool Workstation For Woodworking Jewelry\u001b[0m(120.01, 54218)\n",
      "\u001b[1m\u001b[4mcds|C|6467954|US|en|c477dd7a336f7200:en_US , Toolbag DMM\u001b[0m(119.98, 60398)\n",
      "\u001b[1m\u001b[4mcds|C|6467954|US|en|4fc1dc570584ccac:en_US , TEKTON 7 -in Diagonal Cutting Pliers PCT00007 | PCT00007-D\u001b[0m(119.60, 56757)\n",
      "\u001b[1m\u001b[4mcds|C|6467954|US|en|de0cce42ccb305d1:en_US , Steelman 79435 Heavy-Duty Tire Valve Stem Puller/Installer, Green\u001b[0m(119.50, 96562)\n",
      "\u001b[1m\u001b[4mcds|C|6467954|US|en|174454ad543bbd4f:en_US , Steck Studlever Dent Puller\u001b[0m(119.34, 20279)\n",
      "\u001b[1m\u001b[4mcds|C|6467954|US|en|e283b08b64582d08:en_US , Bosch 1Inch SDS-plus Rotary Hammer, Pistol Grip, Chuck Size 1 in, Volts 120, Amps 8, Model GBH2-26\u001b[0m(119.21, 82051)\n",
      "\u001b[1m\u001b[4mcds|C|6467954|US|en|4366ec51109e1f88:en_US , Bosch Black Oxide Impact Tough Drill Bit Set (9-Piece)\u001b[0m(118.99, 43090)\n",
      "\u001b[1m\u001b[4mcds|C|6467954|US|en|a40241d506179181:en_US , DEWALT DWST08205-DWST08202-DWST08201-DWST08204-DWST08210 ToughSystem Workshop Deluxe Mobile Bundle Kit\u001b[0m(118.94, 21630)\n",
      "\u001b[1m\u001b[4mcds|O|101830283|US|en|472571036932_173855230431 , Craftsman Ratchet Wrench 1/4 3/8 1/2 Teardrop 75t 84t Teeth Brand\u001b[0m(118.79, 33230)\n",
      "\u001b[1m\u001b[4mcds|C|6467954|US|en|04c299e2ff14352e:en_US , DEWALT 3/4\" Sds-Max Ground Rod Driver - 324DW5847 - Power Tool & Equipment Accessories - Concrete & Masonry Drill Bits\u001b[0m(118.70, 51670)\n",
      "\u001b[1m\u001b[4mcds|O|7308165|US|en|TDPP112+or+TDPP113 , Tire Changing Tool (5\" or 6\")\u001b[0m(118.60, 19565)\n",
      "\u001b[1m\u001b[4mcds|O|10798|US|en|shopify_US_2057445572697_21364897775705 , Gemplers Extra-Wide, Long-Handled Tool Rack\u001b[0m(118.60, 74049)\n",
      "\u001b[1m\u001b[4mcds|C|6467954|US|en|6ea698546dbc6ff0:en_US , Dremel EZ726-01 EZ Lock Sanding & Polishing Kit for Rotary Tool, 8 Piece (Dremel EZ726-01)\u001b[0m(118.45, 40092)\n",
      "\u001b[1m\u001b[4mcds|C|6467954|US|en|f5b61290af5983d2:en_US , Craftool Strap Cutter Replacement Blades 3081-00 By Tandy Leather\u001b[0m(118.44, 84667)\n",
      "\u001b[1m\u001b[4mcds|C|6467954|US|en|b8c48e090f01d320:en_US , DeWalt DW2735 Drill Flip Drive Set\u001b[0m(118.13, 93097)\n",
      "\u001b[1m\u001b[4mcds|C|6467954|US|en|d924cd552a10bda7:en_US , RZX 16\" RIVET NUT TOOL Hand Blind Riveter ,RIVNUT Riveting Tools with Nut Setting System totally 12mandrels M3 M4 M5,m6,m8,m10 M12, 10-24, 1/4-20 , 5\u001b[0m(117.95, 70399)\n",
      "\u001b[1m\u001b[4mcds|O|142898678|US|en|2298357 , Rack Lat Pulldown / Row Attachment - Light Commercial/Residential Power Rack | Bells of Steel\u001b[0m(117.83, 74068)\n",
      "\u001b[1m\u001b[4mcds|O|545697639|US|en|880 , CH-22 Manual Tire Changer\u001b[0m(117.25, 45313)\n",
      "\u001b[1m\u001b[4mcds|C|6467954|US|en|e6dd3d7be28f199f:en_US , Universal Sharpening Station, Multifunctional Sharpener Professional Knife & Chisel & HSS Drill Electric Multitask Sharpening Machine\u001b[0m(117.06, 61680)\n",
      "\u001b[1m\u001b[4mcds|C|6467954|US|en|f60950a66f18e230:en_US , OZ-Puller Post Clamp\u001b[0m(116.92, 75145)\n",
      "\u001b[1m\u001b[4mcds|C|6467954|US|en|d2b14df38583ca3d:en_US , Estwing 8-Pocket Leather Electrician's Tool Pouch for Work and Tool Belts, Flashlight Loop, Tape Chain, Pliers Pockets, 3-inch Tunnel Loop\u001b[0m(116.81, 43789)\n",
      "\u001b[1m\u001b[4mcds|C|6467954|US|en|9a42ae6cb0f3df2b:en_US , Oni Tools Input Shaft Bearing Puller Tool Kit for Eaton Fuller 1 3/4” & 2” Shafts and Ultra Shift Plus Transmission Bearing 4308011\u001b[0m(116.77, 31833)\n",
      "\u001b[1m\u001b[4mcds|C|6467954|US|en|57c89a643c6541fa:en_US , Wrench Set Full Polish Chrome\u001b[0m(116.41, 4104)\n",
      "\u001b[1m\u001b[4mcds|C|6467954|US|en|e1603a356b46d445:en_US , MAKITA 18V X2 (36V) LXT Lithium‐Ion Brushless Cordless 21\" Self Propelled Lawn Mower, Tool Only Teal | XML08Z | Acme Tools\u001b[0m(116.11, 96832)\n",
      "\u001b[1m\u001b[4mcds|C|6467954|US|en|09b1e9fbb3df5043:en_US , Vevor Lawn Mower Blade Grinder 1/2 Hp Bench Blade Sharpener 8\" Grinding Wheel\u001b[0m(115.89, 33779)\n",
      "\u001b[1m\u001b[4mcds|C|6467954|US|en|6592b45d5cf97c1c:en_US , 100 Pcs Rubber Grinding Heads,3mm Shank Polishing Tip Mounted Point Bufing Wheel for Dremel Rotary Tools\u001b[0m(115.71, 86494)\n",
      "\u001b[1m\u001b[4mcds|C|6467954|US|en|1597ded244b6d4e4:en_US , Leatherman Skeletool Multi-Tool Coyote Tan, Clamshell Packaging Full Size, General Purpose 832201\u001b[0m(115.44, 50429)\n",
      "\u001b[1m\u001b[4mcds|C|6467954|US|en|b8b07b9b85be016b:en_US , CRAFTSMAN 2000 Series 26.5-in W x 37.5-in H 5-Drawer Steel Rolling Tool Cabinet (Black) | CMST98268BK\u001b[0m(115.30, 58056)\n",
      "\u001b[1m\u001b[4mcds|O|6296724|US|en|133439388719 , Sears Craftsman Commercial Electric Drill Heavy Duty Reversible 1/2\u001b[0m(115.27, 32104)\n",
      "\u001b[1m\u001b[4mcds|C|6467954|US|en|7cbc63dc75585062:en_US , RYOBI 3 in. Carbide Cut Off Wheel Set (6-Piece)\u001b[0m(115.25, 96997)\n",
      "\u001b[1m\u001b[4mcds|C|6467954|US|en|252f3328ff28ddc8:en_US , PSB/Purdy 140900230 Carbide Scraper ~ 2 - 1/2\"\u001b[0m(115.12, 55240)\n",
      "\u001b[1m\u001b[4mcds|C|6467954|US|en|147651e0457eafbe:en_US , Crescent 24 in. Chain Wrench\u001b[0m(114.68, 70196)\n",
      "\u001b[1m\u001b[4mcds|C|6467954|US|en|019a29c6109b5c6a:en_US , Makita XSF03R 18V LXT Lithium-Ion COMPACT Brushless Cordless Drywall Screwdriver Kit (2.0Ah)\u001b[0m(114.62, 99958)\n",
      "\u001b[1m\u001b[4mcds|C|6467954|US|en|565bf57c7d24765f:en_US , Dead On Dos22m 22-ounce 18-inch Steel Milled Face Hammer\u001b[0m(114.44, 83400)\n",
      "\u001b[1m\u001b[4mcds|C|6467954|US|en|cb5b3838ff9f8589:en_US , Milwaukee 48-22-1928 5\" HARDLINE Fixed Blade Knife\u001b[0m(114.25, 62062)\n",
      "\u001b[1m\u001b[4mcds|C|6467954|US|en|63474ab23d9dca08:en_US , Edger Blade - Echo 720237001\u001b[0m(114.22, 14897)\n",
      "\u001b[1m\u001b[4mcds|C|6467954|US|en|85e97db70cb24959:en_US , Hercules 10 in. Tool Tote with 22 Pockets\u001b[0m(113.99, 345)\n",
      "\u001b[1m\u001b[4mcds|C|6467954|US|en|0730b093ef4f25fd:en_US , Homax Drywall Corner Taping Easy Seamer Tool, Plastic, Yellow, Size: 7.6 x 4.5 x 1.9\u001b[0m(113.82, 45490)\n",
      "\u001b[1m\u001b[4mcds|C|6467954|US|en|cfdd073da3dd9594:en_US , Ridge Tool Company Manual Threading/Metal Cases, For 12R, Holds 9 Die Heads, 1/EA, #97375 | AFT Fasteners\u001b[0m(113.72, 64437)\n",
      "\u001b[1m\u001b[4mcds|C|6467954|US|en|70c0dc20368a2657:en_US , Bauer Tools 1895c-b\u001b[0m(113.65, 84524)\n",
      "\u001b[1m\u001b[4mcds|C|6467954|US|en|e623761846d11c8f:en_US , Klein Tools Bull-Pin And Bolt Bags, 3 Compartments, 10 In X 5 In, Canvas - 1 Ea (409-5416)\u001b[0m(113.63, 52335)\n",
      "\u001b[1m\u001b[4mcds|O|9202400|US|en|10598 , Irritec Drip Clip Punch/Installation Tool\u001b[0m(113.60, 80657)\n",
      "\u001b[1m\u001b[4mcds|C|6467954|US|en|8279924a0a2f2cd2:en_US , Workington Portable Carpenter Metal Tool Box with Latch, Small Parts Box, Sockets Storage Box Organizer 4002\u001b[0m(113.49, 90489)\n",
      "\u001b[1m\u001b[4mcds|O|12768591|US|en|898325253 , Pink tool belt incl. pink tool\u001b[0m(113.35, 3192)\n",
      "\u001b[1m\u001b[4mcds|O|4214520|US|en|91082068 , Speedway Racing Tire Needler Prep Tool\u001b[0m(113.28, 8727)\n",
      "\u001b[1m\u001b[4mcds|C|6467954|US|en|17b099866ffe7fd4:en_US , Crescent Z2 Auto-Bite Tongue and Groove Plier Set (3-Piece)\u001b[0m(113.20, 84040)\n",
      "\u001b[1m\u001b[4mcds|C|6467954|US|en|05c509ee40d8889d:en_US , Berry's Superior Bullet Puller\u001b[0m(112.94, 83538)\n",
      "\u001b[1m\u001b[4mcds|O|100872875|US|en|21730 , Jacknob 8935, Toilet Partition One Way Screw Removers, Can Remove Sizes: 6-14 by WoodworkerExpress.com\u001b[0m(112.93, 59106)\n",
      "\u001b[1m\u001b[4mcds|C|6467954|US|en|b23a623a78b49903:en_US , Gerber Gator Combo Axe and Knife\u001b[0m(112.73, 61212)\n",
      "\u001b[1m\u001b[4mcds|C|6467954|US|en|2d127c08cdecc34b:en_US , Gordon Lock-Back Utility Knife\u001b[0m(112.64, 6087)\n",
      "\u001b[1m\u001b[4mcds|C|6467954|US|en|20ebe6b121a6ff15:en_US , End Cutting Pliers Nail Puller End Nippers For Zipper Install Stops\u001b[0m(112.38, 32993)\n",
      "\u001b[1m\u001b[4mcds|C|6467954|US|en|2e71242c84fbf954:en_US , Milwaukee Lineman's Underground Knife\u001b[0m(112.11, 9080)\n",
      "\u001b[1m\u001b[4mcds|C|6467954|US|en|4d4147965dcbf799:en_US , Machinist Clamping Kit, 42 Piece\u001b[0m(111.75, 92657)\n",
      "\u001b[1m\u001b[4mcds|C|6467954|US|en|3ae907620849385c:en_US , Epicurean Magnetic Knife Holders\u001b[0m(111.23, 57461)\n",
      "\u001b[1m\u001b[4mcds|C|6467954|US|en|e1019aa76bf0cc50:en_US , JEGS 5-Drawer Tool Box Cart | Smooth Ball Bearing Glides | Over 700 LBS Capacity | Red Powder Coated Finish | Includes Drawer Liners\u001b[0m(111.23, 68202)\n",
      "\u001b[1m\u001b[4mcds|C|6467954|US|en|8487eb6bb8d6c647:en_US , RYOBI ONE+ 18V Brushless Cordless 1/4 in. Extended Reach Ratchet with (1) 2.0 Ah Battery and Charger\u001b[0m(110.93, 5581)\n",
      "\u001b[1m\u001b[4mcds|O|348908|US|en|HPT1WUD-X001-Y001 , HP Tools Showa/KYB Compression Body Fork Cap Tool-Dirtbike Fork Cap Wrench\u001b[0m(110.81, 36925)\n",
      "\u001b[1m\u001b[4mcds|C|6467954|US|en|a99bb41dbe23525c:en_US , Milwaukee M18 FUEL 18 Volt Lithium Ion Cordless Brushless String Grass Trimmer 8.0Ah Kit with Pole Saw, Hedge Trimmer, Edger\u001b[0m(110.35, 45690)\n",
      "\u001b[1m\u001b[4mcds|C|6467954|US|en|da4254659837e043:en_US , General International 15 In. Bench Commercial Variable Speed Drill Press with Laser and Regular Chuck Green | 75-060 M1 | Acme Tools\u001b[0m(110.21, 44753)\n",
      "\u001b[1m\u001b[4mcds|C|6467954|US|en|d6dc9bdbbf8431cc:en_US , Dr. Slick Fly Tyer Gift Set | Fly Fishing Tying Set | SKU TYER\u001b[0m(110.17, 65039)\n",
      "\u001b[1m\u001b[4mcds|C|6467954|US|en|dc08a30c1136e329:en_US , 12-Piece Reciprocating Saw Blade Kit By Milwaukee 49-22-1129\u001b[0m(110.16, 96229)\n",
      "\u001b[1m\u001b[4mcds|C|6467954|US|en|aca52a5cce444d00:en_US , Eklind 10 Piece T-Handle Hex Key Set - Hex Range 3/32 to 3/8\", Alloy Steel | Part #53610\u001b[0m(110.15, 70603)\n",
      "\u001b[1m\u001b[4mcds|O|3074108|US|en|2KUY1 , Prime Edge Knife Sharpening Machine: 110 V, 1/6 Horsepower, Single Phase, 12 in Overall Dp Model: HE1-110V1P60HZ\u001b[0m(110.14, 62876)\n",
      "\u001b[1m\u001b[4mcds|C|6467954|US|en|c77c545302407832:en_US , Nifty Home Products, Inc. Innovation Factory Trucker'S Friend All-Purpose Survival Tool - Woodcraft\u001b[0m(110.01, 97592)\n",
      "\u001b[1m\u001b[4mcds|C|6467954|US|en|99d8388100bb690c:en_US , Powerbuilt Master Steering Wheel and Lock Plate Puller Kit, Included (qty.) 21, Product Type Pullers, Single Set, Model 648748\u001b[0m(109.55, 21004)\n",
      "\u001b[1m\u001b[4mcds|O|114143634|US|en|553539078914_254178903344 , Canvas Roll Up Tools Storage Bag 8/10/14-pocket Spanner Wrench\u001b[0m(109.50, 36945)\n",
      "\u001b[1m\u001b[4mcds|C|6467954|US|en|c7ee82bf9a672e59:en_US , Wal-Board Tools 24 in. Taping Knife with Wooden Handle\u001b[0m(109.43, 3842)\n",
      "\u001b[1m\u001b[4mcds|O|101704838|US|en|174104040720 , Hart 5 Piece Quick Tatch Trowel Set Grout Float, Square Notch, Handle\u001b[0m(109.36, 22863)\n",
      "\u001b[1m\u001b[4mcds|C|6467954|US|en|89b7f0b7fcea9a0a:en_US , DEWALT Reciprocating Saw Blades, Straight Back, 6-Inch, 14 TPI, 5-Pack (DW4808)\u001b[0m(109.35, 16960)\n",
      "\u001b[1m\u001b[4mcds|O|101684535|US|en|254905331731 , 1\" Quick Release 'l' Shaped Windshield Glass Knife - Rockwell\u001b[0m(109.13, 44638)\n",
      "\u001b[1m\u001b[4mcds|C|6467954|US|en|c2e510528af86727:en_US , Landscapers Select PS-60943L Lawn Weeder, Plastic Handle, Powder-Coated\u001b[0m(109.12, 43607)\n",
      "\u001b[1m\u001b[4mcds|C|6467954|US|en|5d55e412a46d9f99:en_US , Milwaukee Cordless Concrete Vibrator Model: 2911-20\u001b[0m(109.12, 34151)\n",
      "\u001b[1m\u001b[4mcds|C|6467954|US|en|6551d06ab0397ab0:en_US , Milwaukee M12 FUEL 12-Volt Li-Ion Brushless Cordless Hammer Drill and Impact Driver Combo Kit (2-Tool)W/ M12 3/8 In. Ratchet power tool set, power\u001b[0m(108.92, 49285)\n",
      "\u001b[1m\u001b[4mcds|C|6467954|US|en|72dd5fb4752206d0:en_US , Bulltools 6-Piece Flex-Head Extra Long Ratcheting Wrenches Double Box End Chrome Vanadium Steel 72-Tooth Wrench Set with Metric 8mm - 19mm, Size: SETS\u001b[0m(108.86, 58808)\n",
      "\u001b[1m\u001b[4mcds|O|8740|US|en|306810110 , DEWALT 20 in. 20V MAX Lithium Ion Cordless Battery Walk Behind Push Lawn Mower with (4) 5.0Ah Batteries and Charger Included\u001b[0m(108.83, 18074)\n",
      "\u001b[1m\u001b[4mcds|C|6467954|US|en|3a2847b3feda7132:en_US , GEARWRENCH Ratcheting Combination Wrench 16mm, 12 Point - 9116D\u001b[0m(108.24, 63964)\n",
      "\u001b[1m\u001b[4mcds|C|6467954|US|en|b9533f36c639309b:en_US , KAKO String Trimmer Line 0.065'' Replacement Spool for Ryobi One Plus AC14RL3A 18V 24V 40V Auto Feed Cordless Weed Eater Spools Line with AC14HCA\u001b[0m(108.06, 71013)\n",
      "\u001b[1m\u001b[4mcds|C|6467954|US|en|ccef3f01901de174:en_US , Jackhammer Driving Kit Jack Hammer Driver Bit Spacer Install Fence\u001b[0m(107.94, 67447)\n",
      "\u001b[1m\u001b[4mcds|C|6467954|US|en|5dbfecb4cbf53526:en_US , Guosu Cable Grip Wire Gripper Steel Cable Puller Tool for Wire Rope,Pulling 4408 Lbs(2 Ton)\u001b[0m(107.90, 85846)\n",
      "\u001b[1m\u001b[4mcds|C|6467954|US|en|d01fd345d3179390:en_US , Dewalt Screwdriver Kit: 1/4 in Hex Drive Size, 430 RPM Free Speed, (1) Bare Tool, (1) Battery, (1) Charger Model: DCF680N1\u001b[0m(107.79, 94538)\n",
      "\u001b[1m\u001b[4mcds|C|6467954|US|en|d28a4c7430443570:en_US , Craftsman 8 oz Ball Pein Hammer Steel Head 11 in.\u001b[0m(107.51, 46760)\n",
      "\u001b[1m\u001b[4mcds|C|6467954|US|en|087f618f97ec36ea:en_US , Milwaukee 48-01-7787 9\" 14 TPI The Torch SAWZALL Blades (Pack of 100)\u001b[0m(107.31, 50534)\n",
      "\u001b[1m\u001b[4mcds|C|6467954|US|en|3cd442db3c7ebeed:en_US , Feuling Crankshaft Runout Measuring Tool 9015\u001b[0m(107.24, 25409)\n",
      "\u001b[1m\u001b[4mcds|C|6467954|US|en|d1632a0a36c283d9:en_US , Flex 24-volt Brushless Drywall Cut Out Tool - Fx2471-z -tool Only-\u001b[0m(107.21, 10821)\n",
      "\u001b[1m\u001b[4mcds|C|6467954|US|en|3e03c1b0780b288b:en_US , DEWALT 125 MPH 600 CFM Flexvolt 60V MAX Lithium-Ion Cordless Axial Blower (Tool Only) with Bonus (1) FLEXVOLT 60V 3.0Ah Battery\u001b[0m(107.14, 40317)\n",
      "\u001b[1m\u001b[4mcds|C|6467954|US|en|f4cab55e2c9c3424:en_US , Attractor 24 in. Magnetic Sweeper PS337C\u001b[0m(106.85, 25410)\n",
      "\u001b[1m\u001b[4mcds|C|6467954|US|en|cd697a164a554954:en_US , Milwaukee 48-68-0031 1/4\" Collet Nut\u001b[0m(106.74, 54444)\n",
      "\u001b[1m\u001b[4mcds|C|6467954|US|en|7d4a8bdcf2c0f94e:en_US , Westward 2Dbr6 Ball Pein Hammer,8 Oz,hickory Handle\u001b[0m(106.68, 60073)\n",
      "\u001b[1m\u001b[4mcds|O|247906560|US|en|22455 , Ko-ken Socket Set in Foam PM-HND-1014-00-F / TI4261M | Pentagon, Socket Set Titanium\u001b[0m(106.42, 75228)\n",
      "\u001b[1m\u001b[4mcds|O|272358891|US|en|419058 , Hummingbird Needle Threader\u001b[0m(106.41, 35604)\n",
      "\u001b[1m\u001b[4mcds|C|6467954|US|en|6a1c14a4700cfffe:en_US , BOSCH 10 pc. Wood and Metal Cutting T-Shank Jig Saw Blade Set | T5002 | Acme Tools\u001b[0m(106.39, 2932)\n",
      "\u001b[1m\u001b[4mcds|C|6467954|US|en|be51f85a7f0207db:en_US , Mueller Kueps 457705 Line Wrench Kit With Joint Brand\u001b[0m(106.25, 87607)\n",
      "\u001b[1m\u001b[4mcds|C|6467954|US|en|80515813c37838e6:en_US , Knipex 02 01 200: Knipex High-Leverage Combination Pliers\u001b[0m(105.84, 73491)\n",
      "\u001b[1m\u001b[4mcds|O|6296724|US|en|114918806727 , Genuine Makita Makpac Interlocking Charger Case Systainer W/o\u001b[0m(105.82, 60009)\n",
      "\u001b[1m\u001b[4mcds|O|111108931|US|en|PS16325548 , Ryobi 314608005 Bump Feed Trimmer Head Assembly (Inc. Key No. 21)\u001b[0m(105.73, 9290)\n",
      "\u001b[1m\u001b[4mcds|C|6467954|US|en|dd19ff2ed10b9ef8:en_US , Icon SAE Professional Ratcheting Combination Wrench Set, 7 Piece\u001b[0m(105.70, 54359)\n",
      "\u001b[1m\u001b[4mcds|O|110026978|US|en|shopify_US_4621895046_15133467334 , Milwaukee 4094 Diamond Coring Motor 450/900 RPM, 20 Amp with Shear Pin\u001b[0m(105.56, 24586)\n",
      "\u001b[1m\u001b[4mcds|O|423913691|US|en|433395879019_133947822736 , 1~20pack 20 Volt For Dewalt 20v Max 5.0ah Lithium Ion Battery Dcb206-2\u001b[0m(105.30, 76002)\n",
      "\u001b[1m\u001b[4mcds|C|6467954|US|en|453d4abcece22b0b:en_US , 3pcs Locking Pliers Set 10'' 7\" 5\" Curved Jaw Nickel Plated Heat\u001b[0m(105.18, 7642)\n",
      "\u001b[1m\u001b[4mcds|C|6467954|US|en|cf5a5bdbb7776b00:en_US , Magic Tool Clip Set Regular - Marc Petitjean - Fly Tying\u001b[0m(105.17, 13422)\n",
      "\u001b[1m\u001b[4mcds|C|6467954|US|en|255bf24da809f042:en_US , T40070-T40133 Camshaft Clamp Set Alt\u001b[0m(105.01, 97716)\n",
      "\u001b[1m\u001b[4mcds|C|6467954|US|en|5ca8836234eec0ed:en_US , Rockler Table Saw Blade Holder\u001b[0m(104.86, 84417)\n",
      "\u001b[1m\u001b[4mcds|C|6467954|US|en|3ca071894f86af50:en_US , K Tool International 72450 - Magnetic Tool Hanger\u001b[0m(104.54, 47565)\n",
      "\u001b[1m\u001b[4mcds|O|8128387|US|en|CR10B , Handle Maker\u001b[0m(104.45, 6090)\n",
      "\u001b[1m\u001b[4mcds|O|117171671|US|en|830508606 , Knipex Holder ~ Leather Case for Knipex Pliers ~ Knipex Pliers Holder ~ Plier Holster for Knipex Cobra\u001b[0m(104.44, 79747)\n",
      "\u001b[1m\u001b[4mcds|C|6467954|US|en|bc3748ca24728fbe:en_US , Ultima 5.5\" Razor Sharp Surgical Seam Rippers/seam Cutters (4 Pack)\u001b[0m(104.28, 92347)\n",
      "\u001b[1m\u001b[4mcds|C|6467954|US|en|d2e4f3b027ee1995:en_US , DeWALT 3/4\" Pipe Capacity, PEX Expander Tool - 1 Piece, Cuts PEX Type-A, Includes Expansion Head | Part #DCE40034\u001b[0m(104.21, 33064)\n",
      "\u001b[1m\u001b[4mcds|O|113478214|US|en|31-004011 , Gerber Gear Randy Newberg EBS Tools Replacement Blades\u001b[0m(104.20, 43795)\n",
      "\u001b[1m\u001b[4mcds|C|6467954|US|en|15c6785a45e48d08:en_US , Flexible Hose Clamp Pliers 2' Long Wire For Flat Oil Water Fuel Hose\u001b[0m(104.19, 42382)\n",
      "\u001b[1m\u001b[4mcds|C|6467954|US|en|f455177fd9394293:en_US , Powerbuilt 648796 For Honda Crank Pulley Holder Tool\u001b[0m(103.93, 34824)\n",
      "\u001b[1m\u001b[4mcds|C|6467954|US|en|212fc674c11a44bb:en_US , Dewalt 5140178-86 Replacement Radio Power Supply Dwst08810\u001b[0m(103.81, 49269)\n",
      "\u001b[1m\u001b[4mcds|O|144646454|US|en|09A0121 , Replacement Blades for Pro Seam-Ripper Kit, Repl. (6)\u001b[0m(103.62, 7782)\n",
      "\u001b[1m\u001b[4mcds|O|7892326|US|en|R-3018+RC4 , UTV Roll Bar Tool Holder Carrier by Hornet Outdoors\u001b[0m(103.53, 74638)\n",
      "\u001b[1m\u001b[4mcds|C|6467954|US|en|7acbc115daa38d53:en_US , SUNEX TOOLS Pencil Air Die Grinder Kit\u001b[0m(103.19, 13393)\n",
      "\u001b[1m\u001b[4mcds|O|9299300|US|en|19876 , Frame Hammer- 1 Each\u001b[0m(102.97, 60241)\n",
      "\u001b[1m\u001b[4mcds|C|6467954|US|en|369fbcb6836d2471:en_US , Westward Intermediate Chest: Powder Coated Black, 26 3/8 in W x 17 in D x 10 5/8 in H, Black Model: 32H849\u001b[0m(102.94, 76444)\n",
      "\u001b[1m\u001b[4mcds|C|6467954|US|en|592e767d18914901:en_US , Motion Pro 08-0349 35mm Flywheel Puller M35 X 1.5 R.h.\u001b[0m(102.72, 99840)\n",
      "\u001b[1m\u001b[4mcds|C|6467954|US|en|1f521d452ad76a25:en_US , Bond Mattock 15 in. Steel Handle\u001b[0m(102.55, 65962)\n",
      "\u001b[1m\u001b[4mcds|C|6467954|US|en|b9d94ce938ad456c:en_US , Multi-Angle Measuring Ruler,Multi Angle Tool,12-Sided Angle Measurement,Tile Holes Measure Ruler with 3-Holes Positioning Apertures,Upgrade Multi\u001b[0m(102.52, 575)\n",
      "\u001b[1m\u001b[4mcds|C|6467954|US|en|ee829f932d35e0f2:en_US , GearWrench 9520D 10 Piece 12 Point Stubby Ratcheting Combination Metric Wrench Set\u001b[0m(102.36, 12522)\n",
      "\u001b[1m\u001b[4mcds|C|6467954|US|en|80bbedcd43fa8b30:en_US , NAVAC NTR14 Internal & External Reamer, 1/8\" to 1 5/8\" Tube O.D.\u001b[0m(102.18, 32892)\n",
      "\u001b[1m\u001b[4mcds|C|6467954|US|en|294ecf986090d707:en_US , Detroit Diesel Dd15 Dd16 Camshaft Timing Tool Kit & Tdc Locating Pin\u001b[0m(102.15, 18890)\n",
      "\u001b[1m\u001b[4mcds|O|124241419|US|en|103693 , TW8, 3/4 - 1-1/2 Straight Tap Wrench\u001b[0m(102.13, 4077)\n",
      "\u001b[1m\u001b[4mcds|C|6467954|US|en|38c37986d77283f3:en_US , Gates 91023 SureLok 1/8\" to 3/8\" Vertical Quick-Release Push-Lock Pliers\u001b[0m(101.68, 85891)\n",
      "\u001b[1m\u001b[4mcds|O|374448703|US|en|m83613137553 , Drill Master 18v 3/8 In Cordless Drill. | Color: Black\u001b[0m(101.66, 53708)\n",
      "\u001b[1m\u001b[4mcds|C|6467954|US|en|0aba4e04e20f45c5:en_US , Dremel 615 Router Bit,roundover,1/8 In Bit Dia\u001b[0m(101.60, 73753)\n",
      "\u001b[1m\u001b[4mcds|C|6467954|US|en|d3fda0d5ae38696c:en_US , eTORK Click-Style Torque Wrench (1/4-Inch, 40-200 in.-lb)\u001b[0m(101.56, 81829)\n",
      "\u001b[1m\u001b[4mcds|C|6467954|US|en|b6ddcf9e2e6f0ee0:en_US , DEWALT 20-Volt MAX Cordless 6-1/2 in. Circular Saw with (1) 20-Volt Battery 4.0Ah and Charger power tool set, power tool combo kits, cordless tool set\u001b[0m(101.53, 3307)\n",
      "\u001b[1m\u001b[4mcds|C|6467954|US|en|e507b206c553c792:en_US , CST-1900 - jonard tools\u001b[0m(101.43, 70313)\n",
      "\u001b[1m\u001b[4mcds|C|6467954|US|en|aa6ceab8306ad5ca:en_US , Stanley Quick Change Retractable Utility Knife (2-pack)\u001b[0m(101.41, 96709)\n",
      "\u001b[1m\u001b[4mcds|C|6467954|US|en|18ff49f1b75f4d4f:en_US , ABN Valve Stem Seal Remover and Installer 11-Piece Tool Kit with Carrying Case – Pliers, Drive Handle, Sockets, Adapters\u001b[0m(101.24, 68384)\n",
      "\u001b[1m\u001b[4mcds|C|6467954|US|en|2721a2c9a86e8651:en_US , DEWALT 6 gal Pancake Compressor/2 In. Brad Nailer Combo Kit Yellow/Black | DWC1KIT-B | Acme Tools\u001b[0m(100.97, 40062)\n",
      "\u001b[1m\u001b[4mcds|C|6467954|US|en|c565a58b33c84567:en_US , ATOMIC 20-Volt MAX Cordless Brushless Compact Reciprocating Saw with (1) 4.0Ah Battery\u001b[0m(100.93, 23056)\n",
      "\u001b[1m\u001b[4mcds|C|6467954|US|en|ee9f42410a638e3c:en_US , Truck Tool Box Mounting Kit Pickup Universal Fit Toolbox Tie Downs Aluminum Alloy J Hooks Crossover with 304 Stainless Steel Screws and Washers(4\u001b[0m(100.90, 60229)\n",
      "\u001b[1m\u001b[4mcds|C|6467954|US|en|377556650927335a:en_US , BMW E46 M3 S54 - Genuine BMW Rear Toe Adjustment Tool: A big help when doing an alignment\u001b[0m(100.90, 65073)\n",
      "\u001b[1m\u001b[4mcds|C|6467954|US|en|2a9f72c8be513dfb:en_US , Kraft Tool Sk102 Power Troweler Blade,floatshoe,10X14 In\u001b[0m(100.58, 12479)\n",
      "\u001b[1m\u001b[4mcds|C|6467954|US|en|c2186f7765d74570:en_US , Tapetech 40\" Premium Skimming Finishing Knife Px40tt\u001b[0m(100.57, 44484)\n",
      "\u001b[1m\u001b[4mcds|C|6467954|US|en|4034afb5408e7275:en_US , Rubber Bench Block Set (4x4in) with Mini Hammer (6in) - Jewelry Making Kits Supplies, Metal Smiting Tool, Jewelry Tools for Metal Stamping Kit,\u001b[0m(100.51, 358)\n",
      "\u001b[1m\u001b[4mcds|C|6467954|US|en|68d4932a3930f6f1:en_US , Dewalt Inner Core Bulb Head Drain Cleaning Cable 5/16 in x 25 ft Model: DCD2005\u001b[0m(100.47, 57942)\n",
      "\u001b[1m\u001b[4mcds|C|6467954|US|en|ae7ac8e1dd1ffbdf:en_US , Speedaire 5Yap3 Tool Retractor,for Tool 2-4 Lb,no Lock\u001b[0m(100.12, 52431)\n",
      "\u001b[1m\u001b[4mcds|C|6467954|US|en|6ef304eed6081bb2:en_US , SEKETMAN 24 Pcs Combination Ratcheting Wrench Set 12 Point Speed Wrench Set Fit for Garage,Office, Home DIY, Repair and Maintenance\u001b[0m(100.10, 31212)\n",
      "\u001b[1m\u001b[4mcds|C|6467954|US|en|97af89a40498d174:en_US , Bosch 12 5 Tpi Rcp Blade 5Pk Pch | Bosch-RP125\u001b[0m(99.78, 55642)\n",
      "\u001b[1m\u001b[4mcds|C|6467954|US|en|9c6db3ed7da35d3b:en_US , Milwaukee M12 FUEL 12-Volt Lithium-Ion Brushless Cordless 1/2 in. Drill Driver Kit with 4.0Ah and 2.0Ah Battery and Hard Case\u001b[0m(99.65, 12466)\n",
      "\u001b[1m\u001b[4mcds|C|6467954|US|en|ba790f3324155a7a:en_US , Dewalt Genuine OEM Replacement Rip Fence + Rip Fence # Combo00233, Men's, Size: One size\u001b[0m(99.58, 80314)\n",
      "\u001b[1m\u001b[4mcds|C|6467954|US|en|43c4a3b148796141:en_US , Bosch Daredevil 6 in. QC Spade Drill Bit Extension\u001b[0m(99.45, 50654)\n",
      "\u001b[1m\u001b[4mcds|C|6467954|US|en|0a44015407dcc3ec:en_US , Husky 11 mm 12-Point Metric Ratcheting Combination Wrench\u001b[0m(99.03, 63589)\n",
      "\u001b[1m\u001b[4mcds|C|6467954|US|en|2b371302409ff316:en_US , Makita XML11CT1 | 18V X2 (36V) LXT Lithium-Ion 21\" Cordless Self-Propelled Lawn Mower Kit /w 4 Batteries (5 Ah) | Tyler Tool\u001b[0m(98.97, 56411)\n",
      "\u001b[1m\u001b[4mcds|C|6467954|US|en|90cbf55877709deb:en_US , Ultimate Complete Kawasaki KLR650 Tool Kit with Tool Roll MADE IN USA\u001b[0m(98.80, 29129)\n",
      "\u001b[1m\u001b[4mcds|C|6467954|US|en|3a3df56797a1d45d:en_US , 3-piece High Leverage Diagonal Cutter Set\u001b[0m(98.72, 60447)\n",
      "\u001b[1m\u001b[4mcds|C|6467954|US|en|eaab6ff939a78c89:en_US , Stewmac Endpin Jack Reamer\u001b[0m(98.55, 3203)\n",
      "\u001b[1m\u001b[4mcds|O|121794993|US|en|woocommerce_gpf_12819 , Service Line Puller Kit\u001b[0m(98.38, 1555)\n",
      "\u001b[1m\u001b[4mcds|O|137734820|US|en|264040364663 , 40\" X 324\" (27') Monarch Engine Lathe: Stock 65383\u001b[0m(98.35, 72239)\n",
      "\u001b[1m\u001b[4mcds|C|6467954|US|en|7ed4434e39fc853e:en_US , Dewit 60\" Half Moon Hoe\u001b[0m(98.35, 28874)\n",
      "\u001b[1m\u001b[4mcds|C|6467954|US|en|e8457480289fd4ca:en_US , Pliers Ear Clamp Pliers W/ Side Jaw Knipex\u001b[0m(98.25, 56775)\n",
      "\u001b[1m\u001b[4mcds|C|6467954|US|en|8a71b31ccf79ed90:en_US , Corona 14\" Level Head Rake - Red\u001b[0m(98.08, 44431)\n",
      "\u001b[1m\u001b[4mcds|C|6467954|US|en|da58d37af9571879:en_US , CRAFTSMAN 9-Pack Bi-Metal Set Wood/Metal Cutting Reciprocating Saw Blade Set | 2058840\u001b[0m(98.00, 79621)\n",
      "\u001b[1m\u001b[4mcds|O|110888525|US|en|123887934872 , Dewalt 20v Max Dcd780 ,dcd785 Cordless 2nd Gen Trigger Switch\u001b[0m(97.99, 55178)\n",
      "\u001b[1m\u001b[4mcds|C|6467954|US|en|1c71612ae0177ae6:en_US , 2x XRP 18V NiCD Dc9096 Battery For Dewalt De9095 Dw9098 Dc9099 18Volt Power Tool, Black\u001b[0m(97.74, 4751)\n",
      "\u001b[1m\u001b[4mcds|O|106567002|US|en|HYD+000-163-617 , HydraMaster Evolution Glided Upholstery Tool\u001b[0m(97.64, 83281)\n",
      "\u001b[1m\u001b[4mcds|C|6467954|US|en|014c178f88020c79:en_US , DeWalt DCB609\u001b[0m(97.54, 69266)\n",
      "\u001b[1m\u001b[4mcds|O|262986322|US|en|47636812345 , MultiTasker Twist Multi-Tool SKU - 476368\u001b[0m(97.47, 22437)\n",
      "\u001b[1m\u001b[4mcds|C|6467954|US|en|43f113b13f81dd5e:en_US , OTC Hub Grappler\u001b[0m(97.42, 43191)\n",
      "\u001b[1m\u001b[4mcds|C|6467954|US|en|71aaede266ee0231:en_US , Dewalt Dw618b3 120v 12 Amp 2-1/4 Hp 3 Base Router Kit\u001b[0m(97.38, 64180)\n",
      "\u001b[1m\u001b[4mcds|C|6467954|US|en|3c1f05c6ea199c25:en_US , OmniWall Grinder Holder-Black\u001b[0m(97.28, 92694)\n",
      "\u001b[1m\u001b[4mcds|C|6467954|US|en|40a94abd6d70afab:en_US , 5-Inch Replacement Pad for Ryobi #300527002, Compatible with Ryobi RS290, RS280/RS280VS, RS281VS, P411 Random Orbit Sander\u001b[0m(97.24, 987)\n",
      "\u001b[1m\u001b[4mcds|C|6467954|US|en|98698579641c4f22:en_US , Bucktool Combo 2\" x 42\" Belt Sander 6\" Bench Grinder, Knife Sharpener with Large Work Table BG2600 Upgraded Model\u001b[0m(97.22, 46055)\n",
      "\u001b[1m\u001b[4mcds|O|4900386|US|en|1363145 , DeWALT DW 40 ft. Pocket Laser Distance Measurer, DW055PL-Q\u001b[0m(97.21, 99819)\n",
      "\u001b[1m\u001b[4mcds|C|6467954|US|en|bf546ecf2860c1a5:en_US , DeWalt Sa Shoe #DWB-605076-00SV\u001b[0m(97.12, 35227)\n",
      "\u001b[1m\u001b[4mcds|C|6467954|US|en|17c2ad933af25175:en_US , Pac Strapping Products Bt3920 5/8-Set Strapping Combo Tool,battery,hea\u001b[0m(96.98, 55381)\n",
      "\u001b[1m\u001b[4mcds|C|6467954|US|en|8699a774dd961d49:en_US , StrongHand MLA600 Adjustable Angle 6\" Magnet\u001b[0m(96.77, 28170)\n",
      "\u001b[1m\u001b[4mcds|C|6467954|US|en|52f79d96210f1937:en_US , Unique Truck Accessories UB36-20TD Brute HD Two Drawers Underbody Tool Box\u001b[0m(96.71, 53305)\n",
      "\u001b[1m\u001b[4mcds|C|6467954|US|en|b035c9395d8ad978:en_US , CHIEN RONG 1.5 HP Tire Machine Tire Changer Wheel Changers Machine Balancer Rim Clamp Combo 580-680 12\"-21\" / 12 Month Warranty\u001b[0m(96.45, 52490)\n",
      "\u001b[1m\u001b[4mcds|C|6467954|US|en|3f030b2862fb7bc5:en_US , DEWALT 1/2-in 6-in Titanium Twist Drill Bit | DD5132\u001b[0m(96.32, 45627)\n",
      "\u001b[1m\u001b[4mcds|C|6467954|US|en|ab676c77739074b2:en_US , Ch-70 Hydraulic Hole Punching 35t Tool Puncher Cfp-800-1 Copper Bar\u001b[0m(96.30, 20755)\n",
      "\u001b[1m\u001b[4mcds|C|6467954|US|en|055e7ce0c8b47aa6:en_US , Marshalltown DuraFlex 5 in. W Stainless Steel Finishing Trowel\u001b[0m(96.19, 45701)\n",
      "\u001b[1m\u001b[4mcds|C|6467954|US|en|a9502c807e582d17:en_US , General Tools 86014 14 piece Quad Saw/Driver, Size: Various tools, Black\u001b[0m(96.00, 49858)\n",
      "\u001b[1m\u001b[4mcds|C|6467954|US|en|3ef5f2236076ddbb:en_US , Marshalltown 6 X 4 3/8 Zinc Groover-1D X 3/8 Bit-DuraSoft Hdl, Product Type Groover, Model 835D\u001b[0m(95.78, 25263)\n",
      "\u001b[1m\u001b[4mcds|C|6467954|US|en|bc3abc5ef41bcfbb:en_US , RYOBI 10 in. 40-Volt Lithium-Ion Cordless Pole Saw, 2.0 Ah Battery and Charger Included RY40562VNM\u001b[0m(95.74, 19031)\n",
      "\u001b[1m\u001b[4mcds|O|9384133|US|en|CRT36-26A , Husqvarna CRT36-26A Riding Trowel with Wheel Kit\u001b[0m(95.66, 28573)\n",
      "\u001b[1m\u001b[4mcds|C|6467954|US|en|2e81c57147398ed8:en_US , DeWalt DCB205-2 20V Max XR 5.0Ah Lithium Ion Battery (2-Pack)\u001b[0m(95.57, 70305)\n",
      "\u001b[1m\u001b[4mcds|C|6467954|US|en|7d42022be337fb2b:en_US , DEWALT 20-Volt MAX XR Cordless Brushless Compact Router with (1) 20-Volt Battery 3.0Ah & Charger\u001b[0m(95.56, 45060)\n",
      "\u001b[1m\u001b[4mcds|O|110026978|US|en|shopify_US_4621871366_15133376710 , Milwaukee 2676-23 FORCELOGIC M18 10-Ton Knockout Tool 1/2\" to 4\" Kit\u001b[0m(95.55, 77236)\n",
      "\u001b[1m\u001b[4mcds|C|6467954|US|en|7b883ffc6fe1c2c5:en_US , Dremel 1/16 in. Rotary Tool Round-Shaped Engraving Accessory for Wood, Fiberglass, Plastic, Jewelry and Soft Metals (2-Pack)\u001b[0m(95.45, 77858)\n",
      "\u001b[1m\u001b[4mcds|C|6467954|US|en|1b39edd268326bb3:en_US , Tru-flate Steel Valve Core Extractor Model: 41-444\u001b[0m(95.24, 17865)\n",
      "\u001b[1m\u001b[4mcds|O|7857044|US|en|384492798458 , Vintage 1930s Ford Snap-on Tools 5/8\" Drive Socket Ratchet P-4 L72r\u001b[0m(95.21, 69380)\n",
      "\u001b[1m\u001b[4mcds|C|6467954|US|en|9ece07cf9dd759a0:en_US , Wera 074716 1.2 Nm Fixed Torque Screwdriver\u001b[0m(95.04, 53439)\n",
      "\u001b[1m\u001b[4mcds|C|6467954|US|en|6335388638f4acf0:en_US , Weyland Survival Axe, Beige\u001b[0m(94.72, 51867)\n",
      "\u001b[1m\u001b[4mcds|O|513534827|US|en|shoplaza_US_9effa0ce-6e07-460c-8e8f-4d88f6659a93 , Milwaukee 2741-20 M18 FUEL 16GA Straight Finish Nailer Bare Tool\u001b[0m(94.70, 47729)\n",
      "\u001b[1m\u001b[4mcds|C|6467954|US|en|7b350d0a57940e5e:en_US , DeWalt Wheel Kit #DWB-5140095-02\u001b[0m(94.70, 94422)\n",
      "\u001b[1m\u001b[4mcds|C|6467954|US|en|243860e9224f076f:en_US , 60-piece Master Tap and Die Set - Include Both SAE Inch and Metric Sizes, Coarse and Fine Threads | Essential Threading and Rethreading Tool Kit with\u001b[0m(94.66, 41796)\n",
      "\u001b[1m\u001b[4mcds|C|6467954|US|en|5b9ea2384c7d4a8b:en_US , DeWalt | 165 ft Laser Distance Measurer, Black/Yellow - Floor & Decor\u001b[0m(94.58, 37520)\n",
      "\u001b[1m\u001b[4mcds|C|6467954|US|en|2641f5cb5b4aa336:en_US , DeWALT 146929-01 Screw\u001b[0m(94.58, 53500)\n",
      "\u001b[1m\u001b[4mcds|C|6467954|US|en|113ef1cf9b9d085a:en_US , DEWALT 14/18 TPI Band Saw Blades (3) | DW3986C | Acme Tools\u001b[0m(94.48, 88595)\n",
      "\u001b[1m\u001b[4mcds|C|6467954|US|en|4b386c8970f50cab:en_US , Small Size Home Household Wood Working Turning Lathe Multifunction Infinitely Variable Speed Cutting Grinding Drilling Tools, Size: 50, Silver\u001b[0m(94.47, 84595)\n",
      "\u001b[1m\u001b[4mcds|C|6467954|US|en|c2470483bb59f554:en_US , Dexter-Russell 6\" Curved, Flexible Boning Knife, S131F-6PCP, SANI-Safe Series, White (01493)\u001b[0m(94.46, 51910)\n",
      "\u001b[1m\u001b[4mcds|C|6467954|US|en|c0721e836d83a419:en_US , Can Am Defender Hd8 Hd10 Belt Removal Clutch Tool AC-CA-0686-0072\u001b[0m(94.31, 62231)\n",
      "\u001b[1m\u001b[4mcds|C|6467954|US|en|b122d3ec8626b60d:en_US , S-21307 Tri-Functional Wide Bushing Adapter Alt\u001b[0m(94.20, 30473)\n",
      "\u001b[1m\u001b[4mcds|O|144646454|US|en|06D0520 , Flexcut Whittler's Pocket Knife\u001b[0m(94.11, 91045)\n",
      "\u001b[1m\u001b[4mcds|C|6467954|US|en|aa92c42ce6c01338:en_US , Milwaukee Chisel Bit: 1 in Head Wd, 12 in Overall Lg, 45/64 in Shank Dia Model: 48-62-4079\u001b[0m(94.05, 98303)\n",
      "\u001b[1m\u001b[4mcds|C|6467954|US|en|d60d423b31f37095:en_US , Jewelry Making Workbench & Tools Set Bench Tools Rotary Tool with Flexible Shaft\u001b[0m(93.93, 44642)\n",
      "\u001b[1m\u001b[4mcds|O|2663876|US|en|699472 , Schlage Commercial M204198 Boring Jig for AL or D Series Levers\u001b[0m(93.92, 94500)\n",
      "\u001b[1m\u001b[4mcds|C|6467954|US|en|64751edd8b303100:en_US , 9998068 Flywheel Rotating Tool Alt\u001b[0m(93.89, 4964)\n",
      "\u001b[1m\u001b[4mcds|C|6467954|US|en|4d37be8502d7d176:en_US , Bosch 12-Pack 5-in Plain High Speed Steel Scroll Saw Blade | SS5-46SPL\u001b[0m(93.76, 56325)\n",
      "\u001b[1m\u001b[4mcds|C|6467954|US|en|3bc38a6deaed4269:en_US , Proto JSCV07 7/32 Reversing Combination Ratcheting Spline Wrench #7\u001b[0m(93.70, 67329)\n",
      "\u001b[1m\u001b[4mcds|C|6467954|US|en|9a5eb61089b2be10:en_US , 20pcs Carbide turnning Inserts TCMT21.51 TCMT110204 Carbide Insert for Lathe Turning Tool Holder for Steel,Stainless Steel\u001b[0m(93.50, 63585)\n",
      "\u001b[1m\u001b[4mcds|C|6467954|US|en|61cd1787729b5841:en_US , BMW E46 330xi M54 3.0L - CTA Tools BMW TDC Pin: Used for finding Top Dead Center when servicing a BMW engine.\u001b[0m(93.36, 57276)\n",
      "\u001b[1m\u001b[4mcds|C|6467954|US|en|08b5a4420301cd2d:en_US , Amana Tool 658010-1-R Carbide Tipped R/H Outside Dado Blade 8 Inch D x 24T 1 Inch Bore\u001b[0m(93.19, 80449)\n",
      "\u001b[1m\u001b[4mcds|C|6467954|US|en|93a242d254240644:en_US , Surly Jethro Tule, 15mm Socket/Bottle Opener\u001b[0m(93.18, 16910)\n",
      "\u001b[1m\u001b[4mcds|C|6467954|US|en|d1e80bfc73072556:en_US , 10\" x 80T Freud Industrial Plastic Blade (LU94M010) available at Rockler\u001b[0m(92.95, 66051)\n",
      "\u001b[1m\u001b[4mcds|C|6467954|US|en|58d9a40a68282d82:en_US , Jonard Tools Ast-200 Cable Saber - Armored Mid-Span Cable Slit & Ring\u001b[0m(92.37, 67060)\n",
      "\u001b[1m\u001b[4mcds|C|6467954|US|en|c9373492a965ec15:en_US , Parker 3/4\" Max Cut Diam, 30 Ton Portable Hose Crimper - 30 sec Cycle, 12\" Wide x 15\" High x 6\" Deep | Part #94C-002-PFD\u001b[0m(92.36, 68072)\n",
      "\u001b[1m\u001b[4mcds|C|6467954|US|en|5cf95517d0495d14:en_US , Grip On 7\" Axial Grip \"l\" Plier (epoxy) Gr91207\u001b[0m(92.30, 17651)\n",
      "\u001b[1m\u001b[4mcds|C|6467954|US|en|48f79f5aac15625d:en_US , Goldengulf 16pcs/Pack Pretend Play Mini Construction Hardware Tool Keychain Toy Gift Assorted Designs DIY Creative Tool Car Keyring\u001b[0m(92.14, 80417)\n",
      "\u001b[1m\u001b[4mcds|C|6467954|US|en|7923c1693d251e46:en_US , Pittsburgh 5-3/4 in. Needle Nose Pliers\u001b[0m(92.12, 44988)\n",
      "\u001b[1m\u001b[4mcds|O|291426434|US|en|18053417629526042552622204 , Best Seller Milwaukee M18 FUEL 18-Volt Lithium-Ion Brushless Cordless Gen II 18-Gauge Brad Nailer (Tool-Only)\u001b[0m(92.07, 28338)\n",
      "\u001b[1m\u001b[4mcds|C|6467954|US|en|bc9fa2ca686e6044:en_US , Kennedy 2600B Tool Chest Riser\u001b[0m(91.68, 56909)\n",
      "\u001b[1m\u001b[4mcds|C|6467954|US|en|c2fa0b6eba306bbe:en_US , Biltwell EXFIL-0 Tool Roll\u001b[0m(91.31, 69681)\n",
      "\u001b[1m\u001b[4mcds|O|241667459|US|en|DKK-TG70-SK , Japanese Boning Knife 7\" - KYOKU Shogun Series\u001b[0m(90.98, 78709)\n",
      "\u001b[1m\u001b[4mcds|C|6467954|US|en|cf740c4aedc38539:en_US , m18 X 1.5 HSS Plug Tap and 16.50mm HSS Drill Bit Kit, Qualtech\u001b[0m(90.91, 87637)\n",
      "\u001b[1m\u001b[4mcds|C|6467954|US|en|b50c06247865c887:en_US , Makita XCU08Z | 18V X2 (36V) LXT Lithium-Ion Brushless Cordless 14\" Top Handle Chainsaw (Tool Only) | Tyler Tool\u001b[0m(90.89, 33629)\n",
      "\u001b[1m\u001b[4mcds|C|6467954|US|en|93eae9234f8e7cd2:en_US , Marshalltown Funny Trowel Adapter-Swivel, Product Type Adapters + Brackets, Model 4826\u001b[0m(90.65, 62874)\n",
      "\u001b[1m\u001b[4mcds|O|8439803|US|en|100-036 , Leigh D4R+D24 Master Pack\u001b[0m(90.56, 17078)\n",
      "\u001b[1m\u001b[4mcds|C|6467954|US|en|32e9b7d475d75be9:en_US , Neiko 02448A 1/2\" Drive Master Impact Socket Set, 65 Piece Deep & Shallow Socket Assortment | Standard SAE (3/8-Inch to 1-1/4-Inch) and Metric (10-24\u001b[0m(90.10, 38530)\n",
      "\u001b[1m\u001b[4mcds|C|6467954|US|en|d124ea296b236fa5:en_US , DeWalt OEM 5140103-20 replacement band saw tire DCS370 DCS371\u001b[0m(90.07, 36496)\n",
      "\u001b[1m\u001b[4mcds|C|6467954|US|en|7fe04b73f739e2bb:en_US , Kitchenaid Food Grinder Blade 2 Pack, Ap5669553, Ps6883726, Wpw10408733\u001b[0m(90.05, 65325)\n",
      "\u001b[1m\u001b[4mcds|C|6467954|US|en|5c09c214f6170ba6:en_US , Ryobi 10\" Orbital Buffer- In Box Never Opened\u001b[0m(89.55, 45755)\n",
      "\u001b[1m\u001b[4mcds|C|6467954|US|en|aa7e9b7c117ae784:en_US , Dremel 1/8 in. Rotary Tool Carbide Grout Removal Accessory Plus 1/16 in. Rotary Tool Carbide Grout Removal Accessory\u001b[0m(89.52, 52304)\n",
      "\u001b[1m\u001b[4mcds|C|6467954|US|en|a0225eefd53ea7b9:en_US , DeWALT Metal Abrasive Portable Circular Saw Blade, 7\" x 1/8\" x 5/8\" with 8,700 Max RPM\u001b[0m(89.51, 87790)\n",
      "\u001b[1m\u001b[4mcds|C|6467954|US|en|71e1c8a17275e3ff:en_US , Occidental Leather 5025 Plier & Tool Holster\u001b[0m(89.37, 3139)\n",
      "\u001b[1m\u001b[4mcds|O|144646454|US|en|PG262 , Ergonomic Ash-Handled Digging Spade and Fork Set\u001b[0m(89.35, 60927)\n",
      "\u001b[1m\u001b[4mcds|C|6467954|US|en|c91d9f831d009948:en_US , Psi Woodworking Cf3sc 3\" Lathe Faceplate/screwchuck For 1\" X 8tpi\u001b[0m(89.33, 68056)\n",
      "\u001b[1m\u001b[4mcds|C|6467954|US|en|69462ba781a04836:en_US , Kip Christensen 9\" KC Wire Burner Set available at Rockler\u001b[0m(89.21, 54117)\n",
      "\u001b[1m\u001b[4mcds|C|6467954|US|en|f3450a0982789ae8:en_US , Makita RT0701CX3 1-1/4 HP Compact Router Kit, Teal\u001b[0m(89.20, 84011)\n",
      "\u001b[1m\u001b[4mcds|C|6467954|US|en|d4e8ae27ee50f24f:en_US , Wilmar W156\u001b[0m(88.90, 86648)\n",
      "\u001b[1m\u001b[4mcds|C|6467954|US|en|ff2ceeb793fba788:en_US , Milwaukee 6370-21 Grounded Corded Circular Saw Kit, 120 Vac, 13 A, 8 In\u001b[0m(88.67, 51886)\n",
      "\u001b[1m\u001b[4mcds|C|6467954|US|en|0490bc46b023d9b8:en_US , 2-pieces 12\" Craftsman Bar Clamps / Spreader -one Hand Quick Release\u001b[0m(88.39, 47756)\n",
      "\u001b[1m\u001b[4mcds|C|6467954|US|en|6a67de10d0f14a92:en_US , Proto Do-it-yourself Foam Drawer Insert Kit Diybl, 39\" X 26-1/4\", Tool\u001b[0m(88.19, 27244)\n",
      "\u001b[1m\u001b[4mcds|C|6467954|US|en|eb3e3d44ab9b875f:en_US , Bosch 1617000190 Service Pack\u001b[0m(88.16, 80723)\n",
      "\u001b[1m\u001b[4mcds|C|6467954|US|en|2b24dbf43393e4ee:en_US , Camshaft Tool Lock Tool Pin Tool for Honda K Series K20a K20a2 K20z1 K20z3 K24a K24a2 07AAB-RWCA120\u001b[0m(88.10, 78530)\n",
      "\u001b[1m\u001b[4mcds|C|6467954|US|en|574d1cd7b26d33d2:en_US , Ingersoll-Rand IR W9491-K4E 1\" drive 20 volt x 2 impact wrench kit\u001b[0m(88.08, 27012)\n",
      "\u001b[1m\u001b[4mcds|C|6467954|US|en|2e460f59712c46ab:en_US , RIDGID 18V Brushless Cordless 7-1/4 in. Circular Saw with 18V 4.0 Ah MAX Output Lithium-Ion Battery R8654B-AC840040\u001b[0m(88.00, 40995)\n",
      "\u001b[1m\u001b[4mcds|C|6467954|US|en|e2c855060a718f5e:en_US , DeWalt N043321 Rocker Switch\u001b[0m(88.00, 7902)\n",
      "\u001b[1m\u001b[4mcds|C|6467954|US|en|8e4f6e2776508c65:en_US , Barn Star Hog Ring Pliers Kit, WD05061\u001b[0m(87.93, 5013)\n",
      "\u001b[1m\u001b[4mcds|C|6467954|US|en|5d16c91b7598554b:en_US , PRL-P Shovel, Hardwood Handle\u001b[0m(87.70, 98977)\n",
      "\u001b[1m\u001b[4mcds|C|6467954|US|en|2585e0a9ca5661e8:en_US , Upgrade Gun Ryobi Trigger Gun Handle 308760053 For Ry80940a Pressure\u001b[0m(87.67, 70608)\n",
      "\u001b[1m\u001b[4mcds|O|126358573|US|en|m25510167528 , Caterpillar 50 Ton Caterpillar Press - Tools & equipment | Color: Yellow\u001b[0m(87.63, 69605)\n",
      "\u001b[1m\u001b[4mcds|C|6467954|US|en|0b0db96af3ac2102:en_US , Milwaukee 49-22-2731 Rip Fence\u001b[0m(87.31, 81641)\n",
      "\u001b[1m\u001b[4mcds|O|10798|US|en|shopify_US_4451953115251_31528618164339 , DEWALT 4-gal Electric Hand Carry Compressor by Gemplers\u001b[0m(86.94, 69851)\n",
      "\u001b[1m\u001b[4mcds|O|1740331|US|en|2548 , Applied Diamond Tools T-Rex Planetary Polisher Package for Concrete & Stone Tops\u001b[0m(86.82, 26540)\n",
      "\u001b[1m\u001b[4mcds|C|6467954|US|en|b9e88ab25d87aa2c:en_US , Apollo Tools 4 Pc. Stubby Set, Model Dt0240P - Woodcraft\u001b[0m(86.82, 64661)\n",
      "\u001b[1m\u001b[4mcds|O|1135568|US|en|51729 , Woodworker's Journal 25 Jigs and Fixtures, CD by Rockler\u001b[0m(86.66, 46378)\n",
      "\u001b[1m\u001b[4mcds|C|6467954|US|en|842363c8ab661cf5:en_US , Pittsburgh Pro 3/8 in. Drive Dual Flex Ratchet\u001b[0m(86.62, 28082)\n",
      "\u001b[1m\u001b[4mcds|C|6467954|US|en|79e466c75ab6076f:en_US , Milwaukee Reciprocating Saw Blade: 18, 4 in Blade Lg, 3/4 in Ht, 0.035 in Cut Wd, 5 PK [PK/5] Model: 48-00-5183\u001b[0m(86.50, 76831)\n",
      "\u001b[1m\u001b[4mcds|O|122867171|US|en|4534353778 , DeWALT ToughSystem Portable Tool Box (Portable Tool Box, 22\" W x 14\" D x 16\" H)\u001b[0m(86.46, 68451)\n",
      "\u001b[1m\u001b[4mcds|C|6467954|US|en|2eaf3142db873596:en_US , GroundWork D-Handle Aluminum Scoop, YN-8SL030PD\u001b[0m(86.32, 54532)\n",
      "\u001b[1m\u001b[4mcds|O|137698568|US|en|143931753780 , 20x Valve Seat Grinding Wheels With Stone Holder & Hex Drive - B&d\u001b[0m(86.16, 67323)\n",
      "\u001b[1m\u001b[4mcds|C|6467954|US|en|87796a83dbaedd89:en_US , Oscillating Tool, Lomvum 2A Corded Oscillating Multitool Kit with 3° Oscillation Angle and 6 Variable Speed Oscillating Saw for Cutting/Sanding\u001b[0m(86.11, 4505)\n",
      "\u001b[1m\u001b[4mcds|C|6467954|US|en|22e9378b9f4fef6c:en_US , S.m. Arnold 83-061 Cordless Drill Brush - Heavy Duty (red Bristle)\u001b[0m(86.05, 30021)\n",
      "\u001b[1m\u001b[4mcds|O|351713|US|en|13400_244 , Abaco Machines Abaco SC100 Scissor Clamp White SC100-W\u001b[0m(85.89, 16392)\n",
      "\u001b[1m\u001b[4mcds|C|6467954|US|en|6b9e5d51bb7caf01:en_US , JobSmart 8 oz. Ball Peen Hammer, JS23003\u001b[0m(85.42, 16980)\n",
      "\u001b[1m\u001b[4mcds|C|6467954|US|en|283c7e50e4a3d5b5:en_US , Klein Tools D2000-28 High-Leverage Diagonal-Cutting Pliers, Heavy Duty, 8-Inch\u001b[0m(85.30, 42868)\n",
      "\u001b[1m\u001b[4mcds|O|168694362|US|en|39841121304687 , Amcraft 4-in-1 End Cut Off 1 Blue Duct Board Tool #1102\u001b[0m(85.20, 49555)\n",
      "\u001b[1m\u001b[4mcds|O|291043|US|en|TL-CL , Cobrahead 54\" Long Handle Weeder & Cultivator\u001b[0m(85.18, 74178)\n",
      "\u001b[1m\u001b[4mcds|C|6467954|US|en|5e46ef179e53248e:en_US , VEVOR Hanging Magnet Magnetic Sweeper Tool 60\" for Picking Up Nail, Bolt, Screw\u001b[0m(85.13, 86926)\n",
      "\u001b[1m\u001b[4mcds|C|6467954|US|en|5418e796412a98df:en_US , US Replacement Bits\u001b[0m(84.96, 34212)\n",
      "\u001b[1m\u001b[4mcds|C|6467954|US|en|798551733c17ddf0:en_US , MOTORHEAD 20V ULTRA 6-1/2 inch Cordless Circular Saw, Lithium-Ion, Laser Guide, LED, Rip Fence, 0-50 Bevel, 2Ah Battery & Quick Charger, Bag, 2\u001b[0m(84.77, 95481)\n",
      "\u001b[1m\u001b[4mcds|C|6467954|US|en|bd3eecd857738658:en_US , Milwaukee SHOCKWAVE Impact-Duty Alloy Steel Screw Driver Bit Set (72-Piece)\u001b[0m(84.49, 49907)\n",
      "\u001b[1m\u001b[4mcds|C|6467954|US|en|b8ed55fde50e1a45:en_US , Watch Band Link Remover and Fitting Tool\u001b[0m(84.49, 88855)\n",
      "\u001b[1m\u001b[4mcds|C|6467954|US|en|a5d24816d2ac7dfe:en_US , Getupower 10-Inch Adjustable Wrench, Black Oxide Finish, Wide Opening Ultra-thin Adjustable Wrench, Chrome Vanadium Alloy Adjustable Spanner and Pipe\u001b[0m(84.49, 64585)\n",
      "\u001b[1m\u001b[4mcds|C|6467954|US|en|85dd7d3f59b46d60:en_US , Greenfield Threading 330085 Drill/tap/countersink Set,pieces 18,sae\u001b[0m(84.43, 75763)\n",
      "\u001b[1m\u001b[4mcds|O|299538107|US|en|1600176481068 , Wholesale Smith Machine Accessories, 2 Pieces, Home Gym Fitness Cable Handle Press down Bar Factory Price\u001b[0m(84.42, 43471)\n",
      "\u001b[1m\u001b[4mcds|C|6467954|US|en|dc0d2cf4434b440f:en_US , Aqua Lung Argonaut Stunt Knife Spartan Tip\u001b[0m(84.41, 7069)\n",
      "\u001b[1m\u001b[4mcds|C|6467954|US|en|5f76761983f72c35:en_US , Toy Time Kids' Child Safe Garden Tool Set With Long Handles - Yellow/Red, 4 Pieces\u001b[0m(84.07, 49024)\n",
      "\u001b[1m\u001b[4mcds|C|6467954|US|en|13ce4a9a59da62bd:en_US , Drill America Kfdrsd1 1\" Reduced Shank Hss Drill Bit 1/2\" Shank 3-Flat\u001b[0m(84.00, 85442)\n",
      "\u001b[1m\u001b[4mcds|C|6467954|US|en|3b8607b783f9725e:en_US , Sircle Heavy Duty Slot Hole Punch Oval Silver Metal 9/16\" In X 1/8\"\u001b[0m(83.87, 40554)\n",
      "\u001b[1m\u001b[4mcds|O|9982|US|en|12-00177 , Hand Riveting & Dimpling Tool by Aircraft Spruce\u001b[0m(83.80, 93975)\n",
      "\u001b[1m\u001b[4mcds|O|137081914|US|en|38 , Stump Grinder , Kohler 14hp\u001b[0m(83.46, 48277)\n",
      "\u001b[1m\u001b[4mcds|C|6467954|US|en|1e52776c9d478591:en_US , Cricut German Carbide Premium Fine Point Blade | Michaels\u001b[0m(83.39, 65865)\n",
      "\u001b[1m\u001b[4mcds|C|6467954|US|en|b28cc1e05bcb18a1:en_US , Kraft Tool Cf656 Decor Border Edger/groover,9\"+3\" Shiner\u001b[0m(83.37, 8819)\n",
      "\u001b[1m\u001b[4mcds|O|480546831|US|en|845610861 , Setting Tool Heavy Duty Tool Hollow Wall Metal Cavity Anchor Plasterboard Fixing, Size: 17, Red\u001b[0m(83.33, 31008)\n",
      "\u001b[1m\u001b[4mcds|C|6467954|US|en|a00696336b54eeaf:en_US , Dremel 8-Piece Set Glass Engraving Accessory Kit | 735-01\u001b[0m(83.28, 62444)\n",
      "\u001b[1m\u001b[4mcds|C|6467954|US|en|692465a7b0c4d0d2:en_US , Wheeler Professional Gunsmithing Screwdriver Add On 21 Pc\u001b[0m(83.21, 66591)\n",
      "\u001b[1m\u001b[4mcds|C|6467954|US|en|c4123c03ee81008a:en_US , Performance Tool 67 Piece Bit Set, 20145\u001b[0m(83.12, 59857)\n",
      "\u001b[1m\u001b[4mcds|C|6467954|US|en|45f5f772bc2330e9:en_US , Oregon 410-120 Bench/wall Mount Saw Chain Grinder\u001b[0m(83.10, 35039)\n",
      "\u001b[1m\u001b[4mcds|C|6467954|US|en|1de0999f07b9e4b8:en_US , DERFILIN 40PCS Fine Point Blades for Explore Air/Air 2 Maker 3/Expression,30° 45° 60° Vinyl Fabric Cutting Replacement Blades for Cricut Machines (3\u001b[0m(83.09, 28699)\n",
      "\u001b[1m\u001b[4mcds|C|6467954|US|en|47c3d06cf1efad4c:en_US , Mag-Daddy 15lb Cable Tie Mount - Plenum Black 10pc\u001b[0m(82.92, 93689)\n",
      "\u001b[1m\u001b[4mcds|C|6467954|US|en|53b2bb045c8da410:en_US , 30/40 Grit Grinding Discs for Lavina Grinders Medium Bond - Set of 3 for Concrete Terrazzo Grinding\u001b[0m(82.89, 45930)\n",
      "\u001b[1m\u001b[4mcds|O|10612851|US|en|751437 , Ryobi AG450-67 Carrying Case\u001b[0m(82.86, 89056)\n",
      "\u001b[1m\u001b[4mcds|C|6467954|US|en|a6613821a8ad18aa:en_US , Klutch Pinch-Off Locking Pliers — 11Inch\u001b[0m(82.77, 57914)\n",
      "\u001b[1m\u001b[4mcds|C|6467954|US|en|dca869321278109d:en_US , Single 1.5hp Tire Changer Wheel Changers Machine 580 With Double Foot\u001b[0m(82.76, 78425)\n",
      "\u001b[1m\u001b[4mcds|C|6467954|US|en|7f43827ad827bbc6:en_US , Scroll Saw Blades, 5 Inch 36PCS Pin End 10/15/18 TPI Regular Tooth Compatible with Sears Craftsman, Penn State, Delta, Ryobi, Wen 3921, Dremel and\u001b[0m(82.70, 44303)\n",
      "\u001b[1m\u001b[4mcds|O|6296724|US|en|233494390150 , 2.5-inch Wrench (for Toilet Flush Valve Nut) - Solid Hdpe Plastic\u001b[0m(82.67, 21562)\n",
      "\u001b[1m\u001b[4mcds|C|6467954|US|en|45a1af7db34a494b:en_US , J.A. Henckel's International 4\" Solution Pairing Knife - each\u001b[0m(82.67, 18673)\n",
      "\u001b[1m\u001b[4mcds|C|6467954|US|en|a682e83da082230b:en_US , Metabo 613084420 Pro Series 6\" Flat-Head Angle Grinder (WEPF 15-150 Quick)\u001b[0m(82.65, 7469)\n",
      "\u001b[1m\u001b[4mcds|O|10034982|US|en|2964-3205-- , Tire Repair Tool Open-Eye Insert Needle Replacement for TT 37217H\u001b[0m(82.31, 42903)\n",
      "\u001b[1m\u001b[4mcds|C|6467954|US|en|de7c31b19861e0db:en_US , Senteibasami Carbon Steel Pruner/Secateurs with Genuine Leather Holster & Non-Slip Grip. Made in Japan by Nisaku for SunJoe\u001b[0m(82.29, 99597)\n",
      "\u001b[1m\u001b[4mcds|C|6467954|US|en|9523c30fb5211ae5:en_US , Hyper Tough 2 LB Dead Blow Hammer, Size: 2 lbs, Green\u001b[0m(82.25, 61547)\n",
      "\u001b[1m\u001b[4mcds|C|6467954|US|en|fb001fc05dc5da5f:en_US , Klein Tools 8 in. Heavy Duty Wire Stripper for 12-20 AWG Stranded and 10-18 AWD Solid Wire\u001b[0m(82.22, 6818)\n",
      "\u001b[1m\u001b[4mcds|C|6467954|US|en|65a224aa43f9e593:en_US , Pilgrim Modern Fireplace Tool Set with Brushed Steel Handles\u001b[0m(81.90, 70871)\n",
      "\u001b[1m\u001b[4mcds|C|6467954|US|en|0aa1a204ec22d976:en_US , Perfect Bender S-60 by Buschmann\u001b[0m(81.83, 84720)\n",
      "\u001b[1m\u001b[4mcds|C|6467954|US|en|afd4fb2c85134efe:en_US , Husky 18 in. Aluminum Pipe Wrench with 2 in. Jaw Capacity\u001b[0m(81.69, 4090)\n",
      "\u001b[1m\u001b[4mcds|O|1028340|US|en|56368 , Viper Storage Viper Tool Storage 16-Inch 4-Drawer 18G Steel Rolling Tool/Salon Cart, Black V1804BLR\u001b[0m(81.55, 35556)\n",
      "\u001b[1m\u001b[4mcds|C|6467954|US|en|8e93e70500879a4e:en_US , Ames 2683100 7 in. Forged Sidewalk Scraper\u001b[0m(81.54, 21272)\n",
      "\u001b[1m\u001b[4mcds|C|6467954|US|en|d8605ae254413f34:en_US , Tqonep Fishing Quick Knot Tying Tool 420 Stainless Steel 4 In 1 Fly\u001b[0m(81.47, 59233)\n",
      "\u001b[1m\u001b[4mcds|C|6467954|US|en|31a29f7d76e9598e:en_US , OTC 522902 Timing Chain Holder\u001b[0m(81.41, 30380)\n",
      "\u001b[1m\u001b[4mcds|C|6467954|US|en|5a8a035075ebb96b:en_US , FTG USA Countersink Drill Bit Set 3 Pc #6 (9/64\") Wood Countersink Drill Bit Pack Same Size Set Countersink HSS M2 Tapered Countersink Bit, with 1\u001b[0m(81.25, 28932)\n",
      "\u001b[1m\u001b[4mcds|C|6467954|US|en|d1d9cc5da67d2886:en_US , DEWALT DWE7491RS 10\" Jobsite Table Saw with 32-1/2\" Rip Capacity and Rolling Stand\u001b[0m(80.94, 8589)\n",
      "\u001b[1m\u001b[4mcds|O|7621239|US|en|BFS-5 , Foil Beginner SET 5 pieces Basic with fencing bag\u001b[0m(80.92, 12073)\n",
      "\u001b[1m\u001b[4mcds|C|6467954|US|en|21fa2b35ece29685:en_US , Ridgid Cm50p\u001b[0m(80.66, 59986)\n",
      "\u001b[1m\u001b[4mcds|C|6467954|US|en|a500c66f06f0e2fe:en_US , Screw Extractor Set - 5 Piece\u001b[0m(80.59, 44335)\n",
      "\u001b[1m\u001b[4mcds|C|6467954|US|en|1241a7c69c8172e2:en_US , RIDGID 48387 Hydraulic Roll Groover w/535 Carriage Mount Kit 2\"-12\" Model 918\u001b[0m(80.56, 69789)\n",
      "\u001b[1m\u001b[4mcds|C|6467954|US|en|7dced1b8a4b56159:en_US , ConairPRO Professional Nail Grinder Replacement Tips, Finishing Stones\u001b[0m(80.49, 67701)\n",
      "\u001b[1m\u001b[4mcds|C|6467954|US|en|34597c03464dc673:en_US , RRJ-350 | Reluctor Ring Installation Tool\u001b[0m(80.36, 73711)\n",
      "\u001b[1m\u001b[4mcds|C|6467954|US|en|fadb93abb6297abb:en_US , Harrington Es1527003 Festoon Hanger,3/8 Ft.l\u001b[0m(80.03, 71956)\n",
      "\u001b[1m\u001b[4mcds|C|6467954|US|en|420a66750fffdadd:en_US , Chikichi gardening waist two edges for wood splitting pruning 165 mm SGKN-6\u001b[0m(79.97, 50158)\n",
      "\u001b[1m\u001b[4mcds|C|6467954|US|en|17c3f67ac81d6e54:en_US , Husky 36 in. W 3-Drawer Rolling Tool Cart in Gloss Black with Hardwood Top HOUC3603B1QWK\u001b[0m(79.87, 43559)\n",
      "\u001b[1m\u001b[4mcds|C|6467954|US|en|342123ddf1bf05bd:en_US , 2-Set 9 x 20T Chainsaw Tooth Brush Blades – 2 Blades, 3 Assorte...\u001b[0m(79.81, 28750)\n",
      "\u001b[1m\u001b[4mcds|C|6467954|US|en|b8f4aed46c0a52c2:en_US , Speedwox Tile Caulk Tool Metal Ball 4 Pcs For Pressing Tile Grout\u001b[0m(79.76, 60354)\n",
      "\u001b[1m\u001b[4mcds|C|6467954|US|en|448d038e7996fd70:en_US , Solid Wood Vacuum Stand for Dyson Cordless V11 V10 V8 V7 V6 Storage Box Hooks, Men's, Size: 12.6, Brown\u001b[0m(79.69, 34598)\n",
      "\u001b[1m\u001b[4mcds|C|6467954|US|en|0303ad0a4b20059a:en_US , NG2002 Noga Carbide Deburring Tool, Noga Burr 2 - Light Duty\u001b[0m(79.40, 96049)\n",
      "\u001b[1m\u001b[4mcds|C|6467954|US|en|ed1b10f520ddce6a:en_US , Stadea Spw104a Concrete Countertop Wet Polisher Grinder Sander\u001b[0m(79.30, 44072)\n",
      "\u001b[1m\u001b[4mcds|C|6467954|US|en|153d8db33030cb5b:en_US , Superior Tool 1-1/8 Pipe Cutter Black/Silver\u001b[0m(79.06, 51267)\n",
      "\u001b[1m\u001b[4mcds|O|145461051|US|en|2432 , Socket Ratchet & Extension Shelf Kit - Blue\u001b[0m(79.00, 5519)\n",
      "\u001b[1m\u001b[4mcds|C|6467954|US|en|cf11bad2976010cf:en_US , Wood-Mizer SilverTip 15-Pack Blades - 10 Degree | Blade Length: 132 inches\u001b[0m(78.99, 99547)\n",
      "\u001b[1m\u001b[4mcds|O|150418275|US|en|7759 , BEST Mortise Cylinder Wrench (ED211) | American Key Supply\u001b[0m(78.98, 59746)\n",
      "\u001b[1m\u001b[4mcds|C|6467954|US|en|93a38acd46e46f94:en_US , Klutch Bolt Cutter — 42Inch\u001b[0m(78.78, 45685)\n",
      "\u001b[1m\u001b[4mcds|C|6467954|US|en|5c6b3a8e53d63762:en_US , Ryobi P189 18-Volt One+ 1.5Ah Compact Lithium-Ion Battery, Size: One size\u001b[0m(78.70, 99564)\n",
      "\u001b[1m\u001b[4mcds|O|432588656|US|en|shopify_US_507233665089_39416248762433 , The Nutter Bicycle Multi Tool | Full Windsor Jet Black Leather Pouch - 2 Pack (15% off)\u001b[0m(78.45, 9676)\n",
      "\u001b[1m\u001b[4mcds|C|6467954|US|en|9654910afcf4899d:en_US , Warrior 1 in. - 2-1/2 in. Carbon Steel Hole Saw Set, 10 Piece\u001b[0m(78.36, 96189)\n",
      "\u001b[1m\u001b[4mcds|O|112196569|US|en|461 , P3-NFS Heavy-Duty Hole Punch\u001b[0m(78.02, 82236)\n",
      "\u001b[1m\u001b[4mcds|C|6467954|US|en|a7272fd4f13cca44:en_US , COLIBROX (10) TEN Snap on Pocket Screwdriver, Flat Tip Screwdrivers, RED ~ Magnetic .NEW. R86855\u001b[0m(77.89, 68780)\n",
      "\u001b[1m\u001b[4mcds|C|6467954|US|en|efdd5edf3db69c82:en_US , Kreg Concealed Hinge Jig and 35mm Concealed Hinge Jig Bit Bundle (2 Items)\u001b[0m(77.84, 47317)\n",
      "\u001b[1m\u001b[4mcds|C|6467954|US|en|af1c06a3a2516f8d:en_US , Manual Electric Drill Dual-purpose Wire Stripping Machine Scrap Cable Peeling Machines Stripper for 1-30mm, Size: single cutter, Black\u001b[0m(77.70, 80481)\n",
      "\u001b[1m\u001b[4mcds|C|6467954|US|en|2fc8ee8bf3eb7c57:en_US , Makita 198486-1 Long Handle Attachment\u001b[0m(77.70, 22031)\n",
      "\u001b[1m\u001b[4mcds|C|6467954|US|en|3b91f2b5665bd30b:en_US , Dual Roller Guide Tool Attachment\u001b[0m(77.67, 83179)\n",
      "\u001b[1m\u001b[4mcds|C|6467954|US|en|1f2043e166cad193:en_US , Pittsburgh 1/8 in. - 1/4 in. Tube Bender\u001b[0m(77.63, 54784)\n",
      "\u001b[1m\u001b[4mcds|C|6467954|US|en|22e27472eb4b9b79:en_US , Milwaukee 2499-24 M12 12V 3/8\" Drill Driver 4-Piece Tool Combo Kit\u001b[0m(77.62, 63010)\n",
      "\u001b[1m\u001b[4mcds|O|144646454|US|en|17N1716 , Tenon & Miter Jig for the Bridge City Jointmaker Pro Precision Fence\u001b[0m(77.59, 44992)\n",
      "\u001b[1m\u001b[4mcds|C|6467954|US|en|4ce0627e5bef6f8c:en_US , Pen Ninja: 9 In 1 Pen Multi-tool (1 Most Advanced Pen Tool- Led Light,\u001b[0m(77.55, 89437)\n",
      "\u001b[1m\u001b[4mcds|C|6467954|US|en|f38e44fe6d1c73c1:en_US , Wallet Tool Gifts For Men Upgraded 18-in-1 Survival Credit Card Multitool By GUARDMAN - Multipurpose Tool With Survival Knife, Fire Starter, Whistle\u001b[0m(77.08, 79346)\n",
      "\u001b[1m\u001b[4mcds|C|6467954|US|en|53ad740c082ecefb:en_US , PALMGREN 9682122 6\" x12\" Manual Bench Surface Grinder by FastoolNow\u001b[0m(77.06, 71735)\n",
      "\u001b[1m\u001b[4mcds|C|6467954|US|en|349b45c7f2d990ba:en_US , National Hardware Double Fixed Pulley, 1-1/2 in., Zinc Plated, N199-810\u001b[0m(77.02, 91510)\n",
      "\u001b[1m\u001b[4mcds|C|6467954|US|en|ef53a3fe9968f696:en_US , Diablo Fleam Ground Recip. Blade for Pruning - 12 in. Length - 5-Pack\u001b[0m(77.00, 96651)\n",
      "\u001b[1m\u001b[4mcds|O|110026978|US|en|shopify_US_6681878691924_39555608379476 , Milwaukee 2839-20 M18 FUEL 15 Gauge Finish Nailer\u001b[0m(76.95, 43000)\n",
      "\u001b[1m\u001b[4mcds|O|101303009|US|en|62384026 , Dyson 968772-01 Cleaner Head Assembly UP20 Animal 2\u001b[0m(76.78, 35726)\n",
      "\u001b[1m\u001b[4mcds|O|3074108|US|en|4HGC4 , Nupla Double Edge Bush Hook: 3 ft Overall Lg, 12 in Cutting Edge Lg, Steel, Fiberglass, Sheath Model: 6894312\u001b[0m(76.77, 58631)\n",
      "\u001b[1m\u001b[4mcds|C|6467954|US|en|799e4817537e5ddd:en_US , DEWALT D55040 Quadraport Regulated Line Splitter (D55040) Yellow/Black/Silver | Acme Tools\u001b[0m(76.74, 18777)\n",
      "\u001b[1m\u001b[4mcds|C|6467954|US|en|e83a6696ccf86946:en_US , EWK 16 Pcs Pneumatic Brake Caliper Compression Tool Brake Piston Wind Back Air Retractor\u001b[0m(76.73, 89173)\n",
      "\u001b[1m\u001b[4mcds|C|6467954|US|en|529a3d807eb0491d:en_US , Weiler 44020 60\" Wood Handle, Tapered Wood Tip, 1-1/8\" Diameter\u001b[0m(76.73, 58507)\n",
      "\u001b[1m\u001b[4mcds|C|6467954|US|en|000f4bf299dcc1ba:en_US , Ingersoll-rand W7152 20-Volt 1/2-Inch Cordless Impact Wrench - Bare Tool, Size: W7152 Tool Only\u001b[0m(76.70, 67583)\n",
      "\u001b[1m\u001b[4mcds|C|6467954|US|en|100d568b7c2ce2cc:en_US , Mastercool 92310 Universal Orifice Service Kit\u001b[0m(76.56, 7266)\n",
      "\u001b[1m\u001b[4mcds|C|6467954|US|en|9c986e06e35d67a4:en_US , Aluminum Alloy Woodworking Square Size Measure Ruler - 3D Mitre Angle Measuring Template Tool - Carpenter's Layout Ruler Gauge Woodworking\u001b[0m(76.55, 57571)\n",
      "\u001b[1m\u001b[4mcds|C|6467954|US|en|e3664b8d8cdcc841:en_US , Buyers Products 1703349 Black Steel Underbody Truck Box with T-Handle Latch, 14 x 12 x 18 Inch\u001b[0m(76.46, 82101)\n",
      "\u001b[1m\u001b[4mcds|C|6467954|US|en|80d7fcd28cc87a0a:en_US , Unger Enterprises, Inc. Hdsb0 Unger Floor Scraper Blades, Steel, 8-3/8\u001b[0m(76.36, 50239)\n",
      "\u001b[1m\u001b[4mcds|C|6467954|US|en|29253b78d925dfba:en_US , Bosch Universal Plus Stand Mixer White With Baker's Pack, 6.5-Quart\u001b[0m(76.26, 35987)\n",
      "\u001b[1m\u001b[4mcds|C|6467954|US|en|ac800e94f399a136:en_US , CDI 1501MRMH Torque Wrench 1/4\" Drive Dual Scale Micrometer Adjustable 20-150 In Lb\u001b[0m(76.12, 7144)\n",
      "\u001b[1m\u001b[4mcds|C|6467954|US|en|575db50ccafe1e52:en_US , Hu-Friedy Ortho Mathieu Narrow Tip Pliers 1/Each by Practicon\u001b[0m(76.05, 51337)\n",
      "\u001b[1m\u001b[4mcds|C|6467954|US|en|d6480d6a1d274e12:en_US , AJC Super Shing-Go Shovel\u001b[0m(76.00, 14428)\n",
      "\u001b[1m\u001b[4mcds|C|6467954|US|en|0c4968606d36d8c6:en_US , NEIKO 10197A Step Drill Bit Set | 5 Piece, 50 SAE Sizes Total, 1/8” – 1-3/8” | Standard Titanium High Speed Steel Unibit, Stepper Cone Drill Bit |\u001b[0m(75.82, 83976)\n",
      "\u001b[1m\u001b[4mcds|C|6467954|US|en|fbb444cb9e0edffb:en_US , CRICUT - Explore Deep Cut Housing & Blade - (2002293)\u001b[0m(75.76, 66059)\n",
      "\u001b[1m\u001b[4mcds|O|108332225|US|en|Clamming+Gear , K.B. White Clam Rake/Fork Gift Packages\u001b[0m(75.64, 6629)\n",
      "\u001b[1m\u001b[4mcds|C|6467954|US|en|5013d76f76f11b96:en_US , 6pcs Nail Art Drill Bits and Sanding Bands for Nail Drill Replacement Set Nail Electric File Metal Bit\u001b[0m(75.51, 78007)\n",
      "\u001b[1m\u001b[4mcds|C|6467954|US|en|77a8cfe5784a9895:en_US , KAKURI Japanese Pruning Shears for Gardening Heavy Duty, Made in JAPAN, 8 Inch High Quality Forged Japanese Carbon Steel, Professional Garden\u001b[0m(75.49, 85628)\n",
      "\u001b[1m\u001b[4mcds|C|6467954|US|en|d616f62c8cdfd3c4:en_US , Psi Woodworking Tm42 Headstock Mount Lathe Drill Chuck\u001b[0m(75.37, 58989)\n",
      "\u001b[1m\u001b[4mcds|C|6467954|US|en|055c9b82ec403f81:en_US , Diablo 92-100 26 Piece Artisan Bit Set\u001b[0m(75.24, 22857)\n",
      "\u001b[1m\u001b[4mcds|C|6467954|US|en|300ed17a36f4b629:en_US , ABN Ratcheting Caliper Piston Tool – 4 in 1 Disc Brake Caliper Compression Tool Universal Brake Caliper Spreader Tool\u001b[0m(75.21, 20659)\n",
      "\u001b[1m\u001b[4mcds|O|7858675|US|en|ATC20156 , ATC20156 Cummins Air Compressor Wrench- Snap-on # M 1321\u001b[0m(75.21, 52408)\n",
      "\u001b[1m\u001b[4mcds|C|6467954|US|en|677054e7705c12f3:en_US , 8 Pieces Caulk Tool Kit Sealant Silicone Finishing Tools Caulking Tools for Silicone Sealant Grout Finishing Sealing (Blue)\u001b[0m(75.12, 37234)\n",
      "\u001b[1m\u001b[4mcds|C|6467954|US|en|8ee5b79ccce0f87d:en_US , ABN Hollow Punch Kit Leather Punches Tools Hole Punch Set Gasket Punch Set Gasket Cutter 3/16 to 1-3/8in (5-35mm)\u001b[0m(75.08, 36421)\n",
      "\u001b[1m\u001b[4mcds|C|6467954|US|en|e75b3d9410b8371e:en_US , Calliper gauge for brake discs\u001b[0m(75.03, 47018)\n",
      "\u001b[1m\u001b[4mcds|C|6467954|US|en|7916bd19b6c0d9a3:en_US , Twist Socket Set, Lug Nut Remover, Metric Bolt Stud Lug Nut Extractor Tool Kit With Center Punch Bar 1/2\" Drive 17 19 21 22mm 5 Pieces PTSTEL\u001b[0m(74.95, 97993)\n",
      "\u001b[1m\u001b[4mcds|O|114193152|US|en|B01C8G4F7M , IWISS PEX Pipe Cutters for Cutting 1/8\"-1\" PEX Tubings, NOT for PVC Pipes\u001b[0m(74.82, 90722)\n",
      "\u001b[1m\u001b[4mcds|O|235971960|US|en|shopify_US_4751073378403_33313274789987 , Power Hone Diamond Laps, #600\u001b[0m(74.81, 728)\n",
      "\u001b[1m\u001b[4mcds|C|6467954|US|en|2a683e89d6c8f8bb:en_US , Voyager Utility Holster\u001b[0m(74.81, 27462)\n",
      "\u001b[1m\u001b[4mcds|C|6467954|US|en|cc5704b2deb57fc4:en_US , Fiskars 28mm Stick Rotary Cutter White and Orange\u001b[0m(74.76, 4698)\n",
      "\u001b[1m\u001b[4mcds|C|6467954|US|en|bee4eac505fc17a3:en_US , Vestil FES-KIT Gantry Crane - Festoon System\u001b[0m(74.73, 82417)\n",
      "\u001b[1m\u001b[4mcds|C|6467954|US|en|45e9bbdf9041b7c8:en_US , Sunex 97329 1/2\" Drive 29 Mm Fully Polished Jumbo Straight Crowfoot\u001b[0m(74.66, 25956)\n",
      "\u001b[1m\u001b[4mcds|C|6467954|US|en|2ac23af264e69a76:en_US , Balego Shoulder Pulley with Webbing Door Strap (Standard Wood Handle)\u001b[0m(74.64, 17044)\n",
      "\u001b[1m\u001b[4mcds|C|6467954|US|en|168544740cfc634d:en_US , Capri Tools 3/8 in Drive Universal Impact Socket Set, 8-19 mm Metric, 12-Piece (5-3340)\u001b[0m(74.51, 73961)\n",
      "\u001b[1m\u001b[4mcds|C|6467954|US|en|db46be28a2df0743:en_US , Professional Leathercraft Accessories, Sewing, Stitching Awl Tool Kit & Supplies, Heavy Duty - Made in USA DIY Craft, Leather, Heavy Fabric, Canvas,\u001b[0m(74.50, 54260)\n",
      "\u001b[1m\u001b[4mcds|O|9389498|US|en|352 , Powerdyne Bearing Hand Tool\u001b[0m(74.50, 71725)\n",
      "\u001b[1m\u001b[4mcds|C|6467954|US|en|4d6bd2a172608564:en_US , CTA 1011 Crankshaft Pulley Removal Tool\u001b[0m(74.45, 89848)\n",
      "\u001b[1m\u001b[4mcds|O|420273781|US|en|shopify_US_7010549858455_40509007724695 , 2020 Reinhold Würth Limited Edition - 31 Piece ZEBRA Drill / ScrewdriverSet\u001b[0m(74.44, 29160)\n",
      "\u001b[1m\u001b[4mcds|C|6467954|US|en|2e92fc25c4dc26ab:en_US , Fiskars 5 in. Steel Rotating Blades Loop-Handled Grass Shears\u001b[0m(74.40, 29904)\n",
      "\u001b[1m\u001b[4mcds|C|6467954|US|en|db43084b4ddb1a94:en_US , 1/2 Ton Gorbel Aluminum Tie Rod Wall Mount Jib Crane\u001b[0m(74.30, 63434)\n",
      "\u001b[1m\u001b[4mcds|C|6467954|US|en|547f3fa1755893f4:en_US , ZIBOO ZB07 Insulation Wire Piercing Probes,Automotive Diagnostic Test Accessories Repair Tools Needle,Back Probe kit,3.25 x 0.25 x 0.25 Mini Back\u001b[0m(74.27, 72428)\n",
      "\u001b[1m\u001b[4mcds|C|6467954|US|en|a925d3b9c7da4683:en_US , Dyson 923941-01 DC41 Vacuum Brush Bar Motor Housing With Motor Genuine\u001b[0m(74.26, 44243)\n",
      "\u001b[1m\u001b[4mcds|C|6467954|US|en|06c004275abfbb0f:en_US , GALLIA Flexible Drill Bit Extension Set, 105° Right Angle Drill Attachment, 1/4 3/8 1/2In Hex Shank Impact Driver Socket Adapter Rotatable Socket,\u001b[0m(74.11, 41286)\n",
      "\u001b[1m\u001b[4mcds|O|425787293|US|en|shopify_US_4432541515819_31678962925611 , Cummins ISX 3164606 Cylinder Liner Press Installer Tool Alternative CUMMINS | Ferrum Tools\u001b[0m(74.03, 7247)\n",
      "\u001b[1m\u001b[4mcds|C|6467954|US|en|14dcb10457d41ac8:en_US , Freud LM71M010 10-Inch Thick Stock Rip Blade\u001b[0m(74.00, 62506)\n",
      "\u001b[1m\u001b[4mcds|O|113602671|US|en|543326551235_333422209354 , Knife Handle Stainless Steel Screw With Patterned Rivet For 5mm Or 6mm\u001b[0m(73.98, 14699)\n",
      "\u001b[1m\u001b[4mcds|C|6467954|US|en|5e3c47bb7cff1f90:en_US , Craftsman VERSASTACK 17.25 in. W X 4 in. H Storage Organizer Plastic 10 compartments Black/Red\u001b[0m(73.73, 29101)\n",
      "\u001b[1m\u001b[4mcds|C|6467954|US|en|0bf72b9016b152b7:en_US , Albion Engineering Company 258-4s Classic Spatula, Stainless Steel,\u001b[0m(73.71, 69256)\n",
      "\u001b[1m\u001b[4mcds|C|6467954|US|en|fcacb6d38ee8f4f3:en_US , Bawer 18 X 18 X 24 Inch Aluminum Tool Box With Single Door\u001b[0m(73.65, 50301)\n",
      "\u001b[1m\u001b[4mcds|C|6467954|US|en|395a750d27fa98d9:en_US , 14pc \"Go-Through\" Socket & Ratchet Set JTC-3439\u001b[0m(73.44, 43785)\n",
      "\u001b[1m\u001b[4mcds|C|6467954|US|en|57d2b5fbb593caee:en_US , Baileigh Hydraulic Medium Duty Shear SH-5214Baileigh Industrial\u001b[0m(73.16, 61710)\n",
      "\u001b[1m\u001b[4mcds|C|6467954|US|en|dd7b547a0ca5f038:en_US , 3.5\" Flail Hammer Replacement Blades\u001b[0m(73.08, 13576)\n",
      "\u001b[1m\u001b[4mcds|C|6467954|US|en|ebfac790b35a59d1:en_US , IRWIN Vise-Grip 23 Sheet Metal Tool, 8 in OAL, 3-1/8 in Jaw Opening\u001b[0m(72.90, 1337)\n",
      "\u001b[1m\u001b[4mcds|C|6467954|US|en|e78e2eca56258ae0:en_US , 10PCS DCMT21.51 Indexable Soild Carbide Turning Insert Blade For Lathe Tool Holder,DCMT070204 Carbide Inserts For Lathe (DCMT070204-HMP)\u001b[0m(72.88, 10132)\n",
      "\u001b[1m\u001b[4mcds|O|433608175|US|en|393481168197 , For Ryobi One+ 18v Li-ion Battery Output Adapter Diy Power Wheels\u001b[0m(72.74, 50685)\n",
      "\u001b[1m\u001b[4mcds|O|129052588|US|en|885544533 , LEATHERMAN MULTITOOL SHEATH (pockets for bits and extender)\u001b[0m(72.72, 47820)\n",
      "\u001b[1m\u001b[4mcds|O|6296724|US|en|203061271124 , 15pcs Heavy Duty Motorcycle Bike Chain Splitter/breaker Link Riveting\u001b[0m(72.62, 17749)\n",
      "\u001b[1m\u001b[4mcds|C|6467954|US|en|e58472f79cefe918:en_US , Marshalltown 11051 Drywall & Plastering 1\" 2 Edge Soft Grip Paint Scraper\u001b[0m(72.61, 51580)\n",
      "\u001b[1m\u001b[4mcds|C|6467954|US|en|c1f2370d1bbdd785:en_US , Orthodontic Retainer Thermal Plier Clear Aligner Invisible Hole Punch Dental CE 5 Pcs by MEDESY\u001b[0m(72.54, 28934)\n",
      "\u001b[1m\u001b[4mcds|C|6467954|US|en|02a5eb7f650f8012:en_US , Metabo HPT NR3665DAM | MultiVolt 36V Brushless Lithium-Ion Cordless Metal Connector Nailer Kit (2.5 Ah) | Tyler Tool\u001b[0m(72.42, 10235)\n",
      "\u001b[1m\u001b[4mcds|C|6467954|US|en|d1f1c1c4444b282c:en_US , Craftsman 17-Piece Screwdriver Set\u001b[0m(72.26, 6527)\n",
      "\u001b[1m\u001b[4mcds|C|6467954|US|en|debfbc75732feb69:en_US , RYOBI ONE+ HP 18V Brushless Whisper Series Cordless Battery 8 in. Pole Saw (Tool Only)\u001b[0m(72.21, 24655)\n",
      "\u001b[1m\u001b[4mcds|C|6467954|US|en|a867f1907bc5280c:en_US , WOYO PDR009 PDR 009 Auto Body Repair Tools Paintless Car Dent Repair Body Damage Fix Tool Supporting Removing Aluminum Auto Body Dents\u001b[0m(72.20, 80071)\n",
      "\u001b[1m\u001b[4mcds|C|6467954|US|en|d514577949896b21:en_US , General Tool 807sx Offset Ratchet Screwdriver Slotted Phillips Sale\u001b[0m(72.15, 58570)\n",
      "\u001b[1m\u001b[4mcds|O|9384133|US|en|BE650 , Husqvarna BE650 5.5HP 196cc Lawn Edger\u001b[0m(72.06, 18784)\n",
      "\u001b[1m\u001b[4mcds|C|6467954|US|en|970c94824f8a79a5:en_US , Morakniv Garberg Survival Blackblade\u001b[0m(72.02, 21382)\n",
      "\u001b[1m\u001b[4mcds|C|6467954|US|en|21732f7de250ae05:en_US , J.A. Henckels International 16 pc. Self-Sharpening Knife Block Set, Natural\u001b[0m(72.00, 92571)\n",
      "\u001b[1m\u001b[4mcds|C|6467954|US|en|4c6b520c98edf0cf:en_US , Cheese Knife | Multi-Purpose Premium Steel Blade for Slicing, Spreading + Spearing | FDA Approved | W&P\u001b[0m(72.00, 52460)\n",
      "\u001b[1m\u001b[4mcds|O|108432423|US|en|488 , MX150 & MX150L Terminal Removal Tool | Molex\u001b[0m(71.98, 14431)\n",
      "\u001b[1m\u001b[4mcds|O|198498728|US|en|shopify_US_5250709323934_34496554401950 , eight-legged watch case back removal tool suit for watch back cover\u001b[0m(71.92, 15893)\n",
      "\u001b[1m\u001b[4mcds|O|146587656|US|en|shopify_US_6559377260743_39338418798791 , Gates Powergrip GT2 Idlers | HartSmart Products 12mm / Smooth\u001b[0m(71.88, 99838)\n",
      "\u001b[1m\u001b[4mcds|C|6467954|US|en|b9e73f7680846b2d:en_US , SharkBite 3/4-in Fitting Removal Tool Stainless Steel in Blue | U713Z\u001b[0m(71.84, 21007)\n",
      "\u001b[1m\u001b[4mcds|O|6084472|US|en|BSH-1607000DH7 , Bosch/Dremel/CST Berger/RotoZip Battery Charger #BSH-1607000DH7\u001b[0m(71.77, 32792)\n",
      "\u001b[1m\u001b[4mcds|C|6467954|US|en|0e716fb998be17a3:en_US , Cabela's Multi-Tool - Green\u001b[0m(71.49, 64923)\n",
      "\u001b[1m\u001b[4mcds|C|6467954|US|en|e516bc6674321c00:en_US , Magswitch MLAY600x2 Lifting Magnet - 8100360\u001b[0m(71.48, 32279)\n",
      "\u001b[1m\u001b[4mcds|O|8484259|US|en|SC-DV , Sanke D Valve for Cleaning Keg\u001b[0m(71.19, 88547)\n",
      "\u001b[1m\u001b[4mcds|C|6467954|US|en|82676449d3ffb233:en_US , WEATHER GUARD 72-in x 20.5-in x 18.375-in Silver Aluminum Crossover Truck Tool Box | 124-0-01\u001b[0m(71.18, 37948)\n",
      "\u001b[1m\u001b[4mcds|O|125697188|US|en|shopify_US_6802564055074_39697691738146 , Amagabeli 5 Pieces Fireplace Tools Sets Wrought Iron Indoor Fireplace Set with Poker Tongs Broom Shovel Stand Fire Tools Gold Model Number BG462\u001b[0m(71.09, 82090)\n",
      "\u001b[1m\u001b[4mcds|C|6467954|US|en|e2973e9595d2c9d3:en_US , Klein 510216SPBLK Deluxe Tool Bag, Black Canvas, 13 Pockets, 16-Inch\u001b[0m(70.91, 38833)\n",
      "\u001b[1m\u001b[4mcds|C|6467954|US|en|60ba7527b369ad20:en_US , Vevor 71550 A/c Hose Crimper Kit Manual Crimper Protable Crimping W/ 4\u001b[0m(70.90, 67161)\n",
      "\u001b[1m\u001b[4mcds|C|6467954|US|en|5dae0e4df955989f:en_US , Knipex 09 08 240 Us Linesman Pliers New England Head,1000V\u001b[0m(70.58, 64320)\n",
      "\u001b[1m\u001b[4mcds|C|6467954|US|en|6b18a90b71f1dc4b:en_US , Odomy Auger Drill Bit Garden Plant Flower Bulb Auger Rapid Planter Bulb Plant Auger, Size: 4*22cm\u001b[0m(70.41, 67713)\n",
      "\u001b[1m\u001b[4mcds|C|6467954|US|en|0f385de01a04de23:en_US , Milwaukee M18 Fuel 2867-20 Cordless High-torque Impact Wrench With One Key , 1/2 In, 1650 Rpm, Pistol Grip, Metal, Plastic, Rubber\u001b[0m(70.39, 88315)\n",
      "\u001b[1m\u001b[4mcds|C|6467954|US|en|1c688e8912cdbf15:en_US , Victorinox 40537 Fibrox Pro 8\" Breaking Knife\u001b[0m(70.20, 45427)\n",
      "\u001b[1m\u001b[4mcds|C|6467954|US|en|5e51e55bcd54036f:en_US , Leatherman Charge Plus TTI\u001b[0m(70.08, 1237)\n",
      "\u001b[1m\u001b[4mcds|C|6467954|US|en|28b3d1a3552e7d3c:en_US , Pittsburgh Automotive Disc Brake Pad Piston Compressor\u001b[0m(70.03, 12263)\n",
      "\u001b[1m\u001b[4mcds|C|6467954|US|en|7a391eab8a7eb03a:en_US , MILWAUKEE 4 In. STEELHEAD Diamond Cut-Off Blade | 49-93-7800 | Acme Tools\u001b[0m(70.00, 50904)\n",
      "\u001b[1m\u001b[4mcds|O|10386109|US|en|68 , nU Groove Sharpener\u001b[0m(69.86, 5522)\n",
      "\u001b[1m\u001b[4mcds|C|6467954|US|en|5da0179c4bc9b2d3:en_US , Miter Trim Cutter\u001b[0m(69.76, 57822)\n",
      "\u001b[1m\u001b[4mcds|C|6467954|US|en|ee1c2ee3538d3d8a:en_US , Cuda Cutters, 10 1/2\" Hook, Blue (18178)\u001b[0m(69.64, 62929)\n",
      "\u001b[1m\u001b[4mcds|C|6467954|US|en|d7e339594e5c423b:en_US , 14.4 Volt Battery for Dewalt Dc9091 Dw9091 Dw9094 NiCD 1.5 Ah, Black\u001b[0m(69.54, 20251)\n",
      "\u001b[1m\u001b[4mcds|O|3074108|US|en|380FM0 , Milwaukee Cordless Combination Kit Model: 2695-24, 2626-20\u001b[0m(69.32, 3788)\n",
      "\u001b[1m\u001b[4mcds|O|12768591|US|en|1147642383 , T-Handle Holder for Tool Boxes\u001b[0m(69.27, 2691)\n",
      "\u001b[1m\u001b[4mcds|O|542746001|US|en|771295410 , Belt Grinder Tilt Table Fits Most Popular 2x72\" Knife Grinders Such As OBM\u001b[0m(69.13, 41030)\n",
      "\u001b[1m\u001b[4mcds|C|6467954|US|en|f82037966e920de4:en_US , Gatorback B145 Carpenters Triple Combo w/Pro-Comfort Back Support Belt. Heavy Duty Work Belt (X-Large 40\"-44\")\u001b[0m(69.12, 51404)\n",
      "\u001b[1m\u001b[4mcds|O|131589279|US|en|ELL-BAU-3P24 , Baumalight Stump Blaster 3-Point Tractor Stump Grinder Model 3P24\u001b[0m(69.00, 70118)\n",
      "\u001b[1m\u001b[4mcds|C|6467954|US|en|5ca47738b27d5116:en_US , 29pc Speedy Multi Tip Cutter Drill Bit Set K Tool International 63106\u001b[0m(68.98, 23201)\n",
      "\u001b[1m\u001b[4mcds|C|6467954|US|en|1e099b08942f6d47:en_US , Swanson Tool CG100 Cutting Guide 100-Inch\u001b[0m(68.93, 59448)\n",
      "\u001b[1m\u001b[4mcds|C|6467954|US|en|012a5ac292e14706:en_US , Kreg Micro Adjuster\u001b[0m(68.92, 55903)\n",
      "\u001b[1m\u001b[4mcds|O|12768591|US|en|1036159949 , Stamping Press for all Platforms (Crazy Press tool) ,\u001b[0m(68.90, 13334)\n",
      "\u001b[1m\u001b[4mcds|C|6467954|US|en|4424f58332951574:en_US , WORKPRO Belt Disc Sander, 4 in. x 36 in. Belt & 6 in. Disc Sander with 6pcs Sandpapers, Cast Iron Base for Sanding Woodworking, DIY Decoration\u001b[0m(68.59, 86073)\n",
      "\u001b[1m\u001b[4mcds|O|371788999|US|en|34009 , Flat Nozzle Crevice Tool Black 1.375 Inch (35mm)\u001b[0m(68.25, 8614)\n",
      "\u001b[1m\u001b[4mcds|C|6467954|US|en|f81ea7f8d2d9e3ba:en_US , Vevor Jewelry Pneumatic Engraving Machine 400-8000 RPM Adjustable Speed Pneumatic Hand Engraving Machines 110v 60Hz Pneumatic Graver Handpiece with\u001b[0m(68.11, 92296)\n",
      "\u001b[1m\u001b[4mcds|C|6467954|US|en|8fccd68e610879b2:en_US , Performance Tool 3pc Line Clamp Set, W83205\u001b[0m(68.09, 2249)\n",
      "\u001b[1m\u001b[4mcds|C|6467954|US|en|2d9f691be73373a6:en_US , Bostitch 18v Cordless Drill 1/2\" Btc400 Keyless Chuck +18v Tool Only\u001b[0m(68.02, 20379)\n",
      "\u001b[1m\u001b[4mcds|C|6467954|US|en|3c0b09b1bfe9a5e2:en_US , Tru Pro 33 In. Adjustable Steel Auger\u001b[0m(68.01, 70749)\n",
      "\u001b[1m\u001b[4mcds|C|6467954|US|en|994a724d46e4d6df:en_US , Kinswood Circular Saw Blade Universal Fit 5\" 3/8\" 40t For Metal\u001b[0m(68.00, 86711)\n",
      "\u001b[1m\u001b[4mcds|C|6467954|US|en|12953c20d5c66ad7:en_US , DeWALT 16 Gauge 1-1/4\" Long Finishing Nails for Power Nailers - Grade 2 Steel, Galvanized Finish, Angled Stick Collation | Part #DCA16125\u001b[0m(67.97, 82255)\n",
      "\u001b[1m\u001b[4mcds|C|6467954|US|en|1b42c8038d5ef15f:en_US , Ridgid Tools R840083\u001b[0m(67.92, 3697)\n",
      "\u001b[1m\u001b[4mcds|C|6467954|US|en|90fddb7ce8fe0504:en_US , Klein Tools, Inc. LLM2 Hex Key L-Key 2mm 3.03\" (77.0mm)\u001b[0m(67.89, 82788)\n",
      "\u001b[1m\u001b[4mcds|C|6467954|US|en|2c0f7146c9ca35fe:en_US , Preenex 1.5-25mm Electric Automatic Wire Stripping Machine Bench top Powered Cable Stripper Tool, Size: Small\u001b[0m(67.89, 90156)\n",
      "\u001b[1m\u001b[4mcds|O|118940651|US|en|224633738624 , Vintage Large All Metal Anvil Dual Wheel Block & Tackle Pulley Swivel\u001b[0m(67.78, 61028)\n",
      "\u001b[1m\u001b[4mcds|C|6467954|US|en|f04e24e6d35beeef:en_US , Ridgid 37835 12R 1 inch NPT Dies\u001b[0m(67.68, 83868)\n",
      "\u001b[1m\u001b[4mcds|C|6467954|US|en|193e75fde7c31846:en_US , Klever X-Change Safety Cutter,6-3/4 in.,Black/Red Kcj-xc-30r\u001b[0m(67.56, 28003)\n",
      "\u001b[1m\u001b[4mcds|C|6467954|US|en|04fb37238a04cb4c:en_US , Dynamite - Startup Tool Set: Metric, Parts & Accessories, Parts, Hand Tools, DYN2834\u001b[0m(67.25, 35212)\n",
      "\u001b[1m\u001b[4mcds|C|6467954|US|en|d010833aa116f259:en_US , Ernst Manufacturing 3-Rail Socket Boss Organizer, Model 8450\u001b[0m(67.25, 95548)\n",
      "\u001b[1m\u001b[4mcds|C|6467954|US|en|cd5b04eb22864129:en_US , Deluxe Coaxial Crimp Tool with .100\", .128\" and .429\" Hex Die\u001b[0m(67.24, 20427)\n",
      "\u001b[1m\u001b[4mcds|C|6467954|US|en|4c8991a24215acdf:en_US , Woodworking Strap Clamp Adjustable Ratchet Band Clamp Miter Mitre Vise Tool For Cabinets, Drawers, Barrels\u001b[0m(67.05, 72226)\n",
      "\u001b[1m\u001b[4mcds|C|6467954|US|en|1c1707d23bc68856:en_US , TACKLIFE Cordless Drill 20V Max, Budget Handheld Drill For DIYers - PCD04C\u001b[0m(66.85, 15868)\n",
      "\u001b[1m\u001b[4mcds|O|9982|US|en|12-03359 , Heavy Duty Spark Plug Gapper Kit Ats420dx by Aircraft Spruce\u001b[0m(66.83, 68912)\n",
      "\u001b[1m\u001b[4mcds|O|176510798|US|en|5faf946476ceec03f111b228 , New Arrival Auto Locksmith Tools 5PCS/SET Lishi 2 in 1 HU66 HU92 HU100R HU101 HU100 Pick and Decoder for Car Locks\u001b[0m(66.74, 14644)\n",
      "\u001b[1m\u001b[4mcds|O|120368115|US|en|shopify_US_4333669843018_31093687484490 , DEWALT DCF883B 20V 20 Volt Max Lithium Ion 3/8\" Impact Wrench w Hog Ring\u001b[0m(66.73, 70294)\n",
      "\u001b[1m\u001b[4mcds|C|6467954|US|en|c3f85233ebb3074d:en_US , DIABST37 (SDS-plus ) Drop-In Anchor Power-Setting Tool\u001b[0m(66.62, 20589)\n",
      "\u001b[1m\u001b[4mcds|O|6296724|US|en|203656277646 , 1 1/4\" Hand Grip Garden Tool Handle Wheelbarrow Soft Rubber Shovel\u001b[0m(66.54, 4863)\n",
      "\u001b[1m\u001b[4mcds|O|142938480|US|en|193628 , 1978 CAT 633D - Scraper\u001b[0m(66.47, 31928)\n",
      "\u001b[1m\u001b[4mcds|C|6467954|US|en|b10061d874091c75:en_US , EKLIND 17222 Double-Ball-Hex L-Key allen wrench Combo- Extra Long Inch / MM (2 sets 22pc)\u001b[0m(66.31, 35321)\n",
      "\u001b[1m\u001b[4mcds|C|6467954|US|en|e4d0b2d277774a81:en_US , Ryobi One+ 200cfm 18v Leaf Sweeper With 2ah Battery And Charger\u001b[0m(66.12, 67538)\n",
      "\u001b[1m\u001b[4mcds|O|468295345|US|en|1022951170 , locking Milwaukee M18 friction fit Packout battery holder\u001b[0m(66.00, 78422)\n",
      "\u001b[1m\u001b[4mcds|C|6467954|US|en|1933be4786bd77da:en_US , Puffco Hot Knife\u001b[0m(65.93, 61865)\n",
      "\u001b[1m\u001b[4mcds|C|6467954|US|en|7e73da469b92ceef:en_US , Ridgid Square Drive Adapter, For Use With 1AC02, 6YJ38, 161 Geared Threader, 258 Power Pipe Cutter Model: 42620\u001b[0m(65.75, 90076)\n",
      "\u001b[1m\u001b[4mcds|C|6467954|US|en|39cfc5c692d3c2d4:en_US , T40271-T10355-KIT VW 1.8 / 2.0L FSI / TFSI Engine Timing Tool Set Alt\u001b[0m(65.75, 77423)\n",
      "\u001b[1m\u001b[4mcds|O|6157908|US|en|ET10562 , JackJaw 305 Round Sign Post Puller - JJ0305\u001b[0m(65.74, 33861)\n",
      "\u001b[1m\u001b[4mcds|C|6467954|US|en|be289e49528244e5:en_US , 22-volt 1/4 In. Cordless Brushless Sd 5000 Drywall Screwdriver Screw\u001b[0m(65.72, 23062)\n",
      "\u001b[1m\u001b[4mcds|C|6467954|US|en|0b24971400b232f3:en_US , Foundation | Cassette Lockring Tool For Shimano Cassette & Centerlock BR\u001b[0m(65.68, 78650)\n",
      "\u001b[1m\u001b[4mcds|O|516192150|US|en|shopify_US_84524892_198744342 , Domiplate for 1/2\" and 3/4\" nominal ply\u001b[0m(65.62, 1002)\n",
      "\u001b[1m\u001b[4mcds|C|6467954|US|en|19db4b5a5f0f54ef:en_US , Disc Brake Pad Spreader Installation Caliper Piston Compressor Steel\u001b[0m(65.54, 89821)\n",
      "\u001b[1m\u001b[4mcds|O|128553554|US|en|1056344USs , Banggood 3Pcs Tubular 7 Pins Lock Pick Tools with Transparent 7 Pin Tubular Lock Cylinder Locksmith Tools\u001b[0m(65.54, 22468)\n",
      "\u001b[1m\u001b[4mcds|C|6467954|US|en|7958c6b4f43301f9:en_US , Universal Bender 4′′ x 3/16′′ Flat Round Square Angle Bar Bending Tools\u001b[0m(65.52, 52543)\n",
      "\u001b[1m\u001b[4mcds|O|10136084|US|en|shopify_US_4727176986718_32146140299358 , GI Military MOLLE II Entrenching Tool Cover ACU / Used Camouflage\u001b[0m(65.42, 19590)\n",
      "\u001b[1m\u001b[4mcds|O|101682308|US|en|331554684160 , 360o Clamp Bench Vise Grinder Holder Electric Drill Stand For Power\u001b[0m(65.39, 56771)\n",
      "\u001b[1m\u001b[4mcds|C|6467954|US|en|54d5a3058b222e38:en_US , Worx Wg324.9 20V Power Share 5 Cordless Pruning Saw, Bare Tool Only, Black and Orange, Size: 5 in\u001b[0m(65.31, 78711)\n",
      "\u001b[1m\u001b[4mcds|C|6467954|US|en|9fb286e085f7a3bb:en_US , 3 in 1 Corner Rounder Punch, 4mm 7mm 10mm 3 Way Corner Cutter for Paper Craft, Laminate, DIY Projects, Photo Cutter, Card Making and Scrapbooking\u001b[0m(65.14, 50622)\n",
      "\u001b[1m\u001b[4mcds|C|6467954|US|en|7cd45885febb2b11:en_US , TDI Brands Potting Trowel One-Size\u001b[0m(65.02, 70442)\n",
      "\u001b[1m\u001b[4mcds|C|6467954|US|en|cff85be59d901bcc:en_US , Earthquake 3/8 in. Composite Air Impact Wrench\u001b[0m(65.00, 44074)\n",
      "\u001b[1m\u001b[4mcds|O|9728833|US|en|12473 , Skid Steer Rock Saw Attachment 24\" Depth Wheel\u001b[0m(64.80, 10522)\n",
      "\u001b[1m\u001b[4mcds|O|254529729|US|en|62181571913 , Wholesale HDD Drilling Tools Sonde, 1 Piece, Housing Transmitter Housings for Horizontal Directional Drilling Rigs\u001b[0m(64.76, 74595)\n",
      "\u001b[1m\u001b[4mcds|O|441300471|US|en|woocommerce_gpf_1095672 , Stripped Hex Screw Removers, SAE\u001b[0m(64.70, 89337)\n",
      "\u001b[1m\u001b[4mcds|C|6467954|US|en|369a2d1311b64d92:en_US , Westward 499N12 Jobsite Box,13 In,blue\u001b[0m(64.53, 97117)\n",
      "\u001b[1m\u001b[4mcds|C|6467954|US|en|1bb32680e511dd6c:en_US , Klein Tools 11048 Dual Wire Stripper Cutter for Solid Wire\u001b[0m(64.51, 72104)\n",
      "\u001b[1m\u001b[4mcds|O|119561682|US|en|BK_7769205-1CT , Rear Main Seal Tool Kit Upper Rear Main Engine Seal\u001b[0m(64.48, 89722)\n",
      "\u001b[1m\u001b[4mcds|C|6467954|US|en|badd9831f450301c:en_US , Rocky Mountain Goods Fireplace Shovel 17\" - Heavy Gauge Steel - Heat Resistant Finish - Leather Hang Strap - Coal Shovel\u001b[0m(64.25, 75144)\n",
      "\u001b[1m\u001b[4mcds|C|6467954|US|en|5cf6fa1d03c349a7:en_US , Berkling Tools BT 2425J 1/2” Ultra Compact Angle Air Impact Wrench - 500 ft-lb Breakaway Torque, Gearless Direct Drive, 9.7\" Long Low Profile Body,\u001b[0m(64.04, 12635)\n",
      "\u001b[1m\u001b[4mcds|C|6467954|US|en|7fe6c0ed3af2c191:en_US , Ingersoll Rand 215g 3/8-Inch 160-Ft.Lbs Edge Series Air Impactool, Silver, White\u001b[0m(64.00, 8238)\n",
      "\u001b[1m\u001b[4mcds|C|6467954|US|en|cfad56cb0d720244:en_US , BackRack 30327TB - BackRack 2016+ Toyota Tacoma Toolbox 21in No Drill Hardware Kit\u001b[0m(64.00, 67153)\n",
      "\u001b[1m\u001b[4mcds|C|6467954|US|en|8c8d1a6a5273bac0:en_US , Milwaukee 42-28-0206 Band Saw Front Blade Guide Assembly\u001b[0m(63.99, 35536)\n",
      "\u001b[1m\u001b[4mcds|O|540350261|US|en|1183797053 , Slab Flattening Jig Plans\u001b[0m(63.96, 38027)\n",
      "\u001b[1m\u001b[4mcds|O|112354234|US|en|203903381 , Edger Metal RED 140cc, Size: 25 in\u001b[0m(63.95, 98365)\n",
      "\u001b[1m\u001b[4mcds|C|6467954|US|en|b8605c11a754ea3a:en_US , Pana Nail Carbide 5 in 1 Bit - Two Way Rotate use for Both Left and Right Handed - Fast remove Acrylic or Hard Gel - 3/32 inch Shank - Manicure, Nail\u001b[0m(63.80, 92006)\n",
      "\u001b[1m\u001b[4mcds|C|6467954|US|en|156eec421c0442d3:en_US , Bullet Tools Striker XXL Hammer-Free Tapping Block\u001b[0m(63.73, 95522)\n",
      "\u001b[1m\u001b[4mcds|C|6467954|US|en|e2bba091811baf10:en_US , Joyin 4 in 1 Construction Workbench Tool Bench Set with Electric Drill, Goggles, Chainsaw and More Tool Toys Travel Case Work Bench Play Toolset for\u001b[0m(63.70, 71800)\n",
      "\u001b[1m\u001b[4mcds|C|6467954|US|en|8cdd4c5592182a08:en_US , Council Leather Mask for Boy's & Hudson Bay Axes at Sheldon Hill Forestry Supply\u001b[0m(63.70, 27762)\n",
      "\u001b[1m\u001b[4mcds|C|6467954|US|en|cac02815be3ccf9c:en_US , Wypo Cutting Torch Tip Resurfacing Tool | ATL Welding Supplies\u001b[0m(63.67, 8179)\n",
      "\u001b[1m\u001b[4mcds|C|6467954|US|en|09df555251d9d083:en_US , Autel MaxiTPMS TS508 TPMS Relearn Tool, 2022 Newest Upgraded of TS501, TS408, Program MX-Sensors(315/433 MHz), Activate/Relearn All Sensors, TPMS\u001b[0m(63.50, 30017)\n",
      "\u001b[1m\u001b[4mcds|O|3726155|US|en|Craftsman-8196-Replacement-Key , Craftsman 8196 Replacement Tool Box & Tool Chest Key\u001b[0m(63.39, 10020)\n",
      "\u001b[1m\u001b[4mcds|O|9029677|US|en|9366.0 , Highbush Blueberry Rake | Harvesting Tools | Johnny's Selected Seeds\u001b[0m(63.14, 23226)\n",
      "\u001b[1m\u001b[4mcds|C|6467954|US|en|b3ee2e9dcc036c0c:en_US , Beta Tools 039000032 C39 Gray Mobile Rolling Tool Cabinet (31.49\" W x 19.68\" D x 38.22\" H)\u001b[0m(63.05, 82537)\n",
      "\u001b[1m\u001b[4mcds|C|6467954|US|en|8d990a1725bfd2cd:en_US , 8 Inch Serrated Rubber Belt Grinder Contact Wheel Rubber Wheel Contact Wheel Aluminum for Polishing with 1\" Hole\u001b[0m(63.05, 81330)\n",
      "\u001b[1m\u001b[4mcds|C|6467954|US|en|485c348bd8535d46:en_US , Kuhn Rikon Colori Chef's Knife with Safety Sheath, 6 Inch, Black\u001b[0m(63.00, 96760)\n",
      "\u001b[1m\u001b[4mcds|O|12768591|US|en|957875828 , Axe handles with laminated palm swells\u001b[0m(63.00, 85270)\n",
      "\u001b[1m\u001b[4mcds|C|6467954|US|en|03fc0af9bf2554a7:en_US , 5\" Wet Core Bit for Drilling Concrete and Hard Masonry - 1-1/4\"-7 Threaded #30/40 Diamond Grits\u001b[0m(63.00, 81010)\n",
      "\u001b[1m\u001b[4mcds|C|6467954|US|en|987d580021526647:en_US , 981-0490 Genuine Oem Chipper Blade\u001b[0m(63.00, 92724)\n",
      "\u001b[1m\u001b[4mcds|C|6467954|US|en|98fe8ca032ee76c0:en_US , Task Tools 09962 Universal Shank Jig Saw Blade Set With Pouch 20-piec\u001b[0m(63.00, 52480)\n",
      "\u001b[1m\u001b[4mcds|C|6467954|US|en|ca975d37ef13ed1c:en_US , Open Security Oval Head Screws, 316 SS Service Repair Tool Key, Magnetic\u001b[0m(62.98, 38426)\n",
      "\u001b[1m\u001b[4mcds|C|6467954|US|en|003333fa9202392b:en_US , Stanley FMHT10358 FATMAX Single-Sided Replaceable Head Pull Cutter\u001b[0m(62.94, 31417)\n",
      "\u001b[1m\u001b[4mcds|C|6467954|US|en|bd3b772b57336611:en_US , 5S Tool Box Foam - 2 1/4\" - ULINE - Carton of 3 - S-24286\u001b[0m(62.84, 84957)\n",
      "\u001b[1m\u001b[4mcds|C|6467954|US|en|356c303fb0bbe7e3:en_US , K Tool 45600 Reversible Ratcheting Combination Wrench Set, 16 Piece, 8mm to 24mm, Sleek Head Design, All Metal\u001b[0m(62.75, 17273)\n",
      "\u001b[1m\u001b[4mcds|O|6084472|US|en|DWB-N413815 , DeWalt Elec Control Assembly #DWB-N413815\u001b[0m(62.71, 17896)\n",
      "\u001b[1m\u001b[4mcds|C|6467954|US|en|24916ac84431ffb7:en_US , Mayhew 45049 CatsPaw Belt / Molding Removal Tool | Auto Tool World\u001b[0m(62.54, 34321)\n",
      "\u001b[1m\u001b[4mcds|C|6467954|US|en|986238a9ac6ef2b8:en_US , Professional Equine Horse Farrier Tool Kit Grooming Hoof Bot Shoe Puller Nipper Rasp 984109\u001b[0m(62.51, 66825)\n",
      "\u001b[1m\u001b[4mcds|C|6467954|US|en|40ff08f7f10e9ee5:en_US , Onsrud 70-510 Jobber Drill,3/16\",hss\u001b[0m(62.40, 81825)\n",
      "\u001b[1m\u001b[4mcds|C|6467954|US|en|7c365d72ab6e66a1:en_US , Due Cigni Walnut Wood Wall Knife Rack 33 x 15 x 5.5cm\u001b[0m(62.40, 20914)\n",
      "\u001b[1m\u001b[4mcds|O|144738959|US|en|shopify_US_4327835926664_31081104277640 , Corby Rivets | Jantz Supply - Quality Knifemaking Since 1982 Brass / 1/4\" / 1\"\u001b[0m(62.31, 35917)\n",
      "\u001b[1m\u001b[4mcds|C|6467954|US|en|be166f453c53379a:en_US , Bosch Revolve2000 7 in. L X 6.7 in. W Laser Measure 2000 ft. Assorted 11 pc\u001b[0m(62.15, 49085)\n",
      "\u001b[1m\u001b[4mcds|C|6467954|US|en|12a57552b2f3e7f3:en_US , Radius Garden 29 in., 19.75 in. Handle Root Slayer Carbon Steel Mini-Digger Shovel\u001b[0m(62.12, 82694)\n",
      "\u001b[1m\u001b[4mcds|O|6751953|US|en|AE-036187 , Allen Engineering SSE12325M Truss Screed Steel; Engine Driven; SSE12 Complete 32.5.. W/ Manual Winches\u001b[0m(62.00, 24397)\n",
      "\u001b[1m\u001b[4mcds|C|6467954|US|en|65f609699fc17617:en_US , Milwaukee 10 in. x 72 Carbide Teeth Aluminum Cutting Circular Saw Blade\u001b[0m(62.00, 45415)\n",
      "\u001b[1m\u001b[4mcds|O|506461648|US|en|shopify_US_7422550245563_42694905987259 , CRAFTSMAN 2000 Series 26-In W X 19.75-In H 5-Drawer Steel Tool Chest (Red)\u001b[0m(61.97, 6972)\n",
      "\u001b[1m\u001b[4mcds|C|6467954|US|en|66226c20f16cbb86:en_US , Bessey 2 3/8\" Jaw 9 1/2\" Welders Angle Clamp\u001b[0m(61.92, 35003)\n",
      "\u001b[1m\u001b[4mcds|C|6467954|US|en|ea459d89426dc33b:en_US , Uni-Syn Carburetor Synchronizer/Carb Synchronizing/Balancing Tool Weber Su Type\u001b[0m(61.91, 88694)\n",
      "\u001b[1m\u001b[4mcds|C|6467954|US|en|ddab178d5de88c18:en_US , Proto Striking Wrench: Alloy Steel, Black Oxide, 1 1/8 in Head Size, 8 in Overall Lg Model: J2618SW\u001b[0m(61.82, 54066)\n",
      "\u001b[1m\u001b[4mcds|C|6467954|US|en|ab9ab695fad301a2:en_US , Jet Milling Machine Stand for Mill Drills - 48\" Long x 48\" Deep x 40\" High | Part #350045\u001b[0m(61.80, 58478)\n",
      "\u001b[1m\u001b[4mcds|O|7867964|US|en|231999131418 , Stihl Chainsaw Filing Gauge Tool For Many Saws 1110 893 4000 ---up 360\u001b[0m(61.80, 4577)\n",
      "\u001b[1m\u001b[4mcds|C|6467954|US|en|4ad4c1696e9434b3:en_US , Shear Perfection 7005672 Platinum Stainless Steel Curved Hydroponic Trimming Shear\u001b[0m(61.73, 42000)\n",
      "\u001b[1m\u001b[4mcds|C|6467954|US|en|ac9367b2cdc57008:en_US , 6\" Extra Thick Spiral Sewn Buffing Wheels\u001b[0m(61.68, 62225)\n",
      "\u001b[1m\u001b[4mcds|O|117480389|US|en|9180877382_33471338054 , 3-D Fast Cut Tooling Starter Kits - .375\" | 3D-375-KIT\u001b[0m(61.63, 82528)\n",
      "\u001b[1m\u001b[4mcds|C|6467954|US|en|0eb548e7c39aeafc:en_US , Wire Piercing Probe Clip, Automotive Diagnostic Test Lead Accessories Repair Tools Puncture Wire Back Probe Pins Testing Kit, Black and Red, 2 Pack\u001b[0m(61.49, 4408)\n",
      "\u001b[1m\u001b[4mcds|C|6467954|US|en|6bcea14ba0ad568d:en_US , Level 5 6 in. Stainless Steel Bucket Scoop Single Material Handle\u001b[0m(61.40, 14472)\n",
      "\u001b[1m\u001b[4mcds|C|6467954|US|en|e84f71c22bc24dde:en_US , 5pcs HSS Titanium Plating Double Side Drill Out Damaged Screw Extractor Out Remover Handymen Broken Bolt Stud Removal Tool\u001b[0m(61.35, 15611)\n",
      "\u001b[1m\u001b[4mcds|C|6467954|US|en|717667855942114e:en_US , Dexter P40846 3-1/4\" Scalloped Edge Paring Knife with Black Handle\u001b[0m(61.29, 86556)\n",
      "\u001b[1m\u001b[4mcds|C|6467954|US|en|6070e127a7c26d53:en_US , Milwaukee 1000V Insulated Screwdrivers — 3-Piece Set, Model 48-22-2202\u001b[0m(61.00, 26227)\n",
      "\u001b[1m\u001b[4mcds|C|6467954|US|en|a0f58ebb2c704396:en_US , Outdoor Master Mic Large Fixed-blade Knife by Victorinox\u001b[0m(61.00, 94395)\n",
      "\u001b[1m\u001b[4mcds|C|6467954|US|en|aff8b428b4b273c2:en_US , 1-1/2_x4_ Speed, Size: 1.5 x 4, Blue\u001b[0m(61.00, 95571)\n",
      "\u001b[1m\u001b[4mcds|C|6467954|US|en|a3a658c10e3f7751:en_US , RIDGID 33665 Chain Extension Assembly for 206/226/286 Soil Pipe Cutter\u001b[0m(60.96, 44664)\n",
      "\u001b[1m\u001b[4mcds|O|115785178|US|en|78 , Series 500-Compatible Stump Tooth\u001b[0m(60.92, 65114)\n",
      "\u001b[1m\u001b[4mcds|C|6467954|US|en|9c7810dc4e2c164b:en_US , The Best Magnetic Clips for Anywhere, CMS Magnetics Heavy Duty Magnetic Clip for Magnetic Whiteboard 1.4\" Dia 4 Ct. Silver\u001b[0m(60.90, 77682)\n",
      "\u001b[1m\u001b[4mcds|C|6467954|US|en|a5ed5f3433510e9c:en_US , Roller Conveyor | 12′′ W x 3' Ft | 1.5\" Dia. Rollers | Ultimation\u001b[0m(60.88, 6720)\n",
      "\u001b[1m\u001b[4mcds|C|6467954|US|en|636b099e5d0b008f:en_US , Hyper Tough 8-Inch Mill Bastard File with Ergonomic Soft Grip, Size: 8 inch, Black\u001b[0m(60.80, 14788)\n",
      "\u001b[1m\u001b[4mcds|C|6467954|US|en|4f86e67810465872:en_US , Logan Graphic Products Inc. 450-1 Artist Elite Mat Cutter for Framing, Art, and Design or Creative Signage Projects-best for At-Home Framers\u001b[0m(60.76, 57619)\n",
      "\u001b[1m\u001b[4mcds|O|144646454|US|en|05K1503 , Veritas Journeyman's Brass Mallets, Large Journeyman’s walnut handle\u001b[0m(60.62, 84639)\n",
      "\u001b[1m\u001b[4mcds|C|6467954|US|en|1dc72f5132ec98bc:en_US , Homak BW00200320 32 Inch Professional Industrial Toolbox\u001b[0m(60.61, 10934)\n",
      "\u001b[1m\u001b[4mcds|C|6467954|US|en|df43a841d1806d36:en_US , Milwaukee Packout Utility Cart With Tool Storage Crates 20\" Flat Free\u001b[0m(60.44, 64976)\n",
      "\u001b[1m\u001b[4mcds|C|6467954|US|en|c20372b94541dc26:en_US , OTC 27793 5/8\"-2\" diameter Bushing Driver Set in case\u001b[0m(60.26, 36528)\n",
      "\u001b[1m\u001b[4mcds|C|6467954|US|en|994be0b7f8a1b57c:en_US , B & B Manufacturing 6J180X3/4 Poly V Pulley | B & B MANUFACTURING Replacement Poly V Pulley | Industrial Parts from 3BG Supply Co.\u001b[0m(60.19, 86879)\n",
      "\u001b[1m\u001b[4mcds|O|126358573|US|en|m99231297205 , Wen Lathe - Toys & Collectibles | Color: Orange\u001b[0m(60.16, 71063)\n",
      "\u001b[1m\u001b[4mcds|C|6467954|US|en|0edb5dd17c6447ce:en_US , Williams Sonoma Goldtouch Pro Silicone & Nylon Pastry Tools, Set of 5\u001b[0m(60.01, 81726)\n",
      "\u001b[1m\u001b[4mcds|C|6467954|US|en|eeed5dbb5aaa1177:en_US , True Temper #10 Aluminum Scoop Shovel with D Grip Hardwood Handle | 1670900 | Acme Tools\u001b[0m(60.00, 20773)\n",
      "\u001b[1m\u001b[4mcds|C|6467954|US|en|15fe0aa4f55cfed0:en_US , Tapco #11850 Siding Tools ProTrax Saw Table\u001b[0m(59.99, 22352)\n",
      "\u001b[1m\u001b[4mcds|O|9764200|US|en|131299723SPO , Milwaukee M18 Fuel 3 Pc Combo Kit Fuel Sawzall With Packout - 131299723SPO - Power Tools & Equipment - Power Tool Combo Kits\u001b[0m(59.95, 76726)\n",
      "\u001b[1m\u001b[4mcds|C|6467954|US|en|76fb91a61707205b:en_US , Capri Tools Cp21350Mt Windstorm Ex High Performance Air Blow Gun, Mast\u001b[0m(59.84, 27835)\n",
      "\u001b[1m\u001b[4mcds|C|6467954|US|en|6901c22724f4b899:en_US , OEMTOOLS Motorq Drive Bit Set 5 Piece by AutoZone\u001b[0m(59.82, 27599)\n",
      "\u001b[1m\u001b[4mcds|C|6467954|US|en|abece89b0de7b8c4:en_US , Swanstrom Parallel-Action Heavy-Duty Flat-Nose Pliers\u001b[0m(59.76, 25198)\n",
      "\u001b[1m\u001b[4mcds|C|6467954|US|en|d1276202dafa716f:en_US , MALCO PRODUCTS 20 In. Gold Standard Malco Hole Cutter | HC2 | Acme Tools\u001b[0m(59.74, 59092)\n",
      "\u001b[1m\u001b[4mcds|C|6467954|US|en|8569a8d941c90c2b:en_US , Makita DCL501Z 18V LXT Brushless Cordless Cyclonic Canister HEPA Filter Vacuum, Tool Only\u001b[0m(59.50, 97701)\n",
      "\u001b[1m\u001b[4mcds|C|6467954|US|en|e8a4abbbac6f7a41:en_US , Circle Graphic Punch Die Paper Cutter For 2.28′′ Button Maker Machine\u001b[0m(59.47, 61679)\n",
      "\u001b[1m\u001b[4mcds|C|6467954|US|en|5db29cfe2eb7ff5a:en_US , Manicure Set Professional Pedicure Kit Nail Clippers Kit 18 Pcs Nail\u001b[0m(59.46, 4807)\n",
      "\u001b[1m\u001b[4mcds|C|6467954|US|en|fe2ca8cef61fbb2d:en_US , Afantti Electric Micro Engraver Pen Mini DIY Engraving Tool Kit for Metal Glass Ceramic Plastic Jewelry with Scriber Etcher 30 Bits and 8 Stencils\u001b[0m(59.45, 64738)\n",
      "\u001b[1m\u001b[4mcds|O|130931652|US|en|10516 , APP215 ADI 4\" Palm Pruner\u001b[0m(59.38, 20033)\n",
      "\u001b[1m\u001b[4mcds|C|6467954|US|en|b89310ffa700eb4d:en_US , 3M Green Corps Roloc Disc Pad Assembly - 2\" | For Boats\u001b[0m(59.32, 6013)\n",
      "\u001b[1m\u001b[4mcds|C|6467954|US|en|2f902d5c18cd7d5e:en_US , Wheel Clamp Upgrade For Motorcycle Lifts - Sealey Wcr01\u001b[0m(59.05, 82396)\n",
      "\u001b[1m\u001b[4mcds|C|6467954|US|en|53cfc24e496461f2:en_US , bosch gsg300 foam rubber cutter 220 volts not for usa\u001b[0m(59.05, 78796)\n",
      "\u001b[1m\u001b[4mcds|C|6467954|US|en|de60a2ea8596f4a1:en_US , MIAHART 120Pcs Stainless Steel Single Ear Hose Clamps with Ear Clamp Pincer 10 Sizes 304 Stepless Crimp Clamps for Securing PEX Tubing Pipe Hose and\u001b[0m(59.03, 64144)\n",
      "\u001b[1m\u001b[4mcds|C|6467954|US|en|5c8423fbb1b0a003:en_US , Dyson DY-91898902 Switch\u001b[0m(59.00, 42929)\n",
      "\u001b[1m\u001b[4mcds|O|100363828|US|en|shopify_US_7566012580093_42448748577021 , DEWALT DCS377B ATOMIC 20V MAX* Bandsaw, Bare w/ FREE DCBP034C 20V Starter Kit\u001b[0m(59.00, 7875)\n",
      "\u001b[1m\u001b[4mcds|C|6467954|US|en|a2d424cef3d3540d:en_US , Farberware 5 Inch Santoku Knife\u001b[0m(59.00, 57888)\n",
      "\u001b[1m\u001b[4mcds|C|6467954|US|en|1aa5b5987f447705:en_US , Tomahawk Power Tomahawk 72-in Magnesium L-shape Manual Concrete Screed | TVSA-H + TSB6-P\u001b[0m(59.00, 66610)\n",
      "\u001b[1m\u001b[4mcds|C|6467954|US|en|e598fbe4e894b285:en_US , OX Tools 4 Pc Construction Top Grain Leather Rig Bonus Pack\u001b[0m(58.97, 88940)\n",
      "\u001b[1m\u001b[4mcds|O|120300456|US|en|793179404 , Jewelry Tool Set, Round Nose Pliers, Flat Nose Pliers, Wire Cutters, Fine Nose, Jewelry Making Tools, Beading Suppliers, Jewelry Suppliers\u001b[0m(58.87, 10920)\n",
      "\u001b[1m\u001b[4mcds|C|6467954|US|en|1220a0feb089ca03:en_US , 3M DBI-SALA Battery Holster/Sleeve 1500090\u001b[0m(58.87, 2704)\n",
      "\u001b[1m\u001b[4mcds|C|6467954|US|en|54d14d1d8c979834:en_US , Milwaukee INKZALL Black Medium Chisel Tip Jobsite Marker 1 pk\u001b[0m(58.57, 51732)\n",
      "\u001b[1m\u001b[4mcds|C|6467954|US|en|199007a7759075c2:en_US , KAKA Industrial HS-40 Manual Guillotine Shear, 40-Inch,16 Gauge Sheet Metal Fabrication Plate Cutting Cutter With Stand\u001b[0m(58.37, 56292)\n",
      "\u001b[1m\u001b[4mcds|C|6467954|US|en|862aa1d8f53677f3:en_US , Tire Valve Stem Tool Remover & Installation Set- 10pcs Tire Snap in Short Rubber TR412 Valve Stem with Valve Stem Cores,EASILY REPLACE Your Old\u001b[0m(58.26, 42468)\n",
      "\u001b[1m\u001b[4mcds|C|6467954|US|en|cef055bc09a50a7e:en_US , BMW Belt Installation Tool - Assenmacher BMW0062\u001b[0m(58.21, 99904)\n",
      "\u001b[1m\u001b[4mcds|O|235971960|US|en|shopify_US_4587672240227_32528317022307 , All-U-Need (rock/mineral model), 8in / 110 volt\u001b[0m(58.18, 13530)\n",
      "\u001b[1m\u001b[4mcds|O|8187926|US|en|MBW786C , 74\" ERGO-TAMP Pole Tamper PT78\u001b[0m(58.10, 52535)\n",
      "\u001b[1m\u001b[4mcds|O|6616325|US|en|400811 , KR Strikeforce Bowling Ball Workout Tool with 5/8\" Blade | BowlersMart\u001b[0m(58.10, 4518)\n",
      "\u001b[1m\u001b[4mcds|C|6467954|US|en|6fc9146fecce6b81:en_US , Stewmac Plunge Router Base\u001b[0m(58.09, 73072)\n",
      "\u001b[1m\u001b[4mcds|O|114734998|US|en|262001706719 , Belt Grinder Wheels For 2x72\" Knife Grinders Set Of 2, 2\" Diameter\u001b[0m(58.05, 87422)\n",
      "\u001b[1m\u001b[4mcds|C|6467954|US|en|a5e4109b7d98605d:en_US , 4Pack Cam Lock 7/8 Inch Tubular Cam Locks Keyed Alike with Chrome Finish for Vending Machine Truck Pickup Tool Box Mailbox ATM Replacement Lock\u001b[0m(58.00, 7118)\n",
      "\u001b[1m\u001b[4mcds|C|6467954|US|en|77e8eaa276a2e578:en_US , GoVets | Generic 36\" Long Replacement Handle for Single Bit Bent Axes\u001b[0m(58.00, 29332)\n",
      "\u001b[1m\u001b[4mcds|O|532090847|US|en|2638 , -DWST22760 26 in. Wide 6-Drawer Rolling Tool Cabinet\u001b[0m(57.72, 62737)\n",
      "\u001b[1m\u001b[4mcds|O|6201684|US|en|10807100-P , Bosch Platinum+4 Spark Plug, F100061930BOS\u001b[0m(57.63, 22511)\n",
      "\u001b[1m\u001b[4mcds|C|6467954|US|en|30cfff037b75f3b8:en_US , Buyers Products Bp925824 Truck Box,backpack,diamond Tread,alm\u001b[0m(57.63, 5125)\n",
      "\u001b[1m\u001b[4mcds|C|6467954|US|en|aeb366d050ca3ed8:en_US , Tool Belt Suspenders Work Suspenders, Adjustable, Comfortable Padded\u001b[0m(57.59, 4981)\n",
      "\u001b[1m\u001b[4mcds|C|6467954|US|en|dcd1f63234314f91:en_US , Luo ke 20 Pieces Compress Wool Polishing Wheels Wool Felt Grinding Bits Buffing Tips with 1/8\" Mandrel for Dremel Rotary Tool(Sanding Diameter : 4mm\u001b[0m(57.55, 26201)\n",
      "\u001b[1m\u001b[4mcds|C|6467954|US|en|7cc73723388ea5e6:en_US , Warrior 2 in., 3 in. Fiber Disc Sanding Kit\u001b[0m(57.43, 79286)\n",
      "\u001b[1m\u001b[4mcds|O|10165560|US|en|22T09.03 , Brad Pusher\u001b[0m(57.33, 76370)\n",
      "\u001b[1m\u001b[4mcds|C|6467954|US|en|e201836f02089b6f:en_US , Teng Tools 3 Drawer Professional Portable Steel Lockable Red N Series Middle Tool Box - TC803N\u001b[0m(57.09, 67570)\n",
      "\u001b[1m\u001b[4mcds|C|6467954|US|en|fc4e8a2e2dc17d05:en_US , TEKTON Combination Wrench - 1-15/16\" (1.3\") - 25.7\" - 3.9\" - North 40 Outfitters\u001b[0m(57.00, 5139)\n",
      "\u001b[1m\u001b[4mcds|O|111739360|US|en|217 , King Kutter 6' Rotary Cutter Blade Set -- 501130\u001b[0m(57.00, 44099)\n",
      "\u001b[1m\u001b[4mcds|C|6467954|US|en|25510bbc6f0d77c2:en_US , HYDE 02005 Flexible Black & Silver 3/4\" Putty Knife\u001b[0m(57.00, 48586)\n",
      "\u001b[1m\u001b[4mcds|C|6467954|US|en|43bee71256b91d97:en_US , Ryobi Ry40204 40V Lithium-Ion Cordless String Trimmer - NO Battery or Charger\u001b[0m(56.96, 12443)\n",
      "\u001b[1m\u001b[4mcds|O|392405634|US|en|shopify_US_6293746712753_38209691123889 , Handle Wrap - AC0001\u001b[0m(56.93, 60693)\n",
      "\u001b[1m\u001b[4mcds|O|425223704|US|en|265166291036 , 220v Variable Speed 2x72\"belt Grinder Belt Sander Knife Grinder W/\u001b[0m(56.92, 62207)\n",
      "\u001b[1m\u001b[4mcds|C|6467954|US|en|15f7ad47a06fc96e:en_US , Klein Tools 671-6 Rapi-Driv Screwdriver with 1/4-Inch Cabinet Tip with 6-Inch Shank\u001b[0m(56.74, 98431)\n",
      "\u001b[1m\u001b[4mcds|C|6467954|US|en|5f62608ab2b4c0c1:en_US , Truper 48 in. Wood Garden Fork Replacement Handle\u001b[0m(56.59, 83045)\n",
      "\u001b[1m\u001b[4mcds|C|6467954|US|en|6614435ae5e675a1:en_US , King Arthur's 47851 Holey Galahad Sanding Disc, 4\", 90 Grit\u001b[0m(56.59, 92719)\n",
      "\u001b[1m\u001b[4mcds|C|6467954|US|en|eef6f5d4be6c7f44:en_US , Blue Ridge Tools 4.5amp Jigsaw\u001b[0m(56.39, 36016)\n",
      "\u001b[1m\u001b[4mcds|C|6467954|US|en|e4cf0fdddfbea4b5:en_US , Wera 05004203001 8790 Hmc Hf 1 Zyklop Socket Set, 1/2\" Drive\u001b[0m(56.31, 73401)\n",
      "\u001b[1m\u001b[4mcds|C|6467954|US|en|a59c9a447119cc76:en_US , Makita 443046-7 Felt Pad\u001b[0m(56.20, 5795)\n",
      "\u001b[1m\u001b[4mcds|C|6467954|US|en|aeeb782f0dc07ffb:en_US , uxcell Radius Gauge Set R15-25mm 16 Pairs of Leaves Radius Gauge Fillet Gage, Silver Tone\u001b[0m(56.13, 94679)\n",
      "\u001b[1m\u001b[4mcds|C|6467954|US|en|b8bca19cdc23c20c:en_US , Channellock 2 Pieces Tongue and Groove Straight Jaw Plier Set\u001b[0m(56.03, 30483)\n",
      "\u001b[1m\u001b[4mcds|C|6467954|US|en|99ca4008918d47c1:en_US , NiceCutt WNMG432-NM-NP1125 Carbide Turning Insert for Steel 10pcs\u001b[0m(56.03, 27015)\n",
      "\u001b[1m\u001b[4mcds|C|6467954|US|en|81eb8348a80e8aaa:en_US , The James Brand The Elko\u001b[0m(56.00, 73148)\n",
      "\u001b[1m\u001b[4mcds|O|146753303|US|en|shopify_US_1692936896625_16369011785841 , SawGear by TigerStop on the SawGear store!\u001b[0m(56.00, 50711)\n",
      "\u001b[1m\u001b[4mcds|C|6467954|US|en|26db64482575dca9:en_US , Wusthof 4045-7 Gourmet 4 1/2\" Utility Knife with POM Handle\u001b[0m(56.00, 41128)\n",
      "\u001b[1m\u001b[4mcds|O|6296724|US|en|203787750406 , Led Work Light Work On Dewalt 18/20/60v Li-ion Battery-2800lm W/fast\u001b[0m(56.00, 14078)\n",
      "\u001b[1m\u001b[4mcds|C|6467954|US|en|cc640e0ce4912777:en_US , Spindle Adapter 1.25\"/8 TO 1\"/8\u001b[0m(56.00, 72225)\n",
      "\u001b[1m\u001b[4mcds|C|6467954|US|en|855a0048a79bd8b6:en_US , Mindware Lil' Gardener Tool Set\u001b[0m(55.79, 81473)\n",
      "\u001b[1m\u001b[4mcds|C|6467954|US|en|40c8d318c31389b0:en_US , Chicago-Latrobe 49928 Jobber Drill Set,115 Pc,hss\u001b[0m(55.77, 39286)\n",
      "\u001b[1m\u001b[4mcds|C|6467954|US|en|b56149cefd45c39d:en_US , Klein Tools Rapi-Driv 3/16 in. x 4 in. L Screwdriver 1 pc., Size: 3/16-Inch Tip, 4-Inch Shank, Silver\u001b[0m(55.24, 17970)\n",
      "\u001b[1m\u001b[4mcds|O|451105094|US|en|281279834 , Espresso Coffee Tamper Levler Tool Manual Coffee Needle Distributor Tool, Stainless Needle and Aluminum Alloy Handle - 58mm, Size: 58 mm\u001b[0m(55.19, 58071)\n",
      "\u001b[1m\u001b[4mcds|C|6467954|US|en|a0bcb5b0c7cd11f7:en_US , Haus 12-Piece Garage Organization Kit, Size: 38.98\u001b[0m(55.11, 57772)\n",
      "\u001b[1m\u001b[4mcds|C|6467954|US|en|1839929a8dd906e1:en_US , Fuel-Tool Fuel Sharing System - MC100\u001b[0m(55.10, 93071)\n",
      "\u001b[1m\u001b[4mcds|C|6467954|US|en|9e815c0486033f2a:en_US , Chef'sChoice Hybrid Knife Sharpener - Knife Sharpeners\u001b[0m(55.00, 78508)\n",
      "\u001b[1m\u001b[4mcds|C|6467954|US|en|c14cdc118b2a942f:en_US , Luomorgo 12mm (15/32 inch) Dia Furniture Connecting Cam Fittings 20pcs\u001b[0m(55.00, 3949)\n",
      "\u001b[1m\u001b[4mcds|C|6467954|US|en|35718aec120939b5:en_US , Skilsaw Spt78mmc-22 Outlaw Worm Drive Metal Saw 15a 8\" W/ 42t Diablo\u001b[0m(55.00, 99933)\n",
      "\u001b[1m\u001b[4mcds|C|6467954|US|en|afdfb3146d51f1b5:en_US , Flex 12 Piece Demolition Reciprocating Saw Blade Set FAM20201-12\u001b[0m(55.00, 67873)\n",
      "\u001b[1m\u001b[4mcds|C|6467954|US|en|3cd5fe305a6aa2f6:en_US , Shun Kanso 6 Piece Block Set\u001b[0m(55.00, 77733)\n",
      "\u001b[1m\u001b[4mcds|O|272103330|US|en|733 , High-HP Diamond Concrete Blade 30'' x .160 x 1''DP\u001b[0m(55.00, 21874)\n",
      "\u001b[1m\u001b[4mcds|C|6467954|US|en|326884fd51da0b84:en_US , Lisle 41500 - Pickle Fork Kit, Size: Drake Off Road\u001b[0m(54.90, 61665)\n",
      "\u001b[1m\u001b[4mcds|C|6467954|US|en|76fe6478911b1406:en_US , DEWALT 20-Volt MAX Cordless 3/8 in. Impact Wrench with Hog Ring (Tool-Only) with 20-Volt Starter Kit, 4.0 Ah Battery & Charger\u001b[0m(54.89, 90137)\n",
      "\u001b[1m\u001b[4mcds|C|6467954|US|en|31abb812a890d47a:en_US , Life Saver Pool Fence Drill Guide and Bubble Level for Pool Fence DIY\u001b[0m(54.84, 98671)\n",
      "\u001b[1m\u001b[4mcds|C|6467954|US|en|1591505efedb3f81:en_US , Hog Rings- Box Of 500 For Spring Loaded Pliers\u001b[0m(54.75, 46730)\n",
      "\u001b[1m\u001b[4mcds|C|6467954|US|en|e2d820759952a2ac:en_US , Steel Dragon Tools 13pc. High Speed Steel Hss Annular Cutter Kit 2\"\u001b[0m(54.67, 92129)\n",
      "\u001b[1m\u001b[4mcds|C|6467954|US|en|3647642d0e7eee7c:en_US , VEVOR 2 Axis Digital Readout Ttl Linear Glass Scale Dro Encoder For Milling Lathe\u001b[0m(54.63, 42151)\n",
      "\u001b[1m\u001b[4mcds|C|6467954|US|en|12c5ba10327ee092:en_US , DIY Punch-Needle Kit, Step-by-Step Punch-Needle Embroidery Kit with Pre-Printed Design on Canvas, Wool Yarn, and Punch-Needle Tool by Happy Crafts,\u001b[0m(54.60, 56170)\n",
      "\u001b[1m\u001b[4mcds|C|6467954|US|en|38071ff8dec88c9f:en_US , QWORK Orthodontic Bracket Removing Pliers, Stainless Steel Molar Band Remover, Forceps Dental Surgical Instrument Bracket Tools, Used for Bracket,\u001b[0m(54.53, 94795)\n",
      "\u001b[1m\u001b[4mcds|C|6467954|US|en|d5faf1ed63cc51ba:en_US , Hot Leathers Biker Toothpick Knife - 2\")\u001b[0m(54.48, 90190)\n",
      "\u001b[1m\u001b[4mcds|C|6467954|US|en|e1cdcfb2dcbce96b:en_US , Makita 199710-5 5 in. Clip-On Cut-Off Wheel Guard Cover\u001b[0m(54.35, 40452)\n",
      "\u001b[1m\u001b[4mcds|C|6467954|US|en|dbfd375bd140c8de:en_US , Square Clamp Kit\u001b[0m(54.33, 58270)\n",
      "\u001b[1m\u001b[4mcds|C|6467954|US|en|f338e0438c3f2234:en_US , Makitoyo 3-inch Car Foam Drill Polishing Pad Kit for Car Sanding, Buffing, Polishing, Waxing, Sealing Glaze (18 Pads+2 Drill Adapters+2 Suction Cups\u001b[0m(54.22, 19903)\n",
      "\u001b[1m\u001b[4mcds|C|6467954|US|en|cfba13c2d5d39377:en_US , Keller Dovetail System 135-1500 Journeyman DoveTail Jig\u001b[0m(54.14, 22177)\n",
      "\u001b[1m\u001b[4mcds|O|111545831|US|en|386763 , Craftool Overstitch Wheel System\u001b[0m(54.09, 42975)\n",
      "\u001b[1m\u001b[4mcds|C|6467954|US|en|8aea0262fa2fdae0:en_US , TPC Titanium Pocket Clip CLASSIC\u001b[0m(54.05, 7641)\n",
      "\u001b[1m\u001b[4mcds|C|6467954|US|en|6cfcc2e286f420b7:en_US , Spearpro Teflon Pike Knife - Double Serrated\u001b[0m(54.00, 85419)\n",
      "\u001b[1m\u001b[4mcds|C|6467954|US|en|33237d5a4d0feaa1:en_US , Knipex 13-01-160 6.3\" Electrician's Pliers - Plastic Grip\u001b[0m(54.00, 90398)\n",
      "\u001b[1m\u001b[4mcds|C|6467954|US|en|dddd80b5039af756:en_US , 12012913 - Bosch Dishwasher Door Handle (Silver)\u001b[0m(54.00, 21217)\n",
      "\u001b[1m\u001b[4mcds|C|6467954|US|en|54424c708aaea204:en_US , Freud Sd510 10\" Super Dado Set\u001b[0m(54.00, 66064)\n",
      "\u001b[1m\u001b[4mcds|C|6467954|US|en|ff852b563f0745fb:en_US , Diablo 7-1/4 in. x 24-Teeth Tracking Point Framing Saw Blade - D0724R\u001b[0m(54.00, 8534)\n",
      "\u001b[1m\u001b[4mcds|C|6467954|US|en|11460b0434ce489f:en_US , Viperade Pj16 Leather Sheath For Belt Tool Leather Sheath For Knife Knife Leather Sheath For Men Multitool Sheath For Men Flashlight Holster Edc Pocke\u001b[0m(53.84, 44823)\n",
      "\u001b[1m\u001b[4mcds|C|6467954|US|en|ab1a8f47779dca31:en_US , Stens Flat Idler / Exmark 109-3397\u001b[0m(53.76, 87090)\n",
      "\u001b[1m\u001b[4mcds|C|6467954|US|en|418859a97ec24e56:en_US , Copper Welding Spoon Welders Helper Welding Tool 3 Plate Set\u001b[0m(53.46, 78135)\n",
      "\u001b[1m\u001b[4mcds|O|251192044|US|en|723275443 , Hotwon Professional Easy Glid e Glass Tile Cutter Ceramic Cut One-piece Alloy Tool kit, Black\u001b[0m(53.31, 82900)\n",
      "\u001b[1m\u001b[4mcds|C|6467954|US|en|4fe19b00687804b0:en_US , Router Bits 35 Pcs Set 35 Pieces 1/2 Inch Shank Router Bit Kit.\u001b[0m(53.18, 15120)\n",
      "\u001b[1m\u001b[4mcds|C|6467954|US|en|fe454631c7376f9f:en_US , Milwaukee 49-22-4006 Hole Saw Kit, 9-Piece\u001b[0m(53.00, 98245)\n",
      "\u001b[1m\u001b[4mcds|C|6467954|US|en|7736c4870931d92b:en_US , Synergee Straight Bar Cable Attachment Steel Grip - 12 Inch\u001b[0m(53.00, 59576)\n",
      "\u001b[1m\u001b[4mcds|C|6467954|US|en|95a7faa60b8ef61d:en_US , Manual Coffee Grinder Set, Hand Coffee Mill With Conical Ceramic Burr Two Glass Jars And Soft Brush, Manual Coffee Bean Grinder & Spice Grinder by\u001b[0m(53.00, 83081)\n",
      "\u001b[1m\u001b[4mcds|O|7388148|US|en|B002C4W9XS , Makita 713206-A 28\" Replaceable Sprocket Nose Guide Bar, 3/8\", .050\"\u001b[0m(53.00, 6378)\n",
      "\u001b[1m\u001b[4mcds|O|264787900|US|en|79221800 , Lawn Striping Kit - 60 in.\u001b[0m(53.00, 69212)\n",
      "\u001b[1m\u001b[4mcds|C|6467954|US|en|a66f3343435793e8:en_US , Viking Premium Metal-Free Wheel & Rim Wash Brush | Do it Best\u001b[0m(53.00, 29631)\n",
      "\u001b[1m\u001b[4mcds|C|6467954|US|en|028742ce0e5b4e89:en_US , Oldhickory 7065 Ontario Knife Has Been Manufacturing \"old Hickory\u001b[0m(53.00, 86319)\n",
      "\u001b[1m\u001b[4mcds|C|6467954|US|en|666d10cd1288ce6b:en_US , Proto 000k Spark Plug Gap Gauge Set. Feeler Gage. 8 Blade. Usa $51.95\u001b[0m(52.95, 9124)\n",
      "\u001b[1m\u001b[4mcds|C|6467954|US|en|d7e3093f49bd8f9f:en_US , Protech 54-8223 Headlight Conversion Kit Headlight Conversion Kit\u001b[0m(52.82, 70917)\n",
      "\u001b[1m\u001b[4mcds|O|126358573|US|en|m17933262538 , Native Authentic Native American Scraper Tool - Toys & Collectibles | Color: Black\u001b[0m(52.74, 67638)\n",
      "\u001b[1m\u001b[4mcds|C|6467954|US|en|880c4cf0e7d83526:en_US , Pb Swiss Tools Pb-8125 Swissgrip Coin Driver For Plugs And Plastic\u001b[0m(52.72, 99953)\n",
      "\u001b[1m\u001b[4mcds|C|6467954|US|en|a52bde952d0428f4:en_US , Milwaukee M18 FUEL 18-Volt Lithium-Ion Brushless Cordless QUIK-LOK String Trimmer and Hedge Trimmer Combo Kit (2-Tool)\u001b[0m(52.65, 16755)\n",
      "\u001b[1m\u001b[4mcds|C|6467954|US|en|727fc6787ec5ea91:en_US , Wallboard Tool Co Inc. Mixer Power Adjstbl 2.5In 81-004, Size: EA\u001b[0m(52.46, 40986)\n",
      "\u001b[1m\u001b[4mcds|C|6467954|US|en|06efcce9d6a1ce6c:en_US , Ridgid Band Saw 18 Volt Compact Power Tool Only Portable Cordless\u001b[0m(52.45, 89423)\n",
      "\u001b[1m\u001b[4mcds|O|108028394|US|en|2035 , 2 Ton Advantage FG Series Gantry Crane\u001b[0m(52.10, 51801)\n",
      "\u001b[1m\u001b[4mcds|C|6467954|US|en|f08088a9873022de:en_US , Ryobi 20 in. 40-Volt Single-Stage Brushless Cordless Snow Blower, Bare Tool, (No Retail Packaging) (Renewed)\u001b[0m(52.10, 35251)\n",
      "\u001b[1m\u001b[4mcds|C|6467954|US|en|0fbeb1c137cb7728:en_US , 303-1552 1.6L 1.5L Camshaft Alignment Tool Alt\u001b[0m(52.04, 62084)\n",
      "\u001b[1m\u001b[4mcds|C|6467954|US|en|f227033a98a60c4d:en_US , MasterLon Professional Chef's Knife Damascus Design Stainless Steel Blade, 8\" - Beige\u001b[0m(52.00, 94244)\n",
      "\u001b[1m\u001b[4mcds|C|6467954|US|en|a14127d757165b49:en_US , Samurai Ichiban Pruning Saw 13\" - GC-330-LH\u001b[0m(52.00, 16988)\n",
      "\u001b[1m\u001b[4mcds|O|400171462|US|en|111 , Asuma Chakra Blades 1:1 Replica (Sliver) - 2\u001b[0m(52.00, 17039)\n",
      "\u001b[1m\u001b[4mcds|C|6467954|US|en|2f5c2f5d8cdfd552:en_US , MILWAUKEE SDS Core Bit 3-1/8 in. x 2 in. | 48-20-5235 | Acme Tools\u001b[0m(52.00, 84405)\n",
      "\u001b[1m\u001b[4mcds|O|1042203|US|en|H-2755BLU , Uline Folding Knife - Blue - Qty of 6 - H-2755BLU\u001b[0m(52.00, 66166)\n",
      "\u001b[1m\u001b[4mcds|C|6467954|US|en|a26a3ffc0436bf06:en_US , Stanley Products 31 Piece Torqueplus Combination Wrench Sets, 12 Points, Inch (1 SET/KT)\u001b[0m(51.99, 71442)\n",
      "\u001b[1m\u001b[4mcds|C|6467954|US|en|db0b509942c45a7b:en_US , Kobalt Compact 25-ft Magnetic Auto Lock Tape Measure | KBSL97325\u001b[0m(51.95, 4773)\n",
      "\u001b[1m\u001b[4mcds|C|6467954|US|en|687f184aba097eab:en_US , 1/4 Inch Shank Rabbet Router Bit with 6 Bearings Set, SellyOak Multi Rabbeting Router Bit Set for Multiple Depths (1/8\", 1/4\", 5/16\", 3/8\", 7/16\", 1\u001b[0m(51.89, 10597)\n",
      "\u001b[1m\u001b[4mcds|C|6467954|US|en|d7718fd7b6017806:en_US , Milwaukee 22-18-0126 Carbon Brush\u001b[0m(51.79, 28220)\n",
      "\u001b[1m\u001b[4mcds|C|6467954|US|en|016f618005f9c186:en_US , Yellow Jacket Service Valve/ King Valve HVAC Ratchet Wrench with 3/16\" & 5/16\" Hex Insert by BudgetHeating.Com\u001b[0m(51.56, 69940)\n",
      "\u001b[1m\u001b[4mcds|C|6467954|US|en|0cd97c4f567cec35:en_US , TOOL Lateralus Shirt\u001b[0m(51.51, 98224)\n",
      "\u001b[1m\u001b[4mcds|C|6467954|US|en|ef9d14d906dc997d:en_US , B&C Home Goods Socket Organizers - 6 Piece SAE & Metric Tray Socket Holder - Toolbox Organizers and Storage for ¼, ⅜ and ½ inch Drive Holder for\u001b[0m(51.49, 19526)\n",
      "\u001b[1m\u001b[4mcds|O|242608768|US|en|shopify_US_7649307492589_42603015799021 , Heavy Duty Brushcutter\u001b[0m(51.47, 39276)\n",
      "\u001b[1m\u001b[4mcds|O|124280029|US|en|ZP-CBSH-LCG , Zip's Custom Broom or Shovel Holder - SIZE: Single - 12 & 16 Series FINISH: Painted\u001b[0m(51.21, 90286)\n",
      "\u001b[1m\u001b[4mcds|C|6467954|US|en|8629543aca3a0871:en_US , Woodward Fab Hole Saw Tube/Pipe Notcher - SP-PIPE\u001b[0m(51.12, 28953)\n",
      "\u001b[1m\u001b[4mcds|O|6296724|US|en|454380476719_154294939572 , Snap On 18v Nicad Tool To M18 Lithium Battery Adapter\u001b[0m(51.07, 45347)\n",
      "\u001b[1m\u001b[4mcds|C|6467954|US|en|12d3056fa3006933:en_US , Fisch 5-Piece Wave Cutter Forstner Bit Set\u001b[0m(51.00, 61465)\n",
      "\u001b[1m\u001b[4mcds|C|6467954|US|en|9a56d858ddf36365:en_US , VEVOR Dry Core Drill Bit, 3\" / 76.2mm Diameter 5/8\"-11 Threaded, 9.5\" / 241.3 mm Depth Diamond Coring Bore Tool with a Pilot Bit & 4.5\" Blade,\u001b[0m(51.00, 13994)\n",
      "\u001b[1m\u001b[4mcds|C|6467954|US|en|df523ca2b34665d4:en_US , Bahco, LAP-KNIFE, Set of Folding Saw & Multipurpose Knife\u001b[0m(51.00, 61175)\n",
      "\u001b[1m\u001b[4mcds|C|6467954|US|en|5870c822e32de4f6:en_US , Sentinel | 22 mm Scoring Wheel, 7/8 inch, Grey - Floor & Decor\u001b[0m(51.00, 23021)\n",
      "\u001b[1m\u001b[4mcds|O|108064316|US|en|174775660758 , Snap-on Ya204 Mig Welder\u001b[0m(51.00, 46496)\n",
      "\u001b[1m\u001b[4mcds|C|6467954|US|en|b926cfac368b4b78:en_US , Bosch 1-7/8-in Carbide-Tipped Tongue and Groove Router Bit | 84623M\u001b[0m(51.00, 21338)\n",
      "\u001b[1m\u001b[4mcds|C|6467954|US|en|1293b97eae49f8d5:en_US , Ridgid Cutter Cutting Wheel - Use w/ 101, 103/104, 105/150/150L, 131/151, 132/152, 153, 205, Cuts Aluminum, Copper | Part #33185\u001b[0m(50.92, 36069)\n",
      "\u001b[1m\u001b[4mcds|O|110144165|US|en|NF629065 , Professional Locksmith Practice Lock Pick Beginner Broken Key Extractor Set\u001b[0m(50.67, 60645)\n",
      "\u001b[1m\u001b[4mcds|O|113665998|US|en|shopify_US_6622661083322_39552692682938 , The Charles Waxed Canvas Apron by Sturdy Brothers | Sturdy Brothers\u001b[0m(50.51, 51323)\n",
      "\u001b[1m\u001b[4mcds|C|6467954|US|en|39b44157c8261c5a:en_US , Jiayouy Adjustable Guitar Nut & Bridge Sander Luthier Tool For\u001b[0m(50.48, 51438)\n",
      "\u001b[1m\u001b[4mcds|C|6467954|US|en|fe151f9cc67ee745:en_US , Ames 4 in. Scraper/Chopper\u001b[0m(50.38, 26863)\n",
      "\u001b[1m\u001b[4mcds|C|6467954|US|en|de47b91d75159faa:en_US , Cut Resistant Gloves Stainless Steel Wire Metal Mesh Butcher Safety Work Gloves for Cutting,Slicing Chopping and Peeling, Adult Unisex, Size: XL,\u001b[0m(50.26, 28302)\n",
      "\u001b[1m\u001b[4mcds|C|6467954|US|en|96ef8f1e900ceba2:en_US , Climax Metal Products M-23\u001b[0m(50.26, 26821)\n",
      "\u001b[1m\u001b[4mcds|C|6467954|US|en|f9bb065e468397b6:en_US , Milwaukee GridIron Snapback Black Trucker Hat | Do it Best\u001b[0m(50.11, 63494)\n",
      "\u001b[1m\u001b[4mcds|C|6467954|US|en|65a8598b8c052688:en_US , Ingersoll Rand 2115TIMAX 3/8 -In Drive Titanium Impact Wrench - 300 Ft -Lbs Max Torque\u001b[0m(50.00, 36870)\n",
      "\u001b[1m\u001b[4mcds|C|6467954|US|en|5d5a70afe384fa89:en_US , Milwaukee Work Gloves Model: 48-22-8733\u001b[0m(50.00, 82594)\n",
      "\u001b[1m\u001b[4mcds|C|6467954|US|en|e71ee41d6f7b0fb0:en_US , Cuisinart Stainless Steel 2pc Utility Knife Set\u001b[0m(50.00, 82972)\n",
      "\u001b[1m\u001b[4mcds|C|6467954|US|en|554bc5b1f0ce9e76:en_US , Richelieu Black Magnetic Catch\u001b[0m(50.00, 28238)\n",
      "\u001b[1m\u001b[4mcds|C|6467954|US|en|5dec447b3498b47b:en_US , Mehaz Professional Angled Toenail Clipper 664\u001b[0m(50.00, 87323)\n",
      "\u001b[1m\u001b[4mcds|O|144646454|US|en|86N4020 , Kreg Precision Trak & Stop System\u001b[0m(50.00, 31806)\n",
      "\u001b[1m\u001b[4mcds|C|6467954|US|en|d7ec11eae957c43d:en_US , 12 Inches Planer Blades Knives HSS Replacement for Model Makita 2012 and 2012NB Thickness Planer Heat Treated Double edge- Set of 2\u001b[0m(50.00, 23969)\n",
      "\u001b[1m\u001b[4mcds|C|6467954|US|en|d805df33db10af9b:en_US , Legrand-Cablofil 942616\u001b[0m(50.00, 39950)\n",
      "\u001b[1m\u001b[4mcds|O|254556727|US|en|899529646 , 4 Types Kitchen Knife,Stainless Steel Chopping Chef Cleaver Slicing Knife,8 Inch Chinese Chef's Knife, Size: B\u001b[0m(50.00, 83249)\n",
      "\u001b[1m\u001b[4mcds|O|8223710|US|en|95307 , Palmero X-Ray Apron Hanger 15\" x 2\". White-coated steel hanger for use with our adult & child - 28-MP95307\u001b[0m(49.87, 44380)\n",
      "\u001b[1m\u001b[4mcds|C|6467954|US|en|f2c66d2a25112ceb:en_US , Performance Tool W80006 6pc Pro Stardriver Set w/Rack, Size: Stardriver Set w/Rack (6pc)\u001b[0m(49.78, 49067)\n",
      "\u001b[1m\u001b[4mcds|C|6467954|US|en|d31cfc41b44924ec:en_US , Makita IMPACT XPS 12 in. Magnetic Insert Bit Holder\u001b[0m(49.66, 21633)\n",
      "\u001b[1m\u001b[4mcds|C|6467954|US|en|9c8e39af786af077:en_US , TACKLIFE Cordless Screwdriver Electric Rechargeable Screwdriver - SDP50DC\u001b[0m(49.41, 5886)\n",
      "\u001b[1m\u001b[4mcds|C|6467954|US|en|21b53d3b94fea4a2:en_US , Marshalltown 6-in Smooth Carpet Seam Roller | SSR6-L\u001b[0m(49.33, 9084)\n",
      "\u001b[1m\u001b[4mcds|O|6084472|US|en|BSH-1619X01769 , Skil Wrench #BSH-1619X01769\u001b[0m(49.24, 70661)\n",
      "\u001b[1m\u001b[4mcds|C|6467954|US|en|38cb5fa1054c968e:en_US , Mini-Bench Scraper\u001b[0m(49.09, 73627)\n",
      "\u001b[1m\u001b[4mcds|C|6467954|US|en|b90144130d1a546d:en_US , Proto Jscvm36 Combo Wrench,steel,metric,15 Deg.\u001b[0m(49.00, 33502)\n",
      "\u001b[1m\u001b[4mcds|C|6467954|US|en|5392a686eff8f07c:en_US , Automatic Programmable Electric Paper Cutter Max. Cutting Width 17.7′′ 520mm\u001b[0m(49.00, 16046)\n",
      "\u001b[1m\u001b[4mcds|O|3886946|US|en|10-3000-07 , Dyson Vacuum DCO7 DC14 Clutch Assembly Replacement\u001b[0m(49.00, 97543)\n",
      "\u001b[1m\u001b[4mcds|C|6467954|US|en|9cf0f98f9bd2380f:en_US , Viking #50130 Hi-Carbon Tap & Hex Die Set, UNC-UNF (40 Piece)\u001b[0m(49.00, 79609)\n",
      "\u001b[1m\u001b[4mcds|C|6467954|US|en|c109e99f551cf2ba:en_US , Trailer Valet Trailer Valet XL or JX Replacement Hand Crank | TVXLHC\u001b[0m(49.00, 15743)\n",
      "\u001b[1m\u001b[4mcds|O|123127721|US|en|773002313 , Knife Making Blade Blank The \"Lamotta \" Fixed Blade Skinner Blade\u001b[0m(49.00, 22033)\n",
      "\u001b[1m\u001b[4mcds|C|6467954|US|en|48999340cdee906f:en_US , 4lifetimelines 7/16 inch SAE Ratcheting Open End Line Wrench\u001b[0m(49.00, 56008)\n",
      "\u001b[1m\u001b[4mcds|C|6467954|US|en|43d8052dc4eea1d9:en_US , LA Police Gear Expandable Baton Holder\u001b[0m(48.48, 36612)\n",
      "\u001b[1m\u001b[4mcds|C|6467954|US|en|11c729efb92a46e4:en_US , Bohning Crester by 3Rivers Archery\u001b[0m(48.33, 31930)\n",
      "\u001b[1m\u001b[4mcds|C|6467954|US|en|3ea6e0dd8b80e2c1:en_US , 25C990 Graco Grease Metering Pump\u001b[0m(48.24, 45875)\n",
      "\u001b[1m\u001b[4mcds|C|6467954|US|en|fd6a92836e380606:en_US , Williams Ws-1108Sp Mini Open End Wrench Set,plier,8 Pcs.\u001b[0m(48.13, 20223)\n",
      "\u001b[1m\u001b[4mcds|C|6467954|US|en|903a3f904e5adb8a:en_US , Genuine Milwaukee 48-59-2401 M12 12v Lithium Ion Battery Charger\u001b[0m(48.00, 46447)\n",
      "\u001b[1m\u001b[4mcds|C|6467954|US|en|ba9fb2c80810b8ed:en_US , Slime 22 Piece Tire Repair Kit\u001b[0m(48.00, 98368)\n",
      "\u001b[1m\u001b[4mcds|C|6467954|US|en|ba67ead731cf3b83:en_US , Rev-A-Shelf Child Proof Cabinet Locking System Replacement Magnetic Key\u001b[0m(48.00, 28991)\n",
      "\u001b[1m\u001b[4mcds|C|6467954|US|en|c66490e57131a1d4:en_US , Dewalt Dw1605 Aircraft Black Oxide,drill Bit,3/16\"x6\u001b[0m(48.00, 79305)\n",
      "\u001b[1m\u001b[4mcds|C|6467954|US|en|189144ede5362669:en_US , 14.4v-18v Li-ion Battery Fast Charger For Bosch Charger Al1820cv\u001b[0m(48.00, 51165)\n",
      "\u001b[1m\u001b[4mcds|C|6467954|US|en|d52188ee9985cc19:en_US , Jegs 81542 Tig 200 Welder Single Phase 220v Dc\u001b[0m(48.00, 13972)\n",
      "\u001b[1m\u001b[4mcds|O|7077239|US|en|shopify_US_4363544985678_31208390393934 , Benchmark Abrasives 14\" x 1/8\" (5/32\") x 20MM T1 High Speed Gas Saw Wheel | 10 Pack | Aluminum Oxide\u001b[0m(48.00, 66399)\n",
      "\u001b[1m\u001b[4mcds|C|6467954|US|en|b177050e4517c093:en_US , Victorinox Tinker Small - One size - USA\u001b[0m(48.00, 38556)\n",
      "\u001b[1m\u001b[4mcds|C|6467954|US|en|16273258895fc2b8:en_US , Victorinox 5.6616.15-X1 6\" Narrow Flexible Curved Boning Knife with Rosewood Handle\u001b[0m(48.00, 40312)\n",
      "\u001b[1m\u001b[4mcds|C|6467954|US|en|a53d922d0270ffae:en_US , Cangshan 1026108 3-Stage Adjustable 14-24 Degree Professional Knife + Scissor Sharpener\u001b[0m(48.00, 51677)\n",
      "\u001b[1m\u001b[4mcds|C|6467954|US|en|68b92432813b3cb6:en_US , Delta 60 Diamond Plate Aluminum Full Size Chest Truck Tool Box\u001b[0m(48.00, 37516)\n",
      "\u001b[1m\u001b[4mcds|C|6467954|US|en|a20dd0a8959814ec:en_US , Martin Wheel Bearing Repair Kit for 1-3/8 in. to 1-1/16 in. Inner/Outer Axles, BK-6\u001b[0m(47.00, 82210)\n",
      "\u001b[1m\u001b[4mcds|C|6467954|US|en|76d1093626a11a1d:en_US , GearWrench 82734 8 PC COMBINATIONINATION SOLID HANDLE SCREWDRIVER SET\u001b[0m(47.00, 56483)\n",
      "\u001b[1m\u001b[4mcds|C|6467954|US|en|5c0c9a5c85a02175:en_US , Winco KFP-35 - Acero Paring Knife, 3-1/2\" Blade, Triple Riveted\u001b[0m(47.00, 50754)\n",
      "\u001b[1m\u001b[4mcds|C|6467954|US|en|20ac997262b42748:en_US , DeWALT 3.7 RHP 60 Gallon 175 PSI Stationary Single Stage Air Compressor\u001b[0m(47.00, 46485)\n",
      "\u001b[1m\u001b[4mcds|C|6467954|US|en|9afdcdc99fe83674:en_US , LAB SUPER-COMPACT Mini Universal Rekeying Kit .003 (LMK003) | American Key Supply\u001b[0m(47.00, 87841)\n",
      "\u001b[1m\u001b[4mcds|C|6467954|US|en|abdf2120974c0a15:en_US , Milwaukee 48-59-1840pg M18 Redlithium Xc4.0 System Starter Kit Brand\u001b[0m(47.00, 94798)\n",
      "\u001b[1m\u001b[4mcds|C|6467954|US|en|0cb2eeefe95528ca:en_US , Halex 51062 4-1/0 Wedge Clamp Connector\u001b[0m(47.00, 37266)\n",
      "\u001b[1m\u001b[4mcds|C|6467954|US|en|5762011a0de1352e:en_US , Handheld Welder Gun Portable Welding Machine,Small Home Automatic Digital Welding Machine Kit\u001b[0m(47.00, 29091)\n",
      "\u001b[1m\u001b[4mcds|O|523572128|US|en|53303 , DeWalt 15 amps Corded 8-1/4 in. Compact Table Saw - Case Of: 1;\u001b[0m(47.00, 97776)\n",
      "\u001b[1m\u001b[4mcds|C|6467954|US|en|4ff57b114d98dd7f:en_US , Arteza Palette Knife, Size No. 2, Durable Flexible Stainless-Steel Blade & Break-Resistant Wooden Handle, Art Supplies for Oil and Acrylic Painting\u001b[0m(47.00, 55224)\n",
      "\u001b[1m\u001b[4mcds|C|6467954|US|en|51ce0751c5397226:en_US , Wilmar Performance Tool Wilmar W377b 1-7/16-Inch Jumbo Wrench, Size: Size: 1-7/16 inch Jumbo Wrench\u001b[0m(47.00, 10982)\n",
      "\u001b[1m\u001b[4mcds|C|6467954|US|en|05c9c2f5264d4b27:en_US , Upgraded For 21.6V Dyson V6 Battery Replacement 4.0Ah | Li-ion Battery For Dyson DC59 Animal SV04 Series\u001b[0m(47.00, 85849)\n",
      "\u001b[1m\u001b[4mcds|C|6467954|US|en|e1dcb8245049cc12:en_US , PCBite kit with 4x SP10 probes and test wires | Third Hand Tool | Rework Station | Helping Hands Soldering | Circuit Board Soldering Kit\u001b[0m(46.98, 62496)\n",
      "\u001b[1m\u001b[4mcds|C|6467954|US|en|30aee50cc0f212f8:en_US , Makita B-60545 Impact Gold T25 Torx 2′′ Power Bit, 15/Pk\u001b[0m(46.00, 41406)\n",
      "\u001b[1m\u001b[4mcds|O|520628258|US|en|42676 , ASJMREYE 3 in 1 TIG MMA CUT Welders Inverter Welding Machine 120A TIG/ MMA 30A Plasma Cutter Portable Multifunction Welding Equipment 220V\u001b[0m(46.00, 95259)\n",
      "\u001b[1m\u001b[4mcds|C|6467954|US|en|3ba47cc22bdd45f7:en_US , Broom Strongest 80% Heavier Duty - Outdoor Broom Indoor Broom, Angle Broom with Extendable Broomstick for Easy Sweeping - Easy Assembly & Durable,\u001b[0m(46.00, 47949)\n",
      "\u001b[1m\u001b[4mcds|C|6467954|US|en|30b793b2b6b7fc04:en_US , Forrest 10\" Blade Runner Carrying Case.\u001b[0m(46.00, 11135)\n",
      "\u001b[1m\u001b[4mcds|C|6467954|US|en|bdc8d8a138d0aef5:en_US , VEVOR Dry Core Drill Bit, 3.5\" / 88.9 mm Diameter 5/8\"-11 Threaded, 9.5\" / 241.3mm Depth Diamond Coring Bore Tool with a Pilot Bit & 4.5\" Blade,\u001b[0m(46.00, 13606)\n",
      "\u001b[1m\u001b[4mcds|C|6467954|US|en|fcf06d0398ee269d:en_US , Milwaukee 4-1/2 in. x 1/8 in. x 7/8 in. Grinding Wheel (Type 27)\u001b[0m(46.00, 77901)\n",
      "\u001b[1m\u001b[4mcds|C|6467954|US|en|4b9509cba2102d47:en_US , ZWILLING Pro 20-pc Knife Block Set\u001b[0m(46.00, 7789)\n",
      "\u001b[1m\u001b[4mcds|C|6467954|US|en|9d021e94537ccc33:en_US , Everbilt 231-Piece per Pack Screw Assortment Kit\u001b[0m(46.00, 91492)\n",
      "\u001b[1m\u001b[4mcds|C|6467954|US|en|7da5797d402f581a:en_US , CRAFTSMAN 61.5-in x 20-in x 13-in Matte Black Aluminum Crossover Truck Tool Box Rubber | CMXTBAD73217204\u001b[0m(46.00, 65378)\n",
      "\u001b[1m\u001b[4mcds|C|6467954|US|en|4bcfccb3876b0958:en_US , Milwaukee 48-22-8901 Medium Cut Level 1 Nitrile Dipped Gloves\u001b[0m(46.00, 69433)\n",
      "\u001b[1m\u001b[4mcds|C|6467954|US|en|d267bee0ab5ac404:en_US , Ridgid Cj80p 8 In. Premium Tile Diamond Blade\u001b[0m(45.00, 77611)\n",
      "\u001b[1m\u001b[4mcds|C|6467954|US|en|130e9fd3191df9a5:en_US , Tough Guy Angle Broom: Plastic, 12 in Sweep Face, 46-3/4 in Broom Handle Lg, Acme Thread, Yellow Model: 1VAC5\u001b[0m(45.00, 68655)\n",
      "\u001b[1m\u001b[4mcds|C|6467954|US|en|f0d3b33e10496c3e:en_US , Palmgren Lathe Machine Parts; Product Type: Steady Rest ; Machine Compatibility: 9684504 9 x 20 Lathe | Part #9684507\u001b[0m(45.00, 99298)\n",
      "\u001b[1m\u001b[4mcds|C|6467954|US|en|5ce646dd0dc73f7a:en_US , Meat Cleaver, 7\"Chinese Chef’s Knife Vegetable Cleaver German High Carbon Stainless Steel Kitchen Knife With Ergonomic Handle for Cooking (Meat\u001b[0m(45.00, 56475)\n",
      "\u001b[1m\u001b[4mcds|C|6467954|US|en|78faaa76966f99f0:en_US , DeWalt High Speed Steel SAE Drill and Tap Bit 10-32 UNF 1 each\u001b[0m(45.00, 56600)\n",
      "\u001b[1m\u001b[4mcds|C|6467954|US|en|1645c0c202205586:en_US , Victorinox Swiss Army 10 1/4\" Bread Knife Black/stainless Steel\u001b[0m(45.00, 54452)\n",
      "\u001b[1m\u001b[4mcds|C|6467954|US|en|22a27571dc55a327:en_US , DEWALT Portable Band Saw, Deep Cut, 10 Amp, 5-Inch (DWM120)\u001b[0m(44.00, 7914)\n",
      "\u001b[1m\u001b[4mcds|O|101723803|US|en|254522999638 , (2) Pack Craftsman 134149 138971 138498 127843 42\" Mower Deck Blades\u001b[0m(44.00, 55298)\n",
      "\u001b[1m\u001b[4mcds|C|6467954|US|en|6b8af42b2213bab4:en_US , Truper 31213 Tru Built Round Point Shovel Long Fiberglass Handle\u001b[0m(44.00, 40543)\n",
      "\u001b[1m\u001b[4mcds|C|6467954|US|en|8c81409747116758:en_US , Woodward Fab HECSP3-1-3 - 30\" 3 IN 1 MACHINE SHEAR BRAKE ROLL\u001b[0m(44.00, 83588)\n",
      "\u001b[1m\u001b[4mcds|C|6467954|US|en|0651b484dc75f290:en_US , 1/2' Drive 10 Piece Metric\u001b[0m(44.00, 36641)\n",
      "\u001b[1m\u001b[4mcds|O|89681|US|en|E5ADCCC6DD77ABD07856228A3C636610DEC45219 , Lavex Industrial Main Brush for 7.9 Gallon Sweeper\u001b[0m(44.00, 68811)\n",
      "\u001b[1m\u001b[4mcds|C|6467954|US|en|7eea5ac5be3a9c26:en_US , Podiatrist Toenail Clippers Ingrown or Thick Toe Nail Clippers for Men, Toenail Cutters Nipper Precision Diabetic Pedicure Tool Curved Edge, opove\u001b[0m(44.00, 56847)\n",
      "\u001b[1m\u001b[4mcds|C|6467954|US|en|6817f657e5e286b8:en_US , 1 Morse Taper Live Tail Center\u001b[0m(44.00, 27957)\n",
      "\u001b[1m\u001b[4mcds|O|305465528|US|en|shopify_US_6652150972602_39689867100346 , Multi-function Circular Saw US PLUG\u001b[0m(43.00, 11001)\n",
      "\u001b[1m\u001b[4mcds|O|10023812|US|en|720933 , AC110V/220V 3000W Handheld Portable Electric Arc Welding Machine Automatic Digital Intelligent Welding Machine Current Adjustment for 2~14mm Welding T\u001b[0m(43.00, 40815)\n",
      "\u001b[1m\u001b[4mcds|O|89681|US|en|693GSGS12 , Choice 12\" Granton Edge Slicing Knife with White Handle\u001b[0m(43.00, 34252)\n",
      "\u001b[1m\u001b[4mcds|C|6467954|US|en|24cfe57927c74ba0:en_US , Martin Tool and Forge 171g Compact Dinging Hammer Hickory Wood Handle Faces: 1 9, Size: 16 in\u001b[0m(43.00, 19827)\n",
      "\u001b[1m\u001b[4mcds|O|525361604|US|en|17982 , Jet J-41002 2 x 42 Bench Belt and Disc Sander 577004\u001b[0m(43.00, 61166)\n",
      "\u001b[1m\u001b[4mcds|C|6467954|US|en|eff65bc1d3ed1b56:en_US , Fastenmaster Fmspider3-2Pk Spider Driver Bit 2\" 2Pk\u001b[0m(43.00, 39975)\n",
      "\u001b[1m\u001b[4mcds|C|6467954|US|en|f2cf11dd3fbbf64c:en_US , Bessey Bar Clamp: Sliding Arm, 18 in Opening (In.), 2 1/2 in Throat Dp (In.) Model: TGJ2.518+2K\u001b[0m(43.00, 57993)\n",
      "\u001b[1m\u001b[4mcds|C|6467954|US|en|752ccf7149678000:en_US , H.K. Porter 24 in. General Purpose Center Cut Bolt Cutter\u001b[0m(43.00, 46489)\n",
      "\u001b[1m\u001b[4mcds|C|6467954|US|en|7a7fc1ce746418fe:en_US , Buyers 1702703 Single Drop Door Underbody Tool Box with Die Cast Compression Latch\u001b[0m(43.00, 1605)\n",
      "\u001b[1m\u001b[4mcds|C|6467954|US|en|b4bd61762b701e78:en_US , 041A4885-4 Belt Drive Gear and Sprocket Kit\u001b[0m(43.00, 23555)\n",
      "\u001b[1m\u001b[4mcds|C|6467954|US|en|948c522be652e652:en_US , Neat Attachments 6' x 5' 6\" Pasture Drag Chain Harrow - 1/2\" Dia - Overall 8-1/2 Ft. Long\u001b[0m(43.00, 24603)\n",
      "\u001b[1m\u001b[4mcds|C|6467954|US|en|4348b3ea2541ebc3:en_US , Safety Speed H6 Panel Saw,horizontal, Vertical,5800 Rpm\u001b[0m(43.00, 91321)\n",
      "\u001b[1m\u001b[4mcds|C|6467954|US|en|bfc25e0b87bdfa65:en_US , Bosch 56-7/8-in L x 1/4-in W x 6-TPI Carbon Fits Most Band Saws Blade | BS5678-6W\u001b[0m(43.00, 10576)\n",
      "\u001b[1m\u001b[4mcds|C|6467954|US|en|765721fec31af1cf:en_US , Ka-bar 1248 16 1/4 Inch Machete Cutlass with Black Kraton-G Handle\u001b[0m(43.00, 58266)\n",
      "\u001b[1m\u001b[4mcds|C|6467954|US|en|608e5bc799999ab5:en_US , GENESIS 4 in. x 36 in. Belt and 6 in. Disc Combination Sander\u001b[0m(43.00, 96940)\n",
      "\u001b[1m\u001b[4mcds|C|6467954|US|en|f6c4d560996af0db:en_US , Well & Good Wooden Dog Grooming Rake - each\u001b[0m(43.00, 87988)\n",
      "\u001b[1m\u001b[4mcds|C|6467954|US|en|2a88696dc3e10c5b:en_US , Milwaukee Tool Socket Adapters & Universal Joints; Type: Universal Joint ; Male Size: 3/4 ; Female Size: 3/4 | Part #49-66-6730\u001b[0m(42.00, 27783)\n",
      "\u001b[1m\u001b[4mcds|C|6467954|US|en|bbf94fb777055ddc:en_US , Klutch 11 1/4Inch Flex Head Ratchet — 3/8Inch Drive\u001b[0m(42.00, 33398)\n",
      "\u001b[1m\u001b[4mcds|C|6467954|US|en|ad437b93bd5f8029:en_US , OZ Lifting 1/2 Ton, Electric Wire Rope Hoist, 90' Lift, 37 FPM, 115V\u001b[0m(42.00, 86298)\n",
      "\u001b[1m\u001b[4mcds|C|6467954|US|en|934c2238b46b6e5c:en_US , DEWALT Welding 36-in W x 33-in H Adjustable Steel Saw Horse (1100-lb Capacity) | DXMF3603WSH\u001b[0m(42.00, 6451)\n",
      "\u001b[1m\u001b[4mcds|O|133111015|US|en|shopify_US_6648507596988_39578303496380 , Dewar's 21 Year Double Double Aged Blended Scotch Whisky 375ml\u001b[0m(42.00, 16723)\n",
      "\u001b[1m\u001b[4mcds|O|114193152|US|en|B0159VIZ24 , 100 Sets Silver Tone Magnetic Purse Snap Clasps/Closure Purse Handbag 14mm\u001b[0m(42.00, 60000)\n",
      "\u001b[1m\u001b[4mcds|O|117145237|US|en|woocommerce_gpf_2980 , Chain Roller Bearing Kit fits Forward Lift 120K06 Overhead Beam Top Rail 4′′ - Car Lift Parts\u001b[0m(42.00, 12026)\n",
      "\u001b[1m\u001b[4mcds|C|6467954|US|en|f65e7fe18dc767a9:en_US , Abn 7/16 IN Impact Nut Driver Bits Extended Magnetic Sockets, 1/4 IN Shank\u001b[0m(42.00, 27240)\n",
      "\u001b[1m\u001b[4mcds|C|6467954|US|en|6afc142a56c51965:en_US , OEMTOOLS 22105 1-5/16\" Jumbo Combination Wrench\u001b[0m(42.00, 64161)\n",
      "\u001b[1m\u001b[4mcds|C|6467954|US|en|1a9b0302348d51b9:en_US , Cuisinart C77SS-15PK 15-piece Hollow Handle Block Set, Stainless Steel/Black\u001b[0m(41.00, 2839)\n",
      "\u001b[1m\u001b[4mcds|C|6467954|US|en|07c7d7cc30f9c46c:en_US , Joliday Leather Hole Puncher Hand Punching Machine Manual Press Puncher Punch Tools for DIY Leather Craft Punching Holes with 1.5-13mm Clamping Chuck\u001b[0m(41.00, 95027)\n",
      "\u001b[1m\u001b[4mcds|C|6467954|US|en|8b9748477fd68996:en_US , Yonico Biscuit Joint Slot Cutter #20 1/4 in. Shank Carbide Tipped Router Bit\u001b[0m(41.00, 3112)\n",
      "\u001b[1m\u001b[4mcds|C|6467954|US|en|4f154de87d64025d:en_US , DeWALT Circular Saw Shoe Assembly | N132583\u001b[0m(41.00, 89242)\n",
      "\u001b[1m\u001b[4mcds|C|6467954|US|en|601950b4e91edb2c:en_US , Hammer Stahl Fillet Knife - 7 inch, Silver\u001b[0m(41.00, 16923)\n",
      "\u001b[1m\u001b[4mcds|O|6084472|US|en|MK-423142-7 , Makita Sponge Rubber, BO4550 #MK-423142-7\u001b[0m(41.00, 91218)\n",
      "\u001b[1m\u001b[4mcds|O|1872034|US|en|FB8076 , Ford Bronco Mr Heater Dewalt Forced Air Kerosene Heater; 135,000 BTU F340680\u001b[0m(41.00, 86532)\n",
      "\u001b[1m\u001b[4mcds|C|6467954|US|en|e494dbed3ed815ef:en_US , King Kutter 7 Foot Professional Rear Blade RB 84 QAT\u001b[0m(41.00, 89868)\n",
      "\u001b[1m\u001b[4mcds|C|6467954|US|en|6bdb8a45c553d7ef:en_US , Timberline 604-770 Spade Bit Extension 12 Long x 1/4 Inch SHK\u001b[0m(41.00, 23141)\n",
      "\u001b[1m\u001b[4mcds|C|6467954|US|en|25740cb83e516b83:en_US , Dico Products 7600076 Arbor Adptr 1/2\"x1/4\"hex\u001b[0m(41.00, 25351)\n",
      "\u001b[1m\u001b[4mcds|O|128553809|US|en|shopify_US_6936725553319_40800464076967 , 2021 New Electric Automatic Nail Clipper Cutter Trimmer Nail Cutter Manicure Pedicure Clipper Nail Trimmer Scissors Infant Grooming Tools, Red\u001b[0m(41.00, 40057)\n",
      "\u001b[1m\u001b[4mcds|O|125097438|US|en|shopify_US_4510147051587_31905497317443 , Kevlar Stitched Stick Welding Gloves L\u001b[0m(41.00, 23412)\n",
      "\u001b[1m\u001b[4mcds|O|101683057|US|en|302680909282 , Auto Crane 492000003, Hc-6 Hydraulic Crane, 6,000 Lbs., Nexstar, 370°\u001b[0m(41.00, 57910)\n",
      "\u001b[1m\u001b[4mcds|C|6467954|US|en|111e486e1dd1fb03:en_US , Ariat Feather Leather Knife Sheath\u001b[0m(41.00, 52880)\n",
      "\u001b[1m\u001b[4mcds|C|6467954|US|en|d2b5acff42f7fa34:en_US , Victorinox Fibrox Pro 3-piece Knife Set\u001b[0m(41.00, 27871)\n",
      "\u001b[1m\u001b[4mcds|O|100618350|US|en|804739 , Haugen MTJ 2 - 2” Quick Attach Truss Jib, 10000 lbs Capacity\u001b[0m(41.00, 27390)\n",
      "\u001b[1m\u001b[4mcds|C|6467954|US|en|905b89e5e42dc234:en_US , Proto J1183-A Box End Wrench,6-13/16\" L\u001b[0m(41.00, 18502)\n",
      "\u001b[1m\u001b[4mcds|O|8858144|US|en|shopify_US_278297739304_2939548139560 , Covington Bench-Mounted Wet Belt Sander - #466\u001b[0m(41.00, 57940)\n",
      "\u001b[1m\u001b[4mcds|C|6467954|US|en|0f35b28709d2c206:en_US , Milwaukee-2707-20 M18 Fuel Hole Hawg Right Angle Drill with 1/2In Keyed Chuck (Bare Tool), White\u001b[0m(40.00, 85705)\n",
      "\u001b[1m\u001b[4mcds|C|6467954|US|en|b298352fdc9e9182:en_US , Farberware 14 Piece Edge Keeper set With Built in Sharpener - each\u001b[0m(40.00, 84869)\n",
      "\u001b[1m\u001b[4mcds|C|6467954|US|en|407a931abdb90a79:en_US , HellermannTyton 181-00185\u001b[0m(40.00, 30820)\n",
      "\u001b[1m\u001b[4mcds|O|1909981|US|en|DEEDZ92656SB , Dee Zee Tool Box and 111 Gallon Transfer Tank Combo (Black Steel) - DZ92656SB\u001b[0m(40.00, 5115)\n",
      "\u001b[1m\u001b[4mcds|C|6467954|US|en|0891c18c7de4486c:en_US , ECHO PAS Articulating Hedge Trimmer Attachment\u001b[0m(40.00, 931)\n",
      "\u001b[1m\u001b[4mcds|C|6467954|US|en|322ffd553079c8ce:en_US , Zoro Select Cs-Bwm014 Replacement Grinding Wheel,for Cs-Bwm\u001b[0m(40.00, 66231)\n",
      "\u001b[1m\u001b[4mcds|C|6467954|US|en|fe3ef39a507ac670:en_US , Wesco Single Adjustable Drum Grab 240148 for Poly Drum\u001b[0m(40.00, 30546)\n",
      "\u001b[1m\u001b[4mcds|C|6467954|US|en|77887225b8ae4c0c:en_US , Grinder for Spices and More 2.0 Inch\u001b[0m(39.00, 89119)\n",
      "\u001b[1m\u001b[4mcds|C|6467954|US|en|7b7ef54c89d0f2e6:en_US , Greaves Gbc40-4 #4/0-4Awg I-Beam Clamp\u001b[0m(39.00, 8420)\n",
      "\u001b[1m\u001b[4mcds|C|6467954|US|en|6ba7c28a58237998:en_US , Drill-Out Bolt Extractor, 5/16 or 8mm\u001b[0m(39.00, 29783)\n",
      "\u001b[1m\u001b[4mcds|C|6467954|US|en|0f8fc78d744f8e70:en_US , Chicago Pneumatic CPTCA149747 REPAIR KIT 772H\u001b[0m(39.00, 10435)\n",
      "\u001b[1m\u001b[4mcds|O|108116277|US|en|324138447292 , 10x Micro Usb Magnetic Tips Cable Connector For Cellphone Headset\u001b[0m(39.00, 31362)\n",
      "\u001b[1m\u001b[4mcds|C|6467954|US|en|20bb36843744bf52:en_US , Roller Stand | 500-Pound Capacity | Ultimation\u001b[0m(39.00, 29768)\n",
      "\u001b[1m\u001b[4mcds|O|251861650|US|en|shopify_US_7244007080087_41276768125079 , WÜSTHOF 3-Piece Plum Handle Charcuterie Set\u001b[0m(39.00, 14251)\n",
      "\u001b[1m\u001b[4mcds|O|6084472|US|en|MK-456587-4 , Makita Extension Attachment, black, XLC02ZB #MK-456587-4\u001b[0m(39.00, 68642)\n",
      "\u001b[1m\u001b[4mcds|C|6467954|US|en|5cb99e67f2f0cc45:en_US , Mora Kansbol Green Or Burnt Orange 12634 & 13505 Burnt Orange | Kitchen Knives From Ragweed Forge\u001b[0m(39.00, 66699)\n",
      "\u001b[1m\u001b[4mcds|C|6467954|US|en|f82a0f891ee0613c:en_US , TireMinder Solar Powered Trailer TPMS, 4 Tire Kit\u001b[0m(39.00, 89595)\n",
      "\u001b[1m\u001b[4mcds|C|6467954|US|en|7b59ecd63d82916a:en_US , Vevor Fabric Cutter 90mm Rotary Fabric Cutter 200w Strong Power Electric Rotary Cutter Machine All-Copper Motor with Low Noise Adjustable Speed\u001b[0m(39.00, 32474)\n",
      "\u001b[1m\u001b[4mcds|C|6467954|US|en|0c0ca67e553842fd:en_US , Sizzix Sidekick Starter Kit Featuring Tim Holtz - Black\u001b[0m(39.00, 55005)\n",
      "\u001b[1m\u001b[4mcds|C|6467954|US|en|e86629b7ad174a04:en_US , Miller Job-Site Tool Bag 228028\u001b[0m(39.00, 81021)\n",
      "\u001b[1m\u001b[4mcds|C|6467954|US|en|03e9f0a3e83c241f:en_US , Stanley 12 in. Steel Hacksaw Black/Yellow 2 pc | MaxWarehouse.com\u001b[0m(39.00, 64330)\n",
      "\u001b[1m\u001b[4mcds|C|6467954|US|en|283acdc73db509b8:en_US , Camp USA Wing 2 Traveling Pulley\u001b[0m(39.00, 18979)\n",
      "\u001b[1m\u001b[4mcds|C|6467954|US|en|c1ce5a023aafac81:en_US , ZWILLING Pro Rubberwood 16-slot Knife Block - Black\u001b[0m(39.00, 78400)\n",
      "\u001b[1m\u001b[4mcds|O|119561682|US|en|CTM_CMCB2022CK-1CT , Craftsman Starter Kit With 2 V20 2.0ah Batteries And Faster Charger\u001b[0m(39.00, 78211)\n",
      "\u001b[1m\u001b[4mcds|O|117394304|US|en|498606442 , Hatchet Axe American Made - Hatchet -Christmas Gift- Fathers Gift-Groomsmen and Husband Gift, Wedding Gift, Mans Gift, Quality Axes\u001b[0m(39.00, 33148)\n",
      "\u001b[1m\u001b[4mcds|C|6467954|US|en|5a19d376881a15f0:en_US , Work Sharp Assorted Belt Kit - Ken Onion Edition\u001b[0m(39.00, 93019)\n",
      "\u001b[1m\u001b[4mcds|O|9065111|US|en|089037007051 , Part #089037007051, Table Saw Motor Housing\u001b[0m(39.00, 37534)\n",
      "\u001b[1m\u001b[4mcds|C|6467954|US|en|0c65390ad1b79ff3:en_US , Bit Tip Torx\u001b[0m(39.00, 5540)\n",
      "\u001b[1m\u001b[4mcds|C|6467954|US|en|82a1aff3b070d207:en_US , Allied 235-Piece Mechanic's Tool Set Multi\u001b[0m(34.28, 38259)\n",
      "\u001b[1m\u001b[4mcds|O|113356752|US|en|264572896064 , Silver 2-jaw Bearing Puller Extractor Removal Tool For Automotive Car\u001b[0m(34.11, 45386)\n",
      "\u001b[1m\u001b[4mcds|C|6467954|US|en|697416144ef93d51:en_US , Jegs 82286 Quarter-Turn Fastener Tool\u001b[0m(28.26, 26596)\n",
      "\u001b[1m\u001b[4mcds|O|108432423|US|en|535 , Sargent 6220 CT Heavy Duty Crimper Tool, 8-2 AWG | Waytek | Sargent Tools Oetiker\u001b[0m(26.49, 94516)\n",
      "\u001b[1m\u001b[4mcds|C|6467954|US|en|ddfc59d1ca8109a8:en_US , Tama TMT9 Drummer's Multi Tool\u001b[0m(25.40, 97501)\n",
      "\u001b[1m\u001b[4mcds|C|6467954|US|en|207754c6b7cd5ce5:en_US , Magnogrip 9 Pocket Magnetic Maintenance Tool Pouch With Quick Snap\u001b[0m(23.77, 67906)\n",
      "\u001b[1m\u001b[4mcds|C|6467954|US|en|659c7267f4a9083c:en_US , Speedrite Speedrite- Maun Fencing Pliers | SA070\u001b[0m(23.54, 53604)\n",
      "\u001b[1m\u001b[4mcds|O|114731757|US|en|144393047798 , Snap-on Trim Pad Clips Removal Fork Tool Green & Black Soft Handle\u001b[0m(23.25, 78203)\n",
      "\u001b[1m\u001b[4mcds|C|6467954|US|en|8286cba0f4540d10:en_US , Bon Tool 6-in x 5-in Stainless Steel Concrete Edger with 1-in Radius | 82-123\u001b[0m(22.60, 86547)\n",
      "\u001b[1m\u001b[4mcds|O|116335654|US|en|114660834621 , Air Gun Installation Tool + 1000pcs Winter Snow Tire Stud Screw Nail\u001b[0m(22.08, 70318)\n",
      "\u001b[1m\u001b[4mcds|O|126358573|US|en|m44859707683 , Kobalt Pittsburgh Tool Set - New | Color: Black | Size: l\u001b[0m(21.46, 97730)\n",
      "\u001b[1m\u001b[4mcds|C|6467954|US|en|1e0b17685c64fa98:en_US , Harbor Freight Tools Horsehair Bristle Acid Shop Brushes, 1/2-inch, 36 Pieces\u001b[0m(21.30, 91229)\n",
      "\u001b[1m\u001b[4mcds|O|5685806|US|en|shopify_US_7330454214_23373445638 , Proto 360B 12 Pc Convertible Retaining Ring Pliers Set|Retaining Ring Plier Set\u001b[0m(21.26, 29430)\n",
      "\u001b[1m\u001b[4mcds|O|1259654|US|en|2626 , PropSmith 2.50 Prop Pusher Puller | PropSmith\u001b[0m(20.91, 46199)\n",
      "\u001b[1m\u001b[4mcds|C|6467954|US|en|d5c1984ba9b831f9:en_US , Zippo Fire Starting Multi-Tool, Size: One size, Red\u001b[0m(20.91, 22144)\n",
      "\u001b[1m\u001b[4mcds|C|6467954|US|en|97139a97c624065a:en_US , Forney SPANNER WRENCH, 73148\u001b[0m(20.27, 1863)\n",
      "\u001b[1m\u001b[4mcds|C|6467954|US|en|79915bc100e19e76:en_US , Jonard Tools Cable Tools & Kits; Tool Type: Connector Tool ; Number of Pieces: 1.000 ; For Use With: BNC Connectors | Part #RBNC-3\u001b[0m(19.93, 73708)\n",
      "\u001b[1m\u001b[4mcds|C|6467954|US|en|007e84d4ac07b44c:en_US , Eaton Fuller Transmission Aux Countershaft Support Straps Rr1002tr Alt\u001b[0m(19.26, 23392)\n",
      "\u001b[1m\u001b[4mcds|C|6467954|US|en|71af130f9db78bde:en_US , JACHOM 15 PCS Professional Car Tool Kit for Trucks | Essential Automotive Tools\u001b[0m(18.56, 67)\n",
      "\u001b[1m\u001b[4mcds|O|213606434|US|en|woocommerce_gpf_95123 , Makita GA9020 angle grinder 2200W 230mm\u001b[0m(18.14, 52750)\n",
      "\u001b[1m\u001b[4mcds|C|6467954|US|en|facdaa8b7560de0b:en_US , Garage Hooks, 12 Pack Heavy Duty Garage Storage Hooks Steel Tool Hangers for Garage Wall Mount Utility Hooks and Hangers with Anti-Slip Coating for\u001b[0m(18.07, 99685)\n",
      "\u001b[1m\u001b[4mcds|O|8009538|US|en|41412958 , TICK | Milwaukee Tool Power Drill Tool Tracker - For All Drills | Part #3794153/4138526\u001b[0m(17.91, 85741)\n",
      "\u001b[1m\u001b[4mcds|O|10676731|US|en|DRIFT01 , Centaur Forge Standard Tomahawk Drift\u001b[0m(17.89, 52758)\n",
      "\u001b[1m\u001b[4mcds|O|1082329|US|en|ORT-SEALTWISTOR-M , Seal Twistor Installation Tool (For 1-3/16\" to 2\" Gland Hole Seals)\u001b[0m(17.50, 23307)\n",
      "\u001b[1m\u001b[4mcds|C|6467954|US|en|d405dafa27808d5d:en_US , Tempo Communications PA2035 Tool Die Set For Terminals, 10-22 AWG\u001b[0m(17.28, 32566)\n",
      "\u001b[1m\u001b[4mcds|C|6467954|US|en|d9f2d3e22518fa13:en_US , MR Bar-B-Q 3 Piece Tool Set\u001b[0m(17.01, 32845)\n",
      "\u001b[1m\u001b[4mcds|C|6467954|US|en|f1a5a135c198d1a0:en_US , Allen-bradley 1786-ctk/b Controlnet Coax Tool Kit 1786-ctk Cn Coax\u001b[0m(16.99, 98581)\n",
      "\u001b[1m\u001b[4mcds|O|2338785|US|en|WinchSW2-C , Winch Strap Winder Webbing Truck Trailer Flatbed Winch 2\" 3\" 4\" Straps\u001b[0m(16.32, 81429)\n",
      "\u001b[1m\u001b[4mcds|C|6467954|US|en|0bb30d4ed5e4e5fa:en_US , The ORIGINAL Crepe Spreader and Spatula Kit - 2 Piece Set (4” Spreader and 14” Spatula) Convenient Size to Fit Small Crepe Pan Maker | All Natural\u001b[0m(16.31, 60884)\n",
      "\u001b[1m\u001b[4mcds|C|6467954|US|en|64e0e5f076739411:en_US , Kaisi 70 In 1 Precision Screwdriver Set Professional Electronics\u001b[0m(16.29, 57018)\n",
      "\u001b[1m\u001b[4mcds|C|6467954|US|en|8176a6a8e3c6a888:en_US , Ability One Asphalt Lute: Aluminum, 1 in Lg of Tines, 36 in Overall Wd of Tines, 36 Tines Model: 5120-01-611-8052\u001b[0m(16.14, 17450)\n",
      "\u001b[1m\u001b[4mcds|C|6467954|US|en|911cc10db4cf0291:en_US , Proto Hook Spanner Wrench: 2 in to 4 3/4 in, 11 1/2 in Overall Lg, 15/32 in Hook Thick Model: JC474\u001b[0m(16.11, 48735)\n",
      "\u001b[1m\u001b[4mcds|C|6467954|US|en|83af92ac9088c258:en_US , Landscapers Select Gm7002 Hoe And Pick Tool, 14 In\u001b[0m(16.10, 39478)\n",
      "\u001b[1m\u001b[4mcds|C|6467954|US|en|450ec932639e7d41:en_US , Bon Tool 6 in. x 4-1/2 in. Stainless Steel Concrete Bullet Walking Groover with 1/2 in. x 3/8 in. Bit\u001b[0m(16.05, 44037)\n",
      "\u001b[1m\u001b[4mcds|C|6467954|US|en|00a06ee02786b726:en_US , Helping Hands, Size: One size, Silver\u001b[0m(16.00, 22265)\n",
      "\u001b[1m\u001b[4mcds|C|6467954|US|en|d8c456efc06e2022:en_US , Hyper Tough 5-piece Quick Release Snap Rail Garage Tool Organizer System, Size: 5-Piece Snap Rail Kit, Gray\u001b[0m(15.96, 25530)\n",
      "\u001b[1m\u001b[4mcds|C|6467954|US|en|d29e1f6a8209f47e:en_US , Marshalltown Ap753H 19-1/2 In. X 4 In. Aluminum Concrete Placer With Hook And Welded Handle, Size: 60 In\u001b[0m(15.83, 22122)\n",
      "\u001b[1m\u001b[4mcds|O|130931652|US|en|11347 , GRAP33 33\" Grappler Pick Up Tool\u001b[0m(15.77, 97251)\n",
      "\u001b[1m\u001b[4mcds|O|107685060|US|en|en4000386033830 , Profile Contour Gauge Template Contours Gauge Arc Ruler Gauge Contour Profile Scale Template\u001b[0m(15.51, 1682)\n",
      "\u001b[1m\u001b[4mcds|O|16652651|US|en|shopify_US_146615879_29211031044199 , Occidental Leather 5036 Leather Pro Electrician Set Medium\u001b[0m(15.36, 67414)\n",
      "\u001b[1m\u001b[4mcds|O|129335503|US|en|1130845599 , Leather Gardening Belt, Florist Tool Bag + Belt, Gift for him, her, Garden Bag, Cognac Tool Bag, Florist Organizer, Personalized Florist Bag\u001b[0m(15.26, 97769)\n",
      "\u001b[1m\u001b[4mcds|O|114165067|US|en|383226450693 , Tru-balance A-1339 Wheel Centering Pins Solution A 3\" Set(3) 22.5/24.5\u001b[0m(15.23, 67733)\n",
      "\u001b[1m\u001b[4mcds|O|6296724|US|en|363187355910 , 21pcs Auto Paintless Dent Removal Rods (a B C)hail Repair Kit With\u001b[0m(14.92, 16281)\n",
      "\u001b[1m\u001b[4mcds|O|71458|US|en|25219 , Deep Blue Marine Knife and Plier Holder\u001b[0m(14.61, 90261)\n",
      "\u001b[1m\u001b[4mcds|O|127787936|US|en|shopify_US_201025421339_3697871814683 , L1 Diamond Sgraffito Stylus Tool\u001b[0m(14.60, 2734)\n",
      "\u001b[1m\u001b[4mcds|O|6296724|US|en|254301535657 , Blacksmith, Knifemakers Tomahawk, Large Hammer And Mouse Ax Drift Set\u001b[0m(14.59, 528)\n",
      "\u001b[1m\u001b[4mcds|O|7775547|US|en|1060957904 , BMW Lock Cylinder Tool - Baum 323110\u001b[0m(14.49, 72273)\n",
      "\u001b[1m\u001b[4mcds|C|6467954|US|en|ab8bd4f62c6de0cb:en_US , General 1702 Digital Protractor,accuracy +/-0.1 Deg.\u001b[0m(14.41, 98619)\n",
      "\u001b[1m\u001b[4mcds|O|128553554|US|en|1715874USs-usw , DANIU DANIU Professional 12 in 1 Lock Disassembly Tool Locksmith Tools Kit Remove Lock Repairing pick Set\u001b[0m(14.36, 55789)\n",
      "\u001b[1m\u001b[4mcds|C|6467954|US|en|861d822319ca6cea:en_US , Dolamoty Ash Tool Poker Rake 18 inch for Big Green Egg Grill,Big Green Egg Parts Accessories,Charcoal ash Cleaner,Grill Poker Cleaning Tools for Large\u001b[0m(14.21, 77511)\n",
      "\u001b[1m\u001b[4mcds|O|120336178|US|en|000000000001044323 , 0640030100 - Molex - Tools\u001b[0m(14.13, 78146)\n",
      "\u001b[1m\u001b[4mcds|C|6467954|US|en|4c3e3e3145bb55a5:en_US , Mag-mate B090 Lifting Magnet,50 Lb Cap,trigger Release\u001b[0m(14.04, 2966)\n",
      "\u001b[1m\u001b[4mcds|C|6467954|US|en|e812e10d7116ac8d:en_US , Vangoa Guitar Luthier Tools Set Including String Action Ruler Gauge and Guitar Notched Radius Gauges for Guitar Bass Setup\u001b[0m(13.79, 15597)\n",
      "\u001b[1m\u001b[4mcds|C|6467954|US|en|3a9304146e7059e7:en_US , Fowler 54-54-730-0 - Fowler 54 54 730 0 6\"/150m Inside Digital Spring Caliper\u001b[0m(13.78, 879)\n",
      "\u001b[1m\u001b[4mcds|O|2663876|US|en|126726 , CRL ALUM-K7NFR40-VCP-1 Combination Spline and Flat Roller Tool\u001b[0m(13.75, 88526)\n",
      "\u001b[1m\u001b[4mcds|C|6467954|US|en|412881713587b5ed:en_US , QEP 1 in. H X 0.9 in. W X 8.5 in. L Steel Tile Nipper 1 Pack | MaxWarehouse.com\u001b[0m(13.65, 33293)\n",
      "\u001b[1m\u001b[4mcds|O|425233525|US|en|184798489700 , 2pc Tire Changer Universal Bead Drop Center Rim Clamp Wheel Rim\u001b[0m(13.44, 43425)\n",
      "\u001b[1m\u001b[4mcds|C|6467954|US|en|b9692a5c84636521:en_US , Lezyne Caddy CO2 Kit Blk\u001b[0m(13.42, 68579)\n",
      "\u001b[1m\u001b[4mcds|C|6467954|US|en|276ea9e5511654b9:en_US , Dewalt Genuine Replacement Backing Pad N121668\u001b[0m(13.22, 14121)\n",
      "\u001b[1m\u001b[4mcds|C|6467954|US|en|45c803b02567a854:en_US , Garden Weasel 47.5 in. Steel Nut Gatherer Steel Handle\u001b[0m(13.14, 92155)\n",
      "\u001b[1m\u001b[4mcds|C|6467954|US|en|15f7b211eb8c13df:en_US , Augernis Pottery Sculpting Tools 32PCS Ceramic Clay Carving Tools Set for Beginners Expert Art Crafts Kid's After School Pottery Classes Club\u001b[0m(13.09, 59466)\n",
      "\u001b[1m\u001b[4mcds|O|101704838|US|en|153124237630 , Hart 4pc Quick Tatch Trowel Set, Square Notch, Handle & Box\u001b[0m(13.05, 90841)\n",
      "\u001b[1m\u001b[4mcds|C|6467954|US|en|aa29c79f1a134a5f:en_US , DEWALT 100-Pack 1/2-in Non-washered Drive Pin | DDF3011000\u001b[0m(13.00, 796)\n",
      "\u001b[1m\u001b[4mcds|C|6467954|US|en|b3b2298d01f2cdb5:en_US , Marson Rivet Nut Installation Tools; Tool Type: Spin/Pull Rivet Nut Tool ; Maximum Size (mm): M6 ; Maximum Size (Inch): 1/4-20 ; MinimumSize (Inch):\u001b[0m(12.85, 35676)\n",
      "\u001b[1m\u001b[4mcds|C|6467954|US|en|2cd44dda83fbdad2:en_US , True Scrybe 6-in-1 Multi-tool Pen - Silver\u001b[0m(12.82, 44742)\n",
      "\u001b[1m\u001b[4mcds|O|9689299|US|en|29518479589494 , Vinyl Roller Tool\u001b[0m(12.75, 71571)\n",
      "\u001b[1m\u001b[4mcds|C|6467954|US|en|6a22fd10614638c5:en_US , 10 in. Half Round File, Blue\u001b[0m(12.70, 37452)\n",
      "\u001b[1m\u001b[4mcds|O|115330344|US|en|293519223393 , Ping Golf Tool\u001b[0m(12.61, 28827)\n",
      "\u001b[1m\u001b[4mcds|C|6467954|US|en|5550c4e241ed50a4:en_US , Woodwise Stair Jig\u001b[0m(12.60, 31254)\n",
      "\u001b[1m\u001b[4mcds|O|141495157|US|en|shopify_GB_3826491097203_29061225676915 , Eyelash Separating Tool For Lash Lifts & Extensions\u001b[0m(12.53, 75418)\n",
      "\u001b[1m\u001b[4mcds|C|6467954|US|en|f8c647e12fe1e40f:en_US , Grave Digger Tools 18\" Snubnose Black T-Handle Shovel\u001b[0m(12.48, 50600)\n",
      "\u001b[1m\u001b[4mcds|C|6467954|US|en|b5a7001df573bbe8:en_US , ATEQ TPMS VT15 TPMS Sensor Activation Tool by National Tool Warehouse\u001b[0m(12.45, 82575)\n",
      "\u001b[1m\u001b[4mcds|C|6467954|US|en|94bf89b0bab1840f:en_US , Tood Detachable Rolling Tool Box Organizer Storage Bin Cart with Drawer and Tray, Size: 1 Drawer, Black\u001b[0m(12.42, 25678)\n",
      "\u001b[1m\u001b[4mcds|C|6467954|US|en|c02e82b24f5fe49f:en_US , Bessey PROFLOORINGKIT PRO Flooring Kit\u001b[0m(12.39, 18562)\n",
      "\u001b[1m\u001b[4mcds|C|6467954|US|en|3268cab7fab9905d:en_US , Shaviv 4 Piece High Speed Steel Hand Deburring Tool Set - Blade Type E100, E200, E300, For Hole Edges, Straight Edges | Part #155-29078\u001b[0m(12.34, 11295)\n",
      "\u001b[1m\u001b[4mcds|C|6467954|US|en|310edf1e908335ec:en_US , CLC 1 pocket Leather Hammer Holder 3.9 in. L X 5.8 in. H Tan\u001b[0m(12.29, 33268)\n",
      "\u001b[1m\u001b[4mcds|C|6467954|US|en|5401da23d83fa81a:en_US , Ableware Raptor Reacher\u001b[0m(11.96, 69863)\n",
      "\u001b[1m\u001b[4mcds|C|6467954|US|en|bf20c6fbd56cc5ca:en_US , Landscape Rake Independence Series\u001b[0m(11.94, 99661)\n",
      "\u001b[1m\u001b[4mcds|C|6467954|US|en|26039131e4734a25:en_US , Milwaukee 4932464080 Packout Box 3 Toolbox System ( 2 X Boxes )\u001b[0m(11.91, 36704)\n",
      "\u001b[1m\u001b[4mcds|C|6467954|US|en|547711c16f453b72:en_US , STREBITO Precision Screwdriver Set 124-Piece Electronics Tool Kit with 101 Bits Magnetic Screwdriver Set for Computer, Laptop, Cell Phone, PC,\u001b[0m(11.88, 66019)\n",
      "\u001b[1m\u001b[4mcds|C|6467954|US|en|c7acc34713fd709a:en_US , StealthMounts EGO Battery Holders | Cordless Ego Power+ Battery Mounts | 4 Pack | EGO Power Plus Battery Organizers\u001b[0m(11.85, 24951)\n",
      "\u001b[1m\u001b[4mcds|C|6467954|US|en|5d6d7bbf5e2a79bd:en_US , mkki 4\" 100mm Angle Grinder Wall Bracket Tool Hook Holder Stand for 1-4 Angle Grinders\u001b[0m(11.84, 6317)\n",
      "\u001b[1m\u001b[4mcds|O|10776|US|en|B1308792 , Import 5C Rotating Indexing Fixture\u001b[0m(11.72, 5812)\n",
      "\u001b[1m\u001b[4mcds|O|388792255|US|en|US1920-02_2 , Jardineer 2\" Anvil Loppers Shears - Gardening Loppers Heavy Duty with Garden Shears & Spare Blade, Effortless Pruning Tree Loppers\u001b[0m(11.64, 1774)\n",
      "\u001b[1m\u001b[4mcds|C|6467954|US|en|e9fb7cea635012e6:en_US , Sp Scienceware Tapered Plug Sampler Model: H37826-0000\u001b[0m(11.54, 19006)\n",
      "\u001b[1m\u001b[4mcds|C|6467954|US|en|f3d1472e46ab8590:en_US , EGO Power+ ST1620T 16 in. Battery String Trimmer Tool Only\u001b[0m(11.51, 9685)\n",
      "\u001b[1m\u001b[4mcds|C|6467954|US|en|9307d42b07e68caf:en_US , Pieces be with you, Grande Groovin Piping Trimming Tool\u001b[0m(11.48, 18399)\n",
      "\u001b[1m\u001b[4mcds|C|6467954|US|en|c8323635969c6540:en_US , Magnepull XR1000 Magnespot Reference Point Locator Kit\u001b[0m(11.39, 94025)\n",
      "\u001b[1m\u001b[4mcds|C|6467954|US|en|84223e7b24d18616:en_US , Kings County Tools Traditional Maddock 2-in-1 Garden Tool | Hoe and Axe Combo | 42 Ash Handle | Carbon Steel Heads | German-Made Quality\u001b[0m(11.37, 32401)\n",
      "\u001b[1m\u001b[4mcds|C|6467954|US|en|bb884f8cf35c80d4:en_US , Sunrise Commercial Grade Wok Shovel 16.75 inch (#3) & Ladle 16.75 inch (#3)) Set, Size: #3 (16.75 Large), Silver\u001b[0m(11.36, 71424)\n",
      "\u001b[1m\u001b[4mcds|C|6467954|US|en|88734aafe587abb1:en_US , Norton 1/2 X 2 X 6 In. 3-In-1 Tool & Knife Sharpening System\u001b[0m(11.36, 38024)\n",
      "\u001b[1m\u001b[4mcds|C|6467954|US|en|a29cd18661e2d0aa:en_US , HITACHI DH38YE2 Rotary Hammer, 120 V, 950 W, 1-1/2 in Chuck, Keyless Chuck, Black/Green/Silver\u001b[0m(11.31, 29144)\n",
      "\u001b[1m\u001b[4mcds|C|6467954|US|en|2aa2347bf696c886:en_US , BOSCH RH540M 1-9/16\" SDS-max Combination Hammer by FastoolNow\u001b[0m(11.29, 38742)\n",
      "\u001b[1m\u001b[4mcds|C|6467954|US|en|15d63793318be18d:en_US , Fein 92035060090 Turbo I Wet / Dry Dust Extractor Set\u001b[0m(11.23, 99106)\n",
      "\u001b[1m\u001b[4mcds|O|441318628|US|en|TOOLTOTEBLK , 8\" X 8\" HD Tool Tote Black\u001b[0m(11.21, 59041)\n",
      "\u001b[1m\u001b[4mcds|C|6467954|US|en|2872191e882e978b:en_US , WHDZ Paintless Dent Repair Rods Auto Body Dent Removal Tools 10pcs Auto Car Body Paintless Dent Repair Dent Puller Dent Hammer Tap Down\u001b[0m(11.14, 46283)\n",
      "\u001b[1m\u001b[4mcds|O|132533|US|en|154921 , Ryobi 030157001013 Bearing Cap Assembly\u001b[0m(11.14, 45763)\n",
      "\u001b[1m\u001b[4mcds|C|6467954|US|en|bf4a88d28cd20651:en_US , Klein 200028EINS Insulated Slim-Handle Diagonal Cutting Pliers\u001b[0m(11.10, 63086)\n",
      "\u001b[1m\u001b[4mcds|C|6467954|US|en|69b1c68ea897d6d1:en_US , Bosch 25618-02 18 Volt Li-ion 1/4-hex Cordless 18v Impact Driver Kit\u001b[0m(11.10, 47219)\n",
      "\u001b[1m\u001b[4mcds|C|6467954|US|en|c234b6f1da492616:en_US , Rack'em RA7 6-Hook Multi Tool Rack\u001b[0m(11.06, 88790)\n",
      "\u001b[1m\u001b[4mcds|C|6467954|US|en|a61ec890abe7656e:en_US , Hose Removal Hook Pick Set, 10\" Hose Hook, 8\" Hose Remover, Hose Puller Tool for Radiator Hoses, VASTOOLS\u001b[0m(11.04, 39231)\n",
      "\u001b[1m\u001b[4mcds|C|6467954|US|en|ac203052d66e7fc1:en_US , Snapper XD 82V MAX Cultivator Attachment with Adjustable Tilling Width, Compatible with Snapper XD String Trimmer\u001b[0m(10.97, 31085)\n",
      "\u001b[1m\u001b[4mcds|O|9769319|US|en|lr3460 , Corona Long Reach Cut and Hold Pruner LR 3460\u001b[0m(10.88, 42232)\n",
      "\u001b[1m\u001b[4mcds|O|130220265|US|en|shopify_US_6836339146928_40417273381040 , Gate Remover Set\u001b[0m(10.86, 92061)\n",
      "\u001b[1m\u001b[4mcds|C|6467954|US|en|7367e101cbc5b2e9:en_US , Pull Start Recoil Carburetor Set Replacement for Predator 212cc 6.5hp OHV Engine\u001b[0m(10.79, 22617)\n",
      "\u001b[1m\u001b[4mcds|C|6467954|US|en|5d14d3c597cffe3e:en_US , 1pc Gundlach 611 Lil Squeezy Carpet Stretcher\u001b[0m(10.77, 18448)\n",
      "\u001b[1m\u001b[4mcds|C|6467954|US|en|5093ca490b5d3389:en_US , Room & Board | Modern Roan Wall-Mounted Magnetic Knife Holder . in Slate Blue 20w .5d 3h\u001b[0m(10.74, 52746)\n",
      "\u001b[1m\u001b[4mcds|O|142087827|US|en|shopify_US_6119626342553_37947389771929 , Mr. Fix It Tool Bouquet | Gift Idea for Dad, Husband, Boyfriend\u001b[0m(10.71, 78962)\n",
      "\u001b[1m\u001b[4mcds|O|6421244|US|en|120803307782 , 21 Pc Eye Micro Minor Surgery Surgical Opthalmic Instrument Student\u001b[0m(10.67, 33769)\n",
      "\u001b[1m\u001b[4mcds|C|6467954|US|en|2660c97c606b82ef:en_US , Jonas of Sweden 38404 Adult Red Plastic Comb Berry Picker - 8 1/2\" x 5 1/2\"\u001b[0m(10.64, 8122)\n",
      "\u001b[1m\u001b[4mcds|O|114711376|US|en|192468736507 , Milwaukee 48-22-1920 Duct Knife, Full Tang, Double Edged Blade ( Lot\u001b[0m(10.58, 21078)\n",
      "\u001b[1m\u001b[4mcds|C|6467954|US|en|1270a5d788cca965:en_US , Milwaukee 48-22-2706 Screwdriver Kit, 6-Piece\u001b[0m(10.55, 52867)\n",
      "\u001b[1m\u001b[4mcds|O|6296724|US|en|393546869690 , Dental Tool 10 Pack Professional Plaque Remover Teeth Cleaning Tool\u001b[0m(10.52, 71714)\n",
      "\u001b[1m\u001b[4mcds|C|6467954|US|en|de18230a6182d6a7:en_US , Dead Ringer Arrow Puller\u001b[0m(10.46, 37327)\n",
      "\u001b[1m\u001b[4mcds|C|6467954|US|en|4525d347eea17c21:en_US , LifeLine Home Mechanic Workstand inc. Mat - Gold\u001b[0m(10.38, 49041)\n",
      "\u001b[1m\u001b[4mcds|C|6467954|US|en|069eced4660dee3a:en_US , Blue Sea 8293 Contura Actuator Removal Tool\u001b[0m(10.37, 18182)\n",
      "\u001b[1m\u001b[4mcds|C|6467954|US|en|8b5475ce0519eda7:en_US , Klein Tools Tool Pouches, 11 Compartment, Black, Leather, Belt Slot, 1/EA, #5167 | AFT Fasteners\u001b[0m(10.31, 24815)\n",
      "\u001b[1m\u001b[4mcds|C|6467954|US|en|bc621e5eeae6204c:en_US , Monteverde Tool 0.9mm Pencil - Brass\u001b[0m(10.23, 16538)\n",
      "\u001b[1m\u001b[4mcds|C|6467954|US|en|b1748dc05bf1aefa:en_US , Bambu Wok Spatula\u001b[0m(10.22, 99234)\n",
      "\u001b[1m\u001b[4mcds|C|6467954|US|en|fe6fb6f7199a5969:en_US , Cuda Universal Lanyards, 2-Pack | For Fishing\u001b[0m(10.16, 38245)\n",
      "\u001b[1m\u001b[4mcds|C|6467954|US|en|b7f2fce5417ae9f1:en_US , Fiskar Paper Crimper Tool, #9340, Fits Paper 6.5\" Wide, Wavy Paper\u001b[0m(10.12, 60901)\n",
      "\u001b[1m\u001b[4mcds|C|6467954|US|en|21fc81882ea48107:en_US , Center Pin Punch Automatic Center Strike Spring Loaded Window Breaker Drilling Marking Tool, Black, without Cap, Size: 130 mm\u001b[0m(10.11, 83992)\n",
      "\u001b[1m\u001b[4mcds|O|501595024|US|en|shopify_US_5111236526213_34416780247173 , Extreme Reamer X-Large\u001b[0m(10.08, 35099)\n",
      "\u001b[1m\u001b[4mcds|C|6467954|US|en|5d22502cb0f6f29c:en_US , The Pocket Scientist - Wallet Science Ruler Scale and Unit Conversion Reference 3 inch\u001b[0m(9.99, 31938)\n",
      "\u001b[1m\u001b[4mcds|O|117171671|US|en|690401552 , Channellock 430 Plier Holder\u001b[0m(9.98, 52263)\n",
      "\u001b[1m\u001b[4mcds|O|127676668|US|en|95-362-Pack-of-1 , Sklar Surgi-OR Vaginal Speculum Pederson NonSterile Mid Grade Stainless Steel Large Double Blade Duckbill Reusable Without Light Source Capability -\u001b[0m(9.98, 79535)\n",
      "\u001b[1m\u001b[4mcds|C|6467954|US|en|8869d898225b16bd:en_US , Spanner Nut Tamper-Proof Security Screwdriver\u001b[0m(9.98, 32309)\n",
      "\u001b[1m\u001b[4mcds|C|6467954|US|en|94370ad8fb930b8d:en_US , Silicon Carbide Flexible Cylinder Hone, Coarse Grade, 120 Grit\u001b[0m(9.93, 8047)\n",
      "\u001b[1m\u001b[4mcds|O|258354524|US|en|LCLAMP8511 , Precision Clamping Squares 90 Degree Right Angle Clamps\u001b[0m(9.89, 66752)\n",
      "\u001b[1m\u001b[4mcds|C|6467954|US|en|a7a32cdde23a54b9:en_US , Estes 302227 Tube Marking Guide\u001b[0m(9.88, 51512)\n",
      "\u001b[1m\u001b[4mcds|C|6467954|US|en|7341f5cf688ffd73:en_US , Bartender's Hammered Solid Copper Cocktail Shaker Set\u001b[0m(9.86, 84503)\n",
      "\u001b[1m\u001b[4mcds|O|11022734|US|en|223300521187-MTY1-155-903 , 155-903-Telescoping Gage Set SERIES 155 (MITUTOYO) | Misumi\u001b[0m(9.84, 46037)\n",
      "\u001b[1m\u001b[4mcds|C|6467954|US|en|83484922d810747e:en_US , Omc Johnson Evinrude Outboard Needle Bearing Grease Assembly Lube\u001b[0m(9.79, 56351)\n",
      "\u001b[1m\u001b[4mcds|C|6467954|US|en|89b39e3e03590be2:en_US , Mag-Mate Tplp30 Magnetic Part Handler,2.48Inhx3Inlx3Inw\u001b[0m(9.77, 2100)\n",
      "\u001b[1m\u001b[4mcds|O|7654024|US|en|shopify_US_313208609_32077187252273 , Sure Design Thai Wooden Massage Tool 03 1-Size / Wood\u001b[0m(9.73, 86094)\n",
      "\u001b[1m\u001b[4mcds|C|6467954|US|en|d9864f36aabb52e8:en_US , CNCEST High Quality Portable Fiber Optic Tools Kits-18PCS\u001b[0m(9.69, 93022)\n",
      "\u001b[1m\u001b[4mcds|O|8760422|US|en|shopify_US_6999980081333_41989116100789 , Fire Hose Spanner Wrench (2-Pack)\u001b[0m(9.68, 69248)\n",
      "\u001b[1m\u001b[4mcds|C|6467954|US|en|1252d54b9fcf668b:en_US , Solo 200 Alarm & Detector Removal Tool, Flat or Angled Ceilings\u001b[0m(9.68, 74277)\n",
      "\u001b[1m\u001b[4mcds|C|6467954|US|en|608005b02c8b3c2a:en_US , Jims USA Compensator Nut Torx Socket Harley Davidson FLRT Freewheeler 2015-2016\u001b[0m(9.62, 74820)\n",
      "\u001b[1m\u001b[4mcds|C|6467954|US|en|a75b993e31a6f776:en_US , Adjustable Operating Wrench, 60 to 108 in\u001b[0m(9.57, 90333)\n",
      "\u001b[1m\u001b[4mcds|C|6467954|US|en|d85b3a670da004b6:en_US , 80C-A16 - PARKER\u001b[0m(9.55, 784)\n",
      "\u001b[1m\u001b[4mcds|O|115809258|US|en|RDI36 , 36\" Double Bend Interchangeable Tip Rod\u001b[0m(9.52, 84262)\n",
      "\u001b[1m\u001b[4mcds|C|6467954|US|en|ce418631b43fe03e:en_US , HHIP 3129-0015 1/2 Inch Shank Knee Feed Adapter for Power Drill\u001b[0m(9.45, 53284)\n",
      "\u001b[1m\u001b[4mcds|O|138357567|US|en|403076218402 , Lathe Vertical Milling Slide Attachment Fixed Base Myford 7 Series\u001b[0m(9.37, 87842)\n",
      "\u001b[1m\u001b[4mcds|C|6467954|US|en|6337dcd82cc48568:en_US , Dino-Lite MS23B Articulating Flex-arm Clamp, Designed for Dino-Lite\u001b[0m(9.37, 19928)\n",
      "\u001b[1m\u001b[4mcds|C|6467954|US|en|ffd777bce430be3d:en_US , Yiranok HVAC Tools - Copper Tube Expander for Air Conditioner and Heater Equipment - Pipe Swaging Tool Hand Drill Accessories - 1/4'', 3/8'', 1/2'',\u001b[0m(9.31, 55253)\n",
      "\u001b[1m\u001b[4mcds|O|11349283|US|en|AM-Z-010 , Tornador Professional Cleaning Tools Tornador Classic Z-010\u001b[0m(9.26, 83120)\n",
      "\u001b[1m\u001b[4mcds|O|299611441|US|en|121957 , Deluxe Rivet Cutter Deluxe Rivet Cutter\u001b[0m(9.15, 10901)\n",
      "\u001b[1m\u001b[4mcds|C|6467954|US|en|f2edf1aaef7d8d03:en_US , QEP 29185114 Laminate/Wood Floor Installation Kit\u001b[0m(9.08, 70070)\n",
      "\u001b[1m\u001b[4mcds|O|3768652|US|en|TTT-XXL-MCT , Veto Pro Pac TP-XXL Meter Pouch and TECH-MCT Tool Bag Combo\u001b[0m(9.06, 38550)\n",
      "\u001b[1m\u001b[4mcds|C|6467954|US|en|1516bae824d60b22:en_US , Firstline Evolve Loc & Twist Starter Kit\u001b[0m(8.98, 1268)\n",
      "\u001b[1m\u001b[4mcds|O|8049|US|en|42242 , Klutch 2Inch Non-Woven Abrasive Pads — 4-Pack, with 1/4Inch Round Shaft Quick Connector\u001b[0m(8.94, 26064)\n",
      "\u001b[1m\u001b[4mcds|C|6467954|US|en|0c29d8b693de5318:en_US , Bon 12-357 Dirt Tamper - 10 inch X 10 inch - 48 inch Wooden Handle\u001b[0m(8.93, 3212)\n",
      "\u001b[1m\u001b[4mcds|O|4159258|US|en|tl0008 , Piercing tool Kit with essential tools to pierce with Leather case Made of Surgical Steel\u001b[0m(8.93, 8383)\n",
      "\u001b[1m\u001b[4mcds|O|113677249|US|en|473919541694_174740468518 , Flexible Head Metric Tubing Ratchet Wrench Repair Tool Open End\u001b[0m(8.92, 35671)\n",
      "\u001b[1m\u001b[4mcds|C|6467954|US|en|4b1dcd3fd068d7f1:en_US , Occidental Leather 8068 Impact, screwgun and Drill Bag\u001b[0m(8.91, 6215)\n",
      "\u001b[1m\u001b[4mcds|C|6467954|US|en|1cb9127a937e5c00:en_US , TapeTech QuickBox QSX 6.5\" Finishing Box\u001b[0m(8.89, 79619)\n",
      "\u001b[1m\u001b[4mcds|C|6467954|US|en|c412b73e1125629f:en_US , VEVOR Tire Dolly Wheel Dolly 300 Lbs Capacity Truck Tire Wheel Dolly Heavy Duty Cart\u001b[0m(8.87, 25967)\n",
      "\u001b[1m\u001b[4mcds|C|6467954|US|en|83993ae52c10297f:en_US , Rockler Dixon Reach Deep-Hole Mechanical Pencil with 12-Pack Lead Refills\u001b[0m(8.86, 96216)\n",
      "\u001b[1m\u001b[4mcds|C|6467954|US|en|d181c61f00d3ea46:en_US , Sorby Scraper, Box - Woodcraft\u001b[0m(8.86, 72374)\n",
      "\u001b[1m\u001b[4mcds|C|6467954|US|en|a0fff59b946f1ee4:en_US , black decker rtx-1 rotary tool for 220 volts\u001b[0m(8.86, 10824)\n",
      "\u001b[1m\u001b[4mcds|C|6467954|US|en|3fddd6b8adef041a:en_US , Latauar Croissant Cutter, Stainless Steel Croissant Roller Slices with Wooden Handle Perfect Shaped Pastry Dough, Rolling Knife Kitchen Baking Tool.\u001b[0m(8.86, 22650)\n",
      "\u001b[1m\u001b[4mcds|C|6467954|US|en|32db9c77f3dd6713:en_US , Music Nomad MN610 Neck Relief Kit Taylor Guitars\u001b[0m(8.85, 30287)\n",
      "\u001b[1m\u001b[4mcds|O|522529553|US|en|402814332981 , Vinyl Lp Turntable Alignment Protractor Tool For Record Player\u001b[0m(8.85, 89321)\n",
      "\u001b[1m\u001b[4mcds|C|6467954|US|en|a7946bbbf24d78f3:en_US , Gerber Gear Processor - Salt Scissors in Steel\u001b[0m(8.84, 26005)\n",
      "\u001b[1m\u001b[4mcds|C|6467954|US|en|40282cfe8a1386e7:en_US , Garage Hooks, 19 Pack Heavy Duty Garage Storage Hooks Steel Tool Hangers for Garage Wall Mount Utility Hooks and Hangers with Anti-Slip Coating for\u001b[0m(8.81, 96523)\n",
      "\u001b[1m\u001b[4mcds|C|6467954|US|en|906a1df4295dc778:en_US , CRAFTSMAN Plastic Socket Storage in Black | CMMT99415\u001b[0m(8.78, 23358)\n",
      "\u001b[1m\u001b[4mcds|C|6467954|US|en|1d875539e7dd23e1:en_US , Starrett Gauge Rod - 6 in Length - 1/4 in Wide - 657X\u001b[0m(8.72, 18899)\n",
      "\u001b[1m\u001b[4mcds|C|6467954|US|en|9bc53e0a912b7c74:en_US , CASOMAN 5/8\" Swivel Magnetic Spark Plug Socket, 3/8\" Drive x 8-Inch Ext. Bar Length, 360 Degree Swivel, Enhanced Magnetic Design, 6 Point, Cr-V Steel\u001b[0m(8.70, 54609)\n",
      "\u001b[1m\u001b[4mcds|C|6467954|US|en|1d06046abf018c19:en_US , Dewalt 8 ft 500 lb Load Capacity Fiberglass Stepladder Model: DXL3810-08\u001b[0m(8.68, 52686)\n",
      "\u001b[1m\u001b[4mcds|C|6467954|US|en|696a73a7bb666e8b:en_US , 4 Way Wood Rasp File, Premium Grade High Carbon Hand File and Round Rasp, Half Round Flat & Needle Files. Best Wood Rasp Set for Sharping Wood and\u001b[0m(8.65, 78064)\n",
      "\u001b[1m\u001b[4mcds|C|6467954|US|en|2ef16cd04f317757:en_US , SUNEX TOOLS Sunex 1889 1/4 in., 3/8 in., and 1/2 in. Drive SAE and Metric Master Chrome Socket Set (89-Piece)\u001b[0m(8.64, 51452)\n",
      "\u001b[1m\u001b[4mcds|C|6467954|US|en|6551d543424e4a4e:en_US , Aurand - KP5V Pneumatic 5\" Surface Scaler, Vac\u001b[0m(8.63, 79333)\n",
      "\u001b[1m\u001b[4mcds|C|6467954|US|en|67cefd2e03b5524a:en_US , Make Your Own Kitchen Tools: Simple Woodworking Projects for Everyday Use by Picciuto, David - Alibris Books, Music & Movies\u001b[0m(8.56, 37868)\n",
      "\u001b[1m\u001b[4mcds|O|259719927|US|en|shopify_US_4390334103630_31625600106574 , Spring Steel Gripper Clip - Half Vinyl Coated - 3/4\"-1 1/8 (#225-HL) 25 pcs\u001b[0m(8.48, 35688)\n",
      "\u001b[1m\u001b[4mcds|C|6467954|US|en|d519e5cae30aa58d:en_US , Stanley Jr. Pull-Back Airplane Kit\u001b[0m(8.48, 76509)\n",
      "\u001b[1m\u001b[4mcds|C|6467954|US|en|53d8015f30b5ed56:en_US , Anytime Tools Angle Block Set 1°, 2°, 3°, 4°, 5°, 10°, 15°, 20°, 25°, 30° Precision +/- 20 Seconds, Machinist Tool, 10 Piece Set\u001b[0m(8.47, 87448)\n",
      "\u001b[1m\u001b[4mcds|O|101640084|US|en|194233254342 , Lego Gray Brick Separator Vintage, Great Condition\u001b[0m(8.44, 37119)\n",
      "\u001b[1m\u001b[4mcds|O|100572154|US|en|082-BE400 , E-Z Trench EZ Trench BE400 Bedscaper Bed Edger 6.5HP Honda Engine\u001b[0m(8.37, 38086)\n",
      "\u001b[1m\u001b[4mcds|C|6467954|US|en|a049dee08b783ffe:en_US , Tweezerman Blackhead Extractor\u001b[0m(8.34, 64331)\n",
      "\u001b[1m\u001b[4mcds|C|6467954|US|en|bf99b0906a1a437b:en_US , Milwaukee 48-22-8271 Heavy Duty Canvas Utility Bucket w/ 75 lbs Weight Capacity\u001b[0m(8.31, 4861)\n",
      "\u001b[1m\u001b[4mcds|C|6467954|US|en|9a2dbefe9e6b86bd:en_US , Autel TPMS Relearn Tool TS408, 2022 Upgraded of Autel MaxiTPMS TS401, Tire Pressure Monitor Sensor Programming and Rest Tool for All Cars, TPMS\u001b[0m(8.29, 55784)\n",
      "\u001b[1m\u001b[4mcds|C|6467954|US|en|79e957ba32392eb3:en_US , ToolkitRC M6D 500W 25A 1-6S Dual Channel DC Smart Charger\u001b[0m(8.24, 24238)\n",
      "\u001b[1m\u001b[4mcds|C|6467954|US|en|c9a19a7bcd839026:en_US , Roberts 10-28 Flooring Installation Kit Flooring Install Kit 4 Boxes\u001b[0m(8.21, 66363)\n",
      "\u001b[1m\u001b[4mcds|C|6467954|US|en|b9b62e8d0b23b697:en_US , 1210 Semi Trailer Air Brake Testing Tool\u001b[0m(8.20, 82136)\n",
      "\u001b[1m\u001b[4mcds|O|487168117|US|en|shopify_US_7146485186729_41048967872681 , Golf Club Groove Sharpener, Re-Grooving Tool and Cleaner for Wedges & Irons\u001b[0m(8.19, 70295)\n",
      "\u001b[1m\u001b[4mcds|O|128026611|US|en|HRP24BH-HA-RP24 , Rock Picks - 24oz Hammer - Carbide Bushing Head & Blade - 12in (30cm) Wood Handle\u001b[0m(8.12, 36984)\n",
      "\u001b[1m\u001b[4mcds|O|8156927|US|en|98NHO26-1 , Mayo Hegar Needle Holder, 5\", Economy - Needle Holders\u001b[0m(8.09, 44337)\n",
      "\u001b[1m\u001b[4mcds|C|6467954|US|en|8c2ecba89fbf3d91:en_US , Westward Screw Extractor: Spiral Flute, 17/32 in Drill Size, For 1\" to 1-3/8\" Bolt Size Model: 2RUP5\u001b[0m(8.09, 10628)\n",
      "\u001b[1m\u001b[4mcds|C|6467954|US|en|763aa1658f3fb254:en_US , 4-inch Molding Flap Sanding Wheel Kit For Drill Press, Pack Of 3, 80, 120, 240 Grit\u001b[0m(8.07, 66058)\n",
      "\u001b[1m\u001b[4mcds|C|6467954|US|en|6d3040c5f8ffcfbf:en_US , TRU TENSION MEGA TOOL BUNDLE 19 - 59-2806\u001b[0m(7.96, 69613)\n",
      "\u001b[1m\u001b[4mcds|C|6467954|US|en|19f2b964884de27b:en_US , Zircon MT7 Metalliscanner - Metal Scanner Detector Locator Zircon\u001b[0m(7.95, 63079)\n",
      "\u001b[1m\u001b[4mcds|C|6467954|US|en|59f2603247de0781:en_US , Freeman P2PFK14 Professional Pneumatic Flooring Nailer Kit with Fasteners (2-Piece) L-Cleat Flooring Nailer, 4-in-1 Mini Flooring Nailer and Stapler\u001b[0m(7.95, 93460)\n",
      "\u001b[1m\u001b[4mcds|O|242947|US|en|406-62006 , Tanner Racing Products 62006 AN Wrench -6AN (11/16\")\u001b[0m(7.93, 91429)\n",
      "\u001b[1m\u001b[4mcds|C|6467954|US|en|177533965f56bb8a:en_US , Zurn Z1180-2IP Solids Interceptor, 15gpm (2-inch Inlet/Outlet)\u001b[0m(7.93, 57049)\n",
      "\u001b[1m\u001b[4mcds|C|6467954|US|en|dab210c273bd9b23:en_US , Sioux Tools 1/4\" Capacity, Air Riveting Hammer - 8 CFM, 4\" Long Stroke, 1/4 NPT Inlet | Part #270A-4\u001b[0m(7.92, 46839)\n",
      "\u001b[1m\u001b[4mcds|O|285493498|US|en|5f6aaec6b475e90049e01b01 , Facial Hair Remover Hair Spring Threading Epilator Lip Eyebrows Smooth Removal\u001b[0m(7.89, 47789)\n",
      "\u001b[1m\u001b[4mcds|C|6467954|US|en|61f4d4de0de2b0bd:en_US , Corner Rounder Mini Punch Set - EK Success - Punches\u001b[0m(7.89, 31986)\n",
      "\u001b[1m\u001b[4mcds|C|6467954|US|en|991e3780ea3026be:en_US , Toledo Pipe 42360 1206 Stand fits RIDGID 41855 300 Power Drive\u001b[0m(7.89, 46033)\n",
      "\u001b[1m\u001b[4mcds|C|6467954|US|en|34faf1273caed3f8:en_US , Foundation | Bench/Wall Mount Repair Stand 360 Rotation, Bench or Wall Mounting\u001b[0m(7.89, 86315)\n"
     ]
    }
   ],
   "source": [
    "print(get_text(A_init.shape[0]-2, Y, A_init, sep='\\n'))"
   ]
  },
  {
   "cell_type": "code",
   "execution_count": 63,
   "metadata": {},
   "outputs": [
    {
     "name": "stdout",
     "output_type": "stream",
     "text": [
      "1023 : \n",
      "\u001b[1m\u001b[4mcds|O|469769397|US|en|947935433 , 10 pack Dewalt 20v tool Holder BLACK / YELLOW\u001b[0m(194.29, 68248)\n",
      "\u001b[1m\u001b[4mcds|C|6467954|US|en|436b92c3ff8f5c1d:en_US , KD Tools 3624 2- Ton Ratcheting Puller | Auto Tool World\u001b[0m(185.39, 77691)\n",
      "\u001b[1m\u001b[4mcds|C|6467954|US|en|5bfa797477184b6a:en_US , RYOBI ONE+ 18V Cordless 10-Tool Combo Kit w/ 3 Batteries, Charger, LINK Rolling Tool Box, Standard Tool Box, & Medium Tool Box\u001b[0m(183.24, 74261)\n",
      "\u001b[1m\u001b[4mcds|C|6467954|US|en|ff335312e0391692:en_US , GEARWRENCH 2 Ton 3-1/2 in. 2 or 3 Jaw Reversible Internal/External Pullers\u001b[0m(182.57, 35517)\n",
      "\u001b[1m\u001b[4mcds|C|6467954|US|en|1622d5226c19773b:en_US , Apollo Precision Tools Dt0204 71-Piece Household Tool Kit\u001b[0m(182.04, 10677)\n",
      "\u001b[1m\u001b[4mcds|C|6467954|US|en|ed4050bc8420b610:en_US , DEWALT 1/4 in. and 3/8 in. Drive Mechanics Tool Set with Toughsystem Trays (131-Piece)\u001b[0m(181.91, 36722)\n",
      "\u001b[1m\u001b[4mcds|C|6467954|US|en|f9ee5a3fab800928:en_US , ONE+ 18V Cordless MultiTool with 2.0 Ah Battery and Charger P343B-PSK005\u001b[0m(181.76, 5009)\n",
      "\u001b[1m\u001b[4mcds|C|6467954|US|en|029398d94249a971:en_US , DEWALT 20-Volt MAX Cordless Died Cable Crimping Tool with (2) 20-Volt 4.0Ah Batteries, Charger & Case\u001b[0m(179.74, 68525)\n",
      "\u001b[1m\u001b[4mcds|O|5817554|US|en|40-C2243 , Spear removing / Opening Demounting Tool for Sankey D & S System\u001b[0m(176.36, 71468)\n",
      "\u001b[1m\u001b[4mcds|C|6467954|US|en|0da211e28778f133:en_US , Hart 5-piece Multi-tool Blade Set For Wood, Metal, Drywall, Grout 1686\u001b[0m(176.05, 41106)\n",
      "\u001b[1m\u001b[4mcds|C|6467954|US|en|a8feb1df9d829ecb:en_US , Master Appliance 35084 SAE 22 to 10 AWG Ratcheting Master Full Cycle Terminal Crimper\u001b[0m(175.58, 82905)\n",
      "\u001b[1m\u001b[4mcds|C|6467954|US|en|ca670dd2f3755cdf:en_US , JobSmart Fence Tool with Hammer, JS2017102\u001b[0m(172.82, 12627)\n",
      "\u001b[1m\u001b[4mcds|C|6467954|US|en|13884596639ffc68:en_US , Paladin Tools PA1389 1300 HDTV Universal Crimp Tool with Die\u001b[0m(168.33, 79506)\n",
      "\u001b[1m\u001b[4mcds|C|6467954|US|en|8084d2ff1b8bdcdf:en_US , Klein Tool Nylon Tie Tensioning Tool with Auto-Cutoff\u001b[0m(166.17, 9763)\n",
      "\u001b[1m\u001b[4mcds|C|6467954|US|en|d2fed5039c1b6142:en_US , Ideal 30-3429 Smart-Grip Multi-Crimp Tool\u001b[0m(165.38, 74622)\n",
      "\u001b[1m\u001b[4mcds|C|6467954|US|en|4b7404bbbb468ae2:en_US , Crescent 193610CVSMN 10\" Heavy Duty Fence Tool\u001b[0m(163.59, 16633)\n",
      "\u001b[1m\u001b[4mcds|C|6467954|US|en|5bb3553386b6f8d1:en_US , Makita HB350 1-3/8 in. 10 Amp Corded Magnetic Drill\u001b[0m(163.11, 88114)\n",
      "\u001b[1m\u001b[4mcds|O|6296724|US|en|114369497614 , E5 Quick Change Tool Post For 200-400mm Lathe 8\"-16\" Multifix E\u001b[0m(162.71, 61126)\n",
      "\u001b[1m\u001b[4mcds|O|132533|US|en|156443 , Ryobi 039028007054 Auxiliary Handle\u001b[0m(162.69, 72170)\n",
      "\u001b[1m\u001b[4mcds|C|6467954|US|en|82b285826a327c15:en_US , DEWALT 22 oz. Steel Framing Hammer\u001b[0m(162.02, 11524)\n",
      "\u001b[1m\u001b[4mcds|C|6467954|US|en|277ef016cf908523:en_US , Milwaukee Oscillating Tool Blade: 1 3/8 in Blade Wd, 1 1/2 in Blade Lg, Straight Cutting, 1 Pieces, Milwaukee Model: 49-25-1501\u001b[0m(161.51, 83244)\n",
      "\u001b[1m\u001b[4mcds|C|6467954|US|en|e48ed360dc1f5488:en_US , DEWALT 20-Volt MAX XR Li-Ion Cordless Brushless Drill/Impact Combo Kit (2-Tool) w/ 20-V Brushless 6-1/2 in. Circ Saw(Tool-Only)\u001b[0m(160.63, 51918)\n",
      "\u001b[1m\u001b[4mcds|C|6467954|US|en|f5f34c2c07c26f2f:en_US , DeWalt N435687 Belt Hook Clip Kit for DCF620 DCF620B DCF622 Drywall Screwgun\u001b[0m(160.33, 74286)\n",
      "\u001b[1m\u001b[4mcds|O|8949|US|en|8608889 , Gardener's Lifetime Long T-handle Lawn Edger\u001b[0m(159.55, 98609)\n",
      "\u001b[1m\u001b[4mcds|C|6467954|US|en|c83e5a192bf6670c:en_US , Dyson Dc40 Dc41 Dc65 Combination Tool 920753-01, Gray\u001b[0m(157.93, 53042)\n",
      "\u001b[1m\u001b[4mcds|C|6467954|US|en|4499e48385ddb500:en_US , DeWalt 5140001-90 Outer Flange\u001b[0m(156.84, 65583)\n",
      "\u001b[1m\u001b[4mcds|C|6467954|US|en|3a3da43ebe90c686:en_US , Bones Bearing Puller Tool\u001b[0m(156.28, 74927)\n",
      "\u001b[1m\u001b[4mcds|C|6467954|US|en|2eb5e8e74fc0c7ea:en_US , AJC Shingle Slate Ripper\u001b[0m(156.26, 44931)\n",
      "\u001b[1m\u001b[4mcds|C|6467954|US|en|5f63deb4f5691d85:en_US , DeWalt TStak Flat Top Organizer Storage Box DWST17807\u001b[0m(155.63, 26466)\n",
      "\u001b[1m\u001b[4mcds|C|6467954|US|en|f9776255608ff34e:en_US , PSI Woodworking CLTSET58 Straight Bar 3pc Toolrest Set, 5/8\" Diameter Post (15.875mm)\u001b[0m(155.34, 78752)\n",
      "\u001b[1m\u001b[4mcds|C|6467954|US|en|123f685194cbc2bc:en_US , FEIN Cordless Multimaster 12V AMM 300 PLUS Start\u001b[0m(155.26, 48647)\n",
      "\u001b[1m\u001b[4mcds|O|8969059|US|en|LL-U10601 , UtiliCarryWallet 11-In-1 Multi-Tool (1/CD) -by Lucky Line\u001b[0m(153.69, 51741)\n",
      "\u001b[1m\u001b[4mcds|O|469769397|US|en|934658362 , 10 pack Craftsman 20v 20 Volt Max Tool holder Tool Mount Tool Hanger\u001b[0m(153.40, 8347)\n",
      "\u001b[1m\u001b[4mcds|O|8927679|US|en|801800 , Stainless Steel Garden Pocket Tool\u001b[0m(153.16, 37227)\n",
      "\u001b[1m\u001b[4mcds|C|6467954|US|en|f0062157a252c52f:en_US , Astro Pneumatic 9589 4 Pc. Door Panel & Upholstery Tool Set by National Tool Warehouse\u001b[0m(153.13, 62373)\n",
      "\u001b[1m\u001b[4mcds|C|6467954|US|en|e8e5b5f751a94a30:en_US , 16 Wrench Holder Organizer Storage Rack Tray Toolbox Sorter Wall JSP Brand (Red)\u001b[0m(150.86, 23567)\n",
      "\u001b[1m\u001b[4mcds|C|6467954|US|en|1829c5b07e22ce7c:en_US , Vevor Magnetic Drill Magnetic Base Drill 750w Mag Drill 0.5\" Max Boring Diameter\u001b[0m(150.74, 44366)\n",
      "\u001b[1m\u001b[4mcds|C|6467954|US|en|0862569a899f683a:en_US , CALIDAKA Saw Slot Adjuster Mortise and Tenon Tool Movable Measuring Block Making Seam Adjustment Controller Table Woodworking Tool Mortise Measuring\u001b[0m(150.63, 24134)\n",
      "\u001b[1m\u001b[4mcds|C|6467954|US|en|8611375503ffec67:en_US , Dewalt DWE4997NVS 2-inch (50mm) Brushless Variable Speed Paddle Switch Die Grinder w/ No Lock-On\u001b[0m(150.34, 19014)\n",
      "\u001b[1m\u001b[4mcds|O|101702933|US|en|254359212372 , Snap-on Gmtk General Mechanic's Maintenance Military Tool Set Kit 8\u001b[0m(150.31, 95506)\n",
      "\u001b[1m\u001b[4mcds|C|6467954|US|en|19fc3d124e04bfb2:en_US , Bearing Packer - Plastic PTW1218\u001b[0m(150.24, 35625)\n",
      "\u001b[1m\u001b[4mcds|C|6467954|US|en|ac29922143886fde:en_US , RYOBI ONE+ 18V Cordless 2-Tool Combo Kit W/ Drill/Driver, Circ Saw, (2) Batteries, Charger, Bag, & Drill/Drive Kit (40-Piece) power tool set, power\u001b[0m(149.83, 76267)\n",
      "\u001b[1m\u001b[4mcds|C|6467954|US|en|295fc0f960cdd9d9:en_US , 2 Pieces Automatic Rebar Tie Wire Twister, Rebar Tie Wire Twister Tool, Rebar Wire Twister Pull Tie Wire Twister, Concrete Metal Wire Twisting Fence\u001b[0m(149.39, 12054)\n",
      "\u001b[1m\u001b[4mcds|C|6467954|US|en|87192eef21c738ee:en_US , Essentials Purple Floral Garden Hand Tools Set with Cultivator, Trowel, Pruner and Bonus Gloves, Size: Trowel-10.63 inch x 2.95 inch x 1.3 inch ;\u001b[0m(149.17, 88804)\n",
      "\u001b[1m\u001b[4mcds|C|6467954|US|en|4f32ba3060b3fd5e:en_US , Xcelite Tca100Stn General Hand Tool Kit,no. Of Pcs. 89\u001b[0m(149.08, 61221)\n",
      "\u001b[1m\u001b[4mcds|C|6467954|US|en|614f8afeba197cd0:en_US , Dynamite T1107 Dynamite Ultimate E-clip Tool 1.5mm-5mm\u001b[0m(148.23, 35717)\n",
      "\u001b[1m\u001b[4mcds|C|6467954|US|en|7b4f7ee9ed77739e:en_US , ROCKWELL Sonicrafter Carbide Grit Rasp | RW8924\u001b[0m(147.28, 23941)\n",
      "\u001b[1m\u001b[4mcds|C|6467954|US|en|feae634b66ec8905:en_US , Gerber SUSPENSION-NXT multi-tool\u001b[0m(147.19, 64727)\n",
      "\u001b[1m\u001b[4mcds|C|6467954|US|en|4c6bff95c5d451fc:en_US , 63 inch Adjustable Garden Rake for Leaf - Collect Loose Debris Among Delicate Plants Lawns and Yards Best Expandable Head rake for Leaves Small to\u001b[0m(146.64, 26213)\n",
      "\u001b[1m\u001b[4mcds|C|6467954|US|en|3db5520fa71bfff4:en_US , Ken-tool Lock Ring Remover,30 In,11/16 In Stk,Stl Model: 33223\u001b[0m(145.65, 92380)\n",
      "\u001b[1m\u001b[4mcds|C|6467954|US|en|3149cd9383f45333:en_US , Tool Holder Magnetic Panel Carlyle Tools\u001b[0m(144.72, 84291)\n",
      "\u001b[1m\u001b[4mcds|C|6467954|US|en|c889e00a8757dee8:en_US , Ryobi 18-Volt One+ Cordless 5-Tool Combo Kit with (2) 1.5 Ah Compact Lithium-Ion Batteries, Charger, and Bag\u001b[0m(144.63, 96301)\n",
      "\u001b[1m\u001b[4mcds|C|6467954|US|en|35ded39bc0802ba4:en_US , OEM Tools 27119 Bearing Race Installer Set\u001b[0m(144.05, 74663)\n",
      "\u001b[1m\u001b[4mcds|C|6467954|US|en|9e4069c5d9e555e9:en_US , Longacre 78295 Digital C/C Gauge w/AccuLevel & Quick Set Adapter\u001b[0m(143.58, 10840)\n",
      "\u001b[1m\u001b[4mcds|O|6020949|US|en|cp-26pc-tl-kt%2B965833 , Design Your Own 26 Piece Deluxe Home Tool Kit\u001b[0m(143.58, 4120)\n",
      "\u001b[1m\u001b[4mcds|C|6467954|US|en|b3e4ad9d60e66b66:en_US , Ace 2-1/2 in. W Steel Stiff Paint Scraper\u001b[0m(143.52, 96062)\n",
      "\u001b[1m\u001b[4mcds|C|6467954|US|en|caba7f034664f752:en_US , Eaton Fuller Transmission Countershaft Front Bearing Puller RR1012TR-3 - Oni Tools\u001b[0m(143.11, 87568)\n",
      "\u001b[1m\u001b[4mcds|O|10900|US|en|191200 , Ferrule Blaster Ferrule Puller\u001b[0m(142.72, 27234)\n",
      "\u001b[1m\u001b[4mcds|C|6467954|US|en|450756d910dd42a7:en_US , Warrior 2 Amp Variable Speed Oscillating Multi-Tool\u001b[0m(142.71, 97974)\n",
      "\u001b[1m\u001b[4mcds|C|6467954|US|en|4bea0648624f7051:en_US , DEWALT 20-Volt MAX Cordless 4-1/2 in. to 5 in. Grinder with (25) Metal and Stainless Cutting Wheels DCG412BW8062W25\u001b[0m(142.41, 1137)\n",
      "\u001b[1m\u001b[4mcds|C|6467954|US|en|42f7b5399e9d160a:en_US , RYOBI Impact Rated Driving Kit With (8-pc) with Impact Rated Driving Kit (70-pc)\u001b[0m(142.41, 64709)\n",
      "\u001b[1m\u001b[4mcds|C|6467954|US|en|13a3485e292476d2:en_US , RDX Carbide Tool Grinder\u001b[0m(142.06, 94857)\n",
      "\u001b[1m\u001b[4mcds|C|6467954|US|en|6a794c2f73fbd298:en_US , Saker Deburring Tool Pro-Deburring Drill Bit,Deburring Tool for Metal,Remove Burr Steel Tools Quick Release Shank Fits 1/8' (3mm) to 3/4' (19mm)\u001b[0m(141.70, 29257)\n",
      "\u001b[1m\u001b[4mcds|C|6467954|US|en|cdff87e625f826ae:en_US , DEWALT DG5132 Heavy-Duty Yoke-Style Suspenders\u001b[0m(141.35, 22116)\n",
      "\u001b[1m\u001b[4mcds|C|6467954|US|en|351b6274eedcebf5:en_US , Cruz Tools Fender Mount Tool Kit - DMX2\u001b[0m(141.09, 6887)\n",
      "\u001b[1m\u001b[4mcds|C|6467954|US|en|3313c52f3e00f3c4:en_US , Marshalltown Heavy-Duty Road Rake, Model RED802920\u001b[0m(141.05, 46468)\n",
      "\u001b[1m\u001b[4mcds|C|6467954|US|en|256c2a2584cdf19f:en_US , Wooden top for roller cabinets chrono a\u001b[0m(141.04, 25654)\n",
      "\u001b[1m\u001b[4mcds|C|6467954|US|en|5885ad953e75a637:en_US , Gerber 1732 Armbar Slim Drive Bronze\u001b[0m(139.46, 55400)\n",
      "\u001b[1m\u001b[4mcds|C|6467954|US|en|4035ae60a4db9f15:en_US , Westcott Weeder Tool, Die-Cut Cartridges, White, for Craft, 1-Count\u001b[0m(139.24, 24932)\n",
      "\u001b[1m\u001b[4mcds|C|6467954|US|en|956ab6458338ba8c:en_US , BOSCH Power Tools Combo Kit GXL12V-310B22 - 12V Max 3-Tool Set with 3/8 In. Drill/Driver, Pocket Reciprocating Saw and LED Worklight\u001b[0m(139.13, 95464)\n",
      "\u001b[1m\u001b[4mcds|C|6467954|US|en|3688547b0b7a8656:en_US , Biker's Choice Roll-Up Tool Kit 151522\u001b[0m(138.52, 29785)\n",
      "\u001b[1m\u001b[4mcds|C|6467954|US|en|53b3384cb31c9ff8:en_US , Milwaukee M18 Magnetic Drill — With 2 Batteries, 18 Volt, Model 2787-22HD\u001b[0m(138.42, 25518)\n",
      "\u001b[1m\u001b[4mcds|C|6467954|US|en|e07f6546b3abbefb:en_US , PT-6400-C 3376015 Cylinder Liner Puller Assembly Tool Alt\u001b[0m(137.73, 65103)\n",
      "\u001b[1m\u001b[4mcds|C|6467954|US|en|62d7477628016a55:en_US , Zurn P1321-12-CT 12-inch Cartridge Removal Tool\u001b[0m(137.72, 77369)\n",
      "\u001b[1m\u001b[4mcds|O|133112864|US|en|TK25/60 , Tool Kit - Chain Breaker & Puller For 25-60 Chain\u001b[0m(137.71, 24843)\n",
      "\u001b[1m\u001b[4mcds|C|6467954|US|en|76252ff6cf114cb8:en_US , Garage Storage Organization Tool Storage Rack,Garden Hose Holder,Heavy Duty Tool Organizers Garage Wall Mount Hooks, Space Saving Max 300 lbs Garden\u001b[0m(136.89, 2737)\n",
      "\u001b[1m\u001b[4mcds|O|6901112|US|en|70004 , ACME C-Clamp Prop Puller\u001b[0m(136.76, 78900)\n",
      "\u001b[1m\u001b[4mcds|C|6467954|US|en|781722a4321445c6:en_US , Valve Lash Wrench - 1/2 in Wrench - Adapter Bushings Included - Aluminum - Black Anodize - Kit\u001b[0m(136.75, 76066)\n",
      "\u001b[1m\u001b[4mcds|C|6467954|US|en|c15927331466b80b:en_US , Maxfit Steel Driving Bit Set (30-Piece) with Sleeve\u001b[0m(136.43, 28330)\n",
      "\u001b[1m\u001b[4mcds|C|6467954|US|en|16f7e9306ef76033:en_US , Dorman - HELP Windshield Wiper Arm Tool 49023\u001b[0m(136.01, 94049)\n",
      "\u001b[1m\u001b[4mcds|C|6467954|US|en|708ad02f3e83496f:en_US , Wrecking Bar 45 In. Steel Rocker Dual Claw Head Nail Screw Remover\u001b[0m(135.76, 50605)\n",
      "\u001b[1m\u001b[4mcds|C|6467954|US|en|4583aab00eeebccb:en_US , Heavy-Duty Nail/Screw Removing Pliers\u001b[0m(135.26, 18204)\n",
      "\u001b[1m\u001b[4mcds|C|6467954|US|en|f2ea8ef21c53d290:en_US , DEWALT 14-Piece Screwdriver Guide Set | DW2097 | Acme Tools\u001b[0m(135.04, 5790)\n",
      "\u001b[1m\u001b[4mcds|O|112466508|US|en|7794 , Renishaw OTS Optical Transmission 3D Touch-Trigger Tool Setter for Machining Centers\u001b[0m(134.94, 26357)\n",
      "\u001b[1m\u001b[4mcds|O|162826539|US|en|607958712fb5a56fa003676e , 65MM Bench Drill To Square Tenon Machine Converter Chuck Holder Modified Tenoning Eyelet Accessories with Reducing Sleeve (40/53/55/58/60 Optioanal)\u001b[0m(134.68, 21523)\n",
      "\u001b[1m\u001b[4mcds|O|507161872|US|en|185046063672 , Hitachi Chain Mortiser Bc21sa Single Phase 100 V 50/60 Hz 1140 W\u001b[0m(134.68, 57874)\n",
      "\u001b[1m\u001b[4mcds|C|6467954|US|en|0357e8d91a63bd5a:en_US , Engine Camshaft Checking Fixture Kit w/Dial Indicator; 0 to 1.000 Inch Range 66830 Proform\u001b[0m(134.62, 31719)\n",
      "\u001b[1m\u001b[4mcds|C|6467954|US|en|d17dfb0d3c806a1f:en_US , Milescraft Orbiter Multi-Angle Drill Attachment\u001b[0m(134.05, 64551)\n",
      "\u001b[1m\u001b[4mcds|C|6467954|US|en|8b24f66f7c088b7a:en_US , Tekton 90192 Comb. Wrench Set,1/4-1\" 8-22Mm,30Pcs.\u001b[0m(133.95, 16194)\n",
      "\u001b[1m\u001b[4mcds|C|6467954|US|en|013a9ff627d856d8:en_US , Apollo 1 PEX Quick Pinch Clamp Tool Black/Yellow 1 pc., Size: 5.5 x 15.25 x 6.5\u001b[0m(133.77, 59477)\n",
      "\u001b[1m\u001b[4mcds|C|6467954|US|en|3164e1a33163d793:en_US , Cricut Weeding Tool Kit | Michaels\u001b[0m(133.58, 8348)\n",
      "\u001b[1m\u001b[4mcds|C|6467954|US|en|68848591e911f82d:en_US , Westward Rolling Tool Cabinet: Gloss Red, 28 3/4 in W x 18 1/10 in D x 33 7/8 in H, Red, 5 Drawers Model: 48RJ74\u001b[0m(133.41, 49292)\n",
      "\u001b[1m\u001b[4mcds|C|6467954|US|en|e2fc2a4a68c3ad91:en_US , Dewalt Angle Grinder: 13 A Current, 8,500 RPM Max. Speed, Trigger, 7 in Wheel Dia Model: DWE43840CN\u001b[0m(133.24, 49877)\n",
      "\u001b[1m\u001b[4mcds|C|6467954|US|en|93b8f54b5e854b12:en_US , Arsenal General Construction Tool Apron in Gray | 13694\u001b[0m(133.06, 3698)\n",
      "\u001b[1m\u001b[4mcds|C|6467954|US|en|84439d24f07c0990:en_US , BOSCH 4-1/2 Inch Angle Grinder GWS8-45\u001b[0m(133.04, 26053)\n",
      "\u001b[1m\u001b[4mcds|C|6467954|US|en|b7fa1b5f5fe164a8:en_US , GERBER MP600 Multi-Plier, Needle Nose, Bladeless, Black [30-000952]\u001b[0m(132.82, 66601)\n",
      "\u001b[1m\u001b[4mcds|C|6467954|US|en|e61f67cd5e150516:en_US , STANLEY COLORmaxx STMT71653 Mechanics Tool Set, Chrome Vanadium Steel, Silver, Chrome, 145-Piece\u001b[0m(132.79, 72384)\n",
      "\u001b[1m\u001b[4mcds|C|6467954|US|en|58431f3c96d04f85:en_US , Lodesol Flexible Magnetic Tool Holder 12.5\"x9.5\" Mp4835\u001b[0m(132.46, 59289)\n",
      "\u001b[1m\u001b[4mcds|O|131363368|US|en|shopify_US_1537997252_5446580356 , GuaSha Professional Tool-3\u001b[0m(132.19, 84609)\n",
      "\u001b[1m\u001b[4mcds|C|6467954|US|en|1a2aeacf6bf2da97:en_US , Threading & Tapping attachment-lathe tailstock die holder set Machine Tools ((MT2))\u001b[0m(131.81, 90480)\n",
      "\u001b[1m\u001b[4mcds|C|6467954|US|en|1267938aea96f857:en_US , Universal Black Finish Steel Adjustable Face Spanner Wrench Pin Pliers For Round Nuts with Drilled Holes (3mm)\u001b[0m(131.69, 80620)\n",
      "\u001b[1m\u001b[4mcds|O|142382492|US|en|BM30003 , 7mm Preset Torque Wrench, Hex Size 3/4\", Preset Torque 14 in lbs\u001b[0m(131.43, 5794)\n",
      "\u001b[1m\u001b[4mcds|O|1228374|US|en|HDP-155.00 , WireJewelry Hammer Handpiece for Eurotool Flex Shaft System\u001b[0m(131.27, 8356)\n",
      "\u001b[1m\u001b[4mcds|C|6467954|US|en|aec03882fe6457e2:en_US , Pittsburgh 6 In. T-Bevel\u001b[0m(131.17, 77494)\n",
      "\u001b[1m\u001b[4mcds|C|6467954|US|en|e4c86e9646bfc4c1:en_US , DEWALT 20-Volt MAX Cordless 1/4 in. Impact Driver, (1) 20-Volt 3.0Ah Battery & Charger\u001b[0m(131.11, 68166)\n",
      "\u001b[1m\u001b[4mcds|C|6467954|US|en|1ab044e7c5c53221:en_US , 18v Octane Angle Grinder Brushless Cordless 4-1/2 In. Lithium-ion 1.5\u001b[0m(130.97, 75611)\n",
      "\u001b[1m\u001b[4mcds|C|6467954|US|en|1acf9c84bd9f409a:en_US , Lisle 3/8 in. x 16 in. Short Installer Adapter for 38850 Pulley Puller\u001b[0m(130.62, 74063)\n",
      "\u001b[1m\u001b[4mcds|C|6467954|US|en|fbcea7b975138c17:en_US , Workpro 16 inch Top Wide Mouth Tool Bag with Water Proof Rubber Base, Multi-Compartment, 46 Pockets, For Tool Organizer & Storage, W081122a\u001b[0m(130.38, 72165)\n",
      "\u001b[1m\u001b[4mcds|C|6467954|US|en|c5785b1dbfb882d3:en_US , Dewalt DCW100K Portable Stick & TIG Welder 1 Tig Welder\u001b[0m(130.30, 67764)\n",
      "\u001b[1m\u001b[4mcds|O|121825104|US|en|shopify_US_2112141262945_19844992761953 , AFW Rigging Pliers 5\"\u001b[0m(129.69, 92890)\n",
      "\u001b[1m\u001b[4mcds|O|6607559|US|en|BGSS-102 , Bench Grinder Safety Scale\u001b[0m(129.59, 92136)\n",
      "\u001b[1m\u001b[4mcds|C|6467954|US|en|30a5e6197e3d77aa:en_US , DEWALT DW 23PC Titanium Drill Bit Set\u001b[0m(129.02, 19509)\n",
      "\u001b[1m\u001b[4mcds|C|6467954|US|en|bdf5445a27d7c783:en_US , Granite Design Talon 2 Units\u001b[0m(127.64, 66718)\n",
      "\u001b[1m\u001b[4mcds|C|6467954|US|en|2cd5a35f6ea2dbf7:en_US , OTC 7470 INJECTOR TIMING TOOL SET,\u001b[0m(127.57, 97889)\n",
      "\u001b[1m\u001b[4mcds|C|6467954|US|en|c322fa447b1352bc:en_US , GEARWRENCH GW Series 72\" x 25\" 20 Drawer Roller Cabinet Black - Red\u001b[0m(127.46, 24889)\n",
      "\u001b[1m\u001b[4mcds|C|6467954|US|en|ac23abc11b8bda08:en_US , Dremel 2050-11 Stylo+ Versatile Craft & Hobby Tool With 11 Accessories - each\u001b[0m(126.56, 42833)\n",
      "\u001b[1m\u001b[4mcds|C|6467954|US|en|c1989ca8473d3985:en_US , Quad Logic Wheel Bearing Installer/Remover Tool Rear Only Polaris RZR 800 2010-2014\u001b[0m(126.36, 84654)\n",
      "\u001b[1m\u001b[4mcds|C|6467954|US|en|fdd7272ce55aab37:en_US , Mayhew Pro 1-1/4 in. W Blade 0.498 in. Dia. Body Pneumatic Hammer\u001b[0m(125.99, 86671)\n",
      "\u001b[1m\u001b[4mcds|C|6467954|US|en|d5c115781c35a6fa:en_US , Spear & Jackson 94-370R Eclipse Saw Tooth Setter, Red\u001b[0m(125.93, 69519)\n",
      "\u001b[1m\u001b[4mcds|O|8009538|US|en|12202768 , Global CNC Industries Turret & VDI Tool Holders; Type: BMT Live Tooling ; Clamping System: 73mm X 70mm ; Tool Axis: Axial ; Through Coolant: Yes\u001b[0m(125.82, 73962)\n",
      "\u001b[1m\u001b[4mcds|C|6467954|US|en|aeecb73c936fefd4:en_US , Marshalltown 10.25-in Zinc Plated Steel Moulding Pry Bar | MPB-L\u001b[0m(125.59, 24765)\n",
      "\u001b[1m\u001b[4mcds|C|6467954|US|en|1595befdc07af4ea:en_US , Burgon and Ball Deluxe Gardening Tool Set\u001b[0m(125.57, 7441)\n",
      "\u001b[1m\u001b[4mcds|C|6467954|US|en|5712060d10889134:en_US , Diamabrush ZMSTBLD25R10 Coatings/Mastic Removal Replacement Blades Counter Clockwise for 16-inch and 19-inch Tools, 25 Grit, 10 Blades\u001b[0m(125.29, 86367)\n",
      "\u001b[1m\u001b[4mcds|C|6467954|US|en|b8cfbf83b61c826a:en_US , Brand Lisle Exhaust Pipe Rubber Hanger Support / Removal Pliers Tool\u001b[0m(125.23, 43251)\n",
      "\u001b[1m\u001b[4mcds|C|6467954|US|en|2bc0c96ca13234e3:en_US , Park Tool | Spa-1 and Spa-2 Pin Spanners Spa-1, Green\u001b[0m(125.20, 48485)\n",
      "\u001b[1m\u001b[4mcds|O|116927301|US|en|46SO-DD-HS-COY , Direct Draw Hammer Sheath\u001b[0m(124.94, 58267)\n",
      "\u001b[1m\u001b[4mcds|C|6467954|US|en|98164e4daad9711b:en_US , Ganasan Contour Gauge With Lock|10+5 Inch Construction Rulers Measure Tool For Corners And Contoured Handyman Diy Woodworking Tools Construction Carpe\u001b[0m(124.94, 46112)\n",
      "\u001b[1m\u001b[4mcds|O|116927301|US|en|46HH-AHBH-2-W/M , AIMS Hammer/Hatchet Belt Holder with Magnet\u001b[0m(124.86, 75331)\n",
      "\u001b[1m\u001b[4mcds|C|6467954|US|en|a071e8cc74fe93fd:en_US , Baileigh PH-24A Pneumatic Operated Planishing Hammer, 24 Inch Throat Depth\u001b[0m(124.76, 27612)\n",
      "\u001b[1m\u001b[4mcds|O|348908|US|en|MOP0021-X001-Y001 , Motion Pro Damper Rod Fork Tool-Dirtbike Damper Rod Fork Tool\u001b[0m(124.22, 93908)\n",
      "\u001b[1m\u001b[4mcds|O|5642721|US|en|J1853 , Detroit Diesel Injector Timing Tool\u001b[0m(124.09, 57729)\n",
      "\u001b[1m\u001b[4mcds|C|6467954|US|en|65b25a39e5c4f54f:en_US , Dare Chain Grab Puller and Tightener - 2456\u001b[0m(124.05, 92048)\n",
      "\u001b[1m\u001b[4mcds|C|6467954|US|en|142887eb503e24dd:en_US , S & G Tool Aid Sgt-18915 Terminal Crimper Kits\u001b[0m(123.98, 58602)\n",
      "\u001b[1m\u001b[4mcds|C|6467954|US|en|696d78a67acc3318:en_US , 71161161090, FEIN ASCM 18 QM 4-speed Cordless Drill/Driver\u001b[0m(123.72, 61736)\n",
      "\u001b[1m\u001b[4mcds|C|6467954|US|en|433b9c7f33a78c62:en_US , RYOBI ONE+ 18V Cordless 18-Gauge AirStrike Brad Nailer with Compression Drive 3/8 in. Crown Stapler (Tools Only)\u001b[0m(123.52, 8934)\n",
      "\u001b[1m\u001b[4mcds|C|6467954|US|en|9f01f143a82ab53e:en_US , Bosch Angle Grinder: 13 A Current, 11,500 RPM Max. Speed, Slide, (1) Bare Tool, (1) Wheel Guard Model: GWS13-50TG\u001b[0m(123.31, 35297)\n",
      "\u001b[1m\u001b[4mcds|C|6467954|US|en|248117fb790429ce:en_US , 1\" Drain Tube Flaring Tool Flanging Tool 8PCS Fastener for Boat Marine Plumbing Replaces 520290-1\u001b[0m(122.91, 20026)\n",
      "\u001b[1m\u001b[4mcds|C|6467954|US|en|7377d95feee8ba58:en_US , DeWalt DWMC150 35-Degree Pneumatic Metal Connector Nailer\u001b[0m(122.59, 78593)\n",
      "\u001b[1m\u001b[4mcds|C|6467954|US|en|b8870882995fa430:en_US , OTC 5035 Truck Clutch AdjusTment Gauge Set\u001b[0m(122.22, 29973)\n",
      "\u001b[1m\u001b[4mcds|C|6467954|US|en|9290c08d3669c9a1:en_US , Mibro Adjustable Tap Wrench, 302871\u001b[0m(122.12, 13813)\n",
      "\u001b[1m\u001b[4mcds|C|6467954|US|en|6ac83166efd2d546:en_US , Ring Bending Tool Repair Bracelet Bender Copper Silver Gold Strip Bending Tool\u001b[0m(121.10, 24890)\n",
      "\u001b[1m\u001b[4mcds|O|114193152|US|en|B01FJQ14NQ , Glamorway 6Pcs Clay Sculpture Sculpting Tool Mini Ribbon Cutter Metal Tools Set Carving Art\u001b[0m(120.81, 9263)\n",
      "\u001b[1m\u001b[4mcds|C|6467954|US|en|2e2b351c821f7757:en_US , Anvil 51 in. Wood Handle Steel 14-Tine Bow Rake\u001b[0m(120.77, 10443)\n",
      "\u001b[1m\u001b[4mcds|C|6467954|US|en|c54d15acf555bf6c:en_US , Hyper Tough 38-pc Stubby Tool Set: Wrench Ratcheting Screwdriver Bits\u001b[0m(120.73, 25849)\n",
      "\u001b[1m\u001b[4mcds|C|6467954|US|en|8af282d29380cbe6:en_US , Fiskars 18\" Demolition Hammer - Dead Blow Hammers\u001b[0m(120.49, 68684)\n",
      "\u001b[1m\u001b[4mcds|C|6467954|US|en|8a427d05df121059:en_US , Dremel Straight Router Bit - 654\u001b[0m(120.15, 75210)\n",
      "\u001b[1m\u001b[4mcds|C|6467954|US|en|4c1a695c8ca8c170:en_US , Gear Wrench Hose Grip Double-X Pliers - 3/4\", 82019\u001b[0m(120.08, 69944)\n",
      "\u001b[1m\u001b[4mcds|C|6467954|US|en|96791657c58bb5d4:en_US , Husky Multi-angle Pipe Wrench 1003 005 294 (e10017225)\u001b[0m(120.03, 33939)\n",
      "\u001b[1m\u001b[4mcds|C|6467954|US|en|b3acdb35cc28d2a4:en_US , Dremel Drill Press Rotary Tool Workstation For Woodworking Jewelry\u001b[0m(120.01, 54218)\n",
      "\u001b[1m\u001b[4mcds|C|6467954|US|en|c477dd7a336f7200:en_US , Toolbag DMM\u001b[0m(119.98, 60398)\n",
      "\u001b[1m\u001b[4mcds|C|6467954|US|en|4fc1dc570584ccac:en_US , TEKTON 7 -in Diagonal Cutting Pliers PCT00007 | PCT00007-D\u001b[0m(119.60, 56757)\n",
      "\u001b[1m\u001b[4mcds|C|6467954|US|en|de0cce42ccb305d1:en_US , Steelman 79435 Heavy-Duty Tire Valve Stem Puller/Installer, Green\u001b[0m(119.49, 96562)\n",
      "\u001b[1m\u001b[4mcds|C|6467954|US|en|174454ad543bbd4f:en_US , Steck Studlever Dent Puller\u001b[0m(119.34, 20279)\n",
      "\u001b[1m\u001b[4mcds|C|6467954|US|en|e283b08b64582d08:en_US , Bosch 1Inch SDS-plus Rotary Hammer, Pistol Grip, Chuck Size 1 in, Volts 120, Amps 8, Model GBH2-26\u001b[0m(119.21, 82051)\n",
      "\u001b[1m\u001b[4mcds|C|6467954|US|en|4366ec51109e1f88:en_US , Bosch Black Oxide Impact Tough Drill Bit Set (9-Piece)\u001b[0m(118.99, 43090)\n",
      "\u001b[1m\u001b[4mcds|C|6467954|US|en|a40241d506179181:en_US , DEWALT DWST08205-DWST08202-DWST08201-DWST08204-DWST08210 ToughSystem Workshop Deluxe Mobile Bundle Kit\u001b[0m(118.94, 21630)\n",
      "\u001b[1m\u001b[4mcds|O|101830283|US|en|472571036932_173855230431 , Craftsman Ratchet Wrench 1/4 3/8 1/2 Teardrop 75t 84t Teeth Brand\u001b[0m(118.79, 33230)\n",
      "\u001b[1m\u001b[4mcds|C|6467954|US|en|04c299e2ff14352e:en_US , DEWALT 3/4\" Sds-Max Ground Rod Driver - 324DW5847 - Power Tool & Equipment Accessories - Concrete & Masonry Drill Bits\u001b[0m(118.70, 51670)\n",
      "\u001b[1m\u001b[4mcds|O|7308165|US|en|TDPP112+or+TDPP113 , Tire Changing Tool (5\" or 6\")\u001b[0m(118.61, 19565)\n",
      "\u001b[1m\u001b[4mcds|O|10798|US|en|shopify_US_2057445572697_21364897775705 , Gemplers Extra-Wide, Long-Handled Tool Rack\u001b[0m(118.61, 74049)\n",
      "\u001b[1m\u001b[4mcds|C|6467954|US|en|6ea698546dbc6ff0:en_US , Dremel EZ726-01 EZ Lock Sanding & Polishing Kit for Rotary Tool, 8 Piece (Dremel EZ726-01)\u001b[0m(118.45, 40092)\n",
      "\u001b[1m\u001b[4mcds|C|6467954|US|en|f5b61290af5983d2:en_US , Craftool Strap Cutter Replacement Blades 3081-00 By Tandy Leather\u001b[0m(118.44, 84667)\n",
      "\u001b[1m\u001b[4mcds|C|6467954|US|en|b8c48e090f01d320:en_US , DeWalt DW2735 Drill Flip Drive Set\u001b[0m(118.14, 93097)\n",
      "\u001b[1m\u001b[4mcds|C|6467954|US|en|d924cd552a10bda7:en_US , RZX 16\" RIVET NUT TOOL Hand Blind Riveter ,RIVNUT Riveting Tools with Nut Setting System totally 12mandrels M3 M4 M5,m6,m8,m10 M12, 10-24, 1/4-20 , 5\u001b[0m(117.95, 70399)\n",
      "\u001b[1m\u001b[4mcds|O|142898678|US|en|2298357 , Rack Lat Pulldown / Row Attachment - Light Commercial/Residential Power Rack | Bells of Steel\u001b[0m(117.83, 74068)\n",
      "\u001b[1m\u001b[4mcds|O|545697639|US|en|880 , CH-22 Manual Tire Changer\u001b[0m(117.24, 45313)\n",
      "\u001b[1m\u001b[4mcds|C|6467954|US|en|e6dd3d7be28f199f:en_US , Universal Sharpening Station, Multifunctional Sharpener Professional Knife & Chisel & HSS Drill Electric Multitask Sharpening Machine\u001b[0m(117.07, 61680)\n",
      "\u001b[1m\u001b[4mcds|C|6467954|US|en|f60950a66f18e230:en_US , OZ-Puller Post Clamp\u001b[0m(116.92, 75145)\n",
      "\u001b[1m\u001b[4mcds|C|6467954|US|en|d2b14df38583ca3d:en_US , Estwing 8-Pocket Leather Electrician's Tool Pouch for Work and Tool Belts, Flashlight Loop, Tape Chain, Pliers Pockets, 3-inch Tunnel Loop\u001b[0m(116.81, 43789)\n",
      "\u001b[1m\u001b[4mcds|C|6467954|US|en|9a42ae6cb0f3df2b:en_US , Oni Tools Input Shaft Bearing Puller Tool Kit for Eaton Fuller 1 3/4” & 2” Shafts and Ultra Shift Plus Transmission Bearing 4308011\u001b[0m(116.77, 31833)\n",
      "\u001b[1m\u001b[4mcds|C|6467954|US|en|57c89a643c6541fa:en_US , Wrench Set Full Polish Chrome\u001b[0m(116.41, 4104)\n",
      "\u001b[1m\u001b[4mcds|C|6467954|US|en|e1603a356b46d445:en_US , MAKITA 18V X2 (36V) LXT Lithium‐Ion Brushless Cordless 21\" Self Propelled Lawn Mower, Tool Only Teal | XML08Z | Acme Tools\u001b[0m(116.11, 96832)\n",
      "\u001b[1m\u001b[4mcds|C|6467954|US|en|09b1e9fbb3df5043:en_US , Vevor Lawn Mower Blade Grinder 1/2 Hp Bench Blade Sharpener 8\" Grinding Wheel\u001b[0m(115.89, 33779)\n",
      "\u001b[1m\u001b[4mcds|C|6467954|US|en|6592b45d5cf97c1c:en_US , 100 Pcs Rubber Grinding Heads,3mm Shank Polishing Tip Mounted Point Bufing Wheel for Dremel Rotary Tools\u001b[0m(115.71, 86494)\n",
      "\u001b[1m\u001b[4mcds|C|6467954|US|en|1597ded244b6d4e4:en_US , Leatherman Skeletool Multi-Tool Coyote Tan, Clamshell Packaging Full Size, General Purpose 832201\u001b[0m(115.44, 50429)\n",
      "\u001b[1m\u001b[4mcds|C|6467954|US|en|b8b07b9b85be016b:en_US , CRAFTSMAN 2000 Series 26.5-in W x 37.5-in H 5-Drawer Steel Rolling Tool Cabinet (Black) | CMST98268BK\u001b[0m(115.29, 58056)\n",
      "\u001b[1m\u001b[4mcds|O|6296724|US|en|133439388719 , Sears Craftsman Commercial Electric Drill Heavy Duty Reversible 1/2\u001b[0m(115.27, 32104)\n",
      "\u001b[1m\u001b[4mcds|C|6467954|US|en|7cbc63dc75585062:en_US , RYOBI 3 in. Carbide Cut Off Wheel Set (6-Piece)\u001b[0m(115.25, 96997)\n",
      "\u001b[1m\u001b[4mcds|C|6467954|US|en|252f3328ff28ddc8:en_US , PSB/Purdy 140900230 Carbide Scraper ~ 2 - 1/2\"\u001b[0m(115.12, 55240)\n",
      "\u001b[1m\u001b[4mcds|C|6467954|US|en|147651e0457eafbe:en_US , Crescent 24 in. Chain Wrench\u001b[0m(114.68, 70196)\n",
      "\u001b[1m\u001b[4mcds|C|6467954|US|en|019a29c6109b5c6a:en_US , Makita XSF03R 18V LXT Lithium-Ion COMPACT Brushless Cordless Drywall Screwdriver Kit (2.0Ah)\u001b[0m(114.62, 99958)\n",
      "\u001b[1m\u001b[4mcds|C|6467954|US|en|565bf57c7d24765f:en_US , Dead On Dos22m 22-ounce 18-inch Steel Milled Face Hammer\u001b[0m(114.44, 83400)\n",
      "\u001b[1m\u001b[4mcds|C|6467954|US|en|cb5b3838ff9f8589:en_US , Milwaukee 48-22-1928 5\" HARDLINE Fixed Blade Knife\u001b[0m(114.25, 62062)\n",
      "\u001b[1m\u001b[4mcds|C|6467954|US|en|63474ab23d9dca08:en_US , Edger Blade - Echo 720237001\u001b[0m(114.22, 14897)\n",
      "\u001b[1m\u001b[4mcds|C|6467954|US|en|85e97db70cb24959:en_US , Hercules 10 in. Tool Tote with 22 Pockets\u001b[0m(113.99, 345)\n",
      "\u001b[1m\u001b[4mcds|C|6467954|US|en|0730b093ef4f25fd:en_US , Homax Drywall Corner Taping Easy Seamer Tool, Plastic, Yellow, Size: 7.6 x 4.5 x 1.9\u001b[0m(113.82, 45490)\n",
      "\u001b[1m\u001b[4mcds|C|6467954|US|en|cfdd073da3dd9594:en_US , Ridge Tool Company Manual Threading/Metal Cases, For 12R, Holds 9 Die Heads, 1/EA, #97375 | AFT Fasteners\u001b[0m(113.72, 64437)\n",
      "\u001b[1m\u001b[4mcds|C|6467954|US|en|70c0dc20368a2657:en_US , Bauer Tools 1895c-b\u001b[0m(113.66, 84524)\n",
      "\u001b[1m\u001b[4mcds|C|6467954|US|en|e623761846d11c8f:en_US , Klein Tools Bull-Pin And Bolt Bags, 3 Compartments, 10 In X 5 In, Canvas - 1 Ea (409-5416)\u001b[0m(113.63, 52335)\n",
      "\u001b[1m\u001b[4mcds|O|9202400|US|en|10598 , Irritec Drip Clip Punch/Installation Tool\u001b[0m(113.60, 80657)\n",
      "\u001b[1m\u001b[4mcds|C|6467954|US|en|8279924a0a2f2cd2:en_US , Workington Portable Carpenter Metal Tool Box with Latch, Small Parts Box, Sockets Storage Box Organizer 4002\u001b[0m(113.49, 90489)\n",
      "\u001b[1m\u001b[4mcds|O|12768591|US|en|898325253 , Pink tool belt incl. pink tool\u001b[0m(113.35, 3192)\n",
      "\u001b[1m\u001b[4mcds|O|4214520|US|en|91082068 , Speedway Racing Tire Needler Prep Tool\u001b[0m(113.28, 8727)\n",
      "\u001b[1m\u001b[4mcds|C|6467954|US|en|17b099866ffe7fd4:en_US , Crescent Z2 Auto-Bite Tongue and Groove Plier Set (3-Piece)\u001b[0m(113.21, 84040)\n",
      "\u001b[1m\u001b[4mcds|C|6467954|US|en|05c509ee40d8889d:en_US , Berry's Superior Bullet Puller\u001b[0m(112.94, 83538)\n",
      "\u001b[1m\u001b[4mcds|O|100872875|US|en|21730 , Jacknob 8935, Toilet Partition One Way Screw Removers, Can Remove Sizes: 6-14 by WoodworkerExpress.com\u001b[0m(112.93, 59106)\n",
      "\u001b[1m\u001b[4mcds|C|6467954|US|en|b23a623a78b49903:en_US , Gerber Gator Combo Axe and Knife\u001b[0m(112.73, 61212)\n",
      "\u001b[1m\u001b[4mcds|C|6467954|US|en|2d127c08cdecc34b:en_US , Gordon Lock-Back Utility Knife\u001b[0m(112.64, 6087)\n",
      "\u001b[1m\u001b[4mcds|C|6467954|US|en|20ebe6b121a6ff15:en_US , End Cutting Pliers Nail Puller End Nippers For Zipper Install Stops\u001b[0m(112.38, 32993)\n",
      "\u001b[1m\u001b[4mcds|C|6467954|US|en|2e71242c84fbf954:en_US , Milwaukee Lineman's Underground Knife\u001b[0m(112.11, 9080)\n",
      "\u001b[1m\u001b[4mcds|C|6467954|US|en|4d4147965dcbf799:en_US , Machinist Clamping Kit, 42 Piece\u001b[0m(111.75, 92657)\n",
      "\u001b[1m\u001b[4mcds|C|6467954|US|en|3ae907620849385c:en_US , Epicurean Magnetic Knife Holders\u001b[0m(111.23, 57461)\n",
      "\u001b[1m\u001b[4mcds|C|6467954|US|en|e1019aa76bf0cc50:en_US , JEGS 5-Drawer Tool Box Cart | Smooth Ball Bearing Glides | Over 700 LBS Capacity | Red Powder Coated Finish | Includes Drawer Liners\u001b[0m(111.23, 68202)\n",
      "\u001b[1m\u001b[4mcds|C|6467954|US|en|8487eb6bb8d6c647:en_US , RYOBI ONE+ 18V Brushless Cordless 1/4 in. Extended Reach Ratchet with (1) 2.0 Ah Battery and Charger\u001b[0m(110.93, 5581)\n",
      "\u001b[1m\u001b[4mcds|O|348908|US|en|HPT1WUD-X001-Y001 , HP Tools Showa/KYB Compression Body Fork Cap Tool-Dirtbike Fork Cap Wrench\u001b[0m(110.81, 36925)\n",
      "\u001b[1m\u001b[4mcds|C|6467954|US|en|a99bb41dbe23525c:en_US , Milwaukee M18 FUEL 18 Volt Lithium Ion Cordless Brushless String Grass Trimmer 8.0Ah Kit with Pole Saw, Hedge Trimmer, Edger\u001b[0m(110.35, 45690)\n",
      "\u001b[1m\u001b[4mcds|C|6467954|US|en|da4254659837e043:en_US , General International 15 In. Bench Commercial Variable Speed Drill Press with Laser and Regular Chuck Green | 75-060 M1 | Acme Tools\u001b[0m(110.21, 44753)\n",
      "\u001b[1m\u001b[4mcds|C|6467954|US|en|d6dc9bdbbf8431cc:en_US , Dr. Slick Fly Tyer Gift Set | Fly Fishing Tying Set | SKU TYER\u001b[0m(110.17, 65039)\n",
      "\u001b[1m\u001b[4mcds|C|6467954|US|en|dc08a30c1136e329:en_US , 12-Piece Reciprocating Saw Blade Kit By Milwaukee 49-22-1129\u001b[0m(110.15, 96229)\n",
      "\u001b[1m\u001b[4mcds|C|6467954|US|en|aca52a5cce444d00:en_US , Eklind 10 Piece T-Handle Hex Key Set - Hex Range 3/32 to 3/8\", Alloy Steel | Part #53610\u001b[0m(110.15, 70603)\n",
      "\u001b[1m\u001b[4mcds|O|3074108|US|en|2KUY1 , Prime Edge Knife Sharpening Machine: 110 V, 1/6 Horsepower, Single Phase, 12 in Overall Dp Model: HE1-110V1P60HZ\u001b[0m(110.14, 62876)\n",
      "\u001b[1m\u001b[4mcds|C|6467954|US|en|c77c545302407832:en_US , Nifty Home Products, Inc. Innovation Factory Trucker'S Friend All-Purpose Survival Tool - Woodcraft\u001b[0m(110.01, 97592)\n",
      "\u001b[1m\u001b[4mcds|C|6467954|US|en|99d8388100bb690c:en_US , Powerbuilt Master Steering Wheel and Lock Plate Puller Kit, Included (qty.) 21, Product Type Pullers, Single Set, Model 648748\u001b[0m(109.55, 21004)\n",
      "\u001b[1m\u001b[4mcds|O|114143634|US|en|553539078914_254178903344 , Canvas Roll Up Tools Storage Bag 8/10/14-pocket Spanner Wrench\u001b[0m(109.50, 36945)\n",
      "\u001b[1m\u001b[4mcds|C|6467954|US|en|c7ee82bf9a672e59:en_US , Wal-Board Tools 24 in. Taping Knife with Wooden Handle\u001b[0m(109.43, 3842)\n",
      "\u001b[1m\u001b[4mcds|O|101704838|US|en|174104040720 , Hart 5 Piece Quick Tatch Trowel Set Grout Float, Square Notch, Handle\u001b[0m(109.36, 22863)\n",
      "\u001b[1m\u001b[4mcds|C|6467954|US|en|89b7f0b7fcea9a0a:en_US , DEWALT Reciprocating Saw Blades, Straight Back, 6-Inch, 14 TPI, 5-Pack (DW4808)\u001b[0m(109.35, 16960)\n",
      "\u001b[1m\u001b[4mcds|O|101684535|US|en|254905331731 , 1\" Quick Release 'l' Shaped Windshield Glass Knife - Rockwell\u001b[0m(109.13, 44638)\n",
      "\u001b[1m\u001b[4mcds|C|6467954|US|en|c2e510528af86727:en_US , Landscapers Select PS-60943L Lawn Weeder, Plastic Handle, Powder-Coated\u001b[0m(109.12, 43607)\n",
      "\u001b[1m\u001b[4mcds|C|6467954|US|en|5d55e412a46d9f99:en_US , Milwaukee Cordless Concrete Vibrator Model: 2911-20\u001b[0m(109.12, 34151)\n",
      "\u001b[1m\u001b[4mcds|C|6467954|US|en|6551d06ab0397ab0:en_US , Milwaukee M12 FUEL 12-Volt Li-Ion Brushless Cordless Hammer Drill and Impact Driver Combo Kit (2-Tool)W/ M12 3/8 In. Ratchet power tool set, power\u001b[0m(108.92, 49285)\n",
      "\u001b[1m\u001b[4mcds|C|6467954|US|en|72dd5fb4752206d0:en_US , Bulltools 6-Piece Flex-Head Extra Long Ratcheting Wrenches Double Box End Chrome Vanadium Steel 72-Tooth Wrench Set with Metric 8mm - 19mm, Size: SETS\u001b[0m(108.86, 58808)\n",
      "\u001b[1m\u001b[4mcds|O|8740|US|en|306810110 , DEWALT 20 in. 20V MAX Lithium Ion Cordless Battery Walk Behind Push Lawn Mower with (4) 5.0Ah Batteries and Charger Included\u001b[0m(108.83, 18074)\n",
      "\u001b[1m\u001b[4mcds|C|6467954|US|en|3a2847b3feda7132:en_US , GEARWRENCH Ratcheting Combination Wrench 16mm, 12 Point - 9116D\u001b[0m(108.24, 63964)\n",
      "\u001b[1m\u001b[4mcds|C|6467954|US|en|b9533f36c639309b:en_US , KAKO String Trimmer Line 0.065'' Replacement Spool for Ryobi One Plus AC14RL3A 18V 24V 40V Auto Feed Cordless Weed Eater Spools Line with AC14HCA\u001b[0m(108.06, 71013)\n",
      "\u001b[1m\u001b[4mcds|C|6467954|US|en|ccef3f01901de174:en_US , Jackhammer Driving Kit Jack Hammer Driver Bit Spacer Install Fence\u001b[0m(107.94, 67447)\n",
      "\u001b[1m\u001b[4mcds|C|6467954|US|en|5dbfecb4cbf53526:en_US , Guosu Cable Grip Wire Gripper Steel Cable Puller Tool for Wire Rope,Pulling 4408 Lbs(2 Ton)\u001b[0m(107.90, 85846)\n",
      "\u001b[1m\u001b[4mcds|C|6467954|US|en|d01fd345d3179390:en_US , Dewalt Screwdriver Kit: 1/4 in Hex Drive Size, 430 RPM Free Speed, (1) Bare Tool, (1) Battery, (1) Charger Model: DCF680N1\u001b[0m(107.79, 94538)\n",
      "\u001b[1m\u001b[4mcds|C|6467954|US|en|d28a4c7430443570:en_US , Craftsman 8 oz Ball Pein Hammer Steel Head 11 in.\u001b[0m(107.51, 46760)\n",
      "\u001b[1m\u001b[4mcds|C|6467954|US|en|087f618f97ec36ea:en_US , Milwaukee 48-01-7787 9\" 14 TPI The Torch SAWZALL Blades (Pack of 100)\u001b[0m(107.31, 50534)\n",
      "\u001b[1m\u001b[4mcds|C|6467954|US|en|3cd442db3c7ebeed:en_US , Feuling Crankshaft Runout Measuring Tool 9015\u001b[0m(107.24, 25409)\n",
      "\u001b[1m\u001b[4mcds|C|6467954|US|en|d1632a0a36c283d9:en_US , Flex 24-volt Brushless Drywall Cut Out Tool - Fx2471-z -tool Only-\u001b[0m(107.21, 10821)\n",
      "\u001b[1m\u001b[4mcds|C|6467954|US|en|3e03c1b0780b288b:en_US , DEWALT 125 MPH 600 CFM Flexvolt 60V MAX Lithium-Ion Cordless Axial Blower (Tool Only) with Bonus (1) FLEXVOLT 60V 3.0Ah Battery\u001b[0m(107.14, 40317)\n",
      "\u001b[1m\u001b[4mcds|C|6467954|US|en|f4cab55e2c9c3424:en_US , Attractor 24 in. Magnetic Sweeper PS337C\u001b[0m(106.85, 25410)\n",
      "\u001b[1m\u001b[4mcds|C|6467954|US|en|cd697a164a554954:en_US , Milwaukee 48-68-0031 1/4\" Collet Nut\u001b[0m(106.74, 54444)\n",
      "\u001b[1m\u001b[4mcds|C|6467954|US|en|7d4a8bdcf2c0f94e:en_US , Westward 2Dbr6 Ball Pein Hammer,8 Oz,hickory Handle\u001b[0m(106.68, 60073)\n",
      "\u001b[1m\u001b[4mcds|O|247906560|US|en|22455 , Ko-ken Socket Set in Foam PM-HND-1014-00-F / TI4261M | Pentagon, Socket Set Titanium\u001b[0m(106.42, 75228)\n",
      "\u001b[1m\u001b[4mcds|O|272358891|US|en|419058 , Hummingbird Needle Threader\u001b[0m(106.41, 35604)\n",
      "\u001b[1m\u001b[4mcds|C|6467954|US|en|6a1c14a4700cfffe:en_US , BOSCH 10 pc. Wood and Metal Cutting T-Shank Jig Saw Blade Set | T5002 | Acme Tools\u001b[0m(106.38, 2932)\n",
      "\u001b[1m\u001b[4mcds|C|6467954|US|en|be51f85a7f0207db:en_US , Mueller Kueps 457705 Line Wrench Kit With Joint Brand\u001b[0m(106.25, 87607)\n",
      "\u001b[1m\u001b[4mcds|C|6467954|US|en|80515813c37838e6:en_US , Knipex 02 01 200: Knipex High-Leverage Combination Pliers\u001b[0m(105.84, 73491)\n",
      "\u001b[1m\u001b[4mcds|O|6296724|US|en|114918806727 , Genuine Makita Makpac Interlocking Charger Case Systainer W/o\u001b[0m(105.82, 60009)\n",
      "\u001b[1m\u001b[4mcds|O|111108931|US|en|PS16325548 , Ryobi 314608005 Bump Feed Trimmer Head Assembly (Inc. Key No. 21)\u001b[0m(105.73, 9290)\n",
      "\u001b[1m\u001b[4mcds|C|6467954|US|en|dd19ff2ed10b9ef8:en_US , Icon SAE Professional Ratcheting Combination Wrench Set, 7 Piece\u001b[0m(105.70, 54359)\n",
      "\u001b[1m\u001b[4mcds|O|110026978|US|en|shopify_US_4621895046_15133467334 , Milwaukee 4094 Diamond Coring Motor 450/900 RPM, 20 Amp with Shear Pin\u001b[0m(105.56, 24586)\n",
      "\u001b[1m\u001b[4mcds|O|423913691|US|en|433395879019_133947822736 , 1~20pack 20 Volt For Dewalt 20v Max 5.0ah Lithium Ion Battery Dcb206-2\u001b[0m(105.30, 76002)\n",
      "\u001b[1m\u001b[4mcds|C|6467954|US|en|453d4abcece22b0b:en_US , 3pcs Locking Pliers Set 10'' 7\" 5\" Curved Jaw Nickel Plated Heat\u001b[0m(105.19, 7642)\n",
      "\u001b[1m\u001b[4mcds|C|6467954|US|en|cf5a5bdbb7776b00:en_US , Magic Tool Clip Set Regular - Marc Petitjean - Fly Tying\u001b[0m(105.17, 13422)\n",
      "\u001b[1m\u001b[4mcds|C|6467954|US|en|255bf24da809f042:en_US , T40070-T40133 Camshaft Clamp Set Alt\u001b[0m(105.01, 97716)\n",
      "\u001b[1m\u001b[4mcds|C|6467954|US|en|5ca8836234eec0ed:en_US , Rockler Table Saw Blade Holder\u001b[0m(104.86, 84417)\n",
      "\u001b[1m\u001b[4mcds|C|6467954|US|en|3ca071894f86af50:en_US , K Tool International 72450 - Magnetic Tool Hanger\u001b[0m(104.54, 47565)\n",
      "\u001b[1m\u001b[4mcds|O|8128387|US|en|CR10B , Handle Maker\u001b[0m(104.45, 6090)\n",
      "\u001b[1m\u001b[4mcds|O|117171671|US|en|830508606 , Knipex Holder ~ Leather Case for Knipex Pliers ~ Knipex Pliers Holder ~ Plier Holster for Knipex Cobra\u001b[0m(104.44, 79747)\n",
      "\u001b[1m\u001b[4mcds|C|6467954|US|en|bc3748ca24728fbe:en_US , Ultima 5.5\" Razor Sharp Surgical Seam Rippers/seam Cutters (4 Pack)\u001b[0m(104.28, 92347)\n",
      "\u001b[1m\u001b[4mcds|C|6467954|US|en|d2e4f3b027ee1995:en_US , DeWALT 3/4\" Pipe Capacity, PEX Expander Tool - 1 Piece, Cuts PEX Type-A, Includes Expansion Head | Part #DCE40034\u001b[0m(104.21, 33064)\n",
      "\u001b[1m\u001b[4mcds|O|113478214|US|en|31-004011 , Gerber Gear Randy Newberg EBS Tools Replacement Blades\u001b[0m(104.20, 43795)\n",
      "\u001b[1m\u001b[4mcds|C|6467954|US|en|15c6785a45e48d08:en_US , Flexible Hose Clamp Pliers 2' Long Wire For Flat Oil Water Fuel Hose\u001b[0m(104.19, 42382)\n",
      "\u001b[1m\u001b[4mcds|C|6467954|US|en|f455177fd9394293:en_US , Powerbuilt 648796 For Honda Crank Pulley Holder Tool\u001b[0m(103.93, 34824)\n",
      "\u001b[1m\u001b[4mcds|C|6467954|US|en|212fc674c11a44bb:en_US , Dewalt 5140178-86 Replacement Radio Power Supply Dwst08810\u001b[0m(103.81, 49269)\n",
      "\u001b[1m\u001b[4mcds|O|144646454|US|en|09A0121 , Replacement Blades for Pro Seam-Ripper Kit, Repl. (6)\u001b[0m(103.62, 7782)\n",
      "\u001b[1m\u001b[4mcds|O|7892326|US|en|R-3018+RC4 , UTV Roll Bar Tool Holder Carrier by Hornet Outdoors\u001b[0m(103.53, 74638)\n",
      "\u001b[1m\u001b[4mcds|C|6467954|US|en|7acbc115daa38d53:en_US , SUNEX TOOLS Pencil Air Die Grinder Kit\u001b[0m(103.19, 13393)\n",
      "\u001b[1m\u001b[4mcds|O|9299300|US|en|19876 , Frame Hammer- 1 Each\u001b[0m(102.97, 60241)\n",
      "\u001b[1m\u001b[4mcds|C|6467954|US|en|369fbcb6836d2471:en_US , Westward Intermediate Chest: Powder Coated Black, 26 3/8 in W x 17 in D x 10 5/8 in H, Black Model: 32H849\u001b[0m(102.94, 76444)\n",
      "\u001b[1m\u001b[4mcds|C|6467954|US|en|592e767d18914901:en_US , Motion Pro 08-0349 35mm Flywheel Puller M35 X 1.5 R.h.\u001b[0m(102.73, 99840)\n",
      "\u001b[1m\u001b[4mcds|C|6467954|US|en|1f521d452ad76a25:en_US , Bond Mattock 15 in. Steel Handle\u001b[0m(102.55, 65962)\n",
      "\u001b[1m\u001b[4mcds|C|6467954|US|en|b9d94ce938ad456c:en_US , Multi-Angle Measuring Ruler,Multi Angle Tool,12-Sided Angle Measurement,Tile Holes Measure Ruler with 3-Holes Positioning Apertures,Upgrade Multi\u001b[0m(102.52, 575)\n",
      "\u001b[1m\u001b[4mcds|C|6467954|US|en|ee829f932d35e0f2:en_US , GearWrench 9520D 10 Piece 12 Point Stubby Ratcheting Combination Metric Wrench Set\u001b[0m(102.36, 12522)\n",
      "\u001b[1m\u001b[4mcds|C|6467954|US|en|80bbedcd43fa8b30:en_US , NAVAC NTR14 Internal & External Reamer, 1/8\" to 1 5/8\" Tube O.D.\u001b[0m(102.19, 32892)\n",
      "\u001b[1m\u001b[4mcds|C|6467954|US|en|294ecf986090d707:en_US , Detroit Diesel Dd15 Dd16 Camshaft Timing Tool Kit & Tdc Locating Pin\u001b[0m(102.15, 18890)\n",
      "\u001b[1m\u001b[4mcds|O|124241419|US|en|103693 , TW8, 3/4 - 1-1/2 Straight Tap Wrench\u001b[0m(102.13, 4077)\n",
      "\u001b[1m\u001b[4mcds|C|6467954|US|en|38c37986d77283f3:en_US , Gates 91023 SureLok 1/8\" to 3/8\" Vertical Quick-Release Push-Lock Pliers\u001b[0m(101.68, 85891)\n",
      "\u001b[1m\u001b[4mcds|O|374448703|US|en|m83613137553 , Drill Master 18v 3/8 In Cordless Drill. | Color: Black\u001b[0m(101.65, 53708)\n",
      "\u001b[1m\u001b[4mcds|C|6467954|US|en|0aba4e04e20f45c5:en_US , Dremel 615 Router Bit,roundover,1/8 In Bit Dia\u001b[0m(101.60, 73753)\n",
      "\u001b[1m\u001b[4mcds|C|6467954|US|en|d3fda0d5ae38696c:en_US , eTORK Click-Style Torque Wrench (1/4-Inch, 40-200 in.-lb)\u001b[0m(101.57, 81829)\n",
      "\u001b[1m\u001b[4mcds|C|6467954|US|en|b6ddcf9e2e6f0ee0:en_US , DEWALT 20-Volt MAX Cordless 6-1/2 in. Circular Saw with (1) 20-Volt Battery 4.0Ah and Charger power tool set, power tool combo kits, cordless tool set\u001b[0m(101.53, 3307)\n",
      "\u001b[1m\u001b[4mcds|C|6467954|US|en|e507b206c553c792:en_US , CST-1900 - jonard tools\u001b[0m(101.43, 70313)\n",
      "\u001b[1m\u001b[4mcds|C|6467954|US|en|aa6ceab8306ad5ca:en_US , Stanley Quick Change Retractable Utility Knife (2-pack)\u001b[0m(101.41, 96709)\n",
      "\u001b[1m\u001b[4mcds|C|6467954|US|en|18ff49f1b75f4d4f:en_US , ABN Valve Stem Seal Remover and Installer 11-Piece Tool Kit with Carrying Case – Pliers, Drive Handle, Sockets, Adapters\u001b[0m(101.24, 68384)\n",
      "\u001b[1m\u001b[4mcds|C|6467954|US|en|2721a2c9a86e8651:en_US , DEWALT 6 gal Pancake Compressor/2 In. Brad Nailer Combo Kit Yellow/Black | DWC1KIT-B | Acme Tools\u001b[0m(100.97, 40062)\n",
      "\u001b[1m\u001b[4mcds|C|6467954|US|en|c565a58b33c84567:en_US , ATOMIC 20-Volt MAX Cordless Brushless Compact Reciprocating Saw with (1) 4.0Ah Battery\u001b[0m(100.93, 23056)\n",
      "\u001b[1m\u001b[4mcds|C|6467954|US|en|ee9f42410a638e3c:en_US , Truck Tool Box Mounting Kit Pickup Universal Fit Toolbox Tie Downs Aluminum Alloy J Hooks Crossover with 304 Stainless Steel Screws and Washers(4\u001b[0m(100.91, 60229)\n",
      "\u001b[1m\u001b[4mcds|C|6467954|US|en|377556650927335a:en_US , BMW E46 M3 S54 - Genuine BMW Rear Toe Adjustment Tool: A big help when doing an alignment\u001b[0m(100.90, 65073)\n",
      "\u001b[1m\u001b[4mcds|C|6467954|US|en|2a9f72c8be513dfb:en_US , Kraft Tool Sk102 Power Troweler Blade,floatshoe,10X14 In\u001b[0m(100.58, 12479)\n",
      "\u001b[1m\u001b[4mcds|C|6467954|US|en|c2186f7765d74570:en_US , Tapetech 40\" Premium Skimming Finishing Knife Px40tt\u001b[0m(100.57, 44484)\n",
      "\u001b[1m\u001b[4mcds|C|6467954|US|en|4034afb5408e7275:en_US , Rubber Bench Block Set (4x4in) with Mini Hammer (6in) - Jewelry Making Kits Supplies, Metal Smiting Tool, Jewelry Tools for Metal Stamping Kit,\u001b[0m(100.51, 358)\n",
      "\u001b[1m\u001b[4mcds|C|6467954|US|en|68d4932a3930f6f1:en_US , Dewalt Inner Core Bulb Head Drain Cleaning Cable 5/16 in x 25 ft Model: DCD2005\u001b[0m(100.47, 57942)\n",
      "\u001b[1m\u001b[4mcds|C|6467954|US|en|ae7ac8e1dd1ffbdf:en_US , Speedaire 5Yap3 Tool Retractor,for Tool 2-4 Lb,no Lock\u001b[0m(100.12, 52431)\n",
      "\u001b[1m\u001b[4mcds|C|6467954|US|en|6ef304eed6081bb2:en_US , SEKETMAN 24 Pcs Combination Ratcheting Wrench Set 12 Point Speed Wrench Set Fit for Garage,Office, Home DIY, Repair and Maintenance\u001b[0m(100.10, 31212)\n",
      "\u001b[1m\u001b[4mcds|C|6467954|US|en|97af89a40498d174:en_US , Bosch 12 5 Tpi Rcp Blade 5Pk Pch | Bosch-RP125\u001b[0m(99.78, 55642)\n",
      "\u001b[1m\u001b[4mcds|C|6467954|US|en|9c6db3ed7da35d3b:en_US , Milwaukee M12 FUEL 12-Volt Lithium-Ion Brushless Cordless 1/2 in. Drill Driver Kit with 4.0Ah and 2.0Ah Battery and Hard Case\u001b[0m(99.65, 12466)\n",
      "\u001b[1m\u001b[4mcds|C|6467954|US|en|ba790f3324155a7a:en_US , Dewalt Genuine OEM Replacement Rip Fence + Rip Fence # Combo00233, Men's, Size: One size\u001b[0m(99.58, 80314)\n",
      "\u001b[1m\u001b[4mcds|C|6467954|US|en|43c4a3b148796141:en_US , Bosch Daredevil 6 in. QC Spade Drill Bit Extension\u001b[0m(99.45, 50654)\n",
      "\u001b[1m\u001b[4mcds|C|6467954|US|en|0a44015407dcc3ec:en_US , Husky 11 mm 12-Point Metric Ratcheting Combination Wrench\u001b[0m(99.03, 63589)\n",
      "\u001b[1m\u001b[4mcds|C|6467954|US|en|2b371302409ff316:en_US , Makita XML11CT1 | 18V X2 (36V) LXT Lithium-Ion 21\" Cordless Self-Propelled Lawn Mower Kit /w 4 Batteries (5 Ah) | Tyler Tool\u001b[0m(98.97, 56411)\n",
      "\u001b[1m\u001b[4mcds|C|6467954|US|en|90cbf55877709deb:en_US , Ultimate Complete Kawasaki KLR650 Tool Kit with Tool Roll MADE IN USA\u001b[0m(98.79, 29129)\n",
      "\u001b[1m\u001b[4mcds|C|6467954|US|en|3a3df56797a1d45d:en_US , 3-piece High Leverage Diagonal Cutter Set\u001b[0m(98.72, 60447)\n",
      "\u001b[1m\u001b[4mcds|C|6467954|US|en|eaab6ff939a78c89:en_US , Stewmac Endpin Jack Reamer\u001b[0m(98.55, 3203)\n",
      "\u001b[1m\u001b[4mcds|O|121794993|US|en|woocommerce_gpf_12819 , Service Line Puller Kit\u001b[0m(98.38, 1555)\n",
      "\u001b[1m\u001b[4mcds|O|137734820|US|en|264040364663 , 40\" X 324\" (27') Monarch Engine Lathe: Stock 65383\u001b[0m(98.35, 72239)\n",
      "\u001b[1m\u001b[4mcds|C|6467954|US|en|7ed4434e39fc853e:en_US , Dewit 60\" Half Moon Hoe\u001b[0m(98.35, 28874)\n",
      "\u001b[1m\u001b[4mcds|C|6467954|US|en|e8457480289fd4ca:en_US , Pliers Ear Clamp Pliers W/ Side Jaw Knipex\u001b[0m(98.25, 56775)\n",
      "\u001b[1m\u001b[4mcds|C|6467954|US|en|8a71b31ccf79ed90:en_US , Corona 14\" Level Head Rake - Red\u001b[0m(98.08, 44431)\n",
      "\u001b[1m\u001b[4mcds|C|6467954|US|en|da58d37af9571879:en_US , CRAFTSMAN 9-Pack Bi-Metal Set Wood/Metal Cutting Reciprocating Saw Blade Set | 2058840\u001b[0m(98.00, 79621)\n",
      "\u001b[1m\u001b[4mcds|O|110888525|US|en|123887934872 , Dewalt 20v Max Dcd780 ,dcd785 Cordless 2nd Gen Trigger Switch\u001b[0m(97.99, 55178)\n",
      "\u001b[1m\u001b[4mcds|C|6467954|US|en|1c71612ae0177ae6:en_US , 2x XRP 18V NiCD Dc9096 Battery For Dewalt De9095 Dw9098 Dc9099 18Volt Power Tool, Black\u001b[0m(97.74, 4751)\n",
      "\u001b[1m\u001b[4mcds|O|106567002|US|en|HYD+000-163-617 , HydraMaster Evolution Glided Upholstery Tool\u001b[0m(97.65, 83281)\n",
      "\u001b[1m\u001b[4mcds|C|6467954|US|en|014c178f88020c79:en_US , DeWalt DCB609\u001b[0m(97.54, 69266)\n",
      "\u001b[1m\u001b[4mcds|O|262986322|US|en|47636812345 , MultiTasker Twist Multi-Tool SKU - 476368\u001b[0m(97.47, 22437)\n",
      "\u001b[1m\u001b[4mcds|C|6467954|US|en|43f113b13f81dd5e:en_US , OTC Hub Grappler\u001b[0m(97.42, 43191)\n",
      "\u001b[1m\u001b[4mcds|C|6467954|US|en|71aaede266ee0231:en_US , Dewalt Dw618b3 120v 12 Amp 2-1/4 Hp 3 Base Router Kit\u001b[0m(97.38, 64180)\n",
      "\u001b[1m\u001b[4mcds|C|6467954|US|en|3c1f05c6ea199c25:en_US , OmniWall Grinder Holder-Black\u001b[0m(97.28, 92694)\n",
      "\u001b[1m\u001b[4mcds|C|6467954|US|en|40a94abd6d70afab:en_US , 5-Inch Replacement Pad for Ryobi #300527002, Compatible with Ryobi RS290, RS280/RS280VS, RS281VS, P411 Random Orbit Sander\u001b[0m(97.24, 987)\n",
      "\u001b[1m\u001b[4mcds|C|6467954|US|en|98698579641c4f22:en_US , Bucktool Combo 2\" x 42\" Belt Sander 6\" Bench Grinder, Knife Sharpener with Large Work Table BG2600 Upgraded Model\u001b[0m(97.22, 46055)\n",
      "\u001b[1m\u001b[4mcds|O|4900386|US|en|1363145 , DeWALT DW 40 ft. Pocket Laser Distance Measurer, DW055PL-Q\u001b[0m(97.21, 99819)\n",
      "\u001b[1m\u001b[4mcds|C|6467954|US|en|bf546ecf2860c1a5:en_US , DeWalt Sa Shoe #DWB-605076-00SV\u001b[0m(97.12, 35227)\n",
      "\u001b[1m\u001b[4mcds|C|6467954|US|en|17c2ad933af25175:en_US , Pac Strapping Products Bt3920 5/8-Set Strapping Combo Tool,battery,hea\u001b[0m(96.98, 55381)\n",
      "\u001b[1m\u001b[4mcds|C|6467954|US|en|8699a774dd961d49:en_US , StrongHand MLA600 Adjustable Angle 6\" Magnet\u001b[0m(96.77, 28170)\n",
      "\u001b[1m\u001b[4mcds|C|6467954|US|en|52f79d96210f1937:en_US , Unique Truck Accessories UB36-20TD Brute HD Two Drawers Underbody Tool Box\u001b[0m(96.71, 53305)\n",
      "\u001b[1m\u001b[4mcds|C|6467954|US|en|b035c9395d8ad978:en_US , CHIEN RONG 1.5 HP Tire Machine Tire Changer Wheel Changers Machine Balancer Rim Clamp Combo 580-680 12\"-21\" / 12 Month Warranty\u001b[0m(96.45, 52490)\n",
      "\u001b[1m\u001b[4mcds|C|6467954|US|en|3f030b2862fb7bc5:en_US , DEWALT 1/2-in 6-in Titanium Twist Drill Bit | DD5132\u001b[0m(96.33, 45627)\n",
      "\u001b[1m\u001b[4mcds|C|6467954|US|en|ab676c77739074b2:en_US , Ch-70 Hydraulic Hole Punching 35t Tool Puncher Cfp-800-1 Copper Bar\u001b[0m(96.30, 20755)\n",
      "\u001b[1m\u001b[4mcds|C|6467954|US|en|055e7ce0c8b47aa6:en_US , Marshalltown DuraFlex 5 in. W Stainless Steel Finishing Trowel\u001b[0m(96.19, 45701)\n",
      "\u001b[1m\u001b[4mcds|C|6467954|US|en|a9502c807e582d17:en_US , General Tools 86014 14 piece Quad Saw/Driver, Size: Various tools, Black\u001b[0m(96.00, 49858)\n",
      "\u001b[1m\u001b[4mcds|C|6467954|US|en|3ef5f2236076ddbb:en_US , Marshalltown 6 X 4 3/8 Zinc Groover-1D X 3/8 Bit-DuraSoft Hdl, Product Type Groover, Model 835D\u001b[0m(95.78, 25263)\n",
      "\u001b[1m\u001b[4mcds|C|6467954|US|en|bc3abc5ef41bcfbb:en_US , RYOBI 10 in. 40-Volt Lithium-Ion Cordless Pole Saw, 2.0 Ah Battery and Charger Included RY40562VNM\u001b[0m(95.74, 19031)\n",
      "\u001b[1m\u001b[4mcds|O|9384133|US|en|CRT36-26A , Husqvarna CRT36-26A Riding Trowel with Wheel Kit\u001b[0m(95.66, 28573)\n",
      "\u001b[1m\u001b[4mcds|C|6467954|US|en|2e81c57147398ed8:en_US , DeWalt DCB205-2 20V Max XR 5.0Ah Lithium Ion Battery (2-Pack)\u001b[0m(95.57, 70305)\n",
      "\u001b[1m\u001b[4mcds|C|6467954|US|en|7d42022be337fb2b:en_US , DEWALT 20-Volt MAX XR Cordless Brushless Compact Router with (1) 20-Volt Battery 3.0Ah & Charger\u001b[0m(95.56, 45060)\n",
      "\u001b[1m\u001b[4mcds|O|110026978|US|en|shopify_US_4621871366_15133376710 , Milwaukee 2676-23 FORCELOGIC M18 10-Ton Knockout Tool 1/2\" to 4\" Kit\u001b[0m(95.55, 77236)\n",
      "\u001b[1m\u001b[4mcds|C|6467954|US|en|7b883ffc6fe1c2c5:en_US , Dremel 1/16 in. Rotary Tool Round-Shaped Engraving Accessory for Wood, Fiberglass, Plastic, Jewelry and Soft Metals (2-Pack)\u001b[0m(95.45, 77858)\n",
      "\u001b[1m\u001b[4mcds|C|6467954|US|en|1b39edd268326bb3:en_US , Tru-flate Steel Valve Core Extractor Model: 41-444\u001b[0m(95.24, 17865)\n",
      "\u001b[1m\u001b[4mcds|O|7857044|US|en|384492798458 , Vintage 1930s Ford Snap-on Tools 5/8\" Drive Socket Ratchet P-4 L72r\u001b[0m(95.21, 69380)\n",
      "\u001b[1m\u001b[4mcds|C|6467954|US|en|9ece07cf9dd759a0:en_US , Wera 074716 1.2 Nm Fixed Torque Screwdriver\u001b[0m(95.04, 53439)\n",
      "\u001b[1m\u001b[4mcds|C|6467954|US|en|6335388638f4acf0:en_US , Weyland Survival Axe, Beige\u001b[0m(94.72, 51867)\n",
      "\u001b[1m\u001b[4mcds|O|513534827|US|en|shoplaza_US_9effa0ce-6e07-460c-8e8f-4d88f6659a93 , Milwaukee 2741-20 M18 FUEL 16GA Straight Finish Nailer Bare Tool\u001b[0m(94.70, 47729)\n",
      "\u001b[1m\u001b[4mcds|C|6467954|US|en|7b350d0a57940e5e:en_US , DeWalt Wheel Kit #DWB-5140095-02\u001b[0m(94.70, 94422)\n",
      "\u001b[1m\u001b[4mcds|C|6467954|US|en|243860e9224f076f:en_US , 60-piece Master Tap and Die Set - Include Both SAE Inch and Metric Sizes, Coarse and Fine Threads | Essential Threading and Rethreading Tool Kit with\u001b[0m(94.66, 41796)\n",
      "\u001b[1m\u001b[4mcds|C|6467954|US|en|5b9ea2384c7d4a8b:en_US , DeWalt | 165 ft Laser Distance Measurer, Black/Yellow - Floor & Decor\u001b[0m(94.58, 37520)\n",
      "\u001b[1m\u001b[4mcds|C|6467954|US|en|2641f5cb5b4aa336:en_US , DeWALT 146929-01 Screw\u001b[0m(94.58, 53500)\n",
      "\u001b[1m\u001b[4mcds|C|6467954|US|en|113ef1cf9b9d085a:en_US , DEWALT 14/18 TPI Band Saw Blades (3) | DW3986C | Acme Tools\u001b[0m(94.48, 88595)\n",
      "\u001b[1m\u001b[4mcds|C|6467954|US|en|4b386c8970f50cab:en_US , Small Size Home Household Wood Working Turning Lathe Multifunction Infinitely Variable Speed Cutting Grinding Drilling Tools, Size: 50, Silver\u001b[0m(94.47, 84595)\n",
      "\u001b[1m\u001b[4mcds|C|6467954|US|en|c2470483bb59f554:en_US , Dexter-Russell 6\" Curved, Flexible Boning Knife, S131F-6PCP, SANI-Safe Series, White (01493)\u001b[0m(94.46, 51910)\n",
      "\u001b[1m\u001b[4mcds|C|6467954|US|en|c0721e836d83a419:en_US , Can Am Defender Hd8 Hd10 Belt Removal Clutch Tool AC-CA-0686-0072\u001b[0m(94.31, 62231)\n",
      "\u001b[1m\u001b[4mcds|C|6467954|US|en|b122d3ec8626b60d:en_US , S-21307 Tri-Functional Wide Bushing Adapter Alt\u001b[0m(94.20, 30473)\n",
      "\u001b[1m\u001b[4mcds|O|144646454|US|en|06D0520 , Flexcut Whittler's Pocket Knife\u001b[0m(94.11, 91045)\n",
      "\u001b[1m\u001b[4mcds|C|6467954|US|en|aa92c42ce6c01338:en_US , Milwaukee Chisel Bit: 1 in Head Wd, 12 in Overall Lg, 45/64 in Shank Dia Model: 48-62-4079\u001b[0m(94.05, 98303)\n",
      "\u001b[1m\u001b[4mcds|C|6467954|US|en|d60d423b31f37095:en_US , Jewelry Making Workbench & Tools Set Bench Tools Rotary Tool with Flexible Shaft\u001b[0m(93.93, 44642)\n",
      "\u001b[1m\u001b[4mcds|O|2663876|US|en|699472 , Schlage Commercial M204198 Boring Jig for AL or D Series Levers\u001b[0m(93.92, 94500)\n",
      "\u001b[1m\u001b[4mcds|C|6467954|US|en|64751edd8b303100:en_US , 9998068 Flywheel Rotating Tool Alt\u001b[0m(93.89, 4964)\n",
      "\u001b[1m\u001b[4mcds|C|6467954|US|en|4d37be8502d7d176:en_US , Bosch 12-Pack 5-in Plain High Speed Steel Scroll Saw Blade | SS5-46SPL\u001b[0m(93.76, 56325)\n",
      "\u001b[1m\u001b[4mcds|C|6467954|US|en|3bc38a6deaed4269:en_US , Proto JSCV07 7/32 Reversing Combination Ratcheting Spline Wrench #7\u001b[0m(93.70, 67329)\n",
      "\u001b[1m\u001b[4mcds|C|6467954|US|en|9a5eb61089b2be10:en_US , 20pcs Carbide turnning Inserts TCMT21.51 TCMT110204 Carbide Insert for Lathe Turning Tool Holder for Steel,Stainless Steel\u001b[0m(93.50, 63585)\n",
      "\u001b[1m\u001b[4mcds|C|6467954|US|en|61cd1787729b5841:en_US , BMW E46 330xi M54 3.0L - CTA Tools BMW TDC Pin: Used for finding Top Dead Center when servicing a BMW engine.\u001b[0m(93.36, 57276)\n",
      "\u001b[1m\u001b[4mcds|C|6467954|US|en|08b5a4420301cd2d:en_US , Amana Tool 658010-1-R Carbide Tipped R/H Outside Dado Blade 8 Inch D x 24T 1 Inch Bore\u001b[0m(93.19, 80449)\n",
      "\u001b[1m\u001b[4mcds|C|6467954|US|en|93a242d254240644:en_US , Surly Jethro Tule, 15mm Socket/Bottle Opener\u001b[0m(93.17, 16910)\n",
      "\u001b[1m\u001b[4mcds|C|6467954|US|en|d1e80bfc73072556:en_US , 10\" x 80T Freud Industrial Plastic Blade (LU94M010) available at Rockler\u001b[0m(92.95, 66051)\n",
      "\u001b[1m\u001b[4mcds|C|6467954|US|en|58d9a40a68282d82:en_US , Jonard Tools Ast-200 Cable Saber - Armored Mid-Span Cable Slit & Ring\u001b[0m(92.37, 67060)\n",
      "\u001b[1m\u001b[4mcds|C|6467954|US|en|c9373492a965ec15:en_US , Parker 3/4\" Max Cut Diam, 30 Ton Portable Hose Crimper - 30 sec Cycle, 12\" Wide x 15\" High x 6\" Deep | Part #94C-002-PFD\u001b[0m(92.36, 68072)\n",
      "\u001b[1m\u001b[4mcds|C|6467954|US|en|5cf95517d0495d14:en_US , Grip On 7\" Axial Grip \"l\" Plier (epoxy) Gr91207\u001b[0m(92.30, 17651)\n",
      "\u001b[1m\u001b[4mcds|C|6467954|US|en|48f79f5aac15625d:en_US , Goldengulf 16pcs/Pack Pretend Play Mini Construction Hardware Tool Keychain Toy Gift Assorted Designs DIY Creative Tool Car Keyring\u001b[0m(92.14, 80417)\n",
      "\u001b[1m\u001b[4mcds|C|6467954|US|en|7923c1693d251e46:en_US , Pittsburgh 5-3/4 in. Needle Nose Pliers\u001b[0m(92.11, 44988)\n",
      "\u001b[1m\u001b[4mcds|O|291426434|US|en|18053417629526042552622204 , Best Seller Milwaukee M18 FUEL 18-Volt Lithium-Ion Brushless Cordless Gen II 18-Gauge Brad Nailer (Tool-Only)\u001b[0m(92.07, 28338)\n",
      "\u001b[1m\u001b[4mcds|C|6467954|US|en|bc9fa2ca686e6044:en_US , Kennedy 2600B Tool Chest Riser\u001b[0m(91.68, 56909)\n",
      "\u001b[1m\u001b[4mcds|C|6467954|US|en|c2fa0b6eba306bbe:en_US , Biltwell EXFIL-0 Tool Roll\u001b[0m(91.31, 69681)\n",
      "\u001b[1m\u001b[4mcds|O|241667459|US|en|DKK-TG70-SK , Japanese Boning Knife 7\" - KYOKU Shogun Series\u001b[0m(90.98, 78709)\n",
      "\u001b[1m\u001b[4mcds|C|6467954|US|en|cf740c4aedc38539:en_US , m18 X 1.5 HSS Plug Tap and 16.50mm HSS Drill Bit Kit, Qualtech\u001b[0m(90.91, 87637)\n",
      "\u001b[1m\u001b[4mcds|C|6467954|US|en|b50c06247865c887:en_US , Makita XCU08Z | 18V X2 (36V) LXT Lithium-Ion Brushless Cordless 14\" Top Handle Chainsaw (Tool Only) | Tyler Tool\u001b[0m(90.89, 33629)\n",
      "\u001b[1m\u001b[4mcds|C|6467954|US|en|93eae9234f8e7cd2:en_US , Marshalltown Funny Trowel Adapter-Swivel, Product Type Adapters + Brackets, Model 4826\u001b[0m(90.65, 62874)\n",
      "\u001b[1m\u001b[4mcds|O|8439803|US|en|100-036 , Leigh D4R+D24 Master Pack\u001b[0m(90.56, 17078)\n",
      "\u001b[1m\u001b[4mcds|C|6467954|US|en|32e9b7d475d75be9:en_US , Neiko 02448A 1/2\" Drive Master Impact Socket Set, 65 Piece Deep & Shallow Socket Assortment | Standard SAE (3/8-Inch to 1-1/4-Inch) and Metric (10-24\u001b[0m(90.10, 38530)\n",
      "\u001b[1m\u001b[4mcds|C|6467954|US|en|d124ea296b236fa5:en_US , DeWalt OEM 5140103-20 replacement band saw tire DCS370 DCS371\u001b[0m(90.07, 36496)\n",
      "\u001b[1m\u001b[4mcds|C|6467954|US|en|7fe04b73f739e2bb:en_US , Kitchenaid Food Grinder Blade 2 Pack, Ap5669553, Ps6883726, Wpw10408733\u001b[0m(90.05, 65325)\n",
      "\u001b[1m\u001b[4mcds|C|6467954|US|en|5c09c214f6170ba6:en_US , Ryobi 10\" Orbital Buffer- In Box Never Opened\u001b[0m(89.55, 45755)\n",
      "\u001b[1m\u001b[4mcds|C|6467954|US|en|aa7e9b7c117ae784:en_US , Dremel 1/8 in. Rotary Tool Carbide Grout Removal Accessory Plus 1/16 in. Rotary Tool Carbide Grout Removal Accessory\u001b[0m(89.52, 52304)\n",
      "\u001b[1m\u001b[4mcds|C|6467954|US|en|a0225eefd53ea7b9:en_US , DeWALT Metal Abrasive Portable Circular Saw Blade, 7\" x 1/8\" x 5/8\" with 8,700 Max RPM\u001b[0m(89.51, 87790)\n",
      "\u001b[1m\u001b[4mcds|C|6467954|US|en|71e1c8a17275e3ff:en_US , Occidental Leather 5025 Plier & Tool Holster\u001b[0m(89.37, 3139)\n",
      "\u001b[1m\u001b[4mcds|O|144646454|US|en|PG262 , Ergonomic Ash-Handled Digging Spade and Fork Set\u001b[0m(89.35, 60927)\n",
      "\u001b[1m\u001b[4mcds|C|6467954|US|en|c91d9f831d009948:en_US , Psi Woodworking Cf3sc 3\" Lathe Faceplate/screwchuck For 1\" X 8tpi\u001b[0m(89.33, 68056)\n",
      "\u001b[1m\u001b[4mcds|C|6467954|US|en|69462ba781a04836:en_US , Kip Christensen 9\" KC Wire Burner Set available at Rockler\u001b[0m(89.21, 54117)\n",
      "\u001b[1m\u001b[4mcds|C|6467954|US|en|f3450a0982789ae8:en_US , Makita RT0701CX3 1-1/4 HP Compact Router Kit, Teal\u001b[0m(89.20, 84011)\n",
      "\u001b[1m\u001b[4mcds|C|6467954|US|en|d4e8ae27ee50f24f:en_US , Wilmar W156\u001b[0m(88.90, 86648)\n",
      "\u001b[1m\u001b[4mcds|C|6467954|US|en|ff2ceeb793fba788:en_US , Milwaukee 6370-21 Grounded Corded Circular Saw Kit, 120 Vac, 13 A, 8 In\u001b[0m(88.67, 51886)\n",
      "\u001b[1m\u001b[4mcds|C|6467954|US|en|0490bc46b023d9b8:en_US , 2-pieces 12\" Craftsman Bar Clamps / Spreader -one Hand Quick Release\u001b[0m(88.39, 47756)\n",
      "\u001b[1m\u001b[4mcds|C|6467954|US|en|6a67de10d0f14a92:en_US , Proto Do-it-yourself Foam Drawer Insert Kit Diybl, 39\" X 26-1/4\", Tool\u001b[0m(88.19, 27244)\n",
      "\u001b[1m\u001b[4mcds|C|6467954|US|en|eb3e3d44ab9b875f:en_US , Bosch 1617000190 Service Pack\u001b[0m(88.16, 80723)\n",
      "\u001b[1m\u001b[4mcds|C|6467954|US|en|2b24dbf43393e4ee:en_US , Camshaft Tool Lock Tool Pin Tool for Honda K Series K20a K20a2 K20z1 K20z3 K24a K24a2 07AAB-RWCA120\u001b[0m(88.10, 78530)\n",
      "\u001b[1m\u001b[4mcds|C|6467954|US|en|574d1cd7b26d33d2:en_US , Ingersoll-Rand IR W9491-K4E 1\" drive 20 volt x 2 impact wrench kit\u001b[0m(88.08, 27012)\n",
      "\u001b[1m\u001b[4mcds|C|6467954|US|en|2e460f59712c46ab:en_US , RIDGID 18V Brushless Cordless 7-1/4 in. Circular Saw with 18V 4.0 Ah MAX Output Lithium-Ion Battery R8654B-AC840040\u001b[0m(88.00, 40995)\n",
      "\u001b[1m\u001b[4mcds|C|6467954|US|en|e2c855060a718f5e:en_US , DeWalt N043321 Rocker Switch\u001b[0m(88.00, 7902)\n",
      "\u001b[1m\u001b[4mcds|C|6467954|US|en|8e4f6e2776508c65:en_US , Barn Star Hog Ring Pliers Kit, WD05061\u001b[0m(87.93, 5013)\n",
      "\u001b[1m\u001b[4mcds|C|6467954|US|en|5d16c91b7598554b:en_US , PRL-P Shovel, Hardwood Handle\u001b[0m(87.70, 98977)\n",
      "\u001b[1m\u001b[4mcds|C|6467954|US|en|2585e0a9ca5661e8:en_US , Upgrade Gun Ryobi Trigger Gun Handle 308760053 For Ry80940a Pressure\u001b[0m(87.68, 70608)\n",
      "\u001b[1m\u001b[4mcds|O|126358573|US|en|m25510167528 , Caterpillar 50 Ton Caterpillar Press - Tools & equipment | Color: Yellow\u001b[0m(87.63, 69605)\n",
      "\u001b[1m\u001b[4mcds|C|6467954|US|en|0b0db96af3ac2102:en_US , Milwaukee 49-22-2731 Rip Fence\u001b[0m(87.31, 81641)\n",
      "\u001b[1m\u001b[4mcds|O|10798|US|en|shopify_US_4451953115251_31528618164339 , DEWALT 4-gal Electric Hand Carry Compressor by Gemplers\u001b[0m(86.94, 69851)\n",
      "\u001b[1m\u001b[4mcds|O|1740331|US|en|2548 , Applied Diamond Tools T-Rex Planetary Polisher Package for Concrete & Stone Tops\u001b[0m(86.82, 26540)\n",
      "\u001b[1m\u001b[4mcds|C|6467954|US|en|b9e88ab25d87aa2c:en_US , Apollo Tools 4 Pc. Stubby Set, Model Dt0240P - Woodcraft\u001b[0m(86.82, 64661)\n",
      "\u001b[1m\u001b[4mcds|O|1135568|US|en|51729 , Woodworker's Journal 25 Jigs and Fixtures, CD by Rockler\u001b[0m(86.66, 46378)\n",
      "\u001b[1m\u001b[4mcds|C|6467954|US|en|842363c8ab661cf5:en_US , Pittsburgh Pro 3/8 in. Drive Dual Flex Ratchet\u001b[0m(86.62, 28082)\n",
      "\u001b[1m\u001b[4mcds|C|6467954|US|en|79e466c75ab6076f:en_US , Milwaukee Reciprocating Saw Blade: 18, 4 in Blade Lg, 3/4 in Ht, 0.035 in Cut Wd, 5 PK [PK/5] Model: 48-00-5183\u001b[0m(86.50, 76831)\n",
      "\u001b[1m\u001b[4mcds|O|122867171|US|en|4534353778 , DeWALT ToughSystem Portable Tool Box (Portable Tool Box, 22\" W x 14\" D x 16\" H)\u001b[0m(86.46, 68451)\n",
      "\u001b[1m\u001b[4mcds|C|6467954|US|en|2eaf3142db873596:en_US , GroundWork D-Handle Aluminum Scoop, YN-8SL030PD\u001b[0m(86.32, 54532)\n",
      "\u001b[1m\u001b[4mcds|O|137698568|US|en|143931753780 , 20x Valve Seat Grinding Wheels With Stone Holder & Hex Drive - B&d\u001b[0m(86.15, 67323)\n",
      "\u001b[1m\u001b[4mcds|C|6467954|US|en|87796a83dbaedd89:en_US , Oscillating Tool, Lomvum 2A Corded Oscillating Multitool Kit with 3° Oscillation Angle and 6 Variable Speed Oscillating Saw for Cutting/Sanding\u001b[0m(86.11, 4505)\n",
      "\u001b[1m\u001b[4mcds|C|6467954|US|en|22e9378b9f4fef6c:en_US , S.m. Arnold 83-061 Cordless Drill Brush - Heavy Duty (red Bristle)\u001b[0m(86.05, 30021)\n",
      "\u001b[1m\u001b[4mcds|O|351713|US|en|13400_244 , Abaco Machines Abaco SC100 Scissor Clamp White SC100-W\u001b[0m(85.89, 16392)\n",
      "\u001b[1m\u001b[4mcds|C|6467954|US|en|6b9e5d51bb7caf01:en_US , JobSmart 8 oz. Ball Peen Hammer, JS23003\u001b[0m(85.42, 16980)\n",
      "\u001b[1m\u001b[4mcds|C|6467954|US|en|283c7e50e4a3d5b5:en_US , Klein Tools D2000-28 High-Leverage Diagonal-Cutting Pliers, Heavy Duty, 8-Inch\u001b[0m(85.30, 42868)\n",
      "\u001b[1m\u001b[4mcds|O|168694362|US|en|39841121304687 , Amcraft 4-in-1 End Cut Off 1 Blue Duct Board Tool #1102\u001b[0m(85.20, 49555)\n",
      "\u001b[1m\u001b[4mcds|O|291043|US|en|TL-CL , Cobrahead 54\" Long Handle Weeder & Cultivator\u001b[0m(85.18, 74178)\n",
      "\u001b[1m\u001b[4mcds|C|6467954|US|en|5e46ef179e53248e:en_US , VEVOR Hanging Magnet Magnetic Sweeper Tool 60\" for Picking Up Nail, Bolt, Screw\u001b[0m(85.13, 86926)\n",
      "\u001b[1m\u001b[4mcds|C|6467954|US|en|5418e796412a98df:en_US , US Replacement Bits\u001b[0m(84.96, 34212)\n",
      "\u001b[1m\u001b[4mcds|C|6467954|US|en|798551733c17ddf0:en_US , MOTORHEAD 20V ULTRA 6-1/2 inch Cordless Circular Saw, Lithium-Ion, Laser Guide, LED, Rip Fence, 0-50 Bevel, 2Ah Battery & Quick Charger, Bag, 2\u001b[0m(84.77, 95481)\n",
      "\u001b[1m\u001b[4mcds|C|6467954|US|en|bd3eecd857738658:en_US , Milwaukee SHOCKWAVE Impact-Duty Alloy Steel Screw Driver Bit Set (72-Piece)\u001b[0m(84.49, 49907)\n",
      "\u001b[1m\u001b[4mcds|C|6467954|US|en|b8ed55fde50e1a45:en_US , Watch Band Link Remover and Fitting Tool\u001b[0m(84.49, 88855)\n",
      "\u001b[1m\u001b[4mcds|C|6467954|US|en|a5d24816d2ac7dfe:en_US , Getupower 10-Inch Adjustable Wrench, Black Oxide Finish, Wide Opening Ultra-thin Adjustable Wrench, Chrome Vanadium Alloy Adjustable Spanner and Pipe\u001b[0m(84.49, 64585)\n",
      "\u001b[1m\u001b[4mcds|C|6467954|US|en|85dd7d3f59b46d60:en_US , Greenfield Threading 330085 Drill/tap/countersink Set,pieces 18,sae\u001b[0m(84.43, 75763)\n",
      "\u001b[1m\u001b[4mcds|O|299538107|US|en|1600176481068 , Wholesale Smith Machine Accessories, 2 Pieces, Home Gym Fitness Cable Handle Press down Bar Factory Price\u001b[0m(84.42, 43471)\n",
      "\u001b[1m\u001b[4mcds|C|6467954|US|en|dc0d2cf4434b440f:en_US , Aqua Lung Argonaut Stunt Knife Spartan Tip\u001b[0m(84.40, 7069)\n",
      "\u001b[1m\u001b[4mcds|C|6467954|US|en|5f76761983f72c35:en_US , Toy Time Kids' Child Safe Garden Tool Set With Long Handles - Yellow/Red, 4 Pieces\u001b[0m(84.07, 49024)\n",
      "\u001b[1m\u001b[4mcds|C|6467954|US|en|13ce4a9a59da62bd:en_US , Drill America Kfdrsd1 1\" Reduced Shank Hss Drill Bit 1/2\" Shank 3-Flat\u001b[0m(84.00, 85442)\n",
      "\u001b[1m\u001b[4mcds|C|6467954|US|en|3b8607b783f9725e:en_US , Sircle Heavy Duty Slot Hole Punch Oval Silver Metal 9/16\" In X 1/8\"\u001b[0m(83.87, 40554)\n",
      "\u001b[1m\u001b[4mcds|O|9982|US|en|12-00177 , Hand Riveting & Dimpling Tool by Aircraft Spruce\u001b[0m(83.80, 93975)\n",
      "\u001b[1m\u001b[4mcds|C|6467954|US|en|45a1af7db34a494b:en_US , J.A. Henckel's International 4\" Solution Pairing Knife - each\u001b[0m(83.76, 18673)\n",
      "\u001b[1m\u001b[4mcds|O|137081914|US|en|38 , Stump Grinder , Kohler 14hp\u001b[0m(83.46, 48277)\n",
      "\u001b[1m\u001b[4mcds|C|6467954|US|en|1e52776c9d478591:en_US , Cricut German Carbide Premium Fine Point Blade | Michaels\u001b[0m(83.39, 65865)\n",
      "\u001b[1m\u001b[4mcds|C|6467954|US|en|b28cc1e05bcb18a1:en_US , Kraft Tool Cf656 Decor Border Edger/groover,9\"+3\" Shiner\u001b[0m(83.37, 8819)\n",
      "\u001b[1m\u001b[4mcds|O|480546831|US|en|845610861 , Setting Tool Heavy Duty Tool Hollow Wall Metal Cavity Anchor Plasterboard Fixing, Size: 17, Red\u001b[0m(83.33, 31008)\n",
      "\u001b[1m\u001b[4mcds|C|6467954|US|en|a00696336b54eeaf:en_US , Dremel 8-Piece Set Glass Engraving Accessory Kit | 735-01\u001b[0m(83.28, 62444)\n",
      "\u001b[1m\u001b[4mcds|C|6467954|US|en|692465a7b0c4d0d2:en_US , Wheeler Professional Gunsmithing Screwdriver Add On 21 Pc\u001b[0m(83.21, 66591)\n",
      "\u001b[1m\u001b[4mcds|C|6467954|US|en|c4123c03ee81008a:en_US , Performance Tool 67 Piece Bit Set, 20145\u001b[0m(83.12, 59857)\n",
      "\u001b[1m\u001b[4mcds|C|6467954|US|en|45f5f772bc2330e9:en_US , Oregon 410-120 Bench/wall Mount Saw Chain Grinder\u001b[0m(83.10, 35039)\n",
      "\u001b[1m\u001b[4mcds|C|6467954|US|en|1de0999f07b9e4b8:en_US , DERFILIN 40PCS Fine Point Blades for Explore Air/Air 2 Maker 3/Expression,30° 45° 60° Vinyl Fabric Cutting Replacement Blades for Cricut Machines (3\u001b[0m(83.09, 28699)\n",
      "\u001b[1m\u001b[4mcds|C|6467954|US|en|47c3d06cf1efad4c:en_US , Mag-Daddy 15lb Cable Tie Mount - Plenum Black 10pc\u001b[0m(82.91, 93689)\n",
      "\u001b[1m\u001b[4mcds|C|6467954|US|en|53b2bb045c8da410:en_US , 30/40 Grit Grinding Discs for Lavina Grinders Medium Bond - Set of 3 for Concrete Terrazzo Grinding\u001b[0m(82.89, 45930)\n",
      "\u001b[1m\u001b[4mcds|O|10612851|US|en|751437 , Ryobi AG450-67 Carrying Case\u001b[0m(82.86, 89056)\n",
      "\u001b[1m\u001b[4mcds|C|6467954|US|en|a6613821a8ad18aa:en_US , Klutch Pinch-Off Locking Pliers — 11Inch\u001b[0m(82.77, 57914)\n",
      "\u001b[1m\u001b[4mcds|C|6467954|US|en|dca869321278109d:en_US , Single 1.5hp Tire Changer Wheel Changers Machine 580 With Double Foot\u001b[0m(82.76, 78425)\n",
      "\u001b[1m\u001b[4mcds|C|6467954|US|en|7f43827ad827bbc6:en_US , Scroll Saw Blades, 5 Inch 36PCS Pin End 10/15/18 TPI Regular Tooth Compatible with Sears Craftsman, Penn State, Delta, Ryobi, Wen 3921, Dremel and\u001b[0m(82.70, 44303)\n",
      "\u001b[1m\u001b[4mcds|O|6296724|US|en|233494390150 , 2.5-inch Wrench (for Toilet Flush Valve Nut) - Solid Hdpe Plastic\u001b[0m(82.67, 21562)\n",
      "\u001b[1m\u001b[4mcds|C|6467954|US|en|a682e83da082230b:en_US , Metabo 613084420 Pro Series 6\" Flat-Head Angle Grinder (WEPF 15-150 Quick)\u001b[0m(82.65, 7469)\n",
      "\u001b[1m\u001b[4mcds|O|10034982|US|en|2964-3205-- , Tire Repair Tool Open-Eye Insert Needle Replacement for TT 37217H\u001b[0m(82.31, 42903)\n",
      "\u001b[1m\u001b[4mcds|C|6467954|US|en|de7c31b19861e0db:en_US , Senteibasami Carbon Steel Pruner/Secateurs with Genuine Leather Holster & Non-Slip Grip. Made in Japan by Nisaku for SunJoe\u001b[0m(82.29, 99597)\n",
      "\u001b[1m\u001b[4mcds|C|6467954|US|en|9523c30fb5211ae5:en_US , Hyper Tough 2 LB Dead Blow Hammer, Size: 2 lbs, Green\u001b[0m(82.25, 61547)\n",
      "\u001b[1m\u001b[4mcds|C|6467954|US|en|fb001fc05dc5da5f:en_US , Klein Tools 8 in. Heavy Duty Wire Stripper for 12-20 AWG Stranded and 10-18 AWD Solid Wire\u001b[0m(82.22, 6818)\n",
      "\u001b[1m\u001b[4mcds|C|6467954|US|en|65a224aa43f9e593:en_US , Pilgrim Modern Fireplace Tool Set with Brushed Steel Handles\u001b[0m(81.90, 70871)\n",
      "\u001b[1m\u001b[4mcds|C|6467954|US|en|0aa1a204ec22d976:en_US , Perfect Bender S-60 by Buschmann\u001b[0m(81.83, 84720)\n",
      "\u001b[1m\u001b[4mcds|C|6467954|US|en|afd4fb2c85134efe:en_US , Husky 18 in. Aluminum Pipe Wrench with 2 in. Jaw Capacity\u001b[0m(81.69, 4090)\n",
      "\u001b[1m\u001b[4mcds|O|1028340|US|en|56368 , Viper Storage Viper Tool Storage 16-Inch 4-Drawer 18G Steel Rolling Tool/Salon Cart, Black V1804BLR\u001b[0m(81.55, 35556)\n",
      "\u001b[1m\u001b[4mcds|C|6467954|US|en|8e93e70500879a4e:en_US , Ames 2683100 7 in. Forged Sidewalk Scraper\u001b[0m(81.54, 21272)\n",
      "\u001b[1m\u001b[4mcds|C|6467954|US|en|d8605ae254413f34:en_US , Tqonep Fishing Quick Knot Tying Tool 420 Stainless Steel 4 In 1 Fly\u001b[0m(81.47, 59233)\n",
      "\u001b[1m\u001b[4mcds|C|6467954|US|en|31a29f7d76e9598e:en_US , OTC 522902 Timing Chain Holder\u001b[0m(81.41, 30380)\n",
      "\u001b[1m\u001b[4mcds|C|6467954|US|en|5a8a035075ebb96b:en_US , FTG USA Countersink Drill Bit Set 3 Pc #6 (9/64\") Wood Countersink Drill Bit Pack Same Size Set Countersink HSS M2 Tapered Countersink Bit, with 1\u001b[0m(81.25, 28932)\n",
      "\u001b[1m\u001b[4mcds|C|6467954|US|en|d1d9cc5da67d2886:en_US , DEWALT DWE7491RS 10\" Jobsite Table Saw with 32-1/2\" Rip Capacity and Rolling Stand\u001b[0m(80.94, 8589)\n",
      "\u001b[1m\u001b[4mcds|O|7621239|US|en|BFS-5 , Foil Beginner SET 5 pieces Basic with fencing bag\u001b[0m(80.92, 12073)\n",
      "\u001b[1m\u001b[4mcds|C|6467954|US|en|21fa2b35ece29685:en_US , Ridgid Cm50p\u001b[0m(80.66, 59986)\n",
      "\u001b[1m\u001b[4mcds|C|6467954|US|en|a500c66f06f0e2fe:en_US , Screw Extractor Set - 5 Piece\u001b[0m(80.59, 44335)\n",
      "\u001b[1m\u001b[4mcds|C|6467954|US|en|1241a7c69c8172e2:en_US , RIDGID 48387 Hydraulic Roll Groover w/535 Carriage Mount Kit 2\"-12\" Model 918\u001b[0m(80.56, 69789)\n",
      "\u001b[1m\u001b[4mcds|C|6467954|US|en|7dced1b8a4b56159:en_US , ConairPRO Professional Nail Grinder Replacement Tips, Finishing Stones\u001b[0m(80.50, 67701)\n",
      "\u001b[1m\u001b[4mcds|C|6467954|US|en|34597c03464dc673:en_US , RRJ-350 | Reluctor Ring Installation Tool\u001b[0m(80.36, 73711)\n",
      "\u001b[1m\u001b[4mcds|C|6467954|US|en|fadb93abb6297abb:en_US , Harrington Es1527003 Festoon Hanger,3/8 Ft.l\u001b[0m(80.03, 71956)\n",
      "\u001b[1m\u001b[4mcds|C|6467954|US|en|420a66750fffdadd:en_US , Chikichi gardening waist two edges for wood splitting pruning 165 mm SGKN-6\u001b[0m(79.97, 50158)\n",
      "\u001b[1m\u001b[4mcds|C|6467954|US|en|17c3f67ac81d6e54:en_US , Husky 36 in. W 3-Drawer Rolling Tool Cart in Gloss Black with Hardwood Top HOUC3603B1QWK\u001b[0m(79.87, 43559)\n",
      "\u001b[1m\u001b[4mcds|C|6467954|US|en|342123ddf1bf05bd:en_US , 2-Set 9 x 20T Chainsaw Tooth Brush Blades – 2 Blades, 3 Assorte...\u001b[0m(79.81, 28750)\n",
      "\u001b[1m\u001b[4mcds|C|6467954|US|en|b8f4aed46c0a52c2:en_US , Speedwox Tile Caulk Tool Metal Ball 4 Pcs For Pressing Tile Grout\u001b[0m(79.76, 60354)\n",
      "\u001b[1m\u001b[4mcds|C|6467954|US|en|448d038e7996fd70:en_US , Solid Wood Vacuum Stand for Dyson Cordless V11 V10 V8 V7 V6 Storage Box Hooks, Men's, Size: 12.6, Brown\u001b[0m(79.69, 34598)\n",
      "\u001b[1m\u001b[4mcds|C|6467954|US|en|0303ad0a4b20059a:en_US , NG2002 Noga Carbide Deburring Tool, Noga Burr 2 - Light Duty\u001b[0m(79.40, 96049)\n",
      "\u001b[1m\u001b[4mcds|C|6467954|US|en|ed1b10f520ddce6a:en_US , Stadea Spw104a Concrete Countertop Wet Polisher Grinder Sander\u001b[0m(79.30, 44072)\n",
      "\u001b[1m\u001b[4mcds|C|6467954|US|en|153d8db33030cb5b:en_US , Superior Tool 1-1/8 Pipe Cutter Black/Silver\u001b[0m(79.06, 51267)\n",
      "\u001b[1m\u001b[4mcds|O|145461051|US|en|2432 , Socket Ratchet & Extension Shelf Kit - Blue\u001b[0m(79.00, 5519)\n",
      "\u001b[1m\u001b[4mcds|C|6467954|US|en|cf11bad2976010cf:en_US , Wood-Mizer SilverTip 15-Pack Blades - 10 Degree | Blade Length: 132 inches\u001b[0m(78.99, 99547)\n",
      "\u001b[1m\u001b[4mcds|O|150418275|US|en|7759 , BEST Mortise Cylinder Wrench (ED211) | American Key Supply\u001b[0m(78.98, 59746)\n",
      "\u001b[1m\u001b[4mcds|C|6467954|US|en|93a38acd46e46f94:en_US , Klutch Bolt Cutter — 42Inch\u001b[0m(78.78, 45685)\n",
      "\u001b[1m\u001b[4mcds|C|6467954|US|en|5c6b3a8e53d63762:en_US , Ryobi P189 18-Volt One+ 1.5Ah Compact Lithium-Ion Battery, Size: One size\u001b[0m(78.70, 99564)\n",
      "\u001b[1m\u001b[4mcds|O|432588656|US|en|shopify_US_507233665089_39416248762433 , The Nutter Bicycle Multi Tool | Full Windsor Jet Black Leather Pouch - 2 Pack (15% off)\u001b[0m(78.45, 9676)\n",
      "\u001b[1m\u001b[4mcds|C|6467954|US|en|9654910afcf4899d:en_US , Warrior 1 in. - 2-1/2 in. Carbon Steel Hole Saw Set, 10 Piece\u001b[0m(78.36, 96189)\n",
      "\u001b[1m\u001b[4mcds|O|112196569|US|en|461 , P3-NFS Heavy-Duty Hole Punch\u001b[0m(78.02, 82236)\n",
      "\u001b[1m\u001b[4mcds|C|6467954|US|en|a7272fd4f13cca44:en_US , COLIBROX (10) TEN Snap on Pocket Screwdriver, Flat Tip Screwdrivers, RED ~ Magnetic .NEW. R86855\u001b[0m(77.89, 68780)\n",
      "\u001b[1m\u001b[4mcds|C|6467954|US|en|efdd5edf3db69c82:en_US , Kreg Concealed Hinge Jig and 35mm Concealed Hinge Jig Bit Bundle (2 Items)\u001b[0m(77.84, 47317)\n",
      "\u001b[1m\u001b[4mcds|C|6467954|US|en|af1c06a3a2516f8d:en_US , Manual Electric Drill Dual-purpose Wire Stripping Machine Scrap Cable Peeling Machines Stripper for 1-30mm, Size: single cutter, Black\u001b[0m(77.70, 80481)\n",
      "\u001b[1m\u001b[4mcds|C|6467954|US|en|2fc8ee8bf3eb7c57:en_US , Makita 198486-1 Long Handle Attachment\u001b[0m(77.70, 22031)\n",
      "\u001b[1m\u001b[4mcds|C|6467954|US|en|3b91f2b5665bd30b:en_US , Dual Roller Guide Tool Attachment\u001b[0m(77.67, 83179)\n",
      "\u001b[1m\u001b[4mcds|C|6467954|US|en|1f2043e166cad193:en_US , Pittsburgh 1/8 in. - 1/4 in. Tube Bender\u001b[0m(77.63, 54784)\n",
      "\u001b[1m\u001b[4mcds|C|6467954|US|en|22e27472eb4b9b79:en_US , Milwaukee 2499-24 M12 12V 3/8\" Drill Driver 4-Piece Tool Combo Kit\u001b[0m(77.62, 63010)\n",
      "\u001b[1m\u001b[4mcds|O|144646454|US|en|17N1716 , Tenon & Miter Jig for the Bridge City Jointmaker Pro Precision Fence\u001b[0m(77.59, 44992)\n",
      "\u001b[1m\u001b[4mcds|C|6467954|US|en|4ce0627e5bef6f8c:en_US , Pen Ninja: 9 In 1 Pen Multi-tool (1 Most Advanced Pen Tool- Led Light,\u001b[0m(77.54, 89437)\n",
      "\u001b[1m\u001b[4mcds|C|6467954|US|en|f38e44fe6d1c73c1:en_US , Wallet Tool Gifts For Men Upgraded 18-in-1 Survival Credit Card Multitool By GUARDMAN - Multipurpose Tool With Survival Knife, Fire Starter, Whistle\u001b[0m(77.08, 79346)\n",
      "\u001b[1m\u001b[4mcds|C|6467954|US|en|53ad740c082ecefb:en_US , PALMGREN 9682122 6\" x12\" Manual Bench Surface Grinder by FastoolNow\u001b[0m(77.06, 71735)\n",
      "\u001b[1m\u001b[4mcds|C|6467954|US|en|349b45c7f2d990ba:en_US , National Hardware Double Fixed Pulley, 1-1/2 in., Zinc Plated, N199-810\u001b[0m(77.02, 91510)\n",
      "\u001b[1m\u001b[4mcds|C|6467954|US|en|ef53a3fe9968f696:en_US , Diablo Fleam Ground Recip. Blade for Pruning - 12 in. Length - 5-Pack\u001b[0m(77.00, 96651)\n",
      "\u001b[1m\u001b[4mcds|O|110026978|US|en|shopify_US_6681878691924_39555608379476 , Milwaukee 2839-20 M18 FUEL 15 Gauge Finish Nailer\u001b[0m(76.95, 43000)\n",
      "\u001b[1m\u001b[4mcds|O|101303009|US|en|62384026 , Dyson 968772-01 Cleaner Head Assembly UP20 Animal 2\u001b[0m(76.78, 35726)\n",
      "\u001b[1m\u001b[4mcds|O|3074108|US|en|4HGC4 , Nupla Double Edge Bush Hook: 3 ft Overall Lg, 12 in Cutting Edge Lg, Steel, Fiberglass, Sheath Model: 6894312\u001b[0m(76.77, 58631)\n",
      "\u001b[1m\u001b[4mcds|C|6467954|US|en|799e4817537e5ddd:en_US , DEWALT D55040 Quadraport Regulated Line Splitter (D55040) Yellow/Black/Silver | Acme Tools\u001b[0m(76.74, 18777)\n",
      "\u001b[1m\u001b[4mcds|C|6467954|US|en|e83a6696ccf86946:en_US , EWK 16 Pcs Pneumatic Brake Caliper Compression Tool Brake Piston Wind Back Air Retractor\u001b[0m(76.73, 89173)\n",
      "\u001b[1m\u001b[4mcds|C|6467954|US|en|529a3d807eb0491d:en_US , Weiler 44020 60\" Wood Handle, Tapered Wood Tip, 1-1/8\" Diameter\u001b[0m(76.73, 58507)\n",
      "\u001b[1m\u001b[4mcds|C|6467954|US|en|000f4bf299dcc1ba:en_US , Ingersoll-rand W7152 20-Volt 1/2-Inch Cordless Impact Wrench - Bare Tool, Size: W7152 Tool Only\u001b[0m(76.69, 67583)\n",
      "\u001b[1m\u001b[4mcds|C|6467954|US|en|100d568b7c2ce2cc:en_US , Mastercool 92310 Universal Orifice Service Kit\u001b[0m(76.56, 7266)\n",
      "\u001b[1m\u001b[4mcds|C|6467954|US|en|9c986e06e35d67a4:en_US , Aluminum Alloy Woodworking Square Size Measure Ruler - 3D Mitre Angle Measuring Template Tool - Carpenter's Layout Ruler Gauge Woodworking\u001b[0m(76.55, 57571)\n",
      "\u001b[1m\u001b[4mcds|C|6467954|US|en|e3664b8d8cdcc841:en_US , Buyers Products 1703349 Black Steel Underbody Truck Box with T-Handle Latch, 14 x 12 x 18 Inch\u001b[0m(76.45, 82101)\n",
      "\u001b[1m\u001b[4mcds|C|6467954|US|en|80d7fcd28cc87a0a:en_US , Unger Enterprises, Inc. Hdsb0 Unger Floor Scraper Blades, Steel, 8-3/8\u001b[0m(76.36, 50239)\n",
      "\u001b[1m\u001b[4mcds|C|6467954|US|en|29253b78d925dfba:en_US , Bosch Universal Plus Stand Mixer White With Baker's Pack, 6.5-Quart\u001b[0m(76.26, 35987)\n",
      "\u001b[1m\u001b[4mcds|C|6467954|US|en|ac800e94f399a136:en_US , CDI 1501MRMH Torque Wrench 1/4\" Drive Dual Scale Micrometer Adjustable 20-150 In Lb\u001b[0m(76.12, 7144)\n",
      "\u001b[1m\u001b[4mcds|C|6467954|US|en|575db50ccafe1e52:en_US , Hu-Friedy Ortho Mathieu Narrow Tip Pliers 1/Each by Practicon\u001b[0m(76.05, 51337)\n",
      "\u001b[1m\u001b[4mcds|C|6467954|US|en|d6480d6a1d274e12:en_US , AJC Super Shing-Go Shovel\u001b[0m(76.00, 14428)\n",
      "\u001b[1m\u001b[4mcds|C|6467954|US|en|0c4968606d36d8c6:en_US , NEIKO 10197A Step Drill Bit Set | 5 Piece, 50 SAE Sizes Total, 1/8” – 1-3/8” | Standard Titanium High Speed Steel Unibit, Stepper Cone Drill Bit |\u001b[0m(75.82, 83976)\n",
      "\u001b[1m\u001b[4mcds|C|6467954|US|en|fbb444cb9e0edffb:en_US , CRICUT - Explore Deep Cut Housing & Blade - (2002293)\u001b[0m(75.76, 66059)\n",
      "\u001b[1m\u001b[4mcds|O|108332225|US|en|Clamming+Gear , K.B. White Clam Rake/Fork Gift Packages\u001b[0m(75.64, 6629)\n",
      "\u001b[1m\u001b[4mcds|C|6467954|US|en|5013d76f76f11b96:en_US , 6pcs Nail Art Drill Bits and Sanding Bands for Nail Drill Replacement Set Nail Electric File Metal Bit\u001b[0m(75.50, 78007)\n",
      "\u001b[1m\u001b[4mcds|C|6467954|US|en|77a8cfe5784a9895:en_US , KAKURI Japanese Pruning Shears for Gardening Heavy Duty, Made in JAPAN, 8 Inch High Quality Forged Japanese Carbon Steel, Professional Garden\u001b[0m(75.49, 85628)\n",
      "\u001b[1m\u001b[4mcds|C|6467954|US|en|d616f62c8cdfd3c4:en_US , Psi Woodworking Tm42 Headstock Mount Lathe Drill Chuck\u001b[0m(75.37, 58989)\n",
      "\u001b[1m\u001b[4mcds|C|6467954|US|en|055c9b82ec403f81:en_US , Diablo 92-100 26 Piece Artisan Bit Set\u001b[0m(75.24, 22857)\n",
      "\u001b[1m\u001b[4mcds|C|6467954|US|en|300ed17a36f4b629:en_US , ABN Ratcheting Caliper Piston Tool – 4 in 1 Disc Brake Caliper Compression Tool Universal Brake Caliper Spreader Tool\u001b[0m(75.21, 20659)\n",
      "\u001b[1m\u001b[4mcds|O|7858675|US|en|ATC20156 , ATC20156 Cummins Air Compressor Wrench- Snap-on # M 1321\u001b[0m(75.21, 52408)\n",
      "\u001b[1m\u001b[4mcds|C|6467954|US|en|677054e7705c12f3:en_US , 8 Pieces Caulk Tool Kit Sealant Silicone Finishing Tools Caulking Tools for Silicone Sealant Grout Finishing Sealing (Blue)\u001b[0m(75.12, 37234)\n",
      "\u001b[1m\u001b[4mcds|C|6467954|US|en|8ee5b79ccce0f87d:en_US , ABN Hollow Punch Kit Leather Punches Tools Hole Punch Set Gasket Punch Set Gasket Cutter 3/16 to 1-3/8in (5-35mm)\u001b[0m(75.08, 36421)\n",
      "\u001b[1m\u001b[4mcds|C|6467954|US|en|e75b3d9410b8371e:en_US , Calliper gauge for brake discs\u001b[0m(75.03, 47018)\n",
      "\u001b[1m\u001b[4mcds|C|6467954|US|en|7916bd19b6c0d9a3:en_US , Twist Socket Set, Lug Nut Remover, Metric Bolt Stud Lug Nut Extractor Tool Kit With Center Punch Bar 1/2\" Drive 17 19 21 22mm 5 Pieces PTSTEL\u001b[0m(74.96, 97993)\n",
      "\u001b[1m\u001b[4mcds|O|114193152|US|en|B01C8G4F7M , IWISS PEX Pipe Cutters for Cutting 1/8\"-1\" PEX Tubings, NOT for PVC Pipes\u001b[0m(74.82, 90722)\n",
      "\u001b[1m\u001b[4mcds|O|235971960|US|en|shopify_US_4751073378403_33313274789987 , Power Hone Diamond Laps, #600\u001b[0m(74.81, 728)\n",
      "\u001b[1m\u001b[4mcds|C|6467954|US|en|2a683e89d6c8f8bb:en_US , Voyager Utility Holster\u001b[0m(74.81, 27462)\n",
      "\u001b[1m\u001b[4mcds|C|6467954|US|en|cc5704b2deb57fc4:en_US , Fiskars 28mm Stick Rotary Cutter White and Orange\u001b[0m(74.76, 4698)\n",
      "\u001b[1m\u001b[4mcds|C|6467954|US|en|bee4eac505fc17a3:en_US , Vestil FES-KIT Gantry Crane - Festoon System\u001b[0m(74.73, 82417)\n",
      "\u001b[1m\u001b[4mcds|C|6467954|US|en|45e9bbdf9041b7c8:en_US , Sunex 97329 1/2\" Drive 29 Mm Fully Polished Jumbo Straight Crowfoot\u001b[0m(74.65, 25956)\n",
      "\u001b[1m\u001b[4mcds|C|6467954|US|en|2ac23af264e69a76:en_US , Balego Shoulder Pulley with Webbing Door Strap (Standard Wood Handle)\u001b[0m(74.64, 17044)\n",
      "\u001b[1m\u001b[4mcds|C|6467954|US|en|168544740cfc634d:en_US , Capri Tools 3/8 in Drive Universal Impact Socket Set, 8-19 mm Metric, 12-Piece (5-3340)\u001b[0m(74.51, 73961)\n",
      "\u001b[1m\u001b[4mcds|C|6467954|US|en|db46be28a2df0743:en_US , Professional Leathercraft Accessories, Sewing, Stitching Awl Tool Kit & Supplies, Heavy Duty - Made in USA DIY Craft, Leather, Heavy Fabric, Canvas,\u001b[0m(74.51, 54260)\n",
      "\u001b[1m\u001b[4mcds|O|9389498|US|en|352 , Powerdyne Bearing Hand Tool\u001b[0m(74.50, 71725)\n",
      "\u001b[1m\u001b[4mcds|C|6467954|US|en|4d6bd2a172608564:en_US , CTA 1011 Crankshaft Pulley Removal Tool\u001b[0m(74.45, 89848)\n",
      "\u001b[1m\u001b[4mcds|O|420273781|US|en|shopify_US_7010549858455_40509007724695 , 2020 Reinhold Würth Limited Edition - 31 Piece ZEBRA Drill / ScrewdriverSet\u001b[0m(74.44, 29160)\n",
      "\u001b[1m\u001b[4mcds|C|6467954|US|en|2e92fc25c4dc26ab:en_US , Fiskars 5 in. Steel Rotating Blades Loop-Handled Grass Shears\u001b[0m(74.40, 29904)\n",
      "\u001b[1m\u001b[4mcds|C|6467954|US|en|db43084b4ddb1a94:en_US , 1/2 Ton Gorbel Aluminum Tie Rod Wall Mount Jib Crane\u001b[0m(74.30, 63434)\n",
      "\u001b[1m\u001b[4mcds|C|6467954|US|en|547f3fa1755893f4:en_US , ZIBOO ZB07 Insulation Wire Piercing Probes,Automotive Diagnostic Test Accessories Repair Tools Needle,Back Probe kit,3.25 x 0.25 x 0.25 Mini Back\u001b[0m(74.27, 72428)\n",
      "\u001b[1m\u001b[4mcds|C|6467954|US|en|a925d3b9c7da4683:en_US , Dyson 923941-01 DC41 Vacuum Brush Bar Motor Housing With Motor Genuine\u001b[0m(74.26, 44243)\n",
      "\u001b[1m\u001b[4mcds|C|6467954|US|en|06c004275abfbb0f:en_US , GALLIA Flexible Drill Bit Extension Set, 105° Right Angle Drill Attachment, 1/4 3/8 1/2In Hex Shank Impact Driver Socket Adapter Rotatable Socket,\u001b[0m(74.11, 41286)\n",
      "\u001b[1m\u001b[4mcds|O|425787293|US|en|shopify_US_4432541515819_31678962925611 , Cummins ISX 3164606 Cylinder Liner Press Installer Tool Alternative CUMMINS | Ferrum Tools\u001b[0m(74.03, 7247)\n",
      "\u001b[1m\u001b[4mcds|C|6467954|US|en|14dcb10457d41ac8:en_US , Freud LM71M010 10-Inch Thick Stock Rip Blade\u001b[0m(74.00, 62506)\n",
      "\u001b[1m\u001b[4mcds|O|113602671|US|en|543326551235_333422209354 , Knife Handle Stainless Steel Screw With Patterned Rivet For 5mm Or 6mm\u001b[0m(73.98, 14699)\n",
      "\u001b[1m\u001b[4mcds|C|6467954|US|en|5e3c47bb7cff1f90:en_US , Craftsman VERSASTACK 17.25 in. W X 4 in. H Storage Organizer Plastic 10 compartments Black/Red\u001b[0m(73.73, 29101)\n",
      "\u001b[1m\u001b[4mcds|C|6467954|US|en|0bf72b9016b152b7:en_US , Albion Engineering Company 258-4s Classic Spatula, Stainless Steel,\u001b[0m(73.71, 69256)\n",
      "\u001b[1m\u001b[4mcds|C|6467954|US|en|fcacb6d38ee8f4f3:en_US , Bawer 18 X 18 X 24 Inch Aluminum Tool Box With Single Door\u001b[0m(73.65, 50301)\n",
      "\u001b[1m\u001b[4mcds|C|6467954|US|en|395a750d27fa98d9:en_US , 14pc \"Go-Through\" Socket & Ratchet Set JTC-3439\u001b[0m(73.44, 43785)\n",
      "\u001b[1m\u001b[4mcds|C|6467954|US|en|57d2b5fbb593caee:en_US , Baileigh Hydraulic Medium Duty Shear SH-5214Baileigh Industrial\u001b[0m(73.16, 61710)\n",
      "\u001b[1m\u001b[4mcds|C|6467954|US|en|dd7b547a0ca5f038:en_US , 3.5\" Flail Hammer Replacement Blades\u001b[0m(73.08, 13576)\n",
      "\u001b[1m\u001b[4mcds|C|6467954|US|en|ebfac790b35a59d1:en_US , IRWIN Vise-Grip 23 Sheet Metal Tool, 8 in OAL, 3-1/8 in Jaw Opening\u001b[0m(72.90, 1337)\n",
      "\u001b[1m\u001b[4mcds|C|6467954|US|en|e78e2eca56258ae0:en_US , 10PCS DCMT21.51 Indexable Soild Carbide Turning Insert Blade For Lathe Tool Holder,DCMT070204 Carbide Inserts For Lathe (DCMT070204-HMP)\u001b[0m(72.88, 10132)\n",
      "\u001b[1m\u001b[4mcds|O|433608175|US|en|393481168197 , For Ryobi One+ 18v Li-ion Battery Output Adapter Diy Power Wheels\u001b[0m(72.74, 50685)\n",
      "\u001b[1m\u001b[4mcds|O|129052588|US|en|885544533 , LEATHERMAN MULTITOOL SHEATH (pockets for bits and extender)\u001b[0m(72.72, 47820)\n",
      "\u001b[1m\u001b[4mcds|O|6296724|US|en|203061271124 , 15pcs Heavy Duty Motorcycle Bike Chain Splitter/breaker Link Riveting\u001b[0m(72.62, 17749)\n",
      "\u001b[1m\u001b[4mcds|C|6467954|US|en|e58472f79cefe918:en_US , Marshalltown 11051 Drywall & Plastering 1\" 2 Edge Soft Grip Paint Scraper\u001b[0m(72.61, 51580)\n",
      "\u001b[1m\u001b[4mcds|C|6467954|US|en|c1f2370d1bbdd785:en_US , Orthodontic Retainer Thermal Plier Clear Aligner Invisible Hole Punch Dental CE 5 Pcs by MEDESY\u001b[0m(72.54, 28934)\n",
      "\u001b[1m\u001b[4mcds|C|6467954|US|en|02a5eb7f650f8012:en_US , Metabo HPT NR3665DAM | MultiVolt 36V Brushless Lithium-Ion Cordless Metal Connector Nailer Kit (2.5 Ah) | Tyler Tool\u001b[0m(72.42, 10235)\n",
      "\u001b[1m\u001b[4mcds|C|6467954|US|en|d1f1c1c4444b282c:en_US , Craftsman 17-Piece Screwdriver Set\u001b[0m(72.26, 6527)\n",
      "\u001b[1m\u001b[4mcds|C|6467954|US|en|debfbc75732feb69:en_US , RYOBI ONE+ HP 18V Brushless Whisper Series Cordless Battery 8 in. Pole Saw (Tool Only)\u001b[0m(72.21, 24655)\n",
      "\u001b[1m\u001b[4mcds|C|6467954|US|en|a867f1907bc5280c:en_US , WOYO PDR009 PDR 009 Auto Body Repair Tools Paintless Car Dent Repair Body Damage Fix Tool Supporting Removing Aluminum Auto Body Dents\u001b[0m(72.20, 80071)\n",
      "\u001b[1m\u001b[4mcds|C|6467954|US|en|d514577949896b21:en_US , General Tool 807sx Offset Ratchet Screwdriver Slotted Phillips Sale\u001b[0m(72.15, 58570)\n",
      "\u001b[1m\u001b[4mcds|O|9384133|US|en|BE650 , Husqvarna BE650 5.5HP 196cc Lawn Edger\u001b[0m(72.06, 18784)\n",
      "\u001b[1m\u001b[4mcds|C|6467954|US|en|970c94824f8a79a5:en_US , Morakniv Garberg Survival Blackblade\u001b[0m(72.02, 21382)\n",
      "\u001b[1m\u001b[4mcds|C|6467954|US|en|4c6b520c98edf0cf:en_US , Cheese Knife | Multi-Purpose Premium Steel Blade for Slicing, Spreading + Spearing | FDA Approved | W&P\u001b[0m(72.00, 52460)\n",
      "\u001b[1m\u001b[4mcds|C|6467954|US|en|21732f7de250ae05:en_US , J.A. Henckels International 16 pc. Self-Sharpening Knife Block Set, Natural\u001b[0m(72.00, 92571)\n",
      "\u001b[1m\u001b[4mcds|O|108432423|US|en|488 , MX150 & MX150L Terminal Removal Tool | Molex\u001b[0m(71.98, 14431)\n",
      "\u001b[1m\u001b[4mcds|O|198498728|US|en|shopify_US_5250709323934_34496554401950 , eight-legged watch case back removal tool suit for watch back cover\u001b[0m(71.92, 15893)\n",
      "\u001b[1m\u001b[4mcds|C|6467954|US|en|b9e73f7680846b2d:en_US , SharkBite 3/4-in Fitting Removal Tool Stainless Steel in Blue | U713Z\u001b[0m(71.84, 21007)\n",
      "\u001b[1m\u001b[4mcds|O|6084472|US|en|BSH-1607000DH7 , Bosch/Dremel/CST Berger/RotoZip Battery Charger #BSH-1607000DH7\u001b[0m(71.77, 32792)\n",
      "\u001b[1m\u001b[4mcds|C|6467954|US|en|0e716fb998be17a3:en_US , Cabela's Multi-Tool - Green\u001b[0m(71.49, 64923)\n",
      "\u001b[1m\u001b[4mcds|C|6467954|US|en|e516bc6674321c00:en_US , Magswitch MLAY600x2 Lifting Magnet - 8100360\u001b[0m(71.48, 32279)\n",
      "\u001b[1m\u001b[4mcds|O|8484259|US|en|SC-DV , Sanke D Valve for Cleaning Keg\u001b[0m(71.19, 88547)\n",
      "\u001b[1m\u001b[4mcds|C|6467954|US|en|82676449d3ffb233:en_US , WEATHER GUARD 72-in x 20.5-in x 18.375-in Silver Aluminum Crossover Truck Tool Box | 124-0-01\u001b[0m(71.18, 37948)\n",
      "\u001b[1m\u001b[4mcds|O|125697188|US|en|shopify_US_6802564055074_39697691738146 , Amagabeli 5 Pieces Fireplace Tools Sets Wrought Iron Indoor Fireplace Set with Poker Tongs Broom Shovel Stand Fire Tools Gold Model Number BG462\u001b[0m(71.09, 82090)\n",
      "\u001b[1m\u001b[4mcds|C|6467954|US|en|e2973e9595d2c9d3:en_US , Klein 510216SPBLK Deluxe Tool Bag, Black Canvas, 13 Pockets, 16-Inch\u001b[0m(70.91, 38833)\n",
      "\u001b[1m\u001b[4mcds|C|6467954|US|en|60ba7527b369ad20:en_US , Vevor 71550 A/c Hose Crimper Kit Manual Crimper Protable Crimping W/ 4\u001b[0m(70.90, 67161)\n",
      "\u001b[1m\u001b[4mcds|O|146587656|US|en|shopify_US_6559377260743_39338418798791 , Gates Powergrip GT2 Idlers | HartSmart Products 12mm / Smooth\u001b[0m(70.81, 99838)\n",
      "\u001b[1m\u001b[4mcds|C|6467954|US|en|5dae0e4df955989f:en_US , Knipex 09 08 240 Us Linesman Pliers New England Head,1000V\u001b[0m(70.59, 64320)\n",
      "\u001b[1m\u001b[4mcds|C|6467954|US|en|6b18a90b71f1dc4b:en_US , Odomy Auger Drill Bit Garden Plant Flower Bulb Auger Rapid Planter Bulb Plant Auger, Size: 4*22cm\u001b[0m(70.41, 67713)\n",
      "\u001b[1m\u001b[4mcds|C|6467954|US|en|0f385de01a04de23:en_US , Milwaukee M18 Fuel 2867-20 Cordless High-torque Impact Wrench With One Key , 1/2 In, 1650 Rpm, Pistol Grip, Metal, Plastic, Rubber\u001b[0m(70.39, 88315)\n",
      "\u001b[1m\u001b[4mcds|C|6467954|US|en|1c688e8912cdbf15:en_US , Victorinox 40537 Fibrox Pro 8\" Breaking Knife\u001b[0m(70.20, 45427)\n",
      "\u001b[1m\u001b[4mcds|C|6467954|US|en|5e51e55bcd54036f:en_US , Leatherman Charge Plus TTI\u001b[0m(70.08, 1237)\n",
      "\u001b[1m\u001b[4mcds|C|6467954|US|en|28b3d1a3552e7d3c:en_US , Pittsburgh Automotive Disc Brake Pad Piston Compressor\u001b[0m(70.04, 12263)\n",
      "\u001b[1m\u001b[4mcds|C|6467954|US|en|7a391eab8a7eb03a:en_US , MILWAUKEE 4 In. STEELHEAD Diamond Cut-Off Blade | 49-93-7800 | Acme Tools\u001b[0m(70.00, 50904)\n",
      "\u001b[1m\u001b[4mcds|O|10386109|US|en|68 , nU Groove Sharpener\u001b[0m(69.86, 5522)\n",
      "\u001b[1m\u001b[4mcds|C|6467954|US|en|5da0179c4bc9b2d3:en_US , Miter Trim Cutter\u001b[0m(69.76, 57822)\n",
      "\u001b[1m\u001b[4mcds|C|6467954|US|en|ee1c2ee3538d3d8a:en_US , Cuda Cutters, 10 1/2\" Hook, Blue (18178)\u001b[0m(69.64, 62929)\n",
      "\u001b[1m\u001b[4mcds|C|6467954|US|en|d7e339594e5c423b:en_US , 14.4 Volt Battery for Dewalt Dc9091 Dw9091 Dw9094 NiCD 1.5 Ah, Black\u001b[0m(69.54, 20251)\n",
      "\u001b[1m\u001b[4mcds|O|3074108|US|en|380FM0 , Milwaukee Cordless Combination Kit Model: 2695-24, 2626-20\u001b[0m(69.32, 3788)\n",
      "\u001b[1m\u001b[4mcds|O|12768591|US|en|1147642383 , T-Handle Holder for Tool Boxes\u001b[0m(69.27, 2691)\n",
      "\u001b[1m\u001b[4mcds|O|542746001|US|en|771295410 , Belt Grinder Tilt Table Fits Most Popular 2x72\" Knife Grinders Such As OBM\u001b[0m(69.13, 41030)\n",
      "\u001b[1m\u001b[4mcds|C|6467954|US|en|f82037966e920de4:en_US , Gatorback B145 Carpenters Triple Combo w/Pro-Comfort Back Support Belt. Heavy Duty Work Belt (X-Large 40\"-44\")\u001b[0m(69.11, 51404)\n",
      "\u001b[1m\u001b[4mcds|O|131589279|US|en|ELL-BAU-3P24 , Baumalight Stump Blaster 3-Point Tractor Stump Grinder Model 3P24\u001b[0m(69.00, 70118)\n",
      "\u001b[1m\u001b[4mcds|C|6467954|US|en|5ca47738b27d5116:en_US , 29pc Speedy Multi Tip Cutter Drill Bit Set K Tool International 63106\u001b[0m(68.98, 23201)\n",
      "\u001b[1m\u001b[4mcds|C|6467954|US|en|1e099b08942f6d47:en_US , Swanson Tool CG100 Cutting Guide 100-Inch\u001b[0m(68.93, 59448)\n",
      "\u001b[1m\u001b[4mcds|C|6467954|US|en|012a5ac292e14706:en_US , Kreg Micro Adjuster\u001b[0m(68.92, 55903)\n",
      "\u001b[1m\u001b[4mcds|O|12768591|US|en|1036159949 , Stamping Press for all Platforms (Crazy Press tool) ,\u001b[0m(68.90, 13334)\n",
      "\u001b[1m\u001b[4mcds|C|6467954|US|en|4424f58332951574:en_US , WORKPRO Belt Disc Sander, 4 in. x 36 in. Belt & 6 in. Disc Sander with 6pcs Sandpapers, Cast Iron Base for Sanding Woodworking, DIY Decoration\u001b[0m(68.59, 86073)\n",
      "\u001b[1m\u001b[4mcds|O|371788999|US|en|34009 , Flat Nozzle Crevice Tool Black 1.375 Inch (35mm)\u001b[0m(68.25, 8614)\n",
      "\u001b[1m\u001b[4mcds|C|6467954|US|en|f81ea7f8d2d9e3ba:en_US , Vevor Jewelry Pneumatic Engraving Machine 400-8000 RPM Adjustable Speed Pneumatic Hand Engraving Machines 110v 60Hz Pneumatic Graver Handpiece with\u001b[0m(68.11, 92296)\n",
      "\u001b[1m\u001b[4mcds|C|6467954|US|en|8fccd68e610879b2:en_US , Performance Tool 3pc Line Clamp Set, W83205\u001b[0m(68.09, 2249)\n",
      "\u001b[1m\u001b[4mcds|C|6467954|US|en|2d9f691be73373a6:en_US , Bostitch 18v Cordless Drill 1/2\" Btc400 Keyless Chuck +18v Tool Only\u001b[0m(68.02, 20379)\n",
      "\u001b[1m\u001b[4mcds|C|6467954|US|en|3c0b09b1bfe9a5e2:en_US , Tru Pro 33 In. Adjustable Steel Auger\u001b[0m(68.01, 70749)\n",
      "\u001b[1m\u001b[4mcds|C|6467954|US|en|994a724d46e4d6df:en_US , Kinswood Circular Saw Blade Universal Fit 5\" 3/8\" 40t For Metal\u001b[0m(68.00, 86711)\n",
      "\u001b[1m\u001b[4mcds|C|6467954|US|en|12953c20d5c66ad7:en_US , DeWALT 16 Gauge 1-1/4\" Long Finishing Nails for Power Nailers - Grade 2 Steel, Galvanized Finish, Angled Stick Collation | Part #DCA16125\u001b[0m(67.97, 82255)\n",
      "\u001b[1m\u001b[4mcds|C|6467954|US|en|1b42c8038d5ef15f:en_US , Ridgid Tools R840083\u001b[0m(67.92, 3697)\n",
      "\u001b[1m\u001b[4mcds|C|6467954|US|en|90fddb7ce8fe0504:en_US , Klein Tools, Inc. LLM2 Hex Key L-Key 2mm 3.03\" (77.0mm)\u001b[0m(67.89, 82788)\n",
      "\u001b[1m\u001b[4mcds|C|6467954|US|en|2c0f7146c9ca35fe:en_US , Preenex 1.5-25mm Electric Automatic Wire Stripping Machine Bench top Powered Cable Stripper Tool, Size: Small\u001b[0m(67.89, 90156)\n",
      "\u001b[1m\u001b[4mcds|O|118940651|US|en|224633738624 , Vintage Large All Metal Anvil Dual Wheel Block & Tackle Pulley Swivel\u001b[0m(67.78, 61028)\n",
      "\u001b[1m\u001b[4mcds|C|6467954|US|en|f04e24e6d35beeef:en_US , Ridgid 37835 12R 1 inch NPT Dies\u001b[0m(67.68, 83868)\n",
      "\u001b[1m\u001b[4mcds|C|6467954|US|en|193e75fde7c31846:en_US , Klever X-Change Safety Cutter,6-3/4 in.,Black/Red Kcj-xc-30r\u001b[0m(67.56, 28003)\n",
      "\u001b[1m\u001b[4mcds|C|6467954|US|en|04fb37238a04cb4c:en_US , Dynamite - Startup Tool Set: Metric, Parts & Accessories, Parts, Hand Tools, DYN2834\u001b[0m(67.25, 35212)\n",
      "\u001b[1m\u001b[4mcds|C|6467954|US|en|d010833aa116f259:en_US , Ernst Manufacturing 3-Rail Socket Boss Organizer, Model 8450\u001b[0m(67.25, 95548)\n",
      "\u001b[1m\u001b[4mcds|C|6467954|US|en|cd5b04eb22864129:en_US , Deluxe Coaxial Crimp Tool with .100\", .128\" and .429\" Hex Die\u001b[0m(67.24, 20427)\n",
      "\u001b[1m\u001b[4mcds|C|6467954|US|en|4c8991a24215acdf:en_US , Woodworking Strap Clamp Adjustable Ratchet Band Clamp Miter Mitre Vise Tool For Cabinets, Drawers, Barrels\u001b[0m(67.05, 72226)\n",
      "\u001b[1m\u001b[4mcds|C|6467954|US|en|1c1707d23bc68856:en_US , TACKLIFE Cordless Drill 20V Max, Budget Handheld Drill For DIYers - PCD04C\u001b[0m(66.85, 15868)\n",
      "\u001b[1m\u001b[4mcds|O|9982|US|en|12-03359 , Heavy Duty Spark Plug Gapper Kit Ats420dx by Aircraft Spruce\u001b[0m(66.83, 68912)\n",
      "\u001b[1m\u001b[4mcds|O|176510798|US|en|5faf946476ceec03f111b228 , New Arrival Auto Locksmith Tools 5PCS/SET Lishi 2 in 1 HU66 HU92 HU100R HU101 HU100 Pick and Decoder for Car Locks\u001b[0m(66.74, 14644)\n",
      "\u001b[1m\u001b[4mcds|O|120368115|US|en|shopify_US_4333669843018_31093687484490 , DEWALT DCF883B 20V 20 Volt Max Lithium Ion 3/8\" Impact Wrench w Hog Ring\u001b[0m(66.73, 70294)\n",
      "\u001b[1m\u001b[4mcds|C|6467954|US|en|c3f85233ebb3074d:en_US , DIABST37 (SDS-plus ) Drop-In Anchor Power-Setting Tool\u001b[0m(66.62, 20589)\n",
      "\u001b[1m\u001b[4mcds|O|6296724|US|en|203656277646 , 1 1/4\" Hand Grip Garden Tool Handle Wheelbarrow Soft Rubber Shovel\u001b[0m(66.54, 4863)\n",
      "\u001b[1m\u001b[4mcds|O|142938480|US|en|193628 , 1978 CAT 633D - Scraper\u001b[0m(66.47, 31928)\n",
      "\u001b[1m\u001b[4mcds|C|6467954|US|en|b10061d874091c75:en_US , EKLIND 17222 Double-Ball-Hex L-Key allen wrench Combo- Extra Long Inch / MM (2 sets 22pc)\u001b[0m(66.31, 35321)\n",
      "\u001b[1m\u001b[4mcds|C|6467954|US|en|e4d0b2d277774a81:en_US , Ryobi One+ 200cfm 18v Leaf Sweeper With 2ah Battery And Charger\u001b[0m(66.12, 67538)\n",
      "\u001b[1m\u001b[4mcds|O|468295345|US|en|1022951170 , locking Milwaukee M18 friction fit Packout battery holder\u001b[0m(66.00, 78422)\n",
      "\u001b[1m\u001b[4mcds|C|6467954|US|en|1933be4786bd77da:en_US , Puffco Hot Knife\u001b[0m(65.93, 61865)\n",
      "\u001b[1m\u001b[4mcds|C|6467954|US|en|39cfc5c692d3c2d4:en_US , T40271-T10355-KIT VW 1.8 / 2.0L FSI / TFSI Engine Timing Tool Set Alt\u001b[0m(65.75, 77423)\n",
      "\u001b[1m\u001b[4mcds|O|6157908|US|en|ET10562 , JackJaw 305 Round Sign Post Puller - JJ0305\u001b[0m(65.74, 33861)\n",
      "\u001b[1m\u001b[4mcds|C|6467954|US|en|be289e49528244e5:en_US , 22-volt 1/4 In. Cordless Brushless Sd 5000 Drywall Screwdriver Screw\u001b[0m(65.72, 23062)\n",
      "\u001b[1m\u001b[4mcds|C|6467954|US|en|0b24971400b232f3:en_US , Foundation | Cassette Lockring Tool For Shimano Cassette & Centerlock BR\u001b[0m(65.68, 78650)\n",
      "\u001b[1m\u001b[4mcds|O|516192150|US|en|shopify_US_84524892_198744342 , Domiplate for 1/2\" and 3/4\" nominal ply\u001b[0m(65.62, 1002)\n",
      "\u001b[1m\u001b[4mcds|O|128553554|US|en|1056344USs , Banggood 3Pcs Tubular 7 Pins Lock Pick Tools with Transparent 7 Pin Tubular Lock Cylinder Locksmith Tools\u001b[0m(65.54, 22468)\n",
      "\u001b[1m\u001b[4mcds|C|6467954|US|en|19db4b5a5f0f54ef:en_US , Disc Brake Pad Spreader Installation Caliper Piston Compressor Steel\u001b[0m(65.54, 89821)\n",
      "\u001b[1m\u001b[4mcds|C|6467954|US|en|7958c6b4f43301f9:en_US , Universal Bender 4′′ x 3/16′′ Flat Round Square Angle Bar Bending Tools\u001b[0m(65.53, 52543)\n",
      "\u001b[1m\u001b[4mcds|O|10136084|US|en|shopify_US_4727176986718_32146140299358 , GI Military MOLLE II Entrenching Tool Cover ACU / Used Camouflage\u001b[0m(65.42, 19590)\n",
      "\u001b[1m\u001b[4mcds|O|101682308|US|en|331554684160 , 360o Clamp Bench Vise Grinder Holder Electric Drill Stand For Power\u001b[0m(65.39, 56771)\n",
      "\u001b[1m\u001b[4mcds|C|6467954|US|en|54d5a3058b222e38:en_US , Worx Wg324.9 20V Power Share 5 Cordless Pruning Saw, Bare Tool Only, Black and Orange, Size: 5 in\u001b[0m(65.31, 78711)\n",
      "\u001b[1m\u001b[4mcds|C|6467954|US|en|9fb286e085f7a3bb:en_US , 3 in 1 Corner Rounder Punch, 4mm 7mm 10mm 3 Way Corner Cutter for Paper Craft, Laminate, DIY Projects, Photo Cutter, Card Making and Scrapbooking\u001b[0m(65.14, 50622)\n",
      "\u001b[1m\u001b[4mcds|C|6467954|US|en|7cd45885febb2b11:en_US , TDI Brands Potting Trowel One-Size\u001b[0m(65.02, 70442)\n",
      "\u001b[1m\u001b[4mcds|C|6467954|US|en|cff85be59d901bcc:en_US , Earthquake 3/8 in. Composite Air Impact Wrench\u001b[0m(65.00, 44074)\n",
      "\u001b[1m\u001b[4mcds|O|9728833|US|en|12473 , Skid Steer Rock Saw Attachment 24\" Depth Wheel\u001b[0m(64.80, 10522)\n",
      "\u001b[1m\u001b[4mcds|O|254529729|US|en|62181571913 , Wholesale HDD Drilling Tools Sonde, 1 Piece, Housing Transmitter Housings for Horizontal Directional Drilling Rigs\u001b[0m(64.76, 74595)\n",
      "\u001b[1m\u001b[4mcds|O|441300471|US|en|woocommerce_gpf_1095672 , Stripped Hex Screw Removers, SAE\u001b[0m(64.70, 89337)\n",
      "\u001b[1m\u001b[4mcds|C|6467954|US|en|7e73da469b92ceef:en_US , Ridgid Square Drive Adapter, For Use With 1AC02, 6YJ38, 161 Geared Threader, 258 Power Pipe Cutter Model: 42620\u001b[0m(64.63, 90076)\n",
      "\u001b[1m\u001b[4mcds|C|6467954|US|en|369a2d1311b64d92:en_US , Westward 499N12 Jobsite Box,13 In,blue\u001b[0m(64.52, 97117)\n",
      "\u001b[1m\u001b[4mcds|C|6467954|US|en|1bb32680e511dd6c:en_US , Klein Tools 11048 Dual Wire Stripper Cutter for Solid Wire\u001b[0m(64.51, 72104)\n",
      "\u001b[1m\u001b[4mcds|O|119561682|US|en|BK_7769205-1CT , Rear Main Seal Tool Kit Upper Rear Main Engine Seal\u001b[0m(64.48, 89722)\n",
      "\u001b[1m\u001b[4mcds|C|6467954|US|en|badd9831f450301c:en_US , Rocky Mountain Goods Fireplace Shovel 17\" - Heavy Gauge Steel - Heat Resistant Finish - Leather Hang Strap - Coal Shovel\u001b[0m(64.25, 75144)\n",
      "\u001b[1m\u001b[4mcds|C|6467954|US|en|5cf6fa1d03c349a7:en_US , Berkling Tools BT 2425J 1/2” Ultra Compact Angle Air Impact Wrench - 500 ft-lb Breakaway Torque, Gearless Direct Drive, 9.7\" Long Low Profile Body,\u001b[0m(64.04, 12635)\n",
      "\u001b[1m\u001b[4mcds|C|6467954|US|en|cfad56cb0d720244:en_US , BackRack 30327TB - BackRack 2016+ Toyota Tacoma Toolbox 21in No Drill Hardware Kit\u001b[0m(64.00, 67153)\n",
      "\u001b[1m\u001b[4mcds|C|6467954|US|en|7fe6c0ed3af2c191:en_US , Ingersoll Rand 215g 3/8-Inch 160-Ft.Lbs Edge Series Air Impactool, Silver, White\u001b[0m(64.00, 8238)\n",
      "\u001b[1m\u001b[4mcds|C|6467954|US|en|8c8d1a6a5273bac0:en_US , Milwaukee 42-28-0206 Band Saw Front Blade Guide Assembly\u001b[0m(63.99, 35536)\n",
      "\u001b[1m\u001b[4mcds|O|540350261|US|en|1183797053 , Slab Flattening Jig Plans\u001b[0m(63.96, 38027)\n",
      "\u001b[1m\u001b[4mcds|O|112354234|US|en|203903381 , Edger Metal RED 140cc, Size: 25 in\u001b[0m(63.95, 98365)\n",
      "\u001b[1m\u001b[4mcds|C|6467954|US|en|b8605c11a754ea3a:en_US , Pana Nail Carbide 5 in 1 Bit - Two Way Rotate use for Both Left and Right Handed - Fast remove Acrylic or Hard Gel - 3/32 inch Shank - Manicure, Nail\u001b[0m(63.80, 92006)\n",
      "\u001b[1m\u001b[4mcds|C|6467954|US|en|156eec421c0442d3:en_US , Bullet Tools Striker XXL Hammer-Free Tapping Block\u001b[0m(63.73, 95522)\n",
      "\u001b[1m\u001b[4mcds|C|6467954|US|en|e2bba091811baf10:en_US , Joyin 4 in 1 Construction Workbench Tool Bench Set with Electric Drill, Goggles, Chainsaw and More Tool Toys Travel Case Work Bench Play Toolset for\u001b[0m(63.70, 71800)\n",
      "\u001b[1m\u001b[4mcds|C|6467954|US|en|8cdd4c5592182a08:en_US , Council Leather Mask for Boy's & Hudson Bay Axes at Sheldon Hill Forestry Supply\u001b[0m(63.70, 27762)\n",
      "\u001b[1m\u001b[4mcds|C|6467954|US|en|cac02815be3ccf9c:en_US , Wypo Cutting Torch Tip Resurfacing Tool | ATL Welding Supplies\u001b[0m(63.67, 8179)\n",
      "\u001b[1m\u001b[4mcds|C|6467954|US|en|09df555251d9d083:en_US , Autel MaxiTPMS TS508 TPMS Relearn Tool, 2022 Newest Upgraded of TS501, TS408, Program MX-Sensors(315/433 MHz), Activate/Relearn All Sensors, TPMS\u001b[0m(63.50, 30017)\n",
      "\u001b[1m\u001b[4mcds|O|3726155|US|en|Craftsman-8196-Replacement-Key , Craftsman 8196 Replacement Tool Box & Tool Chest Key\u001b[0m(63.38, 10020)\n",
      "\u001b[1m\u001b[4mcds|O|9029677|US|en|9366.0 , Highbush Blueberry Rake | Harvesting Tools | Johnny's Selected Seeds\u001b[0m(63.14, 23226)\n",
      "\u001b[1m\u001b[4mcds|C|6467954|US|en|b3ee2e9dcc036c0c:en_US , Beta Tools 039000032 C39 Gray Mobile Rolling Tool Cabinet (31.49\" W x 19.68\" D x 38.22\" H)\u001b[0m(63.05, 82537)\n",
      "\u001b[1m\u001b[4mcds|C|6467954|US|en|8d990a1725bfd2cd:en_US , 8 Inch Serrated Rubber Belt Grinder Contact Wheel Rubber Wheel Contact Wheel Aluminum for Polishing with 1\" Hole\u001b[0m(63.05, 81330)\n",
      "\u001b[1m\u001b[4mcds|C|6467954|US|en|98fe8ca032ee76c0:en_US , Task Tools 09962 Universal Shank Jig Saw Blade Set With Pouch 20-piec\u001b[0m(63.00, 52480)\n",
      "\u001b[1m\u001b[4mcds|C|6467954|US|en|03fc0af9bf2554a7:en_US , 5\" Wet Core Bit for Drilling Concrete and Hard Masonry - 1-1/4\"-7 Threaded #30/40 Diamond Grits\u001b[0m(63.00, 81010)\n",
      "\u001b[1m\u001b[4mcds|C|6467954|US|en|485c348bd8535d46:en_US , Kuhn Rikon Colori Chef's Knife with Safety Sheath, 6 Inch, Black\u001b[0m(63.00, 96760)\n",
      "\u001b[1m\u001b[4mcds|C|6467954|US|en|987d580021526647:en_US , 981-0490 Genuine Oem Chipper Blade\u001b[0m(63.00, 92724)\n",
      "\u001b[1m\u001b[4mcds|O|12768591|US|en|957875828 , Axe handles with laminated palm swells\u001b[0m(63.00, 85270)\n",
      "\u001b[1m\u001b[4mcds|C|6467954|US|en|ca975d37ef13ed1c:en_US , Open Security Oval Head Screws, 316 SS Service Repair Tool Key, Magnetic\u001b[0m(62.98, 38426)\n",
      "\u001b[1m\u001b[4mcds|C|6467954|US|en|003333fa9202392b:en_US , Stanley FMHT10358 FATMAX Single-Sided Replaceable Head Pull Cutter\u001b[0m(62.94, 31417)\n",
      "\u001b[1m\u001b[4mcds|C|6467954|US|en|bd3b772b57336611:en_US , 5S Tool Box Foam - 2 1/4\" - ULINE - Carton of 3 - S-24286\u001b[0m(62.84, 84957)\n",
      "\u001b[1m\u001b[4mcds|C|6467954|US|en|356c303fb0bbe7e3:en_US , K Tool 45600 Reversible Ratcheting Combination Wrench Set, 16 Piece, 8mm to 24mm, Sleek Head Design, All Metal\u001b[0m(62.75, 17273)\n",
      "\u001b[1m\u001b[4mcds|O|6084472|US|en|DWB-N413815 , DeWalt Elec Control Assembly #DWB-N413815\u001b[0m(62.71, 17896)\n",
      "\u001b[1m\u001b[4mcds|C|6467954|US|en|24916ac84431ffb7:en_US , Mayhew 45049 CatsPaw Belt / Molding Removal Tool | Auto Tool World\u001b[0m(62.54, 34321)\n",
      "\u001b[1m\u001b[4mcds|C|6467954|US|en|986238a9ac6ef2b8:en_US , Professional Equine Horse Farrier Tool Kit Grooming Hoof Bot Shoe Puller Nipper Rasp 984109\u001b[0m(62.51, 66825)\n",
      "\u001b[1m\u001b[4mcds|C|6467954|US|en|40ff08f7f10e9ee5:en_US , Onsrud 70-510 Jobber Drill,3/16\",hss\u001b[0m(62.40, 81825)\n",
      "\u001b[1m\u001b[4mcds|C|6467954|US|en|7c365d72ab6e66a1:en_US , Due Cigni Walnut Wood Wall Knife Rack 33 x 15 x 5.5cm\u001b[0m(62.40, 20914)\n",
      "\u001b[1m\u001b[4mcds|O|144738959|US|en|shopify_US_4327835926664_31081104277640 , Corby Rivets | Jantz Supply - Quality Knifemaking Since 1982 Brass / 1/4\" / 1\"\u001b[0m(62.31, 35917)\n",
      "\u001b[1m\u001b[4mcds|C|6467954|US|en|be166f453c53379a:en_US , Bosch Revolve2000 7 in. L X 6.7 in. W Laser Measure 2000 ft. Assorted 11 pc\u001b[0m(62.15, 49085)\n",
      "\u001b[1m\u001b[4mcds|C|6467954|US|en|12a57552b2f3e7f3:en_US , Radius Garden 29 in., 19.75 in. Handle Root Slayer Carbon Steel Mini-Digger Shovel\u001b[0m(62.12, 82694)\n",
      "\u001b[1m\u001b[4mcds|C|6467954|US|en|65f609699fc17617:en_US , Milwaukee 10 in. x 72 Carbide Teeth Aluminum Cutting Circular Saw Blade\u001b[0m(62.00, 45415)\n",
      "\u001b[1m\u001b[4mcds|O|6751953|US|en|AE-036187 , Allen Engineering SSE12325M Truss Screed Steel; Engine Driven; SSE12 Complete 32.5.. W/ Manual Winches\u001b[0m(62.00, 24397)\n",
      "\u001b[1m\u001b[4mcds|O|506461648|US|en|shopify_US_7422550245563_42694905987259 , CRAFTSMAN 2000 Series 26-In W X 19.75-In H 5-Drawer Steel Tool Chest (Red)\u001b[0m(61.97, 6972)\n",
      "\u001b[1m\u001b[4mcds|C|6467954|US|en|66226c20f16cbb86:en_US , Bessey 2 3/8\" Jaw 9 1/2\" Welders Angle Clamp\u001b[0m(61.92, 35003)\n",
      "\u001b[1m\u001b[4mcds|C|6467954|US|en|ea459d89426dc33b:en_US , Uni-Syn Carburetor Synchronizer/Carb Synchronizing/Balancing Tool Weber Su Type\u001b[0m(61.90, 88694)\n",
      "\u001b[1m\u001b[4mcds|C|6467954|US|en|ddab178d5de88c18:en_US , Proto Striking Wrench: Alloy Steel, Black Oxide, 1 1/8 in Head Size, 8 in Overall Lg Model: J2618SW\u001b[0m(61.82, 54066)\n",
      "\u001b[1m\u001b[4mcds|C|6467954|US|en|ab9ab695fad301a2:en_US , Jet Milling Machine Stand for Mill Drills - 48\" Long x 48\" Deep x 40\" High | Part #350045\u001b[0m(61.80, 58478)\n",
      "\u001b[1m\u001b[4mcds|O|7867964|US|en|231999131418 , Stihl Chainsaw Filing Gauge Tool For Many Saws 1110 893 4000 ---up 360\u001b[0m(61.80, 4577)\n",
      "\u001b[1m\u001b[4mcds|C|6467954|US|en|4ad4c1696e9434b3:en_US , Shear Perfection 7005672 Platinum Stainless Steel Curved Hydroponic Trimming Shear\u001b[0m(61.73, 42000)\n",
      "\u001b[1m\u001b[4mcds|C|6467954|US|en|ac9367b2cdc57008:en_US , 6\" Extra Thick Spiral Sewn Buffing Wheels\u001b[0m(61.68, 62225)\n",
      "\u001b[1m\u001b[4mcds|O|117480389|US|en|9180877382_33471338054 , 3-D Fast Cut Tooling Starter Kits - .375\" | 3D-375-KIT\u001b[0m(61.63, 82528)\n",
      "\u001b[1m\u001b[4mcds|C|6467954|US|en|0eb548e7c39aeafc:en_US , Wire Piercing Probe Clip, Automotive Diagnostic Test Lead Accessories Repair Tools Puncture Wire Back Probe Pins Testing Kit, Black and Red, 2 Pack\u001b[0m(61.49, 4408)\n",
      "\u001b[1m\u001b[4mcds|C|6467954|US|en|6bcea14ba0ad568d:en_US , Level 5 6 in. Stainless Steel Bucket Scoop Single Material Handle\u001b[0m(61.40, 14472)\n",
      "\u001b[1m\u001b[4mcds|C|6467954|US|en|e84f71c22bc24dde:en_US , 5pcs HSS Titanium Plating Double Side Drill Out Damaged Screw Extractor Out Remover Handymen Broken Bolt Stud Removal Tool\u001b[0m(61.35, 15611)\n",
      "\u001b[1m\u001b[4mcds|C|6467954|US|en|717667855942114e:en_US , Dexter P40846 3-1/4\" Scalloped Edge Paring Knife with Black Handle\u001b[0m(61.29, 86556)\n",
      "\u001b[1m\u001b[4mcds|O|9764200|US|en|131299723SPO , Milwaukee M18 Fuel 3 Pc Combo Kit Fuel Sawzall With Packout - 131299723SPO - Power Tools & Equipment - Power Tool Combo Kits\u001b[0m(61.03, 76726)\n",
      "\u001b[1m\u001b[4mcds|C|6467954|US|en|6070e127a7c26d53:en_US , Milwaukee 1000V Insulated Screwdrivers — 3-Piece Set, Model 48-22-2202\u001b[0m(61.00, 26227)\n",
      "\u001b[1m\u001b[4mcds|C|6467954|US|en|aff8b428b4b273c2:en_US , 1-1/2_x4_ Speed, Size: 1.5 x 4, Blue\u001b[0m(61.00, 95571)\n",
      "\u001b[1m\u001b[4mcds|C|6467954|US|en|a0f58ebb2c704396:en_US , Outdoor Master Mic Large Fixed-blade Knife by Victorinox\u001b[0m(61.00, 94395)\n",
      "\u001b[1m\u001b[4mcds|C|6467954|US|en|a3a658c10e3f7751:en_US , RIDGID 33665 Chain Extension Assembly for 206/226/286 Soil Pipe Cutter\u001b[0m(60.96, 44664)\n",
      "\u001b[1m\u001b[4mcds|O|115785178|US|en|78 , Series 500-Compatible Stump Tooth\u001b[0m(60.92, 65114)\n",
      "\u001b[1m\u001b[4mcds|C|6467954|US|en|9c7810dc4e2c164b:en_US , The Best Magnetic Clips for Anywhere, CMS Magnetics Heavy Duty Magnetic Clip for Magnetic Whiteboard 1.4\" Dia 4 Ct. Silver\u001b[0m(60.90, 77682)\n",
      "\u001b[1m\u001b[4mcds|C|6467954|US|en|a5ed5f3433510e9c:en_US , Roller Conveyor | 12′′ W x 3' Ft | 1.5\" Dia. Rollers | Ultimation\u001b[0m(60.88, 6720)\n",
      "\u001b[1m\u001b[4mcds|C|6467954|US|en|636b099e5d0b008f:en_US , Hyper Tough 8-Inch Mill Bastard File with Ergonomic Soft Grip, Size: 8 inch, Black\u001b[0m(60.80, 14788)\n",
      "\u001b[1m\u001b[4mcds|C|6467954|US|en|4f86e67810465872:en_US , Logan Graphic Products Inc. 450-1 Artist Elite Mat Cutter for Framing, Art, and Design or Creative Signage Projects-best for At-Home Framers\u001b[0m(60.76, 57619)\n",
      "\u001b[1m\u001b[4mcds|O|144646454|US|en|05K1503 , Veritas Journeyman's Brass Mallets, Large Journeyman’s walnut handle\u001b[0m(60.62, 84639)\n",
      "\u001b[1m\u001b[4mcds|C|6467954|US|en|1dc72f5132ec98bc:en_US , Homak BW00200320 32 Inch Professional Industrial Toolbox\u001b[0m(60.61, 10934)\n",
      "\u001b[1m\u001b[4mcds|C|6467954|US|en|df43a841d1806d36:en_US , Milwaukee Packout Utility Cart With Tool Storage Crates 20\" Flat Free\u001b[0m(60.44, 64976)\n",
      "\u001b[1m\u001b[4mcds|C|6467954|US|en|c20372b94541dc26:en_US , OTC 27793 5/8\"-2\" diameter Bushing Driver Set in case\u001b[0m(60.26, 36528)\n",
      "\u001b[1m\u001b[4mcds|C|6467954|US|en|994be0b7f8a1b57c:en_US , B & B Manufacturing 6J180X3/4 Poly V Pulley | B & B MANUFACTURING Replacement Poly V Pulley | Industrial Parts from 3BG Supply Co.\u001b[0m(60.19, 86879)\n",
      "\u001b[1m\u001b[4mcds|O|126358573|US|en|m99231297205 , Wen Lathe - Toys & Collectibles | Color: Orange\u001b[0m(60.16, 71063)\n",
      "\u001b[1m\u001b[4mcds|C|6467954|US|en|0edb5dd17c6447ce:en_US , Williams Sonoma Goldtouch Pro Silicone & Nylon Pastry Tools, Set of 5\u001b[0m(60.01, 81726)\n",
      "\u001b[1m\u001b[4mcds|C|6467954|US|en|eeed5dbb5aaa1177:en_US , True Temper #10 Aluminum Scoop Shovel with D Grip Hardwood Handle | 1670900 | Acme Tools\u001b[0m(60.00, 20773)\n",
      "\u001b[1m\u001b[4mcds|C|6467954|US|en|15fe0aa4f55cfed0:en_US , Tapco #11850 Siding Tools ProTrax Saw Table\u001b[0m(59.99, 22352)\n",
      "\u001b[1m\u001b[4mcds|C|6467954|US|en|76fb91a61707205b:en_US , Capri Tools Cp21350Mt Windstorm Ex High Performance Air Blow Gun, Mast\u001b[0m(59.84, 27835)\n",
      "\u001b[1m\u001b[4mcds|C|6467954|US|en|6901c22724f4b899:en_US , OEMTOOLS Motorq Drive Bit Set 5 Piece by AutoZone\u001b[0m(59.82, 27599)\n",
      "\u001b[1m\u001b[4mcds|C|6467954|US|en|abece89b0de7b8c4:en_US , Swanstrom Parallel-Action Heavy-Duty Flat-Nose Pliers\u001b[0m(59.76, 25198)\n",
      "\u001b[1m\u001b[4mcds|C|6467954|US|en|d1276202dafa716f:en_US , MALCO PRODUCTS 20 In. Gold Standard Malco Hole Cutter | HC2 | Acme Tools\u001b[0m(59.73, 59092)\n",
      "\u001b[1m\u001b[4mcds|C|6467954|US|en|8569a8d941c90c2b:en_US , Makita DCL501Z 18V LXT Brushless Cordless Cyclonic Canister HEPA Filter Vacuum, Tool Only\u001b[0m(59.50, 97701)\n",
      "\u001b[1m\u001b[4mcds|C|6467954|US|en|e8a4abbbac6f7a41:en_US , Circle Graphic Punch Die Paper Cutter For 2.28′′ Button Maker Machine\u001b[0m(59.47, 61679)\n",
      "\u001b[1m\u001b[4mcds|C|6467954|US|en|5db29cfe2eb7ff5a:en_US , Manicure Set Professional Pedicure Kit Nail Clippers Kit 18 Pcs Nail\u001b[0m(59.46, 4807)\n",
      "\u001b[1m\u001b[4mcds|C|6467954|US|en|fe2ca8cef61fbb2d:en_US , Afantti Electric Micro Engraver Pen Mini DIY Engraving Tool Kit for Metal Glass Ceramic Plastic Jewelry with Scriber Etcher 30 Bits and 8 Stencils\u001b[0m(59.45, 64738)\n",
      "\u001b[1m\u001b[4mcds|O|130931652|US|en|10516 , APP215 ADI 4\" Palm Pruner\u001b[0m(59.38, 20033)\n",
      "\u001b[1m\u001b[4mcds|C|6467954|US|en|b89310ffa700eb4d:en_US , 3M Green Corps Roloc Disc Pad Assembly - 2\" | For Boats\u001b[0m(59.32, 6013)\n",
      "\u001b[1m\u001b[4mcds|C|6467954|US|en|2f902d5c18cd7d5e:en_US , Wheel Clamp Upgrade For Motorcycle Lifts - Sealey Wcr01\u001b[0m(59.05, 82396)\n",
      "\u001b[1m\u001b[4mcds|C|6467954|US|en|53cfc24e496461f2:en_US , bosch gsg300 foam rubber cutter 220 volts not for usa\u001b[0m(59.05, 78796)\n",
      "\u001b[1m\u001b[4mcds|C|6467954|US|en|de60a2ea8596f4a1:en_US , MIAHART 120Pcs Stainless Steel Single Ear Hose Clamps with Ear Clamp Pincer 10 Sizes 304 Stepless Crimp Clamps for Securing PEX Tubing Pipe Hose and\u001b[0m(59.03, 64144)\n",
      "\u001b[1m\u001b[4mcds|C|6467954|US|en|5c8423fbb1b0a003:en_US , Dyson DY-91898902 Switch\u001b[0m(59.00, 42929)\n",
      "\u001b[1m\u001b[4mcds|O|100363828|US|en|shopify_US_7566012580093_42448748577021 , DEWALT DCS377B ATOMIC 20V MAX* Bandsaw, Bare w/ FREE DCBP034C 20V Starter Kit\u001b[0m(59.00, 7875)\n",
      "\u001b[1m\u001b[4mcds|C|6467954|US|en|a2d424cef3d3540d:en_US , Farberware 5 Inch Santoku Knife\u001b[0m(59.00, 57888)\n",
      "\u001b[1m\u001b[4mcds|C|6467954|US|en|1aa5b5987f447705:en_US , Tomahawk Power Tomahawk 72-in Magnesium L-shape Manual Concrete Screed | TVSA-H + TSB6-P\u001b[0m(59.00, 66610)\n",
      "\u001b[1m\u001b[4mcds|C|6467954|US|en|e598fbe4e894b285:en_US , OX Tools 4 Pc Construction Top Grain Leather Rig Bonus Pack\u001b[0m(58.97, 88940)\n",
      "\u001b[1m\u001b[4mcds|O|120300456|US|en|793179404 , Jewelry Tool Set, Round Nose Pliers, Flat Nose Pliers, Wire Cutters, Fine Nose, Jewelry Making Tools, Beading Suppliers, Jewelry Suppliers\u001b[0m(58.87, 10920)\n",
      "\u001b[1m\u001b[4mcds|C|6467954|US|en|1220a0feb089ca03:en_US , 3M DBI-SALA Battery Holster/Sleeve 1500090\u001b[0m(58.87, 2704)\n",
      "\u001b[1m\u001b[4mcds|C|6467954|US|en|54d14d1d8c979834:en_US , Milwaukee INKZALL Black Medium Chisel Tip Jobsite Marker 1 pk\u001b[0m(58.57, 51732)\n",
      "\u001b[1m\u001b[4mcds|C|6467954|US|en|199007a7759075c2:en_US , KAKA Industrial HS-40 Manual Guillotine Shear, 40-Inch,16 Gauge Sheet Metal Fabrication Plate Cutting Cutter With Stand\u001b[0m(58.37, 56292)\n",
      "\u001b[1m\u001b[4mcds|C|6467954|US|en|862aa1d8f53677f3:en_US , Tire Valve Stem Tool Remover & Installation Set- 10pcs Tire Snap in Short Rubber TR412 Valve Stem with Valve Stem Cores,EASILY REPLACE Your Old\u001b[0m(58.26, 42468)\n",
      "\u001b[1m\u001b[4mcds|C|6467954|US|en|cef055bc09a50a7e:en_US , BMW Belt Installation Tool - Assenmacher BMW0062\u001b[0m(58.21, 99904)\n",
      "\u001b[1m\u001b[4mcds|O|235971960|US|en|shopify_US_4587672240227_32528317022307 , All-U-Need (rock/mineral model), 8in / 110 volt\u001b[0m(58.18, 13530)\n",
      "\u001b[1m\u001b[4mcds|O|8187926|US|en|MBW786C , 74\" ERGO-TAMP Pole Tamper PT78\u001b[0m(58.11, 52535)\n",
      "\u001b[1m\u001b[4mcds|O|6616325|US|en|400811 , KR Strikeforce Bowling Ball Workout Tool with 5/8\" Blade | BowlersMart\u001b[0m(58.10, 4518)\n",
      "\u001b[1m\u001b[4mcds|C|6467954|US|en|6fc9146fecce6b81:en_US , Stewmac Plunge Router Base\u001b[0m(58.09, 73072)\n",
      "\u001b[1m\u001b[4mcds|O|114734998|US|en|262001706719 , Belt Grinder Wheels For 2x72\" Knife Grinders Set Of 2, 2\" Diameter\u001b[0m(58.05, 87422)\n",
      "\u001b[1m\u001b[4mcds|C|6467954|US|en|a5e4109b7d98605d:en_US , 4Pack Cam Lock 7/8 Inch Tubular Cam Locks Keyed Alike with Chrome Finish for Vending Machine Truck Pickup Tool Box Mailbox ATM Replacement Lock\u001b[0m(58.00, 7118)\n",
      "\u001b[1m\u001b[4mcds|C|6467954|US|en|77e8eaa276a2e578:en_US , GoVets | Generic 36\" Long Replacement Handle for Single Bit Bent Axes\u001b[0m(58.00, 29332)\n",
      "\u001b[1m\u001b[4mcds|O|532090847|US|en|2638 , -DWST22760 26 in. Wide 6-Drawer Rolling Tool Cabinet\u001b[0m(57.72, 62737)\n",
      "\u001b[1m\u001b[4mcds|O|6201684|US|en|10807100-P , Bosch Platinum+4 Spark Plug, F100061930BOS\u001b[0m(57.63, 22511)\n",
      "\u001b[1m\u001b[4mcds|C|6467954|US|en|30cfff037b75f3b8:en_US , Buyers Products Bp925824 Truck Box,backpack,diamond Tread,alm\u001b[0m(57.63, 5125)\n",
      "\u001b[1m\u001b[4mcds|C|6467954|US|en|aeb366d050ca3ed8:en_US , Tool Belt Suspenders Work Suspenders, Adjustable, Comfortable Padded\u001b[0m(57.59, 4981)\n",
      "\u001b[1m\u001b[4mcds|C|6467954|US|en|dcd1f63234314f91:en_US , Luo ke 20 Pieces Compress Wool Polishing Wheels Wool Felt Grinding Bits Buffing Tips with 1/8\" Mandrel for Dremel Rotary Tool(Sanding Diameter : 4mm\u001b[0m(57.55, 26201)\n",
      "\u001b[1m\u001b[4mcds|C|6467954|US|en|7cc73723388ea5e6:en_US , Warrior 2 in., 3 in. Fiber Disc Sanding Kit\u001b[0m(57.43, 79286)\n",
      "\u001b[1m\u001b[4mcds|O|10165560|US|en|22T09.03 , Brad Pusher\u001b[0m(57.33, 76370)\n",
      "\u001b[1m\u001b[4mcds|C|6467954|US|en|e201836f02089b6f:en_US , Teng Tools 3 Drawer Professional Portable Steel Lockable Red N Series Middle Tool Box - TC803N\u001b[0m(57.09, 67570)\n",
      "\u001b[1m\u001b[4mcds|O|111739360|US|en|217 , King Kutter 6' Rotary Cutter Blade Set -- 501130\u001b[0m(57.00, 44099)\n",
      "\u001b[1m\u001b[4mcds|C|6467954|US|en|fc4e8a2e2dc17d05:en_US , TEKTON Combination Wrench - 1-15/16\" (1.3\") - 25.7\" - 3.9\" - North 40 Outfitters\u001b[0m(57.00, 5139)\n",
      "\u001b[1m\u001b[4mcds|C|6467954|US|en|25510bbc6f0d77c2:en_US , HYDE 02005 Flexible Black & Silver 3/4\" Putty Knife\u001b[0m(57.00, 48586)\n",
      "\u001b[1m\u001b[4mcds|C|6467954|US|en|43bee71256b91d97:en_US , Ryobi Ry40204 40V Lithium-Ion Cordless String Trimmer - NO Battery or Charger\u001b[0m(56.96, 12443)\n",
      "\u001b[1m\u001b[4mcds|O|392405634|US|en|shopify_US_6293746712753_38209691123889 , Handle Wrap - AC0001\u001b[0m(56.93, 60693)\n",
      "\u001b[1m\u001b[4mcds|O|425223704|US|en|265166291036 , 220v Variable Speed 2x72\"belt Grinder Belt Sander Knife Grinder W/\u001b[0m(56.91, 62207)\n",
      "\u001b[1m\u001b[4mcds|C|6467954|US|en|15f7ad47a06fc96e:en_US , Klein Tools 671-6 Rapi-Driv Screwdriver with 1/4-Inch Cabinet Tip with 6-Inch Shank\u001b[0m(56.74, 98431)\n",
      "\u001b[1m\u001b[4mcds|C|6467954|US|en|5f62608ab2b4c0c1:en_US , Truper 48 in. Wood Garden Fork Replacement Handle\u001b[0m(56.59, 83045)\n",
      "\u001b[1m\u001b[4mcds|C|6467954|US|en|6614435ae5e675a1:en_US , King Arthur's 47851 Holey Galahad Sanding Disc, 4\", 90 Grit\u001b[0m(56.59, 92719)\n",
      "\u001b[1m\u001b[4mcds|C|6467954|US|en|eef6f5d4be6c7f44:en_US , Blue Ridge Tools 4.5amp Jigsaw\u001b[0m(56.39, 36016)\n",
      "\u001b[1m\u001b[4mcds|C|6467954|US|en|e4cf0fdddfbea4b5:en_US , Wera 05004203001 8790 Hmc Hf 1 Zyklop Socket Set, 1/2\" Drive\u001b[0m(56.31, 73401)\n",
      "\u001b[1m\u001b[4mcds|C|6467954|US|en|a59c9a447119cc76:en_US , Makita 443046-7 Felt Pad\u001b[0m(56.20, 5795)\n",
      "\u001b[1m\u001b[4mcds|C|6467954|US|en|aeeb782f0dc07ffb:en_US , uxcell Radius Gauge Set R15-25mm 16 Pairs of Leaves Radius Gauge Fillet Gage, Silver Tone\u001b[0m(56.13, 94679)\n",
      "\u001b[1m\u001b[4mcds|C|6467954|US|en|b8bca19cdc23c20c:en_US , Channellock 2 Pieces Tongue and Groove Straight Jaw Plier Set\u001b[0m(56.03, 30483)\n",
      "\u001b[1m\u001b[4mcds|C|6467954|US|en|99ca4008918d47c1:en_US , NiceCutt WNMG432-NM-NP1125 Carbide Turning Insert for Steel 10pcs\u001b[0m(56.03, 27015)\n",
      "\u001b[1m\u001b[4mcds|O|146753303|US|en|shopify_US_1692936896625_16369011785841 , SawGear by TigerStop on the SawGear store!\u001b[0m(56.00, 50711)\n",
      "\u001b[1m\u001b[4mcds|C|6467954|US|en|26db64482575dca9:en_US , Wusthof 4045-7 Gourmet 4 1/2\" Utility Knife with POM Handle\u001b[0m(56.00, 41128)\n",
      "\u001b[1m\u001b[4mcds|O|6296724|US|en|203787750406 , Led Work Light Work On Dewalt 18/20/60v Li-ion Battery-2800lm W/fast\u001b[0m(56.00, 14078)\n",
      "\u001b[1m\u001b[4mcds|C|6467954|US|en|cc640e0ce4912777:en_US , Spindle Adapter 1.25\"/8 TO 1\"/8\u001b[0m(56.00, 72225)\n",
      "\u001b[1m\u001b[4mcds|C|6467954|US|en|81eb8348a80e8aaa:en_US , The James Brand The Elko\u001b[0m(56.00, 73148)\n",
      "\u001b[1m\u001b[4mcds|C|6467954|US|en|855a0048a79bd8b6:en_US , Mindware Lil' Gardener Tool Set\u001b[0m(55.79, 81473)\n",
      "\u001b[1m\u001b[4mcds|C|6467954|US|en|40c8d318c31389b0:en_US , Chicago-Latrobe 49928 Jobber Drill Set,115 Pc,hss\u001b[0m(55.77, 39286)\n",
      "\u001b[1m\u001b[4mcds|C|6467954|US|en|b56149cefd45c39d:en_US , Klein Tools Rapi-Driv 3/16 in. x 4 in. L Screwdriver 1 pc., Size: 3/16-Inch Tip, 4-Inch Shank, Silver\u001b[0m(55.24, 17970)\n",
      "\u001b[1m\u001b[4mcds|O|451105094|US|en|281279834 , Espresso Coffee Tamper Levler Tool Manual Coffee Needle Distributor Tool, Stainless Needle and Aluminum Alloy Handle - 58mm, Size: 58 mm\u001b[0m(55.19, 58071)\n",
      "\u001b[1m\u001b[4mcds|C|6467954|US|en|1839929a8dd906e1:en_US , Fuel-Tool Fuel Sharing System - MC100\u001b[0m(55.09, 93071)\n",
      "\u001b[1m\u001b[4mcds|C|6467954|US|en|afdfb3146d51f1b5:en_US , Flex 12 Piece Demolition Reciprocating Saw Blade Set FAM20201-12\u001b[0m(55.00, 67873)\n",
      "\u001b[1m\u001b[4mcds|C|6467954|US|en|9e815c0486033f2a:en_US , Chef'sChoice Hybrid Knife Sharpener - Knife Sharpeners\u001b[0m(55.00, 78508)\n",
      "\u001b[1m\u001b[4mcds|C|6467954|US|en|c14cdc118b2a942f:en_US , Luomorgo 12mm (15/32 inch) Dia Furniture Connecting Cam Fittings 20pcs\u001b[0m(55.00, 3949)\n",
      "\u001b[1m\u001b[4mcds|C|6467954|US|en|3cd5fe305a6aa2f6:en_US , Shun Kanso 6 Piece Block Set\u001b[0m(55.00, 77733)\n",
      "\u001b[1m\u001b[4mcds|O|272103330|US|en|733 , High-HP Diamond Concrete Blade 30'' x .160 x 1''DP\u001b[0m(55.00, 21874)\n",
      "\u001b[1m\u001b[4mcds|C|6467954|US|en|35718aec120939b5:en_US , Skilsaw Spt78mmc-22 Outlaw Worm Drive Metal Saw 15a 8\" W/ 42t Diablo\u001b[0m(55.00, 99933)\n",
      "\u001b[1m\u001b[4mcds|C|6467954|US|en|326884fd51da0b84:en_US , Lisle 41500 - Pickle Fork Kit, Size: Drake Off Road\u001b[0m(54.90, 61665)\n",
      "\u001b[1m\u001b[4mcds|C|6467954|US|en|76fe6478911b1406:en_US , DEWALT 20-Volt MAX Cordless 3/8 in. Impact Wrench with Hog Ring (Tool-Only) with 20-Volt Starter Kit, 4.0 Ah Battery & Charger\u001b[0m(54.89, 90137)\n",
      "\u001b[1m\u001b[4mcds|C|6467954|US|en|31abb812a890d47a:en_US , Life Saver Pool Fence Drill Guide and Bubble Level for Pool Fence DIY\u001b[0m(54.84, 98671)\n",
      "\u001b[1m\u001b[4mcds|C|6467954|US|en|1591505efedb3f81:en_US , Hog Rings- Box Of 500 For Spring Loaded Pliers\u001b[0m(54.75, 46730)\n",
      "\u001b[1m\u001b[4mcds|C|6467954|US|en|e2d820759952a2ac:en_US , Steel Dragon Tools 13pc. High Speed Steel Hss Annular Cutter Kit 2\"\u001b[0m(54.67, 92129)\n",
      "\u001b[1m\u001b[4mcds|C|6467954|US|en|3647642d0e7eee7c:en_US , VEVOR 2 Axis Digital Readout Ttl Linear Glass Scale Dro Encoder For Milling Lathe\u001b[0m(54.63, 42151)\n",
      "\u001b[1m\u001b[4mcds|C|6467954|US|en|12c5ba10327ee092:en_US , DIY Punch-Needle Kit, Step-by-Step Punch-Needle Embroidery Kit with Pre-Printed Design on Canvas, Wool Yarn, and Punch-Needle Tool by Happy Crafts,\u001b[0m(54.60, 56170)\n",
      "\u001b[1m\u001b[4mcds|C|6467954|US|en|38071ff8dec88c9f:en_US , QWORK Orthodontic Bracket Removing Pliers, Stainless Steel Molar Band Remover, Forceps Dental Surgical Instrument Bracket Tools, Used for Bracket,\u001b[0m(54.54, 94795)\n",
      "\u001b[1m\u001b[4mcds|C|6467954|US|en|d5faf1ed63cc51ba:en_US , Hot Leathers Biker Toothpick Knife - 2\")\u001b[0m(54.48, 90190)\n",
      "\u001b[1m\u001b[4mcds|C|6467954|US|en|e1cdcfb2dcbce96b:en_US , Makita 199710-5 5 in. Clip-On Cut-Off Wheel Guard Cover\u001b[0m(54.35, 40452)\n",
      "\u001b[1m\u001b[4mcds|C|6467954|US|en|dbfd375bd140c8de:en_US , Square Clamp Kit\u001b[0m(54.33, 58270)\n",
      "\u001b[1m\u001b[4mcds|C|6467954|US|en|f338e0438c3f2234:en_US , Makitoyo 3-inch Car Foam Drill Polishing Pad Kit for Car Sanding, Buffing, Polishing, Waxing, Sealing Glaze (18 Pads+2 Drill Adapters+2 Suction Cups\u001b[0m(54.22, 19903)\n",
      "\u001b[1m\u001b[4mcds|C|6467954|US|en|cfba13c2d5d39377:en_US , Keller Dovetail System 135-1500 Journeyman DoveTail Jig\u001b[0m(54.14, 22177)\n",
      "\u001b[1m\u001b[4mcds|O|111545831|US|en|386763 , Craftool Overstitch Wheel System\u001b[0m(54.09, 42975)\n",
      "\u001b[1m\u001b[4mcds|C|6467954|US|en|8aea0262fa2fdae0:en_US , TPC Titanium Pocket Clip CLASSIC\u001b[0m(54.05, 7641)\n",
      "\u001b[1m\u001b[4mcds|C|6467954|US|en|54424c708aaea204:en_US , Freud Sd510 10\" Super Dado Set\u001b[0m(54.00, 66064)\n",
      "\u001b[1m\u001b[4mcds|C|6467954|US|en|dddd80b5039af756:en_US , 12012913 - Bosch Dishwasher Door Handle (Silver)\u001b[0m(54.00, 21217)\n",
      "\u001b[1m\u001b[4mcds|C|6467954|US|en|33237d5a4d0feaa1:en_US , Knipex 13-01-160 6.3\" Electrician's Pliers - Plastic Grip\u001b[0m(54.00, 90398)\n",
      "\u001b[1m\u001b[4mcds|C|6467954|US|en|ff852b563f0745fb:en_US , Diablo 7-1/4 in. x 24-Teeth Tracking Point Framing Saw Blade - D0724R\u001b[0m(54.00, 8534)\n",
      "\u001b[1m\u001b[4mcds|C|6467954|US|en|6cfcc2e286f420b7:en_US , Spearpro Teflon Pike Knife - Double Serrated\u001b[0m(54.00, 85419)\n",
      "\u001b[1m\u001b[4mcds|C|6467954|US|en|11460b0434ce489f:en_US , Viperade Pj16 Leather Sheath For Belt Tool Leather Sheath For Knife Knife Leather Sheath For Men Multitool Sheath For Men Flashlight Holster Edc Pocke\u001b[0m(53.84, 44823)\n",
      "\u001b[1m\u001b[4mcds|C|6467954|US|en|ab1a8f47779dca31:en_US , Stens Flat Idler / Exmark 109-3397\u001b[0m(53.76, 87090)\n",
      "\u001b[1m\u001b[4mcds|C|6467954|US|en|418859a97ec24e56:en_US , Copper Welding Spoon Welders Helper Welding Tool 3 Plate Set\u001b[0m(53.47, 78135)\n",
      "\u001b[1m\u001b[4mcds|O|251192044|US|en|723275443 , Hotwon Professional Easy Glid e Glass Tile Cutter Ceramic Cut One-piece Alloy Tool kit, Black\u001b[0m(53.32, 82900)\n",
      "\u001b[1m\u001b[4mcds|C|6467954|US|en|4fe19b00687804b0:en_US , Router Bits 35 Pcs Set 35 Pieces 1/2 Inch Shank Router Bit Kit.\u001b[0m(53.18, 15120)\n",
      "\u001b[1m\u001b[4mcds|C|6467954|US|en|95a7faa60b8ef61d:en_US , Manual Coffee Grinder Set, Hand Coffee Mill With Conical Ceramic Burr Two Glass Jars And Soft Brush, Manual Coffee Bean Grinder & Spice Grinder by\u001b[0m(53.00, 83081)\n",
      "\u001b[1m\u001b[4mcds|C|6467954|US|en|028742ce0e5b4e89:en_US , Oldhickory 7065 Ontario Knife Has Been Manufacturing \"old Hickory\u001b[0m(53.00, 86319)\n",
      "\u001b[1m\u001b[4mcds|C|6467954|US|en|7736c4870931d92b:en_US , Synergee Straight Bar Cable Attachment Steel Grip - 12 Inch\u001b[0m(53.00, 59576)\n",
      "\u001b[1m\u001b[4mcds|C|6467954|US|en|fe454631c7376f9f:en_US , Milwaukee 49-22-4006 Hole Saw Kit, 9-Piece\u001b[0m(53.00, 98245)\n",
      "\u001b[1m\u001b[4mcds|O|7388148|US|en|B002C4W9XS , Makita 713206-A 28\" Replaceable Sprocket Nose Guide Bar, 3/8\", .050\"\u001b[0m(53.00, 6378)\n",
      "\u001b[1m\u001b[4mcds|C|6467954|US|en|a66f3343435793e8:en_US , Viking Premium Metal-Free Wheel & Rim Wash Brush | Do it Best\u001b[0m(53.00, 29631)\n",
      "\u001b[1m\u001b[4mcds|O|264787900|US|en|79221800 , Lawn Striping Kit - 60 in.\u001b[0m(53.00, 69212)\n",
      "\u001b[1m\u001b[4mcds|C|6467954|US|en|666d10cd1288ce6b:en_US , Proto 000k Spark Plug Gap Gauge Set. Feeler Gage. 8 Blade. Usa $51.95\u001b[0m(52.95, 9124)\n",
      "\u001b[1m\u001b[4mcds|C|6467954|US|en|d7e3093f49bd8f9f:en_US , Protech 54-8223 Headlight Conversion Kit Headlight Conversion Kit\u001b[0m(52.82, 70917)\n",
      "\u001b[1m\u001b[4mcds|O|126358573|US|en|m17933262538 , Native Authentic Native American Scraper Tool - Toys & Collectibles | Color: Black\u001b[0m(52.74, 67638)\n",
      "\u001b[1m\u001b[4mcds|C|6467954|US|en|880c4cf0e7d83526:en_US , Pb Swiss Tools Pb-8125 Swissgrip Coin Driver For Plugs And Plastic\u001b[0m(52.72, 99953)\n",
      "\u001b[1m\u001b[4mcds|C|6467954|US|en|a52bde952d0428f4:en_US , Milwaukee M18 FUEL 18-Volt Lithium-Ion Brushless Cordless QUIK-LOK String Trimmer and Hedge Trimmer Combo Kit (2-Tool)\u001b[0m(52.65, 16755)\n",
      "\u001b[1m\u001b[4mcds|C|6467954|US|en|727fc6787ec5ea91:en_US , Wallboard Tool Co Inc. Mixer Power Adjstbl 2.5In 81-004, Size: EA\u001b[0m(52.46, 40986)\n",
      "\u001b[1m\u001b[4mcds|C|6467954|US|en|06efcce9d6a1ce6c:en_US , Ridgid Band Saw 18 Volt Compact Power Tool Only Portable Cordless\u001b[0m(52.45, 89423)\n",
      "\u001b[1m\u001b[4mcds|O|108028394|US|en|2035 , 2 Ton Advantage FG Series Gantry Crane\u001b[0m(52.10, 51801)\n",
      "\u001b[1m\u001b[4mcds|C|6467954|US|en|f08088a9873022de:en_US , Ryobi 20 in. 40-Volt Single-Stage Brushless Cordless Snow Blower, Bare Tool, (No Retail Packaging) (Renewed)\u001b[0m(52.10, 35251)\n",
      "\u001b[1m\u001b[4mcds|C|6467954|US|en|0fbeb1c137cb7728:en_US , 303-1552 1.6L 1.5L Camshaft Alignment Tool Alt\u001b[0m(52.04, 62084)\n",
      "\u001b[1m\u001b[4mcds|C|6467954|US|en|f227033a98a60c4d:en_US , MasterLon Professional Chef's Knife Damascus Design Stainless Steel Blade, 8\" - Beige\u001b[0m(52.00, 94244)\n",
      "\u001b[1m\u001b[4mcds|C|6467954|US|en|2f5c2f5d8cdfd552:en_US , MILWAUKEE SDS Core Bit 3-1/8 in. x 2 in. | 48-20-5235 | Acme Tools\u001b[0m(52.00, 84405)\n",
      "\u001b[1m\u001b[4mcds|O|400171462|US|en|111 , Asuma Chakra Blades 1:1 Replica (Sliver) - 2\u001b[0m(52.00, 17039)\n",
      "\u001b[1m\u001b[4mcds|O|1042203|US|en|H-2755BLU , Uline Folding Knife - Blue - Qty of 6 - H-2755BLU\u001b[0m(52.00, 66166)\n",
      "\u001b[1m\u001b[4mcds|C|6467954|US|en|a14127d757165b49:en_US , Samurai Ichiban Pruning Saw 13\" - GC-330-LH\u001b[0m(52.00, 16988)\n",
      "\u001b[1m\u001b[4mcds|C|6467954|US|en|a26a3ffc0436bf06:en_US , Stanley Products 31 Piece Torqueplus Combination Wrench Sets, 12 Points, Inch (1 SET/KT)\u001b[0m(51.99, 71442)\n",
      "\u001b[1m\u001b[4mcds|C|6467954|US|en|db0b509942c45a7b:en_US , Kobalt Compact 25-ft Magnetic Auto Lock Tape Measure | KBSL97325\u001b[0m(51.95, 4773)\n",
      "\u001b[1m\u001b[4mcds|C|6467954|US|en|687f184aba097eab:en_US , 1/4 Inch Shank Rabbet Router Bit with 6 Bearings Set, SellyOak Multi Rabbeting Router Bit Set for Multiple Depths (1/8\", 1/4\", 5/16\", 3/8\", 7/16\", 1\u001b[0m(51.89, 10597)\n",
      "\u001b[1m\u001b[4mcds|C|6467954|US|en|d7718fd7b6017806:en_US , Milwaukee 22-18-0126 Carbon Brush\u001b[0m(51.79, 28220)\n",
      "\u001b[1m\u001b[4mcds|C|6467954|US|en|016f618005f9c186:en_US , Yellow Jacket Service Valve/ King Valve HVAC Ratchet Wrench with 3/16\" & 5/16\" Hex Insert by BudgetHeating.Com\u001b[0m(51.56, 69940)\n",
      "\u001b[1m\u001b[4mcds|C|6467954|US|en|0cd97c4f567cec35:en_US , TOOL Lateralus Shirt\u001b[0m(51.51, 98224)\n",
      "\u001b[1m\u001b[4mcds|C|6467954|US|en|ef9d14d906dc997d:en_US , B&C Home Goods Socket Organizers - 6 Piece SAE & Metric Tray Socket Holder - Toolbox Organizers and Storage for ¼, ⅜ and ½ inch Drive Holder for\u001b[0m(51.49, 19526)\n",
      "\u001b[1m\u001b[4mcds|O|242608768|US|en|shopify_US_7649307492589_42603015799021 , Heavy Duty Brushcutter\u001b[0m(51.47, 39276)\n",
      "\u001b[1m\u001b[4mcds|O|124280029|US|en|ZP-CBSH-LCG , Zip's Custom Broom or Shovel Holder - SIZE: Single - 12 & 16 Series FINISH: Painted\u001b[0m(51.21, 90286)\n",
      "\u001b[1m\u001b[4mcds|C|6467954|US|en|8629543aca3a0871:en_US , Woodward Fab Hole Saw Tube/Pipe Notcher - SP-PIPE\u001b[0m(51.13, 28953)\n",
      "\u001b[1m\u001b[4mcds|O|6296724|US|en|454380476719_154294939572 , Snap On 18v Nicad Tool To M18 Lithium Battery Adapter\u001b[0m(51.07, 45347)\n",
      "\u001b[1m\u001b[4mcds|C|6467954|US|en|b926cfac368b4b78:en_US , Bosch 1-7/8-in Carbide-Tipped Tongue and Groove Router Bit | 84623M\u001b[0m(51.00, 21338)\n",
      "\u001b[1m\u001b[4mcds|C|6467954|US|en|5870c822e32de4f6:en_US , Sentinel | 22 mm Scoring Wheel, 7/8 inch, Grey - Floor & Decor\u001b[0m(51.00, 23021)\n",
      "\u001b[1m\u001b[4mcds|O|108064316|US|en|174775660758 , Snap-on Ya204 Mig Welder\u001b[0m(51.00, 46496)\n",
      "\u001b[1m\u001b[4mcds|C|6467954|US|en|12d3056fa3006933:en_US , Fisch 5-Piece Wave Cutter Forstner Bit Set\u001b[0m(51.00, 61465)\n",
      "\u001b[1m\u001b[4mcds|C|6467954|US|en|df523ca2b34665d4:en_US , Bahco, LAP-KNIFE, Set of Folding Saw & Multipurpose Knife\u001b[0m(51.00, 61175)\n",
      "\u001b[1m\u001b[4mcds|C|6467954|US|en|9a56d858ddf36365:en_US , VEVOR Dry Core Drill Bit, 3\" / 76.2mm Diameter 5/8\"-11 Threaded, 9.5\" / 241.3 mm Depth Diamond Coring Bore Tool with a Pilot Bit & 4.5\" Blade,\u001b[0m(51.00, 13994)\n",
      "\u001b[1m\u001b[4mcds|C|6467954|US|en|1293b97eae49f8d5:en_US , Ridgid Cutter Cutting Wheel - Use w/ 101, 103/104, 105/150/150L, 131/151, 132/152, 153, 205, Cuts Aluminum, Copper | Part #33185\u001b[0m(50.92, 36069)\n",
      "\u001b[1m\u001b[4mcds|O|110144165|US|en|NF629065 , Professional Locksmith Practice Lock Pick Beginner Broken Key Extractor Set\u001b[0m(50.67, 60645)\n",
      "\u001b[1m\u001b[4mcds|O|113665998|US|en|shopify_US_6622661083322_39552692682938 , The Charles Waxed Canvas Apron by Sturdy Brothers | Sturdy Brothers\u001b[0m(50.51, 51323)\n",
      "\u001b[1m\u001b[4mcds|C|6467954|US|en|39b44157c8261c5a:en_US , Jiayouy Adjustable Guitar Nut & Bridge Sander Luthier Tool For\u001b[0m(50.48, 51438)\n",
      "\u001b[1m\u001b[4mcds|C|6467954|US|en|fe151f9cc67ee745:en_US , Ames 4 in. Scraper/Chopper\u001b[0m(50.38, 26863)\n",
      "\u001b[1m\u001b[4mcds|C|6467954|US|en|de47b91d75159faa:en_US , Cut Resistant Gloves Stainless Steel Wire Metal Mesh Butcher Safety Work Gloves for Cutting,Slicing Chopping and Peeling, Adult Unisex, Size: XL,\u001b[0m(50.26, 28302)\n",
      "\u001b[1m\u001b[4mcds|C|6467954|US|en|96ef8f1e900ceba2:en_US , Climax Metal Products M-23\u001b[0m(50.26, 26821)\n",
      "\u001b[1m\u001b[4mcds|C|6467954|US|en|f9bb065e468397b6:en_US , Milwaukee GridIron Snapback Black Trucker Hat | Do it Best\u001b[0m(50.10, 63494)\n",
      "\u001b[1m\u001b[4mcds|C|6467954|US|en|5dec447b3498b47b:en_US , Mehaz Professional Angled Toenail Clipper 664\u001b[0m(50.00, 87323)\n",
      "\u001b[1m\u001b[4mcds|C|6467954|US|en|d805df33db10af9b:en_US , Legrand-Cablofil 942616\u001b[0m(50.00, 39950)\n",
      "\u001b[1m\u001b[4mcds|C|6467954|US|en|554bc5b1f0ce9e76:en_US , Richelieu Black Magnetic Catch\u001b[0m(50.00, 28238)\n",
      "\u001b[1m\u001b[4mcds|O|144646454|US|en|86N4020 , Kreg Precision Trak & Stop System\u001b[0m(50.00, 31806)\n",
      "\u001b[1m\u001b[4mcds|C|6467954|US|en|5d5a70afe384fa89:en_US , Milwaukee Work Gloves Model: 48-22-8733\u001b[0m(50.00, 82594)\n",
      "\u001b[1m\u001b[4mcds|C|6467954|US|en|e71ee41d6f7b0fb0:en_US , Cuisinart Stainless Steel 2pc Utility Knife Set\u001b[0m(50.00, 82972)\n",
      "\u001b[1m\u001b[4mcds|C|6467954|US|en|d7ec11eae957c43d:en_US , 12 Inches Planer Blades Knives HSS Replacement for Model Makita 2012 and 2012NB Thickness Planer Heat Treated Double edge- Set of 2\u001b[0m(50.00, 23969)\n",
      "\u001b[1m\u001b[4mcds|C|6467954|US|en|65a8598b8c052688:en_US , Ingersoll Rand 2115TIMAX 3/8 -In Drive Titanium Impact Wrench - 300 Ft -Lbs Max Torque\u001b[0m(50.00, 36870)\n",
      "\u001b[1m\u001b[4mcds|O|254556727|US|en|899529646 , 4 Types Kitchen Knife,Stainless Steel Chopping Chef Cleaver Slicing Knife,8 Inch Chinese Chef's Knife, Size: B\u001b[0m(50.00, 83249)\n",
      "\u001b[1m\u001b[4mcds|O|8223710|US|en|95307 , Palmero X-Ray Apron Hanger 15\" x 2\". White-coated steel hanger for use with our adult & child - 28-MP95307\u001b[0m(49.87, 44380)\n",
      "\u001b[1m\u001b[4mcds|C|6467954|US|en|f2c66d2a25112ceb:en_US , Performance Tool W80006 6pc Pro Stardriver Set w/Rack, Size: Stardriver Set w/Rack (6pc)\u001b[0m(49.78, 49067)\n",
      "\u001b[1m\u001b[4mcds|C|6467954|US|en|d31cfc41b44924ec:en_US , Makita IMPACT XPS 12 in. Magnetic Insert Bit Holder\u001b[0m(49.66, 21633)\n",
      "\u001b[1m\u001b[4mcds|C|6467954|US|en|9c8e39af786af077:en_US , TACKLIFE Cordless Screwdriver Electric Rechargeable Screwdriver - SDP50DC\u001b[0m(49.41, 5886)\n",
      "\u001b[1m\u001b[4mcds|C|6467954|US|en|21b53d3b94fea4a2:en_US , Marshalltown 6-in Smooth Carpet Seam Roller | SSR6-L\u001b[0m(49.33, 9084)\n",
      "\u001b[1m\u001b[4mcds|O|6084472|US|en|BSH-1619X01769 , Skil Wrench #BSH-1619X01769\u001b[0m(49.24, 70661)\n",
      "\u001b[1m\u001b[4mcds|C|6467954|US|en|38cb5fa1054c968e:en_US , Mini-Bench Scraper\u001b[0m(49.09, 73627)\n",
      "\u001b[1m\u001b[4mcds|C|6467954|US|en|5392a686eff8f07c:en_US , Automatic Programmable Electric Paper Cutter Max. Cutting Width 17.7′′ 520mm\u001b[0m(49.00, 16046)\n",
      "\u001b[1m\u001b[4mcds|C|6467954|US|en|48999340cdee906f:en_US , 4lifetimelines 7/16 inch SAE Ratcheting Open End Line Wrench\u001b[0m(49.00, 56008)\n",
      "\u001b[1m\u001b[4mcds|C|6467954|US|en|b90144130d1a546d:en_US , Proto Jscvm36 Combo Wrench,steel,metric,15 Deg.\u001b[0m(49.00, 33502)\n",
      "\u001b[1m\u001b[4mcds|C|6467954|US|en|9cf0f98f9bd2380f:en_US , Viking #50130 Hi-Carbon Tap & Hex Die Set, UNC-UNF (40 Piece)\u001b[0m(49.00, 79609)\n",
      "\u001b[1m\u001b[4mcds|C|6467954|US|en|c109e99f551cf2ba:en_US , Trailer Valet Trailer Valet XL or JX Replacement Hand Crank | TVXLHC\u001b[0m(49.00, 15743)\n",
      "\u001b[1m\u001b[4mcds|O|3886946|US|en|10-3000-07 , Dyson Vacuum DCO7 DC14 Clutch Assembly Replacement\u001b[0m(49.00, 97543)\n",
      "\u001b[1m\u001b[4mcds|O|123127721|US|en|773002313 , Knife Making Blade Blank The \"Lamotta \" Fixed Blade Skinner Blade\u001b[0m(49.00, 22033)\n",
      "\u001b[1m\u001b[4mcds|C|6467954|US|en|43d8052dc4eea1d9:en_US , LA Police Gear Expandable Baton Holder\u001b[0m(48.48, 36612)\n",
      "\u001b[1m\u001b[4mcds|C|6467954|US|en|11c729efb92a46e4:en_US , Bohning Crester by 3Rivers Archery\u001b[0m(48.33, 31930)\n",
      "\u001b[1m\u001b[4mcds|C|6467954|US|en|3ea6e0dd8b80e2c1:en_US , 25C990 Graco Grease Metering Pump\u001b[0m(48.24, 45875)\n",
      "\u001b[1m\u001b[4mcds|C|6467954|US|en|fd6a92836e380606:en_US , Williams Ws-1108Sp Mini Open End Wrench Set,plier,8 Pcs.\u001b[0m(48.13, 20223)\n",
      "\u001b[1m\u001b[4mcds|C|6467954|US|en|b177050e4517c093:en_US , Victorinox Tinker Small - One size - USA\u001b[0m(48.00, 38556)\n",
      "\u001b[1m\u001b[4mcds|C|6467954|US|en|c66490e57131a1d4:en_US , Dewalt Dw1605 Aircraft Black Oxide,drill Bit,3/16\"x6\u001b[0m(48.00, 79305)\n",
      "\u001b[1m\u001b[4mcds|C|6467954|US|en|16273258895fc2b8:en_US , Victorinox 5.6616.15-X1 6\" Narrow Flexible Curved Boning Knife with Rosewood Handle\u001b[0m(48.00, 40312)\n",
      "\u001b[1m\u001b[4mcds|C|6467954|US|en|d52188ee9985cc19:en_US , Jegs 81542 Tig 200 Welder Single Phase 220v Dc\u001b[0m(48.00, 13972)\n",
      "\u001b[1m\u001b[4mcds|C|6467954|US|en|68b92432813b3cb6:en_US , Delta 60 Diamond Plate Aluminum Full Size Chest Truck Tool Box\u001b[0m(48.00, 37516)\n",
      "\u001b[1m\u001b[4mcds|C|6467954|US|en|ba9fb2c80810b8ed:en_US , Slime 22 Piece Tire Repair Kit\u001b[0m(48.00, 98368)\n",
      "\u001b[1m\u001b[4mcds|O|7077239|US|en|shopify_US_4363544985678_31208390393934 , Benchmark Abrasives 14\" x 1/8\" (5/32\") x 20MM T1 High Speed Gas Saw Wheel | 10 Pack | Aluminum Oxide\u001b[0m(48.00, 66399)\n",
      "\u001b[1m\u001b[4mcds|C|6467954|US|en|ba67ead731cf3b83:en_US , Rev-A-Shelf Child Proof Cabinet Locking System Replacement Magnetic Key\u001b[0m(48.00, 28991)\n",
      "\u001b[1m\u001b[4mcds|C|6467954|US|en|a53d922d0270ffae:en_US , Cangshan 1026108 3-Stage Adjustable 14-24 Degree Professional Knife + Scissor Sharpener\u001b[0m(48.00, 51677)\n",
      "\u001b[1m\u001b[4mcds|C|6467954|US|en|189144ede5362669:en_US , 14.4v-18v Li-ion Battery Fast Charger For Bosch Charger Al1820cv\u001b[0m(48.00, 51165)\n",
      "\u001b[1m\u001b[4mcds|C|6467954|US|en|903a3f904e5adb8a:en_US , Genuine Milwaukee 48-59-2401 M12 12v Lithium Ion Battery Charger\u001b[0m(48.00, 46447)\n",
      "\u001b[1m\u001b[4mcds|C|6467954|US|en|20ac997262b42748:en_US , DeWALT 3.7 RHP 60 Gallon 175 PSI Stationary Single Stage Air Compressor\u001b[0m(47.00, 46485)\n",
      "\u001b[1m\u001b[4mcds|C|6467954|US|en|51ce0751c5397226:en_US , Wilmar Performance Tool Wilmar W377b 1-7/16-Inch Jumbo Wrench, Size: Size: 1-7/16 inch Jumbo Wrench\u001b[0m(47.00, 10982)\n",
      "\u001b[1m\u001b[4mcds|O|523572128|US|en|53303 , DeWalt 15 amps Corded 8-1/4 in. Compact Table Saw - Case Of: 1;\u001b[0m(47.00, 97776)\n",
      "\u001b[1m\u001b[4mcds|C|6467954|US|en|5762011a0de1352e:en_US , Handheld Welder Gun Portable Welding Machine,Small Home Automatic Digital Welding Machine Kit\u001b[0m(47.00, 29091)\n",
      "\u001b[1m\u001b[4mcds|C|6467954|US|en|9afdcdc99fe83674:en_US , LAB SUPER-COMPACT Mini Universal Rekeying Kit .003 (LMK003) | American Key Supply\u001b[0m(47.00, 87841)\n",
      "\u001b[1m\u001b[4mcds|C|6467954|US|en|0cb2eeefe95528ca:en_US , Halex 51062 4-1/0 Wedge Clamp Connector\u001b[0m(47.00, 37266)\n",
      "\u001b[1m\u001b[4mcds|C|6467954|US|en|5c0c9a5c85a02175:en_US , Winco KFP-35 - Acero Paring Knife, 3-1/2\" Blade, Triple Riveted\u001b[0m(47.00, 50754)\n",
      "\u001b[1m\u001b[4mcds|C|6467954|US|en|a20dd0a8959814ec:en_US , Martin Wheel Bearing Repair Kit for 1-3/8 in. to 1-1/16 in. Inner/Outer Axles, BK-6\u001b[0m(47.00, 82210)\n",
      "\u001b[1m\u001b[4mcds|C|6467954|US|en|4ff57b114d98dd7f:en_US , Arteza Palette Knife, Size No. 2, Durable Flexible Stainless-Steel Blade & Break-Resistant Wooden Handle, Art Supplies for Oil and Acrylic Painting\u001b[0m(47.00, 55224)\n",
      "\u001b[1m\u001b[4mcds|C|6467954|US|en|76d1093626a11a1d:en_US , GearWrench 82734 8 PC COMBINATIONINATION SOLID HANDLE SCREWDRIVER SET\u001b[0m(47.00, 56483)\n",
      "\u001b[1m\u001b[4mcds|C|6467954|US|en|abdf2120974c0a15:en_US , Milwaukee 48-59-1840pg M18 Redlithium Xc4.0 System Starter Kit Brand\u001b[0m(47.00, 94798)\n",
      "\u001b[1m\u001b[4mcds|C|6467954|US|en|05c9c2f5264d4b27:en_US , Upgraded For 21.6V Dyson V6 Battery Replacement 4.0Ah | Li-ion Battery For Dyson DC59 Animal SV04 Series\u001b[0m(47.00, 85849)\n",
      "\u001b[1m\u001b[4mcds|C|6467954|US|en|e1dcb8245049cc12:en_US , PCBite kit with 4x SP10 probes and test wires | Third Hand Tool | Rework Station | Helping Hands Soldering | Circuit Board Soldering Kit\u001b[0m(46.98, 62496)\n",
      "\u001b[1m\u001b[4mcds|C|6467954|US|en|30b793b2b6b7fc04:en_US , Forrest 10\" Blade Runner Carrying Case.\u001b[0m(46.00, 11135)\n",
      "\u001b[1m\u001b[4mcds|O|520628258|US|en|42676 , ASJMREYE 3 in 1 TIG MMA CUT Welders Inverter Welding Machine 120A TIG/ MMA 30A Plasma Cutter Portable Multifunction Welding Equipment 220V\u001b[0m(46.00, 95259)\n",
      "\u001b[1m\u001b[4mcds|C|6467954|US|en|3ba47cc22bdd45f7:en_US , Broom Strongest 80% Heavier Duty - Outdoor Broom Indoor Broom, Angle Broom with Extendable Broomstick for Easy Sweeping - Easy Assembly & Durable,\u001b[0m(46.00, 47949)\n",
      "\u001b[1m\u001b[4mcds|C|6467954|US|en|4b9509cba2102d47:en_US , ZWILLING Pro 20-pc Knife Block Set\u001b[0m(46.00, 7789)\n",
      "\u001b[1m\u001b[4mcds|C|6467954|US|en|fcf06d0398ee269d:en_US , Milwaukee 4-1/2 in. x 1/8 in. x 7/8 in. Grinding Wheel (Type 27)\u001b[0m(46.00, 77901)\n",
      "\u001b[1m\u001b[4mcds|C|6467954|US|en|bdc8d8a138d0aef5:en_US , VEVOR Dry Core Drill Bit, 3.5\" / 88.9 mm Diameter 5/8\"-11 Threaded, 9.5\" / 241.3mm Depth Diamond Coring Bore Tool with a Pilot Bit & 4.5\" Blade,\u001b[0m(46.00, 13606)\n",
      "\u001b[1m\u001b[4mcds|C|6467954|US|en|9d021e94537ccc33:en_US , Everbilt 231-Piece per Pack Screw Assortment Kit\u001b[0m(46.00, 91492)\n",
      "\u001b[1m\u001b[4mcds|C|6467954|US|en|4bcfccb3876b0958:en_US , Milwaukee 48-22-8901 Medium Cut Level 1 Nitrile Dipped Gloves\u001b[0m(46.00, 69433)\n",
      "\u001b[1m\u001b[4mcds|C|6467954|US|en|30aee50cc0f212f8:en_US , Makita B-60545 Impact Gold T25 Torx 2′′ Power Bit, 15/Pk\u001b[0m(46.00, 41406)\n",
      "\u001b[1m\u001b[4mcds|C|6467954|US|en|7da5797d402f581a:en_US , CRAFTSMAN 61.5-in x 20-in x 13-in Matte Black Aluminum Crossover Truck Tool Box Rubber | CMXTBAD73217204\u001b[0m(46.00, 65378)\n",
      "\u001b[1m\u001b[4mcds|C|6467954|US|en|5ce646dd0dc73f7a:en_US , Meat Cleaver, 7\"Chinese Chef’s Knife Vegetable Cleaver German High Carbon Stainless Steel Kitchen Knife With Ergonomic Handle for Cooking (Meat\u001b[0m(45.00, 56475)\n",
      "\u001b[1m\u001b[4mcds|C|6467954|US|en|78faaa76966f99f0:en_US , DeWalt High Speed Steel SAE Drill and Tap Bit 10-32 UNF 1 each\u001b[0m(45.00, 56600)\n",
      "\u001b[1m\u001b[4mcds|C|6467954|US|en|1645c0c202205586:en_US , Victorinox Swiss Army 10 1/4\" Bread Knife Black/stainless Steel\u001b[0m(45.00, 54452)\n",
      "\u001b[1m\u001b[4mcds|C|6467954|US|en|d267bee0ab5ac404:en_US , Ridgid Cj80p 8 In. Premium Tile Diamond Blade\u001b[0m(45.00, 77611)\n",
      "\u001b[1m\u001b[4mcds|C|6467954|US|en|f0d3b33e10496c3e:en_US , Palmgren Lathe Machine Parts; Product Type: Steady Rest ; Machine Compatibility: 9684504 9 x 20 Lathe | Part #9684507\u001b[0m(45.00, 99298)\n",
      "\u001b[1m\u001b[4mcds|C|6467954|US|en|130e9fd3191df9a5:en_US , Tough Guy Angle Broom: Plastic, 12 in Sweep Face, 46-3/4 in Broom Handle Lg, Acme Thread, Yellow Model: 1VAC5\u001b[0m(45.00, 68655)\n",
      "\u001b[1m\u001b[4mcds|O|89681|US|en|E5ADCCC6DD77ABD07856228A3C636610DEC45219 , Lavex Industrial Main Brush for 7.9 Gallon Sweeper\u001b[0m(44.00, 68811)\n",
      "\u001b[1m\u001b[4mcds|C|6467954|US|en|22a27571dc55a327:en_US , DEWALT Portable Band Saw, Deep Cut, 10 Amp, 5-Inch (DWM120)\u001b[0m(44.00, 7914)\n",
      "\u001b[1m\u001b[4mcds|C|6467954|US|en|8c81409747116758:en_US , Woodward Fab HECSP3-1-3 - 30\" 3 IN 1 MACHINE SHEAR BRAKE ROLL\u001b[0m(44.00, 83588)\n",
      "\u001b[1m\u001b[4mcds|C|6467954|US|en|6b8af42b2213bab4:en_US , Truper 31213 Tru Built Round Point Shovel Long Fiberglass Handle\u001b[0m(44.00, 40543)\n",
      "\u001b[1m\u001b[4mcds|O|101723803|US|en|254522999638 , (2) Pack Craftsman 134149 138971 138498 127843 42\" Mower Deck Blades\u001b[0m(44.00, 55298)\n",
      "\u001b[1m\u001b[4mcds|C|6467954|US|en|0651b484dc75f290:en_US , 1/2' Drive 10 Piece Metric\u001b[0m(44.00, 36641)\n",
      "\u001b[1m\u001b[4mcds|C|6467954|US|en|6817f657e5e286b8:en_US , 1 Morse Taper Live Tail Center\u001b[0m(44.00, 27957)\n",
      "\u001b[1m\u001b[4mcds|C|6467954|US|en|7eea5ac5be3a9c26:en_US , Podiatrist Toenail Clippers Ingrown or Thick Toe Nail Clippers for Men, Toenail Cutters Nipper Precision Diabetic Pedicure Tool Curved Edge, opove\u001b[0m(44.00, 56847)\n",
      "\u001b[1m\u001b[4mcds|C|6467954|US|en|752ccf7149678000:en_US , H.K. Porter 24 in. General Purpose Center Cut Bolt Cutter\u001b[0m(43.00, 46489)\n",
      "\u001b[1m\u001b[4mcds|C|6467954|US|en|eff65bc1d3ed1b56:en_US , Fastenmaster Fmspider3-2Pk Spider Driver Bit 2\" 2Pk\u001b[0m(43.00, 39975)\n",
      "\u001b[1m\u001b[4mcds|O|10023812|US|en|720933 , AC110V/220V 3000W Handheld Portable Electric Arc Welding Machine Automatic Digital Intelligent Welding Machine Current Adjustment for 2~14mm Welding T\u001b[0m(43.00, 40815)\n",
      "\u001b[1m\u001b[4mcds|C|6467954|US|en|bfc25e0b87bdfa65:en_US , Bosch 56-7/8-in L x 1/4-in W x 6-TPI Carbon Fits Most Band Saws Blade | BS5678-6W\u001b[0m(43.00, 10576)\n",
      "\u001b[1m\u001b[4mcds|O|89681|US|en|693GSGS12 , Choice 12\" Granton Edge Slicing Knife with White Handle\u001b[0m(43.00, 34252)\n",
      "\u001b[1m\u001b[4mcds|O|305465528|US|en|shopify_US_6652150972602_39689867100346 , Multi-function Circular Saw US PLUG\u001b[0m(43.00, 11001)\n",
      "\u001b[1m\u001b[4mcds|C|6467954|US|en|24cfe57927c74ba0:en_US , Martin Tool and Forge 171g Compact Dinging Hammer Hickory Wood Handle Faces: 1 9, Size: 16 in\u001b[0m(43.00, 19827)\n",
      "\u001b[1m\u001b[4mcds|C|6467954|US|en|948c522be652e652:en_US , Neat Attachments 6' x 5' 6\" Pasture Drag Chain Harrow - 1/2\" Dia - Overall 8-1/2 Ft. Long\u001b[0m(43.00, 24603)\n",
      "\u001b[1m\u001b[4mcds|C|6467954|US|en|4348b3ea2541ebc3:en_US , Safety Speed H6 Panel Saw,horizontal, Vertical,5800 Rpm\u001b[0m(43.00, 91321)\n",
      "\u001b[1m\u001b[4mcds|C|6467954|US|en|b4bd61762b701e78:en_US , 041A4885-4 Belt Drive Gear and Sprocket Kit\u001b[0m(43.00, 23555)\n",
      "\u001b[1m\u001b[4mcds|C|6467954|US|en|7a7fc1ce746418fe:en_US , Buyers 1702703 Single Drop Door Underbody Tool Box with Die Cast Compression Latch\u001b[0m(43.00, 1605)\n",
      "\u001b[1m\u001b[4mcds|C|6467954|US|en|f6c4d560996af0db:en_US , Well & Good Wooden Dog Grooming Rake - each\u001b[0m(43.00, 87988)\n",
      "\u001b[1m\u001b[4mcds|O|525361604|US|en|17982 , Jet J-41002 2 x 42 Bench Belt and Disc Sander 577004\u001b[0m(43.00, 61166)\n",
      "\u001b[1m\u001b[4mcds|C|6467954|US|en|608e5bc799999ab5:en_US , GENESIS 4 in. x 36 in. Belt and 6 in. Disc Combination Sander\u001b[0m(43.00, 96940)\n",
      "\u001b[1m\u001b[4mcds|C|6467954|US|en|765721fec31af1cf:en_US , Ka-bar 1248 16 1/4 Inch Machete Cutlass with Black Kraton-G Handle\u001b[0m(43.00, 58266)\n",
      "\u001b[1m\u001b[4mcds|C|6467954|US|en|f2cf11dd3fbbf64c:en_US , Bessey Bar Clamp: Sliding Arm, 18 in Opening (In.), 2 1/2 in Throat Dp (In.) Model: TGJ2.518+2K\u001b[0m(43.00, 57993)\n",
      "\u001b[1m\u001b[4mcds|C|6467954|US|en|bbf94fb777055ddc:en_US , Klutch 11 1/4Inch Flex Head Ratchet — 3/8Inch Drive\u001b[0m(42.00, 33398)\n",
      "\u001b[1m\u001b[4mcds|C|6467954|US|en|f65e7fe18dc767a9:en_US , Abn 7/16 IN Impact Nut Driver Bits Extended Magnetic Sockets, 1/4 IN Shank\u001b[0m(42.00, 27240)\n",
      "\u001b[1m\u001b[4mcds|C|6467954|US|en|6afc142a56c51965:en_US , OEMTOOLS 22105 1-5/16\" Jumbo Combination Wrench\u001b[0m(42.00, 64161)\n",
      "\u001b[1m\u001b[4mcds|O|133111015|US|en|shopify_US_6648507596988_39578303496380 , Dewar's 21 Year Double Double Aged Blended Scotch Whisky 375ml\u001b[0m(42.00, 16723)\n",
      "\u001b[1m\u001b[4mcds|O|114193152|US|en|B0159VIZ24 , 100 Sets Silver Tone Magnetic Purse Snap Clasps/Closure Purse Handbag 14mm\u001b[0m(42.00, 60000)\n",
      "\u001b[1m\u001b[4mcds|C|6467954|US|en|ad437b93bd5f8029:en_US , OZ Lifting 1/2 Ton, Electric Wire Rope Hoist, 90' Lift, 37 FPM, 115V\u001b[0m(42.00, 86298)\n",
      "\u001b[1m\u001b[4mcds|O|117145237|US|en|woocommerce_gpf_2980 , Chain Roller Bearing Kit fits Forward Lift 120K06 Overhead Beam Top Rail 4′′ - Car Lift Parts\u001b[0m(42.00, 12026)\n",
      "\u001b[1m\u001b[4mcds|C|6467954|US|en|2a88696dc3e10c5b:en_US , Milwaukee Tool Socket Adapters & Universal Joints; Type: Universal Joint ; Male Size: 3/4 ; Female Size: 3/4 | Part #49-66-6730\u001b[0m(42.00, 27783)\n",
      "\u001b[1m\u001b[4mcds|C|6467954|US|en|934c2238b46b6e5c:en_US , DEWALT Welding 36-in W x 33-in H Adjustable Steel Saw Horse (1100-lb Capacity) | DXMF3603WSH\u001b[0m(42.00, 6451)\n",
      "\u001b[1m\u001b[4mcds|C|6467954|US|en|07c7d7cc30f9c46c:en_US , Joliday Leather Hole Puncher Hand Punching Machine Manual Press Puncher Punch Tools for DIY Leather Craft Punching Holes with 1.5-13mm Clamping Chuck\u001b[0m(41.00, 95027)\n",
      "\u001b[1m\u001b[4mcds|O|1872034|US|en|FB8076 , Ford Bronco Mr Heater Dewalt Forced Air Kerosene Heater; 135,000 BTU F340680\u001b[0m(41.00, 86532)\n",
      "\u001b[1m\u001b[4mcds|C|6467954|US|en|25740cb83e516b83:en_US , Dico Products 7600076 Arbor Adptr 1/2\"x1/4\"hex\u001b[0m(41.00, 25351)\n",
      "\u001b[1m\u001b[4mcds|C|6467954|US|en|e494dbed3ed815ef:en_US , King Kutter 7 Foot Professional Rear Blade RB 84 QAT\u001b[0m(41.00, 89868)\n",
      "\u001b[1m\u001b[4mcds|O|6084472|US|en|MK-423142-7 , Makita Sponge Rubber, BO4550 #MK-423142-7\u001b[0m(41.00, 91218)\n",
      "\u001b[1m\u001b[4mcds|C|6467954|US|en|905b89e5e42dc234:en_US , Proto J1183-A Box End Wrench,6-13/16\" L\u001b[0m(41.00, 18502)\n",
      "\u001b[1m\u001b[4mcds|C|6467954|US|en|601950b4e91edb2c:en_US , Hammer Stahl Fillet Knife - 7 inch, Silver\u001b[0m(41.00, 16923)\n",
      "\u001b[1m\u001b[4mcds|C|6467954|US|en|1a9b0302348d51b9:en_US , Cuisinart C77SS-15PK 15-piece Hollow Handle Block Set, Stainless Steel/Black\u001b[0m(41.00, 2839)\n",
      "\u001b[1m\u001b[4mcds|O|100618350|US|en|804739 , Haugen MTJ 2 - 2” Quick Attach Truss Jib, 10000 lbs Capacity\u001b[0m(41.00, 27390)\n",
      "\u001b[1m\u001b[4mcds|O|128553809|US|en|shopify_US_6936725553319_40800464076967 , 2021 New Electric Automatic Nail Clipper Cutter Trimmer Nail Cutter Manicure Pedicure Clipper Nail Trimmer Scissors Infant Grooming Tools, Red\u001b[0m(41.00, 40057)\n",
      "\u001b[1m\u001b[4mcds|C|6467954|US|en|d2b5acff42f7fa34:en_US , Victorinox Fibrox Pro 3-piece Knife Set\u001b[0m(41.00, 27871)\n",
      "\u001b[1m\u001b[4mcds|O|8858144|US|en|shopify_US_278297739304_2939548139560 , Covington Bench-Mounted Wet Belt Sander - #466\u001b[0m(41.00, 57940)\n",
      "\u001b[1m\u001b[4mcds|C|6467954|US|en|407a931abdb90a79:en_US , HellermannTyton 181-00185\u001b[0m(41.00, 30820)\n",
      "\u001b[1m\u001b[4mcds|O|125097438|US|en|shopify_US_4510147051587_31905497317443 , Kevlar Stitched Stick Welding Gloves L\u001b[0m(41.00, 23412)\n",
      "\u001b[1m\u001b[4mcds|C|6467954|US|en|6bdb8a45c553d7ef:en_US , Timberline 604-770 Spade Bit Extension 12 Long x 1/4 Inch SHK\u001b[0m(41.00, 23141)\n",
      "\u001b[1m\u001b[4mcds|C|6467954|US|en|111e486e1dd1fb03:en_US , Ariat Feather Leather Knife Sheath\u001b[0m(41.00, 52880)\n",
      "\u001b[1m\u001b[4mcds|O|101683057|US|en|302680909282 , Auto Crane 492000003, Hc-6 Hydraulic Crane, 6,000 Lbs., Nexstar, 370°\u001b[0m(41.00, 57910)\n",
      "\u001b[1m\u001b[4mcds|C|6467954|US|en|4f154de87d64025d:en_US , DeWALT Circular Saw Shoe Assembly | N132583\u001b[0m(41.00, 89242)\n",
      "\u001b[1m\u001b[4mcds|C|6467954|US|en|8b9748477fd68996:en_US , Yonico Biscuit Joint Slot Cutter #20 1/4 in. Shank Carbide Tipped Router Bit\u001b[0m(41.00, 3112)\n",
      "\u001b[1m\u001b[4mcds|C|6467954|US|en|fe3ef39a507ac670:en_US , Wesco Single Adjustable Drum Grab 240148 for Poly Drum\u001b[0m(40.00, 30546)\n",
      "\u001b[1m\u001b[4mcds|C|6467954|US|en|b298352fdc9e9182:en_US , Farberware 14 Piece Edge Keeper set With Built in Sharpener - each\u001b[0m(40.00, 84869)\n",
      "\u001b[1m\u001b[4mcds|C|6467954|US|en|322ffd553079c8ce:en_US , Zoro Select Cs-Bwm014 Replacement Grinding Wheel,for Cs-Bwm\u001b[0m(40.00, 66231)\n",
      "\u001b[1m\u001b[4mcds|C|6467954|US|en|0891c18c7de4486c:en_US , ECHO PAS Articulating Hedge Trimmer Attachment\u001b[0m(40.00, 931)\n",
      "\u001b[1m\u001b[4mcds|O|1909981|US|en|DEEDZ92656SB , Dee Zee Tool Box and 111 Gallon Transfer Tank Combo (Black Steel) - DZ92656SB\u001b[0m(40.00, 5115)\n",
      "\u001b[1m\u001b[4mcds|C|6467954|US|en|0f35b28709d2c206:en_US , Milwaukee-2707-20 M18 Fuel Hole Hawg Right Angle Drill with 1/2In Keyed Chuck (Bare Tool), White\u001b[0m(40.00, 85705)\n",
      "\u001b[1m\u001b[4mcds|C|6467954|US|en|c1ce5a023aafac81:en_US , ZWILLING Pro Rubberwood 16-slot Knife Block - Black\u001b[0m(39.00, 78400)\n",
      "\u001b[1m\u001b[4mcds|C|6467954|US|en|5a19d376881a15f0:en_US , Work Sharp Assorted Belt Kit - Ken Onion Edition\u001b[0m(39.00, 93019)\n",
      "\u001b[1m\u001b[4mcds|O|119561682|US|en|CTM_CMCB2022CK-1CT , Craftsman Starter Kit With 2 V20 2.0ah Batteries And Faster Charger\u001b[0m(39.00, 78211)\n",
      "\u001b[1m\u001b[4mcds|C|6467954|US|en|283acdc73db509b8:en_US , Camp USA Wing 2 Traveling Pulley\u001b[0m(39.00, 18979)\n",
      "\u001b[1m\u001b[4mcds|C|6467954|US|en|5cb99e67f2f0cc45:en_US , Mora Kansbol Green Or Burnt Orange 12634 & 13505 Burnt Orange | Kitchen Knives From Ragweed Forge\u001b[0m(39.00, 66699)\n",
      "\u001b[1m\u001b[4mcds|C|6467954|US|en|7b59ecd63d82916a:en_US , Vevor Fabric Cutter 90mm Rotary Fabric Cutter 200w Strong Power Electric Rotary Cutter Machine All-Copper Motor with Low Noise Adjustable Speed\u001b[0m(39.00, 32474)\n",
      "\u001b[1m\u001b[4mcds|O|6084472|US|en|MK-456587-4 , Makita Extension Attachment, black, XLC02ZB #MK-456587-4\u001b[0m(39.00, 68642)\n",
      "\u001b[1m\u001b[4mcds|C|6467954|US|en|f82a0f891ee0613c:en_US , TireMinder Solar Powered Trailer TPMS, 4 Tire Kit\u001b[0m(39.00, 89595)\n",
      "\u001b[1m\u001b[4mcds|C|6467954|US|en|77887225b8ae4c0c:en_US , Grinder for Spices and More 2.0 Inch\u001b[0m(39.00, 89119)\n",
      "\u001b[1m\u001b[4mcds|C|6467954|US|en|0c0ca67e553842fd:en_US , Sizzix Sidekick Starter Kit Featuring Tim Holtz - Black\u001b[0m(39.00, 55005)\n",
      "\u001b[1m\u001b[4mcds|C|6467954|US|en|0c65390ad1b79ff3:en_US , Bit Tip Torx\u001b[0m(39.00, 5540)\n",
      "\u001b[1m\u001b[4mcds|C|6467954|US|en|6ba7c28a58237998:en_US , Drill-Out Bolt Extractor, 5/16 or 8mm\u001b[0m(39.00, 29783)\n",
      "\u001b[1m\u001b[4mcds|C|6467954|US|en|03e9f0a3e83c241f:en_US , Stanley 12 in. Steel Hacksaw Black/Yellow 2 pc | MaxWarehouse.com\u001b[0m(39.00, 64330)\n",
      "\u001b[1m\u001b[4mcds|O|9065111|US|en|089037007051 , Part #089037007051, Table Saw Motor Housing\u001b[0m(39.00, 37534)\n",
      "\u001b[1m\u001b[4mcds|C|6467954|US|en|e86629b7ad174a04:en_US , Miller Job-Site Tool Bag 228028\u001b[0m(39.00, 81021)\n",
      "\u001b[1m\u001b[4mcds|O|251861650|US|en|shopify_US_7244007080087_41276768125079 , WÜSTHOF 3-Piece Plum Handle Charcuterie Set\u001b[0m(39.00, 14251)\n",
      "\u001b[1m\u001b[4mcds|C|6467954|US|en|20bb36843744bf52:en_US , Roller Stand | 500-Pound Capacity | Ultimation\u001b[0m(39.00, 29768)\n",
      "\u001b[1m\u001b[4mcds|O|117394304|US|en|498606442 , Hatchet Axe American Made - Hatchet -Christmas Gift- Fathers Gift-Groomsmen and Husband Gift, Wedding Gift, Mans Gift, Quality Axes\u001b[0m(39.00, 33148)\n",
      "\u001b[1m\u001b[4mcds|C|6467954|US|en|0f8fc78d744f8e70:en_US , Chicago Pneumatic CPTCA149747 REPAIR KIT 772H\u001b[0m(39.00, 10435)\n",
      "\u001b[1m\u001b[4mcds|C|6467954|US|en|0885f645d0950422:en_US , Shun Hikari 6.5\" Master Utility | Williams Sonoma\u001b[0m(39.00, 94037)\n",
      "\u001b[1m\u001b[4mcds|O|108116277|US|en|324138447292 , 10x Micro Usb Magnetic Tips Cable Connector For Cellphone Headset\u001b[0m(39.00, 31362)\n",
      "\u001b[1m\u001b[4mcds|C|6467954|US|en|7b7ef54c89d0f2e6:en_US , Greaves Gbc40-4 #4/0-4Awg I-Beam Clamp\u001b[0m(39.00, 8420)\n",
      "\u001b[1m\u001b[4mcds|C|6467954|US|en|82a1aff3b070d207:en_US , Allied 235-Piece Mechanic's Tool Set Multi\u001b[0m(34.28, 38259)\n",
      "\u001b[1m\u001b[4mcds|O|113356752|US|en|264572896064 , Silver 2-jaw Bearing Puller Extractor Removal Tool For Automotive Car\u001b[0m(34.11, 45386)\n",
      "\u001b[1m\u001b[4mcds|C|6467954|US|en|697416144ef93d51:en_US , Jegs 82286 Quarter-Turn Fastener Tool\u001b[0m(28.25, 26596)\n",
      "\u001b[1m\u001b[4mcds|O|108432423|US|en|535 , Sargent 6220 CT Heavy Duty Crimper Tool, 8-2 AWG | Waytek | Sargent Tools Oetiker\u001b[0m(26.49, 94516)\n",
      "\u001b[1m\u001b[4mcds|C|6467954|US|en|ddfc59d1ca8109a8:en_US , Tama TMT9 Drummer's Multi Tool\u001b[0m(25.40, 97501)\n",
      "\u001b[1m\u001b[4mcds|C|6467954|US|en|207754c6b7cd5ce5:en_US , Magnogrip 9 Pocket Magnetic Maintenance Tool Pouch With Quick Snap\u001b[0m(23.77, 67906)\n",
      "\u001b[1m\u001b[4mcds|C|6467954|US|en|659c7267f4a9083c:en_US , Speedrite Speedrite- Maun Fencing Pliers | SA070\u001b[0m(23.54, 53604)\n",
      "\u001b[1m\u001b[4mcds|O|114731757|US|en|144393047798 , Snap-on Trim Pad Clips Removal Fork Tool Green & Black Soft Handle\u001b[0m(23.25, 78203)\n",
      "\u001b[1m\u001b[4mcds|C|6467954|US|en|8286cba0f4540d10:en_US , Bon Tool 6-in x 5-in Stainless Steel Concrete Edger with 1-in Radius | 82-123\u001b[0m(22.59, 86547)\n",
      "\u001b[1m\u001b[4mcds|O|116335654|US|en|114660834621 , Air Gun Installation Tool + 1000pcs Winter Snow Tire Stud Screw Nail\u001b[0m(22.08, 70318)\n",
      "\u001b[1m\u001b[4mcds|O|126358573|US|en|m44859707683 , Kobalt Pittsburgh Tool Set - New | Color: Black | Size: l\u001b[0m(21.47, 97730)\n",
      "\u001b[1m\u001b[4mcds|C|6467954|US|en|1e0b17685c64fa98:en_US , Harbor Freight Tools Horsehair Bristle Acid Shop Brushes, 1/2-inch, 36 Pieces\u001b[0m(21.30, 91229)\n",
      "\u001b[1m\u001b[4mcds|O|5685806|US|en|shopify_US_7330454214_23373445638 , Proto 360B 12 Pc Convertible Retaining Ring Pliers Set|Retaining Ring Plier Set\u001b[0m(21.26, 29430)\n",
      "\u001b[1m\u001b[4mcds|C|6467954|US|en|d5c1984ba9b831f9:en_US , Zippo Fire Starting Multi-Tool, Size: One size, Red\u001b[0m(20.91, 22144)\n",
      "\u001b[1m\u001b[4mcds|O|1259654|US|en|2626 , PropSmith 2.50 Prop Pusher Puller | PropSmith\u001b[0m(20.91, 46199)\n",
      "\u001b[1m\u001b[4mcds|C|6467954|US|en|97139a97c624065a:en_US , Forney SPANNER WRENCH, 73148\u001b[0m(20.26, 1863)\n",
      "\u001b[1m\u001b[4mcds|C|6467954|US|en|79915bc100e19e76:en_US , Jonard Tools Cable Tools & Kits; Tool Type: Connector Tool ; Number of Pieces: 1.000 ; For Use With: BNC Connectors | Part #RBNC-3\u001b[0m(19.93, 73708)\n",
      "\u001b[1m\u001b[4mcds|C|6467954|US|en|007e84d4ac07b44c:en_US , Eaton Fuller Transmission Aux Countershaft Support Straps Rr1002tr Alt\u001b[0m(19.26, 23392)\n",
      "\u001b[1m\u001b[4mcds|C|6467954|US|en|71af130f9db78bde:en_US , JACHOM 15 PCS Professional Car Tool Kit for Trucks | Essential Automotive Tools\u001b[0m(18.56, 67)\n",
      "\u001b[1m\u001b[4mcds|O|213606434|US|en|woocommerce_gpf_95123 , Makita GA9020 angle grinder 2200W 230mm\u001b[0m(18.14, 52750)\n",
      "\u001b[1m\u001b[4mcds|C|6467954|US|en|facdaa8b7560de0b:en_US , Garage Hooks, 12 Pack Heavy Duty Garage Storage Hooks Steel Tool Hangers for Garage Wall Mount Utility Hooks and Hangers with Anti-Slip Coating for\u001b[0m(18.07, 99685)\n",
      "\u001b[1m\u001b[4mcds|O|8009538|US|en|41412958 , TICK | Milwaukee Tool Power Drill Tool Tracker - For All Drills | Part #3794153/4138526\u001b[0m(17.91, 85741)\n",
      "\u001b[1m\u001b[4mcds|O|10676731|US|en|DRIFT01 , Centaur Forge Standard Tomahawk Drift\u001b[0m(17.89, 52758)\n",
      "\u001b[1m\u001b[4mcds|O|1082329|US|en|ORT-SEALTWISTOR-M , Seal Twistor Installation Tool (For 1-3/16\" to 2\" Gland Hole Seals)\u001b[0m(17.50, 23307)\n",
      "\u001b[1m\u001b[4mcds|C|6467954|US|en|d405dafa27808d5d:en_US , Tempo Communications PA2035 Tool Die Set For Terminals, 10-22 AWG\u001b[0m(17.28, 32566)\n",
      "\u001b[1m\u001b[4mcds|C|6467954|US|en|d9f2d3e22518fa13:en_US , MR Bar-B-Q 3 Piece Tool Set\u001b[0m(17.01, 32845)\n",
      "\u001b[1m\u001b[4mcds|C|6467954|US|en|f1a5a135c198d1a0:en_US , Allen-bradley 1786-ctk/b Controlnet Coax Tool Kit 1786-ctk Cn Coax\u001b[0m(16.99, 98581)\n",
      "\u001b[1m\u001b[4mcds|O|2338785|US|en|WinchSW2-C , Winch Strap Winder Webbing Truck Trailer Flatbed Winch 2\" 3\" 4\" Straps\u001b[0m(16.32, 81429)\n",
      "\u001b[1m\u001b[4mcds|C|6467954|US|en|0bb30d4ed5e4e5fa:en_US , The ORIGINAL Crepe Spreader and Spatula Kit - 2 Piece Set (4” Spreader and 14” Spatula) Convenient Size to Fit Small Crepe Pan Maker | All Natural\u001b[0m(16.31, 60884)\n",
      "\u001b[1m\u001b[4mcds|C|6467954|US|en|64e0e5f076739411:en_US , Kaisi 70 In 1 Precision Screwdriver Set Professional Electronics\u001b[0m(16.29, 57018)\n",
      "\u001b[1m\u001b[4mcds|C|6467954|US|en|8176a6a8e3c6a888:en_US , Ability One Asphalt Lute: Aluminum, 1 in Lg of Tines, 36 in Overall Wd of Tines, 36 Tines Model: 5120-01-611-8052\u001b[0m(16.14, 17450)\n",
      "\u001b[1m\u001b[4mcds|C|6467954|US|en|911cc10db4cf0291:en_US , Proto Hook Spanner Wrench: 2 in to 4 3/4 in, 11 1/2 in Overall Lg, 15/32 in Hook Thick Model: JC474\u001b[0m(16.11, 48735)\n",
      "\u001b[1m\u001b[4mcds|C|6467954|US|en|83af92ac9088c258:en_US , Landscapers Select Gm7002 Hoe And Pick Tool, 14 In\u001b[0m(16.10, 39478)\n",
      "\u001b[1m\u001b[4mcds|C|6467954|US|en|450ec932639e7d41:en_US , Bon Tool 6 in. x 4-1/2 in. Stainless Steel Concrete Bullet Walking Groover with 1/2 in. x 3/8 in. Bit\u001b[0m(16.05, 44037)\n",
      "\u001b[1m\u001b[4mcds|C|6467954|US|en|a0bcb5b0c7cd11f7:en_US , Haus 12-Piece Garage Organization Kit, Size: 38.98\u001b[0m(16.03, 57772)\n",
      "\u001b[1m\u001b[4mcds|C|6467954|US|en|00a06ee02786b726:en_US , Helping Hands, Size: One size, Silver\u001b[0m(16.00, 22265)\n",
      "\u001b[1m\u001b[4mcds|C|6467954|US|en|d8c456efc06e2022:en_US , Hyper Tough 5-piece Quick Release Snap Rail Garage Tool Organizer System, Size: 5-Piece Snap Rail Kit, Gray\u001b[0m(15.96, 25530)\n",
      "\u001b[1m\u001b[4mcds|C|6467954|US|en|d29e1f6a8209f47e:en_US , Marshalltown Ap753H 19-1/2 In. X 4 In. Aluminum Concrete Placer With Hook And Welded Handle, Size: 60 In\u001b[0m(15.83, 22122)\n",
      "\u001b[1m\u001b[4mcds|O|130931652|US|en|11347 , GRAP33 33\" Grappler Pick Up Tool\u001b[0m(15.77, 97251)\n",
      "\u001b[1m\u001b[4mcds|O|107685060|US|en|en4000386033830 , Profile Contour Gauge Template Contours Gauge Arc Ruler Gauge Contour Profile Scale Template\u001b[0m(15.51, 1682)\n",
      "\u001b[1m\u001b[4mcds|O|16652651|US|en|shopify_US_146615879_29211031044199 , Occidental Leather 5036 Leather Pro Electrician Set Medium\u001b[0m(15.36, 67414)\n",
      "\u001b[1m\u001b[4mcds|O|129335503|US|en|1130845599 , Leather Gardening Belt, Florist Tool Bag + Belt, Gift for him, her, Garden Bag, Cognac Tool Bag, Florist Organizer, Personalized Florist Bag\u001b[0m(15.26, 97769)\n",
      "\u001b[1m\u001b[4mcds|O|114165067|US|en|383226450693 , Tru-balance A-1339 Wheel Centering Pins Solution A 3\" Set(3) 22.5/24.5\u001b[0m(15.23, 67733)\n",
      "\u001b[1m\u001b[4mcds|O|6296724|US|en|363187355910 , 21pcs Auto Paintless Dent Removal Rods (a B C)hail Repair Kit With\u001b[0m(14.92, 16281)\n",
      "\u001b[1m\u001b[4mcds|O|71458|US|en|25219 , Deep Blue Marine Knife and Plier Holder\u001b[0m(14.61, 90261)\n",
      "\u001b[1m\u001b[4mcds|O|127787936|US|en|shopify_US_201025421339_3697871814683 , L1 Diamond Sgraffito Stylus Tool\u001b[0m(14.60, 2734)\n",
      "\u001b[1m\u001b[4mcds|O|6296724|US|en|254301535657 , Blacksmith, Knifemakers Tomahawk, Large Hammer And Mouse Ax Drift Set\u001b[0m(14.59, 528)\n",
      "\u001b[1m\u001b[4mcds|O|7775547|US|en|1060957904 , BMW Lock Cylinder Tool - Baum 323110\u001b[0m(14.49, 72273)\n",
      "\u001b[1m\u001b[4mcds|C|6467954|US|en|ab8bd4f62c6de0cb:en_US , General 1702 Digital Protractor,accuracy +/-0.1 Deg.\u001b[0m(14.41, 98619)\n",
      "\u001b[1m\u001b[4mcds|O|128553554|US|en|1715874USs-usw , DANIU DANIU Professional 12 in 1 Lock Disassembly Tool Locksmith Tools Kit Remove Lock Repairing pick Set\u001b[0m(14.36, 55789)\n",
      "\u001b[1m\u001b[4mcds|C|6467954|US|en|861d822319ca6cea:en_US , Dolamoty Ash Tool Poker Rake 18 inch for Big Green Egg Grill,Big Green Egg Parts Accessories,Charcoal ash Cleaner,Grill Poker Cleaning Tools for Large\u001b[0m(14.21, 77511)\n",
      "\u001b[1m\u001b[4mcds|O|120336178|US|en|000000000001044323 , 0640030100 - Molex - Tools\u001b[0m(14.13, 78146)\n",
      "\u001b[1m\u001b[4mcds|C|6467954|US|en|4c3e3e3145bb55a5:en_US , Mag-mate B090 Lifting Magnet,50 Lb Cap,trigger Release\u001b[0m(14.04, 2966)\n",
      "\u001b[1m\u001b[4mcds|C|6467954|US|en|e812e10d7116ac8d:en_US , Vangoa Guitar Luthier Tools Set Including String Action Ruler Gauge and Guitar Notched Radius Gauges for Guitar Bass Setup\u001b[0m(13.79, 15597)\n",
      "\u001b[1m\u001b[4mcds|C|6467954|US|en|3a9304146e7059e7:en_US , Fowler 54-54-730-0 - Fowler 54 54 730 0 6\"/150m Inside Digital Spring Caliper\u001b[0m(13.78, 879)\n",
      "\u001b[1m\u001b[4mcds|O|2663876|US|en|126726 , CRL ALUM-K7NFR40-VCP-1 Combination Spline and Flat Roller Tool\u001b[0m(13.75, 88526)\n",
      "\u001b[1m\u001b[4mcds|C|6467954|US|en|412881713587b5ed:en_US , QEP 1 in. H X 0.9 in. W X 8.5 in. L Steel Tile Nipper 1 Pack | MaxWarehouse.com\u001b[0m(13.64, 33293)\n",
      "\u001b[1m\u001b[4mcds|O|425233525|US|en|184798489700 , 2pc Tire Changer Universal Bead Drop Center Rim Clamp Wheel Rim\u001b[0m(13.44, 43425)\n",
      "\u001b[1m\u001b[4mcds|C|6467954|US|en|b9692a5c84636521:en_US , Lezyne Caddy CO2 Kit Blk\u001b[0m(13.42, 68579)\n",
      "\u001b[1m\u001b[4mcds|C|6467954|US|en|276ea9e5511654b9:en_US , Dewalt Genuine Replacement Backing Pad N121668\u001b[0m(13.22, 14121)\n",
      "\u001b[1m\u001b[4mcds|C|6467954|US|en|45c803b02567a854:en_US , Garden Weasel 47.5 in. Steel Nut Gatherer Steel Handle\u001b[0m(13.14, 92155)\n",
      "\u001b[1m\u001b[4mcds|C|6467954|US|en|15f7b211eb8c13df:en_US , Augernis Pottery Sculpting Tools 32PCS Ceramic Clay Carving Tools Set for Beginners Expert Art Crafts Kid's After School Pottery Classes Club\u001b[0m(13.09, 59466)\n",
      "\u001b[1m\u001b[4mcds|O|101704838|US|en|153124237630 , Hart 4pc Quick Tatch Trowel Set, Square Notch, Handle & Box\u001b[0m(13.05, 90841)\n",
      "\u001b[1m\u001b[4mcds|C|6467954|US|en|aa29c79f1a134a5f:en_US , DEWALT 100-Pack 1/2-in Non-washered Drive Pin | DDF3011000\u001b[0m(13.00, 796)\n",
      "\u001b[1m\u001b[4mcds|C|6467954|US|en|b3b2298d01f2cdb5:en_US , Marson Rivet Nut Installation Tools; Tool Type: Spin/Pull Rivet Nut Tool ; Maximum Size (mm): M6 ; Maximum Size (Inch): 1/4-20 ; MinimumSize (Inch):\u001b[0m(12.85, 35676)\n",
      "\u001b[1m\u001b[4mcds|C|6467954|US|en|2cd44dda83fbdad2:en_US , True Scrybe 6-in-1 Multi-tool Pen - Silver\u001b[0m(12.82, 44742)\n",
      "\u001b[1m\u001b[4mcds|O|9689299|US|en|29518479589494 , Vinyl Roller Tool\u001b[0m(12.75, 71571)\n",
      "\u001b[1m\u001b[4mcds|C|6467954|US|en|6a22fd10614638c5:en_US , 10 in. Half Round File, Blue\u001b[0m(12.70, 37452)\n",
      "\u001b[1m\u001b[4mcds|O|115330344|US|en|293519223393 , Ping Golf Tool\u001b[0m(12.61, 28827)\n",
      "\u001b[1m\u001b[4mcds|C|6467954|US|en|5550c4e241ed50a4:en_US , Woodwise Stair Jig\u001b[0m(12.60, 31254)\n",
      "\u001b[1m\u001b[4mcds|O|141495157|US|en|shopify_GB_3826491097203_29061225676915 , Eyelash Separating Tool For Lash Lifts & Extensions\u001b[0m(12.53, 75418)\n",
      "\u001b[1m\u001b[4mcds|C|6467954|US|en|f8c647e12fe1e40f:en_US , Grave Digger Tools 18\" Snubnose Black T-Handle Shovel\u001b[0m(12.48, 50600)\n",
      "\u001b[1m\u001b[4mcds|C|6467954|US|en|b5a7001df573bbe8:en_US , ATEQ TPMS VT15 TPMS Sensor Activation Tool by National Tool Warehouse\u001b[0m(12.45, 82575)\n",
      "\u001b[1m\u001b[4mcds|C|6467954|US|en|94bf89b0bab1840f:en_US , Tood Detachable Rolling Tool Box Organizer Storage Bin Cart with Drawer and Tray, Size: 1 Drawer, Black\u001b[0m(12.42, 25678)\n",
      "\u001b[1m\u001b[4mcds|C|6467954|US|en|c02e82b24f5fe49f:en_US , Bessey PROFLOORINGKIT PRO Flooring Kit\u001b[0m(12.39, 18562)\n",
      "\u001b[1m\u001b[4mcds|C|6467954|US|en|3268cab7fab9905d:en_US , Shaviv 4 Piece High Speed Steel Hand Deburring Tool Set - Blade Type E100, E200, E300, For Hole Edges, Straight Edges | Part #155-29078\u001b[0m(12.34, 11295)\n",
      "\u001b[1m\u001b[4mcds|C|6467954|US|en|310edf1e908335ec:en_US , CLC 1 pocket Leather Hammer Holder 3.9 in. L X 5.8 in. H Tan\u001b[0m(12.29, 33268)\n",
      "\u001b[1m\u001b[4mcds|C|6467954|US|en|5401da23d83fa81a:en_US , Ableware Raptor Reacher\u001b[0m(11.96, 69863)\n",
      "\u001b[1m\u001b[4mcds|C|6467954|US|en|bf20c6fbd56cc5ca:en_US , Landscape Rake Independence Series\u001b[0m(11.94, 99661)\n",
      "\u001b[1m\u001b[4mcds|C|6467954|US|en|26039131e4734a25:en_US , Milwaukee 4932464080 Packout Box 3 Toolbox System ( 2 X Boxes )\u001b[0m(11.91, 36704)\n",
      "\u001b[1m\u001b[4mcds|C|6467954|US|en|547711c16f453b72:en_US , STREBITO Precision Screwdriver Set 124-Piece Electronics Tool Kit with 101 Bits Magnetic Screwdriver Set for Computer, Laptop, Cell Phone, PC,\u001b[0m(11.88, 66019)\n",
      "\u001b[1m\u001b[4mcds|C|6467954|US|en|c7acc34713fd709a:en_US , StealthMounts EGO Battery Holders | Cordless Ego Power+ Battery Mounts | 4 Pack | EGO Power Plus Battery Organizers\u001b[0m(11.85, 24951)\n",
      "\u001b[1m\u001b[4mcds|C|6467954|US|en|5d6d7bbf5e2a79bd:en_US , mkki 4\" 100mm Angle Grinder Wall Bracket Tool Hook Holder Stand for 1-4 Angle Grinders\u001b[0m(11.84, 6317)\n",
      "\u001b[1m\u001b[4mcds|O|10776|US|en|B1308792 , Import 5C Rotating Indexing Fixture\u001b[0m(11.72, 5812)\n",
      "\u001b[1m\u001b[4mcds|O|388792255|US|en|US1920-02_2 , Jardineer 2\" Anvil Loppers Shears - Gardening Loppers Heavy Duty with Garden Shears & Spare Blade, Effortless Pruning Tree Loppers\u001b[0m(11.64, 1774)\n",
      "\u001b[1m\u001b[4mcds|C|6467954|US|en|e9fb7cea635012e6:en_US , Sp Scienceware Tapered Plug Sampler Model: H37826-0000\u001b[0m(11.54, 19006)\n",
      "\u001b[1m\u001b[4mcds|C|6467954|US|en|f3d1472e46ab8590:en_US , EGO Power+ ST1620T 16 in. Battery String Trimmer Tool Only\u001b[0m(11.51, 9685)\n",
      "\u001b[1m\u001b[4mcds|C|6467954|US|en|9307d42b07e68caf:en_US , Pieces be with you, Grande Groovin Piping Trimming Tool\u001b[0m(11.48, 18399)\n",
      "\u001b[1m\u001b[4mcds|C|6467954|US|en|c8323635969c6540:en_US , Magnepull XR1000 Magnespot Reference Point Locator Kit\u001b[0m(11.39, 94025)\n",
      "\u001b[1m\u001b[4mcds|C|6467954|US|en|84223e7b24d18616:en_US , Kings County Tools Traditional Maddock 2-in-1 Garden Tool | Hoe and Axe Combo | 42 Ash Handle | Carbon Steel Heads | German-Made Quality\u001b[0m(11.37, 32401)\n",
      "\u001b[1m\u001b[4mcds|C|6467954|US|en|bb884f8cf35c80d4:en_US , Sunrise Commercial Grade Wok Shovel 16.75 inch (#3) & Ladle 16.75 inch (#3)) Set, Size: #3 (16.75 Large), Silver\u001b[0m(11.36, 71424)\n",
      "\u001b[1m\u001b[4mcds|C|6467954|US|en|88734aafe587abb1:en_US , Norton 1/2 X 2 X 6 In. 3-In-1 Tool & Knife Sharpening System\u001b[0m(11.36, 38024)\n",
      "\u001b[1m\u001b[4mcds|C|6467954|US|en|a29cd18661e2d0aa:en_US , HITACHI DH38YE2 Rotary Hammer, 120 V, 950 W, 1-1/2 in Chuck, Keyless Chuck, Black/Green/Silver\u001b[0m(11.31, 29144)\n",
      "\u001b[1m\u001b[4mcds|C|6467954|US|en|2aa2347bf696c886:en_US , BOSCH RH540M 1-9/16\" SDS-max Combination Hammer by FastoolNow\u001b[0m(11.29, 38742)\n",
      "\u001b[1m\u001b[4mcds|C|6467954|US|en|15d63793318be18d:en_US , Fein 92035060090 Turbo I Wet / Dry Dust Extractor Set\u001b[0m(11.23, 99106)\n",
      "\u001b[1m\u001b[4mcds|O|441318628|US|en|TOOLTOTEBLK , 8\" X 8\" HD Tool Tote Black\u001b[0m(11.21, 59041)\n",
      "\u001b[1m\u001b[4mcds|C|6467954|US|en|2872191e882e978b:en_US , WHDZ Paintless Dent Repair Rods Auto Body Dent Removal Tools 10pcs Auto Car Body Paintless Dent Repair Dent Puller Dent Hammer Tap Down\u001b[0m(11.14, 46283)\n",
      "\u001b[1m\u001b[4mcds|O|132533|US|en|154921 , Ryobi 030157001013 Bearing Cap Assembly\u001b[0m(11.14, 45763)\n",
      "\u001b[1m\u001b[4mcds|C|6467954|US|en|bf4a88d28cd20651:en_US , Klein 200028EINS Insulated Slim-Handle Diagonal Cutting Pliers\u001b[0m(11.10, 63086)\n",
      "\u001b[1m\u001b[4mcds|C|6467954|US|en|69b1c68ea897d6d1:en_US , Bosch 25618-02 18 Volt Li-ion 1/4-hex Cordless 18v Impact Driver Kit\u001b[0m(11.10, 47219)\n",
      "\u001b[1m\u001b[4mcds|C|6467954|US|en|c234b6f1da492616:en_US , Rack'em RA7 6-Hook Multi Tool Rack\u001b[0m(11.06, 88790)\n",
      "\u001b[1m\u001b[4mcds|C|6467954|US|en|a61ec890abe7656e:en_US , Hose Removal Hook Pick Set, 10\" Hose Hook, 8\" Hose Remover, Hose Puller Tool for Radiator Hoses, VASTOOLS\u001b[0m(11.04, 39231)\n",
      "\u001b[1m\u001b[4mcds|C|6467954|US|en|ac203052d66e7fc1:en_US , Snapper XD 82V MAX Cultivator Attachment with Adjustable Tilling Width, Compatible with Snapper XD String Trimmer\u001b[0m(10.97, 31085)\n",
      "\u001b[1m\u001b[4mcds|O|9769319|US|en|lr3460 , Corona Long Reach Cut and Hold Pruner LR 3460\u001b[0m(10.88, 42232)\n",
      "\u001b[1m\u001b[4mcds|O|130220265|US|en|shopify_US_6836339146928_40417273381040 , Gate Remover Set\u001b[0m(10.86, 92061)\n",
      "\u001b[1m\u001b[4mcds|C|6467954|US|en|7367e101cbc5b2e9:en_US , Pull Start Recoil Carburetor Set Replacement for Predator 212cc 6.5hp OHV Engine\u001b[0m(10.79, 22617)\n",
      "\u001b[1m\u001b[4mcds|C|6467954|US|en|5d14d3c597cffe3e:en_US , 1pc Gundlach 611 Lil Squeezy Carpet Stretcher\u001b[0m(10.77, 18448)\n",
      "\u001b[1m\u001b[4mcds|C|6467954|US|en|5093ca490b5d3389:en_US , Room & Board | Modern Roan Wall-Mounted Magnetic Knife Holder . in Slate Blue 20w .5d 3h\u001b[0m(10.74, 52746)\n",
      "\u001b[1m\u001b[4mcds|O|142087827|US|en|shopify_US_6119626342553_37947389771929 , Mr. Fix It Tool Bouquet | Gift Idea for Dad, Husband, Boyfriend\u001b[0m(10.71, 78962)\n",
      "\u001b[1m\u001b[4mcds|O|6421244|US|en|120803307782 , 21 Pc Eye Micro Minor Surgery Surgical Opthalmic Instrument Student\u001b[0m(10.67, 33769)\n",
      "\u001b[1m\u001b[4mcds|C|6467954|US|en|2660c97c606b82ef:en_US , Jonas of Sweden 38404 Adult Red Plastic Comb Berry Picker - 8 1/2\" x 5 1/2\"\u001b[0m(10.64, 8122)\n",
      "\u001b[1m\u001b[4mcds|O|114711376|US|en|192468736507 , Milwaukee 48-22-1920 Duct Knife, Full Tang, Double Edged Blade ( Lot\u001b[0m(10.58, 21078)\n",
      "\u001b[1m\u001b[4mcds|C|6467954|US|en|1270a5d788cca965:en_US , Milwaukee 48-22-2706 Screwdriver Kit, 6-Piece\u001b[0m(10.55, 52867)\n",
      "\u001b[1m\u001b[4mcds|O|6296724|US|en|393546869690 , Dental Tool 10 Pack Professional Plaque Remover Teeth Cleaning Tool\u001b[0m(10.51, 71714)\n",
      "\u001b[1m\u001b[4mcds|C|6467954|US|en|de18230a6182d6a7:en_US , Dead Ringer Arrow Puller\u001b[0m(10.46, 37327)\n",
      "\u001b[1m\u001b[4mcds|C|6467954|US|en|4525d347eea17c21:en_US , LifeLine Home Mechanic Workstand inc. Mat - Gold\u001b[0m(10.38, 49041)\n",
      "\u001b[1m\u001b[4mcds|C|6467954|US|en|069eced4660dee3a:en_US , Blue Sea 8293 Contura Actuator Removal Tool\u001b[0m(10.37, 18182)\n",
      "\u001b[1m\u001b[4mcds|C|6467954|US|en|8b5475ce0519eda7:en_US , Klein Tools Tool Pouches, 11 Compartment, Black, Leather, Belt Slot, 1/EA, #5167 | AFT Fasteners\u001b[0m(10.31, 24815)\n",
      "\u001b[1m\u001b[4mcds|C|6467954|US|en|bc621e5eeae6204c:en_US , Monteverde Tool 0.9mm Pencil - Brass\u001b[0m(10.23, 16538)\n",
      "\u001b[1m\u001b[4mcds|C|6467954|US|en|b1748dc05bf1aefa:en_US , Bambu Wok Spatula\u001b[0m(10.22, 99234)\n",
      "\u001b[1m\u001b[4mcds|C|6467954|US|en|fe6fb6f7199a5969:en_US , Cuda Universal Lanyards, 2-Pack | For Fishing\u001b[0m(10.16, 38245)\n",
      "\u001b[1m\u001b[4mcds|C|6467954|US|en|b7f2fce5417ae9f1:en_US , Fiskar Paper Crimper Tool, #9340, Fits Paper 6.5\" Wide, Wavy Paper\u001b[0m(10.12, 60901)\n",
      "\u001b[1m\u001b[4mcds|C|6467954|US|en|21fc81882ea48107:en_US , Center Pin Punch Automatic Center Strike Spring Loaded Window Breaker Drilling Marking Tool, Black, without Cap, Size: 130 mm\u001b[0m(10.11, 83992)\n",
      "\u001b[1m\u001b[4mcds|O|501595024|US|en|shopify_US_5111236526213_34416780247173 , Extreme Reamer X-Large\u001b[0m(10.08, 35099)\n",
      "\u001b[1m\u001b[4mcds|C|6467954|US|en|5d22502cb0f6f29c:en_US , The Pocket Scientist - Wallet Science Ruler Scale and Unit Conversion Reference 3 inch\u001b[0m(9.99, 31938)\n",
      "\u001b[1m\u001b[4mcds|O|117171671|US|en|690401552 , Channellock 430 Plier Holder\u001b[0m(9.98, 52263)\n",
      "\u001b[1m\u001b[4mcds|C|6467954|US|en|8869d898225b16bd:en_US , Spanner Nut Tamper-Proof Security Screwdriver\u001b[0m(9.98, 32309)\n",
      "\u001b[1m\u001b[4mcds|O|127676668|US|en|95-362-Pack-of-1 , Sklar Surgi-OR Vaginal Speculum Pederson NonSterile Mid Grade Stainless Steel Large Double Blade Duckbill Reusable Without Light Source Capability -\u001b[0m(9.98, 79535)\n",
      "\u001b[1m\u001b[4mcds|C|6467954|US|en|94370ad8fb930b8d:en_US , Silicon Carbide Flexible Cylinder Hone, Coarse Grade, 120 Grit\u001b[0m(9.92, 8047)\n",
      "\u001b[1m\u001b[4mcds|O|258354524|US|en|LCLAMP8511 , Precision Clamping Squares 90 Degree Right Angle Clamps\u001b[0m(9.89, 66752)\n",
      "\u001b[1m\u001b[4mcds|C|6467954|US|en|a7a32cdde23a54b9:en_US , Estes 302227 Tube Marking Guide\u001b[0m(9.88, 51512)\n",
      "\u001b[1m\u001b[4mcds|C|6467954|US|en|7341f5cf688ffd73:en_US , Bartender's Hammered Solid Copper Cocktail Shaker Set\u001b[0m(9.86, 84503)\n",
      "\u001b[1m\u001b[4mcds|O|11022734|US|en|223300521187-MTY1-155-903 , 155-903-Telescoping Gage Set SERIES 155 (MITUTOYO) | Misumi\u001b[0m(9.84, 46037)\n",
      "\u001b[1m\u001b[4mcds|C|6467954|US|en|83484922d810747e:en_US , Omc Johnson Evinrude Outboard Needle Bearing Grease Assembly Lube\u001b[0m(9.79, 56351)\n",
      "\u001b[1m\u001b[4mcds|C|6467954|US|en|89b39e3e03590be2:en_US , Mag-Mate Tplp30 Magnetic Part Handler,2.48Inhx3Inlx3Inw\u001b[0m(9.77, 2100)\n",
      "\u001b[1m\u001b[4mcds|O|7654024|US|en|shopify_US_313208609_32077187252273 , Sure Design Thai Wooden Massage Tool 03 1-Size / Wood\u001b[0m(9.73, 86094)\n",
      "\u001b[1m\u001b[4mcds|C|6467954|US|en|d9864f36aabb52e8:en_US , CNCEST High Quality Portable Fiber Optic Tools Kits-18PCS\u001b[0m(9.69, 93022)\n",
      "\u001b[1m\u001b[4mcds|O|8760422|US|en|shopify_US_6999980081333_41989116100789 , Fire Hose Spanner Wrench (2-Pack)\u001b[0m(9.68, 69248)\n",
      "\u001b[1m\u001b[4mcds|C|6467954|US|en|1252d54b9fcf668b:en_US , Solo 200 Alarm & Detector Removal Tool, Flat or Angled Ceilings\u001b[0m(9.68, 74277)\n",
      "\u001b[1m\u001b[4mcds|C|6467954|US|en|608005b02c8b3c2a:en_US , Jims USA Compensator Nut Torx Socket Harley Davidson FLRT Freewheeler 2015-2016\u001b[0m(9.62, 74820)\n",
      "\u001b[1m\u001b[4mcds|C|6467954|US|en|a75b993e31a6f776:en_US , Adjustable Operating Wrench, 60 to 108 in\u001b[0m(9.58, 90333)\n",
      "\u001b[1m\u001b[4mcds|C|6467954|US|en|d85b3a670da004b6:en_US , 80C-A16 - PARKER\u001b[0m(9.55, 784)\n",
      "\u001b[1m\u001b[4mcds|O|115809258|US|en|RDI36 , 36\" Double Bend Interchangeable Tip Rod\u001b[0m(9.52, 84262)\n",
      "\u001b[1m\u001b[4mcds|C|6467954|US|en|ce418631b43fe03e:en_US , HHIP 3129-0015 1/2 Inch Shank Knee Feed Adapter for Power Drill\u001b[0m(9.45, 53284)\n",
      "\u001b[1m\u001b[4mcds|O|138357567|US|en|403076218402 , Lathe Vertical Milling Slide Attachment Fixed Base Myford 7 Series\u001b[0m(9.37, 87842)\n",
      "\u001b[1m\u001b[4mcds|C|6467954|US|en|6337dcd82cc48568:en_US , Dino-Lite MS23B Articulating Flex-arm Clamp, Designed for Dino-Lite\u001b[0m(9.37, 19928)\n",
      "\u001b[1m\u001b[4mcds|C|6467954|US|en|ffd777bce430be3d:en_US , Yiranok HVAC Tools - Copper Tube Expander for Air Conditioner and Heater Equipment - Pipe Swaging Tool Hand Drill Accessories - 1/4'', 3/8'', 1/2'',\u001b[0m(9.31, 55253)\n",
      "\u001b[1m\u001b[4mcds|O|11349283|US|en|AM-Z-010 , Tornador Professional Cleaning Tools Tornador Classic Z-010\u001b[0m(9.26, 83120)\n",
      "\u001b[1m\u001b[4mcds|O|299611441|US|en|121957 , Deluxe Rivet Cutter Deluxe Rivet Cutter\u001b[0m(9.15, 10901)\n",
      "\u001b[1m\u001b[4mcds|C|6467954|US|en|f2edf1aaef7d8d03:en_US , QEP 29185114 Laminate/Wood Floor Installation Kit\u001b[0m(9.08, 70070)\n",
      "\u001b[1m\u001b[4mcds|O|3768652|US|en|TTT-XXL-MCT , Veto Pro Pac TP-XXL Meter Pouch and TECH-MCT Tool Bag Combo\u001b[0m(9.06, 38550)\n",
      "\u001b[1m\u001b[4mcds|C|6467954|US|en|1516bae824d60b22:en_US , Firstline Evolve Loc & Twist Starter Kit\u001b[0m(8.98, 1268)\n",
      "\u001b[1m\u001b[4mcds|O|8049|US|en|42242 , Klutch 2Inch Non-Woven Abrasive Pads — 4-Pack, with 1/4Inch Round Shaft Quick Connector\u001b[0m(8.94, 26064)\n",
      "\u001b[1m\u001b[4mcds|C|6467954|US|en|0c29d8b693de5318:en_US , Bon 12-357 Dirt Tamper - 10 inch X 10 inch - 48 inch Wooden Handle\u001b[0m(8.93, 3212)\n",
      "\u001b[1m\u001b[4mcds|O|4159258|US|en|tl0008 , Piercing tool Kit with essential tools to pierce with Leather case Made of Surgical Steel\u001b[0m(8.93, 8383)\n",
      "\u001b[1m\u001b[4mcds|O|113677249|US|en|473919541694_174740468518 , Flexible Head Metric Tubing Ratchet Wrench Repair Tool Open End\u001b[0m(8.92, 35671)\n",
      "\u001b[1m\u001b[4mcds|C|6467954|US|en|4b1dcd3fd068d7f1:en_US , Occidental Leather 8068 Impact, screwgun and Drill Bag\u001b[0m(8.91, 6215)\n",
      "\u001b[1m\u001b[4mcds|C|6467954|US|en|1cb9127a937e5c00:en_US , TapeTech QuickBox QSX 6.5\" Finishing Box\u001b[0m(8.89, 79619)\n",
      "\u001b[1m\u001b[4mcds|C|6467954|US|en|c412b73e1125629f:en_US , VEVOR Tire Dolly Wheel Dolly 300 Lbs Capacity Truck Tire Wheel Dolly Heavy Duty Cart\u001b[0m(8.87, 25967)\n",
      "\u001b[1m\u001b[4mcds|C|6467954|US|en|83993ae52c10297f:en_US , Rockler Dixon Reach Deep-Hole Mechanical Pencil with 12-Pack Lead Refills\u001b[0m(8.86, 96216)\n",
      "\u001b[1m\u001b[4mcds|C|6467954|US|en|d181c61f00d3ea46:en_US , Sorby Scraper, Box - Woodcraft\u001b[0m(8.86, 72374)\n",
      "\u001b[1m\u001b[4mcds|C|6467954|US|en|3fddd6b8adef041a:en_US , Latauar Croissant Cutter, Stainless Steel Croissant Roller Slices with Wooden Handle Perfect Shaped Pastry Dough, Rolling Knife Kitchen Baking Tool.\u001b[0m(8.86, 22650)\n",
      "\u001b[1m\u001b[4mcds|C|6467954|US|en|a0fff59b946f1ee4:en_US , black decker rtx-1 rotary tool for 220 volts\u001b[0m(8.86, 10824)\n",
      "\u001b[1m\u001b[4mcds|C|6467954|US|en|32db9c77f3dd6713:en_US , Music Nomad MN610 Neck Relief Kit Taylor Guitars\u001b[0m(8.85, 30287)\n",
      "\u001b[1m\u001b[4mcds|O|522529553|US|en|402814332981 , Vinyl Lp Turntable Alignment Protractor Tool For Record Player\u001b[0m(8.85, 89321)\n",
      "\u001b[1m\u001b[4mcds|C|6467954|US|en|a7946bbbf24d78f3:en_US , Gerber Gear Processor - Salt Scissors in Steel\u001b[0m(8.84, 26005)\n",
      "\u001b[1m\u001b[4mcds|C|6467954|US|en|40282cfe8a1386e7:en_US , Garage Hooks, 19 Pack Heavy Duty Garage Storage Hooks Steel Tool Hangers for Garage Wall Mount Utility Hooks and Hangers with Anti-Slip Coating for\u001b[0m(8.81, 96523)\n",
      "\u001b[1m\u001b[4mcds|C|6467954|US|en|906a1df4295dc778:en_US , CRAFTSMAN Plastic Socket Storage in Black | CMMT99415\u001b[0m(8.78, 23358)\n",
      "\u001b[1m\u001b[4mcds|C|6467954|US|en|1d875539e7dd23e1:en_US , Starrett Gauge Rod - 6 in Length - 1/4 in Wide - 657X\u001b[0m(8.73, 18899)\n",
      "\u001b[1m\u001b[4mcds|C|6467954|US|en|9bc53e0a912b7c74:en_US , CASOMAN 5/8\" Swivel Magnetic Spark Plug Socket, 3/8\" Drive x 8-Inch Ext. Bar Length, 360 Degree Swivel, Enhanced Magnetic Design, 6 Point, Cr-V Steel\u001b[0m(8.69, 54609)\n",
      "\u001b[1m\u001b[4mcds|C|6467954|US|en|1d06046abf018c19:en_US , Dewalt 8 ft 500 lb Load Capacity Fiberglass Stepladder Model: DXL3810-08\u001b[0m(8.68, 52686)\n",
      "\u001b[1m\u001b[4mcds|C|6467954|US|en|696a73a7bb666e8b:en_US , 4 Way Wood Rasp File, Premium Grade High Carbon Hand File and Round Rasp, Half Round Flat & Needle Files. Best Wood Rasp Set for Sharping Wood and\u001b[0m(8.65, 78064)\n",
      "\u001b[1m\u001b[4mcds|C|6467954|US|en|2ef16cd04f317757:en_US , SUNEX TOOLS Sunex 1889 1/4 in., 3/8 in., and 1/2 in. Drive SAE and Metric Master Chrome Socket Set (89-Piece)\u001b[0m(8.64, 51452)\n",
      "\u001b[1m\u001b[4mcds|C|6467954|US|en|6551d543424e4a4e:en_US , Aurand - KP5V Pneumatic 5\" Surface Scaler, Vac\u001b[0m(8.63, 79333)\n",
      "\u001b[1m\u001b[4mcds|C|6467954|US|en|67cefd2e03b5524a:en_US , Make Your Own Kitchen Tools: Simple Woodworking Projects for Everyday Use by Picciuto, David - Alibris Books, Music & Movies\u001b[0m(8.56, 37868)\n",
      "\u001b[1m\u001b[4mcds|O|259719927|US|en|shopify_US_4390334103630_31625600106574 , Spring Steel Gripper Clip - Half Vinyl Coated - 3/4\"-1 1/8 (#225-HL) 25 pcs\u001b[0m(8.48, 35688)\n",
      "\u001b[1m\u001b[4mcds|C|6467954|US|en|d519e5cae30aa58d:en_US , Stanley Jr. Pull-Back Airplane Kit\u001b[0m(8.48, 76509)\n",
      "\u001b[1m\u001b[4mcds|C|6467954|US|en|53d8015f30b5ed56:en_US , Anytime Tools Angle Block Set 1°, 2°, 3°, 4°, 5°, 10°, 15°, 20°, 25°, 30° Precision +/- 20 Seconds, Machinist Tool, 10 Piece Set\u001b[0m(8.47, 87448)\n",
      "\u001b[1m\u001b[4mcds|O|101640084|US|en|194233254342 , Lego Gray Brick Separator Vintage, Great Condition\u001b[0m(8.44, 37119)\n",
      "\u001b[1m\u001b[4mcds|O|100572154|US|en|082-BE400 , E-Z Trench EZ Trench BE400 Bedscaper Bed Edger 6.5HP Honda Engine\u001b[0m(8.37, 38086)\n",
      "\u001b[1m\u001b[4mcds|C|6467954|US|en|a049dee08b783ffe:en_US , Tweezerman Blackhead Extractor\u001b[0m(8.34, 64331)\n",
      "\u001b[1m\u001b[4mcds|C|6467954|US|en|bf99b0906a1a437b:en_US , Milwaukee 48-22-8271 Heavy Duty Canvas Utility Bucket w/ 75 lbs Weight Capacity\u001b[0m(8.31, 4861)\n",
      "\u001b[1m\u001b[4mcds|C|6467954|US|en|9a2dbefe9e6b86bd:en_US , Autel TPMS Relearn Tool TS408, 2022 Upgraded of Autel MaxiTPMS TS401, Tire Pressure Monitor Sensor Programming and Rest Tool for All Cars, TPMS\u001b[0m(8.29, 55784)\n",
      "\u001b[1m\u001b[4mcds|C|6467954|US|en|79e957ba32392eb3:en_US , ToolkitRC M6D 500W 25A 1-6S Dual Channel DC Smart Charger\u001b[0m(8.24, 24238)\n",
      "\u001b[1m\u001b[4mcds|C|6467954|US|en|c9a19a7bcd839026:en_US , Roberts 10-28 Flooring Installation Kit Flooring Install Kit 4 Boxes\u001b[0m(8.21, 66363)\n",
      "\u001b[1m\u001b[4mcds|C|6467954|US|en|b9b62e8d0b23b697:en_US , 1210 Semi Trailer Air Brake Testing Tool\u001b[0m(8.20, 82136)\n",
      "\u001b[1m\u001b[4mcds|O|487168117|US|en|shopify_US_7146485186729_41048967872681 , Golf Club Groove Sharpener, Re-Grooving Tool and Cleaner for Wedges & Irons\u001b[0m(8.19, 70295)\n",
      "\u001b[1m\u001b[4mcds|O|128026611|US|en|HRP24BH-HA-RP24 , Rock Picks - 24oz Hammer - Carbide Bushing Head & Blade - 12in (30cm) Wood Handle\u001b[0m(8.12, 36984)\n",
      "\u001b[1m\u001b[4mcds|O|8156927|US|en|98NHO26-1 , Mayo Hegar Needle Holder, 5\", Economy - Needle Holders\u001b[0m(8.09, 44337)\n",
      "\u001b[1m\u001b[4mcds|C|6467954|US|en|8c2ecba89fbf3d91:en_US , Westward Screw Extractor: Spiral Flute, 17/32 in Drill Size, For 1\" to 1-3/8\" Bolt Size Model: 2RUP5\u001b[0m(8.09, 10628)\n",
      "\u001b[1m\u001b[4mcds|C|6467954|US|en|763aa1658f3fb254:en_US , 4-inch Molding Flap Sanding Wheel Kit For Drill Press, Pack Of 3, 80, 120, 240 Grit\u001b[0m(8.07, 66058)\n",
      "\u001b[1m\u001b[4mcds|C|6467954|US|en|6d3040c5f8ffcfbf:en_US , TRU TENSION MEGA TOOL BUNDLE 19 - 59-2806\u001b[0m(7.96, 69613)\n",
      "\u001b[1m\u001b[4mcds|C|6467954|US|en|19f2b964884de27b:en_US , Zircon MT7 Metalliscanner - Metal Scanner Detector Locator Zircon\u001b[0m(7.95, 63079)\n",
      "\u001b[1m\u001b[4mcds|C|6467954|US|en|59f2603247de0781:en_US , Freeman P2PFK14 Professional Pneumatic Flooring Nailer Kit with Fasteners (2-Piece) L-Cleat Flooring Nailer, 4-in-1 Mini Flooring Nailer and Stapler\u001b[0m(7.95, 93460)\n",
      "\u001b[1m\u001b[4mcds|O|242947|US|en|406-62006 , Tanner Racing Products 62006 AN Wrench -6AN (11/16\")\u001b[0m(7.93, 91429)\n",
      "\u001b[1m\u001b[4mcds|C|6467954|US|en|177533965f56bb8a:en_US , Zurn Z1180-2IP Solids Interceptor, 15gpm (2-inch Inlet/Outlet)\u001b[0m(7.93, 57049)\n",
      "\u001b[1m\u001b[4mcds|C|6467954|US|en|dab210c273bd9b23:en_US , Sioux Tools 1/4\" Capacity, Air Riveting Hammer - 8 CFM, 4\" Long Stroke, 1/4 NPT Inlet | Part #270A-4\u001b[0m(7.92, 46839)\n",
      "\u001b[1m\u001b[4mcds|O|285493498|US|en|5f6aaec6b475e90049e01b01 , Facial Hair Remover Hair Spring Threading Epilator Lip Eyebrows Smooth Removal\u001b[0m(7.89, 47789)\n",
      "\u001b[1m\u001b[4mcds|C|6467954|US|en|61f4d4de0de2b0bd:en_US , Corner Rounder Mini Punch Set - EK Success - Punches\u001b[0m(7.89, 31986)\n",
      "\u001b[1m\u001b[4mcds|C|6467954|US|en|34faf1273caed3f8:en_US , Foundation | Bench/Wall Mount Repair Stand 360 Rotation, Bench or Wall Mounting\u001b[0m(7.89, 86315)\n",
      "\u001b[1m\u001b[4mcds|C|6467954|US|en|991e3780ea3026be:en_US , Toledo Pipe 42360 1206 Stand fits RIDGID 41855 300 Power Drive\u001b[0m(7.89, 46033)\n"
     ]
    }
   ],
   "source": [
    "print(get_text(A_init.shape[0]-2, Y, temp, sep='\\n'))"
   ]
  },
  {
   "cell_type": "code",
   "execution_count": 49,
   "metadata": {},
   "outputs": [],
   "source": [
    "temp  = sp.load_npz(f'Results/ELIAS/ShoppingAds-100K/Stage-1-0/A_init.npz')"
   ]
  },
  {
   "cell_type": "code",
   "execution_count": 53,
   "metadata": {},
   "outputs": [
    {
     "data": {
      "text/plain": [
       "array([1175, 1280, 1083, ..., 1267, 1201,    0], dtype=int32)"
      ]
     },
     "execution_count": 53,
     "metadata": {},
     "output_type": "execute_result"
    }
   ],
   "source": [
    "temp.getnnz(1)"
   ]
  },
  {
   "cell_type": "code",
   "execution_count": null,
   "metadata": {},
   "outputs": [],
   "source": [
    "sp.save_npz(f'Results/ELIAS/ShoppingAds-10M-v2/Stage-1-0-qbst/A_init.npz', A_init)"
   ]
  },
  {
   "cell_type": "code",
   "execution_count": 69,
   "metadata": {},
   "outputs": [],
   "source": [
    "A_nnz = A_init.getnnz(0)"
   ]
  },
  {
   "cell_type": "code",
   "execution_count": 73,
   "metadata": {},
   "outputs": [
    {
     "ename": "NameError",
     "evalue": "name 'Y' is not defined",
     "output_type": "error",
     "traceback": [
      "\u001b[0;31m---------------------------------------------------------------------------\u001b[0m",
      "\u001b[0;31mNameError\u001b[0m                                 Traceback (most recent call last)",
      "\u001b[0;32m/tmp/ipykernel_6787/4242158411.py\u001b[0m in \u001b[0;36m<module>\u001b[0;34m\u001b[0m\n\u001b[0;32m----> 1\u001b[0;31m \u001b[0mprint\u001b[0m\u001b[0;34m(\u001b[0m\u001b[0mget_text\u001b[0m\u001b[0;34m(\u001b[0m\u001b[0;36m0\u001b[0m\u001b[0;34m,\u001b[0m \u001b[0mY\u001b[0m\u001b[0;34m,\u001b[0m \u001b[0mA_init\u001b[0m\u001b[0;34m,\u001b[0m \u001b[0mK\u001b[0m\u001b[0;34m=\u001b[0m\u001b[0;36m10\u001b[0m\u001b[0;34m)\u001b[0m\u001b[0;34m)\u001b[0m\u001b[0;34m\u001b[0m\u001b[0;34m\u001b[0m\u001b[0m\n\u001b[0m",
      "\u001b[0;31mNameError\u001b[0m: name 'Y' is not defined"
     ]
    }
   ],
   "source": [
    "print(get_text(0, Y, A_init, K=10))"
   ]
  },
  {
   "cell_type": "code",
   "execution_count": 25,
   "metadata": {},
   "outputs": [],
   "source": [
    "A_init = sp.load_npz(f'Results/ELIAS/ShoppingAds-10M-v2/Stage-1-0-qbst/A_init.npz')"
   ]
  },
  {
   "cell_type": "code",
   "execution_count": null,
   "metadata": {},
   "outputs": [],
   "source": [
    "A_nnz = A_init.getnnz(0)\n",
    "\n",
    "A_norm_init = A_init.copy()\n",
    "A_norm_init.data /= A_nnz[A_norm_init.indices]"
   ]
  },
  {
   "cell_type": "code",
   "execution_count": 48,
   "metadata": {},
   "outputs": [],
   "source": [
    "top1k_A_init = retain_topk(A_norm_init, k=1000)"
   ]
  },
  {
   "cell_type": "code",
   "execution_count": 50,
   "metadata": {},
   "outputs": [],
   "source": [
    "sp.save_npz(f'Results/ELIAS/ShoppingAds-10M-v2/Stage-1-0-qbst/A_init.npz', top1k_A_init)"
   ]
  },
  {
   "cell_type": "code",
   "execution_count": 51,
   "metadata": {},
   "outputs": [
    {
     "data": {
      "text/plain": [
       "999.5545383107124"
      ]
     },
     "execution_count": 51,
     "metadata": {},
     "output_type": "execute_result"
    }
   ],
   "source": [
    "top1k_A_init.getnnz(1).mean()"
   ]
  },
  {
   "cell_type": "code",
   "execution_count": 49,
   "metadata": {},
   "outputs": [
    {
     "data": {
      "text/plain": [
       "(31652,)"
      ]
     },
     "execution_count": 49,
     "metadata": {},
     "output_type": "execute_result"
    }
   ],
   "source": [
    "np.where(top1k_A_init.getnnz(0) == 0)[0].shape"
   ]
  },
  {
   "cell_type": "code",
   "execution_count": 26,
   "metadata": {},
   "outputs": [],
   "source": [
    "cmat = sp.load_npz(f'Datasets/ShoppingAds-10M-v2/cmat-131072x100-0.npz')"
   ]
  },
  {
   "cell_type": "code",
   "execution_count": 27,
   "metadata": {},
   "outputs": [],
   "source": [
    "nnz = trn_X_Y.getnnz(0)"
   ]
  },
  {
   "cell_type": "code",
   "execution_count": 30,
   "metadata": {},
   "outputs": [],
   "source": [
    "Y = [x.strip() for x in open(f'{DATA_DIR}/raw-orig/Y.txt').readlines()]"
   ]
  },
  {
   "cell_type": "code",
   "execution_count": 31,
   "metadata": {},
   "outputs": [],
   "source": [
    "def vispoint(x, spmat, X, Y, stats, true_mat=None, sep='', K=-1, expand=False, trnx_nnz=None):\n",
    "    if K == -1: K = spmat[x].nnz\n",
    "    if true_mat is None: true_mat = tst_X_Y\n",
    "        \n",
    "    sorted_inds = spmat[x].indices[np.argsort(-spmat[x].data)][:K]\n",
    "    print(f'x[{x}]: {_c(X[x], attr=\"bold\")}\\n')\n",
    "    for i, ind in enumerate(sorted_inds):\n",
    "        myattr = \"\"\n",
    "        if true_mat[x, ind] > 0.1: myattr=\"yellow\"\n",
    "        print(f'{i+1}) {_c(Y[ind], attr=myattr)} [{ind}] ({\"%.4f\"%spmat[x, ind]}, {stats[ind]})')\n",
    "        if expand:\n",
    "            for j, trn_ind in enumerate(trn_Y_X[ind].indices[:10]):\n",
    "                print(f'\\t{j+1}) {_c(trnX[trn_ind], attr=\"green\")} [{trn_ind}] ({trnx_nnz[trn_ind]})')\n",
    "        print(sep)"
   ]
  },
  {
   "cell_type": "code",
   "execution_count": 43,
   "metadata": {},
   "outputs": [],
   "source": [
    "A_nnz = A_init.getnnz(0)"
   ]
  },
  {
   "cell_type": "code",
   "execution_count": null,
   "metadata": {},
   "outputs": [],
   "source": [
    "norm"
   ]
  },
  {
   "cell_type": "code",
   "execution_count": 42,
   "metadata": {},
   "outputs": [
    {
     "name": "stdout",
     "output_type": "stream",
     "text": [
      "x[10000]: \u001b[1mMama Bracelet | Do Good for Mamas | Larissa Loden Gold Filled / Large\u001b[0m\n",
      "\n",
      "1) \u001b[33mSulcophanaeus achilli pair male female ONE Real Green scarab dung beetles packaged\u001b[0m [7654068] (100.7304, 51)\n",
      "\n",
      "2) \u001b[33mDermestid Beetle Culture Kit\u001b[0m [4416008] (100.4592, 51)\n",
      "\n",
      "3) Dynastes granti male One REAL hercules rhinoceros beetle Arizona Unmounted packaged\u001b[0m [3055133] (100.3330, 51)\n",
      "\n",
      "4) Boneyard Beetleworks Dermestid Beetle Colony - Qty. 700+ (1 Volume\u001b[0m [7619028] (100.2541, 51)\n",
      "\n",
      "5) Dermestid Beetles\u001b[0m [417999] (99.5812, 51)\n",
      "\n",
      "6) \u001b[33m2 x A2 Empress Cicadas DAMAGED WING TIPS | Megapomponia imperatoria A1 | Entomology Taxidermy\u001b[0m [4168700] (99.3469, 51)\n",
      "\n",
      "7) \u001b[33mGreen Lacewing Eggs - Hanging Cards - 25,000 Eggs on Cards | Pest BioControl Solution | Beneficial Organism | ARBICO Organics\u001b[0m [2876855] (99.3220, 51)\n",
      "\n",
      "8) \u001b[33mChafer Beetle in Resin, Insects in Resin, Green Beetle, Curiosities\u001b[0m [301777] (99.1953, 51)\n",
      "\n",
      "9) Texas Beetle Guide, 64 Photo Prints (size 4x6\")\u001b[0m [5299722] (98.1456, 51)\n",
      "\n",
      "10) \u001b[33m(best Deal) Buffalo Beetle Cleaner Crew / Larvae Mix 150/250/ Qtys\u001b[0m [5495510] (97.7597, 51)\n",
      "\n",
      "11) \u001b[33mMeet The Beetles Entomology Lithograph Chart Natural History Print 1928\u001b[0m [6820914] (97.6991, 51)\n",
      "\n",
      "12) \u001b[33mFlorida Beetle Guide, 64 Photo Prints (size 4x6\")\u001b[0m [9421113] (97.6861, 51)\n",
      "\n",
      "13) \u001b[33mTennessee's Finest Brood X Cicada Shells\u001b[0m [5952094] (97.5098, 51)\n",
      "\n",
      "14) Torynorrhina flammea green form One Real scarab beetle Thailand\u001b[0m [7519933] (97.4909, 51)\n",
      "\n",
      "15) Insects Stag Lucanus Beetle Animals Wildlife-20 Inch By 30 Inch Laminated Poster With Bright Colors And Vivid Imagery-Fits Perfectly In Many\u001b[0m [774186] (97.3490, 51)\n",
      "\n",
      "16) \u001b[33mMetal Poster Displate Collection Of Rare Beetles with magnet mounting system included\u001b[0m [1269544] (97.3188, 51)\n",
      "\n",
      "17) \u001b[33mPotato Bug Classic Round Sticker - Custom Stickers - Make Your Own Personalized Decorative Decals\u001b[0m [5546414] (97.0528, 51)\n",
      "\n",
      "18) \u001b[33mLladro Rhinoceros Beetle Sculpture\u001b[0m [9793034] (96.7433, 51)\n",
      "\n",
      "19) Lladró Beetle Hercules\u001b[0m [6977263] (96.7281, 51)\n",
      "\n",
      "20) Pack of 4 scarab beetles ( 2male/2female) Phanaeus vindex 20/25mm UNMOUNTED A1 for all your taxidermy art projects\u001b[0m [9513255] (96.3473, 51)\n",
      "\n",
      "21) \u001b[33mRare Rainbow Stag beetle framed taxidermy - Phalacrognathus muelleri - female\u001b[0m [4805418] (96.2254, 51)\n",
      "\n",
      "22) \u001b[33mHuge Hercules Beetle Fighting Scarab Iron on Patch Dynastes hercules\u001b[0m [5095916] (96.2045, 51)\n",
      "\n",
      "23) 'Insectes I' Graphic Art Print,Poster McGaw Graphics Size: 19\" H x 13\" W x 0.125\" D\u001b[0m [1505023] (96.1775, 51)\n",
      "\n",
      "24) \u001b[33mLoxa flavacollis REAL green shield bug beetle Louisiana USA\u001b[0m [1892564] (96.1398, 51)\n",
      "\n",
      "25) \u001b[33mCicadas - from France - Original Louis Sicard Large\u001b[0m [8260354] (95.6609, 50)\n",
      "\n",
      "26) Beetles - Coleoptera #2 - 1885 - Insect Illustration Poster - 8.5\" x 11\"\u001b[0m [5438602] (95.5237, 51)\n",
      "\n",
      "27) Green Lacewing Eggs - Hanging Cards - 5,000 Eggs on Cards | Pest BioControl Solution | Beneficial Organism | ARBICO Organics\u001b[0m [3753609] (95.4319, 51)\n",
      "\n",
      "28) Xxl Goliath Beetle, A1 Giant Male 90-95 Mm+ D.r.congo / Cameroon\u001b[0m [207104] (95.4199, 51)\n",
      "\n",
      "29) \u001b[33mAssorted Bugs and Beetles! Cool insect species from around the world!\u001b[0m [5569325] (95.2265, 51)\n",
      "\n",
      "30) \u001b[33mCollege Level School Entomology Insect Bug Specimens Choose Species\u001b[0m [4959027] (95.1152, 51)\n",
      "\n",
      "31) Colorful Beetles - Not Foodsafe - Glass Fusing Decal, Ceramic Decal, Enamel Decal\u001b[0m [1865305] (95.0261, 51)\n",
      "\n",
      "32) Real Insect Specimen Beetle Unicorn beetle Scarab Flat Stag beetle Student Observation Teaching DIV\u001b[0m [1093919] (94.9708, 51)\n",
      "\n",
      "33) \u001b[33mGreen Lacewing Eggs - 5,000 Eggs | Pest BioControl Solution (Aphids, Spider Mites + More) | Beneficial Organism | ARBICO Organics\u001b[0m [2145613] (94.9170, 51)\n",
      "\n",
      "34) Mixed Bugs Beetles & Other Insects | Mystery Box of Ethical Unmounted Taxidermy Specimens\u001b[0m [6945991] (94.6431, 51)\n",
      "\n",
      "35) \u001b[33mGreen Lacewing Eggs - Insect Controls | Gardener's Supply Company\u001b[0m [6559286] (94.4586, 51)\n",
      "\n",
      "36) \u001b[33mInsect Killing Jar, 9 oz, Bioquip Products\u001b[0m [3186901] (94.3279, 51)\n",
      "\n",
      "37) Entomology Specimens - Canvas Print Wall Art by Natural History Museum (UK) ( animal art > insects > beetles art)\u001b[0m [521188] (94.0988, 51)\n",
      "\n",
      "38) Japanese Beetle print\u001b[0m [7833862] (93.9142, 51)\n",
      "\n",
      "39) Beetles And Water Beetles Original Double Sided Print From 'A Field Guide To The Insects Of Britain And Northern Europe' 1973\u001b[0m [2413823] (93.6547, 51)\n",
      "\n",
      "40) LLADRO Awesome Insects Hercules Beetle Figurine\u001b[0m [897038] (93.6386, 51)\n",
      "\n",
      "41) \u001b[33mInsects Of The World\u001b[0m [8145321] (93.4973, 51)\n",
      "\n",
      "42) Real large Rhinoceros beetle framed taxidermy - Eupatorus gracilicornis\u001b[0m [3969805] (93.4270, 51)\n",
      "\n",
      "43) \u001b[33mInsects Education Poster 21x33\u001b[0m [4454205] (92.8939, 51)\n",
      "\n",
      "44) Beetle Collection Poster (6\" x 8\") by Kelly King\u001b[0m [6850748] (92.2991, 51)\n",
      "\n",
      "45) Insects - Chart 2 - 1898 - Illustration Poster\u001b[0m [8954333] (92.1696, 51)\n",
      "\n",
      "46) Rare Eggs Of Leaf Insect Phyllium Philipphinicum X25\u001b[0m [7631625] (92.0330, 51)\n",
      "\n",
      "47) Small Beetles Mix, 65 From West Kalimantan\u001b[0m [1378219] (92.0178, 51)\n",
      "\n",
      "48) Poster: Poster: Beetle Poster, 36x24in.\u001b[0m [553025] (91.9201, 51)\n",
      "\n",
      "49) Beetles Original Vintage Double Sided Print From 'A Field Guide To The Insects Of Britain And Northern Europe' 1973\u001b[0m [943590] (91.8045, 51)\n",
      "\n",
      "50) 1916 BARK & SKIN BEETLES Antique Lithograph, Insect Art Print, Entomology, Natural History, Cucujoidea, Dermestidae\u001b[0m [6352130] (91.4584, 51)\n",
      "\n",
      "51) Bug June Bug Flying Insect Insect Beetle-12 Inch BY 18 Inch Laminated Poster With Bright Colors And Vivid Imagery-Fits Perfectly In Many Attractive\u001b[0m [7656094] (91.1996, 51)\n",
      "\n",
      "52) \u001b[33mSVG Insects, Black silhouette, Digital clipart, Files eps, jpg, Insects Design vector, Instant download svg, png, dxf for Cricut\u001b[0m [6325750] (91.0651, 51)\n",
      "\n",
      "53) Beetles Collection, Biorama Preparation\u001b[0m [5958684] (90.4877, 51)\n",
      "\n",
      "54) \u001b[33mEarwig : Amazing Facts about Earwig (Paperback)\u001b[0m [2681640] (90.4632, 51)\n",
      "\n",
      "55) The Beetle-Hunter - Audiobook\u001b[0m [8464133] (90.3707, 50)\n",
      "\n",
      "56) USA Beetle Guide, 64 Photo Prints (size 4x6\")\u001b[0m [1260439] (90.3502, 51)\n",
      "\n",
      "57) Lacewings, 2,500 Count in Green | Gardener's Edge\u001b[0m [9990498] (90.2848, 48)\n",
      "\n",
      "58) \u001b[33m50 Dead Bugs Entomology Class Insect Bug Collection Identified All Usa\u001b[0m [3442691] (90.0243, 51)\n",
      "\n",
      "59) \u001b[33mInsect Identification Educational 24 in x 36 in Posters, by Feenixx, Size: 24.5 x 36.5 Laminated\u001b[0m [2030622] (89.7863, 51)\n",
      "\n",
      "60) \u001b[33m100pcs Insect Pins Specimen For School Entomology Best Lab Steel Disse\u001b[0m [1764265] (89.6564, 51)\n",
      "\n",
      "61) \u001b[33m1948 Insects Original Vintage Print - Entomology - Butterflies - Beetles - Crickets - Bees - Flies - Grubs Mounted and Matted - Wall Décor\u001b[0m [8961296] (89.5824, 51)\n",
      "\n",
      "62) \u001b[33mBlack Buffalo Beetles - Cleaner Crews For Dubia Roaches - Ships Same\u001b[0m [5192987] (89.4888, 49)\n",
      "\n",
      "63) Lamprima adolphinae mounted wings spread REAL framed green beetle\u001b[0m [294102] (89.4714, 51)\n",
      "\n",
      "64) Insect Biodiversity: Science and Society Volume 1\u001b[0m [4919625] (89.2447, 51)\n",
      "\n",
      "65) \u001b[33m100 Dead Bugs Entomology Class School Insect Bug Collection Identified\u001b[0m [3151955] (89.2103, 51)\n",
      "\n",
      "66) Lacewings, 1,000 Count in Green | Gardener's Edge\u001b[0m [9948574] (89.1648, 51)\n",
      "\n",
      "67) Beetles - Coleoptera #2 - 1885 - Insect Illustration Poster, 13\" x 19\", Posters, by Poster-Rama\u001b[0m [9302846] (89.1161, 51)\n",
      "\n",
      "68) Assorted beetles bugs insects Wholesale Mix Lot Collection Choose 1, 5, 10, 25, or 50 pieces\u001b[0m [6745206] (89.0823, 51)\n",
      "\n",
      "69) Green Lacewing Eggs - Hanging Cards - 10,000 Eggs on Cards | Pest BioControl Solution | Beneficial Organism | ARBICO Organics\u001b[0m [9355960] (88.9826, 51)\n",
      "\n",
      "70) Pack of 5 jewel beetles Belionota tricolor , for all your photography and taxidermy art projects\u001b[0m [3889859] (88.8531, 51)\n",
      "\n",
      "71) HUGE Phyllium giganteum, World's Largest Leaf Insect! +140mm GIANT BUG!\u001b[0m [7977184] (88.6969, 51)\n",
      "\n",
      "72) \u001b[33mReal metallic Scarab beetle framed taxidermy - Rhomborrhina resplendens chatanayi\u001b[0m [8252189] (88.6653, 51)\n",
      "\n",
      "73) Assorted beetles bugs insects Wholesale Mix Lot Collection Choose 1, 5, 10, or 50 pieces\u001b[0m [8142749] (88.2901, 51)\n",
      "\n",
      "74) Trays Of Various Beetle Specimens - Natural History Museum (UK) Canvas Wall Art Print ( animal art > insects > beetles art)\u001b[0m [1291214] (88.1743, 51)\n",
      "\n",
      "75) Giant black & white flower beetle Goliathus orientalis Unmonted for artwork, taxidermy project and insect collection.\u001b[0m [4351007] (88.1531, 51)\n",
      "\n",
      "76) Chafer Beetle Wings Open, Green Beetle in Resin, Curiosities\u001b[0m [2464205] (87.8386, 51)\n",
      "\n",
      "77) Learning About and Living With Insects of the Southwest: How to Identify Helpful, Harmful and Venomous Insects (New Condition)\u001b[0m [2086509] (87.8180, 51)\n",
      "\n",
      "78) Real 5 Horned Beetle/ Eupatorus Gracilicornis Flying Form Taxidermy in Transparent Box Display (Black Wooden Box)\u001b[0m [9464483] (87.6749, 51)\n",
      "\n",
      "79) Poster: Poster: Insects & Bugs Charts Poster, 36x24in.\u001b[0m [6023424] (87.6494, 51)\n",
      "\n",
      "80) \u001b[33mJune Beetle on Stand Black, Dark Green, Black/Dark Green, Figurines, by Zentique\u001b[0m [7945895] (87.5787, 51)\n",
      "\n",
      "81) Green Lacewing 1000 Eggs - Good Bugs - Aphid Exterminator By The\u001b[0m [4379745] (87.2524, 51)\n",
      "\n",
      "82) Beetles - Poster\u001b[0m [7266073] (87.1545, 46)\n",
      "\n",
      "83) Large Jewel Scarab beetle framed taxidermy - Chrysina victorina\u001b[0m [405996] (87.1290, 51)\n",
      "\n",
      "84) 51 Insect SVG / Insect Bundle SVG / Cricut / Cut Files / Clipart / Silhouette / Printable / Vector\u001b[0m [9077819] (87.0544, 51)\n",
      "\n",
      "85) \u001b[33mOVERSTOCK: Mixed Real Beetles, Package of 5\u001b[0m [4761091] (86.9738, 51)\n",
      "\n",
      "86) Insect Identification Chart non-laminated\u001b[0m [739678] (86.7073, 51)\n",
      "\n",
      "87) 35+ Dead Bugs Entomology Class Insect Bug Collection Identified Usa In\u001b[0m [7171230] (86.4524, 51)\n",
      "\n",
      "88) Coleoptera: Beetles\u001b[0m [3711201] (86.4122, 51)\n",
      "\n",
      "89) \u001b[33mLarge Scarab beetle framed taxidermy - Mecynorrhina polyphemus confluens\u001b[0m [8241544] (86.2480, 51)\n",
      "\n",
      "90) ABDragons Black Cleaner Beetles Small Pet & Reptile Food, 1000 count\u001b[0m [9698461] (86.1225, 51)\n",
      "\n",
      "91) Book of Beetles : A Life-size Guide to Six Hundred of Nature's Gems\u001b[0m [340930] (85.4399, 51)\n",
      "\n",
      "92) New York Puzzle Company - Vintage Images Insects ~ Insectes - 1000 Piece Jigsaw Puzzle\u001b[0m [8904114] (84.9331, 51)\n",
      "\n",
      "93) LLADRO Rhinoceros White Beetle - White\u001b[0m [9197302] (84.8843, 51)\n",
      "\n",
      "94) Insect Identification Educational Decorative Chart Poster 24 X 36 Free\u001b[0m [5005156] (84.8727, 51)\n",
      "\n",
      "95) 5pcs Garden Ornaments Animals Simulation Cicada Insect Decor Refrigerator Magnets for Home Outdoor Decoration Landscape Education Model Toys Mixed\u001b[0m [8099550] (84.7044, 51)\n",
      "\n",
      "96) moks186 large insect patch - beetle horn\u001b[0m [6006009] (84.5871, 51)\n",
      "\n",
      "97) Bugs, Bees, & Beetles - Gallery Wrapped Canvas Art 28\" x 42\", Posters, by Buyenlarge.com, Inc.\u001b[0m [135859] (83.9581, 51)\n",
      "\n",
      "98) Real green and red scarab beetle framed taxidermy - Dicronorhina derbyana\u001b[0m [8344678] (83.4141, 51)\n",
      "\n",
      "99) Bug Identification Log Book For Kids: Bug Activity Journal, Insect Hunting Book, Insect Collecting Journal, Backyard Bug Book, Kids Nature Notebook\u001b[0m [9701964] (82.9617, 51)\n",
      "\n",
      "100) Weevils of All SIzes / Beetle Mosaic / Composition / Curculionoidea\u001b[0m [4012851] (82.4699, 51)\n",
      "\n"
     ]
    }
   ],
   "source": [
    "vispoint(10000, A_init, Y, Y, nnz, cmat, K=100);"
   ]
  },
  {
   "cell_type": "code",
   "execution_count": null,
   "metadata": {},
   "outputs": [],
   "source": [
    "def gen_A_init(net, trn_embs, trn_Y_X, kappa, device='cpu', bsz=100000):\n",
    "    trn_tensor_embs = torch.tensor(trn_embs).to(device)\n",
    "    M_indices = []; M_values = []\n",
    "    with torch.no_grad():\n",
    "        for ctr in tqdm(range(0, trn_tensor_embs.shape[0], bsz)):\n",
    "            res = torch.mm(trn_tensor_embs[ctr:ctr+bsz], net.w1.weight.T.to(device)) + net.w1.bias.reshape(1, -1).to(device)\n",
    "            res = torch.clamp(net.alpha*F.softmax(res, dim=1), min=0, max=1)\n",
    "            temp = res.topk(net.beam, dim=1)\n",
    "            M_indices.append(temp.indices)\n",
    "            M_values.append(temp.values)\n",
    "\n",
    "    M_indices = torch.vstack(M_indices)\n",
    "    M_values = torch.vstack(M_values)\n",
    "\n",
    "    numx = M_indices.shape[0]\n",
    "    K = M_indices.shape[1]\n",
    "    data_bin = np.ones(numx * K) \n",
    "    data_val = M_values.reshape(-1).cpu().numpy()\n",
    "    inds = M_indices.reshape(-1).cpu().numpy()\n",
    "    indptr = np.arange(0, numx*K + 1, K)\n",
    "    shape = (trn_embs.shape[0], net.w1.weight.shape[0])\n",
    "    \n",
    "    M_bin = sp.csr_matrix((data_bin, inds, indptr), shape)\n",
    "    M_val = sp.csr_matrix((data_val, inds, indptr), shape)\n",
    "    C_bin = trn_Y_X.dot(M_bin)\n",
    "    C_val = trn_Y_X.dot(M_val)\n",
    "\n",
    "    CT_bin = C_bin.T.tocsr()\n",
    "    CT_val = C_val.T.tocsr()\n",
    "    CT_bin_topk = retain_topk(CT_bin, k=kappa)\n",
    "    CT_val_topk = retain_topk(CT_val, k=kappa)\n",
    "    A_init = CT_bin_topk + CT_val_topk\n",
    "    A_init.sum_duplicates()\n",
    "#     A_init = retain_topk(A_init, k=kappa)\n",
    "\n",
    "    return A_init"
   ]
  },
  {
   "cell_type": "markdown",
   "metadata": {},
   "source": [
    "## Prepare for ranker"
   ]
  },
  {
   "cell_type": "code",
   "execution_count": null,
   "metadata": {},
   "outputs": [],
   "source": [
    "trn_embs = net.get_embs(trn_dataset)\n",
    "tst_embs = net.get_embs(tst_dataset)"
   ]
  },
  {
   "cell_type": "code",
   "execution_count": null,
   "metadata": {},
   "outputs": [],
   "source": [
    "trn_dataset = FixedDataset(trn_embs, trn_X_Y)\n",
    "tst_dataset = FixedDataset(tst_embs, tst_X_Y)\n",
    "\n",
    "trn_embs_loader = torch.utils.data.DataLoader(\n",
    "    trn_dataset,\n",
    "    batch_size=args.bsz,\n",
    "    num_workers=4,\n",
    "    collate_fn=XCCollator(args.numy, trn_dataset),\n",
    "    shuffle=False,\n",
    "    pin_memory=True)\n",
    "\n",
    "tst_embs_loader = torch.utils.data.DataLoader(\n",
    "    tst_dataset,\n",
    "    batch_size=args.bsz*2,\n",
    "    num_workers=4,\n",
    "    collate_fn=XCCollator(args.numy, tst_dataset),\n",
    "    shuffle=False,\n",
    "    pin_memory=True)"
   ]
  },
  {
   "cell_type": "code",
   "execution_count": null,
   "metadata": {},
   "outputs": [],
   "source": [
    "tst_score_mat = net.predict(tst_embs_loader, K=100)\n",
    "trn_score_mat = net.predict(trn_embs_loader, K=100)\n",
    "XCMetrics(tst_score_mat, tst_X_Y, inv_prop)\n",
    "XCMetrics(trn_score_mat, trn_X_Y, inv_prop)\n",
    "\n",
    "sp.save_npz(f'{DIR}/trn_score_mat.npz', trn_score_mat)\n",
    "np.save(f'{DIR}/trn_embs.npy', trn_embs)\n",
    "np.save(f'{DIR}/tst_embs.npy', tst_embs)"
   ]
  },
  {
   "cell_type": "code",
   "execution_count": null,
   "metadata": {},
   "outputs": [],
   "source": [
    "sp.save_npz(f'{DIR}/tst_score_mat.npz', score_mat)"
   ]
  },
  {
   "cell_type": "markdown",
   "metadata": {},
   "source": [
    "## Analyse"
   ]
  },
  {
   "cell_type": "code",
   "execution_count": 9,
   "metadata": {},
   "outputs": [],
   "source": [
    "A_init = sp.load_npz(f'Results/ELIAS/ShoppingAds-10M-v2/Stage-1-0/A_init.npz')"
   ]
  },
  {
   "cell_type": "code",
   "execution_count": 20,
   "metadata": {},
   "outputs": [],
   "source": [
    "cmat = sp.load_npz(f'Datasets/ShoppingAds-10M-v2/cmat-131072x100-0.npz')"
   ]
  },
  {
   "cell_type": "code",
   "execution_count": 11,
   "metadata": {},
   "outputs": [
    {
     "data": {
      "text/plain": [
       "(9962290,)"
      ]
     },
     "execution_count": 11,
     "metadata": {},
     "output_type": "execute_result"
    }
   ],
   "source": [
    "np.where(A_init.getnnz(0) > 0)[0].shape"
   ]
  },
  {
   "cell_type": "code",
   "execution_count": 47,
   "metadata": {},
   "outputs": [],
   "source": [
    "A_nnz = A_init.getnnz(0)\n",
    "\n",
    "A_norm_init = A_init.copy()\n",
    "A_norm_init.data /= A_nnz[A_norm_init.indices]\n",
    "\n",
    "top1k_A_init = retain_topk(A_norm_init, k=1000)"
   ]
  },
  {
   "cell_type": "code",
   "execution_count": 52,
   "metadata": {},
   "outputs": [
    {
     "data": {
      "text/plain": [
       "array([12, 14, 14, ..., 26, 29,  6])"
      ]
     },
     "execution_count": 52,
     "metadata": {},
     "output_type": "execute_result"
    }
   ],
   "source": [
    "A_nnz[A_init[0].indices]"
   ]
  },
  {
   "cell_type": "code",
   "execution_count": 66,
   "metadata": {},
   "outputs": [
    {
     "data": {
      "text/plain": [
       "array([14, 13, 18, ...,  3,  0, 14])"
      ]
     },
     "execution_count": 66,
     "metadata": {},
     "output_type": "execute_result"
    }
   ],
   "source": [
    "top1k_A_init.getnnz(0)"
   ]
  },
  {
   "cell_type": "code",
   "execution_count": 76,
   "metadata": {},
   "outputs": [],
   "source": [
    "sp.save_npz(f'{OUT_DIR}/A_init.npz', top1k_A_init)"
   ]
  },
  {
   "cell_type": "code",
   "execution_count": 68,
   "metadata": {},
   "outputs": [],
   "source": [
    "res = csr_to_pad_tensor(top1k_A_init, pad=args.numy)"
   ]
  },
  {
   "cell_type": "code",
   "execution_count": 64,
   "metadata": {},
   "outputs": [
    {
     "data": {
      "text/plain": [
       "tensor([[0.0566, 0.0572, 0.4303,  ..., 0.0571, 0.0571, 0.0571],\n",
       "        [0.0701, 0.0628, 0.0735,  ..., 0.0679, 0.0732, 0.0672],\n",
       "        [0.1769, 0.2494, 0.1033,  ..., 0.0613, 0.0613, 0.0613],\n",
       "        ...,\n",
       "        [0.0762, 0.0654, 0.0599,  ..., 0.0827, 0.0626, 0.0568],\n",
       "        [0.0603, 0.0891, 0.0932,  ..., 0.0967, 0.0959, 0.0972],\n",
       "        [0.7477, 0.9157, 0.8849,  ..., 0.4739, 0.8788, 0.7865]],\n",
       "       device='cuda:11')"
      ]
     },
     "execution_count": 64,
     "metadata": {},
     "output_type": "execute_result"
    }
   ],
   "source": [
    "net.A_norm_nz_vals / net.A_norm_nz_vals.max(dim=1).values.reshape(-1, 1)"
   ]
  },
  {
   "cell_type": "code",
   "execution_count": 72,
   "metadata": {},
   "outputs": [
    {
     "data": {
      "text/plain": [
       "tensor([[1.7678, 1.3529, 4.3026,  ..., 3.1054, 1.0100, 3.2342],\n",
       "        [1.4744, 1.5289, 5.1870,  ..., 1.0056, 0.3653, 3.2915],\n",
       "        [1.3993, 2.6927, 0.1219,  ..., 1.1789, 0.7297, 3.5341],\n",
       "        ...,\n",
       "        [1.3639, 1.6632, 1.5742,  ..., 1.4861, 1.2941, 2.6715],\n",
       "        [5.3591, 2.2278, 0.8571,  ..., 0.9233, 2.2492, 1.4642],\n",
       "        [0.0000, 0.0000, 0.0000,  ..., 0.0000, 0.0000, 0.0000]])"
      ]
     },
     "execution_count": 72,
     "metadata": {},
     "output_type": "execute_result"
    }
   ],
   "source": [
    "res['vals']"
   ]
  },
  {
   "cell_type": "code",
   "execution_count": 74,
   "metadata": {},
   "outputs": [
    {
     "data": {
      "text/plain": [
       "tensor([[0.3344, 0.2559, 0.8139,  ..., 0.5874, 0.1910, 0.6118],\n",
       "        [0.2589, 0.2685, 0.9109,  ..., 0.1766, 0.0642, 0.5781],\n",
       "        [0.2164, 0.4164, 0.0188,  ..., 0.1823, 0.1128, 0.5465],\n",
       "        ...,\n",
       "        [0.2498, 0.3046, 0.2883,  ..., 0.2722, 0.2370, 0.4893],\n",
       "        [0.7143, 0.2969, 0.1142,  ..., 0.1231, 0.2998, 0.1952],\n",
       "        [0.0000, 0.0000, 0.0000,  ..., 0.0000, 0.0000, 0.0000]])"
      ]
     },
     "execution_count": 74,
     "metadata": {},
     "output_type": "execute_result"
    }
   ],
   "source": [
    "res['vals'] / torch.clamp(res['vals'].max(dim=1).values.reshape(-1, 1), min=1e-8)"
   ]
  },
  {
   "cell_type": "code",
   "execution_count": 55,
   "metadata": {},
   "outputs": [
    {
     "data": {
      "text/plain": [
       "(9952630,)"
      ]
     },
     "execution_count": 55,
     "metadata": {},
     "output_type": "execute_result"
    }
   ],
   "source": [
    "np.where(top1k_A_init.getnnz(0) > 0)[0].shape"
   ]
  },
  {
   "cell_type": "code",
   "execution_count": 16,
   "metadata": {},
   "outputs": [],
   "source": [
    "Y = [x.strip() for x in open(f'{DATA_DIR}/raw/Y.txt').readlines()]"
   ]
  },
  {
   "cell_type": "code",
   "execution_count": null,
   "metadata": {},
   "outputs": [],
   "source": [
    "trnX = [x.strip() for x in open(f'{DATA_DIR}/raw/trn_X.txt').readlines()]"
   ]
  },
  {
   "cell_type": "code",
   "execution_count": 44,
   "metadata": {},
   "outputs": [],
   "source": [
    "new_cmat = sp.csr_matrix((net.A_norm_nz_vals.detach().cpu().numpy().ravel(), \n",
    "                         net.A_nz_inds.cpu().numpy().ravel(),\n",
    "                         range(0, net.A_nz_inds.shape[0]*net.A_nz_inds.shape[1]+1, net.A_nz_inds.shape[1])),\n",
    "                         A_init.shape)"
   ]
  },
  {
   "cell_type": "code",
   "execution_count": 30,
   "metadata": {},
   "outputs": [],
   "source": [
    "def vispoint(x, spmat, X, Y, stats, true_mat=None, sep='', K=-1, expand=False, trnx_nnz=None):\n",
    "    if K == -1: K = spmat[x].nnz\n",
    "    if true_mat is None: true_mat = tst_X_Y\n",
    "        \n",
    "    sorted_inds = spmat[x].indices[np.argsort(-spmat[x].data)][:K]\n",
    "    print(f'x[{x}]: {_c(X[x], attr=\"bold\")}\\n')\n",
    "    for i, ind in enumerate(sorted_inds):\n",
    "        myattr = \"\"\n",
    "        if true_mat[x, ind] > 0.1: myattr=\"yellow\"\n",
    "        print(f'{i+1}) {_c(Y[ind], attr=myattr)} [{ind}] ({\"%.4f\"%spmat[x, ind]}, {stats[ind]})')\n",
    "        if expand:\n",
    "            for j, trn_ind in enumerate(trn_Y_X[ind].indices[:10]):\n",
    "                print(f'\\t{j+1}) {_c(trnX[trn_ind], attr=\"green\")} [{trn_ind}] ({trnx_nnz[trn_ind]})')\n",
    "        print(sep)"
   ]
  },
  {
   "cell_type": "code",
   "execution_count": 19,
   "metadata": {},
   "outputs": [],
   "source": [
    "stats = trn_X_Y.getnnz(0)"
   ]
  },
  {
   "cell_type": "code",
   "execution_count": 75,
   "metadata": {},
   "outputs": [
    {
     "name": "stdout",
     "output_type": "stream",
     "text": [
      "x[1]: \u001b[1mOrganic Skinny Natural Tea - Loose Leaf Oolong, 2 oz Bag (approx. 30 servings)\u001b[0m\n",
      "\n",
      "1) \u001b[33mDress The Population Alicia Dress - Garnet - Red - XS\u001b[0m [3911071] (5.6940, 31)\n",
      "\n",
      "2) \u001b[33mDress the Population Alicia Chiffon V-Neck Sleeveless Lace Hem Midi Dress - S\u001b[0m [6566] (5.1870, 51)\n",
      "\n",
      "3) \u001b[33mDRESS THE POPULATION Alicia Chiffon Fit & Flare Dress Blue\u001b[0m [4995972] (4.8683, 51)\n",
      "\n",
      "4) Dress The Population Anable Dress - Brown - M\u001b[0m [9726707] (4.8029, 51)\n",
      "\n",
      "5) \u001b[33mDress the Population Women's Alicia Plunging Mix Media Sleeveless Fit and Flare Midi Dress\u001b[0m [3084982] (4.7050, 51)\n",
      "\n",
      "6) \u001b[33mDress the Population Alicia Mixed Media Midi Dress in Pine at Nordstrom, Size X-Small\u001b[0m [7674273] (4.6261, 51)\n",
      "\n",
      "7) \u001b[33mDress the Population Women's Blair Plunging Fit and Flare Midi Dress\u001b[0m [8326410] (4.6202, 51)\n",
      "\n",
      "8) Dress The Population Dresses | Dress The Population Elisa Embroidered Fit And Flare Dress - Worn Once! | Color: Gold/White | Size: M | Bailz795's\u001b[0m [6141634] (4.5581, 51)\n",
      "\n",
      "9) Dress the Population Elle Sweetheart-Neck Bodycon Dress - Pine - Size S\u001b[0m [6507570] (4.5230, 24)\n",
      "\n",
      "10) \u001b[33mDress the Population Audrey Embroidered Fit & Flare Dress in Lilac/Nude at Nordstrom, Size Large\u001b[0m [4992164] (4.5192, 51)\n",
      "\n",
      "11) \u001b[33mDress The Population Women's Alicia Chiffon Fit & Flare Dress - Midnight Blue - Size XS\u001b[0m [239963] (4.5113, 32)\n",
      "\n",
      "12) \u001b[33mAlicia Dress L / DARK MAGENTA\u001b[0m [2452073] (4.5102, 21)\n",
      "\n",
      "13) Dress the Population Darleen Deep-v Floral-Applique Dress - Black - Size M\u001b[0m [1116545] (4.5024, 51)\n",
      "\n",
      "14) \u001b[33mDress The Population Alicia Dress - Burgundy - Red - XL\u001b[0m [3423570] (4.4549, 17)\n",
      "\n",
      "15) Kathy Dress L / ELECTRIC BLUE M\u001b[0m [711967] (4.4509, 20)\n",
      "\n",
      "16) \u001b[33mDress the Population Women's Audrey Mini Dress in Minrl Blue ude | Large | Lord & Taylor\u001b[0m [3012645] (4.4502, 51)\n",
      "\n",
      "17) \u001b[33mDress the Population Women's Audrey Midi Dress in Ivory/Nude | XS | Lord & Taylor\u001b[0m [4389519] (4.4035, 21)\n",
      "\n",
      "18) Dress The Population Sandra Plunging V-Neck Sleeveless Crepe Gown, Garnet, Women's, L, Sleeveless Gowns\u001b[0m [5399959] (4.3718, 51)\n",
      "\n",
      "19) Dress The Population Darleen Floral-applique Dress - Women's Small,\u001b[0m [4474237] (4.3691, 51)\n",
      "\n",
      "20) \u001b[33mDress the Population Blair Lace Midi Dress - Black/Nude - Size XXS\u001b[0m [3909590] (4.3156, 10)\n",
      "\n",
      "21) Dress the Population Darleen V-Neck Embroidered Mesh Cocktail Dress in Peacock Blue at Nordstrom, Size Xx-Small\u001b[0m [9502125] (4.3121, 30)\n",
      "\n",
      "22) Dress the Population Women's Darleen Sleeveless 3D Floral Fit & Flare Midi Dress\u001b[0m [632455] (4.2529, 42)\n",
      "\n",
      "23) Dress The Population Vanessa Dress - Blue - L\u001b[0m [6140879] (4.2132, 30)\n",
      "\n",
      "24) \u001b[33mDress The Population Alicia Dress - Red - S\u001b[0m [5040813] (4.2087, 50)\n",
      "\n",
      "25) Dress The Population Delphine Dress - Black - M\u001b[0m [3986174] (4.1758, 38)\n",
      "\n",
      "26) \u001b[33mDress The Population Dresses | Dress The Population - Blair Dress - Size Small | Color: Black/Tan | Size: S | Kateylynn's Closet\u001b[0m [5829107] (4.1637, 51)\n",
      "\n",
      "27) \u001b[33mDress the Population Women's Audrey Mini Dress in Minrl Blue ude | 2XS | Lord & Taylor\u001b[0m [7404833] (4.1448, 33)\n",
      "\n",
      "28) \u001b[33mDress The Population Alicia Dress - Midnight Blue - Blue - XL\u001b[0m [4008530] (4.1229, 51)\n",
      "\n",
      "29) \u001b[33mDress The Population Corey Dress - Green - XS\u001b[0m [9232287] (4.1137, 51)\n",
      "\n",
      "30) Dress The Population - Black Dana Dress\u001b[0m [4222726] (4.1083, 27)\n",
      "\n",
      "31) \u001b[33mDress The Population Women's Alicia Chiffon Fit & Flare Dress - Midnight Blue - Size XXS\u001b[0m [8148837] (4.0928, 51)\n",
      "\n",
      "32) Dress The Population Elisa Dress - White - L\u001b[0m [7478926] (4.0699, 44)\n",
      "\n",
      "33) Dress The Population Women's Uma Embroidered Tulle Fit & Flare Dress - Maroon Black Multi - Size Medium\u001b[0m [4111356] (4.0511, 51)\n",
      "\n",
      "34) \u001b[33mDress The Population Corey Dress - Purple - S\u001b[0m [8469595] (4.0282, 51)\n",
      "\n",
      "35) Dress the Population Women's Blair Plunging Fit and Flare Midi Dress\u001b[0m [6713568] (3.9996, 51)\n",
      "\n",
      "36) Dress the Population Women's Darleen Sleeveless Plunging Neckline Fit and Flare Midi Dress\u001b[0m [7366477] (3.9956, 36)\n",
      "\n",
      "37) \u001b[33mDress the Population Women's Corey Plunging Mix Media Cap Sleeve A-line Midi Dress\u001b[0m [9344859] (3.9848, 51)\n",
      "\n",
      "38) Dress the Population Catalina Crepe V-Neck Sleeveless Fit and Flare Dress, Womens, S, Dark Magenta\u001b[0m [4799567] (3.9444, 30)\n",
      "\n",
      "39) Dress The Population Women's Uma Embroidered Tulle Fit & Flare Dress - Maroon Black Multi - Size XXS\u001b[0m [9770079] (3.9158, 51)\n",
      "\n",
      "40) Dress The Population Dresses | Eve Sweetheart Twist Front Sleeveless Midi | Color: Pink | Size: Xs | Sidneyj's Closet\u001b[0m [7459918] (3.9116, 51)\n",
      "\n",
      "41) Dress The Population Alea Dress - White - M\u001b[0m [6136909] (3.8879, 51)\n",
      "\n",
      "42) \u001b[33mDress The Population Alicia Dress - Burgundy - Red - L\u001b[0m [4323702] (3.8874, 51)\n",
      "\n",
      "43) \u001b[33mDress the Population Women's Blair Plunging Fit and Flare Midi Dress\u001b[0m [6374476] (3.8455, 12)\n",
      "\n",
      "44) Elisa Dress S / IVORY\u001b[0m [7437529] (3.8172, 32)\n",
      "\n",
      "45) \u001b[33mDress the Population Women's Blair Plunging Fit and Flare Midi Dress\u001b[0m [7142064] (3.8157, 51)\n",
      "\n",
      "46) \u001b[33mDress The Population Dresses | Dress The Population Metallic Blair Sequin Lace Fit & Flare Dress | Color: Silver | Size: M | Xomykia's Closet\u001b[0m [5868946] (3.8105, 32)\n",
      "\n",
      "47) Dress The Population Maren Dress - Blue - S\u001b[0m [9066308] (3.7935, 51)\n",
      "\n",
      "48) Colette Dress XS / MINERAL BLUE MU\u001b[0m [5144864] (3.7085, 51)\n",
      "\n",
      "49) Dress The Population Silvia Dress - Black - S\u001b[0m [9344418] (3.6757, 51)\n",
      "\n",
      "50) Dress the Population Women's Courtney Sleeveless Veiled Fit & Flare Midi Dress\u001b[0m [2128923] (3.6379, 51)\n",
      "\n",
      "51) Dress The Population Amada Dress - Pink - S\u001b[0m [2460489] (3.6278, 27)\n",
      "\n",
      "52) \u001b[33mAudrey Dress L / LILAC/NUDE\u001b[0m [2215383] (3.6208, 36)\n",
      "\n",
      "53) \u001b[33mDress The Population Women's Owen Asymmetrical Tulip-Hem Dress - Midnight Blue - Size XXS\u001b[0m [9352992] (3.5830, 51)\n",
      "\n",
      "54) Dress The Population Anabel Dress - Black - XS\u001b[0m [4314479] (3.5614, 27)\n",
      "\n",
      "55) Dress the Population Catalina Fit & Flare Cocktail Dress in Black at Nordstrom, Size Medium\u001b[0m [2724288] (3.5380, 51)\n",
      "\n",
      "56) Dress The Population Sidney Dress - Brown - M\u001b[0m [4081731] (3.5366, 51)\n",
      "\n",
      "57) Dress the Population Elisa Lace Fit & Flare Dress in White at Nordstrom, Size Medium\u001b[0m [79531] (3.5156, 51)\n",
      "\n",
      "58) \u001b[33mDress the Population Eden Body-Con Dress in Black at Nordstrom, Size Large\u001b[0m [6002076] (3.4950, 21)\n",
      "\n",
      "59) Dress the Population Sweetheart Neck Back Slit Sleeveless Midi Nicole Dress, Womens, M, Garnet\u001b[0m [6952999] (3.4884, 37)\n",
      "\n",
      "60) Dress the Population Lyla Crepe Cocktail Dress in Navy at Nordstrom, Size X-Small\u001b[0m [2821866] (3.4882, 13)\n",
      "\n",
      "61) Dress the Population Eve Sweetheart Twist Front Sleeveless Midi Sheath Dress in Rouge at Nordstrom Rack, Size X-Large\u001b[0m [8182376] (3.4827, 51)\n",
      "\n",
      "62) \u001b[33mDress The Population Dresses | Dress The Population Blair Lace Dress Nwt | Color: Blue/Tan | Size: Xs | Palmbchprinces's Closet\u001b[0m [61805] (3.4613, 51)\n",
      "\n",
      "63) Dress The Population Women's Anabel Maxi Dress - Port - Size Small\u001b[0m [2326869] (3.4607, 51)\n",
      "\n",
      "64) Audrey Dress M / OFF WHITE/NUDE\u001b[0m [6269432] (3.4591, 30)\n",
      "\n",
      "65) Dress the Population Nellie Floral Embroidered Fit & Flare Dress in Black Multi at Nordstrom, Size Medium\u001b[0m [8217786] (3.4494, 51)\n",
      "\n",
      "66) Ramona Gown L / BLACK\u001b[0m [7373686] (3.4405, 32)\n",
      "\n",
      "67) Dress The Population Women's Uma Embroidered Tulle Fit & Flare Dress - Maroon Black Multi - Size Small\u001b[0m [5301473] (3.4386, 51)\n",
      "\n",
      "68) \u001b[33mCorey Dress S / BLACK\u001b[0m [1747871] (3.4286, 50)\n",
      "\n",
      "69) Dress the Population Women's Lyla Midi Dress in Peacock Blue | Medium | Lord & Taylor\u001b[0m [9383070] (3.4210, 18)\n",
      "\n",
      "70) \u001b[33mBlair Dress XS / GOLD/NUDE\u001b[0m [2882890] (3.4185, 10)\n",
      "\n",
      "71) Dress the Population Women's Audrey Midi Dress in Off White/Nude | Large | Lord & Taylor\u001b[0m [3275926] (3.4139, 51)\n",
      "\n",
      "72) Dress The Population Lyla Dress - Pine - Green - L\u001b[0m [9849180] (3.4127, 51)\n",
      "\n",
      "73) \u001b[33mDress the Population Corey Chiffon Fit & Flare Cocktail Dress in Midnight Blue at Nordstrom, Size Medium\u001b[0m [9745345] (3.4107, 50)\n",
      "\n",
      "74) Dress The Population Catalina Dress - Red - M\u001b[0m [7122912] (3.4046, 19)\n",
      "\n",
      "75) Dress The Population Nadia Dress - Black - M\u001b[0m [7219576] (3.3786, 40)\n",
      "\n",
      "76) Dress The Population Silvia Dress - Black - L\u001b[0m [8521129] (3.3773, 20)\n",
      "\n",
      "77) Catalina Dress S / PEACOCK BLUE\u001b[0m [438948] (3.3750, 34)\n",
      "\n",
      "78) Dress the Population Audrey Embroidered Fit & Flare Dress in Off White/Nude at Nordstrom, Size Xx-Large\u001b[0m [5860017] (3.3713, 51)\n",
      "\n",
      "79) Dress the Population Women's Lita Midi Dress in Black | Large | Lord & Taylor\u001b[0m [2142787] (3.3696, 18)\n",
      "\n",
      "80) Dress the Population Catalina Fit & Flare Cocktail Dress in Black at Nordstrom, Size Small\u001b[0m [7209309] (3.3679, 51)\n",
      "\n",
      "81) \u001b[33mAudrey Dress XS / BLACK/NUDE\u001b[0m [8776560] (3.3604, 21)\n",
      "\n",
      "82) Dress the Population Melina Plunge V-Neck Sleeveless Sheer Tiered Floral Lace Applique Gown - XL\u001b[0m [5600678] (3.3552, 51)\n",
      "\n",
      "83) Dress The Population Women's Blair Sleeveless Sequin Lace Midi Dress - White Nude - Size Large\u001b[0m [3721438] (3.3357, 51)\n",
      "\n",
      "84) \u001b[33mDress The Population Alicia Dress - Black - XS\u001b[0m [9964633] (3.3333, 10)\n",
      "\n",
      "85) \u001b[33mDress the Population Audrey Embroidered Fit & Flare Dress in Canary/Nude at Nordstrom, Size Small\u001b[0m [4750746] (3.3314, 15)\n",
      "\n",
      "86) Dress The Population Cantrelle Dress - Red - XS\u001b[0m [7000001] (3.3178, 16)\n",
      "\n",
      "87) Dress the Population Harlow Floral Embroidered A-Line Dress in Black Multi at Nordstrom, Size Small\u001b[0m [7580140] (3.3099, 51)\n",
      "\n",
      "88) Dress The Population Floral Print Sequin Fit-And-Flare Midi Dress, Gold, Women's, XS, Cocktail & Party Wedding Guest Dresses A-Line Dresses\u001b[0m [1924599] (3.3090, 51)\n",
      "\n",
      "89) \u001b[33mDress The Population Dresses | Dress The Population Corey - Nwt | Color: Blue | Size: S | Villagranar3's Closet\u001b[0m [1318141] (3.2964, 51)\n",
      "\n",
      "90) \u001b[33mDress The Population Alicia Dress - Black - XXS\u001b[0m [2432729] (3.2927, 51)\n",
      "\n",
      "91) Dress The Population Giulia Dress - Black - XS\u001b[0m [9995597] (3.2915, 14)\n",
      "\n",
      "92) Dress the Population Women's Catalina Solid Sleeveless Fit & Flare Midi Dress\u001b[0m [7396068] (3.2855, 51)\n",
      "\n",
      "93) \u001b[33mDress The Population Eden Bodycon Midi Halter Dress, Rouge, Women's, L, Cocktail & Party Wedding Guest Dresses Halter Neck Dresses\u001b[0m [1109996] (3.2648, 51)\n",
      "\n",
      "94) Dress the Population Nicole Floral-Print Bodycon Dress - Black Multi - Size S\u001b[0m [970489] (3.2647, 51)\n",
      "\n",
      "95) \u001b[33mDress the Population Audrey Embroidered Fit & Flare Dress in Black/Nude at Nordstrom, Size Medium\u001b[0m [2177270] (3.2600, 51)\n",
      "\n",
      "96) Dress the Population Courtney Sequin Floral Cocktail Dress in Fuchsia Multi at Nordstrom, Size Medium\u001b[0m [7692905] (3.2589, 39)\n",
      "\n",
      "97) Dress the Population V-Neck Sleeveless Lace Dress in Black-Nude at Nordstrom Rack, Size Large\u001b[0m [3418879] (3.2522, 46)\n",
      "\n",
      "98) Dress the Population 3D Floral Fit & Flare Gown in Pale Mauve Multi at Nordstrom, Size Small\u001b[0m [9803760] (3.2449, 22)\n",
      "\n",
      "99) Dress The Population Elle Dress - Blue - M\u001b[0m [8149665] (3.2406, 51)\n",
      "\n",
      "100) Jordan Gown XS / BURGUNDY\u001b[0m [6310354] (3.2386, 31)\n",
      "\n"
     ]
    }
   ],
   "source": [
    "vispoint(1, top1k_A_init, Y, Y, stats, cmat, K=100)"
   ]
  },
  {
   "cell_type": "code",
   "execution_count": 86,
   "metadata": {
    "ExecuteTime": {
     "end_time": "2022-04-16T04:28:24.946022Z",
     "start_time": "2022-04-16T04:28:24.918185Z"
    }
   },
   "outputs": [],
   "source": [
    "# args.candidates_file = f'Results/Joint-XRL/{args.dataset}/candidates.npz'\n",
    "# DIR = f'Results/Joint-XRL/Amazon-670K/treenetv3-leaf100-beam20-py_joint_tf-bert-base-uncased_xc-lr-0.001_enc-lr-5e-06_bsz-48/'\n",
    "DIR = f'Results/Joint-XRL/LF-AmazonTitles-131K/treenetv3-leaf100-beam20-2-py_joint_tf-distilbert-base-uncased_xc-lr-0.005_enc-lr-3e-05_bsz-420'\n",
    "device = 'cuda:1'\n",
    "args.__dict__ = json.load(open(f'{DIR}/args.json'))\n",
    "args.device = device\n",
    "# args.cluster_nnz = 10\n",
    "# args.max_shorty = 2000"
   ]
  },
  {
   "cell_type": "code",
   "execution_count": 87,
   "metadata": {
    "ExecuteTime": {
     "end_time": "2022-04-16T04:28:29.397968Z",
     "start_time": "2022-04-16T04:28:25.434105Z"
    }
   },
   "outputs": [
    {
     "name": "stderr",
     "output_type": "stream",
     "text": [
      "Some weights of the model checkpoint at distilbert-base-uncased were not used when initializing DistilBertModel: ['vocab_projector.bias', 'vocab_layer_norm.weight', 'vocab_layer_norm.bias', 'vocab_projector.weight', 'vocab_transform.bias', 'vocab_transform.weight']\n",
      "- This IS expected if you are initializing DistilBertModel from the checkpoint of a model trained on another task or with another architecture (e.g. initializing a BertForSequenceClassification model from a BertForPreTraining model).\n",
      "- This IS NOT expected if you are initializing DistilBertModel from the checkpoint of a model that you expect to be exactly identical (initializing a BertForSequenceClassification model from a BertForSequenceClassification model).\n"
     ]
    },
    {
     "name": "stdout",
     "output_type": "stream",
     "text": [
      "Loading candidates matrix file: Results/Joint-XRL/LF-AmazonTitles-131K/treenetv3-leaf100-beam20-2-py_joint_tf-distilbert-base-uncased_xc-lr-0.02_enc-lr-0.0001_bsz-448/candidates.npz\n"
     ]
    }
   ],
   "source": [
    "net = TreeNetV3(args)"
   ]
  },
  {
   "cell_type": "code",
   "execution_count": 88,
   "metadata": {
    "ExecuteTime": {
     "end_time": "2022-04-16T04:28:31.730924Z",
     "start_time": "2022-04-16T04:28:29.402501Z"
    }
   },
   "outputs": [
    {
     "data": {
      "text/plain": [
       "<All keys matched successfully>"
      ]
     },
     "execution_count": 88,
     "metadata": {},
     "output_type": "execute_result"
    }
   ],
   "source": [
    "# DIR = 'Results/Joint-XRL/wiki-500k/treenetv3-leaf100-beam20-py_joint_tf-distilbert-base-uncased_xc-lr-0.001_enc-lr-5e-06_bsz-64'\n",
    "# DIR = OUT_DIR\n",
    "\n",
    "net.load_state_dict(torch.load(f'{DIR}/model.pt', map_location='cpu'))"
   ]
  },
  {
   "cell_type": "code",
   "execution_count": 89,
   "metadata": {
    "ExecuteTime": {
     "end_time": "2022-04-16T04:28:32.554254Z",
     "start_time": "2022-04-16T04:28:31.732561Z"
    }
   },
   "outputs": [],
   "source": [
    "net.to(args.device)\n",
    "net.update()"
   ]
  },
  {
   "cell_type": "code",
   "execution_count": 17,
   "metadata": {
    "ExecuteTime": {
     "end_time": "2022-04-13T14:53:41.848619Z",
     "start_time": "2022-04-13T14:53:41.775642Z"
    }
   },
   "outputs": [],
   "source": [
    "new_cmat = sp.csr_matrix((net.normalized_C.detach().cpu().numpy().ravel(), \n",
    "                         net.candidates.cpu().numpy().ravel(),\n",
    "                         range(0, net.candidates.shape[0]*net.candidates.shape[1]+1, net.candidates.shape[1])),\n",
    "                         cmat.shape)"
   ]
  },
  {
   "cell_type": "code",
   "execution_count": null,
   "metadata": {
    "ExecuteTime": {
     "end_time": "2022-04-04T23:45:57.310989Z",
     "start_time": "2022-04-04T23:45:57.310980Z"
    }
   },
   "outputs": [],
   "source": [
    "net.to(args.device)\n",
    "with torch.no_grad():\n",
    "    net.normalized_C = torch.clamp(net.max_leaf*F.softmax(net.C/net.tau, dim=-1), min=0, max=1)"
   ]
  },
  {
   "cell_type": "code",
   "execution_count": null,
   "metadata": {
    "ExecuteTime": {
     "end_time": "2022-04-04T23:45:57.311655Z",
     "start_time": "2022-04-04T23:45:57.311645Z"
    }
   },
   "outputs": [],
   "source": [
    "net.retain_topk(200)"
   ]
  },
  {
   "cell_type": "code",
   "execution_count": 66,
   "metadata": {
    "ExecuteTime": {
     "end_time": "2022-04-16T04:18:50.773857Z",
     "start_time": "2022-04-16T04:18:46.973018Z"
    }
   },
   "outputs": [],
   "source": [
    "score_mat1 = sp.load_npz(f'Results/Joint-XRL/LF-AmazonTitles-131K/treenetv3-leaf100-beam20-py_joint_tf-distilbert-base-uncased_xc-lr-0.005_enc-lr-3e-05_bsz-420/score_mat.npz')\n",
    "score_mat2 = sp.load_npz(f'Results/Joint-XRL/LF-AmazonTitles-131K/treenetv3-leaf100-beam20-1-py_joint_tf-distilbert-base-uncased_xc-lr-0.005_enc-lr-3e-05_bsz-420/score_mat.npz')\n",
    "score_mat3 = sp.load_npz(f'Results/Joint-XRL/LF-AmazonTitles-131K/treenetv3-leaf100-beam20-2-py_joint_tf-distilbert-base-uncased_xc-lr-0.005_enc-lr-3e-05_bsz-420/score_mat.npz')"
   ]
  },
  {
   "cell_type": "code",
   "execution_count": 69,
   "metadata": {
    "ExecuteTime": {
     "end_time": "2022-04-16T04:20:06.600204Z",
     "start_time": "2022-04-16T04:19:58.852827Z"
    }
   },
   "outputs": [
    {
     "name": "stdout",
     "output_type": "stream",
     "text": [
      "P@1\tP@5\tnDCG@1\tnDCG@5\tPSP@1\tPSP@5\tR@10\tR@20\tR@100\tMRR@10\n",
      "38.7\t18.88\t38.7\t41.71\t29.56\t40.58\t51.4\t56.14\t64.6\t45.41\n",
      "\n",
      "P@1 P@5 nDCG@1 nDCG@5 PSP@1 PSP@5 R@10 R@20 R@100 MRR@10\n",
      "38.7 18.88 38.7 41.71 29.56 40.58 51.4 56.14 64.6 45.41\n",
      "\n"
     ]
    }
   ],
   "source": [
    "XCMetrics(score_mat3+score_mat2, tst_X_Y, inv_prop, disp=True);"
   ]
  },
  {
   "cell_type": "code",
   "execution_count": 67,
   "metadata": {
    "ExecuteTime": {
     "end_time": "2022-04-16T04:18:56.873191Z",
     "start_time": "2022-04-16T04:18:50.778279Z"
    }
   },
   "outputs": [
    {
     "name": "stdout",
     "output_type": "stream",
     "text": [
      "P@1\tP@5\tnDCG@1\tnDCG@5\tPSP@1\tPSP@5\tR@10\tR@20\tR@100\tMRR@10\n",
      "37.9\t18.45\t37.9\t40.76\t29.34\t39.68\t50.13\t54.62\t62.88\t44.45\n",
      "\n",
      "P@1 P@5 nDCG@1 nDCG@5 PSP@1 PSP@5 R@10 R@20 R@100 MRR@10\n",
      "37.9 18.45 37.9 40.76 29.34 39.68 50.13 54.62 62.88 44.45\n",
      "\n"
     ]
    }
   ],
   "source": [
    "XCMetrics(score_mat3, tst_X_Y, inv_prop, disp=True);"
   ]
  },
  {
   "cell_type": "code",
   "execution_count": 65,
   "metadata": {
    "ExecuteTime": {
     "end_time": "2022-04-16T02:19:06.081035Z",
     "start_time": "2022-04-16T02:18:59.648544Z"
    }
   },
   "outputs": [
    {
     "name": "stdout",
     "output_type": "stream",
     "text": [
      "P@1\tP@5\tnDCG@1\tnDCG@5\tPSP@1\tPSP@5\tR@10\tR@20\tR@100\tMRR@10\n",
      "37.72\t18.36\t37.72\t40.55\t29.07\t39.41\t49.85\t54.26\t62.29\t44.24\n",
      "\n",
      "P@1 P@5 nDCG@1 nDCG@5 PSP@1 PSP@5 R@10 R@20 R@100 MRR@10\n",
      "37.72 18.36 37.72 40.55 29.07 39.41 49.85 54.26 62.29 44.24\n",
      "\n"
     ]
    }
   ],
   "source": [
    "XCMetrics(score_mat1, tst_X_Y, inv_prop, disp=True);"
   ]
  },
  {
   "cell_type": "code",
   "execution_count": 90,
   "metadata": {
    "ExecuteTime": {
     "end_time": "2022-04-16T04:29:01.171582Z",
     "start_time": "2022-04-16T04:28:36.146594Z"
    },
    "scrolled": true
   },
   "outputs": [
    {
     "name": "stderr",
     "output_type": "stream",
     "text": [
      "Evaluating: 100%|█████████████████████████████████████████████████████████████████████████████████████████████████████████████████████████████████████████████████████████| 151/151 [00:17<00:00,  8.77it/s]\n"
     ]
    },
    {
     "name": "stdout",
     "output_type": "stream",
     "text": [
      "P@1\tP@5\tnDCG@1\tnDCG@5\tPSP@1\tPSP@5\tR@10\tR@20\tR@100\tMRR@10\n",
      "37.9\t18.45\t37.9\t40.76\t29.34\t39.68\t50.13\t54.62\t62.88\t44.45\n",
      "\n",
      "P@1 P@5 nDCG@1 nDCG@5 PSP@1 PSP@5 R@10 R@20 R@100 MRR@10\n",
      "37.9 18.45 37.9 40.76 29.34 39.68 50.13 54.62 62.88 44.45\n",
      "\n"
     ]
    }
   ],
   "source": [
    "score_mat = net.predict(tst_loader)\n",
    "if tst_filter_mat is not None: _filter(score_mat, tst_filter_mat, copy=False)\n",
    "metrics = XCMetrics(score_mat, tst_X_Y, inv_prop, method=args.expname, disp=True)"
   ]
  },
  {
   "cell_type": "code",
   "execution_count": null,
   "metadata": {
    "ExecuteTime": {
     "end_time": "2022-04-04T23:45:57.317561Z",
     "start_time": "2022-04-04T23:45:57.317550Z"
    }
   },
   "outputs": [],
   "source": [
    "trn_X_Xf = read_sparse_mat(f'{DATA_DIR}/trn_X_Xf.txt', use_xclib=False)\n",
    "tst_X_Xf = read_sparse_mat(f'{DATA_DIR}/tst_X_Xf.txt', use_xclib=False)\n",
    "\n",
    "from sklearn.preprocessing import normalize\n",
    "\n",
    "normalize(trn_X_Xf, copy=False)\n",
    "normalize(tst_X_Xf, copy=False)"
   ]
  },
  {
   "cell_type": "code",
   "execution_count": null,
   "metadata": {
    "ExecuteTime": {
     "end_time": "2022-04-04T23:45:57.318129Z",
     "start_time": "2022-04-04T23:45:57.318120Z"
    }
   },
   "outputs": [],
   "source": [
    "cluster_chain = Indexer.gen(trn_X_Xf.astype(np.float32), indexer_type=\"hierarchicalkmeans\", nr_splits=2048, max_leaf_size=100)\n",
    "trnx_clusters = cluster_chain.chain[-1].T.tocsr()"
   ]
  },
  {
   "cell_type": "code",
   "execution_count": null,
   "metadata": {
    "ExecuteTime": {
     "end_time": "2022-04-04T23:45:57.318988Z",
     "start_time": "2022-04-04T23:45:57.318977Z"
    }
   },
   "outputs": [],
   "source": [
    "# DIR = 'Results/Joint-XRL/LF-AmazonTitles-131K/XRL-cluster-learning-init/'\n",
    "DIR = 'Results/Joint-XRL/LF-AmazonTitles-131K/fcnet-py_batch-bce_tf-distilbert-base-uncased_xc-lr-0.0025_enc-lr-5e-05_bsz-1024/'\n",
    "trn_embs = np.load(f'{DIR}/trn_embs.npy')\n",
    "tst_embs = np.load(f'{DIR}/tst_embs.npy')"
   ]
  },
  {
   "cell_type": "code",
   "execution_count": null,
   "metadata": {
    "ExecuteTime": {
     "end_time": "2022-04-04T23:45:57.319554Z",
     "start_time": "2022-04-04T23:45:57.319545Z"
    },
    "scrolled": true
   },
   "outputs": [],
   "source": [
    "c = np.random.randint(trnx_clusters.shape[0])\n",
    "print(get_text(c, trnX, trnx_clusters, sep='\\n'))"
   ]
  },
  {
   "cell_type": "code",
   "execution_count": null,
   "metadata": {
    "ExecuteTime": {
     "end_time": "2022-04-04T23:45:57.320192Z",
     "start_time": "2022-04-04T23:45:57.320183Z"
    }
   },
   "outputs": [],
   "source": [
    "# normalize(trn_embs, copy=False);\n",
    "# normalize(tst_embs, copy=False);"
   ]
  },
  {
   "cell_type": "code",
   "execution_count": null,
   "metadata": {
    "ExecuteTime": {
     "end_time": "2022-04-04T23:45:57.320871Z",
     "start_time": "2022-04-04T23:45:57.320861Z"
    }
   },
   "outputs": [],
   "source": [
    "import seaborn as sns\n",
    "sns.distplot(np.linalg.norm(trn_embs, axis=-1))"
   ]
  },
  {
   "cell_type": "code",
   "execution_count": null,
   "metadata": {
    "ExecuteTime": {
     "end_time": "2022-04-04T23:45:57.321524Z",
     "start_time": "2022-04-04T23:45:57.321515Z"
    }
   },
   "outputs": [],
   "source": [
    "temp = torch.load('Results/Joint-XRL/LF-AmazonTitles-131K/XRL-cluster-learning-init/model-save.pt', map_location='cpu')"
   ]
  },
  {
   "cell_type": "code",
   "execution_count": null,
   "metadata": {
    "ExecuteTime": {
     "end_time": "2022-04-04T23:45:57.322189Z",
     "start_time": "2022-04-04T23:45:57.322180Z"
    }
   },
   "outputs": [],
   "source": [
    "lbl_embs = F.normalize(temp['w.weight']).numpy()"
   ]
  },
  {
   "cell_type": "code",
   "execution_count": null,
   "metadata": {
    "ExecuteTime": {
     "end_time": "2022-04-04T23:45:57.322902Z",
     "start_time": "2022-04-04T23:45:57.322892Z"
    }
   },
   "outputs": [],
   "source": [
    "cluster_chain = Indexer.gen(lbl_embs, indexer_type=\"hierarchicalkmeans\", nr_splits=2048, max_leaf_size=100)\n",
    "lbl_clusters = cluster_chain.chain[-1].T.tocsr()"
   ]
  },
  {
   "cell_type": "code",
   "execution_count": null,
   "metadata": {
    "ExecuteTime": {
     "end_time": "2022-04-04T23:45:57.323557Z",
     "start_time": "2022-04-04T23:45:57.323548Z"
    }
   },
   "outputs": [],
   "source": [
    "sp.save_npz(f'Results/Joint-XRL/LF-AmazonTitles-131K/XRL-cluster-learning-init/cmat.npz', lbl_clusters)"
   ]
  },
  {
   "cell_type": "code",
   "execution_count": null,
   "metadata": {
    "ExecuteTime": {
     "end_time": "2022-04-04T23:45:57.324391Z",
     "start_time": "2022-04-04T23:45:57.324382Z"
    },
    "scrolled": true
   },
   "outputs": [],
   "source": [
    "es = exact_search({'data': lbl_embs, 'query': lbl_embs, 'K': 10, 'device': 'cuda:1'})\n",
    "nns = es.getnns_gpu()"
   ]
  },
  {
   "cell_type": "code",
   "execution_count": null,
   "metadata": {
    "ExecuteTime": {
     "end_time": "2022-04-04T23:45:57.325488Z",
     "start_time": "2022-04-04T23:45:57.325477Z"
    },
    "scrolled": true
   },
   "outputs": [],
   "source": [
    "# l = np.random.randint(len(Y))\n",
    "l = 2708\n",
    "print(Y[l])\n",
    "print(get_text(l, Y, nns, sep='\\n'))"
   ]
  },
  {
   "cell_type": "code",
   "execution_count": null,
   "metadata": {
    "ExecuteTime": {
     "end_time": "2022-04-04T23:45:57.326068Z",
     "start_time": "2022-04-04T23:45:57.326058Z"
    },
    "scrolled": true
   },
   "outputs": [],
   "source": [
    "c = np.random.randint(lbl_clusters.shape[0])\n",
    "print(get_text(c, Y, lbl_clusters, sep='\\n'))"
   ]
  },
  {
   "cell_type": "code",
   "execution_count": null,
   "metadata": {
    "ExecuteTime": {
     "end_time": "2022-04-04T23:45:57.326924Z",
     "start_time": "2022-04-04T23:45:57.326914Z"
    }
   },
   "outputs": [],
   "source": [
    "from sklearn.preprocessing import normalize\n",
    "\n",
    "cluster_centroids = lbl_clusters.dot(lbl_embs)\n",
    "normalize(cluster_centroids, copy=False);"
   ]
  },
  {
   "cell_type": "code",
   "execution_count": null,
   "metadata": {
    "ExecuteTime": {
     "end_time": "2022-04-04T23:45:57.327488Z",
     "start_time": "2022-04-04T23:45:57.327479Z"
    },
    "scrolled": true
   },
   "outputs": [],
   "source": [
    "c = np.random.randint(trnx_clusters.shape[0])\n",
    "# c = 0\n",
    "print(get_text(c, trnX, trnx_clusters, sep='\\n'))"
   ]
  },
  {
   "cell_type": "code",
   "execution_count": null,
   "metadata": {
    "ExecuteTime": {
     "end_time": "2022-04-04T23:45:57.328325Z",
     "start_time": "2022-04-04T23:45:57.328314Z"
    }
   },
   "outputs": [],
   "source": [
    "w = cluster_centroids\n",
    "# w = cluster_clf_w\n",
    "\n",
    "sim = np.dot(w[c], lbl_embs.T)\n",
    "pos_inds = lbl_clusters[c].indices"
   ]
  },
  {
   "cell_type": "code",
   "execution_count": null,
   "metadata": {
    "ExecuteTime": {
     "end_time": "2022-04-04T23:45:57.328984Z",
     "start_time": "2022-04-04T23:45:57.328974Z"
    }
   },
   "outputs": [],
   "source": [
    "import seaborn as sns"
   ]
  },
  {
   "cell_type": "code",
   "execution_count": null,
   "metadata": {
    "ExecuteTime": {
     "end_time": "2022-04-04T23:45:57.329600Z",
     "start_time": "2022-04-04T23:45:57.329590Z"
    }
   },
   "outputs": [],
   "source": [
    "neg_inds = np.setdiff1d(np.arange(lbl_clusters.shape[1]), pos_inds)\n",
    "neg_inds = neg_inds[np.argsort(sim[neg_inds])][-100:]\n",
    "\n",
    "pos_sim = sim[pos_inds]\n",
    "neg_sim = sim[neg_inds]\n",
    "\n",
    "sns.distplot(pos_sim)\n",
    "sns.distplot(neg_sim)"
   ]
  },
  {
   "cell_type": "code",
   "execution_count": null,
   "metadata": {
    "ExecuteTime": {
     "end_time": "2022-04-04T23:45:57.330333Z",
     "start_time": "2022-04-04T23:45:57.330323Z"
    }
   },
   "outputs": [],
   "source": [
    "print(get_text(1, trnX, trnx_clusters, sep='\\n'))"
   ]
  },
  {
   "cell_type": "code",
   "execution_count": null,
   "metadata": {
    "ExecuteTime": {
     "end_time": "2022-04-04T23:45:57.330929Z",
     "start_time": "2022-04-04T23:45:57.330919Z"
    }
   },
   "outputs": [],
   "source": [
    "ova = XLinearModel.train(trn_embs, trnx_clusters.T.tocsr(), threshold=0)"
   ]
  },
  {
   "cell_type": "code",
   "execution_count": null,
   "metadata": {
    "ExecuteTime": {
     "end_time": "2022-04-04T23:45:57.331774Z",
     "start_time": "2022-04-04T23:45:57.331763Z"
    }
   },
   "outputs": [],
   "source": [
    "cluster_clf_w = ova.model.model_chain[-1].pW.buf.toarray()[:-1].T\n",
    "cluster_clf_b = ova.model.model_chain[-1].pW.buf.toarray()[-1].T"
   ]
  },
  {
   "cell_type": "code",
   "execution_count": null,
   "metadata": {
    "ExecuteTime": {
     "end_time": "2022-04-04T23:45:57.332420Z",
     "start_time": "2022-04-04T23:45:57.332410Z"
    }
   },
   "outputs": [],
   "source": [
    "net.to(args.device);\n",
    "\n",
    "net.retain_topk(120)\n",
    "net.update_parent()"
   ]
  },
  {
   "cell_type": "code",
   "execution_count": null,
   "metadata": {
    "ExecuteTime": {
     "end_time": "2022-04-04T23:45:57.333012Z",
     "start_time": "2022-04-04T23:45:57.333002Z"
    }
   },
   "outputs": [],
   "source": [
    "net.max_shorty = 2000"
   ]
  },
  {
   "cell_type": "code",
   "execution_count": null,
   "metadata": {
    "ExecuteTime": {
     "end_time": "2022-04-04T23:45:57.333650Z",
     "start_time": "2022-04-04T23:45:57.333640Z"
    },
    "scrolled": true
   },
   "outputs": [],
   "source": [
    "topk_score_mat = net.predict(tst_loader, K=2000)\n",
    "_filter(topk_score_mat, tst_filter_mat, copy=False)\n",
    "from xclib.utils.sparse import rank as sp_rank\n",
    "from resources import Recall\n",
    "\n",
    "rank_mat = sp_rank(topk_score_mat)\n",
    "intrsxn_mat = rank_mat.multiply(tst_X_Y)\n",
    "\n",
    "Recall(intrsxn_mat, tst_X_Y, K=[100, 200, 500, 1000, 1200, 2000])"
   ]
  },
  {
   "cell_type": "code",
   "execution_count": null,
   "metadata": {
    "ExecuteTime": {
     "end_time": "2022-04-04T23:45:57.334304Z",
     "start_time": "2022-04-04T23:45:57.334294Z"
    },
    "scrolled": true
   },
   "outputs": [],
   "source": [
    "net.to('cpu');"
   ]
  },
  {
   "cell_type": "code",
   "execution_count": null,
   "metadata": {
    "ExecuteTime": {
     "end_time": "2022-04-04T23:45:57.334949Z",
     "start_time": "2022-04-04T23:45:57.334939Z"
    }
   },
   "outputs": [],
   "source": [
    "net.tau = 0.1\n",
    "net.normalized_C = torch.clamp(net.max_leaf*F.softmax(net.C/net.tau, dim=-1), min=0, max=1)"
   ]
  },
  {
   "cell_type": "code",
   "execution_count": null,
   "metadata": {
    "ExecuteTime": {
     "end_time": "2022-04-04T23:45:57.335687Z",
     "start_time": "2022-04-04T23:45:57.335677Z"
    },
    "scrolled": true
   },
   "outputs": [],
   "source": [
    "net.normalized_C.topk(101)"
   ]
  },
  {
   "cell_type": "code",
   "execution_count": null,
   "metadata": {
    "ExecuteTime": {
     "end_time": "2022-04-04T23:45:57.336209Z",
     "start_time": "2022-04-04T23:45:57.336200Z"
    }
   },
   "outputs": [],
   "source": [
    "net.C.topk(100)"
   ]
  },
  {
   "cell_type": "code",
   "execution_count": null,
   "metadata": {
    "ExecuteTime": {
     "end_time": "2022-04-04T23:45:57.336859Z",
     "start_time": "2022-04-04T23:45:57.336849Z"
    }
   },
   "outputs": [],
   "source": [
    "args.device"
   ]
  },
  {
   "cell_type": "code",
   "execution_count": null,
   "metadata": {
    "ExecuteTime": {
     "end_time": "2022-04-04T23:45:57.337487Z",
     "start_time": "2022-04-04T23:45:57.337477Z"
    },
    "scrolled": true
   },
   "outputs": [],
   "source": [
    "net.load_state_dict(torch.load(f'{OUT_DIR}/model.pt', map_location=args.device))"
   ]
  },
  {
   "cell_type": "code",
   "execution_count": null,
   "metadata": {
    "ExecuteTime": {
     "end_time": "2022-04-04T23:45:57.338200Z",
     "start_time": "2022-04-04T23:45:57.338190Z"
    }
   },
   "outputs": [],
   "source": [
    "net.normalized_C = torch.clamp(net.max_leaf*F.softmax(net.C/net.tau, dim=-1), min=0, max=1)"
   ]
  },
  {
   "cell_type": "code",
   "execution_count": null,
   "metadata": {
    "ExecuteTime": {
     "end_time": "2022-04-04T23:45:57.338989Z",
     "start_time": "2022-04-04T23:45:57.338979Z"
    }
   },
   "outputs": [],
   "source": [
    "net.to(args.device)"
   ]
  },
  {
   "cell_type": "code",
   "execution_count": null,
   "metadata": {
    "ExecuteTime": {
     "end_time": "2022-04-04T23:45:57.339717Z",
     "start_time": "2022-04-04T23:45:57.339707Z"
    }
   },
   "outputs": [],
   "source": [
    "net.normalized_C.topk(101)"
   ]
  },
  {
   "cell_type": "code",
   "execution_count": null,
   "metadata": {
    "ExecuteTime": {
     "end_time": "2022-04-04T23:45:57.340455Z",
     "start_time": "2022-04-04T23:45:57.340445Z"
    }
   },
   "outputs": [],
   "source": [
    "net.cluster_update()"
   ]
  },
  {
   "cell_type": "code",
   "execution_count": null,
   "metadata": {
    "ExecuteTime": {
     "end_time": "2022-04-04T23:45:57.341036Z",
     "start_time": "2022-04-04T23:45:57.341027Z"
    }
   },
   "outputs": [],
   "source": [
    "XCMetrics(_filter(top1k_score_mat, tst_filter_mat, copy=False), tst_X_Y, inv_prop)"
   ]
  },
  {
   "cell_type": "code",
   "execution_count": null,
   "metadata": {
    "ExecuteTime": {
     "end_time": "2022-04-04T23:45:57.341783Z",
     "start_time": "2022-04-04T23:45:57.341773Z"
    }
   },
   "outputs": [],
   "source": [
    "net.cluster_update()"
   ]
  },
  {
   "cell_type": "code",
   "execution_count": null,
   "metadata": {
    "ExecuteTime": {
     "end_time": "2022-04-04T23:45:57.342551Z",
     "start_time": "2022-04-04T23:45:57.342542Z"
    }
   },
   "outputs": [],
   "source": [
    "sort_inds = net.normalized_C.argsort(descending=True)"
   ]
  },
  {
   "cell_type": "code",
   "execution_count": null,
   "metadata": {
    "ExecuteTime": {
     "end_time": "2022-04-04T23:45:57.343212Z",
     "start_time": "2022-04-04T23:45:57.343202Z"
    }
   },
   "outputs": [],
   "source": [
    "net.normalized_C.scatter_(1, sort_inds[:, net.max_leaf:], 0)"
   ]
  },
  {
   "cell_type": "code",
   "execution_count": null,
   "metadata": {
    "ExecuteTime": {
     "end_time": "2022-04-04T23:45:57.343773Z",
     "start_time": "2022-04-04T23:45:57.343764Z"
    }
   },
   "outputs": [],
   "source": [
    "net.to(args.device)\n",
    "with torch.no_grad():\n",
    "    net.normalized_C = torch.clamp(net.max_leaf*F.softmax(net.C/net.tau, dim=-1), min=0, max=1)"
   ]
  },
  {
   "cell_type": "code",
   "execution_count": null,
   "metadata": {
    "ExecuteTime": {
     "end_time": "2022-04-04T23:45:57.345058Z",
     "start_time": "2022-04-04T23:45:57.345047Z"
    },
    "scrolled": true
   },
   "outputs": [],
   "source": [
    "# topk_score_mat = net.predict(tst_loader, K=5000)\n",
    "# _filter(topk_score_mat, tst_filter_mat, copy=False)\n",
    "# from xclib.utils.sparse import rank as sp_rank\n",
    "# from resources import Recall\n",
    "\n",
    "# rank_mat = sp_rank(topk_score_mat)\n",
    "# intrsxn_mat = rank_mat.multiply(tst_X_Y)\n",
    "\n",
    "Recall(intrsxn_mat, tst_X_Y, K=[100, 200, 500, 1000, 1200, 2000, 5000])"
   ]
  },
  {
   "cell_type": "markdown",
   "metadata": {},
   "source": [
    "learnt Recall: {2000: 73.43186116364446,\n",
    " 1200: 68.15101173038651,\n",
    " 1000: 66.20384173248785,\n",
    " 500: 58.6652698977763,\n",
    " 200: 47.00033374123929,\n",
    " 100: 36.948270107909664}\n",
    "\n",
    "original Recall:  {2000: 64.82898851682921,\n",
    " 1200: 64.82898851682921,\n",
    " 1000: 63.05501786133668,\n",
    " 500: 56.21819260577743,\n",
    " 200: 45.67402133471774,\n",
    " 100: 33.16018343407373}\n",
    " \n",
    " {2000: 68.5913153113064,\n",
    " 1200: 64.5524282765355,\n",
    " 1000: 62.865255064832326,\n",
    " 500: 56.187154670523235,\n",
    " 200: 45.64221703069184,\n",
    " 100: 33.191864130233256}"
   ]
  },
  {
   "cell_type": "code",
   "execution_count": null,
   "metadata": {
    "ExecuteTime": {
     "end_time": "2022-04-04T23:45:57.345765Z",
     "start_time": "2022-04-04T23:45:57.345754Z"
    }
   },
   "outputs": [],
   "source": [
    "temp = torch.load('Results/Joint-XRL/LF-AmazonTitles-131K/fcnet-py_ova-bce_tf-none_XRL-batch-bce_xc-lr-1.0_enc-lr-5e-05_bsz-512/model.pt', map_location='cpu')"
   ]
  },
  {
   "cell_type": "code",
   "execution_count": null,
   "metadata": {
    "ExecuteTime": {
     "end_time": "2022-04-04T23:45:57.346340Z",
     "start_time": "2022-04-04T23:45:57.346330Z"
    }
   },
   "outputs": [],
   "source": [
    "w = torch.hstack([temp['w.weight'], temp['w.bias'].reshape(-1, 1)]).numpy()"
   ]
  },
  {
   "cell_type": "code",
   "execution_count": null,
   "metadata": {
    "ExecuteTime": {
     "end_time": "2022-04-04T23:45:57.347000Z",
     "start_time": "2022-04-04T23:45:57.346991Z"
    }
   },
   "outputs": [],
   "source": [
    "bias_tst_embs = np.hstack((tst_embs, np.ones((tst_embs.shape[0], 1))))"
   ]
  },
  {
   "cell_type": "code",
   "execution_count": null,
   "metadata": {
    "ExecuteTime": {
     "end_time": "2022-04-04T23:45:57.347643Z",
     "start_time": "2022-04-04T23:45:57.347634Z"
    }
   },
   "outputs": [],
   "source": [
    "es = exact_search({'data': w, 'query': bias_tst_embs, 'K': 5000, 'metric': 'ip', 'device': args.device})\n",
    "clf_score_mat = es.getnns_gpu()\n",
    "\n",
    "_filter(clf_score_mat, tst_filter_mat, False);"
   ]
  },
  {
   "cell_type": "code",
   "execution_count": null,
   "metadata": {
    "ExecuteTime": {
     "end_time": "2022-04-04T23:45:57.348535Z",
     "start_time": "2022-04-04T23:45:57.348524Z"
    }
   },
   "outputs": [],
   "source": [
    "rank_mat = sp_rank(clf_score_mat)\n",
    "intrsxn_mat = rank_mat.multiply(tst_X_Y)\n",
    "\n",
    "Recall(intrsxn_mat, tst_X_Y, K=[100, 200, 500, 1000, 1200, 2000, 5000])"
   ]
  },
  {
   "cell_type": "code",
   "execution_count": null,
   "metadata": {
    "ExecuteTime": {
     "end_time": "2022-04-04T23:45:57.349237Z",
     "start_time": "2022-04-04T23:45:57.349227Z"
    }
   },
   "outputs": [],
   "source": [
    "XCMetrics(score_mat, tst_X_Y, inv_prop)"
   ]
  },
  {
   "cell_type": "code",
   "execution_count": null,
   "metadata": {
    "ExecuteTime": {
     "end_time": "2022-04-04T23:45:57.349885Z",
     "start_time": "2022-04-04T23:45:57.349875Z"
    }
   },
   "outputs": [],
   "source": [
    "with torch.no_grad():\n",
    "    inds = net.C.argsort(descending=True)\n",
    "    net.C.requires_grad = False\n",
    "    net.C.scatter_(1, inds[:, net.max_leaf:], -1000)\n",
    "    net.normalized_C = torch.clamp(net.max_leaf*F.softmax(net.C/net.tau, dim=-1), min=0, max=1)"
   ]
  },
  {
   "cell_type": "code",
   "execution_count": null,
   "metadata": {
    "ExecuteTime": {
     "end_time": "2022-04-04T23:45:57.350535Z",
     "start_time": "2022-04-04T23:45:57.350526Z"
    }
   },
   "outputs": [],
   "source": [
    "torch.save(net.state_dict(), f'{OUT_DIR}/model-intermediate.pt')"
   ]
  },
  {
   "cell_type": "code",
   "execution_count": null,
   "metadata": {
    "ExecuteTime": {
     "end_time": "2022-04-04T23:45:57.351142Z",
     "start_time": "2022-04-04T23:45:57.351132Z"
    }
   },
   "outputs": [],
   "source": [
    "net.C.min(dim=1)"
   ]
  },
  {
   "cell_type": "code",
   "execution_count": null,
   "metadata": {
    "ExecuteTime": {
     "end_time": "2022-04-04T23:45:57.352002Z",
     "start_time": "2022-04-04T23:45:57.351991Z"
    }
   },
   "outputs": [],
   "source": [
    "res = inds[:, :100].unique(return_counts=True)"
   ]
  },
  {
   "cell_type": "code",
   "execution_count": null,
   "metadata": {
    "ExecuteTime": {
     "end_time": "2022-04-04T23:45:57.352735Z",
     "start_time": "2022-04-04T23:45:57.352724Z"
    }
   },
   "outputs": [],
   "source": [
    "res[1].topk(10)"
   ]
  },
  {
   "cell_type": "code",
   "execution_count": null,
   "metadata": {
    "ExecuteTime": {
     "end_time": "2022-04-04T23:45:57.353410Z",
     "start_time": "2022-04-04T23:45:57.353399Z"
    }
   },
   "outputs": [],
   "source": [
    "res[0][res[1].topk(10).indices]"
   ]
  },
  {
   "cell_type": "code",
   "execution_count": null,
   "metadata": {
    "ExecuteTime": {
     "end_time": "2022-04-04T23:45:57.354150Z",
     "start_time": "2022-04-04T23:45:57.354139Z"
    }
   },
   "outputs": [],
   "source": [
    "nnz[res[0][res[1].topk(10).indices]]"
   ]
  },
  {
   "cell_type": "code",
   "execution_count": null,
   "metadata": {
    "ExecuteTime": {
     "end_time": "2022-04-04T23:45:57.354731Z",
     "start_time": "2022-04-04T23:45:57.354721Z"
    }
   },
   "outputs": [],
   "source": [
    "net.train()"
   ]
  },
  {
   "cell_type": "code",
   "execution_count": null,
   "metadata": {
    "ExecuteTime": {
     "end_time": "2022-04-04T23:45:57.355603Z",
     "start_time": "2022-04-04T23:45:57.355592Z"
    }
   },
   "outputs": [],
   "source": [
    "inds = net.C.argsort(descending=True)\n",
    "net.C.requires_grad = False\n",
    "net.C.scatter_(1, inds[:, 100:], -1000)\n",
    "net.normalized_C = torch.clamp(net.max_leaf*F.softmax(net.C/net.tau, dim=-1), min=0, max=1)"
   ]
  },
  {
   "cell_type": "markdown",
   "metadata": {},
   "source": [
    "## Label disentanglement"
   ]
  },
  {
   "cell_type": "code",
   "execution_count": null,
   "metadata": {
    "ExecuteTime": {
     "end_time": "2022-04-04T23:45:57.356389Z",
     "start_time": "2022-04-04T23:45:57.356378Z"
    }
   },
   "outputs": [],
   "source": [
    "args.OUT_DIR = OUT_DIR\n",
    "args.cluster_nnz = 10\n",
    "args.hidden_dim = args.embs_dim"
   ]
  },
  {
   "cell_type": "code",
   "execution_count": null,
   "metadata": {
    "ExecuteTime": {
     "end_time": "2022-04-04T23:45:57.357142Z",
     "start_time": "2022-04-04T23:45:57.357119Z"
    }
   },
   "outputs": [],
   "source": [
    "net2 = TreeNetV2(args)"
   ]
  },
  {
   "cell_type": "code",
   "execution_count": null,
   "metadata": {
    "ExecuteTime": {
     "end_time": "2022-04-04T23:45:57.357811Z",
     "start_time": "2022-04-04T23:45:57.357800Z"
    },
    "scrolled": true
   },
   "outputs": [],
   "source": [
    "# DIR = 'Results/Joint-XRL/LF-AmazonTitles-131K/treenet-leaf100-beam20-py_batch-bce_tf-distilbert-base-uncased_xc-lr-0.005_enc-lr-0.0001_bsz-256'\n",
    "DIR = 'Results/Joint-XRL/LF-AmazonTitles-131K/treenetv2-leaf100-beam20-py_beam-bce_tf-distilbert-base-uncased_xc-lr-0.015_enc-lr-0.0001_bsz-256/'\n",
    "# DIR = 'Results/Joint-XRL/EURLex-4K/treenetv2-leaf100-beam20-py_beam-bce_tf-distilbert-base-uncased_xc-lr-0.005_enc-lr-5e-05_bsz-128/'\n",
    "# DIR = 'Results/Joint-XRL/wiki-500k/treenetv2-leaf100-beam20-py_beam-bce_tf-distilbert-base-uncased_xc-lr-0.0025_enc-lr-2e-05_bsz-64/'\n",
    "net2.load_state_dict(torch.load(f'{DIR}/model.pt', map_location='cpu'), strict=False)"
   ]
  },
  {
   "cell_type": "code",
   "execution_count": 75,
   "metadata": {
    "ExecuteTime": {
     "end_time": "2022-04-05T18:58:51.614858Z",
     "start_time": "2022-04-05T18:58:13.016738Z"
    }
   },
   "outputs": [
    {
     "name": "stderr",
     "output_type": "stream",
     "text": [
      "Encoding: 100%|█████████████████████████████████████████████████████████████████████████████████████████████████████████████████████████████████████████████████████████| 1152/1152 [00:26<00:00, 44.03it/s]\n",
      "Encoding: 100%|███████████████████████████████████████████████████████████████████████████████████████████████████████████████████████████████████████████████████████████| 527/527 [00:11<00:00, 44.67it/s]\n"
     ]
    }
   ],
   "source": [
    "trn_embs = net.get_embs(trn_dataset)\n",
    "tst_embs = net.get_embs(tst_dataset)\n",
    "# np.save(f'{DIR}/trn_embs.npy', trn_embs)\n",
    "# np.save(f'{DIR}/tst_embs.npy', tst_embs)\n",
    "\n",
    "# DIR = 'Results/Joint-XRL/LF-AmazonTitles-131K/fcnet-py_batch-bce_tf-distilbert-base-uncased_xc-lr-0.0025_enc-lr-5e-05_bsz-1024/'\n",
    "# trn_embs = np.load(f'{DIR}/trn_embs.npy')\n",
    "# tst_embs = np.load(f'{DIR}/tst_embs.npy')"
   ]
  },
  {
   "cell_type": "code",
   "execution_count": null,
   "metadata": {
    "ExecuteTime": {
     "end_time": "2022-04-04T23:45:57.359022Z",
     "start_time": "2022-04-04T23:45:57.359012Z"
    }
   },
   "outputs": [],
   "source": [
    "# net2.to(args.device); net2.cluster_update()\n",
    "\n",
    "# score_mat = net2.predict(tst_loader)\n",
    "# if tst_filter_mat is not None: _filter(score_mat, tst_filter_mat, copy=False)\n",
    "# metrics = XCMetrics(score_mat, tst_X_Y, inv_prop, method=args.expname, disp=True)"
   ]
  },
  {
   "cell_type": "code",
   "execution_count": null,
   "metadata": {
    "ExecuteTime": {
     "end_time": "2022-04-04T23:45:57.359682Z",
     "start_time": "2022-04-04T23:45:57.359673Z"
    }
   },
   "outputs": [],
   "source": [
    "import seaborn as sns\n",
    "sns.histplot(np.linalg.norm(trn_embs, axis=1))"
   ]
  },
  {
   "cell_type": "code",
   "execution_count": 73,
   "metadata": {
    "ExecuteTime": {
     "end_time": "2022-04-05T18:58:05.326137Z",
     "start_time": "2022-04-05T18:58:05.308478Z"
    }
   },
   "outputs": [],
   "source": [
    "M_indices = None; M_values = None;\n",
    "trn_Y_X = trn_X_Y.T.tocsr()\n",
    "def gen_candidates(net, trn_embs, trn_Y_X, max_candidate, device='cpu', bsz=100000):\n",
    "    global M_values, M_indices\n",
    "    trn_tensor_embs = torch.tensor(trn_embs).to(device)\n",
    "    M_indices = []; M_values = []\n",
    "    with torch.no_grad():\n",
    "        for ctr in tqdm(range(0, trn_tensor_embs.shape[0], bsz)):\n",
    "            res = torch.mm(trn_tensor_embs[ctr:ctr+bsz], net.w1.weight.T.to(device)) + net.w1.bias.reshape(1, -1).to(device)\n",
    "            res = torch.clamp(net.cluster_nnz*F.softmax(res, dim=1), min=0, max=1)\n",
    "            temp = res.topk(net.beam, dim=1)\n",
    "            M_indices.append(temp.indices)\n",
    "            M_values.append(temp.values)\n",
    "\n",
    "    M_indices = torch.vstack(M_indices)\n",
    "    M_values = torch.vstack(M_values)\n",
    "\n",
    "    numx = M_indices.shape[0]\n",
    "    K = M_indices.shape[1]\n",
    "    data_bin = np.ones(numx * K) \n",
    "    data_val = M_values.reshape(-1).cpu().numpy()\n",
    "    inds = M_indices.reshape(-1).cpu().numpy()\n",
    "    indptr = np.arange(0, numx*K + 1, K)\n",
    "    shape = (trn_embs.shape[0], net.w1.weight.shape[0])\n",
    "    \n",
    "    M_bin = sp.csr_matrix((data_bin, inds, indptr), shape)\n",
    "    M_val = sp.csr_matrix((data_val, inds, indptr), shape)\n",
    "    C_bin = trn_Y_X.dot(M_bin)\n",
    "    C_val = trn_Y_X.dot(M_val)\n",
    "\n",
    "    CT_bin = C_bin.T.tocsr()\n",
    "    CT_val = C_val.T.tocsr()\n",
    "    CT_bin_topk = retain_topk(CT_bin, k=max_candidate)\n",
    "    CT_val_topk = retain_topk(CT_val, k=max_candidate)\n",
    "    candidates = CT_bin_topk + CT_val_topk\n",
    "    candidates.sum_duplicates()\n",
    "#     candidates = retain_topk(candidates, k=max_candidate)\n",
    "\n",
    "    return candidates"
   ]
  },
  {
   "cell_type": "code",
   "execution_count": 76,
   "metadata": {
    "ExecuteTime": {
     "end_time": "2022-04-05T18:59:05.915765Z",
     "start_time": "2022-04-05T18:59:03.963994Z"
    },
    "scrolled": true
   },
   "outputs": [
    {
     "data": {
      "application/vnd.jupyter.widget-view+json": {
       "model_id": "93a32a086b00415d8af9dbdcd16870dd",
       "version_major": 2,
       "version_minor": 0
      },
      "text/plain": [
       "  0%|          | 0/30 [00:00<?, ?it/s]"
      ]
     },
     "metadata": {},
     "output_type": "display_data"
    }
   ],
   "source": [
    "candidates = gen_candidates(net, trn_embs, trn_X_Y.T.tocsr(), 1000, args.device, 10000)"
   ]
  },
  {
   "cell_type": "code",
   "execution_count": null,
   "metadata": {
    "ExecuteTime": {
     "end_time": "2022-04-04T23:45:57.362099Z",
     "start_time": "2022-04-04T23:45:57.362088Z"
    }
   },
   "outputs": [],
   "source": [
    "numx = M_indices.shape[0]\n",
    "K = M_indices.shape[1]\n",
    "data_bin = np.ones(numx * K) \n",
    "data_val = M_values.reshape(-1).cpu().numpy()\n",
    "inds = M_indices.reshape(-1).cpu().numpy()\n",
    "indptr = np.arange(0, numx*K + 1, K)\n",
    "shape = (trn_embs.shape[0], net.w1.weight.shape[0])\n",
    "\n",
    "M_bin = sp.csr_matrix((data_bin, inds, indptr), shape)\n",
    "M_val = sp.csr_matrix((data_val, inds, indptr), shape)\n",
    "C_bin = trn_Y_X.dot(M_bin)\n",
    "C_val = trn_Y_X.dot(M_val)\n",
    "\n",
    "CT_bin = C_bin.T.tocsr()\n",
    "CT_val = C_val.T.tocsr()\n",
    "# CT_bin_topk = retain_topk(CT_bin, k=max_candidate)\n",
    "# CT_val_topk = retain_topk(CT_val, k=max_candidate)\n",
    "# candidates = CT_bin_topk + CT_val_topk\n",
    "# candidates.sum_duplicates()"
   ]
  },
  {
   "cell_type": "code",
   "execution_count": null,
   "metadata": {
    "ExecuteTime": {
     "end_time": "2022-04-04T23:45:57.362672Z",
     "start_time": "2022-04-04T23:45:57.362663Z"
    }
   },
   "outputs": [],
   "source": [
    "nnz = trn_X_Y.getnnz(0)"
   ]
  },
  {
   "cell_type": "code",
   "execution_count": null,
   "metadata": {
    "ExecuteTime": {
     "end_time": "2022-04-04T23:45:57.363510Z",
     "start_time": "2022-04-04T23:45:57.363499Z"
    }
   },
   "outputs": [],
   "source": [
    "from heapq import heapify, heappush, heappop\n",
    "from sklearn.preprocessing import normalize\n",
    "h = [(-nnz[y], y) for y in range(len(Y))]\n",
    "heapify(h)"
   ]
  },
  {
   "cell_type": "code",
   "execution_count": null,
   "metadata": {
    "ExecuteTime": {
     "end_time": "2022-04-04T23:45:57.364224Z",
     "start_time": "2022-04-04T23:45:57.364213Z"
    }
   },
   "outputs": [],
   "source": [
    "Y_M = [M_val[trn_Y_X[y].indices] for y in tqdm(range(args.numy))]"
   ]
  },
  {
   "cell_type": "code",
   "execution_count": null,
   "metadata": {
    "ExecuteTime": {
     "end_time": "2022-04-04T23:45:57.364890Z",
     "start_time": "2022-04-04T23:45:57.364879Z"
    },
    "scrolled": true
   },
   "outputs": [],
   "source": [
    "new_cmat = sp.lil_matrix((args.nr_splits+1, args.numy))\n",
    "i = 0; TH = 0.5\n",
    "while len(h) > 0:\n",
    "    y_priority, y = heappop(h)\n",
    "    temp = normalize(Y_M[y], norm='max') \n",
    "    temp.data[temp.data < TH] = 0\n",
    "    \n",
    "    c_y_score = np.array(temp.sum(axis=0)).ravel()\n",
    "    c = c_y_score.argmax()\n",
    "    delta_numx = c_y_score.max()\n",
    "    \n",
    "    temp_T = temp.T.tocsr()\n",
    "    new_x = np.setdiff1d(np.arange(temp.shape[0]), temp_T[c].indices[temp_T[c].data > 0])\n",
    "    Y_M[y] = Y_M[y][new_x]\n",
    "    new_y_priority = -Y_M[y].shape[0]\n",
    "    \n",
    "    if new_y_priority < -0.5:\n",
    "        heappush(h, (new_y_priority, y))\n",
    "    new_cmat[c, y] = delta_numx\n",
    "    i += 1 \n",
    "    if i%1000 == 0: \n",
    "        print(f'{i} done, {len(h)} remaining')"
   ]
  },
  {
   "cell_type": "code",
   "execution_count": null,
   "metadata": {
    "ExecuteTime": {
     "end_time": "2022-04-04T23:45:57.365639Z",
     "start_time": "2022-04-04T23:45:57.365628Z"
    }
   },
   "outputs": [],
   "source": [
    "temp.shape"
   ]
  },
  {
   "cell_type": "code",
   "execution_count": null,
   "metadata": {
    "ExecuteTime": {
     "end_time": "2022-04-04T23:45:57.366330Z",
     "start_time": "2022-04-04T23:45:57.366319Z"
    }
   },
   "outputs": [],
   "source": [
    "TH = 0.1\n",
    "temp = M_val.copy()\n",
    "temp.data[temp.data < TH] = 0\n",
    "temp.eliminate_zeros()\n",
    "TH_candidates = temp.T.tocsr().dot(trn_X_Y)"
   ]
  },
  {
   "cell_type": "code",
   "execution_count": null,
   "metadata": {
    "ExecuteTime": {
     "end_time": "2022-04-04T23:45:57.366987Z",
     "start_time": "2022-04-04T23:45:57.366977Z"
    }
   },
   "outputs": [],
   "source": [
    "_filter(TH_candidates, new_cmat, copy=False)"
   ]
  },
  {
   "cell_type": "code",
   "execution_count": null,
   "metadata": {
    "ExecuteTime": {
     "end_time": "2022-04-04T23:45:57.367747Z",
     "start_time": "2022-04-04T23:45:57.367736Z"
    }
   },
   "outputs": [],
   "source": [
    "new_cmat.resize((args.nr_splits+1, args.numy))"
   ]
  },
  {
   "cell_type": "code",
   "execution_count": null,
   "metadata": {
    "ExecuteTime": {
     "end_time": "2022-04-04T23:45:57.368475Z",
     "start_time": "2022-04-04T23:45:57.368465Z"
    }
   },
   "outputs": [],
   "source": [
    "candidates = new_cmat*10 + normalize(TH_candidates, norm='max')"
   ]
  },
  {
   "cell_type": "code",
   "execution_count": null,
   "metadata": {
    "ExecuteTime": {
     "end_time": "2022-04-04T23:45:57.369035Z",
     "start_time": "2022-04-04T23:45:57.369026Z"
    }
   },
   "outputs": [],
   "source": [
    "retain_topk(candidates, k=1000, copy=False)"
   ]
  },
  {
   "cell_type": "code",
   "execution_count": null,
   "metadata": {
    "ExecuteTime": {
     "end_time": "2022-04-04T23:45:57.369839Z",
     "start_time": "2022-04-04T23:45:57.369828Z"
    }
   },
   "outputs": [],
   "source": [
    "new_cmat.data.max()"
   ]
  },
  {
   "cell_type": "code",
   "execution_count": null,
   "metadata": {
    "ExecuteTime": {
     "end_time": "2022-04-04T23:45:57.370380Z",
     "start_time": "2022-04-04T23:45:57.370371Z"
    }
   },
   "outputs": [],
   "source": [
    "TH_candidates.data.max()"
   ]
  },
  {
   "cell_type": "code",
   "execution_count": null,
   "metadata": {
    "ExecuteTime": {
     "end_time": "2022-04-04T23:45:57.371026Z",
     "start_time": "2022-04-04T23:45:57.371016Z"
    }
   },
   "outputs": [],
   "source": [
    "th_nnz = TH_candidates.getnnz(1)"
   ]
  },
  {
   "cell_type": "code",
   "execution_count": null,
   "metadata": {
    "ExecuteTime": {
     "end_time": "2022-04-04T23:45:57.371761Z",
     "start_time": "2022-04-04T23:45:57.371751Z"
    }
   },
   "outputs": [],
   "source": [
    "th_nnz.mean()"
   ]
  },
  {
   "cell_type": "code",
   "execution_count": null,
   "metadata": {
    "ExecuteTime": {
     "end_time": "2022-04-04T23:45:57.372330Z",
     "start_time": "2022-04-04T23:45:57.372320Z"
    }
   },
   "outputs": [],
   "source": [
    "sorted_inds = np.argsort(th_nnz)"
   ]
  },
  {
   "cell_type": "code",
   "execution_count": null,
   "metadata": {
    "ExecuteTime": {
     "end_time": "2022-04-04T23:45:57.373074Z",
     "start_time": "2022-04-04T23:45:57.373064Z"
    }
   },
   "outputs": [],
   "source": [
    "orig_candidates = sp.load_npz(f'{OUT_DIR}/../candidates.npz')"
   ]
  },
  {
   "cell_type": "code",
   "execution_count": null,
   "metadata": {
    "ExecuteTime": {
     "end_time": "2022-04-04T23:45:57.373714Z",
     "start_time": "2022-04-04T23:45:57.373704Z"
    }
   },
   "outputs": [],
   "source": [
    "th_nnz[sorted_inds][:100]"
   ]
  },
  {
   "cell_type": "code",
   "execution_count": null,
   "metadata": {
    "ExecuteTime": {
     "end_time": "2022-04-04T23:45:57.374649Z",
     "start_time": "2022-04-04T23:45:57.374638Z"
    }
   },
   "outputs": [],
   "source": [
    "new_cmat[1747]"
   ]
  },
  {
   "cell_type": "code",
   "execution_count": null,
   "metadata": {
    "ExecuteTime": {
     "end_time": "2022-04-04T23:45:57.375188Z",
     "start_time": "2022-04-04T23:45:57.375179Z"
    }
   },
   "outputs": [],
   "source": [
    "new_cmat = new_cmat.tocsr()"
   ]
  },
  {
   "cell_type": "code",
   "execution_count": 77,
   "metadata": {
    "ExecuteTime": {
     "end_time": "2022-04-05T18:59:17.799250Z",
     "start_time": "2022-04-05T18:59:15.940604Z"
    }
   },
   "outputs": [],
   "source": [
    "sp.save_npz(f'{OUT_DIR}/candidates-v2.npz', candidates)"
   ]
  },
  {
   "cell_type": "code",
   "execution_count": null,
   "metadata": {
    "ExecuteTime": {
     "end_time": "2022-04-04T23:45:57.376526Z",
     "start_time": "2022-04-04T23:45:57.376517Z"
    }
   },
   "outputs": [],
   "source": [
    "new_cmat.getnnz(0).argmax()"
   ]
  },
  {
   "cell_type": "code",
   "execution_count": null,
   "metadata": {
    "ExecuteTime": {
     "end_time": "2022-04-04T23:45:57.377115Z",
     "start_time": "2022-04-04T23:45:57.377106Z"
    }
   },
   "outputs": [],
   "source": [
    "print(get_text(127750, range(2048), new_cmat.T.tocsr()))"
   ]
  },
  {
   "cell_type": "code",
   "execution_count": null,
   "metadata": {
    "ExecuteTime": {
     "end_time": "2022-04-04T23:45:57.377765Z",
     "start_time": "2022-04-04T23:45:57.377755Z"
    }
   },
   "outputs": [],
   "source": [
    "trn_embs = net.get_embs(trn_dataset)\n",
    "tst_embs = net.get_embs(tst_dataset)"
   ]
  },
  {
   "cell_type": "code",
   "execution_count": null,
   "metadata": {
    "ExecuteTime": {
     "end_time": "2022-04-04T23:45:57.378471Z",
     "start_time": "2022-04-04T23:45:57.378461Z"
    }
   },
   "outputs": [],
   "source": [
    "# net.to('cpu')\n",
    "tau = 1\n",
    "trn_Y_X = trn_X_Y.T.tocsr()\n",
    "tst_tensor_embs = torch.tensor(tst_embs)\n",
    "trn_tensor_embs = torch.tensor(trn_embs)\n",
    "\n",
    "w = net.w1.weight.T.cpu()\n",
    "b = net.w1.bias.cpu()\n",
    "# w = torch.tensor(cluster_clf_w.T)\n",
    "# b = torch.tensor(cluster_clf_b)\n",
    "# w = torch.tensor(cluster_centroids.T)\n",
    "# b = torch.zeros(w.shape[1])\n",
    "\n",
    "with torch.no_grad():\n",
    "    res = torch.mm(trn_tensor_embs, w) + b.reshape(1, -1)\n",
    "    res = torch.clamp(net.cluster_nnz*F.softmax(res/tau, dim=1), min=0, max=1)\n",
    "\n",
    "M = res.topk(20, dim=1)\n",
    "\n",
    "numx = M.indices.shape[0]\n",
    "K = M.indices.shape[1]\n",
    "data_bin = np.ones(numx * K) \n",
    "data_val = M.values.reshape(-1).cpu().numpy()\n",
    "inds = M.indices.reshape(-1).numpy()\n",
    "indptr = np.arange(0, numx*K + 1, K)\n",
    "\n",
    "M_bin = sp.csr_matrix((data_bin, inds, indptr), res.shape)\n",
    "M_val = sp.csr_matrix((data_val, inds, indptr), res.shape)\n",
    "C_bin = trn_Y_X.dot(M_bin)\n",
    "C_val = trn_Y_X.dot(M_val)"
   ]
  },
  {
   "cell_type": "code",
   "execution_count": null,
   "metadata": {
    "ExecuteTime": {
     "end_time": "2022-04-04T23:45:57.379035Z",
     "start_time": "2022-04-04T23:45:57.379026Z"
    }
   },
   "outputs": [],
   "source": [
    "CT = C_bin.T.tocsr()\n",
    "CT_val = C_val.T.tocsr()\n",
    "\n",
    "CT_topk = retain_topk(CT, k=1000)\n",
    "CT_val_topk = retain_topk(CT_val, k=1000)\n",
    "\n",
    "candidates = CT_topk + CT_val_topk\n",
    "\n",
    "candidates.sum_duplicates()"
   ]
  },
  {
   "cell_type": "code",
   "execution_count": null,
   "metadata": {
    "ExecuteTime": {
     "end_time": "2022-04-04T23:45:57.379727Z",
     "start_time": "2022-04-04T23:45:57.379717Z"
    },
    "scrolled": true
   },
   "outputs": [],
   "source": [
    "print(get_text(4735, Y, candidates, K=2000, sep='\\n'))"
   ]
  },
  {
   "cell_type": "code",
   "execution_count": null,
   "metadata": {
    "ExecuteTime": {
     "end_time": "2022-04-04T23:45:57.380551Z",
     "start_time": "2022-04-04T23:45:57.380541Z"
    }
   },
   "outputs": [],
   "source": [
    "nnz = trn_X_Y.getnnz(0)\n",
    "trnx_nnz = trn_X_Y.getnnz(1)\n",
    "trn_Y_X = trn_X_Y.T.tocsr()"
   ]
  },
  {
   "cell_type": "code",
   "execution_count": null,
   "metadata": {
    "ExecuteTime": {
     "end_time": "2022-04-04T23:45:57.381211Z",
     "start_time": "2022-04-04T23:45:57.381201Z"
    }
   },
   "outputs": [],
   "source": [
    "np.where(candidates.getnnz(0)[:-1] == 0)[0].shape[0], nnz[np.where(candidates.getnnz(0)[:-1] == 0)[0]].mean()"
   ]
  },
  {
   "cell_type": "code",
   "execution_count": null,
   "metadata": {
    "ExecuteTime": {
     "end_time": "2022-04-04T23:45:57.381716Z",
     "start_time": "2022-04-04T23:45:57.381706Z"
    }
   },
   "outputs": [],
   "source": [
    "cmat_nnz = candidates.getnnz(0)"
   ]
  },
  {
   "cell_type": "code",
   "execution_count": null,
   "metadata": {
    "ExecuteTime": {
     "end_time": "2022-04-04T23:45:57.382388Z",
     "start_time": "2022-04-04T23:45:57.382378Z"
    }
   },
   "outputs": [],
   "source": [
    "Y[281042]"
   ]
  },
  {
   "cell_type": "code",
   "execution_count": null,
   "metadata": {
    "ExecuteTime": {
     "end_time": "2022-04-04T23:45:57.383030Z",
     "start_time": "2022-04-04T23:45:57.383021Z"
    }
   },
   "outputs": [],
   "source": [
    "cmat_nnz.argmax()"
   ]
  },
  {
   "cell_type": "code",
   "execution_count": null,
   "metadata": {
    "ExecuteTime": {
     "end_time": "2022-04-04T23:45:57.383775Z",
     "start_time": "2022-04-04T23:45:57.383765Z"
    }
   },
   "outputs": [],
   "source": [
    "candidates.getcol(281042).T.indices"
   ]
  },
  {
   "cell_type": "code",
   "execution_count": null,
   "metadata": {
    "ExecuteTime": {
     "end_time": "2022-04-04T23:45:57.384321Z",
     "start_time": "2022-04-04T23:45:57.384312Z"
    }
   },
   "outputs": [],
   "source": [
    "cmat[4735, 281042]"
   ]
  },
  {
   "cell_type": "code",
   "execution_count": null,
   "metadata": {
    "ExecuteTime": {
     "end_time": "2022-04-04T23:45:57.384974Z",
     "start_time": "2022-04-04T23:45:57.384965Z"
    }
   },
   "outputs": [],
   "source": [
    "print(get_text(281042, range(candidates.shape[0]), candidates.T.tocsr(), sep='\\n'))"
   ]
  },
  {
   "cell_type": "code",
   "execution_count": null,
   "metadata": {
    "ExecuteTime": {
     "end_time": "2022-04-04T23:45:57.385620Z",
     "start_time": "2022-04-04T23:45:57.385611Z"
    }
   },
   "outputs": [],
   "source": [
    "sp.save_npz(f'{DIR}/candidates.npz', candidates)\n",
    "# sp.save_npz(f'Results/Joint-XRL/LF-AmazonTitles-131K/fcnet-py_batch-bce_tf-distilbert-base-uncased_xc-lr-0.0025_enc-lr-5e-05_bsz-1024/candidates.npz', candidates)\n",
    "# sp.save_npz(f'Results/Joint-XRL/LF-AmazonTitles-131K/XRL-cluster-learning-init/candidates.npz', candidates)"
   ]
  },
  {
   "cell_type": "code",
   "execution_count": null,
   "metadata": {
    "ExecuteTime": {
     "end_time": "2022-04-04T23:45:57.386353Z",
     "start_time": "2022-04-04T23:45:57.386344Z"
    }
   },
   "outputs": [],
   "source": [
    "np.save(f'Results/Joint-XRL/LF-AmazonTitles-131K/fcnet-py_batch-bce_tf-distilbert-base-uncased_xc-lr-0.0025_enc-lr-5e-05_bsz-1024/cluster_clf_w.npy', cluster_clf_w)\n",
    "np.save(f'Results/Joint-XRL/LF-AmazonTitles-131K/fcnet-py_batch-bce_tf-distilbert-base-uncased_xc-lr-0.0025_enc-lr-5e-05_bsz-1024/cluster_clf_b.npy', cluster_clf_b)"
   ]
  },
  {
   "cell_type": "markdown",
   "metadata": {},
   "source": [
    "## Visualize"
   ]
  },
  {
   "cell_type": "code",
   "execution_count": 33,
   "metadata": {
    "ExecuteTime": {
     "end_time": "2022-04-05T17:58:53.872581Z",
     "start_time": "2022-04-05T17:58:53.867622Z"
    }
   },
   "outputs": [],
   "source": [
    "def vispoint(x, spmat, X, Y, stats, true_mat=None, sep='', K=-1, expand=False, trnx_nnz=None):\n",
    "    if K == -1: K = spmat[x].nnz\n",
    "    if true_mat is None: true_mat = tst_X_Y\n",
    "        \n",
    "    sorted_inds = spmat[x].indices[np.argsort(-spmat[x].data)][:K]\n",
    "    print(f'x[{x}]: {_c(X[x], attr=\"bold\")}\\n')\n",
    "    for i, ind in enumerate(sorted_inds):\n",
    "        myattr = \"\"\n",
    "        if true_mat[x, ind] > 0.1: myattr=\"yellow\"\n",
    "        print(f'{i+1}) {_c(Y[ind], attr=myattr)} [{ind}] ({\"%.4f\"%spmat[x, ind]}, {stats[ind]})')\n",
    "        if expand:\n",
    "            for j, trn_ind in enumerate(trn_Y_X[ind].indices[:10]):\n",
    "                print(f'\\t{j+1}) {_c(trnX[trn_ind], attr=\"green\")} [{trn_ind}] ({trnx_nnz[trn_ind]})')\n",
    "        print(sep)"
   ]
  },
  {
   "cell_type": "code",
   "execution_count": 62,
   "metadata": {
    "ExecuteTime": {
     "end_time": "2022-04-05T18:06:30.000152Z",
     "start_time": "2022-04-05T18:06:29.843110Z"
    }
   },
   "outputs": [],
   "source": [
    "candidates = sp.load_npz(args.candidates_file)"
   ]
  },
  {
   "cell_type": "code",
   "execution_count": 34,
   "metadata": {
    "ExecuteTime": {
     "end_time": "2022-04-05T17:59:11.527852Z",
     "start_time": "2022-04-05T17:59:11.290912Z"
    }
   },
   "outputs": [
    {
     "data": {
      "text/plain": [
       "<2049x131074 sparse matrix of type '<class 'numpy.float32'>'\n",
       "\twith 409800 stored elements in Compressed Sparse Row format>"
      ]
     },
     "execution_count": 34,
     "metadata": {},
     "output_type": "execute_result"
    }
   ],
   "source": [
    "retain_topk(new_cmat, copy=False, k=200)"
   ]
  },
  {
   "cell_type": "code",
   "execution_count": 35,
   "metadata": {
    "ExecuteTime": {
     "end_time": "2022-04-05T17:59:28.444438Z",
     "start_time": "2022-04-05T17:59:28.424559Z"
    }
   },
   "outputs": [],
   "source": [
    "nnz = trn_X_Y.getnnz(0)\n",
    "trnx_nnz = trn_X_Y.getnnz(1)\n",
    "trn_Y_X = trn_X_Y.T.tocsr()"
   ]
  },
  {
   "cell_type": "code",
   "execution_count": 81,
   "metadata": {
    "ExecuteTime": {
     "end_time": "2022-04-05T18:59:55.524553Z",
     "start_time": "2022-04-05T18:59:55.502440Z"
    },
    "scrolled": true
   },
   "outputs": [
    {
     "data": {
      "text/plain": [
       "(8, 1.0)"
      ]
     },
     "execution_count": 81,
     "metadata": {},
     "output_type": "execute_result"
    }
   ],
   "source": [
    "np.where(candidates.getnnz(0)[:-1] == 0)[0].shape[0], nnz[np.where(candidates.getnnz(0)[:-1] == 0)[0]].mean()"
   ]
  },
  {
   "cell_type": "code",
   "execution_count": 37,
   "metadata": {
    "ExecuteTime": {
     "end_time": "2022-04-05T17:59:36.279497Z",
     "start_time": "2022-04-05T17:59:36.269620Z"
    }
   },
   "outputs": [],
   "source": [
    "cmat_nnz = new_cmat.getnnz(0)\n",
    "# topk_new_cmat = retain_topk(new_cmat, k=100)\n",
    "th_new_cmat = new_cmat.copy()\n",
    "th_new_cmat.data[th_new_cmat.data < 0.3] = 0\n",
    "th_new_cmat.eliminate_zeros()\n",
    "th_cmat_nnz = th_new_cmat.getnnz(0)"
   ]
  },
  {
   "cell_type": "code",
   "execution_count": 69,
   "metadata": {
    "ExecuteTime": {
     "end_time": "2022-04-05T18:08:20.179342Z",
     "start_time": "2022-04-05T18:08:19.980429Z"
    }
   },
   "outputs": [],
   "source": [
    "stats = list(zip(nnz, th_cmat_nnz))\n",
    "stats.append((0, 0))"
   ]
  },
  {
   "cell_type": "code",
   "execution_count": 80,
   "metadata": {
    "ExecuteTime": {
     "end_time": "2022-04-05T18:59:42.677582Z",
     "start_time": "2022-04-05T18:59:42.483179Z"
    }
   },
   "outputs": [
    {
     "data": {
      "text/plain": [
       "94.4787701317716"
      ]
     },
     "execution_count": 80,
     "metadata": {},
     "output_type": "execute_result"
    }
   ],
   "source": [
    "temp = retain_topk(candidates, k=2000)\n",
    "temp.resize(*new_cmat.shape)\n",
    "new_cmat.multiply(temp).getnnz(1).mean()*100/new_cmat.getnnz(1).mean()"
   ]
  },
  {
   "cell_type": "code",
   "execution_count": 70,
   "metadata": {
    "ExecuteTime": {
     "end_time": "2022-04-05T18:08:21.316959Z",
     "start_time": "2022-04-05T18:08:21.271915Z"
    }
   },
   "outputs": [
    {
     "name": "stdout",
     "output_type": "stream",
     "text": [
      "x[1638]: \u001b[1mDigital Communications: Fundamentals and Applications (2nd Edition)\u001b[0m\n",
      "\n",
      "1) Toll of the Sea (1922) / Shifting Sand (1918) (Silent) (1918)\u001b[0m [129176] (1.0000, (4, 2))\n",
      "\n",
      "2) \u001b[33mSources of Chinese Tradition, Vol. 1\u001b[0m [3506] (1.0000, (23, 4))\n",
      "\n",
      "3) The Invention of World Religions: Or, How European Universalism Was Preserved in the Language of Pluralism\u001b[0m [3396] (1.0000, (6, 3))\n",
      "\n",
      "4) \u001b[33mEverybody Loves You\u001b[0m [68103] (1.0000, (1, 1))\n",
      "\n",
      "5) \u001b[33mThe Rights of Nature: A History of Environmental Ethics (History of American Thought and Culture)\u001b[0m [3814] (1.0000, (2, 2))\n",
      "\n",
      "6) Creating Bonsai Landscapes: 18 Miniature Garden Projects\u001b[0m [30412] (1.0000, (3, 2))\n",
      "\n",
      "7) \u001b[33mThe Analects of Confucius: A Philosophical Translation (Classics of Ancient China)\u001b[0m [5467] (1.0000, (14, 3))\n",
      "\n",
      "8) \u001b[33mOutlines of Chinese Symbolism and Art Motives (Dover Fine Art, History of Art)\u001b[0m [9474] (1.0000, (1, 1))\n",
      "\n",
      "9) A History of Scotland (2010)\u001b[0m [126315] (1.0000, (14, 3))\n",
      "\n",
      "10) \u001b[33mReading Chinese Newspapers: Tactics and Skills: Student Workbook (Far Eastern Publications Series)\u001b[0m [23418] (1.0000, (1, 1))\n",
      "\n",
      "11) \u001b[33mLearning to Be A Sage: Selections from the Conversations of Master Chu, Arranged Topically\u001b[0m [10088] (1.0000, (3, 1))\n",
      "\n",
      "12) Japanese Erotic Fantasies: Sexual Imagery of the Edo Period\u001b[0m [35623] (1.0000, (2, 2))\n",
      "\n",
      "13) Life along the Silk Road\u001b[0m [10204] (1.0000, (9, 3))\n",
      "\n",
      "14) Smile of the Buddha: Eastern Philosophy and Western Art from Monet to Today\u001b[0m [10242] (1.0000, (2, 2))\n",
      "\n",
      "15) Buddhist Scriptures (Penguin Classics)\u001b[0m [2110] (1.0000, (4, 3))\n",
      "\n",
      "16) \u001b[33munknown title\u001b[0m [30328] (1.0000, (1, 1))\n",
      "\n",
      "17) Education in Contemporary Japan: Inequality and Diversity (Contemporary Japanese Society)\u001b[0m [10440] (1.0000, (2, 2))\n",
      "\n",
      "18) The I Ching or Book of Changes\u001b[0m [14201] (1.0000, (19, 5))\n",
      "\n",
      "19) Japanese Buddhism: A Cultural History\u001b[0m [34387] (1.0000, (1, 1))\n",
      "\n",
      "20) \u001b[33mEngaged Buddhism: Buddhist Liberation Movements in Asia\u001b[0m [17700] (1.0000, (1, 1))\n",
      "\n",
      "21) \u001b[33mDaoism and Chinese Culture\u001b[0m [34061] (1.0000, (5, 2))\n",
      "\n",
      "22) Ethnic Dress : A Comprehensive Guide to the Folk Costume of the World\u001b[0m [20320] (1.0000, (1, 1))\n",
      "\n",
      "23) \u001b[33m1,001 Symbols: An Illustrated Guide to Imagery and Its Meaning\u001b[0m [19844] (1.0000, (2, 2))\n",
      "\n",
      "24) \u001b[33mThe Private Life of a Masterpiece: The Complete Seasons 1-5 (2008)\u001b[0m [121496] (1.0000, (5, 2))\n",
      "\n",
      "25) \u001b[33mSources of Indian Tradition, Vol. 2: Modern India and Pakistan (Introduction to Oriental Civilizations)\u001b[0m [3483] (1.0000, (7, 3))\n",
      "\n",
      "26) Encountering the Dharma: Daisaku Ikeda, Soka Gakkai, and the Globalization of Buddhist Humanism\u001b[0m [10257] (0.9973, (3, 3))\n",
      "\n",
      "27) The Art and Culture of Japan (Abrams Discoveries)\u001b[0m [19590] (0.9764, (2, 2))\n",
      "\n",
      "28) Standing for Something: 10 Neglected Virtues That Will Heal Our Hearts and Homes\u001b[0m [11689] (0.9656, (3, 3))\n",
      "\n",
      "29) Confucius Analects (Hackett Classics Series)\u001b[0m [22254] (0.9073, (8, 6))\n",
      "\n",
      "30) \u001b[33mThe Cultural Politics of Food and Eating (Blackwell Readers in Anthroplogy, No. 8)\u001b[0m [11947] (0.8288, (1, 1))\n",
      "\n",
      "31) The Knight in Rusty Armor\u001b[0m [23034] (0.6950, (3, 2))\n",
      "\n",
      "32) \u001b[33mThe Yellow Emperor's Classic of Medicine: A New Translation of the Neijing Suwen with Commentary\u001b[0m [29100] (0.5875, (12, 2))\n",
      "\n",
      "33) East Asian Medicine in Urban Japan: Varieties of Medical Experience (Comparative Studies of Health Systems and Medical Care)\u001b[0m [10073] (0.5870, (1, 2))\n",
      "\n",
      "34) \u001b[33mHow Societies Remember (Themes in the Social Sciences)\u001b[0m [10287] (0.5631, (3, 3))\n",
      "\n",
      "35) Warrior Rule in Japan\u001b[0m [10367] (0.5252, (4, 2))\n",
      "\n",
      "36) Buddhist Scriptures (Penguin Classics)\u001b[0m [2177] (0.5227, (6, 2))\n",
      "\n",
      "37) The Art of Warfare (Classics of Ancient China)\u001b[0m [5352] (0.4737, (3, 2))\n",
      "\n",
      "38) \u001b[33mSources of Indian Tradition, Vol. 1: From the Beginning to 1800 (Introduction to Oriental Civilizations)\u001b[0m [3484] (0.4162, (5, 4))\n",
      "\n",
      "39) Chinese Religions\u001b[0m [23290] (0.3828, (1, 2))\n",
      "\n",
      "40) On Beauty and Being Just.\u001b[0m [14192] (0.3340, (7, 5))\n",
      "\n",
      "41) The Home and the World (Penguin Classics)\u001b[0m [2199] (0.2816, (11, 4))\n",
      "\n",
      "42) The Buddha: The Story of an Awakened Life\u001b[0m [33052] (0.2284, (2, 1))\n",
      "\n",
      "43) The Narrow Road to Oku (Illustrated Japanese Classics)\u001b[0m [34399] (0.1944, (8, 3))\n",
      "\n",
      "44) \u001b[33mThe Hungarians: A Thousand Years of Victory in Defeat\u001b[0m [14228] (0.1849, (5, 3))\n",
      "\n",
      "45) Simon Schama's Power of Art (2007)\u001b[0m [116846] (0.1669, (5, 1))\n",
      "\n",
      "46) \u001b[33mChanging Seasons Macrobiotic Cookbook\u001b[0m [30832] (0.1606, (7, 1))\n",
      "\n",
      "47) The Study of Ethnomusicology: Thirty-one Issues and Concepts, 2nd Edition\u001b[0m [3562] (0.1599, (5, 3))\n",
      "\n",
      "48) Xunzi (Translations from the Asian Classics)\u001b[0m [3527] (0.1589, (3, 1))\n",
      "\n",
      "49) \u001b[33mFinland: Cultural Lone Wolf\u001b[0m [34143] (0.1570, (1, 0))\n",
      "\n",
      "50) Sources of Korean Tradition, Vol. 2: From the Sixteenth to the Twentieth Centuries\u001b[0m [3516] (0.1560, (3, 1))\n",
      "\n",
      "51) Art of Colonial Latin America A&I (Art and Ideas)\u001b[0m [14375] (0.1559, (2, 1))\n",
      "\n",
      "52) Chushingura (The Treasury of Loyal Retainers): A Puppet Play\u001b[0m [3471] (0.1549, (13, 4))\n",
      "\n",
      "53) Japanese Today: Change and Continuity, Enlarged Edition\u001b[0m [12842] (0.1531, (1, 1))\n",
      "\n",
      "54) Zen Action: Zen Person\u001b[0m [20891] (0.1522, (9, 1))\n",
      "\n",
      "55) Signs and Symbols in Christian Art: With Illustrations from Paintings from the Renaissance (Galaxy Books)\u001b[0m [2698] (0.1516, (5, 1))\n",
      "\n",
      "56) Let's Learn Kanji: An Introduction to Radicals, Components and 250 Very Basic Kanji (Kodansha's Children's Classics)\u001b[0m [34402] (0.1453, (2, 1))\n",
      "\n",
      "57) The Two Koreas: A Contemporary History (Revised and Updated Edition)\u001b[0m [9060] (0.1445, (11, 2))\n",
      "\n",
      "58) \u001b[33mFlash of the Spirit: African & Afro-American Art & Philosophy\u001b[0m [7088] (0.1438, (12, 4))\n",
      "\n",
      "59) \u001b[33mKeywords: A Vocabulary of Culture and Society\u001b[0m [2926] (0.1422, (10, 5))\n",
      "\n",
      "60) To Sail Beyond The Sunset\u001b[0m [7350] (0.1381, (4, 1))\n",
      "\n",
      "61) The Tao of Healthy Eating: Dietary Wisdom According to Traditional Chinese Medicine\u001b[0m [24968] (0.1377, (12, 1))\n",
      "\n",
      "62) Bushido: The Way of the Samurai (Square One Classics)\u001b[0m [15603] (0.1372, (9, 1))\n",
      "\n",
      "63) Classical Bujutsu (Martial Arts and Ways of Japan, V. 1.)\u001b[0m [21357] (0.1360, (6, 1))\n",
      "\n",
      "64) Complete Sinawali: Filipino Double-Weapon Fighting (Complete Martial Arts)\u001b[0m [18849] (0.1338, (9, 3))\n",
      "\n",
      "65) The Essence of T'ai Chi Ch'uan: The Literary Tradition\u001b[0m [24372] (0.1335, (17, 2))\n",
      "\n",
      "66) Feminism and Art History: Questioning the Litany\u001b[0m [971] (0.1334, (4, 3))\n",
      "\n",
      "67) Creating Sacred Space With Feng Shui: Learn the Art of Space Clearing and Bring New Energy into Your Life\u001b[0m [10652] (0.1334, (5, 1))\n",
      "\n",
      "68) Judo Unleashed: Essential Throwing & Grappling Techniques for Intermediate to Advanced Martial Artists\u001b[0m [1409] (0.1312, (10, 1))\n",
      "\n",
      "69) The Art of Setting Stones: And Other Writings from the Japanese Garden\u001b[0m [32843] (0.1304, (2, 1))\n",
      "\n",
      "70) Sun Pin: Military Methods (History & Warfare)\u001b[0m [20129] (0.1296, (4, 2))\n",
      "\n",
      "71) \u001b[33mChinese Houses: The Architectural Heritage of a Nation\u001b[0m [18872] (0.1271, (4, 1))\n",
      "\n",
      "72) \u001b[33mLiving Color: Master Lin Yuns Guide to Feng Shui and the Art of Color\u001b[0m [28850] (0.1265, (4, 1))\n",
      "\n",
      "73) Masks\u001b[0m [7086] (0.1262, (14, 7))\n",
      "\n",
      "74) Feng Shui: Harmony by Design\u001b[0m [7440] (0.1243, (1, 1))\n",
      "\n",
      "75) The Guerrilla Girls' Bedside Companion to the History of Western Art\u001b[0m [1996] (0.1241, (15, 4))\n",
      "\n",
      "76) Six Records of a Floating Life (Penguin Classics)\u001b[0m [2145] (0.1225, (9, 2))\n",
      "\n",
      "77) Mauve: How One Man Invented a Color That Changed the World\u001b[0m [6873] (0.1220, (5, 3))\n",
      "\n",
      "78) Sun Yat-sen\u001b[0m [18809] (0.1220, (2, 2))\n",
      "\n",
      "79) The Snow Lion and the Dragon: China, Tibet, and the Dalai Lama\u001b[0m [10174] (0.1220, (1, 1))\n",
      "\n",
      "80) English with an Accent: Language, Ideology and Discrimination in the United States\u001b[0m [7486] (0.1206, (5, 3))\n",
      "\n",
      "81) Precolonial Black Africa\u001b[0m [27373] (0.1206, (7, 1))\n",
      "\n",
      "82) Zhuangzi Speaks: The Music of Nature\u001b[0m [14098] (0.1198, (8, 1))\n",
      "\n",
      "83) Chinese in a Flash Volume 3 (Tuttle Flash Cards)\u001b[0m [18885] (0.1198, (3, 1))\n",
      "\n",
      "84) The Heart of Dogen's Shobogenzo\u001b[0m [17703] (0.1187, (5, 1))\n",
      "\n",
      "85) Makers of Modern Strategy from Machiavelli to the Nuclear Age\u001b[0m [14149] (0.1185, (21, 4))\n",
      "\n",
      "86) Wing Chun - The Science of In-Fighting\u001b[0m [67006] (0.1185, (30, 3))\n",
      "\n",
      "87) Discourse on Colonialism\u001b[0m [30840] (0.1178, (23, 10))\n",
      "\n",
      "88) T'ai Chi Ch'uan Ta Wen: Questions and Answers on T'ai Chi Ch'uan\u001b[0m [25076] (0.1177, (6, 1))\n",
      "\n",
      "89) Seven Types of Ambiguity\u001b[0m [19655] (0.1169, (12, 4))\n",
      "\n",
      "90) \u001b[33mOutline of Classical Chinese Grammar\u001b[0m [16714] (0.1165, (4, 2))\n",
      "\n",
      "91) Son of the Revolution\u001b[0m [7087] (0.1163, (16, 2))\n",
      "\n",
      "92) Songs of the Frontier Warriors: Kenge Kreshnikesh--Albanian Epic Verse in a Bilingual English-Albanian Edition\u001b[0m [21950] (0.1160, (4, 1))\n",
      "\n",
      "93) How to Read Classical Tibetan, Volume One: Summary of the General Path\u001b[0m [27809] (0.1153, (6, 1))\n",
      "\n",
      "94) LIFE: Our Century in Pictures for Young People\u001b[0m [5092] (0.1147, (4, 2))\n",
      "\n",
      "95) \u001b[33mColor: A Natural History of the Palette\u001b[0m [20054] (0.1146, (7, 2))\n",
      "\n",
      "96) Art Theory: A Very Short Introduction\u001b[0m [2607] (0.1142, (6, 2))\n",
      "\n",
      "97) The Tools of Empire: Technology and European Imperialism in the Nineteenth Century\u001b[0m [2706] (0.1141, (6, 1))\n",
      "\n",
      "98) The Eater's Guide to Chinese Characters\u001b[0m [3406] (0.1132, (1, 1))\n",
      "\n",
      "99) Indonesian Fighting Fundamentals: The Brutal Arts Of The Archipelago\u001b[0m [22387] (0.1128, (5, 1))\n",
      "\n",
      "100) The Polish Way: A Thousand-Year History of the Poles and Their Culture\u001b[0m [16779] (0.1123, (4, 2))\n",
      "\n",
      "101) Grundrisse: Foundations of the Critique of Political Economy (Penguin Classics)\u001b[0m [2159] (0.1121, (11, 1))\n",
      "\n",
      "102) Chinese Herbal Medicine: Materia Medica, Third Edition\u001b[0m [25118] (0.1111, (15, 2))\n",
      "\n",
      "103) Why Art Cannot Be Taught: A Handbook for Art Students\u001b[0m [3557] (0.1108, (5, 3))\n",
      "\n",
      "104) Intuition: Knowing Beyond Logic\u001b[0m [4659] (0.1103, (11, 4))\n",
      "\n",
      "105) World Religions: Western Traditions\u001b[0m [2944] (0.1103, (1, 1))\n",
      "\n",
      "106) The Hidden Roots of Aikido: Aiki Jujutsu Daitoryu - Secret Techniques of an Ancient Martial Art\u001b[0m [34408] (0.1100, (3, 1))\n",
      "\n",
      "107) Distinction: A Social Critique of the Judgement of Taste\u001b[0m [12815] (0.1100, (19, 5))\n",
      "\n",
      "108) The Shaolin Workout: 28 Days to Transforming Your Body and Soul the Warrior's Way\u001b[0m [31986] (0.1098, (15, 2))\n",
      "\n",
      "109) Words in Context: A Japanese Perspective on Language and Culture (Japanese Characters)\u001b[0m [34417] (0.1094, (2, 1))\n",
      "\n",
      "110) Simple Taoism: A Guide to Living in Balance\u001b[0m [18850] (0.1090, (7, 1))\n",
      "\n",
      "111) Religions of China in Practice\u001b[0m [14138] (0.1090, (7, 1))\n",
      "\n",
      "112) The Colouring, Bronzing and Patination of Metals\u001b[0m [20756] (0.1087, (3, 1))\n",
      "\n",
      "113) Taiwan: A Political History\u001b[0m [18157] (0.1086, (4, 1))\n",
      "\n",
      "114) The Anatomy Coloring Book\u001b[0m [19033] (0.1082, (27, 10))\n",
      "\n",
      "115) Music in Latin American Culture: Regional Traditions\u001b[0m [9753] (0.1077, (3, 2))\n",
      "\n",
      "116) Complete Wing Chun: The Definitive Guide to Wing Chun's History and Traditions (Complete Martial Arts)\u001b[0m [18848] (0.1072, (3, 2))\n",
      "\n",
      "117) From Reliable Sources: An Introduction to Historical Methods\u001b[0m [18151] (0.1069, (16, 3))\n",
      "\n",
      "118) Theories and Documents of Contemporary Art: A Sourcebook of Artists' Writings (California Studies in the History of Art)\u001b[0m [10124] (0.1064, (5, 1))\n",
      "\n",
      "119) Herbs for Hepatitis C and the Liver (A Storey Medicinal Herb Guide)\u001b[0m [30382] (0.1063, (7, 1))\n",
      "\n",
      "120) Korea's Place in the Sun: A Modern History, Updated Edition\u001b[0m [6893] (0.1062, (12, 1))\n",
      "\n",
      "121) The Ancient Kingdoms of Peru\u001b[0m [1959] (0.1060, (2, 2))\n",
      "\n",
      "122) Zen: The Path of Paradox\u001b[0m [4768] (0.1054, (5, 2))\n",
      "\n",
      "123) Thinking in Java (4th Edition)\u001b[0m [1755] (0.1052, (7, 1))\n",
      "\n",
      "124) The Tao of Health, Sex, and Longevity: A Modern Practical Guide to the Ancient Way (Fireside Books (Fireside))\u001b[0m [12475] (0.1044, (6, 2))\n",
      "\n",
      "125) Tantra: Path of Ecstasy\u001b[0m [29113] (0.1042, (7, 2))\n",
      "\n",
      "126) Japan Style: Architecture Interiors Design\u001b[0m [18875] (0.1034, (6, 1))\n",
      "\n",
      "127) Standard Albanian: A Reference Grammar for Students\u001b[0m [18772] (0.1034, (2, 2))\n",
      "\n",
      "128) Taoism: Growth of a Religion\u001b[0m [18790] (0.1030, (4, 1))\n",
      "\n",
      "129) Columbus's Outpost among the Taínos: Spain and America at La Isabela, 1493-1498\u001b[0m [3915] (0.1029, (3, 2))\n",
      "\n",
      "130) Korean Cuisine (English and Mandarin Chinese Edition)\u001b[0m [25251] (0.1029, (4, 1))\n",
      "\n",
      "131) Tai Chi Melody\u001b[0m [44538] (0.1027, (12, 3))\n",
      "\n",
      "132) Alabi's World (Johns Hopkins Studies in Atlantic History and Culture)\u001b[0m [18201] (0.1023, (2, 1))\n",
      "\n",
      "133) The Sacred Art of Dying: How the World Religions Understand Death\u001b[0m [19451] (0.1009, (4, 4))\n",
      "\n",
      "134) Albert Einstein and the Theory of Relativity (Solutions)\u001b[0m [19878] (0.1008, (8, 5))\n",
      "\n",
      "135) Discipline & Punish: The Birth of the Prison\u001b[0m [13183] (0.1006, (58, 16))\n",
      "\n",
      "136) Chinese Link: Zhongwen Tiandi, Intermediate Chinese, Level 2 Part 1\u001b[0m [1765] (0.1006, (3, 1))\n",
      "\n",
      "137) Reading the Body: Ohashi's Book of Oriental Diagnosis\u001b[0m [1944] (0.0998, (4, 3))\n",
      "\n",
      "138) Art of War (2009)\u001b[0m [124617] (0.0994, (10, 3))\n",
      "\n",
      "139) Designing Social Inquiry: Scientific Inference in Qualitative Research\u001b[0m [14159] (0.0989, (17, 2))\n",
      "\n",
      "140) Taipei People\u001b[0m [35644] (0.0986, (2, 2))\n",
      "\n",
      "141) Thai Cooking Made Easy (English and Chinese Edition)\u001b[0m [25247] (0.0986, (6, 1))\n",
      "\n",
      "142) The Web That Has No Weaver : Understanding Chinese Medicine\u001b[0m [19520] (0.0984, (23, 2))\n",
      "\n",
      "143) \u001b[33mThe Taming of the Samurai: Honorific Individualism and the Making of Modern Japan\u001b[0m [12895] (0.0981, (9, 3))\n",
      "\n",
      "144) Amazon.com: Imperial 100s Tab Collar French Cuff Dress Shirt: Clothing\u001b[0m [67677] (0.0980, (270, 1))\n",
      "\n",
      "145) The Civilizations of Africa: A History to 1800\u001b[0m [20172] (0.0979, (5, 2))\n",
      "\n",
      "146) The Quick and Natural Macrobiotic Cookbook\u001b[0m [19539] (0.0978, (3, 1))\n",
      "\n",
      "147) Language Myths\u001b[0m [1998] (0.0978, (15, 1))\n",
      "\n",
      "148) A Dictionary of Japanese Particles (A Kodansha Dictionary) (English and Japanese Edition)\u001b[0m [34409] (0.0976, (15, 1))\n",
      "\n",
      "149) Advanced Origami: An Artist's Guide to Performances in Paper\u001b[0m [18881] (0.0972, (5, 1))\n",
      "\n",
      "150) Emperor of China: Self-Portrait of K'ang-Hsi\u001b[0m [13033] (0.0966, (4, 2))\n",
      "\n",
      "151) A History of Christianity in Asia: Beginnings to 1500\u001b[0m [29201] (0.0962, (3, 2))\n",
      "\n",
      "152) The Macrobiotic Path to Total Health: A Complete Guide to Naturally Preventing and Relieving More Than 200 Chronic Conditions and Disorders\u001b[0m [5485] (0.0962, (11, 1))\n",
      "\n",
      "153) \u001b[33mThe I Ching Workbook\u001b[0m [6366] (0.0947, (11, 2))\n",
      "\n",
      "154) Medical Firsts: From Hippocrates to the Human Genome\u001b[0m [9278] (0.0945, (3, 1))\n",
      "\n",
      "155) Zhan-Zhuang Gong Music\u001b[0m [53992] (0.0944, (9, 3))\n",
      "\n",
      "156) The Scarlet Gang of Asakusa\u001b[0m [10239] (0.0942, (4, 3))\n",
      "\n",
      "157) The Second Shift\u001b[0m [2296] (0.0941, (13, 4))\n",
      "\n",
      "158) Zen Macrobiotics for Americans\u001b[0m [33095] (0.0936, (3, 3))\n",
      "\n",
      "159) Living the Cross Centered Life: Keeping the Gospel the Main Thing\u001b[0m [31398] (0.0936, (6, 3))\n",
      "\n",
      "160) The Cancer Prevention Diet: Michio Kushi's Macrobiotic Blueprint for the Prevention and Relief of Disease\u001b[0m [4472] (0.0934, (2, 1))\n",
      "\n",
      "161) The Self-Healing Cookbook: Whole Foods To Balance Body, Mind and Moods\u001b[0m [25415] (0.0933, (3, 2))\n",
      "\n",
      "162) The Nuts and Bolts of College Writing\u001b[0m [22248] (0.0930, (13, 5))\n",
      "\n",
      "163) The Sounds of the World's Languages\u001b[0m [11912] (0.0928, (3, 1))\n",
      "\n",
      "164) \u001b[33mFood and Healing\u001b[0m [5320] (0.0926, (4, 2))\n",
      "\n",
      "165) A History of Modern Indonesia\u001b[0m [10386] (0.0925, (7, 3))\n",
      "\n",
      "166) The Clouds Should Know Me By Now: Buddhist Poet Monks of China\u001b[0m [21896] (0.0925, (6, 3))\n",
      "\n",
      "167) What Makes Us Catholic: Eight Gifts for Life\u001b[0m [477] (0.0913, (2, 2))\n",
      "\n",
      "168) Records of the Grand Historian: Qin Dynasty\u001b[0m [3491] (0.0913, (7, 1))\n",
      "\n",
      "169) Becoming a Chef\u001b[0m [9151] (0.0909, (7, 2))\n",
      "\n",
      "170) Manual Of Standard Tibetan: Language And Civilization\u001b[0m [27811] (0.0906, (7, 1))\n",
      "\n",
      "171) Chinese Medical Characters Volume 1 Basic Vocabulary\u001b[0m [24351] (0.0902, (5, 1))\n",
      "\n",
      "172) Unclaimed Experience: Trauma, Narrative and History\u001b[0m [18216] (0.0900, (3, 3))\n",
      "\n",
      "173) Myth, Literature and the African World (Canto)\u001b[0m [10331] (0.0897, (4, 1))\n",
      "\n",
      "174) The Machu Picchu Guidebook: A Self-Guided Tour\u001b[0m [27217] (0.0896, (16, 2))\n",
      "\n",
      "175) Music in Ireland: Experiencing Music, Expressing Culture (Global Music)\u001b[0m [2866] (0.0894, (4, 3))\n",
      "\n",
      "176) Many Ways to Be Deaf: International Variation in Deaf Communities\u001b[0m [28259] (0.0892, (1, 1))\n",
      "\n",
      "177) The Buddhist Tradition: In India, China and Japan\u001b[0m [7080] (0.0890, (5, 1))\n",
      "\n",
      "178) The Classic Tradition of Haiku: An Anthology (Dover Thrift Editions)\u001b[0m [9624] (0.0887, (10, 1))\n",
      "\n",
      "179) Transforming Matter: A History of Chemistry from Alchemy to the Buckyball (Johns Hopkins Introductory Studies in the History of Science)\u001b[0m [18247] (0.0882, (6, 3))\n",
      "\n",
      "180) Islamic Arts (Art & Ideas)\u001b[0m [14359] (0.0881, (4, 2))\n",
      "\n",
      "181) Chinese Characters: A Genealogy and Dictionary (English and Mandarin Chinese Edition)\u001b[0m [25853] (0.0878, (12, 2))\n",
      "\n",
      "182) The Mystery of Samba : Popular Music and National Identity in Brazil\u001b[0m [19382] (0.0877, (7, 3))\n",
      "\n",
      "183) Move Your Stuff, Change Your Life: How to Use Feng Shui to Get Love, Money, Respect, and Happiness\u001b[0m [13567] (0.0876, (19, 1))\n",
      "\n",
      "184) Willem de Kooning 1904-1997: Content as a Glimpse (Basic Art)\u001b[0m [34356] (0.0857, (1, 1))\n",
      "\n",
      "185) \u001b[33mThe Shorter Columbia Anthology of Traditional Chinese Literature\u001b[0m [3515] (0.0855, (1, 1))\n",
      "\n",
      "186) Deogratias, A Tale of Rwanda\u001b[0m [32018] (0.0852, (3, 2))\n",
      "\n",
      "187) The DC Comics Guide to Inking Comics\u001b[0m [20761] (0.0843, (4, 2))\n",
      "\n",
      "188) Tsukiji: The Fish Market at the Center of the World (California Studies in Food and Culture)\u001b[0m [10180] (0.0843, (8, 4))\n",
      "\n",
      "189) The Emperor's Mirror: Understanding Cultures through Primary Sources\u001b[0m [20343] (0.0841, (1, 1))\n",
      "\n",
      "190) Lao Tzu: Te-Tao Ching - A New Translation Based on the Recently Discovered Ma-wang-tui Texts (Classics of Ancient China)\u001b[0m [5364] (0.0840, (7, 2))\n",
      "\n",
      "191) \u001b[33mIndian Art (Oxford History of Art)\u001b[0m [2621] (0.0840, (4, 2))\n",
      "\n",
      "192) Exhibit Labels: An Interpretive Approach\u001b[0m [15990] (0.0838, (6, 3))\n",
      "\n",
      "193) Patinas for Silicon Bronze\u001b[0m [25738] (0.0833, (2, 1))\n",
      "\n",
      "194) Finnish Dictionary & Phrasebook: Finnish-English/English-Finnish (Hippocrene Dictionary & Phrasebooks)\u001b[0m [16814] (0.0826, (5, 2))\n",
      "\n",
      "195) Chinese One Dish Meals\u001b[0m [25244] (0.0823, (7, 1))\n",
      "\n",
      "196) \u001b[33mBerklee Practice Method: Keyboard\u001b[0m [11968] (0.0821, (5, 2))\n",
      "\n",
      "197) Black Art: A Cultural History (Second Edition) (World of Art)\u001b[0m [9774] (0.0818, (10, 4))\n",
      "\n",
      "198) Chi Gong-One finger ch'an melody\u001b[0m [44539] (0.0805, (9, 1))\n",
      "\n",
      "199) Patina Basics\u001b[0m [126949] (0.0802, (5, 2))\n",
      "\n",
      "200) Chuang Tzu: Basic Writings\u001b[0m [3504] (0.0802, (16, 1))\n",
      "\n"
     ]
    }
   ],
   "source": [
    "c = np.random.randint(new_cmat.shape[0])\n",
    "vispoint(c, new_cmat, Y, Y, stats, cmat, K=2000, expand=False, trnx_nnz=trnx_nnz)"
   ]
  },
  {
   "cell_type": "code",
   "execution_count": null,
   "metadata": {
    "ExecuteTime": {
     "end_time": "2022-04-04T23:45:57.392348Z",
     "start_time": "2022-04-04T23:45:57.392338Z"
    }
   },
   "outputs": [],
   "source": [
    "xrtf_score_mat = sp.load_npz(f'../pecos/examples/xr-transformer/models/lf-amazontitles-131k/distilbert/Pt.npz')"
   ]
  },
  {
   "cell_type": "code",
   "execution_count": null,
   "metadata": {
    "ExecuteTime": {
     "end_time": "2022-04-04T23:45:57.392996Z",
     "start_time": "2022-04-04T23:45:57.392986Z"
    }
   },
   "outputs": [],
   "source": [
    "trnX_full = trnX\n",
    "trnX = [x.split(' /SEP/')[0] for x in trnX_full]"
   ]
  },
  {
   "cell_type": "code",
   "execution_count": null,
   "metadata": {
    "ExecuteTime": {
     "end_time": "2022-04-04T23:45:57.393570Z",
     "start_time": "2022-04-04T23:45:57.393560Z"
    }
   },
   "outputs": [],
   "source": [
    "XCMetrics(xrtf_score_mat, tst_X_Y, inv_prop)"
   ]
  },
  {
   "cell_type": "code",
   "execution_count": null,
   "metadata": {
    "ExecuteTime": {
     "end_time": "2022-04-04T23:45:57.394177Z",
     "start_time": "2022-04-04T23:45:57.394167Z"
    }
   },
   "outputs": [],
   "source": [
    "xrtf_intsxn = retain_topk(xrtf_score_mat, k=5).multiply(tst_X_Y)\n",
    "xrl_intsxn = retain_topk(score_mat, k=5).multiply(tst_X_Y)"
   ]
  },
  {
   "cell_type": "code",
   "execution_count": null,
   "metadata": {
    "ExecuteTime": {
     "end_time": "2022-04-04T23:45:57.394864Z",
     "start_time": "2022-04-04T23:45:57.394855Z"
    }
   },
   "outputs": [],
   "source": [
    "targets = np.where(xrtf_intsxn.getnnz(1) > xrl_intsxn.getnnz(1)+1)[0]"
   ]
  },
  {
   "cell_type": "code",
   "execution_count": null,
   "metadata": {
    "ExecuteTime": {
     "end_time": "2022-04-04T23:45:57.395632Z",
     "start_time": "2022-04-04T23:45:57.395622Z"
    },
    "scrolled": true
   },
   "outputs": [],
   "source": [
    "x = np.random.randint(len(tstX))\n",
    "# x = np.random.choice(targets)\n",
    "vispoint(x, tst_X_Y, tstX, Y, nnz, tst_X_Y, K=100, expand=True, trnx_nnz=trnx_nnz)"
   ]
  },
  {
   "cell_type": "code",
   "execution_count": null,
   "metadata": {
    "ExecuteTime": {
     "end_time": "2022-04-04T23:45:57.397288Z",
     "start_time": "2022-04-04T23:45:57.397277Z"
    }
   },
   "outputs": [],
   "source": [
    "vispoint(x, candidates, tstX, Y, nnz, None, K=100, expand=True, trnx_nnz=trnx_nnz)"
   ]
  },
  {
   "cell_type": "code",
   "execution_count": null,
   "metadata": {
    "ExecuteTime": {
     "end_time": "2022-04-04T23:45:57.397984Z",
     "start_time": "2022-04-04T23:45:57.397973Z"
    },
    "scrolled": true
   },
   "outputs": [],
   "source": [
    "vispoint(x, xrtf_score_mat, tstX, Y, nnz, tst_X_Y, K=100, expand=True, trnx_nnz=trnx_nnz)"
   ]
  },
  {
   "cell_type": "code",
   "execution_count": null,
   "metadata": {
    "ExecuteTime": {
     "end_time": "2022-04-04T23:45:57.398631Z",
     "start_time": "2022-04-04T23:45:57.398620Z"
    }
   },
   "outputs": [],
   "source": [
    "candidates[1, 66580]"
   ]
  },
  {
   "cell_type": "code",
   "execution_count": null,
   "metadata": {
    "ExecuteTime": {
     "end_time": "2022-04-04T23:45:57.399208Z",
     "start_time": "2022-04-04T23:45:57.399198Z"
    }
   },
   "outputs": [],
   "source": [
    "new_cmat[1, 66580]"
   ]
  },
  {
   "cell_type": "code",
   "execution_count": null,
   "metadata": {
    "ExecuteTime": {
     "end_time": "2022-04-04T23:45:57.400543Z",
     "start_time": "2022-04-04T23:45:57.400533Z"
    },
    "scrolled": true
   },
   "outputs": [],
   "source": [
    "vispoint(0, candidates, tstX, Y, nnz, None, K=1000, expand=False, trnx_nnz=trnx_nnz)"
   ]
  },
  {
   "cell_type": "code",
   "execution_count": null,
   "metadata": {
    "ExecuteTime": {
     "end_time": "2022-04-04T23:45:57.401241Z",
     "start_time": "2022-04-04T23:45:57.401231Z"
    }
   },
   "outputs": [],
   "source": [
    "np.array(CT.argmax(0)).ravel().shape"
   ]
  },
  {
   "cell_type": "code",
   "execution_count": null,
   "metadata": {
    "ExecuteTime": {
     "end_time": "2022-04-04T23:45:57.401949Z",
     "start_time": "2022-04-04T23:45:57.401939Z"
    }
   },
   "outputs": [],
   "source": [
    "CT_parent = sp.csr_matrix((np.ones(args.numy), np.array(CT.argmax(0)).ravel(), range(args.numy+1)), C.shape).T.tocsr()"
   ]
  },
  {
   "cell_type": "code",
   "execution_count": null,
   "metadata": {
    "ExecuteTime": {
     "end_time": "2022-04-04T23:45:57.402581Z",
     "start_time": "2022-04-04T23:45:57.402572Z"
    }
   },
   "outputs": [],
   "source": [
    "temp = CT_topk + CT_parent"
   ]
  },
  {
   "cell_type": "code",
   "execution_count": null,
   "metadata": {
    "ExecuteTime": {
     "end_time": "2022-04-04T23:45:57.403316Z",
     "start_time": "2022-04-04T23:45:57.403305Z"
    }
   },
   "outputs": [],
   "source": [
    "temp.getnnz(1).max()"
   ]
  },
  {
   "cell_type": "code",
   "execution_count": null,
   "metadata": {
    "ExecuteTime": {
     "end_time": "2022-04-04T23:45:57.404013Z",
     "start_time": "2022-04-04T23:45:57.404002Z"
    }
   },
   "outputs": [],
   "source": [
    "temp = candidates.getnnz(1)\n",
    "sorted_inds = temp.argsort()"
   ]
  },
  {
   "cell_type": "code",
   "execution_count": null,
   "metadata": {
    "ExecuteTime": {
     "end_time": "2022-04-04T23:45:57.404725Z",
     "start_time": "2022-04-04T23:45:57.404714Z"
    }
   },
   "outputs": [],
   "source": [
    "temp[sorted_inds[:100]], sorted_inds[:100]"
   ]
  },
  {
   "cell_type": "code",
   "execution_count": null,
   "metadata": {
    "ExecuteTime": {
     "end_time": "2022-04-04T23:45:57.405458Z",
     "start_time": "2022-04-04T23:45:57.405448Z"
    }
   },
   "outputs": [],
   "source": [
    "np.where(CT_val_topk.getnnz(0) > 0)[0]"
   ]
  },
  {
   "cell_type": "code",
   "execution_count": null,
   "metadata": {
    "ExecuteTime": {
     "end_time": "2022-04-04T23:45:57.406114Z",
     "start_time": "2022-04-04T23:45:57.406105Z"
    }
   },
   "outputs": [],
   "source": [
    "cmat_intrsxn = CT_topk.multiply(cmat[:, :-1])"
   ]
  },
  {
   "cell_type": "code",
   "execution_count": null,
   "metadata": {
    "ExecuteTime": {
     "end_time": "2022-04-04T23:45:57.406806Z",
     "start_time": "2022-04-04T23:45:57.406795Z"
    }
   },
   "outputs": [],
   "source": [
    "CT_parent.getnnz(1).mean()"
   ]
  },
  {
   "cell_type": "code",
   "execution_count": null,
   "metadata": {
    "ExecuteTime": {
     "end_time": "2022-04-04T23:45:57.407339Z",
     "start_time": "2022-04-04T23:45:57.407329Z"
    }
   },
   "outputs": [],
   "source": [
    "CT_normalized = CT.copy()\n",
    "CT_normalized.data = CT_normalized.data / nnz[CT_normalized.indices]\n",
    "\n",
    "CT_normalized_topk = retain_topk(CT_normalized, k=1000)"
   ]
  },
  {
   "cell_type": "code",
   "execution_count": null,
   "metadata": {
    "ExecuteTime": {
     "end_time": "2022-04-04T23:45:57.408055Z",
     "start_time": "2022-04-04T23:45:57.408045Z"
    }
   },
   "outputs": [],
   "source": [
    "vispoint(0, CT, tstX, Y, nnz, cmat, K=100, expand=True, trnx_nnz=trnx_nnz)"
   ]
  },
  {
   "cell_type": "code",
   "execution_count": null,
   "metadata": {
    "ExecuteTime": {
     "end_time": "2022-04-04T23:45:57.408725Z",
     "start_time": "2022-04-04T23:45:57.408715Z"
    }
   },
   "outputs": [],
   "source": [
    "print(get_text(0, Y, CT, K=10))"
   ]
  },
  {
   "cell_type": "code",
   "execution_count": null,
   "metadata": {
    "ExecuteTime": {
     "end_time": "2022-04-04T23:45:57.409492Z",
     "start_time": "2022-04-04T23:45:57.409483Z"
    }
   },
   "outputs": [],
   "source": [
    "# from xclib.utils.sparse import retain_topk\n",
    "\n",
    "# top100_CT = retain_topk(C.T.tocsr(), k=100)"
   ]
  },
  {
   "cell_type": "code",
   "execution_count": null,
   "metadata": {
    "ExecuteTime": {
     "end_time": "2022-04-04T23:45:57.410338Z",
     "start_time": "2022-04-04T23:45:57.410327Z"
    }
   },
   "outputs": [],
   "source": [
    "from numba.core import types\n",
    "from numba.typed import Dict\n",
    "\n",
    "def construct_new_C_and_Y(\n",
    "    counts_rows,\n",
    "    counts_cols,\n",
    "    counts,\n",
    "    row_ids,\n",
    "    row_ranges,\n",
    "    C_rows,\n",
    "    sort_idx,\n",
    "    nr_labels,\n",
    "    max_cluster_size,\n",
    "    n_copies,\n",
    "):\n",
    "    \"\"\"Determine the new clustering matrix and the new label matrix given the couting matrix.\n",
    "    This function implements Eq.(10) in our paper. I.e. given the couting matrix C = Y^T * M, \n",
    "    we select the correct cluster id for each label one by one, in descending order of C entries,\n",
    "    possibly assign a label multiple times (`n_copies`) to different clusters. Finally, the new \n",
    "    cluster and new label matrix is returned. Notice that Numba is used here, this prevents us \n",
    "    from passing scipy sparse matrix directly.\n",
    "    \n",
    "    Args:\n",
    "        counts_rows, counts_cols, counts: The counting matrix in COO format.\n",
    "        row_ids, row_ranges: The indices and indptr of original Y matrix in CSC format.\n",
    "        C_rows: Clustering matrix C in LIL format, converted to list of numpy arrays.\n",
    "        sort_idx: Index of counts_{rows,cols} to sort them in decending order.\n",
    "        nr_labels: Number of original labels.\n",
    "        max_cluster_size: (Unused for now) Hard constraints to limit the number of labels \n",
    "            in each cluster (to balance cluster size).\n",
    "        n_copies: Max number of copies for each label (\\lambda in our paper).\n",
    "    Returns:\n",
    "        New cluster matrix (`new_C_*`), new label matrix (`new_Y_*`), the replicated label\n",
    "        assignment (`C_overlap_*`), number of duplicated labels (`nr_copied_labels`), a map \n",
    "        from new label id to the underlying label id (`mapper`), unused labels that never \n",
    "        show up in training (`unused_labels`), number of lightly used labels (`nr_tail_labels`).\n",
    "    \"\"\"\n",
    "    # construct empty cluster matrix and label matrix\n",
    "    nr_copied_labels = 0\n",
    "    new_C_cols = []\n",
    "    new_C_data = []\n",
    "    new_Y_rows = []\n",
    "    labels_included = set()\n",
    "    mapper = Dict.empty(key_type=types.int64, value_type=types.int64,)\n",
    "    cluster_size = Dict.empty(key_type=types.int64, value_type=types.int64,)\n",
    "    pseudo_label_count = Dict.empty(key_type=types.int64, value_type=types.int64,)\n",
    "    # results\n",
    "    C_overlap_rows, C_overlap_cols = [], []\n",
    "    max_count = n_copies\n",
    "    # adding labels to clusters one by one in descending frequency\n",
    "    for idx in tqdm(sort_idx):\n",
    "        label_id = counts_rows[idx]\n",
    "        leaf_id = counts_cols[idx]\n",
    "        if label_id in pseudo_label_count and pseudo_label_count[label_id] >= max_count:\n",
    "            continue\n",
    "        \n",
    "        if leaf_id not in cluster_size:\n",
    "            cluster_size[leaf_id] = 1\n",
    "        else:\n",
    "            # If you need to constrain the max cluster size, then\n",
    "            # uncomment following two lines\n",
    "            if cluster_size[leaf_id] >= max_cluster_size:\n",
    "                continue\n",
    "            cluster_size[leaf_id] += 1\n",
    "\n",
    "        if label_id not in pseudo_label_count:\n",
    "            pseudo_label_count[label_id] = 1\n",
    "        else:\n",
    "            pseudo_label_count[label_id] += 1\n",
    "\n",
    "        if label_id in labels_included:\n",
    "            # add a pseudo label that duplicates label_id\n",
    "            pseudo_label_id = nr_copied_labels + nr_labels\n",
    "            mapper[pseudo_label_id] = label_id\n",
    "            # add one more row to C (in lil format)\n",
    "            new_C_cols.append([leaf_id])\n",
    "            new_C_data.append([1])\n",
    "            # add one more column to Yt\n",
    "            examples = row_ids[row_ranges[label_id] : row_ranges[label_id + 1]]\n",
    "            new_Y_rows.append(examples)\n",
    "            nr_copied_labels += 1\n",
    "        else:\n",
    "            # add a new label\n",
    "            labels_included.add(label_id)\n",
    "            C_overlap_rows.append(label_id)\n",
    "            C_overlap_cols.append(leaf_id)\n",
    "\n",
    "        # exit early if we have too many effective labels\n",
    "        if len(mapper) >= max_count * nr_labels:\n",
    "            break\n",
    "    # add missing labels back to clusters\n",
    "    nr_tail_labels = 0\n",
    "    for label_id in range(nr_labels):\n",
    "        if label_id not in labels_included:\n",
    "            original_leaf_id = C_rows[label_id][0]\n",
    "            C_overlap_rows.append(label_id)\n",
    "            C_overlap_cols.append(original_leaf_id)\n",
    "            labels_included.add(label_id)\n",
    "            nr_tail_labels += 1\n",
    "\n",
    "    unused_labels = set()\n",
    "    for label_id in range(nr_labels):\n",
    "        if label_id not in labels_included:\n",
    "            unused_labels.add(label_id)\n",
    "\n",
    "    # new_Y elements\n",
    "    new_Y_indptr = [0]\n",
    "    new_Y_indices = []\n",
    "    for rows in new_Y_rows:\n",
    "        new_Y_indptr.append(new_Y_indptr[-1] + len(rows))\n",
    "        new_Y_indices.extend(rows)\n",
    "    new_Y_data = np.ones(len(new_Y_indices), dtype=np.int32)\n",
    "    return (\n",
    "        new_C_cols,\n",
    "        new_C_data,\n",
    "        new_Y_data,\n",
    "        new_Y_indices,\n",
    "        new_Y_indptr,\n",
    "        C_overlap_cols,\n",
    "        C_overlap_rows,\n",
    "        nr_copied_labels,\n",
    "        mapper,\n",
    "        unused_labels,\n",
    "        nr_tail_labels,\n",
    "    )"
   ]
  },
  {
   "cell_type": "code",
   "execution_count": null,
   "metadata": {
    "ExecuteTime": {
     "end_time": "2022-04-04T23:45:57.411095Z",
     "start_time": "2022-04-04T23:45:57.411084Z"
    }
   },
   "outputs": [],
   "source": [
    "coo_C = C.tocoo()\n",
    "\n",
    "sort_idx = np.argsort(coo_C.data)[::-1]"
   ]
  },
  {
   "cell_type": "code",
   "execution_count": null,
   "metadata": {
    "ExecuteTime": {
     "end_time": "2022-04-04T23:45:57.411776Z",
     "start_time": "2022-04-04T23:45:57.411765Z"
    }
   },
   "outputs": [],
   "source": [
    "(new_C_cols,\n",
    "new_C_data,\n",
    "new_Y_data,\n",
    "new_Y_indices,\n",
    "new_Y_indptr,\n",
    "C_overlap_cols,\n",
    "C_overlap_rows,\n",
    "out_labels,\n",
    "mapper,\n",
    "unused_labels,\n",
    "nr_tail_labels) = construct_new_C_and_Y(\n",
    "                            coo_C.row, \n",
    "                            coo_C.col, \n",
    "                            coo_C.data, \n",
    "                            trn_X_Y.tocsc().indices, \n",
    "                            trn_X_Y.tocsc().indptr, \n",
    "                            np.array(cmat.T.tolil().rows), \n",
    "                            sort_idx, \n",
    "                            args.numy, \n",
    "                            1000, \n",
    "                            2)"
   ]
  },
  {
   "cell_type": "code",
   "execution_count": null,
   "metadata": {
    "ExecuteTime": {
     "end_time": "2022-04-04T23:45:57.412532Z",
     "start_time": "2022-04-04T23:45:57.412521Z"
    }
   },
   "outputs": [],
   "source": [
    "C = cmat.T.tocsr()\n",
    "Yt = trn_Y_X"
   ]
  },
  {
   "cell_type": "code",
   "execution_count": null,
   "metadata": {
    "ExecuteTime": {
     "end_time": "2022-04-04T23:45:57.413218Z",
     "start_time": "2022-04-04T23:45:57.413208Z"
    }
   },
   "outputs": [],
   "source": [
    "C_overlap = sp.coo_matrix(\n",
    "    (np.ones_like(C_overlap_cols), (C_overlap_rows, C_overlap_cols)),\n",
    "    shape=C.shape,\n",
    "    dtype=C.dtype,\n",
    ").tocsr()\n",
    "print(f\"#copied labels: {out_labels}, #tail labels: {nr_tail_labels}\")\n",
    "\n",
    "new_C = sp.lil_matrix((out_labels, C.shape[1]), dtype=C.dtype)\n",
    "new_C.data = new_C_data\n",
    "new_C.rows = new_C_cols\n",
    "C = sp.vstack((C_overlap, new_C.tocsc()), format=\"csc\")\n",
    "\n",
    "new_Y = sp.csc_matrix(\n",
    "    (new_Y_data, new_Y_indices, new_Y_indptr),\n",
    "    shape=(Yt.shape[0], len(new_Y_indptr) - 1),\n",
    "    dtype=Yt.dtype,\n",
    ")\n",
    "Yt = sp.hstack((Yt, new_Y), format=\"csr\")"
   ]
  },
  {
   "cell_type": "code",
   "execution_count": null,
   "metadata": {
    "ExecuteTime": {
     "end_time": "2022-04-04T23:45:57.413931Z",
     "start_time": "2022-04-04T23:45:57.413920Z"
    }
   },
   "outputs": [],
   "source": [
    "C.getnnz(0).min()"
   ]
  },
  {
   "cell_type": "code",
   "execution_count": null,
   "metadata": {
    "ExecuteTime": {
     "end_time": "2022-04-04T23:45:57.414664Z",
     "start_time": "2022-04-04T23:45:57.414653Z"
    }
   },
   "outputs": [],
   "source": [
    "inds = net.C.argsort(dim=1, descending=True)"
   ]
  },
  {
   "cell_type": "code",
   "execution_count": null,
   "metadata": {
    "ExecuteTime": {
     "end_time": "2022-04-04T23:45:57.415393Z",
     "start_time": "2022-04-04T23:45:57.415382Z"
    }
   },
   "outputs": [],
   "source": [
    "inds[:, :100].unique().size()"
   ]
  },
  {
   "cell_type": "code",
   "execution_count": null,
   "metadata": {
    "ExecuteTime": {
     "end_time": "2022-04-04T23:45:57.416049Z",
     "start_time": "2022-04-04T23:45:57.416038Z"
    }
   },
   "outputs": [],
   "source": [
    "net.eval()"
   ]
  },
  {
   "cell_type": "code",
   "execution_count": null,
   "metadata": {
    "ExecuteTime": {
     "end_time": "2022-04-04T23:45:57.416783Z",
     "start_time": "2022-04-04T23:45:57.416772Z"
    }
   },
   "outputs": [],
   "source": [
    "net.C.requires_grad = False"
   ]
  },
  {
   "cell_type": "code",
   "execution_count": null,
   "metadata": {
    "ExecuteTime": {
     "end_time": "2022-04-04T23:45:57.417340Z",
     "start_time": "2022-04-04T23:45:57.417331Z"
    }
   },
   "outputs": [],
   "source": [
    "net.C.scatter_(1, inds[:, 100:], 0)"
   ]
  },
  {
   "cell_type": "code",
   "execution_count": null,
   "metadata": {
    "ExecuteTime": {
     "end_time": "2022-04-04T23:45:57.418165Z",
     "start_time": "2022-04-04T23:45:57.418154Z"
    }
   },
   "outputs": [],
   "source": [
    "net.C.gather(1, inds[:, :200])"
   ]
  },
  {
   "cell_type": "code",
   "execution_count": null,
   "metadata": {
    "ExecuteTime": {
     "end_time": "2022-04-04T23:45:57.418822Z",
     "start_time": "2022-04-04T23:45:57.418807Z"
    }
   },
   "outputs": [],
   "source": [
    "net.C.max(dim=1)"
   ]
  },
  {
   "cell_type": "code",
   "execution_count": null,
   "metadata": {
    "ExecuteTime": {
     "end_time": "2022-04-04T23:45:57.419594Z",
     "start_time": "2022-04-04T23:45:57.419583Z"
    }
   },
   "outputs": [],
   "source": [
    "print(get_text(0, Y, score_mat, K=10))"
   ]
  },
  {
   "cell_type": "code",
   "execution_count": null,
   "metadata": {
    "ExecuteTime": {
     "end_time": "2022-04-04T23:45:57.420251Z",
     "start_time": "2022-04-04T23:45:57.420241Z"
    }
   },
   "outputs": [],
   "source": [
    "net.w1.weight"
   ]
  },
  {
   "cell_type": "code",
   "execution_count": null,
   "metadata": {
    "ExecuteTime": {
     "end_time": "2022-04-04T23:45:57.421031Z",
     "start_time": "2022-04-04T23:45:57.421020Z"
    }
   },
   "outputs": [],
   "source": [
    "net.C"
   ]
  },
  {
   "cell_type": "code",
   "execution_count": null,
   "metadata": {
    "ExecuteTime": {
     "end_time": "2022-04-04T23:45:57.421664Z",
     "start_time": "2022-04-04T23:45:57.421654Z"
    }
   },
   "outputs": [],
   "source": [
    "out = net(b)"
   ]
  },
  {
   "cell_type": "code",
   "execution_count": null,
   "metadata": {
    "ExecuteTime": {
     "end_time": "2022-04-04T23:45:57.422233Z",
     "start_time": "2022-04-04T23:45:57.422224Z"
    }
   },
   "outputs": [],
   "source": [
    "out.max(dim=1)"
   ]
  },
  {
   "cell_type": "code",
   "execution_count": null,
   "metadata": {
    "ExecuteTime": {
     "end_time": "2022-04-04T23:45:57.423113Z",
     "start_time": "2022-04-04T23:45:57.423103Z"
    }
   },
   "outputs": [],
   "source": [
    "from torchviz import make_dot"
   ]
  },
  {
   "cell_type": "code",
   "execution_count": null,
   "metadata": {
    "ExecuteTime": {
     "end_time": "2022-04-04T23:45:57.423824Z",
     "start_time": "2022-04-04T23:45:57.423809Z"
    }
   },
   "outputs": [],
   "source": [
    "loss = criterion(net, b)"
   ]
  },
  {
   "cell_type": "code",
   "execution_count": null,
   "metadata": {
    "ExecuteTime": {
     "end_time": "2022-04-04T23:45:57.424518Z",
     "start_time": "2022-04-04T23:45:57.424507Z"
    },
    "scrolled": true
   },
   "outputs": [],
   "source": [
    "make_dot(loss, params=dict(net.named_parameters()))"
   ]
  },
  {
   "cell_type": "code",
   "execution_count": null,
   "metadata": {
    "ExecuteTime": {
     "end_time": "2022-04-04T23:45:57.425255Z",
     "start_time": "2022-04-04T23:45:57.425244Z"
    }
   },
   "outputs": [],
   "source": [
    "import seaborn as sns"
   ]
  },
  {
   "cell_type": "code",
   "execution_count": null,
   "metadata": {
    "ExecuteTime": {
     "end_time": "2022-04-04T23:45:57.425953Z",
     "start_time": "2022-04-04T23:45:57.425942Z"
    }
   },
   "outputs": [],
   "source": [
    "net.to(args.device)\n",
    "net.parent = net.parent.to(args.device)\n",
    "net.cmat = net.cmat.to(args.device)"
   ]
  },
  {
   "cell_type": "code",
   "execution_count": null,
   "metadata": {
    "ExecuteTime": {
     "end_time": "2022-04-04T23:45:57.426566Z",
     "start_time": "2022-04-04T23:45:57.426556Z"
    },
    "scrolled": true
   },
   "outputs": [],
   "source": [
    "# net.beam = 80\n",
    "score_mat = net.predict(tst_loader)\n",
    "# if tst_filter_mat is not None: _filter(score_mat, tst_filter_mat, copy=False)\n",
    "# metrics = XCMetrics(score_mat, tst_X_Y, inv_prop, method=args.expname, disp=True)"
   ]
  },
  {
   "cell_type": "code",
   "execution_count": null,
   "metadata": {
    "ExecuteTime": {
     "end_time": "2022-04-04T23:45:57.427227Z",
     "start_time": "2022-04-04T23:45:57.427217Z"
    }
   },
   "outputs": [],
   "source": [
    "trn_score_mat = net.predict(trn_loader)\n",
    "\n",
    "XCMetrics(trn_score_mat, trn_X_Y, inv_prop)"
   ]
  },
  {
   "cell_type": "code",
   "execution_count": null,
   "metadata": {
    "ExecuteTime": {
     "end_time": "2022-04-04T23:45:57.427890Z",
     "start_time": "2022-04-04T23:45:57.427880Z"
    }
   },
   "outputs": [],
   "source": [
    "net.load_state_dict(torch.load('Results/Joint-XRL-ipynb/LF-AmazonTitles-131K/treenet-64x100-ipynb_ova-bce_tf-None-norm_xc-lr-0.0005_enc-lr-5e-05_bsz-512_ep-25/model.pt'))"
   ]
  },
  {
   "cell_type": "code",
   "execution_count": null,
   "metadata": {
    "ExecuteTime": {
     "end_time": "2022-04-04T23:45:57.428630Z",
     "start_time": "2022-04-04T23:45:57.428620Z"
    }
   },
   "outputs": [],
   "source": [
    "import time\n",
    "from torchviz import make_dot"
   ]
  },
  {
   "cell_type": "code",
   "execution_count": null,
   "metadata": {
    "ExecuteTime": {
     "end_time": "2022-04-04T23:45:57.429197Z",
     "start_time": "2022-04-04T23:45:57.429187Z"
    }
   },
   "outputs": [],
   "source": [
    "net.ova = True"
   ]
  },
  {
   "cell_type": "code",
   "execution_count": null,
   "metadata": {
    "ExecuteTime": {
     "end_time": "2022-04-04T23:45:57.429889Z",
     "start_time": "2022-04-04T23:45:57.429879Z"
    },
    "scrolled": true
   },
   "outputs": [],
   "source": [
    "net.train()\n",
    "start = time.time()\n",
    "for b in tqdm(trn_loader):\n",
    "    b = net.ToD(b)\n",
    "    out = net(b)\n",
    "#     out1, out, shorty = net(b)\n",
    "\n",
    "    yfull = torch.zeros((out.shape[0], net.numy+1), device=out.device).scatter_(1, b['y']['inds'], 1)\n",
    "    yfull[:, -1] = 0.0\n",
    "#     cluster_targets = torch.zeros((out.shape[0], net.cmat.shape[0]), device=out.device).scatter_(1, net.parent[b['y']['inds']], 1)\n",
    "#     cluster_targets[:, -1] = 0.0\n",
    "\n",
    "#     targets  = torch.gather(yfull, 1, shorty)\n",
    "# #     loss = criterion.criterion(out, targets) + criterion.alpha*criterion.criterion(out1, cluster_targets)\n",
    "    loss = criterion.criterion(out, yfull)\n",
    "    loss.backward()\n",
    "#     del b, out, out1, yfull, targets, cluster_targets\n",
    "end = time.time()\n",
    "print(f'Time: {\"%.2f\"%(end-start)}s')"
   ]
  },
  {
   "cell_type": "code",
   "execution_count": null,
   "metadata": {
    "ExecuteTime": {
     "end_time": "2022-04-04T23:45:57.430877Z",
     "start_time": "2022-04-04T23:45:57.430866Z"
    }
   },
   "outputs": [],
   "source": [
    "out1, out, shorty = net(b)\n",
    "\n",
    "yfull = torch.zeros((out.shape[0], net.numy+1), device=out.device).scatter_(1, b['y']['inds'], 1)\n",
    "yfull[:, -1] = 0.0\n",
    "cluster_targets = torch.zeros((out.shape[0], net.cmat.shape[0]), device=out.device).scatter_(1, net.parent[b['y']['inds']], 1)\n",
    "cluster_targets[:, -1] = 0.0\n",
    "\n",
    "targets  = torch.gather(yfull, 1, shorty)\n",
    "loss = criterion.criterion(out, targets) + criterion.alpha*criterion.criterion(out1, cluster_targets)"
   ]
  },
  {
   "cell_type": "code",
   "execution_count": null,
   "metadata": {
    "ExecuteTime": {
     "end_time": "2022-04-04T23:45:57.431583Z",
     "start_time": "2022-04-04T23:45:57.431572Z"
    }
   },
   "outputs": [],
   "source": [
    "%timeit out1, out, shorty = net(b)"
   ]
  },
  {
   "cell_type": "code",
   "execution_count": null,
   "metadata": {
    "ExecuteTime": {
     "end_time": "2022-04-04T23:45:57.432282Z",
     "start_time": "2022-04-04T23:45:57.432271Z"
    },
    "scrolled": true
   },
   "outputs": [],
   "source": [
    "make_dot(loss, params=dict(net.named_parameters()))"
   ]
  },
  {
   "cell_type": "code",
   "execution_count": null,
   "metadata": {
    "ExecuteTime": {
     "end_time": "2022-04-04T23:45:57.432846Z",
     "start_time": "2022-04-04T23:45:57.432836Z"
    },
    "scrolled": true
   },
   "outputs": [],
   "source": [
    "make_dot(loss, params=dict(net.named_parameters()))"
   ]
  },
  {
   "cell_type": "code",
   "execution_count": null,
   "metadata": {
    "ExecuteTime": {
     "end_time": "2022-04-04T23:45:57.433568Z",
     "start_time": "2022-04-04T23:45:57.433559Z"
    },
    "scrolled": true
   },
   "outputs": [],
   "source": [
    "net.train()\n",
    "K = 0\n",
    "start = time.time()\n",
    "with torch.no_grad():\n",
    "    for b in tqdm(trn_loader):\n",
    "        b = net.ToD(b)\n",
    "        embs = net.encode(b)\n",
    "        K = max(net.beam, K)\n",
    "\n",
    "        if net.ova:\n",
    "            out1 = net.w1(embs) if net.loss_with_logits else torch.sigmoid(net.w1(embs))\n",
    "            out2 = net.w2(embs) if net.loss_with_logits else torch.sigmoid(net.w2(embs))\n",
    "            out1_expand = torch.zeros_like(out2)\n",
    "            out1_expand[:, net.cmat_col] = out1[:, net.cmat_row]\n",
    "            out = out1_expand * out2\n",
    "            continue\n",
    "\n",
    "        out1 = net.w1(embs) if net.loss_with_logits else torch.sigmoid(net.w1(embs))\n",
    "        _, out1_topk_inds = torch.topk(out1, K, dim=1)\n",
    "        shorty = net.cmat[out1_topk_inds.reshape(-1)].reshape(embs.shape[0], -1)\n",
    "        if net.training:\n",
    "            shorty = torch.hstack((shorty, b['y']['inds']))\n",
    "            shorty = dedup_tensor(shorty, replace_val=net.numy)\n",
    "#             shorty = torch.nn.utils.rnn.pad_sequence([s.unique() for s in shorty], padding_value=net.numy, batch_first=True)\n",
    "\n",
    "#         w2_weight_reshaped = net.w2.weight[shorty.reshape(-1)].reshape(embs.shape[0], -1, embs.shape[1]).permute(0, 2, 1)\n",
    "        w2_weight_reshaped = F.embedding(shorty, net.w2.weight, sparse=True).permute(0, 2, 1)\n",
    "        w2_bias_reshaped = net.w2.bias[shorty]\n",
    "        out2_shorty = torch.bmm(embs.unsqueeze(1), w2_weight_reshaped).squeeze() + w2_bias_reshaped\n",
    "        del w2_weight_reshaped, w2_bias_reshaped\n",
    "\n",
    "        out2_shorty = out2_shorty if net.loss_with_logits else torch.sigmoid(out2_shorty)\n",
    "\n",
    "        out1_shorty = out1.gather(1, net.parent[shorty])\n",
    "        out = (out2_shorty + out1_shorty) if net.loss_with_logits else (out2_shorty * out1_shorty)\n",
    "        del out1_topk_inds, out2_shorty, out1_shorty\n",
    "\n",
    "    #     return (out1, out, shorty) if net.training else (out, shorty)\n",
    "end = time.time()\n",
    "print(f'Time: {\"%.2f\"%(end-start)}s')"
   ]
  },
  {
   "cell_type": "code",
   "execution_count": null,
   "metadata": {
    "ExecuteTime": {
     "end_time": "2022-04-04T23:45:57.434230Z",
     "start_time": "2022-04-04T23:45:57.434221Z"
    },
    "scrolled": true
   },
   "outputs": [],
   "source": [
    "F.embedding(shorty, net.w2.weight, sparse=True)"
   ]
  },
  {
   "cell_type": "code",
   "execution_count": null,
   "metadata": {
    "ExecuteTime": {
     "end_time": "2022-04-04T23:45:57.434991Z",
     "start_time": "2022-04-04T23:45:57.434981Z"
    }
   },
   "outputs": [],
   "source": [
    "A = F.normalize(embs[0], dim=1)\n",
    "B = F.normalize(tf_output['last_hidden_state'][0], dim=1)"
   ]
  },
  {
   "cell_type": "code",
   "execution_count": null,
   "metadata": {
    "ExecuteTime": {
     "end_time": "2022-04-04T23:45:57.435556Z",
     "start_time": "2022-04-04T23:45:57.435546Z"
    },
    "scrolled": true
   },
   "outputs": [],
   "source": [
    "torch.mm(B, B.T)"
   ]
  },
  {
   "cell_type": "code",
   "execution_count": null,
   "metadata": {
    "ExecuteTime": {
     "end_time": "2022-04-04T23:45:57.436453Z",
     "start_time": "2022-04-04T23:45:57.436442Z"
    },
    "scrolled": true
   },
   "outputs": [],
   "source": [
    "F.normalize(logits[0], dim=1)"
   ]
  },
  {
   "cell_type": "code",
   "execution_count": null,
   "metadata": {
    "ExecuteTime": {
     "end_time": "2022-04-04T23:45:57.437107Z",
     "start_time": "2022-04-04T23:45:57.437097Z"
    }
   },
   "outputs": [],
   "source": [
    "A = tf_output['last_hidden_state'][0].shape"
   ]
  },
  {
   "cell_type": "code",
   "execution_count": null,
   "metadata": {
    "ExecuteTime": {
     "end_time": "2022-04-04T23:45:57.437838Z",
     "start_time": "2022-04-04T23:45:57.437827Z"
    }
   },
   "outputs": [],
   "source": [
    "logits[0]"
   ]
  },
  {
   "cell_type": "code",
   "execution_count": null,
   "metadata": {
    "ExecuteTime": {
     "end_time": "2022-04-04T23:45:57.438486Z",
     "start_time": "2022-04-04T23:45:57.438477Z"
    }
   },
   "outputs": [],
   "source": [
    "net.encoder.transformer.embeddings.word_embeddings.weight[[101, -4, -3, -2, -1]]"
   ]
  },
  {
   "cell_type": "markdown",
   "metadata": {},
   "source": [
    "### Scratch"
   ]
  }
 ],
 "metadata": {
  "kernelspec": {
   "display_name": "Python 3 (ipykernel)",
   "language": "python",
   "name": "python3"
  },
  "language_info": {
   "codemirror_mode": {
    "name": "ipython",
    "version": 3
   },
   "file_extension": ".py",
   "mimetype": "text/x-python",
   "name": "python",
   "nbconvert_exporter": "python",
   "pygments_lexer": "ipython3",
   "version": "3.9.12"
  },
  "latex_envs": {
   "LaTeX_envs_menu_present": true,
   "autoclose": false,
   "autocomplete": true,
   "bibliofile": "biblio.bib",
   "cite_by": "apalike",
   "current_citInitial": 1,
   "eqLabelWithNumbers": true,
   "eqNumInitial": 1,
   "hotkeys": {
    "equation": "Ctrl-E",
    "itemize": "Ctrl-I"
   },
   "labels_anchors": false,
   "latex_user_defs": false,
   "report_style_numbering": false,
   "user_envs_cfg": false
  }
 },
 "nbformat": 4,
 "nbformat_minor": 4
}
